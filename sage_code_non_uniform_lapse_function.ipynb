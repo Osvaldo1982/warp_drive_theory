{
 "cells": [
  {
   "cell_type": "markdown",
   "metadata": {},
   "source": [
    "# Code that defines the problem"
   ]
  },
  {
   "cell_type": "code",
   "execution_count": 1,
   "metadata": {},
   "outputs": [],
   "source": [
    "%display latex\n",
    "# Defining a Lorentzian manifold\n",
    "M = Manifold(4, 'M', structure='Lorentzian')\n",
    "# Defining the chart\n",
    "X.<t,x,y,z> = M.chart(r\"t x:(-oo,+oo) y:(-oo,+oo) z:(-oo,+oo)\");\n",
    "# Defining shift vector as a function of spacetime coordinates\n",
    "shiftx = function('shiftx', latex_name = \"\\\\beta_x\", nargs=4)(t,x,y,z)\n",
    "shifty = function('shifty', latex_name = \"\\\\beta_y\", nargs=4)(t,x,y,z)\n",
    "shiftz = function('shiftz', latex_name = \"\\\\beta_z\", nargs=4)(t,x,y,z)\n",
    "# Defining the alpha lapse function as a function of spacetime coordinates\n",
    "alpha = function('alpha', latex_name = \"\\\\alpha\", nargs=4)(t,x,y,z)\n",
    "#alpha = var('alpha',latex_name = \"\\\\alpha\")\n",
    "#\n",
    "l = function('L',latex_name= \"L\", nargs=2)(y,z)\n",
    "#\n",
    "h = function('H',latex_name= \"H\", nargs=2)(y,z)\n",
    "#\n",
    "n = function('N',latex_name= \"N\", nargs=2)(y,z)\n",
    "#\n",
    "cosmo = var('cosmo',latex_name=\"\\\\Lambda\")\n",
    "# Defining function with alias a, as function of spacetime coordinates\n",
    "a = function('a',latex_name= \"A\", nargs=4)(t,x,y,z)\n",
    "# Defining function with alias b, as function of spacetime coordinates\n",
    "b = function('b',latex_name= \"B\", nargs=4)(t,x,y,z)\n",
    "# Defining function with alias c, as function of spacetime coordinates\n",
    "c = function('c',latex_name= \"C\", nargs=4)(t,x,y,z)\n",
    "# Defining function with alias d, as function of spacetime coordinates\n",
    "d = function('d',latex_name= \"D\", nargs=4)(t,x,y,z)\n",
    "# Defining pressure as function of spacetime coordinates\n",
    "p = function('p',latex_name= \"p\", nargs=4)(t,x,y,z)\n",
    "# Defining matter density as function of spacetime coordinates\n",
    "mu = function('mu',latex_name= \"\\\\mu\", nargs=4)(t,x,y,z)\n",
    "# Defining density rho as function of spacetime coordinates\n",
    "rho = function('rho',latex_name=\"\\\\rho\")(t,x,y,z)\n",
    "# Defining variable named sigma\n",
    "sigma = var('sigma',latex_name=\"\\\\sigma\")\n",
    "R = var('R',latex_name=\"R\")\n",
    "#\n",
    "xs = function('xs',latex_name = \"x_s\")(t)\n",
    "rs = function('rs',latex_name = \"r_s\")(xs,x,y,z)\n",
    "rs = sqrt((x-xs)^2+y^2+z^2)\n",
    "vs = function('vs',latex_name=\"v_s\")(t)\n",
    "#\n",
    "fs = function('fs',latex_name=\"f(r_s)\")(rs)\n",
    "fs = (tanh(sigma(rs+R)) - tanh(sigma(rs-R)))/(2*sigma)\n",
    "# Defining the metric tensor components\n",
    "g = M.metric()\n",
    "g.set_name('g')\n",
    "# g = M.tensor_field(2,0, name='T');\n",
    "g[0,0] =  -1 + shiftx**2 \n",
    "g[1,1] = 1\n",
    "g[2,2] = 1\n",
    "g[3,3] = 1 \n",
    "g[0,1] = shiftx\n",
    "g[1,0] = shiftx\n",
    "# g[0,2] = shifty\n",
    "# g[2,0] = shifty\n",
    "# g[0,3] = shiftz\n",
    "# g[3,0] = shiftz\n",
    "# Defining the inverse metric\n",
    "gg = g.up(g)\n",
    "gg.set_name('g')\n",
    "# Defining the 4-velocity as a vector field\n",
    "u = M.vector_field('u')\n",
    "u[0] = 1\n",
    "u[1] = shiftx\n",
    "u[2] = 0\n",
    "u[3] = 0\n",
    "# Defining the covariant 4-velocity\n",
    "u_form = u.down(g)\n",
    "u_form.set_name('u')\n",
    "# Defining the energy momentum tensor\n",
    "t_dust_pf = M.tensor_field(0,2, name='T');\n",
    "t_dust_pf = (p + rho)*(u_form * u_form) + p*g\n",
    "t_dust_pf.set_name('T')"
   ]
  },
  {
   "cell_type": "raw",
   "metadata": {},
   "source": [
    "GG = G.up(g)\n",
    "print(GG.tensor_type())\n",
    "GG.display_comp()\n",
    "t2 = G.contract(1, gg,1)\n",
    "t2 = t2.contract(1, gg,1)\n",
    "print(t2.tensor_type())\n",
    "t2.display_comp()"
   ]
  },
  {
   "cell_type": "markdown",
   "metadata": {},
   "source": [
    "# Tensor components and calculations"
   ]
  },
  {
   "cell_type": "markdown",
   "metadata": {},
   "source": [
    "## Metric tensor components (covariant)\n",
    "\n",
    "\\begin{equation*}\n",
    "g_{\\alpha \\sigma} = \n",
    "\\begin{pmatrix}\n",
    "g_{00} & g_{01} & g_{02} & g_{03} \\\\\n",
    "g_{10} & g_{11} & g_{12} & g_{13} \\\\\n",
    "g_{20} & g_{21} & g_{22} & g_{23}  \\\\\n",
    "g_{30} & g_{31} & g_{32} & g_{33} \n",
    "\\end{pmatrix} =\n",
    "\\begin{pmatrix}\n",
    "\\beta^2-1 & -\\beta & 0 & 0 \\\\\n",
    "-\\beta    & 1      & 0 & 0 \\\\\n",
    "0         & 0      & 1 & 0  \\\\\n",
    "0         & 0      & 0 & 1 \n",
    "\\end{pmatrix}\n",
    "\\end{equation*}"
   ]
  },
  {
   "cell_type": "code",
   "execution_count": 2,
   "metadata": {},
   "outputs": [
    {
     "name": "stdout",
     "output_type": "stream",
     "text": [
      "Lorentzian metric g on the 4-dimensional Lorentzian manifold M\n",
      "(0, 2)\n"
     ]
    },
    {
     "data": {
      "text/html": [
       "<html><script type=\"math/tex; mode=display\">\\newcommand{\\Bold}[1]{\\mathbf{#1}}\\begin{array}{lcl} g_{ \\, t \\, t }^{ \\phantom{\\, t}\\phantom{\\, t} } & = & \\beta_x\\left(t, x, y, z\\right)^{2} - 1 \\\\ g_{ \\, t \\, x }^{ \\phantom{\\, t}\\phantom{\\, x} } & = & \\beta_x\\left(t, x, y, z\\right) \\\\ g_{ \\, x \\, t }^{ \\phantom{\\, x}\\phantom{\\, t} } & = & \\beta_x\\left(t, x, y, z\\right) \\\\ g_{ \\, x \\, x }^{ \\phantom{\\, x}\\phantom{\\, x} } & = & 1 \\\\ g_{ \\, y \\, y }^{ \\phantom{\\, y}\\phantom{\\, y} } & = & 1 \\\\ g_{ \\, z \\, z }^{ \\phantom{\\, z}\\phantom{\\, z} } & = & 1 \\end{array}</script></html>"
      ],
      "text/latex": [
       "$$\\newcommand{\\Bold}[1]{\\mathbf{#1}}\\begin{array}{lcl} g_{ \\, t \\, t }^{ \\phantom{\\, t}\\phantom{\\, t} } & = & \\beta_x\\left(t, x, y, z\\right)^{2} - 1 \\\\ g_{ \\, t \\, x }^{ \\phantom{\\, t}\\phantom{\\, x} } & = & \\beta_x\\left(t, x, y, z\\right) \\\\ g_{ \\, x \\, t }^{ \\phantom{\\, x}\\phantom{\\, t} } & = & \\beta_x\\left(t, x, y, z\\right) \\\\ g_{ \\, x \\, x }^{ \\phantom{\\, x}\\phantom{\\, x} } & = & 1 \\\\ g_{ \\, y \\, y }^{ \\phantom{\\, y}\\phantom{\\, y} } & = & 1 \\\\ g_{ \\, z \\, z }^{ \\phantom{\\, z}\\phantom{\\, z} } & = & 1 \\end{array}$$"
      ],
      "text/plain": [
       "g_tt = shiftx(t, x, y, z)^2 - 1 \n",
       "g_tx = shiftx(t, x, y, z) \n",
       "g_xt = shiftx(t, x, y, z) \n",
       "g_xx = 1 \n",
       "g_yy = 1 \n",
       "g_zz = 1 "
      ]
     },
     "execution_count": 2,
     "metadata": {},
     "output_type": "execute_result"
    }
   ],
   "source": [
    "print(g)\n",
    "print(g.tensor_type())\n",
    "g.display_comp()"
   ]
  },
  {
   "cell_type": "markdown",
   "metadata": {},
   "source": [
    "## Metric tensor components (contravariant)"
   ]
  },
  {
   "cell_type": "code",
   "execution_count": 3,
   "metadata": {},
   "outputs": [
    {
     "name": "stdout",
     "output_type": "stream",
     "text": [
      "Tensor field g of type (2,0) on the 4-dimensional Lorentzian manifold M\n"
     ]
    },
    {
     "data": {
      "text/html": [
       "<html><script type=\"math/tex; mode=display\">\\newcommand{\\Bold}[1]{\\mathbf{#1}}\\begin{array}{lcl} g_{\\phantom{\\, t}\\phantom{\\, t}}^{ \\, t \\, t } & = & -1 \\\\ g_{\\phantom{\\, t}\\phantom{\\, x}}^{ \\, t \\, x } & = & \\beta_x\\left(t, x, y, z\\right) \\\\ g_{\\phantom{\\, x}\\phantom{\\, t}}^{ \\, x \\, t } & = & \\beta_x\\left(t, x, y, z\\right) \\\\ g_{\\phantom{\\, x}\\phantom{\\, x}}^{ \\, x \\, x } & = & -\\beta_x\\left(t, x, y, z\\right)^{2} + 1 \\\\ g_{\\phantom{\\, y}\\phantom{\\, y}}^{ \\, y \\, y } & = & 1 \\\\ g_{\\phantom{\\, z}\\phantom{\\, z}}^{ \\, z \\, z } & = & 1 \\end{array}</script></html>"
      ],
      "text/latex": [
       "$$\\newcommand{\\Bold}[1]{\\mathbf{#1}}\\begin{array}{lcl} g_{\\phantom{\\, t}\\phantom{\\, t}}^{ \\, t \\, t } & = & -1 \\\\ g_{\\phantom{\\, t}\\phantom{\\, x}}^{ \\, t \\, x } & = & \\beta_x\\left(t, x, y, z\\right) \\\\ g_{\\phantom{\\, x}\\phantom{\\, t}}^{ \\, x \\, t } & = & \\beta_x\\left(t, x, y, z\\right) \\\\ g_{\\phantom{\\, x}\\phantom{\\, x}}^{ \\, x \\, x } & = & -\\beta_x\\left(t, x, y, z\\right)^{2} + 1 \\\\ g_{\\phantom{\\, y}\\phantom{\\, y}}^{ \\, y \\, y } & = & 1 \\\\ g_{\\phantom{\\, z}\\phantom{\\, z}}^{ \\, z \\, z } & = & 1 \\end{array}$$"
      ],
      "text/plain": [
       "g^tt = -1 \n",
       "g^tx = shiftx(t, x, y, z) \n",
       "g^xt = shiftx(t, x, y, z) \n",
       "g^xx = -shiftx(t, x, y, z)^2 + 1 \n",
       "g^yy = 1 \n",
       "g^zz = 1 "
      ]
     },
     "execution_count": 3,
     "metadata": {},
     "output_type": "execute_result"
    }
   ],
   "source": [
    "print(gg)\n",
    "gg.display_comp()"
   ]
  },
  {
   "cell_type": "markdown",
   "metadata": {},
   "source": [
    "## Christoffel Symbols"
   ]
  },
  {
   "cell_type": "code",
   "execution_count": 4,
   "metadata": {},
   "outputs": [
    {
     "data": {
      "text/html": [
       "<html><script type=\"math/tex; mode=display\">\\newcommand{\\Bold}[1]{\\mathbf{#1}}\\begin{array}{lcl} \\Gamma_{ \\phantom{\\, t} \\, t \\, t }^{ \\, t \\phantom{\\, t} \\phantom{\\, t} } & = & -\\beta_x\\left(t, x, y, z\\right)^{2} \\frac{\\partial\\,\\beta_x}{\\partial x} \\\\ \\Gamma_{ \\phantom{\\, t} \\, t \\, x }^{ \\, t \\phantom{\\, t} \\phantom{\\, x} } & = & -\\beta_x\\left(t, x, y, z\\right) \\frac{\\partial\\,\\beta_x}{\\partial x} \\\\ \\Gamma_{ \\phantom{\\, t} \\, t \\, y }^{ \\, t \\phantom{\\, t} \\phantom{\\, y} } & = & -\\frac{1}{2} \\, \\beta_x\\left(t, x, y, z\\right) \\frac{\\partial\\,\\beta_x}{\\partial y} \\\\ \\Gamma_{ \\phantom{\\, t} \\, t \\, z }^{ \\, t \\phantom{\\, t} \\phantom{\\, z} } & = & -\\frac{1}{2} \\, \\beta_x\\left(t, x, y, z\\right) \\frac{\\partial\\,\\beta_x}{\\partial z} \\\\ \\Gamma_{ \\phantom{\\, t} \\, x \\, x }^{ \\, t \\phantom{\\, x} \\phantom{\\, x} } & = & -\\frac{\\partial\\,\\beta_x}{\\partial x} \\\\ \\Gamma_{ \\phantom{\\, t} \\, x \\, y }^{ \\, t \\phantom{\\, x} \\phantom{\\, y} } & = & -\\frac{1}{2} \\, \\frac{\\partial\\,\\beta_x}{\\partial y} \\\\ \\Gamma_{ \\phantom{\\, t} \\, x \\, z }^{ \\, t \\phantom{\\, x} \\phantom{\\, z} } & = & -\\frac{1}{2} \\, \\frac{\\partial\\,\\beta_x}{\\partial z} \\\\ \\Gamma_{ \\phantom{\\, x} \\, t \\, t }^{ \\, x \\phantom{\\, t} \\phantom{\\, t} } & = & {\\left(\\beta_x\\left(t, x, y, z\\right)^{3} - \\beta_x\\left(t, x, y, z\\right)\\right)} \\frac{\\partial\\,\\beta_x}{\\partial x} + \\frac{\\partial\\,\\beta_x}{\\partial t} \\\\ \\Gamma_{ \\phantom{\\, x} \\, t \\, x }^{ \\, x \\phantom{\\, t} \\phantom{\\, x} } & = & \\beta_x\\left(t, x, y, z\\right)^{2} \\frac{\\partial\\,\\beta_x}{\\partial x} \\\\ \\Gamma_{ \\phantom{\\, x} \\, t \\, y }^{ \\, x \\phantom{\\, t} \\phantom{\\, y} } & = & \\frac{1}{2} \\, {\\left(\\beta_x\\left(t, x, y, z\\right)^{2} + 1\\right)} \\frac{\\partial\\,\\beta_x}{\\partial y} \\\\ \\Gamma_{ \\phantom{\\, x} \\, t \\, z }^{ \\, x \\phantom{\\, t} \\phantom{\\, z} } & = & \\frac{1}{2} \\, {\\left(\\beta_x\\left(t, x, y, z\\right)^{2} + 1\\right)} \\frac{\\partial\\,\\beta_x}{\\partial z} \\\\ \\Gamma_{ \\phantom{\\, x} \\, x \\, x }^{ \\, x \\phantom{\\, x} \\phantom{\\, x} } & = & \\beta_x\\left(t, x, y, z\\right) \\frac{\\partial\\,\\beta_x}{\\partial x} \\\\ \\Gamma_{ \\phantom{\\, x} \\, x \\, y }^{ \\, x \\phantom{\\, x} \\phantom{\\, y} } & = & \\frac{1}{2} \\, \\beta_x\\left(t, x, y, z\\right) \\frac{\\partial\\,\\beta_x}{\\partial y} \\\\ \\Gamma_{ \\phantom{\\, x} \\, x \\, z }^{ \\, x \\phantom{\\, x} \\phantom{\\, z} } & = & \\frac{1}{2} \\, \\beta_x\\left(t, x, y, z\\right) \\frac{\\partial\\,\\beta_x}{\\partial z} \\\\ \\Gamma_{ \\phantom{\\, y} \\, t \\, t }^{ \\, y \\phantom{\\, t} \\phantom{\\, t} } & = & -\\beta_x\\left(t, x, y, z\\right) \\frac{\\partial\\,\\beta_x}{\\partial y} \\\\ \\Gamma_{ \\phantom{\\, y} \\, t \\, x }^{ \\, y \\phantom{\\, t} \\phantom{\\, x} } & = & -\\frac{1}{2} \\, \\frac{\\partial\\,\\beta_x}{\\partial y} \\\\ \\Gamma_{ \\phantom{\\, z} \\, t \\, t }^{ \\, z \\phantom{\\, t} \\phantom{\\, t} } & = & -\\beta_x\\left(t, x, y, z\\right) \\frac{\\partial\\,\\beta_x}{\\partial z} \\\\ \\Gamma_{ \\phantom{\\, z} \\, t \\, x }^{ \\, z \\phantom{\\, t} \\phantom{\\, x} } & = & -\\frac{1}{2} \\, \\frac{\\partial\\,\\beta_x}{\\partial z} \\end{array}</script></html>"
      ],
      "text/latex": [
       "$$\\newcommand{\\Bold}[1]{\\mathbf{#1}}\\begin{array}{lcl} \\Gamma_{ \\phantom{\\, t} \\, t \\, t }^{ \\, t \\phantom{\\, t} \\phantom{\\, t} } & = & -\\beta_x\\left(t, x, y, z\\right)^{2} \\frac{\\partial\\,\\beta_x}{\\partial x} \\\\ \\Gamma_{ \\phantom{\\, t} \\, t \\, x }^{ \\, t \\phantom{\\, t} \\phantom{\\, x} } & = & -\\beta_x\\left(t, x, y, z\\right) \\frac{\\partial\\,\\beta_x}{\\partial x} \\\\ \\Gamma_{ \\phantom{\\, t} \\, t \\, y }^{ \\, t \\phantom{\\, t} \\phantom{\\, y} } & = & -\\frac{1}{2} \\, \\beta_x\\left(t, x, y, z\\right) \\frac{\\partial\\,\\beta_x}{\\partial y} \\\\ \\Gamma_{ \\phantom{\\, t} \\, t \\, z }^{ \\, t \\phantom{\\, t} \\phantom{\\, z} } & = & -\\frac{1}{2} \\, \\beta_x\\left(t, x, y, z\\right) \\frac{\\partial\\,\\beta_x}{\\partial z} \\\\ \\Gamma_{ \\phantom{\\, t} \\, x \\, x }^{ \\, t \\phantom{\\, x} \\phantom{\\, x} } & = & -\\frac{\\partial\\,\\beta_x}{\\partial x} \\\\ \\Gamma_{ \\phantom{\\, t} \\, x \\, y }^{ \\, t \\phantom{\\, x} \\phantom{\\, y} } & = & -\\frac{1}{2} \\, \\frac{\\partial\\,\\beta_x}{\\partial y} \\\\ \\Gamma_{ \\phantom{\\, t} \\, x \\, z }^{ \\, t \\phantom{\\, x} \\phantom{\\, z} } & = & -\\frac{1}{2} \\, \\frac{\\partial\\,\\beta_x}{\\partial z} \\\\ \\Gamma_{ \\phantom{\\, x} \\, t \\, t }^{ \\, x \\phantom{\\, t} \\phantom{\\, t} } & = & {\\left(\\beta_x\\left(t, x, y, z\\right)^{3} - \\beta_x\\left(t, x, y, z\\right)\\right)} \\frac{\\partial\\,\\beta_x}{\\partial x} + \\frac{\\partial\\,\\beta_x}{\\partial t} \\\\ \\Gamma_{ \\phantom{\\, x} \\, t \\, x }^{ \\, x \\phantom{\\, t} \\phantom{\\, x} } & = & \\beta_x\\left(t, x, y, z\\right)^{2} \\frac{\\partial\\,\\beta_x}{\\partial x} \\\\ \\Gamma_{ \\phantom{\\, x} \\, t \\, y }^{ \\, x \\phantom{\\, t} \\phantom{\\, y} } & = & \\frac{1}{2} \\, {\\left(\\beta_x\\left(t, x, y, z\\right)^{2} + 1\\right)} \\frac{\\partial\\,\\beta_x}{\\partial y} \\\\ \\Gamma_{ \\phantom{\\, x} \\, t \\, z }^{ \\, x \\phantom{\\, t} \\phantom{\\, z} } & = & \\frac{1}{2} \\, {\\left(\\beta_x\\left(t, x, y, z\\right)^{2} + 1\\right)} \\frac{\\partial\\,\\beta_x}{\\partial z} \\\\ \\Gamma_{ \\phantom{\\, x} \\, x \\, x }^{ \\, x \\phantom{\\, x} \\phantom{\\, x} } & = & \\beta_x\\left(t, x, y, z\\right) \\frac{\\partial\\,\\beta_x}{\\partial x} \\\\ \\Gamma_{ \\phantom{\\, x} \\, x \\, y }^{ \\, x \\phantom{\\, x} \\phantom{\\, y} } & = & \\frac{1}{2} \\, \\beta_x\\left(t, x, y, z\\right) \\frac{\\partial\\,\\beta_x}{\\partial y} \\\\ \\Gamma_{ \\phantom{\\, x} \\, x \\, z }^{ \\, x \\phantom{\\, x} \\phantom{\\, z} } & = & \\frac{1}{2} \\, \\beta_x\\left(t, x, y, z\\right) \\frac{\\partial\\,\\beta_x}{\\partial z} \\\\ \\Gamma_{ \\phantom{\\, y} \\, t \\, t }^{ \\, y \\phantom{\\, t} \\phantom{\\, t} } & = & -\\beta_x\\left(t, x, y, z\\right) \\frac{\\partial\\,\\beta_x}{\\partial y} \\\\ \\Gamma_{ \\phantom{\\, y} \\, t \\, x }^{ \\, y \\phantom{\\, t} \\phantom{\\, x} } & = & -\\frac{1}{2} \\, \\frac{\\partial\\,\\beta_x}{\\partial y} \\\\ \\Gamma_{ \\phantom{\\, z} \\, t \\, t }^{ \\, z \\phantom{\\, t} \\phantom{\\, t} } & = & -\\beta_x\\left(t, x, y, z\\right) \\frac{\\partial\\,\\beta_x}{\\partial z} \\\\ \\Gamma_{ \\phantom{\\, z} \\, t \\, x }^{ \\, z \\phantom{\\, t} \\phantom{\\, x} } & = & -\\frac{1}{2} \\, \\frac{\\partial\\,\\beta_x}{\\partial z} \\end{array}$$"
      ],
      "text/plain": [
       "Gam^t_tt = -shiftx(t, x, y, z)^2*d(shiftx)/dx \n",
       "Gam^t_tx = -shiftx(t, x, y, z)*d(shiftx)/dx \n",
       "Gam^t_ty = -1/2*shiftx(t, x, y, z)*d(shiftx)/dy \n",
       "Gam^t_tz = -1/2*shiftx(t, x, y, z)*d(shiftx)/dz \n",
       "Gam^t_xx = -d(shiftx)/dx \n",
       "Gam^t_xy = -1/2*d(shiftx)/dy \n",
       "Gam^t_xz = -1/2*d(shiftx)/dz \n",
       "Gam^x_tt = (shiftx(t, x, y, z)^3 - shiftx(t, x, y, z))*d(shiftx)/dx + d(shiftx)/dt \n",
       "Gam^x_tx = shiftx(t, x, y, z)^2*d(shiftx)/dx \n",
       "Gam^x_ty = 1/2*(shiftx(t, x, y, z)^2 + 1)*d(shiftx)/dy \n",
       "Gam^x_tz = 1/2*(shiftx(t, x, y, z)^2 + 1)*d(shiftx)/dz \n",
       "Gam^x_xx = shiftx(t, x, y, z)*d(shiftx)/dx \n",
       "Gam^x_xy = 1/2*shiftx(t, x, y, z)*d(shiftx)/dy \n",
       "Gam^x_xz = 1/2*shiftx(t, x, y, z)*d(shiftx)/dz \n",
       "Gam^y_tt = -shiftx(t, x, y, z)*d(shiftx)/dy \n",
       "Gam^y_tx = -1/2*d(shiftx)/dy \n",
       "Gam^z_tt = -shiftx(t, x, y, z)*d(shiftx)/dz \n",
       "Gam^z_tx = -1/2*d(shiftx)/dz "
      ]
     },
     "execution_count": 4,
     "metadata": {},
     "output_type": "execute_result"
    }
   ],
   "source": [
    "# Show Christoffel symbols\n",
    "g.christoffel_symbols_display()"
   ]
  },
  {
   "cell_type": "markdown",
   "metadata": {},
   "source": [
    "## Ricci tensor and Ricci scalar"
   ]
  },
  {
   "cell_type": "code",
   "execution_count": 5,
   "metadata": {},
   "outputs": [
    {
     "data": {
      "text/html": [
       "<html><script type=\"math/tex; mode=display\">\\newcommand{\\Bold}[1]{\\mathbf{#1}}\\begin{array}{lcl} \\mathrm{Ric}\\left(g\\right)_{ \\, t \\, t }^{ \\phantom{\\, t}\\phantom{\\, t} } & = & {\\left(\\beta_x\\left(t, x, y, z\\right)^{2} - 1\\right)} \\left(\\frac{\\partial\\,\\beta_x}{\\partial x}\\right)^{2} - \\frac{1}{2} \\, {\\left(\\beta_x\\left(t, x, y, z\\right)^{2} + 1\\right)} \\left(\\frac{\\partial\\,\\beta_x}{\\partial y}\\right)^{2} - \\frac{1}{2} \\, {\\left(\\beta_x\\left(t, x, y, z\\right)^{2} + 1\\right)} \\left(\\frac{\\partial\\,\\beta_x}{\\partial z}\\right)^{2} - {\\left(\\beta_x\\left(t, x, y, z\\right)^{2} - 1\\right)} \\frac{\\partial^2\\,\\beta_x}{\\partial t\\partial x} + {\\left(\\beta_x\\left(t, x, y, z\\right)^{3} - \\beta_x\\left(t, x, y, z\\right)\\right)} \\frac{\\partial^2\\,\\beta_x}{\\partial x ^ 2} - \\beta_x\\left(t, x, y, z\\right) \\frac{\\partial^2\\,\\beta_x}{\\partial y ^ 2} - \\beta_x\\left(t, x, y, z\\right) \\frac{\\partial^2\\,\\beta_x}{\\partial z ^ 2} \\\\ \\mathrm{Ric}\\left(g\\right)_{ \\, t \\, x }^{ \\phantom{\\, t}\\phantom{\\, x} } & = & \\beta_x\\left(t, x, y, z\\right) \\left(\\frac{\\partial\\,\\beta_x}{\\partial x}\\right)^{2} + \\beta_x\\left(t, x, y, z\\right)^{2} \\frac{\\partial^2\\,\\beta_x}{\\partial x ^ 2} - \\frac{1}{2} \\, \\beta_x\\left(t, x, y, z\\right) \\left(\\frac{\\partial\\,\\beta_x}{\\partial y}\\right)^{2} - \\frac{1}{2} \\, \\beta_x\\left(t, x, y, z\\right) \\left(\\frac{\\partial\\,\\beta_x}{\\partial z}\\right)^{2} - \\beta_x\\left(t, x, y, z\\right) \\frac{\\partial^2\\,\\beta_x}{\\partial t\\partial x} - \\frac{1}{2} \\, \\frac{\\partial^2\\,\\beta_x}{\\partial y ^ 2} - \\frac{1}{2} \\, \\frac{\\partial^2\\,\\beta_x}{\\partial z ^ 2} \\\\ \\mathrm{Ric}\\left(g\\right)_{ \\, t \\, y }^{ \\phantom{\\, t}\\phantom{\\, y} } & = & \\beta_x\\left(t, x, y, z\\right) \\frac{\\partial\\,\\beta_x}{\\partial x} \\frac{\\partial\\,\\beta_x}{\\partial y} - \\frac{1}{2} \\, \\beta_x\\left(t, x, y, z\\right) \\frac{\\partial^2\\,\\beta_x}{\\partial t\\partial y} + \\frac{1}{2} \\, {\\left(\\beta_x\\left(t, x, y, z\\right)^{2} + 1\\right)} \\frac{\\partial^2\\,\\beta_x}{\\partial x\\partial y} \\\\ \\mathrm{Ric}\\left(g\\right)_{ \\, t \\, z }^{ \\phantom{\\, t}\\phantom{\\, z} } & = & \\beta_x\\left(t, x, y, z\\right) \\frac{\\partial\\,\\beta_x}{\\partial x} \\frac{\\partial\\,\\beta_x}{\\partial z} - \\frac{1}{2} \\, \\beta_x\\left(t, x, y, z\\right) \\frac{\\partial^2\\,\\beta_x}{\\partial t\\partial z} + \\frac{1}{2} \\, {\\left(\\beta_x\\left(t, x, y, z\\right)^{2} + 1\\right)} \\frac{\\partial^2\\,\\beta_x}{\\partial x\\partial z} \\\\ \\mathrm{Ric}\\left(g\\right)_{ \\, x \\, x }^{ \\phantom{\\, x}\\phantom{\\, x} } & = & \\left(\\frac{\\partial\\,\\beta_x}{\\partial x}\\right)^{2} + \\beta_x\\left(t, x, y, z\\right) \\frac{\\partial^2\\,\\beta_x}{\\partial x ^ 2} - \\frac{1}{2} \\, \\left(\\frac{\\partial\\,\\beta_x}{\\partial y}\\right)^{2} - \\frac{1}{2} \\, \\left(\\frac{\\partial\\,\\beta_x}{\\partial z}\\right)^{2} - \\frac{\\partial^2\\,\\beta_x}{\\partial t\\partial x} \\\\ \\mathrm{Ric}\\left(g\\right)_{ \\, x \\, y }^{ \\phantom{\\, x}\\phantom{\\, y} } & = & \\frac{1}{2} \\, \\beta_x\\left(t, x, y, z\\right) \\frac{\\partial^2\\,\\beta_x}{\\partial x\\partial y} + \\frac{\\partial\\,\\beta_x}{\\partial x} \\frac{\\partial\\,\\beta_x}{\\partial y} - \\frac{1}{2} \\, \\frac{\\partial^2\\,\\beta_x}{\\partial t\\partial y} \\\\ \\mathrm{Ric}\\left(g\\right)_{ \\, x \\, z }^{ \\phantom{\\, x}\\phantom{\\, z} } & = & \\frac{1}{2} \\, \\beta_x\\left(t, x, y, z\\right) \\frac{\\partial^2\\,\\beta_x}{\\partial x\\partial z} + \\frac{\\partial\\,\\beta_x}{\\partial x} \\frac{\\partial\\,\\beta_x}{\\partial z} - \\frac{1}{2} \\, \\frac{\\partial^2\\,\\beta_x}{\\partial t\\partial z} \\\\ \\mathrm{Ric}\\left(g\\right)_{ \\, y \\, y }^{ \\phantom{\\, y}\\phantom{\\, y} } & = & \\frac{1}{2} \\, \\left(\\frac{\\partial\\,\\beta_x}{\\partial y}\\right)^{2} \\\\ \\mathrm{Ric}\\left(g\\right)_{ \\, y \\, z }^{ \\phantom{\\, y}\\phantom{\\, z} } & = & \\frac{1}{2} \\, \\frac{\\partial\\,\\beta_x}{\\partial y} \\frac{\\partial\\,\\beta_x}{\\partial z} \\\\ \\mathrm{Ric}\\left(g\\right)_{ \\, z \\, z }^{ \\phantom{\\, z}\\phantom{\\, z} } & = & \\frac{1}{2} \\, \\left(\\frac{\\partial\\,\\beta_x}{\\partial z}\\right)^{2} \\end{array}</script></html>"
      ],
      "text/latex": [
       "$$\\newcommand{\\Bold}[1]{\\mathbf{#1}}\\begin{array}{lcl} \\mathrm{Ric}\\left(g\\right)_{ \\, t \\, t }^{ \\phantom{\\, t}\\phantom{\\, t} } & = & {\\left(\\beta_x\\left(t, x, y, z\\right)^{2} - 1\\right)} \\left(\\frac{\\partial\\,\\beta_x}{\\partial x}\\right)^{2} - \\frac{1}{2} \\, {\\left(\\beta_x\\left(t, x, y, z\\right)^{2} + 1\\right)} \\left(\\frac{\\partial\\,\\beta_x}{\\partial y}\\right)^{2} - \\frac{1}{2} \\, {\\left(\\beta_x\\left(t, x, y, z\\right)^{2} + 1\\right)} \\left(\\frac{\\partial\\,\\beta_x}{\\partial z}\\right)^{2} - {\\left(\\beta_x\\left(t, x, y, z\\right)^{2} - 1\\right)} \\frac{\\partial^2\\,\\beta_x}{\\partial t\\partial x} + {\\left(\\beta_x\\left(t, x, y, z\\right)^{3} - \\beta_x\\left(t, x, y, z\\right)\\right)} \\frac{\\partial^2\\,\\beta_x}{\\partial x ^ 2} - \\beta_x\\left(t, x, y, z\\right) \\frac{\\partial^2\\,\\beta_x}{\\partial y ^ 2} - \\beta_x\\left(t, x, y, z\\right) \\frac{\\partial^2\\,\\beta_x}{\\partial z ^ 2} \\\\ \\mathrm{Ric}\\left(g\\right)_{ \\, t \\, x }^{ \\phantom{\\, t}\\phantom{\\, x} } & = & \\beta_x\\left(t, x, y, z\\right) \\left(\\frac{\\partial\\,\\beta_x}{\\partial x}\\right)^{2} + \\beta_x\\left(t, x, y, z\\right)^{2} \\frac{\\partial^2\\,\\beta_x}{\\partial x ^ 2} - \\frac{1}{2} \\, \\beta_x\\left(t, x, y, z\\right) \\left(\\frac{\\partial\\,\\beta_x}{\\partial y}\\right)^{2} - \\frac{1}{2} \\, \\beta_x\\left(t, x, y, z\\right) \\left(\\frac{\\partial\\,\\beta_x}{\\partial z}\\right)^{2} - \\beta_x\\left(t, x, y, z\\right) \\frac{\\partial^2\\,\\beta_x}{\\partial t\\partial x} - \\frac{1}{2} \\, \\frac{\\partial^2\\,\\beta_x}{\\partial y ^ 2} - \\frac{1}{2} \\, \\frac{\\partial^2\\,\\beta_x}{\\partial z ^ 2} \\\\ \\mathrm{Ric}\\left(g\\right)_{ \\, t \\, y }^{ \\phantom{\\, t}\\phantom{\\, y} } & = & \\beta_x\\left(t, x, y, z\\right) \\frac{\\partial\\,\\beta_x}{\\partial x} \\frac{\\partial\\,\\beta_x}{\\partial y} - \\frac{1}{2} \\, \\beta_x\\left(t, x, y, z\\right) \\frac{\\partial^2\\,\\beta_x}{\\partial t\\partial y} + \\frac{1}{2} \\, {\\left(\\beta_x\\left(t, x, y, z\\right)^{2} + 1\\right)} \\frac{\\partial^2\\,\\beta_x}{\\partial x\\partial y} \\\\ \\mathrm{Ric}\\left(g\\right)_{ \\, t \\, z }^{ \\phantom{\\, t}\\phantom{\\, z} } & = & \\beta_x\\left(t, x, y, z\\right) \\frac{\\partial\\,\\beta_x}{\\partial x} \\frac{\\partial\\,\\beta_x}{\\partial z} - \\frac{1}{2} \\, \\beta_x\\left(t, x, y, z\\right) \\frac{\\partial^2\\,\\beta_x}{\\partial t\\partial z} + \\frac{1}{2} \\, {\\left(\\beta_x\\left(t, x, y, z\\right)^{2} + 1\\right)} \\frac{\\partial^2\\,\\beta_x}{\\partial x\\partial z} \\\\ \\mathrm{Ric}\\left(g\\right)_{ \\, x \\, x }^{ \\phantom{\\, x}\\phantom{\\, x} } & = & \\left(\\frac{\\partial\\,\\beta_x}{\\partial x}\\right)^{2} + \\beta_x\\left(t, x, y, z\\right) \\frac{\\partial^2\\,\\beta_x}{\\partial x ^ 2} - \\frac{1}{2} \\, \\left(\\frac{\\partial\\,\\beta_x}{\\partial y}\\right)^{2} - \\frac{1}{2} \\, \\left(\\frac{\\partial\\,\\beta_x}{\\partial z}\\right)^{2} - \\frac{\\partial^2\\,\\beta_x}{\\partial t\\partial x} \\\\ \\mathrm{Ric}\\left(g\\right)_{ \\, x \\, y }^{ \\phantom{\\, x}\\phantom{\\, y} } & = & \\frac{1}{2} \\, \\beta_x\\left(t, x, y, z\\right) \\frac{\\partial^2\\,\\beta_x}{\\partial x\\partial y} + \\frac{\\partial\\,\\beta_x}{\\partial x} \\frac{\\partial\\,\\beta_x}{\\partial y} - \\frac{1}{2} \\, \\frac{\\partial^2\\,\\beta_x}{\\partial t\\partial y} \\\\ \\mathrm{Ric}\\left(g\\right)_{ \\, x \\, z }^{ \\phantom{\\, x}\\phantom{\\, z} } & = & \\frac{1}{2} \\, \\beta_x\\left(t, x, y, z\\right) \\frac{\\partial^2\\,\\beta_x}{\\partial x\\partial z} + \\frac{\\partial\\,\\beta_x}{\\partial x} \\frac{\\partial\\,\\beta_x}{\\partial z} - \\frac{1}{2} \\, \\frac{\\partial^2\\,\\beta_x}{\\partial t\\partial z} \\\\ \\mathrm{Ric}\\left(g\\right)_{ \\, y \\, y }^{ \\phantom{\\, y}\\phantom{\\, y} } & = & \\frac{1}{2} \\, \\left(\\frac{\\partial\\,\\beta_x}{\\partial y}\\right)^{2} \\\\ \\mathrm{Ric}\\left(g\\right)_{ \\, y \\, z }^{ \\phantom{\\, y}\\phantom{\\, z} } & = & \\frac{1}{2} \\, \\frac{\\partial\\,\\beta_x}{\\partial y} \\frac{\\partial\\,\\beta_x}{\\partial z} \\\\ \\mathrm{Ric}\\left(g\\right)_{ \\, z \\, z }^{ \\phantom{\\, z}\\phantom{\\, z} } & = & \\frac{1}{2} \\, \\left(\\frac{\\partial\\,\\beta_x}{\\partial z}\\right)^{2} \\end{array}$$"
      ],
      "text/plain": [
       "Ric(g)_tt = (shiftx(t, x, y, z)^2 - 1)*(d(shiftx)/dx)^2 - 1/2*(shiftx(t, x, y, z)^2 + 1)*(d(shiftx)/dy)^2 - 1/2*(shiftx(t, x, y, z)^2 + 1)*(d(shiftx)/dz)^2 - (shiftx(t, x, y, z)^2 - 1)*d^2(shiftx)/dtdx + (shiftx(t, x, y, z)^3 - shiftx(t, x, y, z))*d^2(shiftx)/dx^2 - shiftx(t, x, y, z)*d^2(shiftx)/dy^2 - shiftx(t, x, y, z)*d^2(shiftx)/dz^2 \n",
       "Ric(g)_tx = shiftx(t, x, y, z)*(d(shiftx)/dx)^2 + shiftx(t, x, y, z)^2*d^2(shiftx)/dx^2 - 1/2*shiftx(t, x, y, z)*(d(shiftx)/dy)^2 - 1/2*shiftx(t, x, y, z)*(d(shiftx)/dz)^2 - shiftx(t, x, y, z)*d^2(shiftx)/dtdx - 1/2*d^2(shiftx)/dy^2 - 1/2*d^2(shiftx)/dz^2 \n",
       "Ric(g)_ty = shiftx(t, x, y, z)*d(shiftx)/dx*d(shiftx)/dy - 1/2*shiftx(t, x, y, z)*d^2(shiftx)/dtdy + 1/2*(shiftx(t, x, y, z)^2 + 1)*d^2(shiftx)/dxdy \n",
       "Ric(g)_tz = shiftx(t, x, y, z)*d(shiftx)/dx*d(shiftx)/dz - 1/2*shiftx(t, x, y, z)*d^2(shiftx)/dtdz + 1/2*(shiftx(t, x, y, z)^2 + 1)*d^2(shiftx)/dxdz \n",
       "Ric(g)_xx = (d(shiftx)/dx)^2 + shiftx(t, x, y, z)*d^2(shiftx)/dx^2 - 1/2*(d(shiftx)/dy)^2 - 1/2*(d(shiftx)/dz)^2 - d^2(shiftx)/dtdx \n",
       "Ric(g)_xy = 1/2*shiftx(t, x, y, z)*d^2(shiftx)/dxdy + d(shiftx)/dx*d(shiftx)/dy - 1/2*d^2(shiftx)/dtdy \n",
       "Ric(g)_xz = 1/2*shiftx(t, x, y, z)*d^2(shiftx)/dxdz + d(shiftx)/dx*d(shiftx)/dz - 1/2*d^2(shiftx)/dtdz \n",
       "Ric(g)_yy = 1/2*(d(shiftx)/dy)^2 \n",
       "Ric(g)_yz = 1/2*d(shiftx)/dy*d(shiftx)/dz \n",
       "Ric(g)_zz = 1/2*(d(shiftx)/dz)^2 "
      ]
     },
     "execution_count": 5,
     "metadata": {},
     "output_type": "execute_result"
    }
   ],
   "source": [
    "Ric = g.ricci()\n",
    "Ric.display_comp(only_nonredundant=True)"
   ]
  },
  {
   "cell_type": "code",
   "execution_count": 6,
   "metadata": {},
   "outputs": [
    {
     "data": {
      "text/html": [
       "<html><script type=\"math/tex; mode=display\">\\newcommand{\\Bold}[1]{\\mathbf{#1}}\\begin{array}{llcl} \\mathrm{r}\\left(g\\right):& M & \\longrightarrow & \\mathbb{R} \\\\ & \\left(t, x, y, z\\right) & \\longmapsto & 2 \\, \\left(\\frac{\\partial\\,\\beta_x}{\\partial x}\\right)^{2} + 2 \\, \\beta_x\\left(t, x, y, z\\right) \\frac{\\partial^2\\,\\beta_x}{\\partial x ^ 2} + \\frac{1}{2} \\, \\left(\\frac{\\partial\\,\\beta_x}{\\partial y}\\right)^{2} + \\frac{1}{2} \\, \\left(\\frac{\\partial\\,\\beta_x}{\\partial z}\\right)^{2} - 2 \\, \\frac{\\partial^2\\,\\beta_x}{\\partial t\\partial x} \\end{array}</script></html>"
      ],
      "text/latex": [
       "$$\\newcommand{\\Bold}[1]{\\mathbf{#1}}\\begin{array}{llcl} \\mathrm{r}\\left(g\\right):& M & \\longrightarrow & \\mathbb{R} \\\\ & \\left(t, x, y, z\\right) & \\longmapsto & 2 \\, \\left(\\frac{\\partial\\,\\beta_x}{\\partial x}\\right)^{2} + 2 \\, \\beta_x\\left(t, x, y, z\\right) \\frac{\\partial^2\\,\\beta_x}{\\partial x ^ 2} + \\frac{1}{2} \\, \\left(\\frac{\\partial\\,\\beta_x}{\\partial y}\\right)^{2} + \\frac{1}{2} \\, \\left(\\frac{\\partial\\,\\beta_x}{\\partial z}\\right)^{2} - 2 \\, \\frac{\\partial^2\\,\\beta_x}{\\partial t\\partial x} \\end{array}$$"
      ],
      "text/plain": [
       "r(g): M --> R\n",
       "   (t, x, y, z) |--> 2*(d(shiftx)/dx)^2 + 2*shiftx(t, x, y, z)*d^2(shiftx)/dx^2 + 1/2*(d(shiftx)/dy)^2 + 1/2*(d(shiftx)/dz)^2 - 2*d^2(shiftx)/dtdx"
      ]
     },
     "execution_count": 6,
     "metadata": {},
     "output_type": "execute_result"
    }
   ],
   "source": [
    "ricscalar = g.ricci_scalar()\n",
    "ricscalar.display()"
   ]
  },
  {
   "cell_type": "markdown",
   "metadata": {},
   "source": [
    "## Riemann tensor components"
   ]
  },
  {
   "cell_type": "code",
   "execution_count": 7,
   "metadata": {},
   "outputs": [
    {
     "data": {
      "text/html": [
       "<html><script type=\"math/tex; mode=display\">\\newcommand{\\Bold}[1]{\\mathbf{#1}}\\begin{array}{lcl} \\mathrm{Riem}\\left(g\\right)_{ \\phantom{\\, t} \\, t \\, t \\, x }^{ \\, t \\phantom{\\, t} \\phantom{\\, t} \\phantom{\\, x} } & = & \\beta_x\\left(t, x, y, z\\right) \\left(\\frac{\\partial\\,\\beta_x}{\\partial x}\\right)^{2} + \\beta_x\\left(t, x, y, z\\right)^{2} \\frac{\\partial^2\\,\\beta_x}{\\partial x ^ 2} - \\frac{1}{4} \\, \\beta_x\\left(t, x, y, z\\right) \\left(\\frac{\\partial\\,\\beta_x}{\\partial y}\\right)^{2} - \\frac{1}{4} \\, \\beta_x\\left(t, x, y, z\\right) \\left(\\frac{\\partial\\,\\beta_x}{\\partial z}\\right)^{2} - \\beta_x\\left(t, x, y, z\\right) \\frac{\\partial^2\\,\\beta_x}{\\partial t\\partial x} \\\\ \\mathrm{Riem}\\left(g\\right)_{ \\phantom{\\, t} \\, t \\, t \\, y }^{ \\, t \\phantom{\\, t} \\phantom{\\, t} \\phantom{\\, y} } & = & \\beta_x\\left(t, x, y, z\\right)^{2} \\frac{\\partial^2\\,\\beta_x}{\\partial x\\partial y} + \\beta_x\\left(t, x, y, z\\right) \\frac{\\partial\\,\\beta_x}{\\partial x} \\frac{\\partial\\,\\beta_x}{\\partial y} - \\frac{1}{2} \\, \\beta_x\\left(t, x, y, z\\right) \\frac{\\partial^2\\,\\beta_x}{\\partial t\\partial y} \\\\ \\mathrm{Riem}\\left(g\\right)_{ \\phantom{\\, t} \\, t \\, t \\, z }^{ \\, t \\phantom{\\, t} \\phantom{\\, t} \\phantom{\\, z} } & = & \\beta_x\\left(t, x, y, z\\right)^{2} \\frac{\\partial^2\\,\\beta_x}{\\partial x\\partial z} + \\beta_x\\left(t, x, y, z\\right) \\frac{\\partial\\,\\beta_x}{\\partial x} \\frac{\\partial\\,\\beta_x}{\\partial z} - \\frac{1}{2} \\, \\beta_x\\left(t, x, y, z\\right) \\frac{\\partial^2\\,\\beta_x}{\\partial t\\partial z} \\\\ \\mathrm{Riem}\\left(g\\right)_{ \\phantom{\\, t} \\, t \\, x \\, y }^{ \\, t \\phantom{\\, t} \\phantom{\\, x} \\phantom{\\, y} } & = & \\frac{1}{2} \\, \\beta_x\\left(t, x, y, z\\right) \\frac{\\partial^2\\,\\beta_x}{\\partial x\\partial y} \\\\ \\mathrm{Riem}\\left(g\\right)_{ \\phantom{\\, t} \\, t \\, x \\, z }^{ \\, t \\phantom{\\, t} \\phantom{\\, x} \\phantom{\\, z} } & = & \\frac{1}{2} \\, \\beta_x\\left(t, x, y, z\\right) \\frac{\\partial^2\\,\\beta_x}{\\partial x\\partial z} \\\\ \\mathrm{Riem}\\left(g\\right)_{ \\phantom{\\, t} \\, x \\, t \\, x }^{ \\, t \\phantom{\\, x} \\phantom{\\, t} \\phantom{\\, x} } & = & \\left(\\frac{\\partial\\,\\beta_x}{\\partial x}\\right)^{2} + \\beta_x\\left(t, x, y, z\\right) \\frac{\\partial^2\\,\\beta_x}{\\partial x ^ 2} - \\frac{1}{4} \\, \\left(\\frac{\\partial\\,\\beta_x}{\\partial y}\\right)^{2} - \\frac{1}{4} \\, \\left(\\frac{\\partial\\,\\beta_x}{\\partial z}\\right)^{2} - \\frac{\\partial^2\\,\\beta_x}{\\partial t\\partial x} \\\\ \\mathrm{Riem}\\left(g\\right)_{ \\phantom{\\, t} \\, x \\, t \\, y }^{ \\, t \\phantom{\\, x} \\phantom{\\, t} \\phantom{\\, y} } & = & \\beta_x\\left(t, x, y, z\\right) \\frac{\\partial^2\\,\\beta_x}{\\partial x\\partial y} + \\frac{\\partial\\,\\beta_x}{\\partial x} \\frac{\\partial\\,\\beta_x}{\\partial y} - \\frac{1}{2} \\, \\frac{\\partial^2\\,\\beta_x}{\\partial t\\partial y} \\\\ \\mathrm{Riem}\\left(g\\right)_{ \\phantom{\\, t} \\, x \\, t \\, z }^{ \\, t \\phantom{\\, x} \\phantom{\\, t} \\phantom{\\, z} } & = & \\beta_x\\left(t, x, y, z\\right) \\frac{\\partial^2\\,\\beta_x}{\\partial x\\partial z} + \\frac{\\partial\\,\\beta_x}{\\partial x} \\frac{\\partial\\,\\beta_x}{\\partial z} - \\frac{1}{2} \\, \\frac{\\partial^2\\,\\beta_x}{\\partial t\\partial z} \\\\ \\mathrm{Riem}\\left(g\\right)_{ \\phantom{\\, t} \\, x \\, x \\, y }^{ \\, t \\phantom{\\, x} \\phantom{\\, x} \\phantom{\\, y} } & = & \\frac{1}{2} \\, \\frac{\\partial^2\\,\\beta_x}{\\partial x\\partial y} \\\\ \\mathrm{Riem}\\left(g\\right)_{ \\phantom{\\, t} \\, x \\, x \\, z }^{ \\, t \\phantom{\\, x} \\phantom{\\, x} \\phantom{\\, z} } & = & \\frac{1}{2} \\, \\frac{\\partial^2\\,\\beta_x}{\\partial x\\partial z} \\\\ \\mathrm{Riem}\\left(g\\right)_{ \\phantom{\\, t} \\, y \\, t \\, x }^{ \\, t \\phantom{\\, y} \\phantom{\\, t} \\phantom{\\, x} } & = & \\frac{1}{2} \\, \\beta_x\\left(t, x, y, z\\right) \\frac{\\partial^2\\,\\beta_x}{\\partial x\\partial y} + \\frac{\\partial\\,\\beta_x}{\\partial x} \\frac{\\partial\\,\\beta_x}{\\partial y} - \\frac{1}{2} \\, \\frac{\\partial^2\\,\\beta_x}{\\partial t\\partial y} \\\\ \\mathrm{Riem}\\left(g\\right)_{ \\phantom{\\, t} \\, y \\, t \\, y }^{ \\, t \\phantom{\\, y} \\phantom{\\, t} \\phantom{\\, y} } & = & \\frac{3}{4} \\, \\left(\\frac{\\partial\\,\\beta_x}{\\partial y}\\right)^{2} + \\frac{1}{2} \\, \\beta_x\\left(t, x, y, z\\right) \\frac{\\partial^2\\,\\beta_x}{\\partial y ^ 2} \\\\ \\mathrm{Riem}\\left(g\\right)_{ \\phantom{\\, t} \\, y \\, t \\, z }^{ \\, t \\phantom{\\, y} \\phantom{\\, t} \\phantom{\\, z} } & = & \\frac{1}{2} \\, \\beta_x\\left(t, x, y, z\\right) \\frac{\\partial^2\\,\\beta_x}{\\partial y\\partial z} + \\frac{3}{4} \\, \\frac{\\partial\\,\\beta_x}{\\partial y} \\frac{\\partial\\,\\beta_x}{\\partial z} \\\\ \\mathrm{Riem}\\left(g\\right)_{ \\phantom{\\, t} \\, y \\, x \\, y }^{ \\, t \\phantom{\\, y} \\phantom{\\, x} \\phantom{\\, y} } & = & \\frac{1}{2} \\, \\frac{\\partial^2\\,\\beta_x}{\\partial y ^ 2} \\\\ \\mathrm{Riem}\\left(g\\right)_{ \\phantom{\\, t} \\, y \\, x \\, z }^{ \\, t \\phantom{\\, y} \\phantom{\\, x} \\phantom{\\, z} } & = & \\frac{1}{2} \\, \\frac{\\partial^2\\,\\beta_x}{\\partial y\\partial z} \\\\ \\mathrm{Riem}\\left(g\\right)_{ \\phantom{\\, t} \\, z \\, t \\, x }^{ \\, t \\phantom{\\, z} \\phantom{\\, t} \\phantom{\\, x} } & = & \\frac{1}{2} \\, \\beta_x\\left(t, x, y, z\\right) \\frac{\\partial^2\\,\\beta_x}{\\partial x\\partial z} + \\frac{\\partial\\,\\beta_x}{\\partial x} \\frac{\\partial\\,\\beta_x}{\\partial z} - \\frac{1}{2} \\, \\frac{\\partial^2\\,\\beta_x}{\\partial t\\partial z} \\\\ \\mathrm{Riem}\\left(g\\right)_{ \\phantom{\\, t} \\, z \\, t \\, y }^{ \\, t \\phantom{\\, z} \\phantom{\\, t} \\phantom{\\, y} } & = & \\frac{1}{2} \\, \\beta_x\\left(t, x, y, z\\right) \\frac{\\partial^2\\,\\beta_x}{\\partial y\\partial z} + \\frac{3}{4} \\, \\frac{\\partial\\,\\beta_x}{\\partial y} \\frac{\\partial\\,\\beta_x}{\\partial z} \\\\ \\mathrm{Riem}\\left(g\\right)_{ \\phantom{\\, t} \\, z \\, t \\, z }^{ \\, t \\phantom{\\, z} \\phantom{\\, t} \\phantom{\\, z} } & = & \\frac{3}{4} \\, \\left(\\frac{\\partial\\,\\beta_x}{\\partial z}\\right)^{2} + \\frac{1}{2} \\, \\beta_x\\left(t, x, y, z\\right) \\frac{\\partial^2\\,\\beta_x}{\\partial z ^ 2} \\\\ \\mathrm{Riem}\\left(g\\right)_{ \\phantom{\\, t} \\, z \\, x \\, y }^{ \\, t \\phantom{\\, z} \\phantom{\\, x} \\phantom{\\, y} } & = & \\frac{1}{2} \\, \\frac{\\partial^2\\,\\beta_x}{\\partial y\\partial z} \\\\ \\mathrm{Riem}\\left(g\\right)_{ \\phantom{\\, t} \\, z \\, x \\, z }^{ \\, t \\phantom{\\, z} \\phantom{\\, x} \\phantom{\\, z} } & = & \\frac{1}{2} \\, \\frac{\\partial^2\\,\\beta_x}{\\partial z ^ 2} \\\\ \\mathrm{Riem}\\left(g\\right)_{ \\phantom{\\, x} \\, t \\, t \\, x }^{ \\, x \\phantom{\\, t} \\phantom{\\, t} \\phantom{\\, x} } & = & -{\\left(\\beta_x\\left(t, x, y, z\\right)^{2} - 1\\right)} \\left(\\frac{\\partial\\,\\beta_x}{\\partial x}\\right)^{2} + \\frac{1}{4} \\, {\\left(\\beta_x\\left(t, x, y, z\\right)^{2} - 1\\right)} \\left(\\frac{\\partial\\,\\beta_x}{\\partial y}\\right)^{2} + \\frac{1}{4} \\, {\\left(\\beta_x\\left(t, x, y, z\\right)^{2} - 1\\right)} \\left(\\frac{\\partial\\,\\beta_x}{\\partial z}\\right)^{2} + {\\left(\\beta_x\\left(t, x, y, z\\right)^{2} - 1\\right)} \\frac{\\partial^2\\,\\beta_x}{\\partial t\\partial x} - {\\left(\\beta_x\\left(t, x, y, z\\right)^{3} - \\beta_x\\left(t, x, y, z\\right)\\right)} \\frac{\\partial^2\\,\\beta_x}{\\partial x ^ 2} \\\\ \\mathrm{Riem}\\left(g\\right)_{ \\phantom{\\, x} \\, t \\, t \\, y }^{ \\, x \\phantom{\\, t} \\phantom{\\, t} \\phantom{\\, y} } & = & -{\\left(\\beta_x\\left(t, x, y, z\\right)^{2} - 1\\right)} \\frac{\\partial\\,\\beta_x}{\\partial x} \\frac{\\partial\\,\\beta_x}{\\partial y} + \\frac{1}{2} \\, {\\left(\\beta_x\\left(t, x, y, z\\right)^{2} - 1\\right)} \\frac{\\partial^2\\,\\beta_x}{\\partial t\\partial y} - {\\left(\\beta_x\\left(t, x, y, z\\right)^{3} - \\beta_x\\left(t, x, y, z\\right)\\right)} \\frac{\\partial^2\\,\\beta_x}{\\partial x\\partial y} \\\\ \\mathrm{Riem}\\left(g\\right)_{ \\phantom{\\, x} \\, t \\, t \\, z }^{ \\, x \\phantom{\\, t} \\phantom{\\, t} \\phantom{\\, z} } & = & -{\\left(\\beta_x\\left(t, x, y, z\\right)^{2} - 1\\right)} \\frac{\\partial\\,\\beta_x}{\\partial x} \\frac{\\partial\\,\\beta_x}{\\partial z} + \\frac{1}{2} \\, {\\left(\\beta_x\\left(t, x, y, z\\right)^{2} - 1\\right)} \\frac{\\partial^2\\,\\beta_x}{\\partial t\\partial z} - {\\left(\\beta_x\\left(t, x, y, z\\right)^{3} - \\beta_x\\left(t, x, y, z\\right)\\right)} \\frac{\\partial^2\\,\\beta_x}{\\partial x\\partial z} \\\\ \\mathrm{Riem}\\left(g\\right)_{ \\phantom{\\, x} \\, t \\, x \\, y }^{ \\, x \\phantom{\\, t} \\phantom{\\, x} \\phantom{\\, y} } & = & -\\frac{1}{2} \\, {\\left(\\beta_x\\left(t, x, y, z\\right)^{2} - 1\\right)} \\frac{\\partial^2\\,\\beta_x}{\\partial x\\partial y} \\\\ \\mathrm{Riem}\\left(g\\right)_{ \\phantom{\\, x} \\, t \\, x \\, z }^{ \\, x \\phantom{\\, t} \\phantom{\\, x} \\phantom{\\, z} } & = & -\\frac{1}{2} \\, {\\left(\\beta_x\\left(t, x, y, z\\right)^{2} - 1\\right)} \\frac{\\partial^2\\,\\beta_x}{\\partial x\\partial z} \\\\ \\mathrm{Riem}\\left(g\\right)_{ \\phantom{\\, x} \\, x \\, t \\, x }^{ \\, x \\phantom{\\, x} \\phantom{\\, t} \\phantom{\\, x} } & = & -\\beta_x\\left(t, x, y, z\\right) \\left(\\frac{\\partial\\,\\beta_x}{\\partial x}\\right)^{2} - \\beta_x\\left(t, x, y, z\\right)^{2} \\frac{\\partial^2\\,\\beta_x}{\\partial x ^ 2} + \\frac{1}{4} \\, \\beta_x\\left(t, x, y, z\\right) \\left(\\frac{\\partial\\,\\beta_x}{\\partial y}\\right)^{2} + \\frac{1}{4} \\, \\beta_x\\left(t, x, y, z\\right) \\left(\\frac{\\partial\\,\\beta_x}{\\partial z}\\right)^{2} + \\beta_x\\left(t, x, y, z\\right) \\frac{\\partial^2\\,\\beta_x}{\\partial t\\partial x} \\\\ \\mathrm{Riem}\\left(g\\right)_{ \\phantom{\\, x} \\, x \\, t \\, y }^{ \\, x \\phantom{\\, x} \\phantom{\\, t} \\phantom{\\, y} } & = & -\\beta_x\\left(t, x, y, z\\right)^{2} \\frac{\\partial^2\\,\\beta_x}{\\partial x\\partial y} - \\beta_x\\left(t, x, y, z\\right) \\frac{\\partial\\,\\beta_x}{\\partial x} \\frac{\\partial\\,\\beta_x}{\\partial y} + \\frac{1}{2} \\, \\beta_x\\left(t, x, y, z\\right) \\frac{\\partial^2\\,\\beta_x}{\\partial t\\partial y} \\\\ \\mathrm{Riem}\\left(g\\right)_{ \\phantom{\\, x} \\, x \\, t \\, z }^{ \\, x \\phantom{\\, x} \\phantom{\\, t} \\phantom{\\, z} } & = & -\\beta_x\\left(t, x, y, z\\right)^{2} \\frac{\\partial^2\\,\\beta_x}{\\partial x\\partial z} - \\beta_x\\left(t, x, y, z\\right) \\frac{\\partial\\,\\beta_x}{\\partial x} \\frac{\\partial\\,\\beta_x}{\\partial z} + \\frac{1}{2} \\, \\beta_x\\left(t, x, y, z\\right) \\frac{\\partial^2\\,\\beta_x}{\\partial t\\partial z} \\\\ \\mathrm{Riem}\\left(g\\right)_{ \\phantom{\\, x} \\, x \\, x \\, y }^{ \\, x \\phantom{\\, x} \\phantom{\\, x} \\phantom{\\, y} } & = & -\\frac{1}{2} \\, \\beta_x\\left(t, x, y, z\\right) \\frac{\\partial^2\\,\\beta_x}{\\partial x\\partial y} \\\\ \\mathrm{Riem}\\left(g\\right)_{ \\phantom{\\, x} \\, x \\, x \\, z }^{ \\, x \\phantom{\\, x} \\phantom{\\, x} \\phantom{\\, z} } & = & -\\frac{1}{2} \\, \\beta_x\\left(t, x, y, z\\right) \\frac{\\partial^2\\,\\beta_x}{\\partial x\\partial z} \\\\ \\mathrm{Riem}\\left(g\\right)_{ \\phantom{\\, x} \\, y \\, t \\, x }^{ \\, x \\phantom{\\, y} \\phantom{\\, t} \\phantom{\\, x} } & = & -\\beta_x\\left(t, x, y, z\\right) \\frac{\\partial\\,\\beta_x}{\\partial x} \\frac{\\partial\\,\\beta_x}{\\partial y} + \\frac{1}{2} \\, \\beta_x\\left(t, x, y, z\\right) \\frac{\\partial^2\\,\\beta_x}{\\partial t\\partial y} - \\frac{1}{2} \\, {\\left(\\beta_x\\left(t, x, y, z\\right)^{2} + 1\\right)} \\frac{\\partial^2\\,\\beta_x}{\\partial x\\partial y} \\\\ \\mathrm{Riem}\\left(g\\right)_{ \\phantom{\\, x} \\, y \\, t \\, y }^{ \\, x \\phantom{\\, y} \\phantom{\\, t} \\phantom{\\, y} } & = & -\\beta_x\\left(t, x, y, z\\right) \\left(\\frac{\\partial\\,\\beta_x}{\\partial y}\\right)^{2} - \\frac{1}{2} \\, {\\left(\\beta_x\\left(t, x, y, z\\right)^{2} + 1\\right)} \\frac{\\partial^2\\,\\beta_x}{\\partial y ^ 2} \\\\ \\mathrm{Riem}\\left(g\\right)_{ \\phantom{\\, x} \\, y \\, t \\, z }^{ \\, x \\phantom{\\, y} \\phantom{\\, t} \\phantom{\\, z} } & = & -\\beta_x\\left(t, x, y, z\\right) \\frac{\\partial\\,\\beta_x}{\\partial y} \\frac{\\partial\\,\\beta_x}{\\partial z} - \\frac{1}{2} \\, {\\left(\\beta_x\\left(t, x, y, z\\right)^{2} + 1\\right)} \\frac{\\partial^2\\,\\beta_x}{\\partial y\\partial z} \\\\ \\mathrm{Riem}\\left(g\\right)_{ \\phantom{\\, x} \\, y \\, x \\, y }^{ \\, x \\phantom{\\, y} \\phantom{\\, x} \\phantom{\\, y} } & = & -\\frac{1}{4} \\, \\left(\\frac{\\partial\\,\\beta_x}{\\partial y}\\right)^{2} - \\frac{1}{2} \\, \\beta_x\\left(t, x, y, z\\right) \\frac{\\partial^2\\,\\beta_x}{\\partial y ^ 2} \\\\ \\mathrm{Riem}\\left(g\\right)_{ \\phantom{\\, x} \\, y \\, x \\, z }^{ \\, x \\phantom{\\, y} \\phantom{\\, x} \\phantom{\\, z} } & = & -\\frac{1}{2} \\, \\beta_x\\left(t, x, y, z\\right) \\frac{\\partial^2\\,\\beta_x}{\\partial y\\partial z} - \\frac{1}{4} \\, \\frac{\\partial\\,\\beta_x}{\\partial y} \\frac{\\partial\\,\\beta_x}{\\partial z} \\\\ \\mathrm{Riem}\\left(g\\right)_{ \\phantom{\\, x} \\, z \\, t \\, x }^{ \\, x \\phantom{\\, z} \\phantom{\\, t} \\phantom{\\, x} } & = & -\\beta_x\\left(t, x, y, z\\right) \\frac{\\partial\\,\\beta_x}{\\partial x} \\frac{\\partial\\,\\beta_x}{\\partial z} + \\frac{1}{2} \\, \\beta_x\\left(t, x, y, z\\right) \\frac{\\partial^2\\,\\beta_x}{\\partial t\\partial z} - \\frac{1}{2} \\, {\\left(\\beta_x\\left(t, x, y, z\\right)^{2} + 1\\right)} \\frac{\\partial^2\\,\\beta_x}{\\partial x\\partial z} \\\\ \\mathrm{Riem}\\left(g\\right)_{ \\phantom{\\, x} \\, z \\, t \\, y }^{ \\, x \\phantom{\\, z} \\phantom{\\, t} \\phantom{\\, y} } & = & -\\beta_x\\left(t, x, y, z\\right) \\frac{\\partial\\,\\beta_x}{\\partial y} \\frac{\\partial\\,\\beta_x}{\\partial z} - \\frac{1}{2} \\, {\\left(\\beta_x\\left(t, x, y, z\\right)^{2} + 1\\right)} \\frac{\\partial^2\\,\\beta_x}{\\partial y\\partial z} \\\\ \\mathrm{Riem}\\left(g\\right)_{ \\phantom{\\, x} \\, z \\, t \\, z }^{ \\, x \\phantom{\\, z} \\phantom{\\, t} \\phantom{\\, z} } & = & -\\beta_x\\left(t, x, y, z\\right) \\left(\\frac{\\partial\\,\\beta_x}{\\partial z}\\right)^{2} - \\frac{1}{2} \\, {\\left(\\beta_x\\left(t, x, y, z\\right)^{2} + 1\\right)} \\frac{\\partial^2\\,\\beta_x}{\\partial z ^ 2} \\\\ \\mathrm{Riem}\\left(g\\right)_{ \\phantom{\\, x} \\, z \\, x \\, y }^{ \\, x \\phantom{\\, z} \\phantom{\\, x} \\phantom{\\, y} } & = & -\\frac{1}{2} \\, \\beta_x\\left(t, x, y, z\\right) \\frac{\\partial^2\\,\\beta_x}{\\partial y\\partial z} - \\frac{1}{4} \\, \\frac{\\partial\\,\\beta_x}{\\partial y} \\frac{\\partial\\,\\beta_x}{\\partial z} \\\\ \\mathrm{Riem}\\left(g\\right)_{ \\phantom{\\, x} \\, z \\, x \\, z }^{ \\, x \\phantom{\\, z} \\phantom{\\, x} \\phantom{\\, z} } & = & -\\frac{1}{4} \\, \\left(\\frac{\\partial\\,\\beta_x}{\\partial z}\\right)^{2} - \\frac{1}{2} \\, \\beta_x\\left(t, x, y, z\\right) \\frac{\\partial^2\\,\\beta_x}{\\partial z ^ 2} \\\\ \\mathrm{Riem}\\left(g\\right)_{ \\phantom{\\, y} \\, t \\, t \\, x }^{ \\, y \\phantom{\\, t} \\phantom{\\, t} \\phantom{\\, x} } & = & \\beta_x\\left(t, x, y, z\\right) \\frac{\\partial^2\\,\\beta_x}{\\partial x\\partial y} + \\frac{\\partial\\,\\beta_x}{\\partial x} \\frac{\\partial\\,\\beta_x}{\\partial y} - \\frac{1}{2} \\, \\frac{\\partial^2\\,\\beta_x}{\\partial t\\partial y} \\\\ \\mathrm{Riem}\\left(g\\right)_{ \\phantom{\\, y} \\, t \\, t \\, y }^{ \\, y \\phantom{\\, t} \\phantom{\\, t} \\phantom{\\, y} } & = & \\frac{1}{4} \\, {\\left(\\beta_x\\left(t, x, y, z\\right)^{2} + 3\\right)} \\left(\\frac{\\partial\\,\\beta_x}{\\partial y}\\right)^{2} + \\beta_x\\left(t, x, y, z\\right) \\frac{\\partial^2\\,\\beta_x}{\\partial y ^ 2} \\\\ \\mathrm{Riem}\\left(g\\right)_{ \\phantom{\\, y} \\, t \\, t \\, z }^{ \\, y \\phantom{\\, t} \\phantom{\\, t} \\phantom{\\, z} } & = & \\frac{1}{4} \\, {\\left(\\beta_x\\left(t, x, y, z\\right)^{2} + 3\\right)} \\frac{\\partial\\,\\beta_x}{\\partial y} \\frac{\\partial\\,\\beta_x}{\\partial z} + \\beta_x\\left(t, x, y, z\\right) \\frac{\\partial^2\\,\\beta_x}{\\partial y\\partial z} \\\\ \\mathrm{Riem}\\left(g\\right)_{ \\phantom{\\, y} \\, t \\, x \\, y }^{ \\, y \\phantom{\\, t} \\phantom{\\, x} \\phantom{\\, y} } & = & \\frac{1}{4} \\, \\beta_x\\left(t, x, y, z\\right) \\left(\\frac{\\partial\\,\\beta_x}{\\partial y}\\right)^{2} + \\frac{1}{2} \\, \\frac{\\partial^2\\,\\beta_x}{\\partial y ^ 2} \\\\ \\mathrm{Riem}\\left(g\\right)_{ \\phantom{\\, y} \\, t \\, x \\, z }^{ \\, y \\phantom{\\, t} \\phantom{\\, x} \\phantom{\\, z} } & = & \\frac{1}{4} \\, \\beta_x\\left(t, x, y, z\\right) \\frac{\\partial\\,\\beta_x}{\\partial y} \\frac{\\partial\\,\\beta_x}{\\partial z} + \\frac{1}{2} \\, \\frac{\\partial^2\\,\\beta_x}{\\partial y\\partial z} \\\\ \\mathrm{Riem}\\left(g\\right)_{ \\phantom{\\, y} \\, x \\, t \\, x }^{ \\, y \\phantom{\\, x} \\phantom{\\, t} \\phantom{\\, x} } & = & \\frac{1}{2} \\, \\frac{\\partial^2\\,\\beta_x}{\\partial x\\partial y} \\\\ \\mathrm{Riem}\\left(g\\right)_{ \\phantom{\\, y} \\, x \\, t \\, y }^{ \\, y \\phantom{\\, x} \\phantom{\\, t} \\phantom{\\, y} } & = & \\frac{1}{4} \\, \\beta_x\\left(t, x, y, z\\right) \\left(\\frac{\\partial\\,\\beta_x}{\\partial y}\\right)^{2} + \\frac{1}{2} \\, \\frac{\\partial^2\\,\\beta_x}{\\partial y ^ 2} \\\\ \\mathrm{Riem}\\left(g\\right)_{ \\phantom{\\, y} \\, x \\, t \\, z }^{ \\, y \\phantom{\\, x} \\phantom{\\, t} \\phantom{\\, z} } & = & \\frac{1}{4} \\, \\beta_x\\left(t, x, y, z\\right) \\frac{\\partial\\,\\beta_x}{\\partial y} \\frac{\\partial\\,\\beta_x}{\\partial z} + \\frac{1}{2} \\, \\frac{\\partial^2\\,\\beta_x}{\\partial y\\partial z} \\\\ \\mathrm{Riem}\\left(g\\right)_{ \\phantom{\\, y} \\, x \\, x \\, y }^{ \\, y \\phantom{\\, x} \\phantom{\\, x} \\phantom{\\, y} } & = & \\frac{1}{4} \\, \\left(\\frac{\\partial\\,\\beta_x}{\\partial y}\\right)^{2} \\\\ \\mathrm{Riem}\\left(g\\right)_{ \\phantom{\\, y} \\, x \\, x \\, z }^{ \\, y \\phantom{\\, x} \\phantom{\\, x} \\phantom{\\, z} } & = & \\frac{1}{4} \\, \\frac{\\partial\\,\\beta_x}{\\partial y} \\frac{\\partial\\,\\beta_x}{\\partial z} \\\\ \\mathrm{Riem}\\left(g\\right)_{ \\phantom{\\, z} \\, t \\, t \\, x }^{ \\, z \\phantom{\\, t} \\phantom{\\, t} \\phantom{\\, x} } & = & \\beta_x\\left(t, x, y, z\\right) \\frac{\\partial^2\\,\\beta_x}{\\partial x\\partial z} + \\frac{\\partial\\,\\beta_x}{\\partial x} \\frac{\\partial\\,\\beta_x}{\\partial z} - \\frac{1}{2} \\, \\frac{\\partial^2\\,\\beta_x}{\\partial t\\partial z} \\\\ \\mathrm{Riem}\\left(g\\right)_{ \\phantom{\\, z} \\, t \\, t \\, y }^{ \\, z \\phantom{\\, t} \\phantom{\\, t} \\phantom{\\, y} } & = & \\frac{1}{4} \\, {\\left(\\beta_x\\left(t, x, y, z\\right)^{2} + 3\\right)} \\frac{\\partial\\,\\beta_x}{\\partial y} \\frac{\\partial\\,\\beta_x}{\\partial z} + \\beta_x\\left(t, x, y, z\\right) \\frac{\\partial^2\\,\\beta_x}{\\partial y\\partial z} \\\\ \\mathrm{Riem}\\left(g\\right)_{ \\phantom{\\, z} \\, t \\, t \\, z }^{ \\, z \\phantom{\\, t} \\phantom{\\, t} \\phantom{\\, z} } & = & \\frac{1}{4} \\, {\\left(\\beta_x\\left(t, x, y, z\\right)^{2} + 3\\right)} \\left(\\frac{\\partial\\,\\beta_x}{\\partial z}\\right)^{2} + \\beta_x\\left(t, x, y, z\\right) \\frac{\\partial^2\\,\\beta_x}{\\partial z ^ 2} \\\\ \\mathrm{Riem}\\left(g\\right)_{ \\phantom{\\, z} \\, t \\, x \\, y }^{ \\, z \\phantom{\\, t} \\phantom{\\, x} \\phantom{\\, y} } & = & \\frac{1}{4} \\, \\beta_x\\left(t, x, y, z\\right) \\frac{\\partial\\,\\beta_x}{\\partial y} \\frac{\\partial\\,\\beta_x}{\\partial z} + \\frac{1}{2} \\, \\frac{\\partial^2\\,\\beta_x}{\\partial y\\partial z} \\\\ \\mathrm{Riem}\\left(g\\right)_{ \\phantom{\\, z} \\, t \\, x \\, z }^{ \\, z \\phantom{\\, t} \\phantom{\\, x} \\phantom{\\, z} } & = & \\frac{1}{4} \\, \\beta_x\\left(t, x, y, z\\right) \\left(\\frac{\\partial\\,\\beta_x}{\\partial z}\\right)^{2} + \\frac{1}{2} \\, \\frac{\\partial^2\\,\\beta_x}{\\partial z ^ 2} \\\\ \\mathrm{Riem}\\left(g\\right)_{ \\phantom{\\, z} \\, x \\, t \\, x }^{ \\, z \\phantom{\\, x} \\phantom{\\, t} \\phantom{\\, x} } & = & \\frac{1}{2} \\, \\frac{\\partial^2\\,\\beta_x}{\\partial x\\partial z} \\\\ \\mathrm{Riem}\\left(g\\right)_{ \\phantom{\\, z} \\, x \\, t \\, y }^{ \\, z \\phantom{\\, x} \\phantom{\\, t} \\phantom{\\, y} } & = & \\frac{1}{4} \\, \\beta_x\\left(t, x, y, z\\right) \\frac{\\partial\\,\\beta_x}{\\partial y} \\frac{\\partial\\,\\beta_x}{\\partial z} + \\frac{1}{2} \\, \\frac{\\partial^2\\,\\beta_x}{\\partial y\\partial z} \\\\ \\mathrm{Riem}\\left(g\\right)_{ \\phantom{\\, z} \\, x \\, t \\, z }^{ \\, z \\phantom{\\, x} \\phantom{\\, t} \\phantom{\\, z} } & = & \\frac{1}{4} \\, \\beta_x\\left(t, x, y, z\\right) \\left(\\frac{\\partial\\,\\beta_x}{\\partial z}\\right)^{2} + \\frac{1}{2} \\, \\frac{\\partial^2\\,\\beta_x}{\\partial z ^ 2} \\\\ \\mathrm{Riem}\\left(g\\right)_{ \\phantom{\\, z} \\, x \\, x \\, y }^{ \\, z \\phantom{\\, x} \\phantom{\\, x} \\phantom{\\, y} } & = & \\frac{1}{4} \\, \\frac{\\partial\\,\\beta_x}{\\partial y} \\frac{\\partial\\,\\beta_x}{\\partial z} \\\\ \\mathrm{Riem}\\left(g\\right)_{ \\phantom{\\, z} \\, x \\, x \\, z }^{ \\, z \\phantom{\\, x} \\phantom{\\, x} \\phantom{\\, z} } & = & \\frac{1}{4} \\, \\left(\\frac{\\partial\\,\\beta_x}{\\partial z}\\right)^{2} \\end{array}</script></html>"
      ],
      "text/latex": [
       "$$\\newcommand{\\Bold}[1]{\\mathbf{#1}}\\begin{array}{lcl} \\mathrm{Riem}\\left(g\\right)_{ \\phantom{\\, t} \\, t \\, t \\, x }^{ \\, t \\phantom{\\, t} \\phantom{\\, t} \\phantom{\\, x} } & = & \\beta_x\\left(t, x, y, z\\right) \\left(\\frac{\\partial\\,\\beta_x}{\\partial x}\\right)^{2} + \\beta_x\\left(t, x, y, z\\right)^{2} \\frac{\\partial^2\\,\\beta_x}{\\partial x ^ 2} - \\frac{1}{4} \\, \\beta_x\\left(t, x, y, z\\right) \\left(\\frac{\\partial\\,\\beta_x}{\\partial y}\\right)^{2} - \\frac{1}{4} \\, \\beta_x\\left(t, x, y, z\\right) \\left(\\frac{\\partial\\,\\beta_x}{\\partial z}\\right)^{2} - \\beta_x\\left(t, x, y, z\\right) \\frac{\\partial^2\\,\\beta_x}{\\partial t\\partial x} \\\\ \\mathrm{Riem}\\left(g\\right)_{ \\phantom{\\, t} \\, t \\, t \\, y }^{ \\, t \\phantom{\\, t} \\phantom{\\, t} \\phantom{\\, y} } & = & \\beta_x\\left(t, x, y, z\\right)^{2} \\frac{\\partial^2\\,\\beta_x}{\\partial x\\partial y} + \\beta_x\\left(t, x, y, z\\right) \\frac{\\partial\\,\\beta_x}{\\partial x} \\frac{\\partial\\,\\beta_x}{\\partial y} - \\frac{1}{2} \\, \\beta_x\\left(t, x, y, z\\right) \\frac{\\partial^2\\,\\beta_x}{\\partial t\\partial y} \\\\ \\mathrm{Riem}\\left(g\\right)_{ \\phantom{\\, t} \\, t \\, t \\, z }^{ \\, t \\phantom{\\, t} \\phantom{\\, t} \\phantom{\\, z} } & = & \\beta_x\\left(t, x, y, z\\right)^{2} \\frac{\\partial^2\\,\\beta_x}{\\partial x\\partial z} + \\beta_x\\left(t, x, y, z\\right) \\frac{\\partial\\,\\beta_x}{\\partial x} \\frac{\\partial\\,\\beta_x}{\\partial z} - \\frac{1}{2} \\, \\beta_x\\left(t, x, y, z\\right) \\frac{\\partial^2\\,\\beta_x}{\\partial t\\partial z} \\\\ \\mathrm{Riem}\\left(g\\right)_{ \\phantom{\\, t} \\, t \\, x \\, y }^{ \\, t \\phantom{\\, t} \\phantom{\\, x} \\phantom{\\, y} } & = & \\frac{1}{2} \\, \\beta_x\\left(t, x, y, z\\right) \\frac{\\partial^2\\,\\beta_x}{\\partial x\\partial y} \\\\ \\mathrm{Riem}\\left(g\\right)_{ \\phantom{\\, t} \\, t \\, x \\, z }^{ \\, t \\phantom{\\, t} \\phantom{\\, x} \\phantom{\\, z} } & = & \\frac{1}{2} \\, \\beta_x\\left(t, x, y, z\\right) \\frac{\\partial^2\\,\\beta_x}{\\partial x\\partial z} \\\\ \\mathrm{Riem}\\left(g\\right)_{ \\phantom{\\, t} \\, x \\, t \\, x }^{ \\, t \\phantom{\\, x} \\phantom{\\, t} \\phantom{\\, x} } & = & \\left(\\frac{\\partial\\,\\beta_x}{\\partial x}\\right)^{2} + \\beta_x\\left(t, x, y, z\\right) \\frac{\\partial^2\\,\\beta_x}{\\partial x ^ 2} - \\frac{1}{4} \\, \\left(\\frac{\\partial\\,\\beta_x}{\\partial y}\\right)^{2} - \\frac{1}{4} \\, \\left(\\frac{\\partial\\,\\beta_x}{\\partial z}\\right)^{2} - \\frac{\\partial^2\\,\\beta_x}{\\partial t\\partial x} \\\\ \\mathrm{Riem}\\left(g\\right)_{ \\phantom{\\, t} \\, x \\, t \\, y }^{ \\, t \\phantom{\\, x} \\phantom{\\, t} \\phantom{\\, y} } & = & \\beta_x\\left(t, x, y, z\\right) \\frac{\\partial^2\\,\\beta_x}{\\partial x\\partial y} + \\frac{\\partial\\,\\beta_x}{\\partial x} \\frac{\\partial\\,\\beta_x}{\\partial y} - \\frac{1}{2} \\, \\frac{\\partial^2\\,\\beta_x}{\\partial t\\partial y} \\\\ \\mathrm{Riem}\\left(g\\right)_{ \\phantom{\\, t} \\, x \\, t \\, z }^{ \\, t \\phantom{\\, x} \\phantom{\\, t} \\phantom{\\, z} } & = & \\beta_x\\left(t, x, y, z\\right) \\frac{\\partial^2\\,\\beta_x}{\\partial x\\partial z} + \\frac{\\partial\\,\\beta_x}{\\partial x} \\frac{\\partial\\,\\beta_x}{\\partial z} - \\frac{1}{2} \\, \\frac{\\partial^2\\,\\beta_x}{\\partial t\\partial z} \\\\ \\mathrm{Riem}\\left(g\\right)_{ \\phantom{\\, t} \\, x \\, x \\, y }^{ \\, t \\phantom{\\, x} \\phantom{\\, x} \\phantom{\\, y} } & = & \\frac{1}{2} \\, \\frac{\\partial^2\\,\\beta_x}{\\partial x\\partial y} \\\\ \\mathrm{Riem}\\left(g\\right)_{ \\phantom{\\, t} \\, x \\, x \\, z }^{ \\, t \\phantom{\\, x} \\phantom{\\, x} \\phantom{\\, z} } & = & \\frac{1}{2} \\, \\frac{\\partial^2\\,\\beta_x}{\\partial x\\partial z} \\\\ \\mathrm{Riem}\\left(g\\right)_{ \\phantom{\\, t} \\, y \\, t \\, x }^{ \\, t \\phantom{\\, y} \\phantom{\\, t} \\phantom{\\, x} } & = & \\frac{1}{2} \\, \\beta_x\\left(t, x, y, z\\right) \\frac{\\partial^2\\,\\beta_x}{\\partial x\\partial y} + \\frac{\\partial\\,\\beta_x}{\\partial x} \\frac{\\partial\\,\\beta_x}{\\partial y} - \\frac{1}{2} \\, \\frac{\\partial^2\\,\\beta_x}{\\partial t\\partial y} \\\\ \\mathrm{Riem}\\left(g\\right)_{ \\phantom{\\, t} \\, y \\, t \\, y }^{ \\, t \\phantom{\\, y} \\phantom{\\, t} \\phantom{\\, y} } & = & \\frac{3}{4} \\, \\left(\\frac{\\partial\\,\\beta_x}{\\partial y}\\right)^{2} + \\frac{1}{2} \\, \\beta_x\\left(t, x, y, z\\right) \\frac{\\partial^2\\,\\beta_x}{\\partial y ^ 2} \\\\ \\mathrm{Riem}\\left(g\\right)_{ \\phantom{\\, t} \\, y \\, t \\, z }^{ \\, t \\phantom{\\, y} \\phantom{\\, t} \\phantom{\\, z} } & = & \\frac{1}{2} \\, \\beta_x\\left(t, x, y, z\\right) \\frac{\\partial^2\\,\\beta_x}{\\partial y\\partial z} + \\frac{3}{4} \\, \\frac{\\partial\\,\\beta_x}{\\partial y} \\frac{\\partial\\,\\beta_x}{\\partial z} \\\\ \\mathrm{Riem}\\left(g\\right)_{ \\phantom{\\, t} \\, y \\, x \\, y }^{ \\, t \\phantom{\\, y} \\phantom{\\, x} \\phantom{\\, y} } & = & \\frac{1}{2} \\, \\frac{\\partial^2\\,\\beta_x}{\\partial y ^ 2} \\\\ \\mathrm{Riem}\\left(g\\right)_{ \\phantom{\\, t} \\, y \\, x \\, z }^{ \\, t \\phantom{\\, y} \\phantom{\\, x} \\phantom{\\, z} } & = & \\frac{1}{2} \\, \\frac{\\partial^2\\,\\beta_x}{\\partial y\\partial z} \\\\ \\mathrm{Riem}\\left(g\\right)_{ \\phantom{\\, t} \\, z \\, t \\, x }^{ \\, t \\phantom{\\, z} \\phantom{\\, t} \\phantom{\\, x} } & = & \\frac{1}{2} \\, \\beta_x\\left(t, x, y, z\\right) \\frac{\\partial^2\\,\\beta_x}{\\partial x\\partial z} + \\frac{\\partial\\,\\beta_x}{\\partial x} \\frac{\\partial\\,\\beta_x}{\\partial z} - \\frac{1}{2} \\, \\frac{\\partial^2\\,\\beta_x}{\\partial t\\partial z} \\\\ \\mathrm{Riem}\\left(g\\right)_{ \\phantom{\\, t} \\, z \\, t \\, y }^{ \\, t \\phantom{\\, z} \\phantom{\\, t} \\phantom{\\, y} } & = & \\frac{1}{2} \\, \\beta_x\\left(t, x, y, z\\right) \\frac{\\partial^2\\,\\beta_x}{\\partial y\\partial z} + \\frac{3}{4} \\, \\frac{\\partial\\,\\beta_x}{\\partial y} \\frac{\\partial\\,\\beta_x}{\\partial z} \\\\ \\mathrm{Riem}\\left(g\\right)_{ \\phantom{\\, t} \\, z \\, t \\, z }^{ \\, t \\phantom{\\, z} \\phantom{\\, t} \\phantom{\\, z} } & = & \\frac{3}{4} \\, \\left(\\frac{\\partial\\,\\beta_x}{\\partial z}\\right)^{2} + \\frac{1}{2} \\, \\beta_x\\left(t, x, y, z\\right) \\frac{\\partial^2\\,\\beta_x}{\\partial z ^ 2} \\\\ \\mathrm{Riem}\\left(g\\right)_{ \\phantom{\\, t} \\, z \\, x \\, y }^{ \\, t \\phantom{\\, z} \\phantom{\\, x} \\phantom{\\, y} } & = & \\frac{1}{2} \\, \\frac{\\partial^2\\,\\beta_x}{\\partial y\\partial z} \\\\ \\mathrm{Riem}\\left(g\\right)_{ \\phantom{\\, t} \\, z \\, x \\, z }^{ \\, t \\phantom{\\, z} \\phantom{\\, x} \\phantom{\\, z} } & = & \\frac{1}{2} \\, \\frac{\\partial^2\\,\\beta_x}{\\partial z ^ 2} \\\\ \\mathrm{Riem}\\left(g\\right)_{ \\phantom{\\, x} \\, t \\, t \\, x }^{ \\, x \\phantom{\\, t} \\phantom{\\, t} \\phantom{\\, x} } & = & -{\\left(\\beta_x\\left(t, x, y, z\\right)^{2} - 1\\right)} \\left(\\frac{\\partial\\,\\beta_x}{\\partial x}\\right)^{2} + \\frac{1}{4} \\, {\\left(\\beta_x\\left(t, x, y, z\\right)^{2} - 1\\right)} \\left(\\frac{\\partial\\,\\beta_x}{\\partial y}\\right)^{2} + \\frac{1}{4} \\, {\\left(\\beta_x\\left(t, x, y, z\\right)^{2} - 1\\right)} \\left(\\frac{\\partial\\,\\beta_x}{\\partial z}\\right)^{2} + {\\left(\\beta_x\\left(t, x, y, z\\right)^{2} - 1\\right)} \\frac{\\partial^2\\,\\beta_x}{\\partial t\\partial x} - {\\left(\\beta_x\\left(t, x, y, z\\right)^{3} - \\beta_x\\left(t, x, y, z\\right)\\right)} \\frac{\\partial^2\\,\\beta_x}{\\partial x ^ 2} \\\\ \\mathrm{Riem}\\left(g\\right)_{ \\phantom{\\, x} \\, t \\, t \\, y }^{ \\, x \\phantom{\\, t} \\phantom{\\, t} \\phantom{\\, y} } & = & -{\\left(\\beta_x\\left(t, x, y, z\\right)^{2} - 1\\right)} \\frac{\\partial\\,\\beta_x}{\\partial x} \\frac{\\partial\\,\\beta_x}{\\partial y} + \\frac{1}{2} \\, {\\left(\\beta_x\\left(t, x, y, z\\right)^{2} - 1\\right)} \\frac{\\partial^2\\,\\beta_x}{\\partial t\\partial y} - {\\left(\\beta_x\\left(t, x, y, z\\right)^{3} - \\beta_x\\left(t, x, y, z\\right)\\right)} \\frac{\\partial^2\\,\\beta_x}{\\partial x\\partial y} \\\\ \\mathrm{Riem}\\left(g\\right)_{ \\phantom{\\, x} \\, t \\, t \\, z }^{ \\, x \\phantom{\\, t} \\phantom{\\, t} \\phantom{\\, z} } & = & -{\\left(\\beta_x\\left(t, x, y, z\\right)^{2} - 1\\right)} \\frac{\\partial\\,\\beta_x}{\\partial x} \\frac{\\partial\\,\\beta_x}{\\partial z} + \\frac{1}{2} \\, {\\left(\\beta_x\\left(t, x, y, z\\right)^{2} - 1\\right)} \\frac{\\partial^2\\,\\beta_x}{\\partial t\\partial z} - {\\left(\\beta_x\\left(t, x, y, z\\right)^{3} - \\beta_x\\left(t, x, y, z\\right)\\right)} \\frac{\\partial^2\\,\\beta_x}{\\partial x\\partial z} \\\\ \\mathrm{Riem}\\left(g\\right)_{ \\phantom{\\, x} \\, t \\, x \\, y }^{ \\, x \\phantom{\\, t} \\phantom{\\, x} \\phantom{\\, y} } & = & -\\frac{1}{2} \\, {\\left(\\beta_x\\left(t, x, y, z\\right)^{2} - 1\\right)} \\frac{\\partial^2\\,\\beta_x}{\\partial x\\partial y} \\\\ \\mathrm{Riem}\\left(g\\right)_{ \\phantom{\\, x} \\, t \\, x \\, z }^{ \\, x \\phantom{\\, t} \\phantom{\\, x} \\phantom{\\, z} } & = & -\\frac{1}{2} \\, {\\left(\\beta_x\\left(t, x, y, z\\right)^{2} - 1\\right)} \\frac{\\partial^2\\,\\beta_x}{\\partial x\\partial z} \\\\ \\mathrm{Riem}\\left(g\\right)_{ \\phantom{\\, x} \\, x \\, t \\, x }^{ \\, x \\phantom{\\, x} \\phantom{\\, t} \\phantom{\\, x} } & = & -\\beta_x\\left(t, x, y, z\\right) \\left(\\frac{\\partial\\,\\beta_x}{\\partial x}\\right)^{2} - \\beta_x\\left(t, x, y, z\\right)^{2} \\frac{\\partial^2\\,\\beta_x}{\\partial x ^ 2} + \\frac{1}{4} \\, \\beta_x\\left(t, x, y, z\\right) \\left(\\frac{\\partial\\,\\beta_x}{\\partial y}\\right)^{2} + \\frac{1}{4} \\, \\beta_x\\left(t, x, y, z\\right) \\left(\\frac{\\partial\\,\\beta_x}{\\partial z}\\right)^{2} + \\beta_x\\left(t, x, y, z\\right) \\frac{\\partial^2\\,\\beta_x}{\\partial t\\partial x} \\\\ \\mathrm{Riem}\\left(g\\right)_{ \\phantom{\\, x} \\, x \\, t \\, y }^{ \\, x \\phantom{\\, x} \\phantom{\\, t} \\phantom{\\, y} } & = & -\\beta_x\\left(t, x, y, z\\right)^{2} \\frac{\\partial^2\\,\\beta_x}{\\partial x\\partial y} - \\beta_x\\left(t, x, y, z\\right) \\frac{\\partial\\,\\beta_x}{\\partial x} \\frac{\\partial\\,\\beta_x}{\\partial y} + \\frac{1}{2} \\, \\beta_x\\left(t, x, y, z\\right) \\frac{\\partial^2\\,\\beta_x}{\\partial t\\partial y} \\\\ \\mathrm{Riem}\\left(g\\right)_{ \\phantom{\\, x} \\, x \\, t \\, z }^{ \\, x \\phantom{\\, x} \\phantom{\\, t} \\phantom{\\, z} } & = & -\\beta_x\\left(t, x, y, z\\right)^{2} \\frac{\\partial^2\\,\\beta_x}{\\partial x\\partial z} - \\beta_x\\left(t, x, y, z\\right) \\frac{\\partial\\,\\beta_x}{\\partial x} \\frac{\\partial\\,\\beta_x}{\\partial z} + \\frac{1}{2} \\, \\beta_x\\left(t, x, y, z\\right) \\frac{\\partial^2\\,\\beta_x}{\\partial t\\partial z} \\\\ \\mathrm{Riem}\\left(g\\right)_{ \\phantom{\\, x} \\, x \\, x \\, y }^{ \\, x \\phantom{\\, x} \\phantom{\\, x} \\phantom{\\, y} } & = & -\\frac{1}{2} \\, \\beta_x\\left(t, x, y, z\\right) \\frac{\\partial^2\\,\\beta_x}{\\partial x\\partial y} \\\\ \\mathrm{Riem}\\left(g\\right)_{ \\phantom{\\, x} \\, x \\, x \\, z }^{ \\, x \\phantom{\\, x} \\phantom{\\, x} \\phantom{\\, z} } & = & -\\frac{1}{2} \\, \\beta_x\\left(t, x, y, z\\right) \\frac{\\partial^2\\,\\beta_x}{\\partial x\\partial z} \\\\ \\mathrm{Riem}\\left(g\\right)_{ \\phantom{\\, x} \\, y \\, t \\, x }^{ \\, x \\phantom{\\, y} \\phantom{\\, t} \\phantom{\\, x} } & = & -\\beta_x\\left(t, x, y, z\\right) \\frac{\\partial\\,\\beta_x}{\\partial x} \\frac{\\partial\\,\\beta_x}{\\partial y} + \\frac{1}{2} \\, \\beta_x\\left(t, x, y, z\\right) \\frac{\\partial^2\\,\\beta_x}{\\partial t\\partial y} - \\frac{1}{2} \\, {\\left(\\beta_x\\left(t, x, y, z\\right)^{2} + 1\\right)} \\frac{\\partial^2\\,\\beta_x}{\\partial x\\partial y} \\\\ \\mathrm{Riem}\\left(g\\right)_{ \\phantom{\\, x} \\, y \\, t \\, y }^{ \\, x \\phantom{\\, y} \\phantom{\\, t} \\phantom{\\, y} } & = & -\\beta_x\\left(t, x, y, z\\right) \\left(\\frac{\\partial\\,\\beta_x}{\\partial y}\\right)^{2} - \\frac{1}{2} \\, {\\left(\\beta_x\\left(t, x, y, z\\right)^{2} + 1\\right)} \\frac{\\partial^2\\,\\beta_x}{\\partial y ^ 2} \\\\ \\mathrm{Riem}\\left(g\\right)_{ \\phantom{\\, x} \\, y \\, t \\, z }^{ \\, x \\phantom{\\, y} \\phantom{\\, t} \\phantom{\\, z} } & = & -\\beta_x\\left(t, x, y, z\\right) \\frac{\\partial\\,\\beta_x}{\\partial y} \\frac{\\partial\\,\\beta_x}{\\partial z} - \\frac{1}{2} \\, {\\left(\\beta_x\\left(t, x, y, z\\right)^{2} + 1\\right)} \\frac{\\partial^2\\,\\beta_x}{\\partial y\\partial z} \\\\ \\mathrm{Riem}\\left(g\\right)_{ \\phantom{\\, x} \\, y \\, x \\, y }^{ \\, x \\phantom{\\, y} \\phantom{\\, x} \\phantom{\\, y} } & = & -\\frac{1}{4} \\, \\left(\\frac{\\partial\\,\\beta_x}{\\partial y}\\right)^{2} - \\frac{1}{2} \\, \\beta_x\\left(t, x, y, z\\right) \\frac{\\partial^2\\,\\beta_x}{\\partial y ^ 2} \\\\ \\mathrm{Riem}\\left(g\\right)_{ \\phantom{\\, x} \\, y \\, x \\, z }^{ \\, x \\phantom{\\, y} \\phantom{\\, x} \\phantom{\\, z} } & = & -\\frac{1}{2} \\, \\beta_x\\left(t, x, y, z\\right) \\frac{\\partial^2\\,\\beta_x}{\\partial y\\partial z} - \\frac{1}{4} \\, \\frac{\\partial\\,\\beta_x}{\\partial y} \\frac{\\partial\\,\\beta_x}{\\partial z} \\\\ \\mathrm{Riem}\\left(g\\right)_{ \\phantom{\\, x} \\, z \\, t \\, x }^{ \\, x \\phantom{\\, z} \\phantom{\\, t} \\phantom{\\, x} } & = & -\\beta_x\\left(t, x, y, z\\right) \\frac{\\partial\\,\\beta_x}{\\partial x} \\frac{\\partial\\,\\beta_x}{\\partial z} + \\frac{1}{2} \\, \\beta_x\\left(t, x, y, z\\right) \\frac{\\partial^2\\,\\beta_x}{\\partial t\\partial z} - \\frac{1}{2} \\, {\\left(\\beta_x\\left(t, x, y, z\\right)^{2} + 1\\right)} \\frac{\\partial^2\\,\\beta_x}{\\partial x\\partial z} \\\\ \\mathrm{Riem}\\left(g\\right)_{ \\phantom{\\, x} \\, z \\, t \\, y }^{ \\, x \\phantom{\\, z} \\phantom{\\, t} \\phantom{\\, y} } & = & -\\beta_x\\left(t, x, y, z\\right) \\frac{\\partial\\,\\beta_x}{\\partial y} \\frac{\\partial\\,\\beta_x}{\\partial z} - \\frac{1}{2} \\, {\\left(\\beta_x\\left(t, x, y, z\\right)^{2} + 1\\right)} \\frac{\\partial^2\\,\\beta_x}{\\partial y\\partial z} \\\\ \\mathrm{Riem}\\left(g\\right)_{ \\phantom{\\, x} \\, z \\, t \\, z }^{ \\, x \\phantom{\\, z} \\phantom{\\, t} \\phantom{\\, z} } & = & -\\beta_x\\left(t, x, y, z\\right) \\left(\\frac{\\partial\\,\\beta_x}{\\partial z}\\right)^{2} - \\frac{1}{2} \\, {\\left(\\beta_x\\left(t, x, y, z\\right)^{2} + 1\\right)} \\frac{\\partial^2\\,\\beta_x}{\\partial z ^ 2} \\\\ \\mathrm{Riem}\\left(g\\right)_{ \\phantom{\\, x} \\, z \\, x \\, y }^{ \\, x \\phantom{\\, z} \\phantom{\\, x} \\phantom{\\, y} } & = & -\\frac{1}{2} \\, \\beta_x\\left(t, x, y, z\\right) \\frac{\\partial^2\\,\\beta_x}{\\partial y\\partial z} - \\frac{1}{4} \\, \\frac{\\partial\\,\\beta_x}{\\partial y} \\frac{\\partial\\,\\beta_x}{\\partial z} \\\\ \\mathrm{Riem}\\left(g\\right)_{ \\phantom{\\, x} \\, z \\, x \\, z }^{ \\, x \\phantom{\\, z} \\phantom{\\, x} \\phantom{\\, z} } & = & -\\frac{1}{4} \\, \\left(\\frac{\\partial\\,\\beta_x}{\\partial z}\\right)^{2} - \\frac{1}{2} \\, \\beta_x\\left(t, x, y, z\\right) \\frac{\\partial^2\\,\\beta_x}{\\partial z ^ 2} \\\\ \\mathrm{Riem}\\left(g\\right)_{ \\phantom{\\, y} \\, t \\, t \\, x }^{ \\, y \\phantom{\\, t} \\phantom{\\, t} \\phantom{\\, x} } & = & \\beta_x\\left(t, x, y, z\\right) \\frac{\\partial^2\\,\\beta_x}{\\partial x\\partial y} + \\frac{\\partial\\,\\beta_x}{\\partial x} \\frac{\\partial\\,\\beta_x}{\\partial y} - \\frac{1}{2} \\, \\frac{\\partial^2\\,\\beta_x}{\\partial t\\partial y} \\\\ \\mathrm{Riem}\\left(g\\right)_{ \\phantom{\\, y} \\, t \\, t \\, y }^{ \\, y \\phantom{\\, t} \\phantom{\\, t} \\phantom{\\, y} } & = & \\frac{1}{4} \\, {\\left(\\beta_x\\left(t, x, y, z\\right)^{2} + 3\\right)} \\left(\\frac{\\partial\\,\\beta_x}{\\partial y}\\right)^{2} + \\beta_x\\left(t, x, y, z\\right) \\frac{\\partial^2\\,\\beta_x}{\\partial y ^ 2} \\\\ \\mathrm{Riem}\\left(g\\right)_{ \\phantom{\\, y} \\, t \\, t \\, z }^{ \\, y \\phantom{\\, t} \\phantom{\\, t} \\phantom{\\, z} } & = & \\frac{1}{4} \\, {\\left(\\beta_x\\left(t, x, y, z\\right)^{2} + 3\\right)} \\frac{\\partial\\,\\beta_x}{\\partial y} \\frac{\\partial\\,\\beta_x}{\\partial z} + \\beta_x\\left(t, x, y, z\\right) \\frac{\\partial^2\\,\\beta_x}{\\partial y\\partial z} \\\\ \\mathrm{Riem}\\left(g\\right)_{ \\phantom{\\, y} \\, t \\, x \\, y }^{ \\, y \\phantom{\\, t} \\phantom{\\, x} \\phantom{\\, y} } & = & \\frac{1}{4} \\, \\beta_x\\left(t, x, y, z\\right) \\left(\\frac{\\partial\\,\\beta_x}{\\partial y}\\right)^{2} + \\frac{1}{2} \\, \\frac{\\partial^2\\,\\beta_x}{\\partial y ^ 2} \\\\ \\mathrm{Riem}\\left(g\\right)_{ \\phantom{\\, y} \\, t \\, x \\, z }^{ \\, y \\phantom{\\, t} \\phantom{\\, x} \\phantom{\\, z} } & = & \\frac{1}{4} \\, \\beta_x\\left(t, x, y, z\\right) \\frac{\\partial\\,\\beta_x}{\\partial y} \\frac{\\partial\\,\\beta_x}{\\partial z} + \\frac{1}{2} \\, \\frac{\\partial^2\\,\\beta_x}{\\partial y\\partial z} \\\\ \\mathrm{Riem}\\left(g\\right)_{ \\phantom{\\, y} \\, x \\, t \\, x }^{ \\, y \\phantom{\\, x} \\phantom{\\, t} \\phantom{\\, x} } & = & \\frac{1}{2} \\, \\frac{\\partial^2\\,\\beta_x}{\\partial x\\partial y} \\\\ \\mathrm{Riem}\\left(g\\right)_{ \\phantom{\\, y} \\, x \\, t \\, y }^{ \\, y \\phantom{\\, x} \\phantom{\\, t} \\phantom{\\, y} } & = & \\frac{1}{4} \\, \\beta_x\\left(t, x, y, z\\right) \\left(\\frac{\\partial\\,\\beta_x}{\\partial y}\\right)^{2} + \\frac{1}{2} \\, \\frac{\\partial^2\\,\\beta_x}{\\partial y ^ 2} \\\\ \\mathrm{Riem}\\left(g\\right)_{ \\phantom{\\, y} \\, x \\, t \\, z }^{ \\, y \\phantom{\\, x} \\phantom{\\, t} \\phantom{\\, z} } & = & \\frac{1}{4} \\, \\beta_x\\left(t, x, y, z\\right) \\frac{\\partial\\,\\beta_x}{\\partial y} \\frac{\\partial\\,\\beta_x}{\\partial z} + \\frac{1}{2} \\, \\frac{\\partial^2\\,\\beta_x}{\\partial y\\partial z} \\\\ \\mathrm{Riem}\\left(g\\right)_{ \\phantom{\\, y} \\, x \\, x \\, y }^{ \\, y \\phantom{\\, x} \\phantom{\\, x} \\phantom{\\, y} } & = & \\frac{1}{4} \\, \\left(\\frac{\\partial\\,\\beta_x}{\\partial y}\\right)^{2} \\\\ \\mathrm{Riem}\\left(g\\right)_{ \\phantom{\\, y} \\, x \\, x \\, z }^{ \\, y \\phantom{\\, x} \\phantom{\\, x} \\phantom{\\, z} } & = & \\frac{1}{4} \\, \\frac{\\partial\\,\\beta_x}{\\partial y} \\frac{\\partial\\,\\beta_x}{\\partial z} \\\\ \\mathrm{Riem}\\left(g\\right)_{ \\phantom{\\, z} \\, t \\, t \\, x }^{ \\, z \\phantom{\\, t} \\phantom{\\, t} \\phantom{\\, x} } & = & \\beta_x\\left(t, x, y, z\\right) \\frac{\\partial^2\\,\\beta_x}{\\partial x\\partial z} + \\frac{\\partial\\,\\beta_x}{\\partial x} \\frac{\\partial\\,\\beta_x}{\\partial z} - \\frac{1}{2} \\, \\frac{\\partial^2\\,\\beta_x}{\\partial t\\partial z} \\\\ \\mathrm{Riem}\\left(g\\right)_{ \\phantom{\\, z} \\, t \\, t \\, y }^{ \\, z \\phantom{\\, t} \\phantom{\\, t} \\phantom{\\, y} } & = & \\frac{1}{4} \\, {\\left(\\beta_x\\left(t, x, y, z\\right)^{2} + 3\\right)} \\frac{\\partial\\,\\beta_x}{\\partial y} \\frac{\\partial\\,\\beta_x}{\\partial z} + \\beta_x\\left(t, x, y, z\\right) \\frac{\\partial^2\\,\\beta_x}{\\partial y\\partial z} \\\\ \\mathrm{Riem}\\left(g\\right)_{ \\phantom{\\, z} \\, t \\, t \\, z }^{ \\, z \\phantom{\\, t} \\phantom{\\, t} \\phantom{\\, z} } & = & \\frac{1}{4} \\, {\\left(\\beta_x\\left(t, x, y, z\\right)^{2} + 3\\right)} \\left(\\frac{\\partial\\,\\beta_x}{\\partial z}\\right)^{2} + \\beta_x\\left(t, x, y, z\\right) \\frac{\\partial^2\\,\\beta_x}{\\partial z ^ 2} \\\\ \\mathrm{Riem}\\left(g\\right)_{ \\phantom{\\, z} \\, t \\, x \\, y }^{ \\, z \\phantom{\\, t} \\phantom{\\, x} \\phantom{\\, y} } & = & \\frac{1}{4} \\, \\beta_x\\left(t, x, y, z\\right) \\frac{\\partial\\,\\beta_x}{\\partial y} \\frac{\\partial\\,\\beta_x}{\\partial z} + \\frac{1}{2} \\, \\frac{\\partial^2\\,\\beta_x}{\\partial y\\partial z} \\\\ \\mathrm{Riem}\\left(g\\right)_{ \\phantom{\\, z} \\, t \\, x \\, z }^{ \\, z \\phantom{\\, t} \\phantom{\\, x} \\phantom{\\, z} } & = & \\frac{1}{4} \\, \\beta_x\\left(t, x, y, z\\right) \\left(\\frac{\\partial\\,\\beta_x}{\\partial z}\\right)^{2} + \\frac{1}{2} \\, \\frac{\\partial^2\\,\\beta_x}{\\partial z ^ 2} \\\\ \\mathrm{Riem}\\left(g\\right)_{ \\phantom{\\, z} \\, x \\, t \\, x }^{ \\, z \\phantom{\\, x} \\phantom{\\, t} \\phantom{\\, x} } & = & \\frac{1}{2} \\, \\frac{\\partial^2\\,\\beta_x}{\\partial x\\partial z} \\\\ \\mathrm{Riem}\\left(g\\right)_{ \\phantom{\\, z} \\, x \\, t \\, y }^{ \\, z \\phantom{\\, x} \\phantom{\\, t} \\phantom{\\, y} } & = & \\frac{1}{4} \\, \\beta_x\\left(t, x, y, z\\right) \\frac{\\partial\\,\\beta_x}{\\partial y} \\frac{\\partial\\,\\beta_x}{\\partial z} + \\frac{1}{2} \\, \\frac{\\partial^2\\,\\beta_x}{\\partial y\\partial z} \\\\ \\mathrm{Riem}\\left(g\\right)_{ \\phantom{\\, z} \\, x \\, t \\, z }^{ \\, z \\phantom{\\, x} \\phantom{\\, t} \\phantom{\\, z} } & = & \\frac{1}{4} \\, \\beta_x\\left(t, x, y, z\\right) \\left(\\frac{\\partial\\,\\beta_x}{\\partial z}\\right)^{2} + \\frac{1}{2} \\, \\frac{\\partial^2\\,\\beta_x}{\\partial z ^ 2} \\\\ \\mathrm{Riem}\\left(g\\right)_{ \\phantom{\\, z} \\, x \\, x \\, y }^{ \\, z \\phantom{\\, x} \\phantom{\\, x} \\phantom{\\, y} } & = & \\frac{1}{4} \\, \\frac{\\partial\\,\\beta_x}{\\partial y} \\frac{\\partial\\,\\beta_x}{\\partial z} \\\\ \\mathrm{Riem}\\left(g\\right)_{ \\phantom{\\, z} \\, x \\, x \\, z }^{ \\, z \\phantom{\\, x} \\phantom{\\, x} \\phantom{\\, z} } & = & \\frac{1}{4} \\, \\left(\\frac{\\partial\\,\\beta_x}{\\partial z}\\right)^{2} \\end{array}$$"
      ],
      "text/plain": [
       "Riem(g)^t_ttx = shiftx(t, x, y, z)*(d(shiftx)/dx)^2 + shiftx(t, x, y, z)^2*d^2(shiftx)/dx^2 - 1/4*shiftx(t, x, y, z)*(d(shiftx)/dy)^2 - 1/4*shiftx(t, x, y, z)*(d(shiftx)/dz)^2 - shiftx(t, x, y, z)*d^2(shiftx)/dtdx \n",
       "Riem(g)^t_tty = shiftx(t, x, y, z)^2*d^2(shiftx)/dxdy + shiftx(t, x, y, z)*d(shiftx)/dx*d(shiftx)/dy - 1/2*shiftx(t, x, y, z)*d^2(shiftx)/dtdy \n",
       "Riem(g)^t_ttz = shiftx(t, x, y, z)^2*d^2(shiftx)/dxdz + shiftx(t, x, y, z)*d(shiftx)/dx*d(shiftx)/dz - 1/2*shiftx(t, x, y, z)*d^2(shiftx)/dtdz \n",
       "Riem(g)^t_txy = 1/2*shiftx(t, x, y, z)*d^2(shiftx)/dxdy \n",
       "Riem(g)^t_txz = 1/2*shiftx(t, x, y, z)*d^2(shiftx)/dxdz \n",
       "Riem(g)^t_xtx = (d(shiftx)/dx)^2 + shiftx(t, x, y, z)*d^2(shiftx)/dx^2 - 1/4*(d(shiftx)/dy)^2 - 1/4*(d(shiftx)/dz)^2 - d^2(shiftx)/dtdx \n",
       "Riem(g)^t_xty = shiftx(t, x, y, z)*d^2(shiftx)/dxdy + d(shiftx)/dx*d(shiftx)/dy - 1/2*d^2(shiftx)/dtdy \n",
       "Riem(g)^t_xtz = shiftx(t, x, y, z)*d^2(shiftx)/dxdz + d(shiftx)/dx*d(shiftx)/dz - 1/2*d^2(shiftx)/dtdz \n",
       "Riem(g)^t_xxy = 1/2*d^2(shiftx)/dxdy \n",
       "Riem(g)^t_xxz = 1/2*d^2(shiftx)/dxdz \n",
       "Riem(g)^t_ytx = 1/2*shiftx(t, x, y, z)*d^2(shiftx)/dxdy + d(shiftx)/dx*d(shiftx)/dy - 1/2*d^2(shiftx)/dtdy \n",
       "Riem(g)^t_yty = 3/4*(d(shiftx)/dy)^2 + 1/2*shiftx(t, x, y, z)*d^2(shiftx)/dy^2 \n",
       "Riem(g)^t_ytz = 1/2*shiftx(t, x, y, z)*d^2(shiftx)/dydz + 3/4*d(shiftx)/dy*d(shiftx)/dz \n",
       "Riem(g)^t_yxy = 1/2*d^2(shiftx)/dy^2 \n",
       "Riem(g)^t_yxz = 1/2*d^2(shiftx)/dydz \n",
       "Riem(g)^t_ztx = 1/2*shiftx(t, x, y, z)*d^2(shiftx)/dxdz + d(shiftx)/dx*d(shiftx)/dz - 1/2*d^2(shiftx)/dtdz \n",
       "Riem(g)^t_zty = 1/2*shiftx(t, x, y, z)*d^2(shiftx)/dydz + 3/4*d(shiftx)/dy*d(shiftx)/dz \n",
       "Riem(g)^t_ztz = 3/4*(d(shiftx)/dz)^2 + 1/2*shiftx(t, x, y, z)*d^2(shiftx)/dz^2 \n",
       "Riem(g)^t_zxy = 1/2*d^2(shiftx)/dydz \n",
       "Riem(g)^t_zxz = 1/2*d^2(shiftx)/dz^2 \n",
       "Riem(g)^x_ttx = -(shiftx(t, x, y, z)^2 - 1)*(d(shiftx)/dx)^2 + 1/4*(shiftx(t, x, y, z)^2 - 1)*(d(shiftx)/dy)^2 + 1/4*(shiftx(t, x, y, z)^2 - 1)*(d(shiftx)/dz)^2 + (shiftx(t, x, y, z)^2 - 1)*d^2(shiftx)/dtdx - (shiftx(t, x, y, z)^3 - shiftx(t, x, y, z))*d^2(shiftx)/dx^2 \n",
       "Riem(g)^x_tty = -(shiftx(t, x, y, z)^2 - 1)*d(shiftx)/dx*d(shiftx)/dy + 1/2*(shiftx(t, x, y, z)^2 - 1)*d^2(shiftx)/dtdy - (shiftx(t, x, y, z)^3 - shiftx(t, x, y, z))*d^2(shiftx)/dxdy \n",
       "Riem(g)^x_ttz = -(shiftx(t, x, y, z)^2 - 1)*d(shiftx)/dx*d(shiftx)/dz + 1/2*(shiftx(t, x, y, z)^2 - 1)*d^2(shiftx)/dtdz - (shiftx(t, x, y, z)^3 - shiftx(t, x, y, z))*d^2(shiftx)/dxdz \n",
       "Riem(g)^x_txy = -1/2*(shiftx(t, x, y, z)^2 - 1)*d^2(shiftx)/dxdy \n",
       "Riem(g)^x_txz = -1/2*(shiftx(t, x, y, z)^2 - 1)*d^2(shiftx)/dxdz \n",
       "Riem(g)^x_xtx = -shiftx(t, x, y, z)*(d(shiftx)/dx)^2 - shiftx(t, x, y, z)^2*d^2(shiftx)/dx^2 + 1/4*shiftx(t, x, y, z)*(d(shiftx)/dy)^2 + 1/4*shiftx(t, x, y, z)*(d(shiftx)/dz)^2 + shiftx(t, x, y, z)*d^2(shiftx)/dtdx \n",
       "Riem(g)^x_xty = -shiftx(t, x, y, z)^2*d^2(shiftx)/dxdy - shiftx(t, x, y, z)*d(shiftx)/dx*d(shiftx)/dy + 1/2*shiftx(t, x, y, z)*d^2(shiftx)/dtdy \n",
       "Riem(g)^x_xtz = -shiftx(t, x, y, z)^2*d^2(shiftx)/dxdz - shiftx(t, x, y, z)*d(shiftx)/dx*d(shiftx)/dz + 1/2*shiftx(t, x, y, z)*d^2(shiftx)/dtdz \n",
       "Riem(g)^x_xxy = -1/2*shiftx(t, x, y, z)*d^2(shiftx)/dxdy \n",
       "Riem(g)^x_xxz = -1/2*shiftx(t, x, y, z)*d^2(shiftx)/dxdz \n",
       "Riem(g)^x_ytx = -shiftx(t, x, y, z)*d(shiftx)/dx*d(shiftx)/dy + 1/2*shiftx(t, x, y, z)*d^2(shiftx)/dtdy - 1/2*(shiftx(t, x, y, z)^2 + 1)*d^2(shiftx)/dxdy \n",
       "Riem(g)^x_yty = -shiftx(t, x, y, z)*(d(shiftx)/dy)^2 - 1/2*(shiftx(t, x, y, z)^2 + 1)*d^2(shiftx)/dy^2 \n",
       "Riem(g)^x_ytz = -shiftx(t, x, y, z)*d(shiftx)/dy*d(shiftx)/dz - 1/2*(shiftx(t, x, y, z)^2 + 1)*d^2(shiftx)/dydz \n",
       "Riem(g)^x_yxy = -1/4*(d(shiftx)/dy)^2 - 1/2*shiftx(t, x, y, z)*d^2(shiftx)/dy^2 \n",
       "Riem(g)^x_yxz = -1/2*shiftx(t, x, y, z)*d^2(shiftx)/dydz - 1/4*d(shiftx)/dy*d(shiftx)/dz \n",
       "Riem(g)^x_ztx = -shiftx(t, x, y, z)*d(shiftx)/dx*d(shiftx)/dz + 1/2*shiftx(t, x, y, z)*d^2(shiftx)/dtdz - 1/2*(shiftx(t, x, y, z)^2 + 1)*d^2(shiftx)/dxdz \n",
       "Riem(g)^x_zty = -shiftx(t, x, y, z)*d(shiftx)/dy*d(shiftx)/dz - 1/2*(shiftx(t, x, y, z)^2 + 1)*d^2(shiftx)/dydz \n",
       "Riem(g)^x_ztz = -shiftx(t, x, y, z)*(d(shiftx)/dz)^2 - 1/2*(shiftx(t, x, y, z)^2 + 1)*d^2(shiftx)/dz^2 \n",
       "Riem(g)^x_zxy = -1/2*shiftx(t, x, y, z)*d^2(shiftx)/dydz - 1/4*d(shiftx)/dy*d(shiftx)/dz \n",
       "Riem(g)^x_zxz = -1/4*(d(shiftx)/dz)^2 - 1/2*shiftx(t, x, y, z)*d^2(shiftx)/dz^2 \n",
       "Riem(g)^y_ttx = shiftx(t, x, y, z)*d^2(shiftx)/dxdy + d(shiftx)/dx*d(shiftx)/dy - 1/2*d^2(shiftx)/dtdy \n",
       "Riem(g)^y_tty = 1/4*(shiftx(t, x, y, z)^2 + 3)*(d(shiftx)/dy)^2 + shiftx(t, x, y, z)*d^2(shiftx)/dy^2 \n",
       "Riem(g)^y_ttz = 1/4*(shiftx(t, x, y, z)^2 + 3)*d(shiftx)/dy*d(shiftx)/dz + shiftx(t, x, y, z)*d^2(shiftx)/dydz \n",
       "Riem(g)^y_txy = 1/4*shiftx(t, x, y, z)*(d(shiftx)/dy)^2 + 1/2*d^2(shiftx)/dy^2 \n",
       "Riem(g)^y_txz = 1/4*shiftx(t, x, y, z)*d(shiftx)/dy*d(shiftx)/dz + 1/2*d^2(shiftx)/dydz \n",
       "Riem(g)^y_xtx = 1/2*d^2(shiftx)/dxdy \n",
       "Riem(g)^y_xty = 1/4*shiftx(t, x, y, z)*(d(shiftx)/dy)^2 + 1/2*d^2(shiftx)/dy^2 \n",
       "Riem(g)^y_xtz = 1/4*shiftx(t, x, y, z)*d(shiftx)/dy*d(shiftx)/dz + 1/2*d^2(shiftx)/dydz \n",
       "Riem(g)^y_xxy = 1/4*(d(shiftx)/dy)^2 \n",
       "Riem(g)^y_xxz = 1/4*d(shiftx)/dy*d(shiftx)/dz \n",
       "Riem(g)^z_ttx = shiftx(t, x, y, z)*d^2(shiftx)/dxdz + d(shiftx)/dx*d(shiftx)/dz - 1/2*d^2(shiftx)/dtdz \n",
       "Riem(g)^z_tty = 1/4*(shiftx(t, x, y, z)^2 + 3)*d(shiftx)/dy*d(shiftx)/dz + shiftx(t, x, y, z)*d^2(shiftx)/dydz \n",
       "Riem(g)^z_ttz = 1/4*(shiftx(t, x, y, z)^2 + 3)*(d(shiftx)/dz)^2 + shiftx(t, x, y, z)*d^2(shiftx)/dz^2 \n",
       "Riem(g)^z_txy = 1/4*shiftx(t, x, y, z)*d(shiftx)/dy*d(shiftx)/dz + 1/2*d^2(shiftx)/dydz \n",
       "Riem(g)^z_txz = 1/4*shiftx(t, x, y, z)*(d(shiftx)/dz)^2 + 1/2*d^2(shiftx)/dz^2 \n",
       "Riem(g)^z_xtx = 1/2*d^2(shiftx)/dxdz \n",
       "Riem(g)^z_xty = 1/4*shiftx(t, x, y, z)*d(shiftx)/dy*d(shiftx)/dz + 1/2*d^2(shiftx)/dydz \n",
       "Riem(g)^z_xtz = 1/4*shiftx(t, x, y, z)*(d(shiftx)/dz)^2 + 1/2*d^2(shiftx)/dz^2 \n",
       "Riem(g)^z_xxy = 1/4*d(shiftx)/dy*d(shiftx)/dz \n",
       "Riem(g)^z_xxz = 1/4*(d(shiftx)/dz)^2 "
      ]
     },
     "execution_count": 7,
     "metadata": {},
     "output_type": "execute_result"
    }
   ],
   "source": [
    "Rie = g.riemann()\n",
    "Rie.display_comp(only_nonredundant=True)"
   ]
  },
  {
   "cell_type": "code",
   "execution_count": 8,
   "metadata": {},
   "outputs": [
    {
     "data": {
      "text/html": [
       "<html><script type=\"math/tex; mode=display\">\\newcommand{\\Bold}[1]{\\mathbf{#1}}\\beta_x\\left(t, x, y, z\\right) \\left(\\frac{\\partial\\,\\beta_x}{\\partial x}\\right)^{2} + \\beta_x\\left(t, x, y, z\\right)^{2} \\frac{\\partial^2\\,\\beta_x}{\\partial x ^ 2} - \\frac{1}{4} \\, \\beta_x\\left(t, x, y, z\\right) \\left(\\frac{\\partial\\,\\beta_x}{\\partial y}\\right)^{2} - \\frac{1}{4} \\, \\beta_x\\left(t, x, y, z\\right) \\left(\\frac{\\partial\\,\\beta_x}{\\partial z}\\right)^{2} - \\beta_x\\left(t, x, y, z\\right) \\frac{\\partial^2\\,\\beta_x}{\\partial t\\partial x}</script></html>"
      ],
      "text/latex": [
       "$$\\newcommand{\\Bold}[1]{\\mathbf{#1}}\\beta_x\\left(t, x, y, z\\right) \\left(\\frac{\\partial\\,\\beta_x}{\\partial x}\\right)^{2} + \\beta_x\\left(t, x, y, z\\right)^{2} \\frac{\\partial^2\\,\\beta_x}{\\partial x ^ 2} - \\frac{1}{4} \\, \\beta_x\\left(t, x, y, z\\right) \\left(\\frac{\\partial\\,\\beta_x}{\\partial y}\\right)^{2} - \\frac{1}{4} \\, \\beta_x\\left(t, x, y, z\\right) \\left(\\frac{\\partial\\,\\beta_x}{\\partial z}\\right)^{2} - \\beta_x\\left(t, x, y, z\\right) \\frac{\\partial^2\\,\\beta_x}{\\partial t\\partial x}$$"
      ],
      "text/plain": [
       "shiftx(t, x, y, z)*(d(shiftx)/dx)^2 + shiftx(t, x, y, z)^2*d^2(shiftx)/dx^2 - 1/4*shiftx(t, x, y, z)*(d(shiftx)/dy)^2 - 1/4*shiftx(t, x, y, z)*(d(shiftx)/dz)^2 - shiftx(t, x, y, z)*d^2(shiftx)/dtdx"
      ]
     },
     "execution_count": 8,
     "metadata": {},
     "output_type": "execute_result"
    }
   ],
   "source": [
    "Rie[1,1,1,0]"
   ]
  },
  {
   "cell_type": "markdown",
   "metadata": {},
   "source": [
    "## Einstein tensor components\n",
    "\n",
    "\\begin{equation}\n",
    "G_{\\mu \\nu} = R_{\\mu \\nu} - \\frac{1}{2} R g_{\\mu \\nu} - \\Lambda g_{\\mu \\nu}\n",
    "\\end{equation}"
   ]
  },
  {
   "cell_type": "code",
   "execution_count": 9,
   "metadata": {},
   "outputs": [
    {
     "name": "stdout",
     "output_type": "stream",
     "text": [
      "Field of symmetric bilinear forms G on the 4-dimensional Lorentzian manifold M\n",
      "(0, 2)\n"
     ]
    },
    {
     "data": {
      "text/html": [
       "<html><script type=\"math/tex; mode=display\">\\newcommand{\\Bold}[1]{\\mathbf{#1}}\\begin{array}{lcl} G_{ \\, t \\, t }^{ \\phantom{\\, t}\\phantom{\\, t} } & = & -{\\Lambda} \\beta_x\\left(t, x, y, z\\right)^{2} - \\frac{1}{4} \\, {\\left(3 \\, \\beta_x\\left(t, x, y, z\\right)^{2} + 1\\right)} \\left(\\frac{\\partial\\,\\beta_x}{\\partial y}\\right)^{2} - \\frac{1}{4} \\, {\\left(3 \\, \\beta_x\\left(t, x, y, z\\right)^{2} + 1\\right)} \\left(\\frac{\\partial\\,\\beta_x}{\\partial z}\\right)^{2} - \\beta_x\\left(t, x, y, z\\right) \\frac{\\partial^2\\,\\beta_x}{\\partial y ^ 2} - \\beta_x\\left(t, x, y, z\\right) \\frac{\\partial^2\\,\\beta_x}{\\partial z ^ 2} + {\\Lambda} \\\\ G_{ \\, t \\, x }^{ \\phantom{\\, t}\\phantom{\\, x} } & = & -\\frac{3}{4} \\, \\beta_x\\left(t, x, y, z\\right) \\left(\\frac{\\partial\\,\\beta_x}{\\partial y}\\right)^{2} - \\frac{3}{4} \\, \\beta_x\\left(t, x, y, z\\right) \\left(\\frac{\\partial\\,\\beta_x}{\\partial z}\\right)^{2} - {\\Lambda} \\beta_x\\left(t, x, y, z\\right) - \\frac{1}{2} \\, \\frac{\\partial^2\\,\\beta_x}{\\partial y ^ 2} - \\frac{1}{2} \\, \\frac{\\partial^2\\,\\beta_x}{\\partial z ^ 2} \\\\ G_{ \\, t \\, y }^{ \\phantom{\\, t}\\phantom{\\, y} } & = & \\beta_x\\left(t, x, y, z\\right) \\frac{\\partial\\,\\beta_x}{\\partial x} \\frac{\\partial\\,\\beta_x}{\\partial y} - \\frac{1}{2} \\, \\beta_x\\left(t, x, y, z\\right) \\frac{\\partial^2\\,\\beta_x}{\\partial t\\partial y} + \\frac{1}{2} \\, {\\left(\\beta_x\\left(t, x, y, z\\right)^{2} + 1\\right)} \\frac{\\partial^2\\,\\beta_x}{\\partial x\\partial y} \\\\ G_{ \\, t \\, z }^{ \\phantom{\\, t}\\phantom{\\, z} } & = & \\beta_x\\left(t, x, y, z\\right) \\frac{\\partial\\,\\beta_x}{\\partial x} \\frac{\\partial\\,\\beta_x}{\\partial z} - \\frac{1}{2} \\, \\beta_x\\left(t, x, y, z\\right) \\frac{\\partial^2\\,\\beta_x}{\\partial t\\partial z} + \\frac{1}{2} \\, {\\left(\\beta_x\\left(t, x, y, z\\right)^{2} + 1\\right)} \\frac{\\partial^2\\,\\beta_x}{\\partial x\\partial z} \\\\ G_{ \\, x \\, x }^{ \\phantom{\\, x}\\phantom{\\, x} } & = & -\\frac{3}{4} \\, \\left(\\frac{\\partial\\,\\beta_x}{\\partial y}\\right)^{2} - \\frac{3}{4} \\, \\left(\\frac{\\partial\\,\\beta_x}{\\partial z}\\right)^{2} - {\\Lambda} \\\\ G_{ \\, x \\, y }^{ \\phantom{\\, x}\\phantom{\\, y} } & = & \\frac{1}{2} \\, \\beta_x\\left(t, x, y, z\\right) \\frac{\\partial^2\\,\\beta_x}{\\partial x\\partial y} + \\frac{\\partial\\,\\beta_x}{\\partial x} \\frac{\\partial\\,\\beta_x}{\\partial y} - \\frac{1}{2} \\, \\frac{\\partial^2\\,\\beta_x}{\\partial t\\partial y} \\\\ G_{ \\, x \\, z }^{ \\phantom{\\, x}\\phantom{\\, z} } & = & \\frac{1}{2} \\, \\beta_x\\left(t, x, y, z\\right) \\frac{\\partial^2\\,\\beta_x}{\\partial x\\partial z} + \\frac{\\partial\\,\\beta_x}{\\partial x} \\frac{\\partial\\,\\beta_x}{\\partial z} - \\frac{1}{2} \\, \\frac{\\partial^2\\,\\beta_x}{\\partial t\\partial z} \\\\ G_{ \\, y \\, y }^{ \\phantom{\\, y}\\phantom{\\, y} } & = & -\\left(\\frac{\\partial\\,\\beta_x}{\\partial x}\\right)^{2} - \\beta_x\\left(t, x, y, z\\right) \\frac{\\partial^2\\,\\beta_x}{\\partial x ^ 2} + \\frac{1}{4} \\, \\left(\\frac{\\partial\\,\\beta_x}{\\partial y}\\right)^{2} - \\frac{1}{4} \\, \\left(\\frac{\\partial\\,\\beta_x}{\\partial z}\\right)^{2} - {\\Lambda} + \\frac{\\partial^2\\,\\beta_x}{\\partial t\\partial x} \\\\ G_{ \\, y \\, z }^{ \\phantom{\\, y}\\phantom{\\, z} } & = & \\frac{1}{2} \\, \\frac{\\partial\\,\\beta_x}{\\partial y} \\frac{\\partial\\,\\beta_x}{\\partial z} \\\\ G_{ \\, z \\, z }^{ \\phantom{\\, z}\\phantom{\\, z} } & = & -\\left(\\frac{\\partial\\,\\beta_x}{\\partial x}\\right)^{2} - \\beta_x\\left(t, x, y, z\\right) \\frac{\\partial^2\\,\\beta_x}{\\partial x ^ 2} - \\frac{1}{4} \\, \\left(\\frac{\\partial\\,\\beta_x}{\\partial y}\\right)^{2} + \\frac{1}{4} \\, \\left(\\frac{\\partial\\,\\beta_x}{\\partial z}\\right)^{2} - {\\Lambda} + \\frac{\\partial^2\\,\\beta_x}{\\partial t\\partial x} \\end{array}</script></html>"
      ],
      "text/latex": [
       "$$\\newcommand{\\Bold}[1]{\\mathbf{#1}}\\begin{array}{lcl} G_{ \\, t \\, t }^{ \\phantom{\\, t}\\phantom{\\, t} } & = & -{\\Lambda} \\beta_x\\left(t, x, y, z\\right)^{2} - \\frac{1}{4} \\, {\\left(3 \\, \\beta_x\\left(t, x, y, z\\right)^{2} + 1\\right)} \\left(\\frac{\\partial\\,\\beta_x}{\\partial y}\\right)^{2} - \\frac{1}{4} \\, {\\left(3 \\, \\beta_x\\left(t, x, y, z\\right)^{2} + 1\\right)} \\left(\\frac{\\partial\\,\\beta_x}{\\partial z}\\right)^{2} - \\beta_x\\left(t, x, y, z\\right) \\frac{\\partial^2\\,\\beta_x}{\\partial y ^ 2} - \\beta_x\\left(t, x, y, z\\right) \\frac{\\partial^2\\,\\beta_x}{\\partial z ^ 2} + {\\Lambda} \\\\ G_{ \\, t \\, x }^{ \\phantom{\\, t}\\phantom{\\, x} } & = & -\\frac{3}{4} \\, \\beta_x\\left(t, x, y, z\\right) \\left(\\frac{\\partial\\,\\beta_x}{\\partial y}\\right)^{2} - \\frac{3}{4} \\, \\beta_x\\left(t, x, y, z\\right) \\left(\\frac{\\partial\\,\\beta_x}{\\partial z}\\right)^{2} - {\\Lambda} \\beta_x\\left(t, x, y, z\\right) - \\frac{1}{2} \\, \\frac{\\partial^2\\,\\beta_x}{\\partial y ^ 2} - \\frac{1}{2} \\, \\frac{\\partial^2\\,\\beta_x}{\\partial z ^ 2} \\\\ G_{ \\, t \\, y }^{ \\phantom{\\, t}\\phantom{\\, y} } & = & \\beta_x\\left(t, x, y, z\\right) \\frac{\\partial\\,\\beta_x}{\\partial x} \\frac{\\partial\\,\\beta_x}{\\partial y} - \\frac{1}{2} \\, \\beta_x\\left(t, x, y, z\\right) \\frac{\\partial^2\\,\\beta_x}{\\partial t\\partial y} + \\frac{1}{2} \\, {\\left(\\beta_x\\left(t, x, y, z\\right)^{2} + 1\\right)} \\frac{\\partial^2\\,\\beta_x}{\\partial x\\partial y} \\\\ G_{ \\, t \\, z }^{ \\phantom{\\, t}\\phantom{\\, z} } & = & \\beta_x\\left(t, x, y, z\\right) \\frac{\\partial\\,\\beta_x}{\\partial x} \\frac{\\partial\\,\\beta_x}{\\partial z} - \\frac{1}{2} \\, \\beta_x\\left(t, x, y, z\\right) \\frac{\\partial^2\\,\\beta_x}{\\partial t\\partial z} + \\frac{1}{2} \\, {\\left(\\beta_x\\left(t, x, y, z\\right)^{2} + 1\\right)} \\frac{\\partial^2\\,\\beta_x}{\\partial x\\partial z} \\\\ G_{ \\, x \\, x }^{ \\phantom{\\, x}\\phantom{\\, x} } & = & -\\frac{3}{4} \\, \\left(\\frac{\\partial\\,\\beta_x}{\\partial y}\\right)^{2} - \\frac{3}{4} \\, \\left(\\frac{\\partial\\,\\beta_x}{\\partial z}\\right)^{2} - {\\Lambda} \\\\ G_{ \\, x \\, y }^{ \\phantom{\\, x}\\phantom{\\, y} } & = & \\frac{1}{2} \\, \\beta_x\\left(t, x, y, z\\right) \\frac{\\partial^2\\,\\beta_x}{\\partial x\\partial y} + \\frac{\\partial\\,\\beta_x}{\\partial x} \\frac{\\partial\\,\\beta_x}{\\partial y} - \\frac{1}{2} \\, \\frac{\\partial^2\\,\\beta_x}{\\partial t\\partial y} \\\\ G_{ \\, x \\, z }^{ \\phantom{\\, x}\\phantom{\\, z} } & = & \\frac{1}{2} \\, \\beta_x\\left(t, x, y, z\\right) \\frac{\\partial^2\\,\\beta_x}{\\partial x\\partial z} + \\frac{\\partial\\,\\beta_x}{\\partial x} \\frac{\\partial\\,\\beta_x}{\\partial z} - \\frac{1}{2} \\, \\frac{\\partial^2\\,\\beta_x}{\\partial t\\partial z} \\\\ G_{ \\, y \\, y }^{ \\phantom{\\, y}\\phantom{\\, y} } & = & -\\left(\\frac{\\partial\\,\\beta_x}{\\partial x}\\right)^{2} - \\beta_x\\left(t, x, y, z\\right) \\frac{\\partial^2\\,\\beta_x}{\\partial x ^ 2} + \\frac{1}{4} \\, \\left(\\frac{\\partial\\,\\beta_x}{\\partial y}\\right)^{2} - \\frac{1}{4} \\, \\left(\\frac{\\partial\\,\\beta_x}{\\partial z}\\right)^{2} - {\\Lambda} + \\frac{\\partial^2\\,\\beta_x}{\\partial t\\partial x} \\\\ G_{ \\, y \\, z }^{ \\phantom{\\, y}\\phantom{\\, z} } & = & \\frac{1}{2} \\, \\frac{\\partial\\,\\beta_x}{\\partial y} \\frac{\\partial\\,\\beta_x}{\\partial z} \\\\ G_{ \\, z \\, z }^{ \\phantom{\\, z}\\phantom{\\, z} } & = & -\\left(\\frac{\\partial\\,\\beta_x}{\\partial x}\\right)^{2} - \\beta_x\\left(t, x, y, z\\right) \\frac{\\partial^2\\,\\beta_x}{\\partial x ^ 2} - \\frac{1}{4} \\, \\left(\\frac{\\partial\\,\\beta_x}{\\partial y}\\right)^{2} + \\frac{1}{4} \\, \\left(\\frac{\\partial\\,\\beta_x}{\\partial z}\\right)^{2} - {\\Lambda} + \\frac{\\partial^2\\,\\beta_x}{\\partial t\\partial x} \\end{array}$$"
      ],
      "text/plain": [
       "G_tt = -cosmo*shiftx(t, x, y, z)^2 - 1/4*(3*shiftx(t, x, y, z)^2 + 1)*(d(shiftx)/dy)^2 - 1/4*(3*shiftx(t, x, y, z)^2 + 1)*(d(shiftx)/dz)^2 - shiftx(t, x, y, z)*d^2(shiftx)/dy^2 - shiftx(t, x, y, z)*d^2(shiftx)/dz^2 + cosmo \n",
       "G_tx = -3/4*shiftx(t, x, y, z)*(d(shiftx)/dy)^2 - 3/4*shiftx(t, x, y, z)*(d(shiftx)/dz)^2 - cosmo*shiftx(t, x, y, z) - 1/2*d^2(shiftx)/dy^2 - 1/2*d^2(shiftx)/dz^2 \n",
       "G_ty = shiftx(t, x, y, z)*d(shiftx)/dx*d(shiftx)/dy - 1/2*shiftx(t, x, y, z)*d^2(shiftx)/dtdy + 1/2*(shiftx(t, x, y, z)^2 + 1)*d^2(shiftx)/dxdy \n",
       "G_tz = shiftx(t, x, y, z)*d(shiftx)/dx*d(shiftx)/dz - 1/2*shiftx(t, x, y, z)*d^2(shiftx)/dtdz + 1/2*(shiftx(t, x, y, z)^2 + 1)*d^2(shiftx)/dxdz \n",
       "G_xx = -3/4*(d(shiftx)/dy)^2 - 3/4*(d(shiftx)/dz)^2 - cosmo \n",
       "G_xy = 1/2*shiftx(t, x, y, z)*d^2(shiftx)/dxdy + d(shiftx)/dx*d(shiftx)/dy - 1/2*d^2(shiftx)/dtdy \n",
       "G_xz = 1/2*shiftx(t, x, y, z)*d^2(shiftx)/dxdz + d(shiftx)/dx*d(shiftx)/dz - 1/2*d^2(shiftx)/dtdz \n",
       "G_yy = -(d(shiftx)/dx)^2 - shiftx(t, x, y, z)*d^2(shiftx)/dx^2 + 1/4*(d(shiftx)/dy)^2 - 1/4*(d(shiftx)/dz)^2 - cosmo + d^2(shiftx)/dtdx \n",
       "G_yz = 1/2*d(shiftx)/dy*d(shiftx)/dz \n",
       "G_zz = -(d(shiftx)/dx)^2 - shiftx(t, x, y, z)*d^2(shiftx)/dx^2 - 1/4*(d(shiftx)/dy)^2 + 1/4*(d(shiftx)/dz)^2 - cosmo + d^2(shiftx)/dtdx "
      ]
     },
     "execution_count": 9,
     "metadata": {},
     "output_type": "execute_result"
    }
   ],
   "source": [
    "G = Ric - 1/2*g.ricci_scalar() * g - cosmo * g ;\n",
    "G.set_name('G');\n",
    "print(G);\n",
    "print(G.tensor_type());\n",
    "G.display_comp(only_nonredundant=True)"
   ]
  },
  {
   "cell_type": "raw",
   "metadata": {},
   "source": [
    "print(latex(G[2,2]))"
   ]
  },
  {
   "cell_type": "raw",
   "metadata": {},
   "source": [
    "print(latex(G.display_comp(only_nonredundant=True)))"
   ]
  },
  {
   "cell_type": "markdown",
   "metadata": {},
   "source": [
    "## Einstein tensor simplifications"
   ]
  },
  {
   "cell_type": "code",
   "execution_count": 10,
   "metadata": {},
   "outputs": [
    {
     "name": "stdout",
     "output_type": "stream",
     "text": [
      "Scalar field on the 4-dimensional Lorentzian manifold M\n",
      "(0, 0)\n"
     ]
    },
    {
     "data": {
      "text/html": [
       "<html><script type=\"math/tex; mode=display\">\\newcommand{\\Bold}[1]{\\mathbf{#1}}\\begin{array}{llcl} & M & \\longrightarrow & \\mathbb{R} \\\\ & \\left(t, x, y, z\\right) & \\longmapsto & -4 \\, {\\Lambda} \\beta_x\\left(t, x, y, z\\right)^{2} - \\frac{1}{4} \\, {\\left(12 \\, \\beta_x\\left(t, x, y, z\\right)^{2} + 1\\right)} \\left(\\frac{\\partial\\,\\beta_x}{\\partial y}\\right)^{2} - \\frac{1}{4} \\, {\\left(12 \\, \\beta_x\\left(t, x, y, z\\right)^{2} + 1\\right)} \\left(\\frac{\\partial\\,\\beta_x}{\\partial z}\\right)^{2} - 2 \\, \\beta_x\\left(t, x, y, z\\right) \\frac{\\partial^2\\,\\beta_x}{\\partial y ^ 2} - 2 \\, \\beta_x\\left(t, x, y, z\\right) \\frac{\\partial^2\\,\\beta_x}{\\partial z ^ 2} + {\\Lambda} \\end{array}</script></html>"
      ],
      "text/latex": [
       "$$\\newcommand{\\Bold}[1]{\\mathbf{#1}}\\begin{array}{llcl} & M & \\longrightarrow & \\mathbb{R} \\\\ & \\left(t, x, y, z\\right) & \\longmapsto & -4 \\, {\\Lambda} \\beta_x\\left(t, x, y, z\\right)^{2} - \\frac{1}{4} \\, {\\left(12 \\, \\beta_x\\left(t, x, y, z\\right)^{2} + 1\\right)} \\left(\\frac{\\partial\\,\\beta_x}{\\partial y}\\right)^{2} - \\frac{1}{4} \\, {\\left(12 \\, \\beta_x\\left(t, x, y, z\\right)^{2} + 1\\right)} \\left(\\frac{\\partial\\,\\beta_x}{\\partial z}\\right)^{2} - 2 \\, \\beta_x\\left(t, x, y, z\\right) \\frac{\\partial^2\\,\\beta_x}{\\partial y ^ 2} - 2 \\, \\beta_x\\left(t, x, y, z\\right) \\frac{\\partial^2\\,\\beta_x}{\\partial z ^ 2} + {\\Lambda} \\end{array}$$"
      ],
      "text/plain": [
       "M --> R\n",
       "(t, x, y, z) |--> -4*cosmo*shiftx(t, x, y, z)^2 - 1/4*(12*shiftx(t, x, y, z)^2 + 1)*(d(shiftx)/dy)^2 - 1/4*(12*shiftx(t, x, y, z)^2 + 1)*(d(shiftx)/dz)^2 - 2*shiftx(t, x, y, z)*d^2(shiftx)/dy^2 - 2*shiftx(t, x, y, z)*d^2(shiftx)/dz^2 + cosmo"
      ]
     },
     "execution_count": 10,
     "metadata": {},
     "output_type": "execute_result"
    }
   ],
   "source": [
    "Gc1 = G.contract(0, u)\n",
    "Gc2 = Gc1.contract(1, u)\n",
    "print(Gc2)\n",
    "print(Gc2.tensor_type())\n",
    "Gc2.display()"
   ]
  },
  {
   "cell_type": "code",
   "execution_count": 11,
   "metadata": {},
   "outputs": [
    {
     "data": {
      "text/html": [
       "<html><script type=\"math/tex; mode=display\">\\newcommand{\\Bold}[1]{\\mathbf{#1}}-\\frac{3}{2} \\, \\beta_x\\left(t, x, y, z\\right) \\left(\\frac{\\partial\\,\\beta_x}{\\partial y}\\right)^{2} - \\frac{3}{2} \\, \\beta_x\\left(t, x, y, z\\right) \\left(\\frac{\\partial\\,\\beta_x}{\\partial z}\\right)^{2} - 2 \\, {\\Lambda} \\beta_x\\left(t, x, y, z\\right) - \\frac{1}{2} \\, \\frac{\\partial^2\\,\\beta_x}{\\partial y ^ 2} - \\frac{1}{2} \\, \\frac{\\partial^2\\,\\beta_x}{\\partial z ^ 2}</script></html>"
      ],
      "text/latex": [
       "$$\\newcommand{\\Bold}[1]{\\mathbf{#1}}-\\frac{3}{2} \\, \\beta_x\\left(t, x, y, z\\right) \\left(\\frac{\\partial\\,\\beta_x}{\\partial y}\\right)^{2} - \\frac{3}{2} \\, \\beta_x\\left(t, x, y, z\\right) \\left(\\frac{\\partial\\,\\beta_x}{\\partial z}\\right)^{2} - 2 \\, {\\Lambda} \\beta_x\\left(t, x, y, z\\right) - \\frac{1}{2} \\, \\frac{\\partial^2\\,\\beta_x}{\\partial y ^ 2} - \\frac{1}{2} \\, \\frac{\\partial^2\\,\\beta_x}{\\partial z ^ 2}$$"
      ],
      "text/plain": [
       "-3/2*shiftx(t, x, y, z)*(d(shiftx)/dy)^2 - 3/2*shiftx(t, x, y, z)*(d(shiftx)/dz)^2 - 2*cosmo*shiftx(t, x, y, z) - 1/2*d^2(shiftx)/dy^2 - 1/2*d^2(shiftx)/dz^2"
      ]
     },
     "execution_count": 11,
     "metadata": {},
     "output_type": "execute_result"
    }
   ],
   "source": [
    "G[0,1] + shiftx*G[1,1]"
   ]
  },
  {
   "cell_type": "code",
   "execution_count": 12,
   "metadata": {},
   "outputs": [
    {
     "data": {
      "text/html": [
       "<html><script type=\"math/tex; mode=display\">\\newcommand{\\Bold}[1]{\\mathbf{#1}}-2 \\, \\left(\\frac{\\partial\\,\\beta_x}{\\partial x}\\right)^{2} - 2 \\, \\beta_x\\left(t, x, y, z\\right) \\frac{\\partial^2\\,\\beta_x}{\\partial x ^ 2} - 2 \\, {\\Lambda} + 2 \\, \\frac{\\partial^2\\,\\beta_x}{\\partial t\\partial x}</script></html>"
      ],
      "text/latex": [
       "$$\\newcommand{\\Bold}[1]{\\mathbf{#1}}-2 \\, \\left(\\frac{\\partial\\,\\beta_x}{\\partial x}\\right)^{2} - 2 \\, \\beta_x\\left(t, x, y, z\\right) \\frac{\\partial^2\\,\\beta_x}{\\partial x ^ 2} - 2 \\, {\\Lambda} + 2 \\, \\frac{\\partial^2\\,\\beta_x}{\\partial t\\partial x}$$"
      ],
      "text/plain": [
       "-2*(d(shiftx)/dx)^2 - 2*shiftx(t, x, y, z)*d^2(shiftx)/dx^2 - 2*cosmo + 2*d^2(shiftx)/dtdx"
      ]
     },
     "execution_count": 12,
     "metadata": {},
     "output_type": "execute_result"
    }
   ],
   "source": [
    "G[3,3] + G[2,2]"
   ]
  },
  {
   "cell_type": "code",
   "execution_count": 13,
   "metadata": {},
   "outputs": [
    {
     "data": {
      "text/html": [
       "<html><script type=\"math/tex; mode=display\">\\newcommand{\\Bold}[1]{\\mathbf{#1}}u = \\frac{\\partial}{\\partial t } + \\beta_x\\left(t, x, y, z\\right) \\frac{\\partial}{\\partial x }</script></html>"
      ],
      "text/latex": [
       "$$\\newcommand{\\Bold}[1]{\\mathbf{#1}}u = \\frac{\\partial}{\\partial t } + \\beta_x\\left(t, x, y, z\\right) \\frac{\\partial}{\\partial x }$$"
      ],
      "text/plain": [
       "u = d/dt + shiftx(t, x, y, z) d/dx"
      ]
     },
     "execution_count": 13,
     "metadata": {},
     "output_type": "execute_result"
    }
   ],
   "source": [
    "u.display()"
   ]
  },
  {
   "cell_type": "code",
   "execution_count": 14,
   "metadata": {},
   "outputs": [
    {
     "data": {
      "text/html": [
       "<html><script type=\"math/tex; mode=display\">\\newcommand{\\Bold}[1]{\\mathbf{#1}}-4 \\, {\\Lambda} \\beta_x\\left(t, x, y, z\\right)^{2} - \\frac{1}{4} \\, {\\left(12 \\, \\beta_x\\left(t, x, y, z\\right)^{2} + 1\\right)} \\left(\\frac{\\partial\\,\\beta_x}{\\partial y}\\right)^{2} - \\frac{1}{4} \\, {\\left(12 \\, \\beta_x\\left(t, x, y, z\\right)^{2} + 1\\right)} \\left(\\frac{\\partial\\,\\beta_x}{\\partial z}\\right)^{2} - 2 \\, \\beta_x\\left(t, x, y, z\\right) \\frac{\\partial^2\\,\\beta_x}{\\partial y ^ 2} - 2 \\, \\beta_x\\left(t, x, y, z\\right) \\frac{\\partial^2\\,\\beta_x}{\\partial z ^ 2} + {\\Lambda}</script></html>"
      ],
      "text/latex": [
       "$$\\newcommand{\\Bold}[1]{\\mathbf{#1}}-4 \\, {\\Lambda} \\beta_x\\left(t, x, y, z\\right)^{2} - \\frac{1}{4} \\, {\\left(12 \\, \\beta_x\\left(t, x, y, z\\right)^{2} + 1\\right)} \\left(\\frac{\\partial\\,\\beta_x}{\\partial y}\\right)^{2} - \\frac{1}{4} \\, {\\left(12 \\, \\beta_x\\left(t, x, y, z\\right)^{2} + 1\\right)} \\left(\\frac{\\partial\\,\\beta_x}{\\partial z}\\right)^{2} - 2 \\, \\beta_x\\left(t, x, y, z\\right) \\frac{\\partial^2\\,\\beta_x}{\\partial y ^ 2} - 2 \\, \\beta_x\\left(t, x, y, z\\right) \\frac{\\partial^2\\,\\beta_x}{\\partial z ^ 2} + {\\Lambda}$$"
      ],
      "text/plain": [
       "-4*cosmo*shiftx(t, x, y, z)^2 - 1/4*(12*shiftx(t, x, y, z)^2 + 1)*(d(shiftx)/dy)^2 - 1/4*(12*shiftx(t, x, y, z)^2 + 1)*(d(shiftx)/dz)^2 - 2*shiftx(t, x, y, z)*d^2(shiftx)/dy^2 - 2*shiftx(t, x, y, z)*d^2(shiftx)/dz^2 + cosmo"
      ]
     },
     "execution_count": 14,
     "metadata": {},
     "output_type": "execute_result"
    }
   ],
   "source": [
    "G[0,0] + 2*shiftx*G[0,1] + (shiftx**2) *G[1,1]"
   ]
  },
  {
   "cell_type": "code",
   "execution_count": 15,
   "metadata": {},
   "outputs": [
    {
     "data": {
      "text/html": [
       "<html><script type=\"math/tex; mode=display\">\\newcommand{\\Bold}[1]{\\mathbf{#1}}-3 \\, \\beta_x\\left(t, x, y, z\\right)^{2} \\left(\\frac{\\partial\\,\\beta_x}{\\partial y}\\right)^{2} - 3 \\, \\beta_x\\left(t, x, y, z\\right)^{2} \\left(\\frac{\\partial\\,\\beta_x}{\\partial z}\\right)^{2} - 4 \\, {\\Lambda} \\beta_x\\left(t, x, y, z\\right)^{2} - 2 \\, \\beta_x\\left(t, x, y, z\\right) \\frac{\\partial^2\\,\\beta_x}{\\partial y ^ 2} - 2 \\, \\beta_x\\left(t, x, y, z\\right) \\frac{\\partial^2\\,\\beta_x}{\\partial z ^ 2} + \\frac{4}{3} \\, {\\Lambda}</script></html>"
      ],
      "text/latex": [
       "$$\\newcommand{\\Bold}[1]{\\mathbf{#1}}-3 \\, \\beta_x\\left(t, x, y, z\\right)^{2} \\left(\\frac{\\partial\\,\\beta_x}{\\partial y}\\right)^{2} - 3 \\, \\beta_x\\left(t, x, y, z\\right)^{2} \\left(\\frac{\\partial\\,\\beta_x}{\\partial z}\\right)^{2} - 4 \\, {\\Lambda} \\beta_x\\left(t, x, y, z\\right)^{2} - 2 \\, \\beta_x\\left(t, x, y, z\\right) \\frac{\\partial^2\\,\\beta_x}{\\partial y ^ 2} - 2 \\, \\beta_x\\left(t, x, y, z\\right) \\frac{\\partial^2\\,\\beta_x}{\\partial z ^ 2} + \\frac{4}{3} \\, {\\Lambda}$$"
      ],
      "text/plain": [
       "-3*shiftx(t, x, y, z)^2*(d(shiftx)/dy)^2 - 3*shiftx(t, x, y, z)^2*(d(shiftx)/dz)^2 - 4*cosmo*shiftx(t, x, y, z)^2 - 2*shiftx(t, x, y, z)*d^2(shiftx)/dy^2 - 2*shiftx(t, x, y, z)*d^2(shiftx)/dz^2 + 4/3*cosmo"
      ]
     },
     "execution_count": 15,
     "metadata": {},
     "output_type": "execute_result"
    }
   ],
   "source": [
    "G[0,0] + 2*shiftx*G[0,1] + (shiftx**2-1/3)*G[1,1]"
   ]
  },
  {
   "cell_type": "markdown",
   "metadata": {},
   "source": [
    "## 4-velocities"
   ]
  },
  {
   "cell_type": "code",
   "execution_count": 16,
   "metadata": {},
   "outputs": [
    {
     "name": "stdout",
     "output_type": "stream",
     "text": [
      "Vector field u on the 4-dimensional Lorentzian manifold M\n",
      "(1, 0)\n"
     ]
    },
    {
     "data": {
      "text/html": [
       "<html><script type=\"math/tex; mode=display\">\\newcommand{\\Bold}[1]{\\mathbf{#1}}\\begin{array}{lcl} u_{\\phantom{\\, t}}^{ \\, t } & = & 1 \\\\ u_{\\phantom{\\, x}}^{ \\, x } & = & \\beta_x\\left(t, x, y, z\\right) \\end{array}</script></html>"
      ],
      "text/latex": [
       "$$\\newcommand{\\Bold}[1]{\\mathbf{#1}}\\begin{array}{lcl} u_{\\phantom{\\, t}}^{ \\, t } & = & 1 \\\\ u_{\\phantom{\\, x}}^{ \\, x } & = & \\beta_x\\left(t, x, y, z\\right) \\end{array}$$"
      ],
      "text/plain": [
       "u^t = 1 \n",
       "u^x = shiftx(t, x, y, z) "
      ]
     },
     "execution_count": 16,
     "metadata": {},
     "output_type": "execute_result"
    }
   ],
   "source": [
    "print(u)\n",
    "print(u.tensor_type())\n",
    "u.display_comp()"
   ]
  },
  {
   "cell_type": "code",
   "execution_count": 17,
   "metadata": {},
   "outputs": [
    {
     "name": "stdout",
     "output_type": "stream",
     "text": [
      "1-form u on the 4-dimensional Lorentzian manifold M\n",
      "(0, 1)\n"
     ]
    },
    {
     "data": {
      "text/html": [
       "<html><script type=\"math/tex; mode=display\">\\newcommand{\\Bold}[1]{\\mathbf{#1}}\\begin{array}{lcl} u_{ \\, t }^{ \\phantom{\\, t} } & = & 2 \\, \\beta_x\\left(t, x, y, z\\right)^{2} - 1 \\\\ u_{ \\, x }^{ \\phantom{\\, x} } & = & 2 \\, \\beta_x\\left(t, x, y, z\\right) \\end{array}</script></html>"
      ],
      "text/latex": [
       "$$\\newcommand{\\Bold}[1]{\\mathbf{#1}}\\begin{array}{lcl} u_{ \\, t }^{ \\phantom{\\, t} } & = & 2 \\, \\beta_x\\left(t, x, y, z\\right)^{2} - 1 \\\\ u_{ \\, x }^{ \\phantom{\\, x} } & = & 2 \\, \\beta_x\\left(t, x, y, z\\right) \\end{array}$$"
      ],
      "text/plain": [
       "u_t = 2*shiftx(t, x, y, z)^2 - 1 \n",
       "u_x = 2*shiftx(t, x, y, z) "
      ]
     },
     "execution_count": 17,
     "metadata": {},
     "output_type": "execute_result"
    }
   ],
   "source": [
    "print(u_form)\n",
    "print(u_form.tensor_type())\n",
    "u_form.display_comp()"
   ]
  },
  {
   "cell_type": "markdown",
   "metadata": {},
   "source": [
    "# Rankine-Hugoniot conditions"
   ]
  },
  {
   "cell_type": "code",
   "execution_count": 71,
   "metadata": {},
   "outputs": [
    {
     "data": {
      "text/html": [
       "<html><script type=\"math/tex; mode=display\">\\newcommand{\\Bold}[1]{\\mathbf{#1}}\\begin{array}{lcl} X_{\\phantom{\\, t}}^{ \\, t } & = & -\\frac{\\sqrt{\\beta_x\\left(t, x, y, z\\right) + 1} \\sqrt{-\\beta_x\\left(t, x, y, z\\right) + 1} {\\left(\\frac{\\partial^2\\,\\beta_x}{\\partial y ^ 2} + \\frac{\\partial^2\\,\\beta_x}{\\partial z ^ 2}\\right)}}{2 \\, {\\left(\\beta_x\\left(t, x, y, z\\right)^{2} - 1\\right)}} \\\\ X_{\\phantom{\\, x}}^{ \\, x } & = & \\frac{{\\left(3 \\, \\left(\\frac{\\partial\\,\\beta_x}{\\partial y}\\right)^{2} + 2 \\, \\beta_x\\left(t, x, y, z\\right) \\frac{\\partial^2\\,\\beta_x}{\\partial y ^ 2} + 3 \\, \\left(\\frac{\\partial\\,\\beta_x}{\\partial z}\\right)^{2} + 2 \\, \\beta_x\\left(t, x, y, z\\right) \\frac{\\partial^2\\,\\beta_x}{\\partial z ^ 2} + 4 \\, {\\Lambda}\\right)} \\sqrt{\\beta_x\\left(t, x, y, z\\right) + 1} \\sqrt{-\\beta_x\\left(t, x, y, z\\right) + 1}}{4 \\, {\\left(\\beta_x\\left(t, x, y, z\\right)^{2} - 1\\right)}} \\\\ X_{\\phantom{\\, y}}^{ \\, y } & = & -\\frac{{\\left(\\beta_x\\left(t, x, y, z\\right) \\frac{\\partial^2\\,\\beta_x}{\\partial x\\partial y} + 2 \\, \\frac{\\partial\\,\\beta_x}{\\partial x} \\frac{\\partial\\,\\beta_x}{\\partial y} - \\frac{\\partial^2\\,\\beta_x}{\\partial t\\partial y}\\right)} \\sqrt{\\beta_x\\left(t, x, y, z\\right) + 1} \\sqrt{-\\beta_x\\left(t, x, y, z\\right) + 1}}{2 \\, {\\left(\\beta_x\\left(t, x, y, z\\right)^{2} - 1\\right)}} \\\\ X_{\\phantom{\\, z}}^{ \\, z } & = & -\\frac{{\\left(\\beta_x\\left(t, x, y, z\\right) \\frac{\\partial^2\\,\\beta_x}{\\partial x\\partial z} + 2 \\, \\frac{\\partial\\,\\beta_x}{\\partial x} \\frac{\\partial\\,\\beta_x}{\\partial z} - \\frac{\\partial^2\\,\\beta_x}{\\partial t\\partial z}\\right)} \\sqrt{\\beta_x\\left(t, x, y, z\\right) + 1} \\sqrt{-\\beta_x\\left(t, x, y, z\\right) + 1}}{2 \\, {\\left(\\beta_x\\left(t, x, y, z\\right)^{2} - 1\\right)}} \\end{array}</script></html>"
      ],
      "text/latex": [
       "$$\\newcommand{\\Bold}[1]{\\mathbf{#1}}\\begin{array}{lcl} X_{\\phantom{\\, t}}^{ \\, t } & = & -\\frac{\\sqrt{\\beta_x\\left(t, x, y, z\\right) + 1} \\sqrt{-\\beta_x\\left(t, x, y, z\\right) + 1} {\\left(\\frac{\\partial^2\\,\\beta_x}{\\partial y ^ 2} + \\frac{\\partial^2\\,\\beta_x}{\\partial z ^ 2}\\right)}}{2 \\, {\\left(\\beta_x\\left(t, x, y, z\\right)^{2} - 1\\right)}} \\\\ X_{\\phantom{\\, x}}^{ \\, x } & = & \\frac{{\\left(3 \\, \\left(\\frac{\\partial\\,\\beta_x}{\\partial y}\\right)^{2} + 2 \\, \\beta_x\\left(t, x, y, z\\right) \\frac{\\partial^2\\,\\beta_x}{\\partial y ^ 2} + 3 \\, \\left(\\frac{\\partial\\,\\beta_x}{\\partial z}\\right)^{2} + 2 \\, \\beta_x\\left(t, x, y, z\\right) \\frac{\\partial^2\\,\\beta_x}{\\partial z ^ 2} + 4 \\, {\\Lambda}\\right)} \\sqrt{\\beta_x\\left(t, x, y, z\\right) + 1} \\sqrt{-\\beta_x\\left(t, x, y, z\\right) + 1}}{4 \\, {\\left(\\beta_x\\left(t, x, y, z\\right)^{2} - 1\\right)}} \\\\ X_{\\phantom{\\, y}}^{ \\, y } & = & -\\frac{{\\left(\\beta_x\\left(t, x, y, z\\right) \\frac{\\partial^2\\,\\beta_x}{\\partial x\\partial y} + 2 \\, \\frac{\\partial\\,\\beta_x}{\\partial x} \\frac{\\partial\\,\\beta_x}{\\partial y} - \\frac{\\partial^2\\,\\beta_x}{\\partial t\\partial y}\\right)} \\sqrt{\\beta_x\\left(t, x, y, z\\right) + 1} \\sqrt{-\\beta_x\\left(t, x, y, z\\right) + 1}}{2 \\, {\\left(\\beta_x\\left(t, x, y, z\\right)^{2} - 1\\right)}} \\\\ X_{\\phantom{\\, z}}^{ \\, z } & = & -\\frac{{\\left(\\beta_x\\left(t, x, y, z\\right) \\frac{\\partial^2\\,\\beta_x}{\\partial x\\partial z} + 2 \\, \\frac{\\partial\\,\\beta_x}{\\partial x} \\frac{\\partial\\,\\beta_x}{\\partial z} - \\frac{\\partial^2\\,\\beta_x}{\\partial t\\partial z}\\right)} \\sqrt{\\beta_x\\left(t, x, y, z\\right) + 1} \\sqrt{-\\beta_x\\left(t, x, y, z\\right) + 1}}{2 \\, {\\left(\\beta_x\\left(t, x, y, z\\right)^{2} - 1\\right)}} \\end{array}$$"
      ],
      "text/plain": [
       "X^t = -1/2*sqrt(shiftx(t, x, y, z) + 1)*sqrt(-shiftx(t, x, y, z) + 1)*(d^2(shiftx)/dy^2 + d^2(shiftx)/dz^2)/(shiftx(t, x, y, z)^2 - 1) \n",
       "X^x = 1/4*(3*(d(shiftx)/dy)^2 + 2*shiftx(t, x, y, z)*d^2(shiftx)/dy^2 + 3*(d(shiftx)/dz)^2 + 2*shiftx(t, x, y, z)*d^2(shiftx)/dz^2 + 4*cosmo)*sqrt(shiftx(t, x, y, z) + 1)*sqrt(-shiftx(t, x, y, z) + 1)/(shiftx(t, x, y, z)^2 - 1) \n",
       "X^y = -1/2*(shiftx(t, x, y, z)*d^2(shiftx)/dxdy + 2*d(shiftx)/dx*d(shiftx)/dy - d^2(shiftx)/dtdy)*sqrt(shiftx(t, x, y, z) + 1)*sqrt(-shiftx(t, x, y, z) + 1)/(shiftx(t, x, y, z)^2 - 1) \n",
       "X^z = -1/2*(shiftx(t, x, y, z)*d^2(shiftx)/dxdz + 2*d(shiftx)/dx*d(shiftx)/dz - d^2(shiftx)/dtdz)*sqrt(shiftx(t, x, y, z) + 1)*sqrt(-shiftx(t, x, y, z) + 1)/(shiftx(t, x, y, z)^2 - 1) "
      ]
     },
     "execution_count": 71,
     "metadata": {},
     "output_type": "execute_result"
    }
   ],
   "source": [
    "Gup = G.up(g)\n",
    "Gup = Gup.up(g)\n",
    "Gup.display_comp()\n",
    "v = M.vector_field('v')\n",
    "v[0] = 0\n",
    "v[1] = 1/sqrt(gg[1,1])\n",
    "v[2] = 0\n",
    "v[3] = 0\n",
    "vdown = v.down(g)\n",
    "Gc = Gup.contract(0, vdown)\n",
    "Gcc = Gc.contract(0, vdown)\n",
    "Gc.display_comp()\n"
   ]
  },
  {
   "cell_type": "code",
   "execution_count": 72,
   "metadata": {},
   "outputs": [
    {
     "data": {
      "text/html": [
       "<html><script type=\"math/tex; mode=display\">\\newcommand{\\Bold}[1]{\\mathbf{#1}}\\begin{array}{llcl} & M & \\longrightarrow & \\mathbb{R} \\\\ & \\left(t, x, y, z\\right) & \\longmapsto & \\frac{3 \\, \\left(\\frac{\\partial\\,\\beta_x}{\\partial y}\\right)^{2} + 3 \\, \\left(\\frac{\\partial\\,\\beta_x}{\\partial z}\\right)^{2} + 4 \\, {\\Lambda}}{4 \\, {\\left(\\beta_x\\left(t, x, y, z\\right)^{2} - 1\\right)}} \\end{array}</script></html>"
      ],
      "text/latex": [
       "$$\\newcommand{\\Bold}[1]{\\mathbf{#1}}\\begin{array}{llcl} & M & \\longrightarrow & \\mathbb{R} \\\\ & \\left(t, x, y, z\\right) & \\longmapsto & \\frac{3 \\, \\left(\\frac{\\partial\\,\\beta_x}{\\partial y}\\right)^{2} + 3 \\, \\left(\\frac{\\partial\\,\\beta_x}{\\partial z}\\right)^{2} + 4 \\, {\\Lambda}}{4 \\, {\\left(\\beta_x\\left(t, x, y, z\\right)^{2} - 1\\right)}} \\end{array}$$"
      ],
      "text/plain": [
       "M --> R\n",
       "(t, x, y, z) |--> 1/4*(3*(d(shiftx)/dy)^2 + 3*(d(shiftx)/dz)^2 + 4*cosmo)/(shiftx(t, x, y, z)^2 - 1)"
      ]
     },
     "execution_count": 72,
     "metadata": {},
     "output_type": "execute_result"
    }
   ],
   "source": [
    "Gcc.display()"
   ]
  },
  {
   "cell_type": "markdown",
   "metadata": {},
   "source": [
    "## Energy momentum tensor"
   ]
  },
  {
   "cell_type": "code",
   "execution_count": 18,
   "metadata": {},
   "outputs": [
    {
     "name": "stdout",
     "output_type": "stream",
     "text": [
      "Field of symmetric bilinear forms T on the 4-dimensional Lorentzian manifold M\n",
      "(0, 2)\n"
     ]
    },
    {
     "data": {
      "text/html": [
       "<html><script type=\"math/tex; mode=display\">\\newcommand{\\Bold}[1]{\\mathbf{#1}}\\begin{array}{lcl} T_{ \\, t \\, t }^{ \\phantom{\\, t}\\phantom{\\, t} } & = & 4 \\, {\\left(p\\left(t, x, y, z\\right) + \\rho\\left(t, x, y, z\\right)\\right)} \\beta_x\\left(t, x, y, z\\right)^{4} - {\\left(3 \\, p\\left(t, x, y, z\\right) + 4 \\, \\rho\\left(t, x, y, z\\right)\\right)} \\beta_x\\left(t, x, y, z\\right)^{2} + \\rho\\left(t, x, y, z\\right) \\\\ T_{ \\, t \\, x }^{ \\phantom{\\, t}\\phantom{\\, x} } & = & 4 \\, {\\left(p\\left(t, x, y, z\\right) + \\rho\\left(t, x, y, z\\right)\\right)} \\beta_x\\left(t, x, y, z\\right)^{3} - {\\left(p\\left(t, x, y, z\\right) + 2 \\, \\rho\\left(t, x, y, z\\right)\\right)} \\beta_x\\left(t, x, y, z\\right) \\\\ T_{ \\, x \\, t }^{ \\phantom{\\, x}\\phantom{\\, t} } & = & 4 \\, {\\left(p\\left(t, x, y, z\\right) + \\rho\\left(t, x, y, z\\right)\\right)} \\beta_x\\left(t, x, y, z\\right)^{3} - {\\left(p\\left(t, x, y, z\\right) + 2 \\, \\rho\\left(t, x, y, z\\right)\\right)} \\beta_x\\left(t, x, y, z\\right) \\\\ T_{ \\, x \\, x }^{ \\phantom{\\, x}\\phantom{\\, x} } & = & 4 \\, {\\left(p\\left(t, x, y, z\\right) + \\rho\\left(t, x, y, z\\right)\\right)} \\beta_x\\left(t, x, y, z\\right)^{2} + p\\left(t, x, y, z\\right) \\\\ T_{ \\, y \\, y }^{ \\phantom{\\, y}\\phantom{\\, y} } & = & p\\left(t, x, y, z\\right) \\\\ T_{ \\, z \\, z }^{ \\phantom{\\, z}\\phantom{\\, z} } & = & p\\left(t, x, y, z\\right) \\end{array}</script></html>"
      ],
      "text/latex": [
       "$$\\newcommand{\\Bold}[1]{\\mathbf{#1}}\\begin{array}{lcl} T_{ \\, t \\, t }^{ \\phantom{\\, t}\\phantom{\\, t} } & = & 4 \\, {\\left(p\\left(t, x, y, z\\right) + \\rho\\left(t, x, y, z\\right)\\right)} \\beta_x\\left(t, x, y, z\\right)^{4} - {\\left(3 \\, p\\left(t, x, y, z\\right) + 4 \\, \\rho\\left(t, x, y, z\\right)\\right)} \\beta_x\\left(t, x, y, z\\right)^{2} + \\rho\\left(t, x, y, z\\right) \\\\ T_{ \\, t \\, x }^{ \\phantom{\\, t}\\phantom{\\, x} } & = & 4 \\, {\\left(p\\left(t, x, y, z\\right) + \\rho\\left(t, x, y, z\\right)\\right)} \\beta_x\\left(t, x, y, z\\right)^{3} - {\\left(p\\left(t, x, y, z\\right) + 2 \\, \\rho\\left(t, x, y, z\\right)\\right)} \\beta_x\\left(t, x, y, z\\right) \\\\ T_{ \\, x \\, t }^{ \\phantom{\\, x}\\phantom{\\, t} } & = & 4 \\, {\\left(p\\left(t, x, y, z\\right) + \\rho\\left(t, x, y, z\\right)\\right)} \\beta_x\\left(t, x, y, z\\right)^{3} - {\\left(p\\left(t, x, y, z\\right) + 2 \\, \\rho\\left(t, x, y, z\\right)\\right)} \\beta_x\\left(t, x, y, z\\right) \\\\ T_{ \\, x \\, x }^{ \\phantom{\\, x}\\phantom{\\, x} } & = & 4 \\, {\\left(p\\left(t, x, y, z\\right) + \\rho\\left(t, x, y, z\\right)\\right)} \\beta_x\\left(t, x, y, z\\right)^{2} + p\\left(t, x, y, z\\right) \\\\ T_{ \\, y \\, y }^{ \\phantom{\\, y}\\phantom{\\, y} } & = & p\\left(t, x, y, z\\right) \\\\ T_{ \\, z \\, z }^{ \\phantom{\\, z}\\phantom{\\, z} } & = & p\\left(t, x, y, z\\right) \\end{array}$$"
      ],
      "text/plain": [
       "T_tt = 4*(p(t, x, y, z) + rho(t, x, y, z))*shiftx(t, x, y, z)^4 - (3*p(t, x, y, z) + 4*rho(t, x, y, z))*shiftx(t, x, y, z)^2 + rho(t, x, y, z) \n",
       "T_tx = 4*(p(t, x, y, z) + rho(t, x, y, z))*shiftx(t, x, y, z)^3 - (p(t, x, y, z) + 2*rho(t, x, y, z))*shiftx(t, x, y, z) \n",
       "T_xt = 4*(p(t, x, y, z) + rho(t, x, y, z))*shiftx(t, x, y, z)^3 - (p(t, x, y, z) + 2*rho(t, x, y, z))*shiftx(t, x, y, z) \n",
       "T_xx = 4*(p(t, x, y, z) + rho(t, x, y, z))*shiftx(t, x, y, z)^2 + p(t, x, y, z) \n",
       "T_yy = p(t, x, y, z) \n",
       "T_zz = p(t, x, y, z) "
      ]
     },
     "execution_count": 18,
     "metadata": {},
     "output_type": "execute_result"
    }
   ],
   "source": [
    "print(t_dust_pf)\n",
    "print(t_dust_pf.tensor_type())\n",
    "t_dust_pf.display_comp()"
   ]
  },
  {
   "cell_type": "markdown",
   "metadata": {},
   "source": [
    "# EMT revised"
   ]
  },
  {
   "cell_type": "code",
   "execution_count": 19,
   "metadata": {},
   "outputs": [
    {
     "data": {
      "text/html": [
       "<html><script type=\"math/tex; mode=display\">\\newcommand{\\Bold}[1]{\\mathbf{#1}}\\begin{array}{lcl} T_{ \\, t \\, t }^{ \\phantom{\\, t}\\phantom{\\, t} } & = & p\\left(t, x, y, z\\right) \\beta_x\\left(t, x, y, z\\right)^{2} + \\mu\\left(t, x, y, z\\right) \\\\ T_{ \\, t \\, x }^{ \\phantom{\\, t}\\phantom{\\, x} } & = & -p\\left(t, x, y, z\\right) \\beta_x\\left(t, x, y, z\\right) \\\\ T_{ \\, x \\, t }^{ \\phantom{\\, x}\\phantom{\\, t} } & = & -p\\left(t, x, y, z\\right) \\beta_x\\left(t, x, y, z\\right) \\\\ T_{ \\, x \\, x }^{ \\phantom{\\, x}\\phantom{\\, x} } & = & p\\left(t, x, y, z\\right) \\\\ T_{ \\, y \\, y }^{ \\phantom{\\, y}\\phantom{\\, y} } & = & p\\left(t, x, y, z\\right) \\\\ T_{ \\, z \\, z }^{ \\phantom{\\, z}\\phantom{\\, z} } & = & p\\left(t, x, y, z\\right) \\end{array}</script></html>"
      ],
      "text/latex": [
       "$$\\newcommand{\\Bold}[1]{\\mathbf{#1}}\\begin{array}{lcl} T_{ \\, t \\, t }^{ \\phantom{\\, t}\\phantom{\\, t} } & = & p\\left(t, x, y, z\\right) \\beta_x\\left(t, x, y, z\\right)^{2} + \\mu\\left(t, x, y, z\\right) \\\\ T_{ \\, t \\, x }^{ \\phantom{\\, t}\\phantom{\\, x} } & = & -p\\left(t, x, y, z\\right) \\beta_x\\left(t, x, y, z\\right) \\\\ T_{ \\, x \\, t }^{ \\phantom{\\, x}\\phantom{\\, t} } & = & -p\\left(t, x, y, z\\right) \\beta_x\\left(t, x, y, z\\right) \\\\ T_{ \\, x \\, x }^{ \\phantom{\\, x}\\phantom{\\, x} } & = & p\\left(t, x, y, z\\right) \\\\ T_{ \\, y \\, y }^{ \\phantom{\\, y}\\phantom{\\, y} } & = & p\\left(t, x, y, z\\right) \\\\ T_{ \\, z \\, z }^{ \\phantom{\\, z}\\phantom{\\, z} } & = & p\\left(t, x, y, z\\right) \\end{array}$$"
      ],
      "text/plain": [
       "T_tt = p(t, x, y, z)*shiftx(t, x, y, z)^2 + mu(t, x, y, z) \n",
       "T_tx = -p(t, x, y, z)*shiftx(t, x, y, z) \n",
       "T_xt = -p(t, x, y, z)*shiftx(t, x, y, z) \n",
       "T_xx = p(t, x, y, z) \n",
       "T_yy = p(t, x, y, z) \n",
       "T_zz = p(t, x, y, z) "
      ]
     },
     "execution_count": 19,
     "metadata": {},
     "output_type": "execute_result"
    }
   ],
   "source": [
    "EMT = M.tensor_field(0,2, name='T');\n",
    "EMT[0,0] = mu + shiftx**2*p\n",
    "EMT[0,1] = - shiftx * p\n",
    "EMT[1,0] = - shiftx * p\n",
    "EMT[1,1] = p\n",
    "EMT[2,2] = p\n",
    "EMT[3,3] = p\n",
    "EMT.set_name('T')\n",
    "EMT.display_comp()"
   ]
  },
  {
   "cell_type": "code",
   "execution_count": 20,
   "metadata": {},
   "outputs": [
    {
     "name": "stdout",
     "output_type": "stream",
     "text": [
      "(0, 2)\n"
     ]
    },
    {
     "data": {
      "text/html": [
       "<html><script type=\"math/tex; mode=display\">\\newcommand{\\Bold}[1]{\\mathbf{#1}}\\begin{array}{lcl} div_{ \\, t }^{ \\phantom{\\, t} } & = & -2 \\, \\beta_x\\left(t, x, y, z\\right)^{2} \\frac{\\partial\\,p}{\\partial t} - 6 \\, p\\left(t, x, y, z\\right) \\beta_x\\left(t, x, y, z\\right) \\frac{\\partial\\,\\beta_x}{\\partial t} + \\beta_x\\left(t, x, y, z\\right) \\frac{\\partial\\,\\mu}{\\partial x} + {\\left(2 \\, \\beta_x\\left(t, x, y, z\\right)^{3} - \\beta_x\\left(t, x, y, z\\right)\\right)} \\frac{\\partial\\,p}{\\partial x} + {\\left(6 \\, p\\left(t, x, y, z\\right) \\beta_x\\left(t, x, y, z\\right)^{2} + \\mu\\left(t, x, y, z\\right) - p\\left(t, x, y, z\\right)\\right)} \\frac{\\partial\\,\\beta_x}{\\partial x} - \\frac{\\partial\\,\\mu}{\\partial t} \\\\ div_{ \\, x }^{ \\phantom{\\, x} } & = & -6 \\, p\\left(t, x, y, z\\right) \\beta_x\\left(t, x, y, z\\right) \\frac{\\partial\\,\\beta_x}{\\partial x} + 2 \\, \\beta_x\\left(t, x, y, z\\right) \\frac{\\partial\\,p}{\\partial t} - {\\left(2 \\, \\beta_x\\left(t, x, y, z\\right)^{2} - 1\\right)} \\frac{\\partial\\,p}{\\partial x} + 2 \\, p\\left(t, x, y, z\\right) \\frac{\\partial\\,\\beta_x}{\\partial t} \\\\ div_{ \\, y }^{ \\phantom{\\, y} } & = & -2 \\, p\\left(t, x, y, z\\right) \\beta_x\\left(t, x, y, z\\right) \\frac{\\partial\\,\\beta_x}{\\partial y} + \\frac{\\partial\\,p}{\\partial y} \\\\ div_{ \\, z }^{ \\phantom{\\, z} } & = & -2 \\, p\\left(t, x, y, z\\right) \\beta_x\\left(t, x, y, z\\right) \\frac{\\partial\\,\\beta_x}{\\partial z} + \\frac{\\partial\\,p}{\\partial z} \\end{array}</script></html>"
      ],
      "text/latex": [
       "$$\\newcommand{\\Bold}[1]{\\mathbf{#1}}\\begin{array}{lcl} div_{ \\, t }^{ \\phantom{\\, t} } & = & -2 \\, \\beta_x\\left(t, x, y, z\\right)^{2} \\frac{\\partial\\,p}{\\partial t} - 6 \\, p\\left(t, x, y, z\\right) \\beta_x\\left(t, x, y, z\\right) \\frac{\\partial\\,\\beta_x}{\\partial t} + \\beta_x\\left(t, x, y, z\\right) \\frac{\\partial\\,\\mu}{\\partial x} + {\\left(2 \\, \\beta_x\\left(t, x, y, z\\right)^{3} - \\beta_x\\left(t, x, y, z\\right)\\right)} \\frac{\\partial\\,p}{\\partial x} + {\\left(6 \\, p\\left(t, x, y, z\\right) \\beta_x\\left(t, x, y, z\\right)^{2} + \\mu\\left(t, x, y, z\\right) - p\\left(t, x, y, z\\right)\\right)} \\frac{\\partial\\,\\beta_x}{\\partial x} - \\frac{\\partial\\,\\mu}{\\partial t} \\\\ div_{ \\, x }^{ \\phantom{\\, x} } & = & -6 \\, p\\left(t, x, y, z\\right) \\beta_x\\left(t, x, y, z\\right) \\frac{\\partial\\,\\beta_x}{\\partial x} + 2 \\, \\beta_x\\left(t, x, y, z\\right) \\frac{\\partial\\,p}{\\partial t} - {\\left(2 \\, \\beta_x\\left(t, x, y, z\\right)^{2} - 1\\right)} \\frac{\\partial\\,p}{\\partial x} + 2 \\, p\\left(t, x, y, z\\right) \\frac{\\partial\\,\\beta_x}{\\partial t} \\\\ div_{ \\, y }^{ \\phantom{\\, y} } & = & -2 \\, p\\left(t, x, y, z\\right) \\beta_x\\left(t, x, y, z\\right) \\frac{\\partial\\,\\beta_x}{\\partial y} + \\frac{\\partial\\,p}{\\partial y} \\\\ div_{ \\, z }^{ \\phantom{\\, z} } & = & -2 \\, p\\left(t, x, y, z\\right) \\beta_x\\left(t, x, y, z\\right) \\frac{\\partial\\,\\beta_x}{\\partial z} + \\frac{\\partial\\,p}{\\partial z} \\end{array}$$"
      ],
      "text/plain": [
       "div_t = -2*shiftx(t, x, y, z)^2*d(p)/dt - 6*p(t, x, y, z)*shiftx(t, x, y, z)*d(shiftx)/dt + shiftx(t, x, y, z)*d(mu)/dx + (2*shiftx(t, x, y, z)^3 - shiftx(t, x, y, z))*d(p)/dx + (6*p(t, x, y, z)*shiftx(t, x, y, z)^2 + mu(t, x, y, z) - p(t, x, y, z))*d(shiftx)/dx - d(mu)/dt \n",
       "div_x = -6*p(t, x, y, z)*shiftx(t, x, y, z)*d(shiftx)/dx + 2*shiftx(t, x, y, z)*d(p)/dt - (2*shiftx(t, x, y, z)^2 - 1)*d(p)/dx + 2*p(t, x, y, z)*d(shiftx)/dt \n",
       "div_y = -2*p(t, x, y, z)*shiftx(t, x, y, z)*d(shiftx)/dy + d(p)/dy \n",
       "div_z = -2*p(t, x, y, z)*shiftx(t, x, y, z)*d(shiftx)/dz + d(p)/dz "
      ]
     },
     "execution_count": 20,
     "metadata": {},
     "output_type": "execute_result"
    }
   ],
   "source": [
    "s = EMT.div()\n",
    "s.set_name('div')\n",
    "print(EMT.tensor_type())\n",
    "s.display_comp()"
   ]
  },
  {
   "cell_type": "code",
   "execution_count": 21,
   "metadata": {},
   "outputs": [
    {
     "data": {
      "text/html": [
       "<html><script type=\"math/tex; mode=display\">\\newcommand{\\Bold}[1]{\\mathbf{#1}}\\begin{array}{lcl} X_{ \\phantom{\\, t} \\, t }^{ \\, t \\phantom{\\, t} } & = & -2 \\, \\beta_x\\left(t, x, y, z\\right)^{3} \\frac{\\partial\\,p}{\\partial x} - 2 \\, \\beta_x\\left(t, x, y, z\\right)^{2} \\frac{\\partial\\,p}{\\partial t} - 6 \\, p\\left(t, x, y, z\\right) \\beta_x\\left(t, x, y, z\\right) \\frac{\\partial\\,\\beta_x}{\\partial t} - \\beta_x\\left(t, x, y, z\\right) \\frac{\\partial\\,\\mu}{\\partial x} - 2 \\, {\\left(4 \\, p\\left(t, x, y, z\\right) \\beta_x\\left(t, x, y, z\\right)^{4} + \\mu\\left(t, x, y, z\\right) \\beta_x\\left(t, x, y, z\\right)^{2}\\right)} \\frac{\\partial\\,\\beta_x}{\\partial x} - \\frac{\\partial\\,\\mu}{\\partial t} \\\\ X_{ \\phantom{\\, t} \\, x }^{ \\, t \\phantom{\\, x} } & = & 2 \\, \\beta_x\\left(t, x, y, z\\right)^{2} \\frac{\\partial\\,p}{\\partial x} + 2 \\, \\beta_x\\left(t, x, y, z\\right) \\frac{\\partial\\,p}{\\partial t} + 2 \\, p\\left(t, x, y, z\\right) \\frac{\\partial\\,\\beta_x}{\\partial t} - 2 \\, {\\left(4 \\, p\\left(t, x, y, z\\right) \\beta_x\\left(t, x, y, z\\right)^{3} + \\mu\\left(t, x, y, z\\right) \\beta_x\\left(t, x, y, z\\right)\\right)} \\frac{\\partial\\,\\beta_x}{\\partial x} \\\\ X_{ \\phantom{\\, t} \\, y }^{ \\, t \\phantom{\\, y} } & = & -{\\left(4 \\, p\\left(t, x, y, z\\right) \\beta_x\\left(t, x, y, z\\right)^{3} + {\\left(\\mu\\left(t, x, y, z\\right) + 2 \\, p\\left(t, x, y, z\\right)\\right)} \\beta_x\\left(t, x, y, z\\right)\\right)} \\frac{\\partial\\,\\beta_x}{\\partial y} \\\\ X_{ \\phantom{\\, t} \\, z }^{ \\, t \\phantom{\\, z} } & = & -{\\left(4 \\, p\\left(t, x, y, z\\right) \\beta_x\\left(t, x, y, z\\right)^{3} + {\\left(\\mu\\left(t, x, y, z\\right) + 2 \\, p\\left(t, x, y, z\\right)\\right)} \\beta_x\\left(t, x, y, z\\right)\\right)} \\frac{\\partial\\,\\beta_x}{\\partial z} \\\\ X_{ \\phantom{\\, x} \\, t }^{ \\, x \\phantom{\\, t} } & = & \\beta_x\\left(t, x, y, z\\right)^{2} \\frac{\\partial\\,\\mu}{\\partial x} + \\beta_x\\left(t, x, y, z\\right) \\frac{\\partial\\,\\mu}{\\partial t} + {\\left(2 \\, \\beta_x\\left(t, x, y, z\\right)^{3} - \\beta_x\\left(t, x, y, z\\right)\\right)} \\frac{\\partial\\,p}{\\partial t} + {\\left(2 \\, \\beta_x\\left(t, x, y, z\\right)^{4} - \\beta_x\\left(t, x, y, z\\right)^{2}\\right)} \\frac{\\partial\\,p}{\\partial x} + 2 \\, {\\left(3 \\, p\\left(t, x, y, z\\right) \\beta_x\\left(t, x, y, z\\right)^{2} - p\\left(t, x, y, z\\right)\\right)} \\frac{\\partial\\,\\beta_x}{\\partial t} + 2 \\, {\\left(4 \\, p\\left(t, x, y, z\\right) \\beta_x\\left(t, x, y, z\\right)^{5} + \\mu\\left(t, x, y, z\\right) \\beta_x\\left(t, x, y, z\\right)^{3} + \\mu\\left(t, x, y, z\\right) \\beta_x\\left(t, x, y, z\\right)\\right)} \\frac{\\partial\\,\\beta_x}{\\partial x} \\\\ X_{ \\phantom{\\, x} \\, x }^{ \\, x \\phantom{\\, x} } & = & -2 \\, p\\left(t, x, y, z\\right) \\beta_x\\left(t, x, y, z\\right) \\frac{\\partial\\,\\beta_x}{\\partial t} - {\\left(2 \\, \\beta_x\\left(t, x, y, z\\right)^{2} - 1\\right)} \\frac{\\partial\\,p}{\\partial t} - {\\left(2 \\, \\beta_x\\left(t, x, y, z\\right)^{3} - \\beta_x\\left(t, x, y, z\\right)\\right)} \\frac{\\partial\\,p}{\\partial x} + 2 \\, {\\left(4 \\, p\\left(t, x, y, z\\right) \\beta_x\\left(t, x, y, z\\right)^{4} + {\\left(\\mu\\left(t, x, y, z\\right) - 4 \\, p\\left(t, x, y, z\\right)\\right)} \\beta_x\\left(t, x, y, z\\right)^{2}\\right)} \\frac{\\partial\\,\\beta_x}{\\partial x} \\\\ X_{ \\phantom{\\, x} \\, y }^{ \\, x \\phantom{\\, y} } & = & {\\left(4 \\, p\\left(t, x, y, z\\right) \\beta_x\\left(t, x, y, z\\right)^{4} + \\mu\\left(t, x, y, z\\right) \\beta_x\\left(t, x, y, z\\right)^{2}\\right)} \\frac{\\partial\\,\\beta_x}{\\partial y} \\\\ X_{ \\phantom{\\, x} \\, z }^{ \\, x \\phantom{\\, z} } & = & {\\left(4 \\, p\\left(t, x, y, z\\right) \\beta_x\\left(t, x, y, z\\right)^{4} + \\mu\\left(t, x, y, z\\right) \\beta_x\\left(t, x, y, z\\right)^{2}\\right)} \\frac{\\partial\\,\\beta_x}{\\partial z} \\\\ X_{ \\phantom{\\, y} \\, t }^{ \\, y \\phantom{\\, t} } & = & {\\left(2 \\, p\\left(t, x, y, z\\right) \\beta_x\\left(t, x, y, z\\right)^{3} + {\\left(\\mu\\left(t, x, y, z\\right) + 2 \\, p\\left(t, x, y, z\\right)\\right)} \\beta_x\\left(t, x, y, z\\right)\\right)} \\frac{\\partial\\,\\beta_x}{\\partial y} \\\\ X_{ \\phantom{\\, y} \\, x }^{ \\, y \\phantom{\\, x} } & = & -2 \\, p\\left(t, x, y, z\\right) \\beta_x\\left(t, x, y, z\\right)^{2} \\frac{\\partial\\,\\beta_x}{\\partial y} \\\\ X_{ \\phantom{\\, y} \\, y }^{ \\, y \\phantom{\\, y} } & = & \\beta_x\\left(t, x, y, z\\right) \\frac{\\partial\\,p}{\\partial x} + \\frac{\\partial\\,p}{\\partial t} \\\\ X_{ \\phantom{\\, z} \\, t }^{ \\, z \\phantom{\\, t} } & = & {\\left(2 \\, p\\left(t, x, y, z\\right) \\beta_x\\left(t, x, y, z\\right)^{3} + {\\left(\\mu\\left(t, x, y, z\\right) + 2 \\, p\\left(t, x, y, z\\right)\\right)} \\beta_x\\left(t, x, y, z\\right)\\right)} \\frac{\\partial\\,\\beta_x}{\\partial z} \\\\ X_{ \\phantom{\\, z} \\, x }^{ \\, z \\phantom{\\, x} } & = & -2 \\, p\\left(t, x, y, z\\right) \\beta_x\\left(t, x, y, z\\right)^{2} \\frac{\\partial\\,\\beta_x}{\\partial z} \\\\ X_{ \\phantom{\\, z} \\, z }^{ \\, z \\phantom{\\, z} } & = & \\beta_x\\left(t, x, y, z\\right) \\frac{\\partial\\,p}{\\partial x} + \\frac{\\partial\\,p}{\\partial t} \\end{array}</script></html>"
      ],
      "text/latex": [
       "$$\\newcommand{\\Bold}[1]{\\mathbf{#1}}\\begin{array}{lcl} X_{ \\phantom{\\, t} \\, t }^{ \\, t \\phantom{\\, t} } & = & -2 \\, \\beta_x\\left(t, x, y, z\\right)^{3} \\frac{\\partial\\,p}{\\partial x} - 2 \\, \\beta_x\\left(t, x, y, z\\right)^{2} \\frac{\\partial\\,p}{\\partial t} - 6 \\, p\\left(t, x, y, z\\right) \\beta_x\\left(t, x, y, z\\right) \\frac{\\partial\\,\\beta_x}{\\partial t} - \\beta_x\\left(t, x, y, z\\right) \\frac{\\partial\\,\\mu}{\\partial x} - 2 \\, {\\left(4 \\, p\\left(t, x, y, z\\right) \\beta_x\\left(t, x, y, z\\right)^{4} + \\mu\\left(t, x, y, z\\right) \\beta_x\\left(t, x, y, z\\right)^{2}\\right)} \\frac{\\partial\\,\\beta_x}{\\partial x} - \\frac{\\partial\\,\\mu}{\\partial t} \\\\ X_{ \\phantom{\\, t} \\, x }^{ \\, t \\phantom{\\, x} } & = & 2 \\, \\beta_x\\left(t, x, y, z\\right)^{2} \\frac{\\partial\\,p}{\\partial x} + 2 \\, \\beta_x\\left(t, x, y, z\\right) \\frac{\\partial\\,p}{\\partial t} + 2 \\, p\\left(t, x, y, z\\right) \\frac{\\partial\\,\\beta_x}{\\partial t} - 2 \\, {\\left(4 \\, p\\left(t, x, y, z\\right) \\beta_x\\left(t, x, y, z\\right)^{3} + \\mu\\left(t, x, y, z\\right) \\beta_x\\left(t, x, y, z\\right)\\right)} \\frac{\\partial\\,\\beta_x}{\\partial x} \\\\ X_{ \\phantom{\\, t} \\, y }^{ \\, t \\phantom{\\, y} } & = & -{\\left(4 \\, p\\left(t, x, y, z\\right) \\beta_x\\left(t, x, y, z\\right)^{3} + {\\left(\\mu\\left(t, x, y, z\\right) + 2 \\, p\\left(t, x, y, z\\right)\\right)} \\beta_x\\left(t, x, y, z\\right)\\right)} \\frac{\\partial\\,\\beta_x}{\\partial y} \\\\ X_{ \\phantom{\\, t} \\, z }^{ \\, t \\phantom{\\, z} } & = & -{\\left(4 \\, p\\left(t, x, y, z\\right) \\beta_x\\left(t, x, y, z\\right)^{3} + {\\left(\\mu\\left(t, x, y, z\\right) + 2 \\, p\\left(t, x, y, z\\right)\\right)} \\beta_x\\left(t, x, y, z\\right)\\right)} \\frac{\\partial\\,\\beta_x}{\\partial z} \\\\ X_{ \\phantom{\\, x} \\, t }^{ \\, x \\phantom{\\, t} } & = & \\beta_x\\left(t, x, y, z\\right)^{2} \\frac{\\partial\\,\\mu}{\\partial x} + \\beta_x\\left(t, x, y, z\\right) \\frac{\\partial\\,\\mu}{\\partial t} + {\\left(2 \\, \\beta_x\\left(t, x, y, z\\right)^{3} - \\beta_x\\left(t, x, y, z\\right)\\right)} \\frac{\\partial\\,p}{\\partial t} + {\\left(2 \\, \\beta_x\\left(t, x, y, z\\right)^{4} - \\beta_x\\left(t, x, y, z\\right)^{2}\\right)} \\frac{\\partial\\,p}{\\partial x} + 2 \\, {\\left(3 \\, p\\left(t, x, y, z\\right) \\beta_x\\left(t, x, y, z\\right)^{2} - p\\left(t, x, y, z\\right)\\right)} \\frac{\\partial\\,\\beta_x}{\\partial t} + 2 \\, {\\left(4 \\, p\\left(t, x, y, z\\right) \\beta_x\\left(t, x, y, z\\right)^{5} + \\mu\\left(t, x, y, z\\right) \\beta_x\\left(t, x, y, z\\right)^{3} + \\mu\\left(t, x, y, z\\right) \\beta_x\\left(t, x, y, z\\right)\\right)} \\frac{\\partial\\,\\beta_x}{\\partial x} \\\\ X_{ \\phantom{\\, x} \\, x }^{ \\, x \\phantom{\\, x} } & = & -2 \\, p\\left(t, x, y, z\\right) \\beta_x\\left(t, x, y, z\\right) \\frac{\\partial\\,\\beta_x}{\\partial t} - {\\left(2 \\, \\beta_x\\left(t, x, y, z\\right)^{2} - 1\\right)} \\frac{\\partial\\,p}{\\partial t} - {\\left(2 \\, \\beta_x\\left(t, x, y, z\\right)^{3} - \\beta_x\\left(t, x, y, z\\right)\\right)} \\frac{\\partial\\,p}{\\partial x} + 2 \\, {\\left(4 \\, p\\left(t, x, y, z\\right) \\beta_x\\left(t, x, y, z\\right)^{4} + {\\left(\\mu\\left(t, x, y, z\\right) - 4 \\, p\\left(t, x, y, z\\right)\\right)} \\beta_x\\left(t, x, y, z\\right)^{2}\\right)} \\frac{\\partial\\,\\beta_x}{\\partial x} \\\\ X_{ \\phantom{\\, x} \\, y }^{ \\, x \\phantom{\\, y} } & = & {\\left(4 \\, p\\left(t, x, y, z\\right) \\beta_x\\left(t, x, y, z\\right)^{4} + \\mu\\left(t, x, y, z\\right) \\beta_x\\left(t, x, y, z\\right)^{2}\\right)} \\frac{\\partial\\,\\beta_x}{\\partial y} \\\\ X_{ \\phantom{\\, x} \\, z }^{ \\, x \\phantom{\\, z} } & = & {\\left(4 \\, p\\left(t, x, y, z\\right) \\beta_x\\left(t, x, y, z\\right)^{4} + \\mu\\left(t, x, y, z\\right) \\beta_x\\left(t, x, y, z\\right)^{2}\\right)} \\frac{\\partial\\,\\beta_x}{\\partial z} \\\\ X_{ \\phantom{\\, y} \\, t }^{ \\, y \\phantom{\\, t} } & = & {\\left(2 \\, p\\left(t, x, y, z\\right) \\beta_x\\left(t, x, y, z\\right)^{3} + {\\left(\\mu\\left(t, x, y, z\\right) + 2 \\, p\\left(t, x, y, z\\right)\\right)} \\beta_x\\left(t, x, y, z\\right)\\right)} \\frac{\\partial\\,\\beta_x}{\\partial y} \\\\ X_{ \\phantom{\\, y} \\, x }^{ \\, y \\phantom{\\, x} } & = & -2 \\, p\\left(t, x, y, z\\right) \\beta_x\\left(t, x, y, z\\right)^{2} \\frac{\\partial\\,\\beta_x}{\\partial y} \\\\ X_{ \\phantom{\\, y} \\, y }^{ \\, y \\phantom{\\, y} } & = & \\beta_x\\left(t, x, y, z\\right) \\frac{\\partial\\,p}{\\partial x} + \\frac{\\partial\\,p}{\\partial t} \\\\ X_{ \\phantom{\\, z} \\, t }^{ \\, z \\phantom{\\, t} } & = & {\\left(2 \\, p\\left(t, x, y, z\\right) \\beta_x\\left(t, x, y, z\\right)^{3} + {\\left(\\mu\\left(t, x, y, z\\right) + 2 \\, p\\left(t, x, y, z\\right)\\right)} \\beta_x\\left(t, x, y, z\\right)\\right)} \\frac{\\partial\\,\\beta_x}{\\partial z} \\\\ X_{ \\phantom{\\, z} \\, x }^{ \\, z \\phantom{\\, x} } & = & -2 \\, p\\left(t, x, y, z\\right) \\beta_x\\left(t, x, y, z\\right)^{2} \\frac{\\partial\\,\\beta_x}{\\partial z} \\\\ X_{ \\phantom{\\, z} \\, z }^{ \\, z \\phantom{\\, z} } & = & \\beta_x\\left(t, x, y, z\\right) \\frac{\\partial\\,p}{\\partial x} + \\frac{\\partial\\,p}{\\partial t} \\end{array}$$"
      ],
      "text/plain": [
       "X^t_t = -2*shiftx(t, x, y, z)^3*d(p)/dx - 2*shiftx(t, x, y, z)^2*d(p)/dt - 6*p(t, x, y, z)*shiftx(t, x, y, z)*d(shiftx)/dt - shiftx(t, x, y, z)*d(mu)/dx - 2*(4*p(t, x, y, z)*shiftx(t, x, y, z)^4 + mu(t, x, y, z)*shiftx(t, x, y, z)^2)*d(shiftx)/dx - d(mu)/dt \n",
       "X^t_x = 2*shiftx(t, x, y, z)^2*d(p)/dx + 2*shiftx(t, x, y, z)*d(p)/dt + 2*p(t, x, y, z)*d(shiftx)/dt - 2*(4*p(t, x, y, z)*shiftx(t, x, y, z)^3 + mu(t, x, y, z)*shiftx(t, x, y, z))*d(shiftx)/dx \n",
       "X^t_y = -(4*p(t, x, y, z)*shiftx(t, x, y, z)^3 + (mu(t, x, y, z) + 2*p(t, x, y, z))*shiftx(t, x, y, z))*d(shiftx)/dy \n",
       "X^t_z = -(4*p(t, x, y, z)*shiftx(t, x, y, z)^3 + (mu(t, x, y, z) + 2*p(t, x, y, z))*shiftx(t, x, y, z))*d(shiftx)/dz \n",
       "X^x_t = shiftx(t, x, y, z)^2*d(mu)/dx + shiftx(t, x, y, z)*d(mu)/dt + (2*shiftx(t, x, y, z)^3 - shiftx(t, x, y, z))*d(p)/dt + (2*shiftx(t, x, y, z)^4 - shiftx(t, x, y, z)^2)*d(p)/dx + 2*(3*p(t, x, y, z)*shiftx(t, x, y, z)^2 - p(t, x, y, z))*d(shiftx)/dt + 2*(4*p(t, x, y, z)*shiftx(t, x, y, z)^5 + mu(t, x, y, z)*shiftx(t, x, y, z)^3 + mu(t, x, y, z)*shiftx(t, x, y, z))*d(shiftx)/dx \n",
       "X^x_x = -2*p(t, x, y, z)*shiftx(t, x, y, z)*d(shiftx)/dt - (2*shiftx(t, x, y, z)^2 - 1)*d(p)/dt - (2*shiftx(t, x, y, z)^3 - shiftx(t, x, y, z))*d(p)/dx + 2*(4*p(t, x, y, z)*shiftx(t, x, y, z)^4 + (mu(t, x, y, z) - 4*p(t, x, y, z))*shiftx(t, x, y, z)^2)*d(shiftx)/dx \n",
       "X^x_y = (4*p(t, x, y, z)*shiftx(t, x, y, z)^4 + mu(t, x, y, z)*shiftx(t, x, y, z)^2)*d(shiftx)/dy \n",
       "X^x_z = (4*p(t, x, y, z)*shiftx(t, x, y, z)^4 + mu(t, x, y, z)*shiftx(t, x, y, z)^2)*d(shiftx)/dz \n",
       "X^y_t = (2*p(t, x, y, z)*shiftx(t, x, y, z)^3 + (mu(t, x, y, z) + 2*p(t, x, y, z))*shiftx(t, x, y, z))*d(shiftx)/dy \n",
       "X^y_x = -2*p(t, x, y, z)*shiftx(t, x, y, z)^2*d(shiftx)/dy \n",
       "X^y_y = shiftx(t, x, y, z)*d(p)/dx + d(p)/dt \n",
       "X^z_t = (2*p(t, x, y, z)*shiftx(t, x, y, z)^3 + (mu(t, x, y, z) + 2*p(t, x, y, z))*shiftx(t, x, y, z))*d(shiftx)/dz \n",
       "X^z_x = -2*p(t, x, y, z)*shiftx(t, x, y, z)^2*d(shiftx)/dz \n",
       "X^z_z = shiftx(t, x, y, z)*d(p)/dx + d(p)/dt "
      ]
     },
     "execution_count": 21,
     "metadata": {},
     "output_type": "execute_result"
    }
   ],
   "source": [
    "nabla = g.connection()\n",
    "#\n",
    "EMT_up = EMT.up(g)\n",
    "#\n",
    "EMT_ud = EMT_up.contract(1,g,1)\n",
    "#\n",
    "covdiv_emt = nabla(EMT_ud)\n",
    "#\n",
    "covdiv_emt = covdiv_emt.contract(u)\n",
    "#\n",
    "#covdiv_emt = covdiv_emt.contract(1, g,1)\n",
    "#\n",
    "covdiv_emt.display_comp()"
   ]
  },
  {
   "cell_type": "code",
   "execution_count": 22,
   "metadata": {},
   "outputs": [
    {
     "data": {
      "text/html": [
       "<html><script type=\"math/tex; mode=display\">\\newcommand{\\Bold}[1]{\\mathbf{#1}}\\begin{array}{lcl} T_{ \\, t \\, t }^{ \\phantom{\\, t}\\phantom{\\, t} } & = & p\\left(t, x, y, z\\right) \\beta_x\\left(t, x, y, z\\right)^{2} + \\mu\\left(t, x, y, z\\right) \\\\ T_{ \\, t \\, x }^{ \\phantom{\\, t}\\phantom{\\, x} } & = & -D\\left(t, x, y, z\\right) \\beta_x\\left(t, x, y, z\\right) \\\\ T_{ \\, x \\, t }^{ \\phantom{\\, x}\\phantom{\\, t} } & = & -D\\left(t, x, y, z\\right) \\beta_x\\left(t, x, y, z\\right) \\\\ T_{ \\, x \\, x }^{ \\phantom{\\, x}\\phantom{\\, x} } & = & A\\left(t, x, y, z\\right) \\\\ T_{ \\, y \\, y }^{ \\phantom{\\, y}\\phantom{\\, y} } & = & B\\left(t, x, y, z\\right) \\\\ T_{ \\, z \\, z }^{ \\phantom{\\, z}\\phantom{\\, z} } & = & C\\left(t, x, y, z\\right) \\end{array}</script></html>"
      ],
      "text/latex": [
       "$$\\newcommand{\\Bold}[1]{\\mathbf{#1}}\\begin{array}{lcl} T_{ \\, t \\, t }^{ \\phantom{\\, t}\\phantom{\\, t} } & = & p\\left(t, x, y, z\\right) \\beta_x\\left(t, x, y, z\\right)^{2} + \\mu\\left(t, x, y, z\\right) \\\\ T_{ \\, t \\, x }^{ \\phantom{\\, t}\\phantom{\\, x} } & = & -D\\left(t, x, y, z\\right) \\beta_x\\left(t, x, y, z\\right) \\\\ T_{ \\, x \\, t }^{ \\phantom{\\, x}\\phantom{\\, t} } & = & -D\\left(t, x, y, z\\right) \\beta_x\\left(t, x, y, z\\right) \\\\ T_{ \\, x \\, x }^{ \\phantom{\\, x}\\phantom{\\, x} } & = & A\\left(t, x, y, z\\right) \\\\ T_{ \\, y \\, y }^{ \\phantom{\\, y}\\phantom{\\, y} } & = & B\\left(t, x, y, z\\right) \\\\ T_{ \\, z \\, z }^{ \\phantom{\\, z}\\phantom{\\, z} } & = & C\\left(t, x, y, z\\right) \\end{array}$$"
      ],
      "text/plain": [
       "T_tt = p(t, x, y, z)*shiftx(t, x, y, z)^2 + mu(t, x, y, z) \n",
       "T_tx = -d(t, x, y, z)*shiftx(t, x, y, z) \n",
       "T_xt = -d(t, x, y, z)*shiftx(t, x, y, z) \n",
       "T_xx = a(t, x, y, z) \n",
       "T_yy = b(t, x, y, z) \n",
       "T_zz = c(t, x, y, z) "
      ]
     },
     "execution_count": 22,
     "metadata": {},
     "output_type": "execute_result"
    }
   ],
   "source": [
    "# Defining the energy momentum tensor\n",
    "EMT = M.tensor_field(0,2, name='T');\n",
    "EMT[0,0] = mu + shiftx**2*p\n",
    "EMT[0,1] = - shiftx * d\n",
    "EMT[1,0] = - shiftx * d\n",
    "EMT[1,1] = a\n",
    "EMT[2,2] = b\n",
    "EMT[3,3] = c\n",
    "EMT.set_name('T')\n",
    "EMT.display_comp()"
   ]
  },
  {
   "cell_type": "code",
   "execution_count": 23,
   "metadata": {},
   "outputs": [
    {
     "data": {
      "text/html": [
       "<html><script type=\"math/tex; mode=display\">\\newcommand{\\Bold}[1]{\\mathbf{#1}}\\begin{array}{lcl} X_{ \\phantom{\\, t} \\, t }^{ \\, t \\phantom{\\, t} } & = & -\\beta_x\\left(t, x, y, z\\right)^{3} \\frac{\\partial\\,D}{\\partial x} - \\beta_x\\left(t, x, y, z\\right)^{3} \\frac{\\partial\\,p}{\\partial x} - \\beta_x\\left(t, x, y, z\\right)^{2} \\frac{\\partial\\,D}{\\partial t} - \\beta_x\\left(t, x, y, z\\right)^{2} \\frac{\\partial\\,p}{\\partial t} - {\\left(A\\left(t, x, y, z\\right) + 3 \\, D\\left(t, x, y, z\\right) + 2 \\, p\\left(t, x, y, z\\right)\\right)} \\beta_x\\left(t, x, y, z\\right) \\frac{\\partial\\,\\beta_x}{\\partial t} - \\beta_x\\left(t, x, y, z\\right) \\frac{\\partial\\,\\mu}{\\partial x} - {\\left(2 \\, {\\left(A\\left(t, x, y, z\\right) + 2 \\, D\\left(t, x, y, z\\right) + p\\left(t, x, y, z\\right)\\right)} \\beta_x\\left(t, x, y, z\\right)^{4} - {\\left(A\\left(t, x, y, z\\right) + D\\left(t, x, y, z\\right) - 2 \\, \\mu\\left(t, x, y, z\\right) - 2 \\, p\\left(t, x, y, z\\right)\\right)} \\beta_x\\left(t, x, y, z\\right)^{2}\\right)} \\frac{\\partial\\,\\beta_x}{\\partial x} - \\frac{\\partial\\,\\mu}{\\partial t} \\\\ X_{ \\phantom{\\, t} \\, x }^{ \\, t \\phantom{\\, x} } & = & \\beta_x\\left(t, x, y, z\\right)^{2} \\frac{\\partial\\,A}{\\partial x} + \\beta_x\\left(t, x, y, z\\right)^{2} \\frac{\\partial\\,D}{\\partial x} + \\beta_x\\left(t, x, y, z\\right) \\frac{\\partial\\,A}{\\partial t} + \\beta_x\\left(t, x, y, z\\right) \\frac{\\partial\\,D}{\\partial t} + {\\left(A\\left(t, x, y, z\\right) + D\\left(t, x, y, z\\right)\\right)} \\frac{\\partial\\,\\beta_x}{\\partial t} - {\\left(2 \\, {\\left(A\\left(t, x, y, z\\right) + 2 \\, D\\left(t, x, y, z\\right) + p\\left(t, x, y, z\\right)\\right)} \\beta_x\\left(t, x, y, z\\right)^{3} + {\\left(A\\left(t, x, y, z\\right) - D\\left(t, x, y, z\\right) + 2 \\, \\mu\\left(t, x, y, z\\right)\\right)} \\beta_x\\left(t, x, y, z\\right)\\right)} \\frac{\\partial\\,\\beta_x}{\\partial x} \\\\ X_{ \\phantom{\\, t} \\, y }^{ \\, t \\phantom{\\, y} } & = & -\\frac{1}{2} \\, {\\left(2 \\, {\\left(A\\left(t, x, y, z\\right) + 2 \\, D\\left(t, x, y, z\\right) + p\\left(t, x, y, z\\right)\\right)} \\beta_x\\left(t, x, y, z\\right)^{3} + {\\left(A\\left(t, x, y, z\\right) + 2 \\, B\\left(t, x, y, z\\right) + D\\left(t, x, y, z\\right) + 2 \\, \\mu\\left(t, x, y, z\\right)\\right)} \\beta_x\\left(t, x, y, z\\right)\\right)} \\frac{\\partial\\,\\beta_x}{\\partial y} \\\\ X_{ \\phantom{\\, t} \\, z }^{ \\, t \\phantom{\\, z} } & = & -\\frac{1}{2} \\, {\\left(2 \\, {\\left(A\\left(t, x, y, z\\right) + 2 \\, D\\left(t, x, y, z\\right) + p\\left(t, x, y, z\\right)\\right)} \\beta_x\\left(t, x, y, z\\right)^{3} + {\\left(A\\left(t, x, y, z\\right) + 2 \\, C\\left(t, x, y, z\\right) + D\\left(t, x, y, z\\right) + 2 \\, \\mu\\left(t, x, y, z\\right)\\right)} \\beta_x\\left(t, x, y, z\\right)\\right)} \\frac{\\partial\\,\\beta_x}{\\partial z} \\\\ X_{ \\phantom{\\, x} \\, t }^{ \\, x \\phantom{\\, t} } & = & \\beta_x\\left(t, x, y, z\\right)^{4} \\frac{\\partial\\,p}{\\partial x} + \\beta_x\\left(t, x, y, z\\right)^{3} \\frac{\\partial\\,p}{\\partial t} + \\beta_x\\left(t, x, y, z\\right)^{2} \\frac{\\partial\\,\\mu}{\\partial x} + {\\left(\\beta_x\\left(t, x, y, z\\right)^{3} - \\beta_x\\left(t, x, y, z\\right)\\right)} \\frac{\\partial\\,D}{\\partial t} + {\\left(\\beta_x\\left(t, x, y, z\\right)^{4} - \\beta_x\\left(t, x, y, z\\right)^{2}\\right)} \\frac{\\partial\\,D}{\\partial x} + \\beta_x\\left(t, x, y, z\\right) \\frac{\\partial\\,\\mu}{\\partial t} + {\\left({\\left(A\\left(t, x, y, z\\right) + 3 \\, D\\left(t, x, y, z\\right) + 2 \\, p\\left(t, x, y, z\\right)\\right)} \\beta_x\\left(t, x, y, z\\right)^{2} - A\\left(t, x, y, z\\right) - D\\left(t, x, y, z\\right)\\right)} \\frac{\\partial\\,\\beta_x}{\\partial t} + {\\left(2 \\, {\\left(A\\left(t, x, y, z\\right) + 2 \\, D\\left(t, x, y, z\\right) + p\\left(t, x, y, z\\right)\\right)} \\beta_x\\left(t, x, y, z\\right)^{5} - {\\left(3 \\, A\\left(t, x, y, z\\right) + D\\left(t, x, y, z\\right) - 2 \\, \\mu\\left(t, x, y, z\\right) - 4 \\, p\\left(t, x, y, z\\right)\\right)} \\beta_x\\left(t, x, y, z\\right)^{3} + {\\left(A\\left(t, x, y, z\\right) - D\\left(t, x, y, z\\right) + 2 \\, \\mu\\left(t, x, y, z\\right)\\right)} \\beta_x\\left(t, x, y, z\\right)\\right)} \\frac{\\partial\\,\\beta_x}{\\partial x} \\\\ X_{ \\phantom{\\, x} \\, x }^{ \\, x \\phantom{\\, x} } & = & -\\beta_x\\left(t, x, y, z\\right)^{3} \\frac{\\partial\\,D}{\\partial x} - \\beta_x\\left(t, x, y, z\\right)^{2} \\frac{\\partial\\,D}{\\partial t} - {\\left(A\\left(t, x, y, z\\right) + D\\left(t, x, y, z\\right)\\right)} \\beta_x\\left(t, x, y, z\\right) \\frac{\\partial\\,\\beta_x}{\\partial t} - {\\left(\\beta_x\\left(t, x, y, z\\right)^{2} - 1\\right)} \\frac{\\partial\\,A}{\\partial t} - {\\left(\\beta_x\\left(t, x, y, z\\right)^{3} - \\beta_x\\left(t, x, y, z\\right)\\right)} \\frac{\\partial\\,A}{\\partial x} + {\\left(2 \\, {\\left(A\\left(t, x, y, z\\right) + 2 \\, D\\left(t, x, y, z\\right) + p\\left(t, x, y, z\\right)\\right)} \\beta_x\\left(t, x, y, z\\right)^{4} - {\\left(3 \\, A\\left(t, x, y, z\\right) + 5 \\, D\\left(t, x, y, z\\right) - 2 \\, \\mu\\left(t, x, y, z\\right)\\right)} \\beta_x\\left(t, x, y, z\\right)^{2}\\right)} \\frac{\\partial\\,\\beta_x}{\\partial x} \\\\ X_{ \\phantom{\\, x} \\, y }^{ \\, x \\phantom{\\, y} } & = & \\frac{1}{2} \\, {\\left(2 \\, {\\left(A\\left(t, x, y, z\\right) + 2 \\, D\\left(t, x, y, z\\right) + p\\left(t, x, y, z\\right)\\right)} \\beta_x\\left(t, x, y, z\\right)^{4} - {\\left(A\\left(t, x, y, z\\right) - 2 \\, B\\left(t, x, y, z\\right) + D\\left(t, x, y, z\\right) - 2 \\, \\mu\\left(t, x, y, z\\right)\\right)} \\beta_x\\left(t, x, y, z\\right)^{2} - A\\left(t, x, y, z\\right) + B\\left(t, x, y, z\\right)\\right)} \\frac{\\partial\\,\\beta_x}{\\partial y} \\\\ X_{ \\phantom{\\, x} \\, z }^{ \\, x \\phantom{\\, z} } & = & \\frac{1}{2} \\, {\\left(2 \\, {\\left(A\\left(t, x, y, z\\right) + 2 \\, D\\left(t, x, y, z\\right) + p\\left(t, x, y, z\\right)\\right)} \\beta_x\\left(t, x, y, z\\right)^{4} - {\\left(A\\left(t, x, y, z\\right) - 2 \\, C\\left(t, x, y, z\\right) + D\\left(t, x, y, z\\right) - 2 \\, \\mu\\left(t, x, y, z\\right)\\right)} \\beta_x\\left(t, x, y, z\\right)^{2} - A\\left(t, x, y, z\\right) + C\\left(t, x, y, z\\right)\\right)} \\frac{\\partial\\,\\beta_x}{\\partial z} \\\\ X_{ \\phantom{\\, y} \\, t }^{ \\, y \\phantom{\\, t} } & = & \\frac{1}{2} \\, {\\left(2 \\, {\\left(D\\left(t, x, y, z\\right) + p\\left(t, x, y, z\\right)\\right)} \\beta_x\\left(t, x, y, z\\right)^{3} + {\\left(3 \\, B\\left(t, x, y, z\\right) + D\\left(t, x, y, z\\right) + 2 \\, \\mu\\left(t, x, y, z\\right)\\right)} \\beta_x\\left(t, x, y, z\\right)\\right)} \\frac{\\partial\\,\\beta_x}{\\partial y} \\\\ X_{ \\phantom{\\, y} \\, x }^{ \\, y \\phantom{\\, x} } & = & -\\frac{1}{2} \\, {\\left(2 \\, {\\left(A\\left(t, x, y, z\\right) + D\\left(t, x, y, z\\right)\\right)} \\beta_x\\left(t, x, y, z\\right)^{2} + A\\left(t, x, y, z\\right) - B\\left(t, x, y, z\\right)\\right)} \\frac{\\partial\\,\\beta_x}{\\partial y} \\\\ X_{ \\phantom{\\, y} \\, y }^{ \\, y \\phantom{\\, y} } & = & \\beta_x\\left(t, x, y, z\\right) \\frac{\\partial\\,B}{\\partial x} + \\frac{\\partial\\,B}{\\partial t} \\\\ X_{ \\phantom{\\, z} \\, t }^{ \\, z \\phantom{\\, t} } & = & \\frac{1}{2} \\, {\\left(2 \\, {\\left(D\\left(t, x, y, z\\right) + p\\left(t, x, y, z\\right)\\right)} \\beta_x\\left(t, x, y, z\\right)^{3} + {\\left(3 \\, C\\left(t, x, y, z\\right) + D\\left(t, x, y, z\\right) + 2 \\, \\mu\\left(t, x, y, z\\right)\\right)} \\beta_x\\left(t, x, y, z\\right)\\right)} \\frac{\\partial\\,\\beta_x}{\\partial z} \\\\ X_{ \\phantom{\\, z} \\, x }^{ \\, z \\phantom{\\, x} } & = & -\\frac{1}{2} \\, {\\left(2 \\, {\\left(A\\left(t, x, y, z\\right) + D\\left(t, x, y, z\\right)\\right)} \\beta_x\\left(t, x, y, z\\right)^{2} + A\\left(t, x, y, z\\right) - C\\left(t, x, y, z\\right)\\right)} \\frac{\\partial\\,\\beta_x}{\\partial z} \\\\ X_{ \\phantom{\\, z} \\, z }^{ \\, z \\phantom{\\, z} } & = & \\beta_x\\left(t, x, y, z\\right) \\frac{\\partial\\,C}{\\partial x} + \\frac{\\partial\\,C}{\\partial t} \\end{array}</script></html>"
      ],
      "text/latex": [
       "$$\\newcommand{\\Bold}[1]{\\mathbf{#1}}\\begin{array}{lcl} X_{ \\phantom{\\, t} \\, t }^{ \\, t \\phantom{\\, t} } & = & -\\beta_x\\left(t, x, y, z\\right)^{3} \\frac{\\partial\\,D}{\\partial x} - \\beta_x\\left(t, x, y, z\\right)^{3} \\frac{\\partial\\,p}{\\partial x} - \\beta_x\\left(t, x, y, z\\right)^{2} \\frac{\\partial\\,D}{\\partial t} - \\beta_x\\left(t, x, y, z\\right)^{2} \\frac{\\partial\\,p}{\\partial t} - {\\left(A\\left(t, x, y, z\\right) + 3 \\, D\\left(t, x, y, z\\right) + 2 \\, p\\left(t, x, y, z\\right)\\right)} \\beta_x\\left(t, x, y, z\\right) \\frac{\\partial\\,\\beta_x}{\\partial t} - \\beta_x\\left(t, x, y, z\\right) \\frac{\\partial\\,\\mu}{\\partial x} - {\\left(2 \\, {\\left(A\\left(t, x, y, z\\right) + 2 \\, D\\left(t, x, y, z\\right) + p\\left(t, x, y, z\\right)\\right)} \\beta_x\\left(t, x, y, z\\right)^{4} - {\\left(A\\left(t, x, y, z\\right) + D\\left(t, x, y, z\\right) - 2 \\, \\mu\\left(t, x, y, z\\right) - 2 \\, p\\left(t, x, y, z\\right)\\right)} \\beta_x\\left(t, x, y, z\\right)^{2}\\right)} \\frac{\\partial\\,\\beta_x}{\\partial x} - \\frac{\\partial\\,\\mu}{\\partial t} \\\\ X_{ \\phantom{\\, t} \\, x }^{ \\, t \\phantom{\\, x} } & = & \\beta_x\\left(t, x, y, z\\right)^{2} \\frac{\\partial\\,A}{\\partial x} + \\beta_x\\left(t, x, y, z\\right)^{2} \\frac{\\partial\\,D}{\\partial x} + \\beta_x\\left(t, x, y, z\\right) \\frac{\\partial\\,A}{\\partial t} + \\beta_x\\left(t, x, y, z\\right) \\frac{\\partial\\,D}{\\partial t} + {\\left(A\\left(t, x, y, z\\right) + D\\left(t, x, y, z\\right)\\right)} \\frac{\\partial\\,\\beta_x}{\\partial t} - {\\left(2 \\, {\\left(A\\left(t, x, y, z\\right) + 2 \\, D\\left(t, x, y, z\\right) + p\\left(t, x, y, z\\right)\\right)} \\beta_x\\left(t, x, y, z\\right)^{3} + {\\left(A\\left(t, x, y, z\\right) - D\\left(t, x, y, z\\right) + 2 \\, \\mu\\left(t, x, y, z\\right)\\right)} \\beta_x\\left(t, x, y, z\\right)\\right)} \\frac{\\partial\\,\\beta_x}{\\partial x} \\\\ X_{ \\phantom{\\, t} \\, y }^{ \\, t \\phantom{\\, y} } & = & -\\frac{1}{2} \\, {\\left(2 \\, {\\left(A\\left(t, x, y, z\\right) + 2 \\, D\\left(t, x, y, z\\right) + p\\left(t, x, y, z\\right)\\right)} \\beta_x\\left(t, x, y, z\\right)^{3} + {\\left(A\\left(t, x, y, z\\right) + 2 \\, B\\left(t, x, y, z\\right) + D\\left(t, x, y, z\\right) + 2 \\, \\mu\\left(t, x, y, z\\right)\\right)} \\beta_x\\left(t, x, y, z\\right)\\right)} \\frac{\\partial\\,\\beta_x}{\\partial y} \\\\ X_{ \\phantom{\\, t} \\, z }^{ \\, t \\phantom{\\, z} } & = & -\\frac{1}{2} \\, {\\left(2 \\, {\\left(A\\left(t, x, y, z\\right) + 2 \\, D\\left(t, x, y, z\\right) + p\\left(t, x, y, z\\right)\\right)} \\beta_x\\left(t, x, y, z\\right)^{3} + {\\left(A\\left(t, x, y, z\\right) + 2 \\, C\\left(t, x, y, z\\right) + D\\left(t, x, y, z\\right) + 2 \\, \\mu\\left(t, x, y, z\\right)\\right)} \\beta_x\\left(t, x, y, z\\right)\\right)} \\frac{\\partial\\,\\beta_x}{\\partial z} \\\\ X_{ \\phantom{\\, x} \\, t }^{ \\, x \\phantom{\\, t} } & = & \\beta_x\\left(t, x, y, z\\right)^{4} \\frac{\\partial\\,p}{\\partial x} + \\beta_x\\left(t, x, y, z\\right)^{3} \\frac{\\partial\\,p}{\\partial t} + \\beta_x\\left(t, x, y, z\\right)^{2} \\frac{\\partial\\,\\mu}{\\partial x} + {\\left(\\beta_x\\left(t, x, y, z\\right)^{3} - \\beta_x\\left(t, x, y, z\\right)\\right)} \\frac{\\partial\\,D}{\\partial t} + {\\left(\\beta_x\\left(t, x, y, z\\right)^{4} - \\beta_x\\left(t, x, y, z\\right)^{2}\\right)} \\frac{\\partial\\,D}{\\partial x} + \\beta_x\\left(t, x, y, z\\right) \\frac{\\partial\\,\\mu}{\\partial t} + {\\left({\\left(A\\left(t, x, y, z\\right) + 3 \\, D\\left(t, x, y, z\\right) + 2 \\, p\\left(t, x, y, z\\right)\\right)} \\beta_x\\left(t, x, y, z\\right)^{2} - A\\left(t, x, y, z\\right) - D\\left(t, x, y, z\\right)\\right)} \\frac{\\partial\\,\\beta_x}{\\partial t} + {\\left(2 \\, {\\left(A\\left(t, x, y, z\\right) + 2 \\, D\\left(t, x, y, z\\right) + p\\left(t, x, y, z\\right)\\right)} \\beta_x\\left(t, x, y, z\\right)^{5} - {\\left(3 \\, A\\left(t, x, y, z\\right) + D\\left(t, x, y, z\\right) - 2 \\, \\mu\\left(t, x, y, z\\right) - 4 \\, p\\left(t, x, y, z\\right)\\right)} \\beta_x\\left(t, x, y, z\\right)^{3} + {\\left(A\\left(t, x, y, z\\right) - D\\left(t, x, y, z\\right) + 2 \\, \\mu\\left(t, x, y, z\\right)\\right)} \\beta_x\\left(t, x, y, z\\right)\\right)} \\frac{\\partial\\,\\beta_x}{\\partial x} \\\\ X_{ \\phantom{\\, x} \\, x }^{ \\, x \\phantom{\\, x} } & = & -\\beta_x\\left(t, x, y, z\\right)^{3} \\frac{\\partial\\,D}{\\partial x} - \\beta_x\\left(t, x, y, z\\right)^{2} \\frac{\\partial\\,D}{\\partial t} - {\\left(A\\left(t, x, y, z\\right) + D\\left(t, x, y, z\\right)\\right)} \\beta_x\\left(t, x, y, z\\right) \\frac{\\partial\\,\\beta_x}{\\partial t} - {\\left(\\beta_x\\left(t, x, y, z\\right)^{2} - 1\\right)} \\frac{\\partial\\,A}{\\partial t} - {\\left(\\beta_x\\left(t, x, y, z\\right)^{3} - \\beta_x\\left(t, x, y, z\\right)\\right)} \\frac{\\partial\\,A}{\\partial x} + {\\left(2 \\, {\\left(A\\left(t, x, y, z\\right) + 2 \\, D\\left(t, x, y, z\\right) + p\\left(t, x, y, z\\right)\\right)} \\beta_x\\left(t, x, y, z\\right)^{4} - {\\left(3 \\, A\\left(t, x, y, z\\right) + 5 \\, D\\left(t, x, y, z\\right) - 2 \\, \\mu\\left(t, x, y, z\\right)\\right)} \\beta_x\\left(t, x, y, z\\right)^{2}\\right)} \\frac{\\partial\\,\\beta_x}{\\partial x} \\\\ X_{ \\phantom{\\, x} \\, y }^{ \\, x \\phantom{\\, y} } & = & \\frac{1}{2} \\, {\\left(2 \\, {\\left(A\\left(t, x, y, z\\right) + 2 \\, D\\left(t, x, y, z\\right) + p\\left(t, x, y, z\\right)\\right)} \\beta_x\\left(t, x, y, z\\right)^{4} - {\\left(A\\left(t, x, y, z\\right) - 2 \\, B\\left(t, x, y, z\\right) + D\\left(t, x, y, z\\right) - 2 \\, \\mu\\left(t, x, y, z\\right)\\right)} \\beta_x\\left(t, x, y, z\\right)^{2} - A\\left(t, x, y, z\\right) + B\\left(t, x, y, z\\right)\\right)} \\frac{\\partial\\,\\beta_x}{\\partial y} \\\\ X_{ \\phantom{\\, x} \\, z }^{ \\, x \\phantom{\\, z} } & = & \\frac{1}{2} \\, {\\left(2 \\, {\\left(A\\left(t, x, y, z\\right) + 2 \\, D\\left(t, x, y, z\\right) + p\\left(t, x, y, z\\right)\\right)} \\beta_x\\left(t, x, y, z\\right)^{4} - {\\left(A\\left(t, x, y, z\\right) - 2 \\, C\\left(t, x, y, z\\right) + D\\left(t, x, y, z\\right) - 2 \\, \\mu\\left(t, x, y, z\\right)\\right)} \\beta_x\\left(t, x, y, z\\right)^{2} - A\\left(t, x, y, z\\right) + C\\left(t, x, y, z\\right)\\right)} \\frac{\\partial\\,\\beta_x}{\\partial z} \\\\ X_{ \\phantom{\\, y} \\, t }^{ \\, y \\phantom{\\, t} } & = & \\frac{1}{2} \\, {\\left(2 \\, {\\left(D\\left(t, x, y, z\\right) + p\\left(t, x, y, z\\right)\\right)} \\beta_x\\left(t, x, y, z\\right)^{3} + {\\left(3 \\, B\\left(t, x, y, z\\right) + D\\left(t, x, y, z\\right) + 2 \\, \\mu\\left(t, x, y, z\\right)\\right)} \\beta_x\\left(t, x, y, z\\right)\\right)} \\frac{\\partial\\,\\beta_x}{\\partial y} \\\\ X_{ \\phantom{\\, y} \\, x }^{ \\, y \\phantom{\\, x} } & = & -\\frac{1}{2} \\, {\\left(2 \\, {\\left(A\\left(t, x, y, z\\right) + D\\left(t, x, y, z\\right)\\right)} \\beta_x\\left(t, x, y, z\\right)^{2} + A\\left(t, x, y, z\\right) - B\\left(t, x, y, z\\right)\\right)} \\frac{\\partial\\,\\beta_x}{\\partial y} \\\\ X_{ \\phantom{\\, y} \\, y }^{ \\, y \\phantom{\\, y} } & = & \\beta_x\\left(t, x, y, z\\right) \\frac{\\partial\\,B}{\\partial x} + \\frac{\\partial\\,B}{\\partial t} \\\\ X_{ \\phantom{\\, z} \\, t }^{ \\, z \\phantom{\\, t} } & = & \\frac{1}{2} \\, {\\left(2 \\, {\\left(D\\left(t, x, y, z\\right) + p\\left(t, x, y, z\\right)\\right)} \\beta_x\\left(t, x, y, z\\right)^{3} + {\\left(3 \\, C\\left(t, x, y, z\\right) + D\\left(t, x, y, z\\right) + 2 \\, \\mu\\left(t, x, y, z\\right)\\right)} \\beta_x\\left(t, x, y, z\\right)\\right)} \\frac{\\partial\\,\\beta_x}{\\partial z} \\\\ X_{ \\phantom{\\, z} \\, x }^{ \\, z \\phantom{\\, x} } & = & -\\frac{1}{2} \\, {\\left(2 \\, {\\left(A\\left(t, x, y, z\\right) + D\\left(t, x, y, z\\right)\\right)} \\beta_x\\left(t, x, y, z\\right)^{2} + A\\left(t, x, y, z\\right) - C\\left(t, x, y, z\\right)\\right)} \\frac{\\partial\\,\\beta_x}{\\partial z} \\\\ X_{ \\phantom{\\, z} \\, z }^{ \\, z \\phantom{\\, z} } & = & \\beta_x\\left(t, x, y, z\\right) \\frac{\\partial\\,C}{\\partial x} + \\frac{\\partial\\,C}{\\partial t} \\end{array}$$"
      ],
      "text/plain": [
       "X^t_t = -shiftx(t, x, y, z)^3*d(d)/dx - shiftx(t, x, y, z)^3*d(p)/dx - shiftx(t, x, y, z)^2*d(d)/dt - shiftx(t, x, y, z)^2*d(p)/dt - (a(t, x, y, z) + 3*d(t, x, y, z) + 2*p(t, x, y, z))*shiftx(t, x, y, z)*d(shiftx)/dt - shiftx(t, x, y, z)*d(mu)/dx - (2*(a(t, x, y, z) + 2*d(t, x, y, z) + p(t, x, y, z))*shiftx(t, x, y, z)^4 - (a(t, x, y, z) + d(t, x, y, z) - 2*mu(t, x, y, z) - 2*p(t, x, y, z))*shiftx(t, x, y, z)^2)*d(shiftx)/dx - d(mu)/dt \n",
       "X^t_x = shiftx(t, x, y, z)^2*d(a)/dx + shiftx(t, x, y, z)^2*d(d)/dx + shiftx(t, x, y, z)*d(a)/dt + shiftx(t, x, y, z)*d(d)/dt + (a(t, x, y, z) + d(t, x, y, z))*d(shiftx)/dt - (2*(a(t, x, y, z) + 2*d(t, x, y, z) + p(t, x, y, z))*shiftx(t, x, y, z)^3 + (a(t, x, y, z) - d(t, x, y, z) + 2*mu(t, x, y, z))*shiftx(t, x, y, z))*d(shiftx)/dx \n",
       "X^t_y = -1/2*(2*(a(t, x, y, z) + 2*d(t, x, y, z) + p(t, x, y, z))*shiftx(t, x, y, z)^3 + (a(t, x, y, z) + 2*b(t, x, y, z) + d(t, x, y, z) + 2*mu(t, x, y, z))*shiftx(t, x, y, z))*d(shiftx)/dy \n",
       "X^t_z = -1/2*(2*(a(t, x, y, z) + 2*d(t, x, y, z) + p(t, x, y, z))*shiftx(t, x, y, z)^3 + (a(t, x, y, z) + 2*c(t, x, y, z) + d(t, x, y, z) + 2*mu(t, x, y, z))*shiftx(t, x, y, z))*d(shiftx)/dz \n",
       "X^x_t = shiftx(t, x, y, z)^4*d(p)/dx + shiftx(t, x, y, z)^3*d(p)/dt + shiftx(t, x, y, z)^2*d(mu)/dx + (shiftx(t, x, y, z)^3 - shiftx(t, x, y, z))*d(d)/dt + (shiftx(t, x, y, z)^4 - shiftx(t, x, y, z)^2)*d(d)/dx + shiftx(t, x, y, z)*d(mu)/dt + ((a(t, x, y, z) + 3*d(t, x, y, z) + 2*p(t, x, y, z))*shiftx(t, x, y, z)^2 - a(t, x, y, z) - d(t, x, y, z))*d(shiftx)/dt + (2*(a(t, x, y, z) + 2*d(t, x, y, z) + p(t, x, y, z))*shiftx(t, x, y, z)^5 - (3*a(t, x, y, z) + d(t, x, y, z) - 2*mu(t, x, y, z) - 4*p(t, x, y, z))*shiftx(t, x, y, z)^3 + (a(t, x, y, z) - d(t, x, y, z) + 2*mu(t, x, y, z))*shiftx(t, x, y, z))*d(shiftx)/dx \n",
       "X^x_x = -shiftx(t, x, y, z)^3*d(d)/dx - shiftx(t, x, y, z)^2*d(d)/dt - (a(t, x, y, z) + d(t, x, y, z))*shiftx(t, x, y, z)*d(shiftx)/dt - (shiftx(t, x, y, z)^2 - 1)*d(a)/dt - (shiftx(t, x, y, z)^3 - shiftx(t, x, y, z))*d(a)/dx + (2*(a(t, x, y, z) + 2*d(t, x, y, z) + p(t, x, y, z))*shiftx(t, x, y, z)^4 - (3*a(t, x, y, z) + 5*d(t, x, y, z) - 2*mu(t, x, y, z))*shiftx(t, x, y, z)^2)*d(shiftx)/dx \n",
       "X^x_y = 1/2*(2*(a(t, x, y, z) + 2*d(t, x, y, z) + p(t, x, y, z))*shiftx(t, x, y, z)^4 - (a(t, x, y, z) - 2*b(t, x, y, z) + d(t, x, y, z) - 2*mu(t, x, y, z))*shiftx(t, x, y, z)^2 - a(t, x, y, z) + b(t, x, y, z))*d(shiftx)/dy \n",
       "X^x_z = 1/2*(2*(a(t, x, y, z) + 2*d(t, x, y, z) + p(t, x, y, z))*shiftx(t, x, y, z)^4 - (a(t, x, y, z) - 2*c(t, x, y, z) + d(t, x, y, z) - 2*mu(t, x, y, z))*shiftx(t, x, y, z)^2 - a(t, x, y, z) + c(t, x, y, z))*d(shiftx)/dz \n",
       "X^y_t = 1/2*(2*(d(t, x, y, z) + p(t, x, y, z))*shiftx(t, x, y, z)^3 + (3*b(t, x, y, z) + d(t, x, y, z) + 2*mu(t, x, y, z))*shiftx(t, x, y, z))*d(shiftx)/dy \n",
       "X^y_x = -1/2*(2*(a(t, x, y, z) + d(t, x, y, z))*shiftx(t, x, y, z)^2 + a(t, x, y, z) - b(t, x, y, z))*d(shiftx)/dy \n",
       "X^y_y = shiftx(t, x, y, z)*d(b)/dx + d(b)/dt \n",
       "X^z_t = 1/2*(2*(d(t, x, y, z) + p(t, x, y, z))*shiftx(t, x, y, z)^3 + (3*c(t, x, y, z) + d(t, x, y, z) + 2*mu(t, x, y, z))*shiftx(t, x, y, z))*d(shiftx)/dz \n",
       "X^z_x = -1/2*(2*(a(t, x, y, z) + d(t, x, y, z))*shiftx(t, x, y, z)^2 + a(t, x, y, z) - c(t, x, y, z))*d(shiftx)/dz \n",
       "X^z_z = shiftx(t, x, y, z)*d(c)/dx + d(c)/dt "
      ]
     },
     "execution_count": 23,
     "metadata": {},
     "output_type": "execute_result"
    }
   ],
   "source": [
    "nabla = g.connection()\n",
    "#\n",
    "EMT_up = EMT.up(g)\n",
    "#\n",
    "EMT_ud = EMT_up.contract(1,g,1)\n",
    "#\n",
    "covdiv_emt = nabla(EMT_ud)\n",
    "#\n",
    "covdiv_emt = covdiv_emt.contract(u)\n",
    "#\n",
    "#covdiv_emt = covdiv_emt.contract(1, g,1)\n",
    "#\n",
    "covdiv_emt.display_comp()"
   ]
  },
  {
   "cell_type": "code",
   "execution_count": 24,
   "metadata": {},
   "outputs": [
    {
     "data": {
      "text/html": [
       "<html><script type=\"math/tex; mode=display\">\\newcommand{\\Bold}[1]{\\mathbf{#1}}\\begin{array}{lcl} div_{ \\, t }^{ \\phantom{\\, t} } & = & \\beta_x\\left(t, x, y, z\\right)^{3} \\frac{\\partial\\,p}{\\partial x} - \\beta_x\\left(t, x, y, z\\right)^{2} \\frac{\\partial\\,D}{\\partial t} - \\beta_x\\left(t, x, y, z\\right)^{2} \\frac{\\partial\\,p}{\\partial t} - {\\left(A\\left(t, x, y, z\\right) + 3 \\, D\\left(t, x, y, z\\right) + 2 \\, p\\left(t, x, y, z\\right)\\right)} \\beta_x\\left(t, x, y, z\\right) \\frac{\\partial\\,\\beta_x}{\\partial t} + {\\left(\\beta_x\\left(t, x, y, z\\right)^{3} - \\beta_x\\left(t, x, y, z\\right)\\right)} \\frac{\\partial\\,D}{\\partial x} + \\beta_x\\left(t, x, y, z\\right) \\frac{\\partial\\,\\mu}{\\partial x} + {\\left(3 \\, {\\left(D\\left(t, x, y, z\\right) + p\\left(t, x, y, z\\right)\\right)} \\beta_x\\left(t, x, y, z\\right)^{2} - D\\left(t, x, y, z\\right) + \\mu\\left(t, x, y, z\\right)\\right)} \\frac{\\partial\\,\\beta_x}{\\partial x} - \\frac{\\partial\\,\\mu}{\\partial t} \\\\ div_{ \\, x }^{ \\phantom{\\, x} } & = & -\\beta_x\\left(t, x, y, z\\right)^{2} \\frac{\\partial\\,D}{\\partial x} - 3 \\, {\\left(A\\left(t, x, y, z\\right) + D\\left(t, x, y, z\\right)\\right)} \\beta_x\\left(t, x, y, z\\right) \\frac{\\partial\\,\\beta_x}{\\partial x} + \\beta_x\\left(t, x, y, z\\right) \\frac{\\partial\\,A}{\\partial t} - {\\left(\\beta_x\\left(t, x, y, z\\right)^{2} - 1\\right)} \\frac{\\partial\\,A}{\\partial x} + \\beta_x\\left(t, x, y, z\\right) \\frac{\\partial\\,D}{\\partial t} + {\\left(A\\left(t, x, y, z\\right) + D\\left(t, x, y, z\\right)\\right)} \\frac{\\partial\\,\\beta_x}{\\partial t} \\\\ div_{ \\, y }^{ \\phantom{\\, y} } & = & -{\\left(A\\left(t, x, y, z\\right) + D\\left(t, x, y, z\\right)\\right)} \\beta_x\\left(t, x, y, z\\right) \\frac{\\partial\\,\\beta_x}{\\partial y} + \\frac{\\partial\\,B}{\\partial y} \\\\ div_{ \\, z }^{ \\phantom{\\, z} } & = & -{\\left(A\\left(t, x, y, z\\right) + D\\left(t, x, y, z\\right)\\right)} \\beta_x\\left(t, x, y, z\\right) \\frac{\\partial\\,\\beta_x}{\\partial z} + \\frac{\\partial\\,C}{\\partial z} \\end{array}</script></html>"
      ],
      "text/latex": [
       "$$\\newcommand{\\Bold}[1]{\\mathbf{#1}}\\begin{array}{lcl} div_{ \\, t }^{ \\phantom{\\, t} } & = & \\beta_x\\left(t, x, y, z\\right)^{3} \\frac{\\partial\\,p}{\\partial x} - \\beta_x\\left(t, x, y, z\\right)^{2} \\frac{\\partial\\,D}{\\partial t} - \\beta_x\\left(t, x, y, z\\right)^{2} \\frac{\\partial\\,p}{\\partial t} - {\\left(A\\left(t, x, y, z\\right) + 3 \\, D\\left(t, x, y, z\\right) + 2 \\, p\\left(t, x, y, z\\right)\\right)} \\beta_x\\left(t, x, y, z\\right) \\frac{\\partial\\,\\beta_x}{\\partial t} + {\\left(\\beta_x\\left(t, x, y, z\\right)^{3} - \\beta_x\\left(t, x, y, z\\right)\\right)} \\frac{\\partial\\,D}{\\partial x} + \\beta_x\\left(t, x, y, z\\right) \\frac{\\partial\\,\\mu}{\\partial x} + {\\left(3 \\, {\\left(D\\left(t, x, y, z\\right) + p\\left(t, x, y, z\\right)\\right)} \\beta_x\\left(t, x, y, z\\right)^{2} - D\\left(t, x, y, z\\right) + \\mu\\left(t, x, y, z\\right)\\right)} \\frac{\\partial\\,\\beta_x}{\\partial x} - \\frac{\\partial\\,\\mu}{\\partial t} \\\\ div_{ \\, x }^{ \\phantom{\\, x} } & = & -\\beta_x\\left(t, x, y, z\\right)^{2} \\frac{\\partial\\,D}{\\partial x} - 3 \\, {\\left(A\\left(t, x, y, z\\right) + D\\left(t, x, y, z\\right)\\right)} \\beta_x\\left(t, x, y, z\\right) \\frac{\\partial\\,\\beta_x}{\\partial x} + \\beta_x\\left(t, x, y, z\\right) \\frac{\\partial\\,A}{\\partial t} - {\\left(\\beta_x\\left(t, x, y, z\\right)^{2} - 1\\right)} \\frac{\\partial\\,A}{\\partial x} + \\beta_x\\left(t, x, y, z\\right) \\frac{\\partial\\,D}{\\partial t} + {\\left(A\\left(t, x, y, z\\right) + D\\left(t, x, y, z\\right)\\right)} \\frac{\\partial\\,\\beta_x}{\\partial t} \\\\ div_{ \\, y }^{ \\phantom{\\, y} } & = & -{\\left(A\\left(t, x, y, z\\right) + D\\left(t, x, y, z\\right)\\right)} \\beta_x\\left(t, x, y, z\\right) \\frac{\\partial\\,\\beta_x}{\\partial y} + \\frac{\\partial\\,B}{\\partial y} \\\\ div_{ \\, z }^{ \\phantom{\\, z} } & = & -{\\left(A\\left(t, x, y, z\\right) + D\\left(t, x, y, z\\right)\\right)} \\beta_x\\left(t, x, y, z\\right) \\frac{\\partial\\,\\beta_x}{\\partial z} + \\frac{\\partial\\,C}{\\partial z} \\end{array}$$"
      ],
      "text/plain": [
       "div_t = shiftx(t, x, y, z)^3*d(p)/dx - shiftx(t, x, y, z)^2*d(d)/dt - shiftx(t, x, y, z)^2*d(p)/dt - (a(t, x, y, z) + 3*d(t, x, y, z) + 2*p(t, x, y, z))*shiftx(t, x, y, z)*d(shiftx)/dt + (shiftx(t, x, y, z)^3 - shiftx(t, x, y, z))*d(d)/dx + shiftx(t, x, y, z)*d(mu)/dx + (3*(d(t, x, y, z) + p(t, x, y, z))*shiftx(t, x, y, z)^2 - d(t, x, y, z) + mu(t, x, y, z))*d(shiftx)/dx - d(mu)/dt \n",
       "div_x = -shiftx(t, x, y, z)^2*d(d)/dx - 3*(a(t, x, y, z) + d(t, x, y, z))*shiftx(t, x, y, z)*d(shiftx)/dx + shiftx(t, x, y, z)*d(a)/dt - (shiftx(t, x, y, z)^2 - 1)*d(a)/dx + shiftx(t, x, y, z)*d(d)/dt + (a(t, x, y, z) + d(t, x, y, z))*d(shiftx)/dt \n",
       "div_y = -(a(t, x, y, z) + d(t, x, y, z))*shiftx(t, x, y, z)*d(shiftx)/dy + d(b)/dy \n",
       "div_z = -(a(t, x, y, z) + d(t, x, y, z))*shiftx(t, x, y, z)*d(shiftx)/dz + d(c)/dz "
      ]
     },
     "execution_count": 24,
     "metadata": {},
     "output_type": "execute_result"
    }
   ],
   "source": [
    "Semt = EMT.div()\n",
    "Semt.set_name('div')\n",
    "Semt.display_comp()"
   ]
  }
 ],
 "metadata": {
  "kernelspec": {
   "display_name": "SageMath 9.3",
   "language": "sage",
   "name": "sagemath"
  },
  "language_info": {
   "codemirror_mode": {
    "name": "ipython",
    "version": 3
   },
   "file_extension": ".py",
   "mimetype": "text/x-python",
   "name": "python",
   "nbconvert_exporter": "python",
   "pygments_lexer": "ipython3",
   "version": "3.7.10"
  }
 },
 "nbformat": 4,
 "nbformat_minor": 4
}
