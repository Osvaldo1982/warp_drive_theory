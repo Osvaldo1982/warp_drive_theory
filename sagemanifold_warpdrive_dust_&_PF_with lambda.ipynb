{
 "cells": [
  {
   "cell_type": "markdown",
   "metadata": {},
   "source": [
    "# Introduction"
   ]
  },
  {
   "cell_type": "code",
   "execution_count": 1,
   "metadata": {},
   "outputs": [],
   "source": [
    "%display latex\n",
    "\n",
    "# Defining a Lorentzian manifold\n",
    "M = Manifold(4, 'M', structure='Lorentzian')\n",
    "\n",
    "# Defining the chart\n",
    "X.<t,x,y,z> = M.chart(r\"t x:(-oo,+oo) y:(-oo,+oo) z:(-oo,+oo)\");\n",
    "\n",
    "shift = function('shift', latex_name = \"\\\\beta\", nargs=2)(t,x)\n",
    "alpha = function('alpha', latex_name = \"\\\\alpha\", nargs=2)(t,x)\n",
    "a = function('a',latex_name= \"A\")(t,x,y,z)\n",
    "b = function('b',latex_name= \"B\")(t,x,y,z)\n",
    "c = function('c',latex_name= \"C\")(t,x,y,z)\n",
    "d = function('d',latex_name= \"D\")(t,x,y,z)\n",
    "p = function('p',latex_name= \"p\")(t,x,y,z)\n",
    "\n",
    "mu = function('mu',latex_name= \"\\\\mu\")(t,x,y,z)\n",
    "rho = function('rho',latex_name=\"\\\\rho\")(t,x,y,z)\n",
    "\n",
    "sigma = var('sigma',latex_name=\"\\\\sigma\")\n",
    "R = var('R',latex_name=\"R\")\n",
    "\n",
    "xs = function('xs',latex_name=\"x_s\")(t)\n",
    "rs = function('rs',latex_name=\"r_s\")(xs,x,y,z)\n",
    "rs = sqrt((x-xs)^2+y^2+z^2)\n",
    "vs = function('vs',latex_name=\"v_s\")(t)\n",
    "\n",
    "fs = function('fs',latex_name=\"f(r_s)\")(rs)\n",
    "fs = (tanh(sigma(rs+R)) - tanh(sigma(rs-R)))/(2*sigma)\n",
    "\n",
    "cosmo = var('cosmo',latex_name=\"\\\\Lambda\")"
   ]
  },
  {
   "cell_type": "markdown",
   "metadata": {},
   "source": [
    "# Alcubierre warp drive metric\n",
    "\n",
    "\n",
    "\\begin{equation*}\n",
    "g_{\\alpha \\sigma} = \n",
    "\\begin{pmatrix}\n",
    "g_{00} & g_{01} & g_{02} & g_{03} \\\\\n",
    "g_{10} & g_{11} & g_{12} & g_{13} \\\\\n",
    "g_{20} & g_{21} & g_{22} & g_{23}  \\\\\n",
    "g_{30} & g_{31} & g_{32} & g_{33} \n",
    "\\end{pmatrix} =\n",
    "\\begin{pmatrix}\n",
    "\\beta^2-1 & -\\beta & 0 & 0 \\\\\n",
    "-\\beta    & 1      & 0 & 0 \\\\\n",
    "0         & 0      & 1 & 0  \\\\\n",
    "0         & 0      & 0 & 1 \n",
    "\\end{pmatrix}\n",
    "\\end{equation*}"
   ]
  },
  {
   "cell_type": "code",
   "execution_count": 2,
   "metadata": {},
   "outputs": [
    {
     "name": "stdout",
     "output_type": "stream",
     "text": [
      "Lorentzian metric g on the 4-dimensional Lorentzian manifold M\n",
      "(0, 2)\n"
     ]
    },
    {
     "data": {
      "text/html": [
       "<html><script type=\"math/tex; mode=display\">\\newcommand{\\Bold}[1]{\\mathbf{#1}}\\begin{array}{lcl} g_{ \\, t \\, t }^{ \\phantom{\\, t}\\phantom{\\, t} } & = & -\\alpha\\left(t, x\\right)^{2} + \\beta\\left(t, x\\right)^{2} \\\\ g_{ \\, t \\, x }^{ \\phantom{\\, t}\\phantom{\\, x} } & = & -\\beta\\left(t, x\\right) \\\\ g_{ \\, x \\, t }^{ \\phantom{\\, x}\\phantom{\\, t} } & = & -\\beta\\left(t, x\\right) \\\\ g_{ \\, x \\, x }^{ \\phantom{\\, x}\\phantom{\\, x} } & = & 1 \\\\ g_{ \\, y \\, y }^{ \\phantom{\\, y}\\phantom{\\, y} } & = & 1 \\\\ g_{ \\, z \\, z }^{ \\phantom{\\, z}\\phantom{\\, z} } & = & 1 \\end{array}</script></html>"
      ],
      "text/latex": [
       "$$\\newcommand{\\Bold}[1]{\\mathbf{#1}}\\begin{array}{lcl} g_{ \\, t \\, t }^{ \\phantom{\\, t}\\phantom{\\, t} } & = & -\\alpha\\left(t, x\\right)^{2} + \\beta\\left(t, x\\right)^{2} \\\\ g_{ \\, t \\, x }^{ \\phantom{\\, t}\\phantom{\\, x} } & = & -\\beta\\left(t, x\\right) \\\\ g_{ \\, x \\, t }^{ \\phantom{\\, x}\\phantom{\\, t} } & = & -\\beta\\left(t, x\\right) \\\\ g_{ \\, x \\, x }^{ \\phantom{\\, x}\\phantom{\\, x} } & = & 1 \\\\ g_{ \\, y \\, y }^{ \\phantom{\\, y}\\phantom{\\, y} } & = & 1 \\\\ g_{ \\, z \\, z }^{ \\phantom{\\, z}\\phantom{\\, z} } & = & 1 \\end{array}$$"
      ],
      "text/plain": [
       "g_tt = -alpha(t, x)^2 + shift(t, x)^2 \n",
       "g_tx = -shift(t, x) \n",
       "g_xt = -shift(t, x) \n",
       "g_xx = 1 \n",
       "g_yy = 1 \n",
       "g_zz = 1 "
      ]
     },
     "execution_count": 2,
     "metadata": {},
     "output_type": "execute_result"
    }
   ],
   "source": [
    "g = M.metric()\n",
    "g.set_name('g')\n",
    "# g = M.tensor_field(2,0, name='T');\n",
    "g[0,0] = shift**2 - alpha**2\n",
    "g[1,1] = 1\n",
    "g[2,2] = 1\n",
    "g[3,3] = 1\n",
    "g[0,1] = - shift\n",
    "g[1,0] = - shift\n",
    "print(g)\n",
    "print(g.tensor_type())\n",
    "g.display_comp()"
   ]
  },
  {
   "cell_type": "markdown",
   "metadata": {},
   "source": [
    "## 1.3. Defining the inverse metric"
   ]
  },
  {
   "cell_type": "code",
   "execution_count": 3,
   "metadata": {},
   "outputs": [
    {
     "name": "stdout",
     "output_type": "stream",
     "text": [
      "Tensor field g of type (2,0) on the 4-dimensional Lorentzian manifold M\n"
     ]
    },
    {
     "data": {
      "text/html": [
       "<html><script type=\"math/tex; mode=display\">\\newcommand{\\Bold}[1]{\\mathbf{#1}}\\begin{array}{lcl} g_{\\phantom{\\, t}\\phantom{\\, t}}^{ \\, t \\, t } & = & -\\frac{1}{\\alpha\\left(t, x\\right)^{2}} \\\\ g_{\\phantom{\\, t}\\phantom{\\, x}}^{ \\, t \\, x } & = & -\\frac{\\beta\\left(t, x\\right)}{\\alpha\\left(t, x\\right)^{2}} \\\\ g_{\\phantom{\\, x}\\phantom{\\, t}}^{ \\, x \\, t } & = & -\\frac{\\beta\\left(t, x\\right)}{\\alpha\\left(t, x\\right)^{2}} \\\\ g_{\\phantom{\\, x}\\phantom{\\, x}}^{ \\, x \\, x } & = & \\frac{\\alpha\\left(t, x\\right)^{2} - \\beta\\left(t, x\\right)^{2}}{\\alpha\\left(t, x\\right)^{2}} \\\\ g_{\\phantom{\\, y}\\phantom{\\, y}}^{ \\, y \\, y } & = & 1 \\\\ g_{\\phantom{\\, z}\\phantom{\\, z}}^{ \\, z \\, z } & = & 1 \\end{array}</script></html>"
      ],
      "text/latex": [
       "$$\\newcommand{\\Bold}[1]{\\mathbf{#1}}\\begin{array}{lcl} g_{\\phantom{\\, t}\\phantom{\\, t}}^{ \\, t \\, t } & = & -\\frac{1}{\\alpha\\left(t, x\\right)^{2}} \\\\ g_{\\phantom{\\, t}\\phantom{\\, x}}^{ \\, t \\, x } & = & -\\frac{\\beta\\left(t, x\\right)}{\\alpha\\left(t, x\\right)^{2}} \\\\ g_{\\phantom{\\, x}\\phantom{\\, t}}^{ \\, x \\, t } & = & -\\frac{\\beta\\left(t, x\\right)}{\\alpha\\left(t, x\\right)^{2}} \\\\ g_{\\phantom{\\, x}\\phantom{\\, x}}^{ \\, x \\, x } & = & \\frac{\\alpha\\left(t, x\\right)^{2} - \\beta\\left(t, x\\right)^{2}}{\\alpha\\left(t, x\\right)^{2}} \\\\ g_{\\phantom{\\, y}\\phantom{\\, y}}^{ \\, y \\, y } & = & 1 \\\\ g_{\\phantom{\\, z}\\phantom{\\, z}}^{ \\, z \\, z } & = & 1 \\end{array}$$"
      ],
      "text/plain": [
       "g^tt = -1/alpha(t, x)^2 \n",
       "g^tx = -shift(t, x)/alpha(t, x)^2 \n",
       "g^xt = -shift(t, x)/alpha(t, x)^2 \n",
       "g^xx = (alpha(t, x)^2 - shift(t, x)^2)/alpha(t, x)^2 \n",
       "g^yy = 1 \n",
       "g^zz = 1 "
      ]
     },
     "execution_count": 3,
     "metadata": {},
     "output_type": "execute_result"
    }
   ],
   "source": [
    "gg = g.up(g)\n",
    "gg.set_name('g')\n",
    "print(gg)\n",
    "gg.display_comp()"
   ]
  },
  {
   "cell_type": "markdown",
   "metadata": {},
   "source": [
    "# 2. Einstein equation solution\n",
    "\n",
    "## 2.1 Christoffel Symbols"
   ]
  },
  {
   "cell_type": "code",
   "execution_count": 4,
   "metadata": {},
   "outputs": [
    {
     "data": {
      "text/html": [
       "<html><script type=\"math/tex; mode=display\">\\newcommand{\\Bold}[1]{\\mathbf{#1}}\\begin{array}{lcl} \\Gamma_{ \\phantom{\\, t} \\, t \\, t }^{ \\, t \\phantom{\\, t} \\phantom{\\, t} } & = & -\\frac{\\alpha\\left(t, x\\right) \\beta\\left(t, x\\right) \\frac{\\partial\\,\\alpha}{\\partial x} - \\beta\\left(t, x\\right)^{2} \\frac{\\partial\\,\\beta}{\\partial x} - \\alpha\\left(t, x\\right) \\frac{\\partial\\,\\alpha}{\\partial t}}{\\alpha\\left(t, x\\right)^{2}} \\\\ \\Gamma_{ \\phantom{\\, t} \\, t \\, x }^{ \\, t \\phantom{\\, t} \\phantom{\\, x} } & = & \\frac{\\alpha\\left(t, x\\right) \\frac{\\partial\\,\\alpha}{\\partial x} - \\beta\\left(t, x\\right) \\frac{\\partial\\,\\beta}{\\partial x}}{\\alpha\\left(t, x\\right)^{2}} \\\\ \\Gamma_{ \\phantom{\\, t} \\, x \\, x }^{ \\, t \\phantom{\\, x} \\phantom{\\, x} } & = & \\frac{\\frac{\\partial\\,\\beta}{\\partial x}}{\\alpha\\left(t, x\\right)^{2}} \\\\ \\Gamma_{ \\phantom{\\, x} \\, t \\, t }^{ \\, x \\phantom{\\, t} \\phantom{\\, t} } & = & \\frac{\\alpha\\left(t, x\\right) \\beta\\left(t, x\\right) \\frac{\\partial\\,\\alpha}{\\partial t} - \\alpha\\left(t, x\\right)^{2} \\frac{\\partial\\,\\beta}{\\partial t} + {\\left(\\alpha\\left(t, x\\right)^{3} - \\alpha\\left(t, x\\right) \\beta\\left(t, x\\right)^{2}\\right)} \\frac{\\partial\\,\\alpha}{\\partial x} - {\\left(\\alpha\\left(t, x\\right)^{2} \\beta\\left(t, x\\right) - \\beta\\left(t, x\\right)^{3}\\right)} \\frac{\\partial\\,\\beta}{\\partial x}}{\\alpha\\left(t, x\\right)^{2}} \\\\ \\Gamma_{ \\phantom{\\, x} \\, t \\, x }^{ \\, x \\phantom{\\, t} \\phantom{\\, x} } & = & \\frac{\\alpha\\left(t, x\\right) \\beta\\left(t, x\\right) \\frac{\\partial\\,\\alpha}{\\partial x} - \\beta\\left(t, x\\right)^{2} \\frac{\\partial\\,\\beta}{\\partial x}}{\\alpha\\left(t, x\\right)^{2}} \\\\ \\Gamma_{ \\phantom{\\, x} \\, x \\, x }^{ \\, x \\phantom{\\, x} \\phantom{\\, x} } & = & \\frac{\\beta\\left(t, x\\right) \\frac{\\partial\\,\\beta}{\\partial x}}{\\alpha\\left(t, x\\right)^{2}} \\end{array}</script></html>"
      ],
      "text/latex": [
       "$$\\newcommand{\\Bold}[1]{\\mathbf{#1}}\\begin{array}{lcl} \\Gamma_{ \\phantom{\\, t} \\, t \\, t }^{ \\, t \\phantom{\\, t} \\phantom{\\, t} } & = & -\\frac{\\alpha\\left(t, x\\right) \\beta\\left(t, x\\right) \\frac{\\partial\\,\\alpha}{\\partial x} - \\beta\\left(t, x\\right)^{2} \\frac{\\partial\\,\\beta}{\\partial x} - \\alpha\\left(t, x\\right) \\frac{\\partial\\,\\alpha}{\\partial t}}{\\alpha\\left(t, x\\right)^{2}} \\\\ \\Gamma_{ \\phantom{\\, t} \\, t \\, x }^{ \\, t \\phantom{\\, t} \\phantom{\\, x} } & = & \\frac{\\alpha\\left(t, x\\right) \\frac{\\partial\\,\\alpha}{\\partial x} - \\beta\\left(t, x\\right) \\frac{\\partial\\,\\beta}{\\partial x}}{\\alpha\\left(t, x\\right)^{2}} \\\\ \\Gamma_{ \\phantom{\\, t} \\, x \\, x }^{ \\, t \\phantom{\\, x} \\phantom{\\, x} } & = & \\frac{\\frac{\\partial\\,\\beta}{\\partial x}}{\\alpha\\left(t, x\\right)^{2}} \\\\ \\Gamma_{ \\phantom{\\, x} \\, t \\, t }^{ \\, x \\phantom{\\, t} \\phantom{\\, t} } & = & \\frac{\\alpha\\left(t, x\\right) \\beta\\left(t, x\\right) \\frac{\\partial\\,\\alpha}{\\partial t} - \\alpha\\left(t, x\\right)^{2} \\frac{\\partial\\,\\beta}{\\partial t} + {\\left(\\alpha\\left(t, x\\right)^{3} - \\alpha\\left(t, x\\right) \\beta\\left(t, x\\right)^{2}\\right)} \\frac{\\partial\\,\\alpha}{\\partial x} - {\\left(\\alpha\\left(t, x\\right)^{2} \\beta\\left(t, x\\right) - \\beta\\left(t, x\\right)^{3}\\right)} \\frac{\\partial\\,\\beta}{\\partial x}}{\\alpha\\left(t, x\\right)^{2}} \\\\ \\Gamma_{ \\phantom{\\, x} \\, t \\, x }^{ \\, x \\phantom{\\, t} \\phantom{\\, x} } & = & \\frac{\\alpha\\left(t, x\\right) \\beta\\left(t, x\\right) \\frac{\\partial\\,\\alpha}{\\partial x} - \\beta\\left(t, x\\right)^{2} \\frac{\\partial\\,\\beta}{\\partial x}}{\\alpha\\left(t, x\\right)^{2}} \\\\ \\Gamma_{ \\phantom{\\, x} \\, x \\, x }^{ \\, x \\phantom{\\, x} \\phantom{\\, x} } & = & \\frac{\\beta\\left(t, x\\right) \\frac{\\partial\\,\\beta}{\\partial x}}{\\alpha\\left(t, x\\right)^{2}} \\end{array}$$"
      ],
      "text/plain": [
       "Gam^t_tt = -(alpha(t, x)*shift(t, x)*d(alpha)/dx - shift(t, x)^2*d(shift)/dx - alpha(t, x)*d(alpha)/dt)/alpha(t, x)^2 \n",
       "Gam^t_tx = (alpha(t, x)*d(alpha)/dx - shift(t, x)*d(shift)/dx)/alpha(t, x)^2 \n",
       "Gam^t_xx = d(shift)/dx/alpha(t, x)^2 \n",
       "Gam^x_tt = (alpha(t, x)*shift(t, x)*d(alpha)/dt - alpha(t, x)^2*d(shift)/dt + (alpha(t, x)^3 - alpha(t, x)*shift(t, x)^2)*d(alpha)/dx - (alpha(t, x)^2*shift(t, x) - shift(t, x)^3)*d(shift)/dx)/alpha(t, x)^2 \n",
       "Gam^x_tx = (alpha(t, x)*shift(t, x)*d(alpha)/dx - shift(t, x)^2*d(shift)/dx)/alpha(t, x)^2 \n",
       "Gam^x_xx = shift(t, x)*d(shift)/dx/alpha(t, x)^2 "
      ]
     },
     "execution_count": 4,
     "metadata": {},
     "output_type": "execute_result"
    }
   ],
   "source": [
    "g.christoffel_symbols_display()"
   ]
  },
  {
   "cell_type": "markdown",
   "metadata": {},
   "source": [
    "## 2.2. Ricci tensor"
   ]
  },
  {
   "cell_type": "code",
   "execution_count": 5,
   "metadata": {},
   "outputs": [
    {
     "data": {
      "text/html": [
       "<html><script type=\"math/tex; mode=display\">\\newcommand{\\Bold}[1]{\\mathbf{#1}}\\begin{array}{lcl} \\mathrm{Ric}\\left(g\\right)_{ \\, t \\, t }^{ \\phantom{\\, t}\\phantom{\\, t} } & = & -\\frac{{\\left(\\alpha\\left(t, x\\right)^{3} - \\alpha\\left(t, x\\right) \\beta\\left(t, x\\right)^{2}\\right)} \\left(\\frac{\\partial\\,\\beta}{\\partial x}\\right)^{2} - {\\left(\\alpha\\left(t, x\\right)^{4} - \\alpha\\left(t, x\\right)^{2} \\beta\\left(t, x\\right)^{2}\\right)} \\frac{\\partial^2\\,\\alpha}{\\partial x ^ 2} + {\\left(\\alpha\\left(t, x\\right)^{3} - \\alpha\\left(t, x\\right) \\beta\\left(t, x\\right)^{2}\\right)} \\frac{\\partial^2\\,\\beta}{\\partial t\\partial x} - {\\left({\\left(\\alpha\\left(t, x\\right)^{2} - \\beta\\left(t, x\\right)^{2}\\right)} \\frac{\\partial\\,\\alpha}{\\partial t} + {\\left(\\alpha\\left(t, x\\right)^{2} \\beta\\left(t, x\\right) - \\beta\\left(t, x\\right)^{3}\\right)} \\frac{\\partial\\,\\alpha}{\\partial x}\\right)} \\frac{\\partial\\,\\beta}{\\partial x} + {\\left(\\alpha\\left(t, x\\right)^{3} \\beta\\left(t, x\\right) - \\alpha\\left(t, x\\right) \\beta\\left(t, x\\right)^{3}\\right)} \\frac{\\partial^2\\,\\beta}{\\partial x ^ 2}}{\\alpha\\left(t, x\\right)^{3}} \\\\ \\mathrm{Ric}\\left(g\\right)_{ \\, t \\, x }^{ \\phantom{\\, t}\\phantom{\\, x} } & = & \\frac{\\alpha\\left(t, x\\right)^{2} \\beta\\left(t, x\\right) \\frac{\\partial^2\\,\\alpha}{\\partial x ^ 2} - \\alpha\\left(t, x\\right) \\beta\\left(t, x\\right) \\left(\\frac{\\partial\\,\\beta}{\\partial x}\\right)^{2} - \\alpha\\left(t, x\\right) \\beta\\left(t, x\\right)^{2} \\frac{\\partial^2\\,\\beta}{\\partial x ^ 2} - \\alpha\\left(t, x\\right) \\beta\\left(t, x\\right) \\frac{\\partial^2\\,\\beta}{\\partial t\\partial x} + {\\left(\\beta\\left(t, x\\right)^{2} \\frac{\\partial\\,\\alpha}{\\partial x} + \\beta\\left(t, x\\right) \\frac{\\partial\\,\\alpha}{\\partial t}\\right)} \\frac{\\partial\\,\\beta}{\\partial x}}{\\alpha\\left(t, x\\right)^{3}} \\\\ \\mathrm{Ric}\\left(g\\right)_{ \\, x \\, x }^{ \\phantom{\\, x}\\phantom{\\, x} } & = & -\\frac{\\alpha\\left(t, x\\right)^{2} \\frac{\\partial^2\\,\\alpha}{\\partial x ^ 2} - \\alpha\\left(t, x\\right) \\left(\\frac{\\partial\\,\\beta}{\\partial x}\\right)^{2} - \\alpha\\left(t, x\\right) \\beta\\left(t, x\\right) \\frac{\\partial^2\\,\\beta}{\\partial x ^ 2} - \\alpha\\left(t, x\\right) \\frac{\\partial^2\\,\\beta}{\\partial t\\partial x} + {\\left(\\beta\\left(t, x\\right) \\frac{\\partial\\,\\alpha}{\\partial x} + \\frac{\\partial\\,\\alpha}{\\partial t}\\right)} \\frac{\\partial\\,\\beta}{\\partial x}}{\\alpha\\left(t, x\\right)^{3}} \\end{array}</script></html>"
      ],
      "text/latex": [
       "$$\\newcommand{\\Bold}[1]{\\mathbf{#1}}\\begin{array}{lcl} \\mathrm{Ric}\\left(g\\right)_{ \\, t \\, t }^{ \\phantom{\\, t}\\phantom{\\, t} } & = & -\\frac{{\\left(\\alpha\\left(t, x\\right)^{3} - \\alpha\\left(t, x\\right) \\beta\\left(t, x\\right)^{2}\\right)} \\left(\\frac{\\partial\\,\\beta}{\\partial x}\\right)^{2} - {\\left(\\alpha\\left(t, x\\right)^{4} - \\alpha\\left(t, x\\right)^{2} \\beta\\left(t, x\\right)^{2}\\right)} \\frac{\\partial^2\\,\\alpha}{\\partial x ^ 2} + {\\left(\\alpha\\left(t, x\\right)^{3} - \\alpha\\left(t, x\\right) \\beta\\left(t, x\\right)^{2}\\right)} \\frac{\\partial^2\\,\\beta}{\\partial t\\partial x} - {\\left({\\left(\\alpha\\left(t, x\\right)^{2} - \\beta\\left(t, x\\right)^{2}\\right)} \\frac{\\partial\\,\\alpha}{\\partial t} + {\\left(\\alpha\\left(t, x\\right)^{2} \\beta\\left(t, x\\right) - \\beta\\left(t, x\\right)^{3}\\right)} \\frac{\\partial\\,\\alpha}{\\partial x}\\right)} \\frac{\\partial\\,\\beta}{\\partial x} + {\\left(\\alpha\\left(t, x\\right)^{3} \\beta\\left(t, x\\right) - \\alpha\\left(t, x\\right) \\beta\\left(t, x\\right)^{3}\\right)} \\frac{\\partial^2\\,\\beta}{\\partial x ^ 2}}{\\alpha\\left(t, x\\right)^{3}} \\\\ \\mathrm{Ric}\\left(g\\right)_{ \\, t \\, x }^{ \\phantom{\\, t}\\phantom{\\, x} } & = & \\frac{\\alpha\\left(t, x\\right)^{2} \\beta\\left(t, x\\right) \\frac{\\partial^2\\,\\alpha}{\\partial x ^ 2} - \\alpha\\left(t, x\\right) \\beta\\left(t, x\\right) \\left(\\frac{\\partial\\,\\beta}{\\partial x}\\right)^{2} - \\alpha\\left(t, x\\right) \\beta\\left(t, x\\right)^{2} \\frac{\\partial^2\\,\\beta}{\\partial x ^ 2} - \\alpha\\left(t, x\\right) \\beta\\left(t, x\\right) \\frac{\\partial^2\\,\\beta}{\\partial t\\partial x} + {\\left(\\beta\\left(t, x\\right)^{2} \\frac{\\partial\\,\\alpha}{\\partial x} + \\beta\\left(t, x\\right) \\frac{\\partial\\,\\alpha}{\\partial t}\\right)} \\frac{\\partial\\,\\beta}{\\partial x}}{\\alpha\\left(t, x\\right)^{3}} \\\\ \\mathrm{Ric}\\left(g\\right)_{ \\, x \\, x }^{ \\phantom{\\, x}\\phantom{\\, x} } & = & -\\frac{\\alpha\\left(t, x\\right)^{2} \\frac{\\partial^2\\,\\alpha}{\\partial x ^ 2} - \\alpha\\left(t, x\\right) \\left(\\frac{\\partial\\,\\beta}{\\partial x}\\right)^{2} - \\alpha\\left(t, x\\right) \\beta\\left(t, x\\right) \\frac{\\partial^2\\,\\beta}{\\partial x ^ 2} - \\alpha\\left(t, x\\right) \\frac{\\partial^2\\,\\beta}{\\partial t\\partial x} + {\\left(\\beta\\left(t, x\\right) \\frac{\\partial\\,\\alpha}{\\partial x} + \\frac{\\partial\\,\\alpha}{\\partial t}\\right)} \\frac{\\partial\\,\\beta}{\\partial x}}{\\alpha\\left(t, x\\right)^{3}} \\end{array}$$"
      ],
      "text/plain": [
       "Ric(g)_tt = -((alpha(t, x)^3 - alpha(t, x)*shift(t, x)^2)*(d(shift)/dx)^2 - (alpha(t, x)^4 - alpha(t, x)^2*shift(t, x)^2)*d^2(alpha)/dx^2 + (alpha(t, x)^3 - alpha(t, x)*shift(t, x)^2)*d^2(shift)/dtdx - ((alpha(t, x)^2 - shift(t, x)^2)*d(alpha)/dt + (alpha(t, x)^2*shift(t, x) - shift(t, x)^3)*d(alpha)/dx)*d(shift)/dx + (alpha(t, x)^3*shift(t, x) - alpha(t, x)*shift(t, x)^3)*d^2(shift)/dx^2)/alpha(t, x)^3 \n",
       "Ric(g)_tx = (alpha(t, x)^2*shift(t, x)*d^2(alpha)/dx^2 - alpha(t, x)*shift(t, x)*(d(shift)/dx)^2 - alpha(t, x)*shift(t, x)^2*d^2(shift)/dx^2 - alpha(t, x)*shift(t, x)*d^2(shift)/dtdx + (shift(t, x)^2*d(alpha)/dx + shift(t, x)*d(alpha)/dt)*d(shift)/dx)/alpha(t, x)^3 \n",
       "Ric(g)_xx = -(alpha(t, x)^2*d^2(alpha)/dx^2 - alpha(t, x)*(d(shift)/dx)^2 - alpha(t, x)*shift(t, x)*d^2(shift)/dx^2 - alpha(t, x)*d^2(shift)/dtdx + (shift(t, x)*d(alpha)/dx + d(alpha)/dt)*d(shift)/dx)/alpha(t, x)^3 "
      ]
     },
     "execution_count": 5,
     "metadata": {},
     "output_type": "execute_result"
    }
   ],
   "source": [
    "Ric = g.ricci()\n",
    "Ric.display_comp(only_nonredundant=True)"
   ]
  },
  {
   "cell_type": "markdown",
   "metadata": {},
   "source": [
    "## 2.3. Ricci Scalar"
   ]
  },
  {
   "cell_type": "code",
   "execution_count": 6,
   "metadata": {},
   "outputs": [
    {
     "data": {
      "text/html": [
       "<html><script type=\"math/tex; mode=display\">\\newcommand{\\Bold}[1]{\\mathbf{#1}}\\begin{array}{llcl} \\mathrm{r}\\left(g\\right):& M & \\longrightarrow & \\mathbb{R} \\\\ & \\left(t, x, y, z\\right) & \\longmapsto & -\\frac{2 \\, {\\left(\\alpha\\left(t, x\\right)^{2} \\frac{\\partial^2\\,\\alpha}{\\partial x ^ 2} - \\alpha\\left(t, x\\right) \\left(\\frac{\\partial\\,\\beta}{\\partial x}\\right)^{2} - \\alpha\\left(t, x\\right) \\beta\\left(t, x\\right) \\frac{\\partial^2\\,\\beta}{\\partial x ^ 2} - \\alpha\\left(t, x\\right) \\frac{\\partial^2\\,\\beta}{\\partial t\\partial x} + {\\left(\\beta\\left(t, x\\right) \\frac{\\partial\\,\\alpha}{\\partial x} + \\frac{\\partial\\,\\alpha}{\\partial t}\\right)} \\frac{\\partial\\,\\beta}{\\partial x}\\right)}}{\\alpha\\left(t, x\\right)^{3}} \\end{array}</script></html>"
      ],
      "text/latex": [
       "$$\\newcommand{\\Bold}[1]{\\mathbf{#1}}\\begin{array}{llcl} \\mathrm{r}\\left(g\\right):& M & \\longrightarrow & \\mathbb{R} \\\\ & \\left(t, x, y, z\\right) & \\longmapsto & -\\frac{2 \\, {\\left(\\alpha\\left(t, x\\right)^{2} \\frac{\\partial^2\\,\\alpha}{\\partial x ^ 2} - \\alpha\\left(t, x\\right) \\left(\\frac{\\partial\\,\\beta}{\\partial x}\\right)^{2} - \\alpha\\left(t, x\\right) \\beta\\left(t, x\\right) \\frac{\\partial^2\\,\\beta}{\\partial x ^ 2} - \\alpha\\left(t, x\\right) \\frac{\\partial^2\\,\\beta}{\\partial t\\partial x} + {\\left(\\beta\\left(t, x\\right) \\frac{\\partial\\,\\alpha}{\\partial x} + \\frac{\\partial\\,\\alpha}{\\partial t}\\right)} \\frac{\\partial\\,\\beta}{\\partial x}\\right)}}{\\alpha\\left(t, x\\right)^{3}} \\end{array}$$"
      ],
      "text/plain": [
       "r(g): M --> R\n",
       "   (t, x, y, z) |--> -2*(alpha(t, x)^2*d^2(alpha)/dx^2 - alpha(t, x)*(d(shift)/dx)^2 - alpha(t, x)*shift(t, x)*d^2(shift)/dx^2 - alpha(t, x)*d^2(shift)/dtdx + (shift(t, x)*d(alpha)/dx + d(alpha)/dt)*d(shift)/dx)/alpha(t, x)^3"
      ]
     },
     "execution_count": 6,
     "metadata": {},
     "output_type": "execute_result"
    }
   ],
   "source": [
    "ricscalar = g.ricci_scalar()\n",
    "ricscalar.display()"
   ]
  },
  {
   "cell_type": "markdown",
   "metadata": {},
   "source": [
    "# Riemann tensor components"
   ]
  },
  {
   "cell_type": "code",
   "execution_count": 7,
   "metadata": {},
   "outputs": [
    {
     "data": {
      "text/html": [
       "<html><script type=\"math/tex; mode=display\">\\newcommand{\\Bold}[1]{\\mathbf{#1}}\\begin{array}{lcl} \\mathrm{Riem}\\left(g\\right)_{ \\phantom{\\, t} \\, t \\, t \\, x }^{ \\, t \\phantom{\\, t} \\phantom{\\, t} \\phantom{\\, x} } & = & \\frac{\\alpha\\left(t, x\\right)^{2} \\beta\\left(t, x\\right) \\frac{\\partial^2\\,\\alpha}{\\partial x ^ 2} - \\alpha\\left(t, x\\right) \\beta\\left(t, x\\right) \\left(\\frac{\\partial\\,\\beta}{\\partial x}\\right)^{2} - \\alpha\\left(t, x\\right) \\beta\\left(t, x\\right)^{2} \\frac{\\partial^2\\,\\beta}{\\partial x ^ 2} - \\alpha\\left(t, x\\right) \\beta\\left(t, x\\right) \\frac{\\partial^2\\,\\beta}{\\partial t\\partial x} + {\\left(\\beta\\left(t, x\\right)^{2} \\frac{\\partial\\,\\alpha}{\\partial x} + \\beta\\left(t, x\\right) \\frac{\\partial\\,\\alpha}{\\partial t}\\right)} \\frac{\\partial\\,\\beta}{\\partial x}}{\\alpha\\left(t, x\\right)^{3}} \\\\ \\mathrm{Riem}\\left(g\\right)_{ \\phantom{\\, t} \\, x \\, t \\, x }^{ \\, t \\phantom{\\, x} \\phantom{\\, t} \\phantom{\\, x} } & = & -\\frac{\\alpha\\left(t, x\\right)^{2} \\frac{\\partial^2\\,\\alpha}{\\partial x ^ 2} - \\alpha\\left(t, x\\right) \\left(\\frac{\\partial\\,\\beta}{\\partial x}\\right)^{2} - \\alpha\\left(t, x\\right) \\beta\\left(t, x\\right) \\frac{\\partial^2\\,\\beta}{\\partial x ^ 2} - \\alpha\\left(t, x\\right) \\frac{\\partial^2\\,\\beta}{\\partial t\\partial x} + {\\left(\\beta\\left(t, x\\right) \\frac{\\partial\\,\\alpha}{\\partial x} + \\frac{\\partial\\,\\alpha}{\\partial t}\\right)} \\frac{\\partial\\,\\beta}{\\partial x}}{\\alpha\\left(t, x\\right)^{3}} \\\\ \\mathrm{Riem}\\left(g\\right)_{ \\phantom{\\, x} \\, t \\, t \\, x }^{ \\, x \\phantom{\\, t} \\phantom{\\, t} \\phantom{\\, x} } & = & \\frac{{\\left(\\alpha\\left(t, x\\right)^{3} - \\alpha\\left(t, x\\right) \\beta\\left(t, x\\right)^{2}\\right)} \\left(\\frac{\\partial\\,\\beta}{\\partial x}\\right)^{2} - {\\left(\\alpha\\left(t, x\\right)^{4} - \\alpha\\left(t, x\\right)^{2} \\beta\\left(t, x\\right)^{2}\\right)} \\frac{\\partial^2\\,\\alpha}{\\partial x ^ 2} + {\\left(\\alpha\\left(t, x\\right)^{3} - \\alpha\\left(t, x\\right) \\beta\\left(t, x\\right)^{2}\\right)} \\frac{\\partial^2\\,\\beta}{\\partial t\\partial x} - {\\left({\\left(\\alpha\\left(t, x\\right)^{2} - \\beta\\left(t, x\\right)^{2}\\right)} \\frac{\\partial\\,\\alpha}{\\partial t} + {\\left(\\alpha\\left(t, x\\right)^{2} \\beta\\left(t, x\\right) - \\beta\\left(t, x\\right)^{3}\\right)} \\frac{\\partial\\,\\alpha}{\\partial x}\\right)} \\frac{\\partial\\,\\beta}{\\partial x} + {\\left(\\alpha\\left(t, x\\right)^{3} \\beta\\left(t, x\\right) - \\alpha\\left(t, x\\right) \\beta\\left(t, x\\right)^{3}\\right)} \\frac{\\partial^2\\,\\beta}{\\partial x ^ 2}}{\\alpha\\left(t, x\\right)^{3}} \\\\ \\mathrm{Riem}\\left(g\\right)_{ \\phantom{\\, x} \\, x \\, t \\, x }^{ \\, x \\phantom{\\, x} \\phantom{\\, t} \\phantom{\\, x} } & = & -\\frac{\\alpha\\left(t, x\\right)^{2} \\beta\\left(t, x\\right) \\frac{\\partial^2\\,\\alpha}{\\partial x ^ 2} - \\alpha\\left(t, x\\right) \\beta\\left(t, x\\right) \\left(\\frac{\\partial\\,\\beta}{\\partial x}\\right)^{2} - \\alpha\\left(t, x\\right) \\beta\\left(t, x\\right)^{2} \\frac{\\partial^2\\,\\beta}{\\partial x ^ 2} - \\alpha\\left(t, x\\right) \\beta\\left(t, x\\right) \\frac{\\partial^2\\,\\beta}{\\partial t\\partial x} + {\\left(\\beta\\left(t, x\\right)^{2} \\frac{\\partial\\,\\alpha}{\\partial x} + \\beta\\left(t, x\\right) \\frac{\\partial\\,\\alpha}{\\partial t}\\right)} \\frac{\\partial\\,\\beta}{\\partial x}}{\\alpha\\left(t, x\\right)^{3}} \\end{array}</script></html>"
      ],
      "text/latex": [
       "$$\\newcommand{\\Bold}[1]{\\mathbf{#1}}\\begin{array}{lcl} \\mathrm{Riem}\\left(g\\right)_{ \\phantom{\\, t} \\, t \\, t \\, x }^{ \\, t \\phantom{\\, t} \\phantom{\\, t} \\phantom{\\, x} } & = & \\frac{\\alpha\\left(t, x\\right)^{2} \\beta\\left(t, x\\right) \\frac{\\partial^2\\,\\alpha}{\\partial x ^ 2} - \\alpha\\left(t, x\\right) \\beta\\left(t, x\\right) \\left(\\frac{\\partial\\,\\beta}{\\partial x}\\right)^{2} - \\alpha\\left(t, x\\right) \\beta\\left(t, x\\right)^{2} \\frac{\\partial^2\\,\\beta}{\\partial x ^ 2} - \\alpha\\left(t, x\\right) \\beta\\left(t, x\\right) \\frac{\\partial^2\\,\\beta}{\\partial t\\partial x} + {\\left(\\beta\\left(t, x\\right)^{2} \\frac{\\partial\\,\\alpha}{\\partial x} + \\beta\\left(t, x\\right) \\frac{\\partial\\,\\alpha}{\\partial t}\\right)} \\frac{\\partial\\,\\beta}{\\partial x}}{\\alpha\\left(t, x\\right)^{3}} \\\\ \\mathrm{Riem}\\left(g\\right)_{ \\phantom{\\, t} \\, x \\, t \\, x }^{ \\, t \\phantom{\\, x} \\phantom{\\, t} \\phantom{\\, x} } & = & -\\frac{\\alpha\\left(t, x\\right)^{2} \\frac{\\partial^2\\,\\alpha}{\\partial x ^ 2} - \\alpha\\left(t, x\\right) \\left(\\frac{\\partial\\,\\beta}{\\partial x}\\right)^{2} - \\alpha\\left(t, x\\right) \\beta\\left(t, x\\right) \\frac{\\partial^2\\,\\beta}{\\partial x ^ 2} - \\alpha\\left(t, x\\right) \\frac{\\partial^2\\,\\beta}{\\partial t\\partial x} + {\\left(\\beta\\left(t, x\\right) \\frac{\\partial\\,\\alpha}{\\partial x} + \\frac{\\partial\\,\\alpha}{\\partial t}\\right)} \\frac{\\partial\\,\\beta}{\\partial x}}{\\alpha\\left(t, x\\right)^{3}} \\\\ \\mathrm{Riem}\\left(g\\right)_{ \\phantom{\\, x} \\, t \\, t \\, x }^{ \\, x \\phantom{\\, t} \\phantom{\\, t} \\phantom{\\, x} } & = & \\frac{{\\left(\\alpha\\left(t, x\\right)^{3} - \\alpha\\left(t, x\\right) \\beta\\left(t, x\\right)^{2}\\right)} \\left(\\frac{\\partial\\,\\beta}{\\partial x}\\right)^{2} - {\\left(\\alpha\\left(t, x\\right)^{4} - \\alpha\\left(t, x\\right)^{2} \\beta\\left(t, x\\right)^{2}\\right)} \\frac{\\partial^2\\,\\alpha}{\\partial x ^ 2} + {\\left(\\alpha\\left(t, x\\right)^{3} - \\alpha\\left(t, x\\right) \\beta\\left(t, x\\right)^{2}\\right)} \\frac{\\partial^2\\,\\beta}{\\partial t\\partial x} - {\\left({\\left(\\alpha\\left(t, x\\right)^{2} - \\beta\\left(t, x\\right)^{2}\\right)} \\frac{\\partial\\,\\alpha}{\\partial t} + {\\left(\\alpha\\left(t, x\\right)^{2} \\beta\\left(t, x\\right) - \\beta\\left(t, x\\right)^{3}\\right)} \\frac{\\partial\\,\\alpha}{\\partial x}\\right)} \\frac{\\partial\\,\\beta}{\\partial x} + {\\left(\\alpha\\left(t, x\\right)^{3} \\beta\\left(t, x\\right) - \\alpha\\left(t, x\\right) \\beta\\left(t, x\\right)^{3}\\right)} \\frac{\\partial^2\\,\\beta}{\\partial x ^ 2}}{\\alpha\\left(t, x\\right)^{3}} \\\\ \\mathrm{Riem}\\left(g\\right)_{ \\phantom{\\, x} \\, x \\, t \\, x }^{ \\, x \\phantom{\\, x} \\phantom{\\, t} \\phantom{\\, x} } & = & -\\frac{\\alpha\\left(t, x\\right)^{2} \\beta\\left(t, x\\right) \\frac{\\partial^2\\,\\alpha}{\\partial x ^ 2} - \\alpha\\left(t, x\\right) \\beta\\left(t, x\\right) \\left(\\frac{\\partial\\,\\beta}{\\partial x}\\right)^{2} - \\alpha\\left(t, x\\right) \\beta\\left(t, x\\right)^{2} \\frac{\\partial^2\\,\\beta}{\\partial x ^ 2} - \\alpha\\left(t, x\\right) \\beta\\left(t, x\\right) \\frac{\\partial^2\\,\\beta}{\\partial t\\partial x} + {\\left(\\beta\\left(t, x\\right)^{2} \\frac{\\partial\\,\\alpha}{\\partial x} + \\beta\\left(t, x\\right) \\frac{\\partial\\,\\alpha}{\\partial t}\\right)} \\frac{\\partial\\,\\beta}{\\partial x}}{\\alpha\\left(t, x\\right)^{3}} \\end{array}$$"
      ],
      "text/plain": [
       "Riem(g)^t_ttx = (alpha(t, x)^2*shift(t, x)*d^2(alpha)/dx^2 - alpha(t, x)*shift(t, x)*(d(shift)/dx)^2 - alpha(t, x)*shift(t, x)^2*d^2(shift)/dx^2 - alpha(t, x)*shift(t, x)*d^2(shift)/dtdx + (shift(t, x)^2*d(alpha)/dx + shift(t, x)*d(alpha)/dt)*d(shift)/dx)/alpha(t, x)^3 \n",
       "Riem(g)^t_xtx = -(alpha(t, x)^2*d^2(alpha)/dx^2 - alpha(t, x)*(d(shift)/dx)^2 - alpha(t, x)*shift(t, x)*d^2(shift)/dx^2 - alpha(t, x)*d^2(shift)/dtdx + (shift(t, x)*d(alpha)/dx + d(alpha)/dt)*d(shift)/dx)/alpha(t, x)^3 \n",
       "Riem(g)^x_ttx = ((alpha(t, x)^3 - alpha(t, x)*shift(t, x)^2)*(d(shift)/dx)^2 - (alpha(t, x)^4 - alpha(t, x)^2*shift(t, x)^2)*d^2(alpha)/dx^2 + (alpha(t, x)^3 - alpha(t, x)*shift(t, x)^2)*d^2(shift)/dtdx - ((alpha(t, x)^2 - shift(t, x)^2)*d(alpha)/dt + (alpha(t, x)^2*shift(t, x) - shift(t, x)^3)*d(alpha)/dx)*d(shift)/dx + (alpha(t, x)^3*shift(t, x) - alpha(t, x)*shift(t, x)^3)*d^2(shift)/dx^2)/alpha(t, x)^3 \n",
       "Riem(g)^x_xtx = -(alpha(t, x)^2*shift(t, x)*d^2(alpha)/dx^2 - alpha(t, x)*shift(t, x)*(d(shift)/dx)^2 - alpha(t, x)*shift(t, x)^2*d^2(shift)/dx^2 - alpha(t, x)*shift(t, x)*d^2(shift)/dtdx + (shift(t, x)^2*d(alpha)/dx + shift(t, x)*d(alpha)/dt)*d(shift)/dx)/alpha(t, x)^3 "
      ]
     },
     "execution_count": 7,
     "metadata": {},
     "output_type": "execute_result"
    }
   ],
   "source": [
    "Rie = g.riemann()\n",
    "Rie.display_comp(only_nonredundant=True)"
   ]
  },
  {
   "cell_type": "markdown",
   "metadata": {},
   "source": [
    "## 2.4. Einstein Tensor Components\n",
    "\n",
    "\\begin{equation}\n",
    "G_{\\mu \\nu} = R_{\\mu \\nu} - \\frac{1}{2} R g_{\\mu \\nu} - \\Lambda g_{\\mu \\nu}\n",
    "\\end{equation}"
   ]
  },
  {
   "cell_type": "code",
   "execution_count": 8,
   "metadata": {},
   "outputs": [
    {
     "name": "stdout",
     "output_type": "stream",
     "text": [
      "Field of symmetric bilinear forms G on the 4-dimensional Lorentzian manifold M\n",
      "(0, 2)\n"
     ]
    },
    {
     "data": {
      "text/html": [
       "<html><script type=\"math/tex; mode=display\">\\newcommand{\\Bold}[1]{\\mathbf{#1}}\\begin{array}{lcl} G_{ \\, t \\, t }^{ \\phantom{\\, t}\\phantom{\\, t} } & = & {\\Lambda} \\alpha\\left(t, x\\right)^{2} - {\\Lambda} \\beta\\left(t, x\\right)^{2} \\\\ G_{ \\, t \\, x }^{ \\phantom{\\, t}\\phantom{\\, x} } & = & {\\Lambda} \\beta\\left(t, x\\right) \\\\ G_{ \\, x \\, x }^{ \\phantom{\\, x}\\phantom{\\, x} } & = & -{\\Lambda} \\\\ G_{ \\, y \\, y }^{ \\phantom{\\, y}\\phantom{\\, y} } & = & -\\frac{{\\Lambda} \\alpha\\left(t, x\\right)^{3} - \\alpha\\left(t, x\\right)^{2} \\frac{\\partial^2\\,\\alpha}{\\partial x ^ 2} + \\alpha\\left(t, x\\right) \\left(\\frac{\\partial\\,\\beta}{\\partial x}\\right)^{2} + \\alpha\\left(t, x\\right) \\beta\\left(t, x\\right) \\frac{\\partial^2\\,\\beta}{\\partial x ^ 2} + \\alpha\\left(t, x\\right) \\frac{\\partial^2\\,\\beta}{\\partial t\\partial x} - {\\left(\\beta\\left(t, x\\right) \\frac{\\partial\\,\\alpha}{\\partial x} + \\frac{\\partial\\,\\alpha}{\\partial t}\\right)} \\frac{\\partial\\,\\beta}{\\partial x}}{\\alpha\\left(t, x\\right)^{3}} \\\\ G_{ \\, z \\, z }^{ \\phantom{\\, z}\\phantom{\\, z} } & = & -\\frac{{\\Lambda} \\alpha\\left(t, x\\right)^{3} - \\alpha\\left(t, x\\right)^{2} \\frac{\\partial^2\\,\\alpha}{\\partial x ^ 2} + \\alpha\\left(t, x\\right) \\left(\\frac{\\partial\\,\\beta}{\\partial x}\\right)^{2} + \\alpha\\left(t, x\\right) \\beta\\left(t, x\\right) \\frac{\\partial^2\\,\\beta}{\\partial x ^ 2} + \\alpha\\left(t, x\\right) \\frac{\\partial^2\\,\\beta}{\\partial t\\partial x} - {\\left(\\beta\\left(t, x\\right) \\frac{\\partial\\,\\alpha}{\\partial x} + \\frac{\\partial\\,\\alpha}{\\partial t}\\right)} \\frac{\\partial\\,\\beta}{\\partial x}}{\\alpha\\left(t, x\\right)^{3}} \\end{array}</script></html>"
      ],
      "text/latex": [
       "$$\\newcommand{\\Bold}[1]{\\mathbf{#1}}\\begin{array}{lcl} G_{ \\, t \\, t }^{ \\phantom{\\, t}\\phantom{\\, t} } & = & {\\Lambda} \\alpha\\left(t, x\\right)^{2} - {\\Lambda} \\beta\\left(t, x\\right)^{2} \\\\ G_{ \\, t \\, x }^{ \\phantom{\\, t}\\phantom{\\, x} } & = & {\\Lambda} \\beta\\left(t, x\\right) \\\\ G_{ \\, x \\, x }^{ \\phantom{\\, x}\\phantom{\\, x} } & = & -{\\Lambda} \\\\ G_{ \\, y \\, y }^{ \\phantom{\\, y}\\phantom{\\, y} } & = & -\\frac{{\\Lambda} \\alpha\\left(t, x\\right)^{3} - \\alpha\\left(t, x\\right)^{2} \\frac{\\partial^2\\,\\alpha}{\\partial x ^ 2} + \\alpha\\left(t, x\\right) \\left(\\frac{\\partial\\,\\beta}{\\partial x}\\right)^{2} + \\alpha\\left(t, x\\right) \\beta\\left(t, x\\right) \\frac{\\partial^2\\,\\beta}{\\partial x ^ 2} + \\alpha\\left(t, x\\right) \\frac{\\partial^2\\,\\beta}{\\partial t\\partial x} - {\\left(\\beta\\left(t, x\\right) \\frac{\\partial\\,\\alpha}{\\partial x} + \\frac{\\partial\\,\\alpha}{\\partial t}\\right)} \\frac{\\partial\\,\\beta}{\\partial x}}{\\alpha\\left(t, x\\right)^{3}} \\\\ G_{ \\, z \\, z }^{ \\phantom{\\, z}\\phantom{\\, z} } & = & -\\frac{{\\Lambda} \\alpha\\left(t, x\\right)^{3} - \\alpha\\left(t, x\\right)^{2} \\frac{\\partial^2\\,\\alpha}{\\partial x ^ 2} + \\alpha\\left(t, x\\right) \\left(\\frac{\\partial\\,\\beta}{\\partial x}\\right)^{2} + \\alpha\\left(t, x\\right) \\beta\\left(t, x\\right) \\frac{\\partial^2\\,\\beta}{\\partial x ^ 2} + \\alpha\\left(t, x\\right) \\frac{\\partial^2\\,\\beta}{\\partial t\\partial x} - {\\left(\\beta\\left(t, x\\right) \\frac{\\partial\\,\\alpha}{\\partial x} + \\frac{\\partial\\,\\alpha}{\\partial t}\\right)} \\frac{\\partial\\,\\beta}{\\partial x}}{\\alpha\\left(t, x\\right)^{3}} \\end{array}$$"
      ],
      "text/plain": [
       "G_tt = cosmo*alpha(t, x)^2 - cosmo*shift(t, x)^2 \n",
       "G_tx = cosmo*shift(t, x) \n",
       "G_xx = -cosmo \n",
       "G_yy = -(cosmo*alpha(t, x)^3 - alpha(t, x)^2*d^2(alpha)/dx^2 + alpha(t, x)*(d(shift)/dx)^2 + alpha(t, x)*shift(t, x)*d^2(shift)/dx^2 + alpha(t, x)*d^2(shift)/dtdx - (shift(t, x)*d(alpha)/dx + d(alpha)/dt)*d(shift)/dx)/alpha(t, x)^3 \n",
       "G_zz = -(cosmo*alpha(t, x)^3 - alpha(t, x)^2*d^2(alpha)/dx^2 + alpha(t, x)*(d(shift)/dx)^2 + alpha(t, x)*shift(t, x)*d^2(shift)/dx^2 + alpha(t, x)*d^2(shift)/dtdx - (shift(t, x)*d(alpha)/dx + d(alpha)/dt)*d(shift)/dx)/alpha(t, x)^3 "
      ]
     },
     "execution_count": 8,
     "metadata": {},
     "output_type": "execute_result"
    }
   ],
   "source": [
    "G = Ric - 1/2*g.ricci_scalar() * g - cosmo * g ;\n",
    "G.set_name('G');\n",
    "print(G);\n",
    "print(G.tensor_type());\n",
    "G.display_comp(only_nonredundant=True)"
   ]
  },
  {
   "cell_type": "markdown",
   "metadata": {},
   "source": [
    "## 2.5. Einstein tensor simplifications"
   ]
  },
  {
   "cell_type": "code",
   "execution_count": 9,
   "metadata": {},
   "outputs": [
    {
     "data": {
      "text/html": [
       "<html><script type=\"math/tex; mode=display\">\\newcommand{\\Bold}[1]{\\mathbf{#1}}0</script></html>"
      ],
      "text/latex": [
       "$$\\newcommand{\\Bold}[1]{\\mathbf{#1}}0$$"
      ],
      "text/plain": [
       "0"
      ]
     },
     "execution_count": 9,
     "metadata": {},
     "output_type": "execute_result"
    }
   ],
   "source": [
    "G[2,3]"
   ]
  },
  {
   "cell_type": "code",
   "execution_count": 10,
   "metadata": {},
   "outputs": [
    {
     "data": {
      "text/html": [
       "<html><script type=\"math/tex; mode=display\">\\newcommand{\\Bold}[1]{\\mathbf{#1}}0</script></html>"
      ],
      "text/latex": [
       "$$\\newcommand{\\Bold}[1]{\\mathbf{#1}}0$$"
      ],
      "text/plain": [
       "0"
      ]
     },
     "execution_count": 10,
     "metadata": {},
     "output_type": "execute_result"
    }
   ],
   "source": [
    "G[2,2] - G[3,3]"
   ]
  },
  {
   "cell_type": "code",
   "execution_count": 11,
   "metadata": {},
   "outputs": [
    {
     "data": {
      "text/html": [
       "<html><script type=\"math/tex; mode=display\">\\newcommand{\\Bold}[1]{\\mathbf{#1}}-\\frac{{\\Lambda} \\alpha\\left(t, x\\right)^{3} - \\alpha\\left(t, x\\right)^{2} \\frac{\\partial^2\\,\\alpha}{\\partial x ^ 2} + \\alpha\\left(t, x\\right) \\left(\\frac{\\partial\\,\\beta}{\\partial x}\\right)^{2} + \\alpha\\left(t, x\\right) \\beta\\left(t, x\\right) \\frac{\\partial^2\\,\\beta}{\\partial x ^ 2} + \\alpha\\left(t, x\\right) \\frac{\\partial^2\\,\\beta}{\\partial t\\partial x} - {\\left(\\beta\\left(t, x\\right) \\frac{\\partial\\,\\alpha}{\\partial x} + \\frac{\\partial\\,\\alpha}{\\partial t}\\right)} \\frac{\\partial\\,\\beta}{\\partial x}}{\\alpha\\left(t, x\\right)^{3}}</script></html>"
      ],
      "text/latex": [
       "$$\\newcommand{\\Bold}[1]{\\mathbf{#1}}-\\frac{{\\Lambda} \\alpha\\left(t, x\\right)^{3} - \\alpha\\left(t, x\\right)^{2} \\frac{\\partial^2\\,\\alpha}{\\partial x ^ 2} + \\alpha\\left(t, x\\right) \\left(\\frac{\\partial\\,\\beta}{\\partial x}\\right)^{2} + \\alpha\\left(t, x\\right) \\beta\\left(t, x\\right) \\frac{\\partial^2\\,\\beta}{\\partial x ^ 2} + \\alpha\\left(t, x\\right) \\frac{\\partial^2\\,\\beta}{\\partial t\\partial x} - {\\left(\\beta\\left(t, x\\right) \\frac{\\partial\\,\\alpha}{\\partial x} + \\frac{\\partial\\,\\alpha}{\\partial t}\\right)} \\frac{\\partial\\,\\beta}{\\partial x}}{\\alpha\\left(t, x\\right)^{3}}$$"
      ],
      "text/plain": [
       "-(cosmo*alpha(t, x)^3 - alpha(t, x)^2*d^2(alpha)/dx^2 + alpha(t, x)*(d(shift)/dx)^2 + alpha(t, x)*shift(t, x)*d^2(shift)/dx^2 + alpha(t, x)*d^2(shift)/dtdx - (shift(t, x)*d(alpha)/dx + d(alpha)/dt)*d(shift)/dx)/alpha(t, x)^3"
      ]
     },
     "execution_count": 11,
     "metadata": {},
     "output_type": "execute_result"
    }
   ],
   "source": [
    "(G[2,2] + G[3,3])/2"
   ]
  },
  {
   "cell_type": "code",
   "execution_count": 12,
   "metadata": {},
   "outputs": [
    {
     "data": {
      "text/html": [
       "<html><script type=\"math/tex; mode=display\">\\newcommand{\\Bold}[1]{\\mathbf{#1}}{\\Lambda} \\alpha\\left(t, x\\right)^{2}</script></html>"
      ],
      "text/latex": [
       "$$\\newcommand{\\Bold}[1]{\\mathbf{#1}}{\\Lambda} \\alpha\\left(t, x\\right)^{2}$$"
      ],
      "text/plain": [
       "cosmo*alpha(t, x)^2"
      ]
     },
     "execution_count": 12,
     "metadata": {},
     "output_type": "execute_result"
    }
   ],
   "source": [
    "G[0,0] + 2*shift*G[0,1] + shift^2*G[1,1]"
   ]
  },
  {
   "cell_type": "code",
   "execution_count": 13,
   "metadata": {},
   "outputs": [
    {
     "data": {
      "text/html": [
       "<html><script type=\"math/tex; mode=display\">\\newcommand{\\Bold}[1]{\\mathbf{#1}}{\\Lambda} \\alpha\\left(t, x\\right)^{2} + \\frac{1}{3} \\, {\\Lambda}</script></html>"
      ],
      "text/latex": [
       "$$\\newcommand{\\Bold}[1]{\\mathbf{#1}}{\\Lambda} \\alpha\\left(t, x\\right)^{2} + \\frac{1}{3} \\, {\\Lambda}$$"
      ],
      "text/plain": [
       "cosmo*alpha(t, x)^2 + 1/3*cosmo"
      ]
     },
     "execution_count": 13,
     "metadata": {},
     "output_type": "execute_result"
    }
   ],
   "source": [
    "G[0,0] + 2*shift*G[0,1] + (shift**2-1/3)*G[1,1]"
   ]
  },
  {
   "cell_type": "code",
   "execution_count": 14,
   "metadata": {},
   "outputs": [
    {
     "data": {
      "text/html": [
       "<html><script type=\"math/tex; mode=display\">\\newcommand{\\Bold}[1]{\\mathbf{#1}}0</script></html>"
      ],
      "text/latex": [
       "$$\\newcommand{\\Bold}[1]{\\mathbf{#1}}0$$"
      ],
      "text/plain": [
       "0"
      ]
     },
     "execution_count": 14,
     "metadata": {},
     "output_type": "execute_result"
    }
   ],
   "source": [
    "G[0,2] + shift * G[1,2]"
   ]
  },
  {
   "cell_type": "code",
   "execution_count": 15,
   "metadata": {},
   "outputs": [
    {
     "data": {
      "text/html": [
       "<html><script type=\"math/tex; mode=display\">\\newcommand{\\Bold}[1]{\\mathbf{#1}}0</script></html>"
      ],
      "text/latex": [
       "$$\\newcommand{\\Bold}[1]{\\mathbf{#1}}0$$"
      ],
      "text/plain": [
       "0"
      ]
     },
     "execution_count": 15,
     "metadata": {},
     "output_type": "execute_result"
    }
   ],
   "source": [
    "G[0,3] + shift * G[1,3]"
   ]
  },
  {
   "cell_type": "code",
   "execution_count": 16,
   "metadata": {},
   "outputs": [
    {
     "data": {
      "text/html": [
       "<html><script type=\"math/tex; mode=display\">\\newcommand{\\Bold}[1]{\\mathbf{#1}}0</script></html>"
      ],
      "text/latex": [
       "$$\\newcommand{\\Bold}[1]{\\mathbf{#1}}0$$"
      ],
      "text/plain": [
       "0"
      ]
     },
     "execution_count": 16,
     "metadata": {},
     "output_type": "execute_result"
    }
   ],
   "source": [
    "G[0,1] + shift * G[1,1]"
   ]
  },
  {
   "cell_type": "markdown",
   "metadata": {},
   "source": [
    "## 2.6. Defining the 4-velocity for Eulerian observers"
   ]
  },
  {
   "cell_type": "code",
   "execution_count": 17,
   "metadata": {},
   "outputs": [
    {
     "name": "stdout",
     "output_type": "stream",
     "text": [
      "Vector field u on the 4-dimensional Lorentzian manifold M\n",
      "(1, 0)\n"
     ]
    },
    {
     "data": {
      "text/html": [
       "<html><script type=\"math/tex; mode=display\">\\newcommand{\\Bold}[1]{\\mathbf{#1}}\\begin{array}{lcl} u_{\\phantom{\\, t}}^{ \\, t } & = & \\frac{1}{\\alpha\\left(t, x\\right)} \\\\ u_{\\phantom{\\, x}}^{ \\, x } & = & \\frac{\\beta\\left(t, x\\right)}{\\alpha\\left(t, x\\right)} \\end{array}</script></html>"
      ],
      "text/latex": [
       "$$\\newcommand{\\Bold}[1]{\\mathbf{#1}}\\begin{array}{lcl} u_{\\phantom{\\, t}}^{ \\, t } & = & \\frac{1}{\\alpha\\left(t, x\\right)} \\\\ u_{\\phantom{\\, x}}^{ \\, x } & = & \\frac{\\beta\\left(t, x\\right)}{\\alpha\\left(t, x\\right)} \\end{array}$$"
      ],
      "text/plain": [
       "u^t = 1/alpha(t, x) \n",
       "u^x = shift(t, x)/alpha(t, x) "
      ]
     },
     "execution_count": 17,
     "metadata": {},
     "output_type": "execute_result"
    }
   ],
   "source": [
    "u = M.vector_field('u')\n",
    "u[0] = 1/alpha\n",
    "u[1] = shift/alpha\n",
    "print(u)\n",
    "print(u.tensor_type())\n",
    "u.display_comp()"
   ]
  },
  {
   "cell_type": "code",
   "execution_count": 18,
   "metadata": {},
   "outputs": [
    {
     "name": "stdout",
     "output_type": "stream",
     "text": [
      "1-form u on the 4-dimensional Lorentzian manifold M\n",
      "(0, 1)\n"
     ]
    },
    {
     "data": {
      "text/html": [
       "<html><script type=\"math/tex; mode=display\">\\newcommand{\\Bold}[1]{\\mathbf{#1}}\\begin{array}{lcl} u_{ \\, t }^{ \\phantom{\\, t} } & = & -\\alpha\\left(t, x\\right) \\end{array}</script></html>"
      ],
      "text/latex": [
       "$$\\newcommand{\\Bold}[1]{\\mathbf{#1}}\\begin{array}{lcl} u_{ \\, t }^{ \\phantom{\\, t} } & = & -\\alpha\\left(t, x\\right) \\end{array}$$"
      ],
      "text/plain": [
       "u_t = -alpha(t, x) "
      ]
     },
     "execution_count": 18,
     "metadata": {},
     "output_type": "execute_result"
    }
   ],
   "source": [
    "u_form = u.down(g)\n",
    "u_form.set_name('u')\n",
    "print(u_form)\n",
    "print(u_form.tensor_type())\n",
    "u_form.display_comp()"
   ]
  },
  {
   "cell_type": "markdown",
   "metadata": {},
   "source": [
    "# 3. Energy momentum tensor"
   ]
  },
  {
   "cell_type": "code",
   "execution_count": 19,
   "metadata": {},
   "outputs": [
    {
     "name": "stdout",
     "output_type": "stream",
     "text": [
      "Field of symmetric bilinear forms T on the 4-dimensional Lorentzian manifold M\n",
      "(0, 2)\n"
     ]
    },
    {
     "data": {
      "text/html": [
       "<html><script type=\"math/tex; mode=display\">\\newcommand{\\Bold}[1]{\\mathbf{#1}}\\begin{array}{lcl} T_{ \\, t \\, t }^{ \\phantom{\\, t}\\phantom{\\, t} } & = & \\alpha\\left(t, x\\right)^{2} \\rho\\left(t, x, y, z\\right) + p\\left(t, x, y, z\\right) \\beta\\left(t, x\\right)^{2} \\\\ T_{ \\, t \\, x }^{ \\phantom{\\, t}\\phantom{\\, x} } & = & -p\\left(t, x, y, z\\right) \\beta\\left(t, x\\right) \\\\ T_{ \\, x \\, t }^{ \\phantom{\\, x}\\phantom{\\, t} } & = & -p\\left(t, x, y, z\\right) \\beta\\left(t, x\\right) \\\\ T_{ \\, x \\, x }^{ \\phantom{\\, x}\\phantom{\\, x} } & = & p\\left(t, x, y, z\\right) \\\\ T_{ \\, y \\, y }^{ \\phantom{\\, y}\\phantom{\\, y} } & = & p\\left(t, x, y, z\\right) \\\\ T_{ \\, z \\, z }^{ \\phantom{\\, z}\\phantom{\\, z} } & = & p\\left(t, x, y, z\\right) \\end{array}</script></html>"
      ],
      "text/latex": [
       "$$\\newcommand{\\Bold}[1]{\\mathbf{#1}}\\begin{array}{lcl} T_{ \\, t \\, t }^{ \\phantom{\\, t}\\phantom{\\, t} } & = & \\alpha\\left(t, x\\right)^{2} \\rho\\left(t, x, y, z\\right) + p\\left(t, x, y, z\\right) \\beta\\left(t, x\\right)^{2} \\\\ T_{ \\, t \\, x }^{ \\phantom{\\, t}\\phantom{\\, x} } & = & -p\\left(t, x, y, z\\right) \\beta\\left(t, x\\right) \\\\ T_{ \\, x \\, t }^{ \\phantom{\\, x}\\phantom{\\, t} } & = & -p\\left(t, x, y, z\\right) \\beta\\left(t, x\\right) \\\\ T_{ \\, x \\, x }^{ \\phantom{\\, x}\\phantom{\\, x} } & = & p\\left(t, x, y, z\\right) \\\\ T_{ \\, y \\, y }^{ \\phantom{\\, y}\\phantom{\\, y} } & = & p\\left(t, x, y, z\\right) \\\\ T_{ \\, z \\, z }^{ \\phantom{\\, z}\\phantom{\\, z} } & = & p\\left(t, x, y, z\\right) \\end{array}$$"
      ],
      "text/plain": [
       "T_tt = alpha(t, x)^2*rho(t, x, y, z) + p(t, x, y, z)*shift(t, x)^2 \n",
       "T_tx = -p(t, x, y, z)*shift(t, x) \n",
       "T_xt = -p(t, x, y, z)*shift(t, x) \n",
       "T_xx = p(t, x, y, z) \n",
       "T_yy = p(t, x, y, z) \n",
       "T_zz = p(t, x, y, z) "
      ]
     },
     "execution_count": 19,
     "metadata": {},
     "output_type": "execute_result"
    }
   ],
   "source": [
    "t_dust_pf = M.tensor_field(0,2, name='T');\n",
    "\n",
    "t_dust_pf = (p + rho)*(u_form * u_form) + p*g\n",
    "\n",
    "t_dust_pf.set_name('T')\n",
    "print(t_dust_pf)\n",
    "print(t_dust_pf.tensor_type())\n",
    "t_dust_pf.display_comp()"
   ]
  },
  {
   "cell_type": "code",
   "execution_count": 50,
   "metadata": {},
   "outputs": [
    {
     "data": {
      "text/html": [
       "<html><script type=\"math/tex; mode=display\">\\newcommand{\\Bold}[1]{\\mathbf{#1}}\\begin{array}{lcl} T_{ \\, t \\, t }^{ \\phantom{\\, t}\\phantom{\\, t} } & = & p\\left(t, x, y, z\\right) \\beta\\left(t, x\\right)^{2} + \\rho\\left(t, x, y, z\\right) \\\\ T_{ \\, t \\, x }^{ \\phantom{\\, t}\\phantom{\\, x} } & = & -D\\left(t, x, y, z\\right) \\beta\\left(t, x\\right) \\\\ T_{ \\, x \\, t }^{ \\phantom{\\, x}\\phantom{\\, t} } & = & -D\\left(t, x, y, z\\right) \\beta\\left(t, x\\right) \\\\ T_{ \\, x \\, x }^{ \\phantom{\\, x}\\phantom{\\, x} } & = & A\\left(t, x, y, z\\right) \\\\ T_{ \\, y \\, y }^{ \\phantom{\\, y}\\phantom{\\, y} } & = & B\\left(t, x, y, z\\right) \\\\ T_{ \\, z \\, z }^{ \\phantom{\\, z}\\phantom{\\, z} } & = & C\\left(t, x, y, z\\right) \\end{array}</script></html>"
      ],
      "text/latex": [
       "$$\\newcommand{\\Bold}[1]{\\mathbf{#1}}\\begin{array}{lcl} T_{ \\, t \\, t }^{ \\phantom{\\, t}\\phantom{\\, t} } & = & p\\left(t, x, y, z\\right) \\beta\\left(t, x\\right)^{2} + \\rho\\left(t, x, y, z\\right) \\\\ T_{ \\, t \\, x }^{ \\phantom{\\, t}\\phantom{\\, x} } & = & -D\\left(t, x, y, z\\right) \\beta\\left(t, x\\right) \\\\ T_{ \\, x \\, t }^{ \\phantom{\\, x}\\phantom{\\, t} } & = & -D\\left(t, x, y, z\\right) \\beta\\left(t, x\\right) \\\\ T_{ \\, x \\, x }^{ \\phantom{\\, x}\\phantom{\\, x} } & = & A\\left(t, x, y, z\\right) \\\\ T_{ \\, y \\, y }^{ \\phantom{\\, y}\\phantom{\\, y} } & = & B\\left(t, x, y, z\\right) \\\\ T_{ \\, z \\, z }^{ \\phantom{\\, z}\\phantom{\\, z} } & = & C\\left(t, x, y, z\\right) \\end{array}$$"
      ],
      "text/plain": [
       "T_tt = p(t, x, y, z)*shift(t, x)^2 + rho(t, x, y, z) \n",
       "T_tx = -d(t, x, y, z)*shift(t, x) \n",
       "T_xt = -d(t, x, y, z)*shift(t, x) \n",
       "T_xx = a(t, x, y, z) \n",
       "T_yy = b(t, x, y, z) \n",
       "T_zz = c(t, x, y, z) "
      ]
     },
     "execution_count": 50,
     "metadata": {},
     "output_type": "execute_result"
    }
   ],
   "source": [
    "t_dust_pf = M.tensor_field(0,2, name='T')\n",
    "t_dust_pf[0,0] = rho + shift**2 * p\n",
    "t_dust_pf[1,1] = a\n",
    "t_dust_pf[2,2] = b\n",
    "t_dust_pf[3,3] = c\n",
    "t_dust_pf[0,1] = - shift * d\n",
    "t_dust_pf[1,0] = - shift * d\n",
    "t_dust_pf.display_comp()"
   ]
  },
  {
   "cell_type": "markdown",
   "metadata": {},
   "source": [
    "## Energy momentum tensor relations"
   ]
  },
  {
   "cell_type": "code",
   "execution_count": 51,
   "metadata": {},
   "outputs": [
    {
     "data": {
      "text/html": [
       "<html><script type=\"math/tex; mode=display\">\\newcommand{\\Bold}[1]{\\mathbf{#1}}-2 \\, D\\left(t, x, y, z\\right) \\beta\\left(t, x\\right)^{2} + p\\left(t, x, y, z\\right) \\beta\\left(t, x\\right)^{2} + \\frac{1}{3} \\, {\\left(3 \\, \\beta\\left(t, x\\right)^{2} - 1\\right)} A\\left(t, x, y, z\\right) + \\rho\\left(t, x, y, z\\right)</script></html>"
      ],
      "text/latex": [
       "$$\\newcommand{\\Bold}[1]{\\mathbf{#1}}-2 \\, D\\left(t, x, y, z\\right) \\beta\\left(t, x\\right)^{2} + p\\left(t, x, y, z\\right) \\beta\\left(t, x\\right)^{2} + \\frac{1}{3} \\, {\\left(3 \\, \\beta\\left(t, x\\right)^{2} - 1\\right)} A\\left(t, x, y, z\\right) + \\rho\\left(t, x, y, z\\right)$$"
      ],
      "text/plain": [
       "-2*d(t, x, y, z)*shift(t, x)^2 + p(t, x, y, z)*shift(t, x)^2 + 1/3*(3*shift(t, x)^2 - 1)*a(t, x, y, z) + rho(t, x, y, z)"
      ]
     },
     "execution_count": 51,
     "metadata": {},
     "output_type": "execute_result"
    }
   ],
   "source": [
    "t_dust_pf[0,0] + 2*shift*t_dust_pf[0,1] + (shift**2-1/3)*t_dust_pf[1,1]"
   ]
  },
  {
   "cell_type": "code",
   "execution_count": 52,
   "metadata": {},
   "outputs": [
    {
     "data": {
      "text/html": [
       "<html><script type=\"math/tex; mode=display\">\\newcommand{\\Bold}[1]{\\mathbf{#1}}A\\left(t, x, y, z\\right) \\beta\\left(t, x\\right) - D\\left(t, x, y, z\\right) \\beta\\left(t, x\\right)</script></html>"
      ],
      "text/latex": [
       "$$\\newcommand{\\Bold}[1]{\\mathbf{#1}}A\\left(t, x, y, z\\right) \\beta\\left(t, x\\right) - D\\left(t, x, y, z\\right) \\beta\\left(t, x\\right)$$"
      ],
      "text/plain": [
       "a(t, x, y, z)*shift(t, x) - d(t, x, y, z)*shift(t, x)"
      ]
     },
     "execution_count": 52,
     "metadata": {},
     "output_type": "execute_result"
    }
   ],
   "source": [
    "t_dust_pf[0,1] + shift * t_dust_pf[1,1]"
   ]
  },
  {
   "cell_type": "code",
   "execution_count": 53,
   "metadata": {},
   "outputs": [
    {
     "data": {
      "text/html": [
       "<html><script type=\"math/tex; mode=display\">\\newcommand{\\Bold}[1]{\\mathbf{#1}}B\\left(t, x, y, z\\right) - C\\left(t, x, y, z\\right)</script></html>"
      ],
      "text/latex": [
       "$$\\newcommand{\\Bold}[1]{\\mathbf{#1}}B\\left(t, x, y, z\\right) - C\\left(t, x, y, z\\right)$$"
      ],
      "text/plain": [
       "b(t, x, y, z) - c(t, x, y, z)"
      ]
     },
     "execution_count": 53,
     "metadata": {},
     "output_type": "execute_result"
    }
   ],
   "source": [
    "t_dust_pf[2,2] - t_dust_pf[3,3]"
   ]
  },
  {
   "cell_type": "code",
   "execution_count": 54,
   "metadata": {},
   "outputs": [
    {
     "data": {
      "text/html": [
       "<html><script type=\"math/tex; mode=display\">\\newcommand{\\Bold}[1]{\\mathbf{#1}}B\\left(t, x, y, z\\right) + C\\left(t, x, y, z\\right)</script></html>"
      ],
      "text/latex": [
       "$$\\newcommand{\\Bold}[1]{\\mathbf{#1}}B\\left(t, x, y, z\\right) + C\\left(t, x, y, z\\right)$$"
      ],
      "text/plain": [
       "b(t, x, y, z) + c(t, x, y, z)"
      ]
     },
     "execution_count": 54,
     "metadata": {},
     "output_type": "execute_result"
    }
   ],
   "source": [
    "t_dust_pf[2,2] + t_dust_pf[3,3]"
   ]
  },
  {
   "cell_type": "code",
   "execution_count": 55,
   "metadata": {},
   "outputs": [
    {
     "data": {
      "text/html": [
       "<html><script type=\"math/tex; mode=display\">\\newcommand{\\Bold}[1]{\\mathbf{#1}}0</script></html>"
      ],
      "text/latex": [
       "$$\\newcommand{\\Bold}[1]{\\mathbf{#1}}0$$"
      ],
      "text/plain": [
       "0"
      ]
     },
     "execution_count": 55,
     "metadata": {},
     "output_type": "execute_result"
    }
   ],
   "source": [
    "t_dust_pf[0,2] + shift * t_dust_pf[1,2]"
   ]
  },
  {
   "cell_type": "code",
   "execution_count": 56,
   "metadata": {},
   "outputs": [
    {
     "data": {
      "text/html": [
       "<html><script type=\"math/tex; mode=display\">\\newcommand{\\Bold}[1]{\\mathbf{#1}}0</script></html>"
      ],
      "text/latex": [
       "$$\\newcommand{\\Bold}[1]{\\mathbf{#1}}0$$"
      ],
      "text/plain": [
       "0"
      ]
     },
     "execution_count": 56,
     "metadata": {},
     "output_type": "execute_result"
    }
   ],
   "source": [
    "t_dust_pf[0,3] + shift * t_dust_pf[1,3]"
   ]
  },
  {
   "cell_type": "code",
   "execution_count": 57,
   "metadata": {},
   "outputs": [
    {
     "data": {
      "text/html": [
       "<html><script type=\"math/tex; mode=display\">\\newcommand{\\Bold}[1]{\\mathbf{#1}}A\\left(t, x, y, z\\right) \\beta\\left(t, x\\right)^{2} - 2 \\, D\\left(t, x, y, z\\right) \\beta\\left(t, x\\right)^{2} + p\\left(t, x, y, z\\right) \\beta\\left(t, x\\right)^{2} + \\rho\\left(t, x, y, z\\right)</script></html>"
      ],
      "text/latex": [
       "$$\\newcommand{\\Bold}[1]{\\mathbf{#1}}A\\left(t, x, y, z\\right) \\beta\\left(t, x\\right)^{2} - 2 \\, D\\left(t, x, y, z\\right) \\beta\\left(t, x\\right)^{2} + p\\left(t, x, y, z\\right) \\beta\\left(t, x\\right)^{2} + \\rho\\left(t, x, y, z\\right)$$"
      ],
      "text/plain": [
       "a(t, x, y, z)*shift(t, x)^2 - 2*d(t, x, y, z)*shift(t, x)^2 + p(t, x, y, z)*shift(t, x)^2 + rho(t, x, y, z)"
      ]
     },
     "execution_count": 57,
     "metadata": {},
     "output_type": "execute_result"
    }
   ],
   "source": [
    "t_dust_pf[0,0] + 2*shift*t_dust_pf[0,1] + shift^2*t_dust_pf[1,1]"
   ]
  },
  {
   "cell_type": "markdown",
   "metadata": {},
   "source": [
    "# 4. Einstein tensor contraction\n",
    "\n",
    "## 4.1. Contracting Einstein tensor with 4-velocity\n",
    "\n",
    "\\begin{equation}\n",
    "G_{\\mu \\nu} \\, u^{\\mu} u^\\nu\n",
    "\\end{equation}"
   ]
  },
  {
   "cell_type": "code",
   "execution_count": 58,
   "metadata": {},
   "outputs": [
    {
     "name": "stdout",
     "output_type": "stream",
     "text": [
      "Scalar field on the 4-dimensional Lorentzian manifold M\n",
      "(0, 0)\n"
     ]
    },
    {
     "data": {
      "text/html": [
       "<html><script type=\"math/tex; mode=display\">\\newcommand{\\Bold}[1]{\\mathbf{#1}}\\begin{array}{llcl} & M & \\longrightarrow & \\mathbb{R} \\\\ & \\left(t, x, y, z\\right) & \\longmapsto & {\\Lambda} \\end{array}</script></html>"
      ],
      "text/latex": [
       "$$\\newcommand{\\Bold}[1]{\\mathbf{#1}}\\begin{array}{llcl} & M & \\longrightarrow & \\mathbb{R} \\\\ & \\left(t, x, y, z\\right) & \\longmapsto & {\\Lambda} \\end{array}$$"
      ],
      "text/plain": [
       "M --> R\n",
       "(t, x, y, z) |--> cosmo"
      ]
     },
     "execution_count": 58,
     "metadata": {},
     "output_type": "execute_result"
    }
   ],
   "source": [
    "Gc1 = G.contract(0, u)\n",
    "Gc2 = Gc1.contract(1, u)\n",
    "print(Gc2)\n",
    "print(Gc2.tensor_type())\n",
    "Gc2.display()"
   ]
  },
  {
   "cell_type": "code",
   "execution_count": 59,
   "metadata": {},
   "outputs": [
    {
     "data": {
      "text/html": [
       "<html><script type=\"math/tex; mode=display\">\\newcommand{\\Bold}[1]{\\mathbf{#1}}\\begin{array}{lcl} X_{ \\, t }^{ \\phantom{\\, t} } & = & {\\Lambda} \\alpha\\left(t, x\\right) \\end{array}</script></html>"
      ],
      "text/latex": [
       "$$\\newcommand{\\Bold}[1]{\\mathbf{#1}}\\begin{array}{lcl} X_{ \\, t }^{ \\phantom{\\, t} } & = & {\\Lambda} \\alpha\\left(t, x\\right) \\end{array}$$"
      ],
      "text/plain": [
       "X_t = cosmo*alpha(t, x) "
      ]
     },
     "execution_count": 59,
     "metadata": {},
     "output_type": "execute_result"
    }
   ],
   "source": [
    "Gc1.display_comp()"
   ]
  },
  {
   "cell_type": "markdown",
   "metadata": {},
   "source": [
    "## 4.2. Crosscheck\n",
    "\n",
    "Checking if the Einstein contraction with the 4-velocity is really the same as the algebric expression below\n",
    "\n",
    "\\begin{equation}\n",
    "G_{\\mu \\nu} \\, u^{\\mu} u^\\nu = G_{00} + 2 \\, \\beta \\, G_{01} + \\beta^2 \\, G_{11}.\n",
    "\\end{equation}"
   ]
  },
  {
   "cell_type": "code",
   "execution_count": 60,
   "metadata": {},
   "outputs": [
    {
     "data": {
      "text/html": [
       "<html><script type=\"math/tex; mode=display\">\\newcommand{\\Bold}[1]{\\mathbf{#1}}{\\Lambda}</script></html>"
      ],
      "text/latex": [
       "$$\\newcommand{\\Bold}[1]{\\mathbf{#1}}{\\Lambda}$$"
      ],
      "text/plain": [
       "cosmo"
      ]
     },
     "execution_count": 60,
     "metadata": {},
     "output_type": "execute_result"
    }
   ],
   "source": [
    "G[0,0]/alpha**2 + 2*shift*G[0,1]/alpha**2 + shift^2*G[1,1]/alpha**2"
   ]
  },
  {
   "cell_type": "code",
   "execution_count": 61,
   "metadata": {},
   "outputs": [
    {
     "data": {
      "text/html": [
       "<html><script type=\"math/tex; mode=display\">\\newcommand{\\Bold}[1]{\\mathbf{#1}}{\\Lambda} \\alpha\\left(t, x\\right)^{2}</script></html>"
      ],
      "text/latex": [
       "$$\\newcommand{\\Bold}[1]{\\mathbf{#1}}{\\Lambda} \\alpha\\left(t, x\\right)^{2}$$"
      ],
      "text/plain": [
       "cosmo*alpha(t, x)^2"
      ]
     },
     "execution_count": 61,
     "metadata": {},
     "output_type": "execute_result"
    }
   ],
   "source": [
    "G[0,0] + 2*shift*G[0,1] + shift^2*G[1,1]"
   ]
  },
  {
   "cell_type": "markdown",
   "metadata": {},
   "source": [
    "## 4.3. Expression from Einstein equations"
   ]
  },
  {
   "cell_type": "code",
   "execution_count": 62,
   "metadata": {},
   "outputs": [
    {
     "data": {
      "text/html": [
       "<html><script type=\"math/tex; mode=display\">\\newcommand{\\Bold}[1]{\\mathbf{#1}}{\\Lambda} \\alpha\\left(t, x\\right)^{2} + \\frac{1}{3} \\, {\\Lambda}</script></html>"
      ],
      "text/latex": [
       "$$\\newcommand{\\Bold}[1]{\\mathbf{#1}}{\\Lambda} \\alpha\\left(t, x\\right)^{2} + \\frac{1}{3} \\, {\\Lambda}$$"
      ],
      "text/plain": [
       "cosmo*alpha(t, x)^2 + 1/3*cosmo"
      ]
     },
     "execution_count": 62,
     "metadata": {},
     "output_type": "execute_result"
    }
   ],
   "source": [
    "G[0,0] + 2*shift*G[0,1] + (shift**2-1/3)*G[1,1]"
   ]
  },
  {
   "cell_type": "markdown",
   "metadata": {},
   "source": [
    "## 4.4. Divergence of energy momentum tensor"
   ]
  },
  {
   "cell_type": "code",
   "execution_count": 63,
   "metadata": {},
   "outputs": [
    {
     "name": "stdout",
     "output_type": "stream",
     "text": [
      "(0, 2)\n"
     ]
    },
    {
     "data": {
      "text/html": [
       "<html><script type=\"math/tex; mode=display\">\\newcommand{\\Bold}[1]{\\mathbf{#1}}\\begin{array}{lcl} div_{ \\, t }^{ \\phantom{\\, t} } & = & -\\frac{\\alpha\\left(t, x\\right) \\beta\\left(t, x\\right)^{3} \\frac{\\partial\\,p}{\\partial x} - \\alpha\\left(t, x\\right) \\beta\\left(t, x\\right)^{2} \\frac{\\partial\\,D}{\\partial t} + \\alpha\\left(t, x\\right) \\beta\\left(t, x\\right)^{2} \\frac{\\partial\\,p}{\\partial t} + \\alpha\\left(t, x\\right) \\beta\\left(t, x\\right) \\frac{\\partial\\,\\rho}{\\partial x} - {\\left(A\\left(t, x, y, z\\right) \\beta\\left(t, x\\right)^{2} - 3 \\, D\\left(t, x, y, z\\right) \\beta\\left(t, x\\right)^{2} + 2 \\, p\\left(t, x, y, z\\right) \\beta\\left(t, x\\right)^{2} + 2 \\, \\rho\\left(t, x, y, z\\right)\\right)} \\frac{\\partial\\,\\alpha}{\\partial t} - {\\left(p\\left(t, x, y, z\\right) \\beta\\left(t, x\\right)^{3} - {\\left(\\alpha\\left(t, x\\right)^{2} \\beta\\left(t, x\\right) + \\beta\\left(t, x\\right)^{3}\\right)} D\\left(t, x, y, z\\right) + \\rho\\left(t, x, y, z\\right) \\beta\\left(t, x\\right)\\right)} \\frac{\\partial\\,\\alpha}{\\partial x} + {\\left(\\alpha\\left(t, x\\right)^{3} \\beta\\left(t, x\\right) - \\alpha\\left(t, x\\right) \\beta\\left(t, x\\right)^{3}\\right)} \\frac{\\partial\\,D}{\\partial x} + \\alpha\\left(t, x\\right) \\frac{\\partial\\,\\rho}{\\partial t} + {\\left(A\\left(t, x, y, z\\right) \\alpha\\left(t, x\\right) \\beta\\left(t, x\\right) - 3 \\, \\alpha\\left(t, x\\right) D\\left(t, x, y, z\\right) \\beta\\left(t, x\\right) + 2 \\, \\alpha\\left(t, x\\right) p\\left(t, x, y, z\\right) \\beta\\left(t, x\\right)\\right)} \\frac{\\partial\\,\\beta}{\\partial t} + {\\left(3 \\, \\alpha\\left(t, x\\right) p\\left(t, x, y, z\\right) \\beta\\left(t, x\\right)^{2} + {\\left(\\alpha\\left(t, x\\right)^{3} - 3 \\, \\alpha\\left(t, x\\right) \\beta\\left(t, x\\right)^{2}\\right)} D\\left(t, x, y, z\\right) + \\alpha\\left(t, x\\right) \\rho\\left(t, x, y, z\\right)\\right)} \\frac{\\partial\\,\\beta}{\\partial x}}{\\alpha\\left(t, x\\right)^{3}} \\\\ div_{ \\, x }^{ \\phantom{\\, x} } & = & \\frac{\\alpha\\left(t, x\\right) \\beta\\left(t, x\\right)^{2} \\frac{\\partial\\,D}{\\partial x} - \\alpha\\left(t, x\\right) \\beta\\left(t, x\\right) \\frac{\\partial\\,A}{\\partial t} + \\alpha\\left(t, x\\right) \\beta\\left(t, x\\right) \\frac{\\partial\\,D}{\\partial t} + {\\left(\\alpha\\left(t, x\\right)^{3} - \\alpha\\left(t, x\\right) \\beta\\left(t, x\\right)^{2}\\right)} \\frac{\\partial\\,A}{\\partial x} + {\\left(A\\left(t, x, y, z\\right) \\beta\\left(t, x\\right) - D\\left(t, x, y, z\\right) \\beta\\left(t, x\\right)\\right)} \\frac{\\partial\\,\\alpha}{\\partial t} - {\\left(3 \\, D\\left(t, x, y, z\\right) \\beta\\left(t, x\\right)^{2} - p\\left(t, x, y, z\\right) \\beta\\left(t, x\\right)^{2} - {\\left(\\alpha\\left(t, x\\right)^{2} + 2 \\, \\beta\\left(t, x\\right)^{2}\\right)} A\\left(t, x, y, z\\right) - \\rho\\left(t, x, y, z\\right)\\right)} \\frac{\\partial\\,\\alpha}{\\partial x} - {\\left(A\\left(t, x, y, z\\right) \\alpha\\left(t, x\\right) - \\alpha\\left(t, x\\right) D\\left(t, x, y, z\\right)\\right)} \\frac{\\partial\\,\\beta}{\\partial t} - 3 \\, {\\left(A\\left(t, x, y, z\\right) \\alpha\\left(t, x\\right) \\beta\\left(t, x\\right) - \\alpha\\left(t, x\\right) D\\left(t, x, y, z\\right) \\beta\\left(t, x\\right)\\right)} \\frac{\\partial\\,\\beta}{\\partial x}}{\\alpha\\left(t, x\\right)^{3}} \\\\ div_{ \\, y }^{ \\phantom{\\, y} } & = & \\frac{\\partial\\,B}{\\partial y} \\\\ div_{ \\, z }^{ \\phantom{\\, z} } & = & \\frac{\\partial\\,C}{\\partial z} \\end{array}</script></html>"
      ],
      "text/latex": [
       "$$\\newcommand{\\Bold}[1]{\\mathbf{#1}}\\begin{array}{lcl} div_{ \\, t }^{ \\phantom{\\, t} } & = & -\\frac{\\alpha\\left(t, x\\right) \\beta\\left(t, x\\right)^{3} \\frac{\\partial\\,p}{\\partial x} - \\alpha\\left(t, x\\right) \\beta\\left(t, x\\right)^{2} \\frac{\\partial\\,D}{\\partial t} + \\alpha\\left(t, x\\right) \\beta\\left(t, x\\right)^{2} \\frac{\\partial\\,p}{\\partial t} + \\alpha\\left(t, x\\right) \\beta\\left(t, x\\right) \\frac{\\partial\\,\\rho}{\\partial x} - {\\left(A\\left(t, x, y, z\\right) \\beta\\left(t, x\\right)^{2} - 3 \\, D\\left(t, x, y, z\\right) \\beta\\left(t, x\\right)^{2} + 2 \\, p\\left(t, x, y, z\\right) \\beta\\left(t, x\\right)^{2} + 2 \\, \\rho\\left(t, x, y, z\\right)\\right)} \\frac{\\partial\\,\\alpha}{\\partial t} - {\\left(p\\left(t, x, y, z\\right) \\beta\\left(t, x\\right)^{3} - {\\left(\\alpha\\left(t, x\\right)^{2} \\beta\\left(t, x\\right) + \\beta\\left(t, x\\right)^{3}\\right)} D\\left(t, x, y, z\\right) + \\rho\\left(t, x, y, z\\right) \\beta\\left(t, x\\right)\\right)} \\frac{\\partial\\,\\alpha}{\\partial x} + {\\left(\\alpha\\left(t, x\\right)^{3} \\beta\\left(t, x\\right) - \\alpha\\left(t, x\\right) \\beta\\left(t, x\\right)^{3}\\right)} \\frac{\\partial\\,D}{\\partial x} + \\alpha\\left(t, x\\right) \\frac{\\partial\\,\\rho}{\\partial t} + {\\left(A\\left(t, x, y, z\\right) \\alpha\\left(t, x\\right) \\beta\\left(t, x\\right) - 3 \\, \\alpha\\left(t, x\\right) D\\left(t, x, y, z\\right) \\beta\\left(t, x\\right) + 2 \\, \\alpha\\left(t, x\\right) p\\left(t, x, y, z\\right) \\beta\\left(t, x\\right)\\right)} \\frac{\\partial\\,\\beta}{\\partial t} + {\\left(3 \\, \\alpha\\left(t, x\\right) p\\left(t, x, y, z\\right) \\beta\\left(t, x\\right)^{2} + {\\left(\\alpha\\left(t, x\\right)^{3} - 3 \\, \\alpha\\left(t, x\\right) \\beta\\left(t, x\\right)^{2}\\right)} D\\left(t, x, y, z\\right) + \\alpha\\left(t, x\\right) \\rho\\left(t, x, y, z\\right)\\right)} \\frac{\\partial\\,\\beta}{\\partial x}}{\\alpha\\left(t, x\\right)^{3}} \\\\ div_{ \\, x }^{ \\phantom{\\, x} } & = & \\frac{\\alpha\\left(t, x\\right) \\beta\\left(t, x\\right)^{2} \\frac{\\partial\\,D}{\\partial x} - \\alpha\\left(t, x\\right) \\beta\\left(t, x\\right) \\frac{\\partial\\,A}{\\partial t} + \\alpha\\left(t, x\\right) \\beta\\left(t, x\\right) \\frac{\\partial\\,D}{\\partial t} + {\\left(\\alpha\\left(t, x\\right)^{3} - \\alpha\\left(t, x\\right) \\beta\\left(t, x\\right)^{2}\\right)} \\frac{\\partial\\,A}{\\partial x} + {\\left(A\\left(t, x, y, z\\right) \\beta\\left(t, x\\right) - D\\left(t, x, y, z\\right) \\beta\\left(t, x\\right)\\right)} \\frac{\\partial\\,\\alpha}{\\partial t} - {\\left(3 \\, D\\left(t, x, y, z\\right) \\beta\\left(t, x\\right)^{2} - p\\left(t, x, y, z\\right) \\beta\\left(t, x\\right)^{2} - {\\left(\\alpha\\left(t, x\\right)^{2} + 2 \\, \\beta\\left(t, x\\right)^{2}\\right)} A\\left(t, x, y, z\\right) - \\rho\\left(t, x, y, z\\right)\\right)} \\frac{\\partial\\,\\alpha}{\\partial x} - {\\left(A\\left(t, x, y, z\\right) \\alpha\\left(t, x\\right) - \\alpha\\left(t, x\\right) D\\left(t, x, y, z\\right)\\right)} \\frac{\\partial\\,\\beta}{\\partial t} - 3 \\, {\\left(A\\left(t, x, y, z\\right) \\alpha\\left(t, x\\right) \\beta\\left(t, x\\right) - \\alpha\\left(t, x\\right) D\\left(t, x, y, z\\right) \\beta\\left(t, x\\right)\\right)} \\frac{\\partial\\,\\beta}{\\partial x}}{\\alpha\\left(t, x\\right)^{3}} \\\\ div_{ \\, y }^{ \\phantom{\\, y} } & = & \\frac{\\partial\\,B}{\\partial y} \\\\ div_{ \\, z }^{ \\phantom{\\, z} } & = & \\frac{\\partial\\,C}{\\partial z} \\end{array}$$"
      ],
      "text/plain": [
       "div_t = -(alpha(t, x)*shift(t, x)^3*d(p)/dx - alpha(t, x)*shift(t, x)^2*d(d)/dt + alpha(t, x)*shift(t, x)^2*d(p)/dt + alpha(t, x)*shift(t, x)*d(rho)/dx - (a(t, x, y, z)*shift(t, x)^2 - 3*d(t, x, y, z)*shift(t, x)^2 + 2*p(t, x, y, z)*shift(t, x)^2 + 2*rho(t, x, y, z))*d(alpha)/dt - (p(t, x, y, z)*shift(t, x)^3 - (alpha(t, x)^2*shift(t, x) + shift(t, x)^3)*d(t, x, y, z) + rho(t, x, y, z)*shift(t, x))*d(alpha)/dx + (alpha(t, x)^3*shift(t, x) - alpha(t, x)*shift(t, x)^3)*d(d)/dx + alpha(t, x)*d(rho)/dt + (a(t, x, y, z)*alpha(t, x)*shift(t, x) - 3*alpha(t, x)*d(t, x, y, z)*shift(t, x) + 2*alpha(t, x)*p(t, x, y, z)*shift(t, x))*d(shift)/dt + (3*alpha(t, x)*p(t, x, y, z)*shift(t, x)^2 + (alpha(t, x)^3 - 3*alpha(t, x)*shift(t, x)^2)*d(t, x, y, z) + alpha(t, x)*rho(t, x, y, z))*d(shift)/dx)/alpha(t, x)^3 \n",
       "div_x = (alpha(t, x)*shift(t, x)^2*d(d)/dx - alpha(t, x)*shift(t, x)*d(a)/dt + alpha(t, x)*shift(t, x)*d(d)/dt + (alpha(t, x)^3 - alpha(t, x)*shift(t, x)^2)*d(a)/dx + (a(t, x, y, z)*shift(t, x) - d(t, x, y, z)*shift(t, x))*d(alpha)/dt - (3*d(t, x, y, z)*shift(t, x)^2 - p(t, x, y, z)*shift(t, x)^2 - (alpha(t, x)^2 + 2*shift(t, x)^2)*a(t, x, y, z) - rho(t, x, y, z))*d(alpha)/dx - (a(t, x, y, z)*alpha(t, x) - alpha(t, x)*d(t, x, y, z))*d(shift)/dt - 3*(a(t, x, y, z)*alpha(t, x)*shift(t, x) - alpha(t, x)*d(t, x, y, z)*shift(t, x))*d(shift)/dx)/alpha(t, x)^3 \n",
       "div_y = d(b)/dy \n",
       "div_z = d(c)/dz "
      ]
     },
     "execution_count": 63,
     "metadata": {},
     "output_type": "execute_result"
    }
   ],
   "source": [
    "s = t_dust_pf.div()\n",
    "s.set_name('div')\n",
    "print(t_dust_pf.tensor_type())\n",
    "s.display_comp()"
   ]
  },
  {
   "cell_type": "markdown",
   "metadata": {},
   "source": [
    "# 5. Energy Conditions"
   ]
  },
  {
   "cell_type": "markdown",
   "metadata": {},
   "source": [
    "## 5.1. Auxiliar calculations\n",
    "\n",
    "We calculated the expression $t_{\\mu\\nu} = u_\\mu u _\\nu$ as auxilar calculation for the contraction of the energy momentum tensor $T^{\\mu \\nu} u_\\mu u _\\nu$."
   ]
  },
  {
   "cell_type": "code",
   "execution_count": 64,
   "metadata": {},
   "outputs": [
    {
     "name": "stdout",
     "output_type": "stream",
     "text": [
      "Scalar field on the 4-dimensional Lorentzian manifold M\n"
     ]
    },
    {
     "data": {
      "text/html": [
       "<html><script type=\"math/tex; mode=display\">\\newcommand{\\Bold}[1]{\\mathbf{#1}}\\begin{array}{llcl} & M & \\longrightarrow & \\mathbb{R} \\\\ & \\left(t, x, y, z\\right) & \\longmapsto & {\\Lambda} \\end{array}</script></html>"
      ],
      "text/latex": [
       "$$\\newcommand{\\Bold}[1]{\\mathbf{#1}}\\begin{array}{llcl} & M & \\longrightarrow & \\mathbb{R} \\\\ & \\left(t, x, y, z\\right) & \\longmapsto & {\\Lambda} \\end{array}$$"
      ],
      "text/plain": [
       "M --> R\n",
       "(t, x, y, z) |--> cosmo"
      ]
     },
     "execution_count": 64,
     "metadata": {},
     "output_type": "execute_result"
    }
   ],
   "source": [
    "t1 = u*u\n",
    "# contracting the tensor G with t1 as another check.\n",
    "t2 = G.contract(0,1, t1,0,1)\n",
    "# t2 is a scalar field on M.\n",
    "print(t2)\n",
    "# display t2\n",
    "t2.display()"
   ]
  },
  {
   "cell_type": "markdown",
   "metadata": {},
   "source": [
    "## 5.1. Weak Energy Condition\n",
    "\n",
    "For this case the EMT at each point of the spacetime must obey the\n",
    "inequality\n",
    "\\begin{equation}\n",
    "T_{\\alpha \\sigma} \\, u^\\alpha u^\\sigma \\geq 0,    \n",
    "\\end{equation}\n",
    "for any timelike vector $\\textbf{u} \\, (u_\\alpha u^\\alpha < 0)$ and \n",
    "any null zero vector $\\textbf{k} \\, (k_\\alpha k^\\alpha = 0)$. For an\n",
    "observer with unit tangent vector $\\textbf{v}$ at a certain point of\n",
    "the spacetime, the local energy density measured by any observer is\n",
    "non-negative."
   ]
  },
  {
   "cell_type": "code",
   "execution_count": 65,
   "metadata": {},
   "outputs": [
    {
     "name": "stdout",
     "output_type": "stream",
     "text": [
      "Scalar field on the 4-dimensional Lorentzian manifold M\n"
     ]
    },
    {
     "data": {
      "text/html": [
       "<html><script type=\"math/tex; mode=display\">\\newcommand{\\Bold}[1]{\\mathbf{#1}}\\begin{array}{llcl} & M & \\longrightarrow & \\mathbb{R} \\\\ & \\left(t, x, y, z\\right) & \\longmapsto & \\frac{A\\left(t, x, y, z\\right) \\beta\\left(t, x\\right)^{2} - 2 \\, D\\left(t, x, y, z\\right) \\beta\\left(t, x\\right)^{2} + p\\left(t, x, y, z\\right) \\beta\\left(t, x\\right)^{2} + \\rho\\left(t, x, y, z\\right)}{\\alpha\\left(t, x\\right)^{2}} \\end{array}</script></html>"
      ],
      "text/latex": [
       "$$\\newcommand{\\Bold}[1]{\\mathbf{#1}}\\begin{array}{llcl} & M & \\longrightarrow & \\mathbb{R} \\\\ & \\left(t, x, y, z\\right) & \\longmapsto & \\frac{A\\left(t, x, y, z\\right) \\beta\\left(t, x\\right)^{2} - 2 \\, D\\left(t, x, y, z\\right) \\beta\\left(t, x\\right)^{2} + p\\left(t, x, y, z\\right) \\beta\\left(t, x\\right)^{2} + \\rho\\left(t, x, y, z\\right)}{\\alpha\\left(t, x\\right)^{2}} \\end{array}$$"
      ],
      "text/plain": [
       "M --> R\n",
       "(t, x, y, z) |--> (a(t, x, y, z)*shift(t, x)^2 - 2*d(t, x, y, z)*shift(t, x)^2 + p(t, x, y, z)*shift(t, x)^2 + rho(t, x, y, z))/alpha(t, x)^2"
      ]
     },
     "execution_count": 65,
     "metadata": {},
     "output_type": "execute_result"
    }
   ],
   "source": [
    "# Weak Energy Condition\n",
    "# t1 = u*u\n",
    "t3 = t_dust_pf\n",
    "# calculating the wec\n",
    "wec = t3.contract(0,1, t1,0,1)\n",
    "print(wec)\n",
    "wec.display()"
   ]
  },
  {
   "cell_type": "markdown",
   "metadata": {},
   "source": [
    "## 5.2 Dominant Energy Condition\n",
    "\n",
    "For every timelike vector $u_a$, the following inequality must be\n",
    "satisfied\n",
    "\n",
    "\\begin{equation}\n",
    "T^{\\alpha \\beta} \\, u_\\alpha u_\\beta \\geq 0, \\quad \\text{and} \\quad \n",
    "F^\\alpha  F_\\alpha \\leq 0, \n",
    "\\end{equation}\n",
    "\n",
    "where $F^\\alpha = T^{\\alpha \\beta} u_\\beta$ is a non-spacelike \n",
    "vector. We can understand that this condition means that, for any \n",
    "observer, the local energy density appears to be non-negative and \n",
    "the local energy flow vector is non-spacelike. In any orthonormal \n",
    "basis, the energy dominates the other components of the EMT, \n",
    "\n",
    "\\begin{equation}\n",
    "T^{00} \\geq |T^{ab}|, \\ \\text{for each} \\ a, b.\n",
    "\\end{equation}"
   ]
  },
  {
   "cell_type": "code",
   "execution_count": 66,
   "metadata": {},
   "outputs": [
    {
     "name": "stdout",
     "output_type": "stream",
     "text": [
      "Scalar field on the 4-dimensional Lorentzian manifold M\n"
     ]
    },
    {
     "data": {
      "text/html": [
       "<html><script type=\"math/tex; mode=display\">\\newcommand{\\Bold}[1]{\\mathbf{#1}}\\begin{array}{llcl} & M & \\longrightarrow & \\mathbb{R} \\\\ & \\left(t, x, y, z\\right) & \\longmapsto & -\\frac{{\\left(A\\left(t, x, y, z\\right) \\beta\\left(t, x\\right)^{2} - 2 \\, D\\left(t, x, y, z\\right) \\beta\\left(t, x\\right)^{2} + p\\left(t, x, y, z\\right) \\beta\\left(t, x\\right)^{2}\\right)} \\rho\\left(t, x, y, z\\right) + \\rho\\left(t, x, y, z\\right)^{2}}{\\alpha\\left(t, x\\right)^{2}} \\end{array}</script></html>"
      ],
      "text/latex": [
       "$$\\newcommand{\\Bold}[1]{\\mathbf{#1}}\\begin{array}{llcl} & M & \\longrightarrow & \\mathbb{R} \\\\ & \\left(t, x, y, z\\right) & \\longmapsto & -\\frac{{\\left(A\\left(t, x, y, z\\right) \\beta\\left(t, x\\right)^{2} - 2 \\, D\\left(t, x, y, z\\right) \\beta\\left(t, x\\right)^{2} + p\\left(t, x, y, z\\right) \\beta\\left(t, x\\right)^{2}\\right)} \\rho\\left(t, x, y, z\\right) + \\rho\\left(t, x, y, z\\right)^{2}}{\\alpha\\left(t, x\\right)^{2}} \\end{array}$$"
      ],
      "text/plain": [
       "M --> R\n",
       "(t, x, y, z) |--> -((a(t, x, y, z)*shift(t, x)^2 - 2*d(t, x, y, z)*shift(t, x)^2 + p(t, x, y, z)*shift(t, x)^2)*rho(t, x, y, z) + rho(t, x, y, z)^2)/alpha(t, x)^2"
      ]
     },
     "execution_count": 66,
     "metadata": {},
     "output_type": "execute_result"
    }
   ],
   "source": [
    "# t3 = mu*(u_form * u_form)\n",
    "# u_form is a (0,1) tensor\n",
    "# u is a (1,0) tensor\n",
    "# auxiliary calculation\n",
    "t4 = (p + rho)*(u * u) + p*gg\n",
    "# Calculating the contraction for the tensor t5 (F^a)\n",
    "F1 = t4.contract(0,u_form)\n",
    "# Calculating the contraction for the tensor t3 (F_a)\n",
    "F2 = t3. contract(0,u)\n",
    "F1.display()\n",
    "F2.display()\n",
    "# auxiliary calculation for the dec\n",
    "dec = F1.contract(0,F2)\n",
    "print(dec)\n",
    "dec.display() # it is satisfied as long as F^a F_a \\leq 0"
   ]
  },
  {
   "cell_type": "markdown",
   "metadata": {},
   "source": [
    "## 5.3 Second condition for DEC\n",
    "\n",
    "Calculating the condition $T^{\\alpha \\beta} \\, u_\\alpha u_\\beta \\geq 0$."
   ]
  },
  {
   "cell_type": "code",
   "execution_count": 67,
   "metadata": {},
   "outputs": [
    {
     "data": {
      "text/html": [
       "<html><script type=\"math/tex; mode=display\">\\newcommand{\\Bold}[1]{\\mathbf{#1}}\\begin{array}{llcl} & M & \\longrightarrow & \\mathbb{R} \\\\ & \\left(t, x, y, z\\right) & \\longmapsto & \\rho\\left(t, x, y, z\\right) \\end{array}</script></html>"
      ],
      "text/latex": [
       "$$\\newcommand{\\Bold}[1]{\\mathbf{#1}}\\begin{array}{llcl} & M & \\longrightarrow & \\mathbb{R} \\\\ & \\left(t, x, y, z\\right) & \\longmapsto & \\rho\\left(t, x, y, z\\right) \\end{array}$$"
      ],
      "text/plain": [
       "M --> R\n",
       "(t, x, y, z) |--> rho(t, x, y, z)"
      ]
     },
     "execution_count": 67,
     "metadata": {},
     "output_type": "execute_result"
    }
   ],
   "source": [
    "# u is (1,0)\n",
    "# u_form is (0,1)\n",
    "# t1 = u*u\n",
    "# t2 = G.contract(0,1, t1,0,1)\n",
    "# t3 = t_dust_pf\n",
    "# t4 = (p + rho)*(u * u) + p*gg\n",
    "# t_dust_pf = (p + rho)*(u_form * u_form) + p*g\n",
    "dec2 = t4.contract(0,1, u_form*u_form,0,1)\n",
    "dec2.display()"
   ]
  },
  {
   "cell_type": "markdown",
   "metadata": {},
   "source": [
    "## 5.3. Strong Energy Condition\n",
    "\n",
    "This case means the following inequality\n",
    "\\begin{equation}\n",
    "\\left(T_{\\alpha \\beta} - \\frac{1}{2}T \\, g_{\\alpha \\beta} \\right) \n",
    "u^\\alpha u^\\beta \\geq 0\n",
    "\\label{SEC}\n",
    "\\end{equation}\n",
    "for any timelike vector $u$. This is a stronger requirement than \n",
    "the WEC and only makes sense in the framework of general relativity,\n",
    "since it takes into account the Einstein's equations. This condition\n",
    "implies that gravity is always attractive. To calculate the SEC one\n",
    "must start with the scalars $T$ and $g_{\\alpha \\beta} u^\\alpha u^\\beta$."
   ]
  },
  {
   "cell_type": "code",
   "execution_count": 68,
   "metadata": {},
   "outputs": [
    {
     "data": {
      "text/html": [
       "<html><script type=\"math/tex; mode=display\">\\newcommand{\\Bold}[1]{\\mathbf{#1}}\\begin{array}{llcl} & M & \\longrightarrow & \\mathbb{R} \\\\ & \\left(t, x, y, z\\right) & \\longmapsto & \\frac{\\alpha\\left(t, x\\right)^{2} B\\left(t, x, y, z\\right) + \\alpha\\left(t, x\\right)^{2} C\\left(t, x, y, z\\right) - 2 \\, D\\left(t, x, y, z\\right) \\beta\\left(t, x\\right)^{2} + p\\left(t, x, y, z\\right) \\beta\\left(t, x\\right)^{2} + {\\left(\\alpha\\left(t, x\\right)^{2} + \\beta\\left(t, x\\right)^{2}\\right)} A\\left(t, x, y, z\\right) + \\rho\\left(t, x, y, z\\right)}{2 \\, \\alpha\\left(t, x\\right)^{2}} \\end{array}</script></html>"
      ],
      "text/latex": [
       "$$\\newcommand{\\Bold}[1]{\\mathbf{#1}}\\begin{array}{llcl} & M & \\longrightarrow & \\mathbb{R} \\\\ & \\left(t, x, y, z\\right) & \\longmapsto & \\frac{\\alpha\\left(t, x\\right)^{2} B\\left(t, x, y, z\\right) + \\alpha\\left(t, x\\right)^{2} C\\left(t, x, y, z\\right) - 2 \\, D\\left(t, x, y, z\\right) \\beta\\left(t, x\\right)^{2} + p\\left(t, x, y, z\\right) \\beta\\left(t, x\\right)^{2} + {\\left(\\alpha\\left(t, x\\right)^{2} + \\beta\\left(t, x\\right)^{2}\\right)} A\\left(t, x, y, z\\right) + \\rho\\left(t, x, y, z\\right)}{2 \\, \\alpha\\left(t, x\\right)^{2}} \\end{array}$$"
      ],
      "text/plain": [
       "M --> R\n",
       "(t, x, y, z) |--> 1/2*(alpha(t, x)^2*b(t, x, y, z) + alpha(t, x)^2*c(t, x, y, z) - 2*d(t, x, y, z)*shift(t, x)^2 + p(t, x, y, z)*shift(t, x)^2 + (alpha(t, x)^2 + shift(t, x)^2)*a(t, x, y, z) + rho(t, x, y, z))/alpha(t, x)^2"
      ]
     },
     "execution_count": 68,
     "metadata": {},
     "output_type": "execute_result"
    }
   ],
   "source": [
    "# Strong Energy Conditions\n",
    "# u is (1,0)\n",
    "# u_form is (0,1)\n",
    "# t1 = u*u\n",
    "# t2 = G.contract(0,1, t1,0,1)\n",
    "# t3 = t_dust_pf\n",
    "# t4 = mu*(u * u) + (p + rho)*(u * u) + p*gg\n",
    "# t_dust_pf = (p + rho)*(u_form * u_form) + p*g\n",
    "# T = \n",
    "t_scalar = t_dust_pf.contract(0,1, gg,0,1)\n",
    "# t5 is the tensor T_{ab} - T g_{ab}/2\n",
    "t5 = (t_dust_pf - t_scalar*g/2)\n",
    "t5.set_name('T')\n",
    "sec = t5.contract(0,1,t1,0,1)\n",
    "sec.display()"
   ]
  },
  {
   "cell_type": "code",
   "execution_count": 69,
   "metadata": {},
   "outputs": [
    {
     "data": {
      "text/html": [
       "<html><script type=\"math/tex; mode=display\">\\newcommand{\\Bold}[1]{\\mathbf{#1}}\\begin{array}{lcl} T_{ \\, t \\, t }^{ \\phantom{\\, t}\\phantom{\\, t} } & = & \\frac{{\\left(\\alpha\\left(t, x\\right)^{4} - 2 \\, \\alpha\\left(t, x\\right)^{2} \\beta\\left(t, x\\right)^{2} + \\beta\\left(t, x\\right)^{4}\\right)} A\\left(t, x, y, z\\right) + {\\left(\\alpha\\left(t, x\\right)^{4} - \\alpha\\left(t, x\\right)^{2} \\beta\\left(t, x\\right)^{2}\\right)} B\\left(t, x, y, z\\right) + {\\left(\\alpha\\left(t, x\\right)^{4} - \\alpha\\left(t, x\\right)^{2} \\beta\\left(t, x\\right)^{2}\\right)} C\\left(t, x, y, z\\right) + 2 \\, {\\left(\\alpha\\left(t, x\\right)^{2} \\beta\\left(t, x\\right)^{2} - \\beta\\left(t, x\\right)^{4}\\right)} D\\left(t, x, y, z\\right) + {\\left(\\alpha\\left(t, x\\right)^{2} \\beta\\left(t, x\\right)^{2} + \\beta\\left(t, x\\right)^{4}\\right)} p\\left(t, x, y, z\\right) + {\\left(\\alpha\\left(t, x\\right)^{2} + \\beta\\left(t, x\\right)^{2}\\right)} \\rho\\left(t, x, y, z\\right)}{2 \\, \\alpha\\left(t, x\\right)^{2}} \\\\ T_{ \\, t \\, x }^{ \\phantom{\\, t}\\phantom{\\, x} } & = & \\frac{\\alpha\\left(t, x\\right)^{2} B\\left(t, x, y, z\\right) \\beta\\left(t, x\\right) + \\alpha\\left(t, x\\right)^{2} C\\left(t, x, y, z\\right) \\beta\\left(t, x\\right) - p\\left(t, x, y, z\\right) \\beta\\left(t, x\\right)^{3} + {\\left(\\alpha\\left(t, x\\right)^{2} \\beta\\left(t, x\\right) - \\beta\\left(t, x\\right)^{3}\\right)} A\\left(t, x, y, z\\right) - 2 \\, {\\left(\\alpha\\left(t, x\\right)^{2} \\beta\\left(t, x\\right) - \\beta\\left(t, x\\right)^{3}\\right)} D\\left(t, x, y, z\\right) - \\rho\\left(t, x, y, z\\right) \\beta\\left(t, x\\right)}{2 \\, \\alpha\\left(t, x\\right)^{2}} \\\\ T_{ \\, x \\, t }^{ \\phantom{\\, x}\\phantom{\\, t} } & = & \\frac{\\alpha\\left(t, x\\right)^{2} B\\left(t, x, y, z\\right) \\beta\\left(t, x\\right) + \\alpha\\left(t, x\\right)^{2} C\\left(t, x, y, z\\right) \\beta\\left(t, x\\right) - p\\left(t, x, y, z\\right) \\beta\\left(t, x\\right)^{3} + {\\left(\\alpha\\left(t, x\\right)^{2} \\beta\\left(t, x\\right) - \\beta\\left(t, x\\right)^{3}\\right)} A\\left(t, x, y, z\\right) - 2 \\, {\\left(\\alpha\\left(t, x\\right)^{2} \\beta\\left(t, x\\right) - \\beta\\left(t, x\\right)^{3}\\right)} D\\left(t, x, y, z\\right) - \\rho\\left(t, x, y, z\\right) \\beta\\left(t, x\\right)}{2 \\, \\alpha\\left(t, x\\right)^{2}} \\\\ T_{ \\, x \\, x }^{ \\phantom{\\, x}\\phantom{\\, x} } & = & -\\frac{\\alpha\\left(t, x\\right)^{2} B\\left(t, x, y, z\\right) + \\alpha\\left(t, x\\right)^{2} C\\left(t, x, y, z\\right) + 2 \\, D\\left(t, x, y, z\\right) \\beta\\left(t, x\\right)^{2} - p\\left(t, x, y, z\\right) \\beta\\left(t, x\\right)^{2} - {\\left(\\alpha\\left(t, x\\right)^{2} + \\beta\\left(t, x\\right)^{2}\\right)} A\\left(t, x, y, z\\right) - \\rho\\left(t, x, y, z\\right)}{2 \\, \\alpha\\left(t, x\\right)^{2}} \\\\ T_{ \\, y \\, y }^{ \\phantom{\\, y}\\phantom{\\, y} } & = & \\frac{\\alpha\\left(t, x\\right)^{2} B\\left(t, x, y, z\\right) - \\alpha\\left(t, x\\right)^{2} C\\left(t, x, y, z\\right) - 2 \\, D\\left(t, x, y, z\\right) \\beta\\left(t, x\\right)^{2} + p\\left(t, x, y, z\\right) \\beta\\left(t, x\\right)^{2} - {\\left(\\alpha\\left(t, x\\right)^{2} - \\beta\\left(t, x\\right)^{2}\\right)} A\\left(t, x, y, z\\right) + \\rho\\left(t, x, y, z\\right)}{2 \\, \\alpha\\left(t, x\\right)^{2}} \\\\ T_{ \\, z \\, z }^{ \\phantom{\\, z}\\phantom{\\, z} } & = & -\\frac{\\alpha\\left(t, x\\right)^{2} B\\left(t, x, y, z\\right) - \\alpha\\left(t, x\\right)^{2} C\\left(t, x, y, z\\right) + 2 \\, D\\left(t, x, y, z\\right) \\beta\\left(t, x\\right)^{2} - p\\left(t, x, y, z\\right) \\beta\\left(t, x\\right)^{2} + {\\left(\\alpha\\left(t, x\\right)^{2} - \\beta\\left(t, x\\right)^{2}\\right)} A\\left(t, x, y, z\\right) - \\rho\\left(t, x, y, z\\right)}{2 \\, \\alpha\\left(t, x\\right)^{2}} \\end{array}</script></html>"
      ],
      "text/latex": [
       "$$\\newcommand{\\Bold}[1]{\\mathbf{#1}}\\begin{array}{lcl} T_{ \\, t \\, t }^{ \\phantom{\\, t}\\phantom{\\, t} } & = & \\frac{{\\left(\\alpha\\left(t, x\\right)^{4} - 2 \\, \\alpha\\left(t, x\\right)^{2} \\beta\\left(t, x\\right)^{2} + \\beta\\left(t, x\\right)^{4}\\right)} A\\left(t, x, y, z\\right) + {\\left(\\alpha\\left(t, x\\right)^{4} - \\alpha\\left(t, x\\right)^{2} \\beta\\left(t, x\\right)^{2}\\right)} B\\left(t, x, y, z\\right) + {\\left(\\alpha\\left(t, x\\right)^{4} - \\alpha\\left(t, x\\right)^{2} \\beta\\left(t, x\\right)^{2}\\right)} C\\left(t, x, y, z\\right) + 2 \\, {\\left(\\alpha\\left(t, x\\right)^{2} \\beta\\left(t, x\\right)^{2} - \\beta\\left(t, x\\right)^{4}\\right)} D\\left(t, x, y, z\\right) + {\\left(\\alpha\\left(t, x\\right)^{2} \\beta\\left(t, x\\right)^{2} + \\beta\\left(t, x\\right)^{4}\\right)} p\\left(t, x, y, z\\right) + {\\left(\\alpha\\left(t, x\\right)^{2} + \\beta\\left(t, x\\right)^{2}\\right)} \\rho\\left(t, x, y, z\\right)}{2 \\, \\alpha\\left(t, x\\right)^{2}} \\\\ T_{ \\, t \\, x }^{ \\phantom{\\, t}\\phantom{\\, x} } & = & \\frac{\\alpha\\left(t, x\\right)^{2} B\\left(t, x, y, z\\right) \\beta\\left(t, x\\right) + \\alpha\\left(t, x\\right)^{2} C\\left(t, x, y, z\\right) \\beta\\left(t, x\\right) - p\\left(t, x, y, z\\right) \\beta\\left(t, x\\right)^{3} + {\\left(\\alpha\\left(t, x\\right)^{2} \\beta\\left(t, x\\right) - \\beta\\left(t, x\\right)^{3}\\right)} A\\left(t, x, y, z\\right) - 2 \\, {\\left(\\alpha\\left(t, x\\right)^{2} \\beta\\left(t, x\\right) - \\beta\\left(t, x\\right)^{3}\\right)} D\\left(t, x, y, z\\right) - \\rho\\left(t, x, y, z\\right) \\beta\\left(t, x\\right)}{2 \\, \\alpha\\left(t, x\\right)^{2}} \\\\ T_{ \\, x \\, t }^{ \\phantom{\\, x}\\phantom{\\, t} } & = & \\frac{\\alpha\\left(t, x\\right)^{2} B\\left(t, x, y, z\\right) \\beta\\left(t, x\\right) + \\alpha\\left(t, x\\right)^{2} C\\left(t, x, y, z\\right) \\beta\\left(t, x\\right) - p\\left(t, x, y, z\\right) \\beta\\left(t, x\\right)^{3} + {\\left(\\alpha\\left(t, x\\right)^{2} \\beta\\left(t, x\\right) - \\beta\\left(t, x\\right)^{3}\\right)} A\\left(t, x, y, z\\right) - 2 \\, {\\left(\\alpha\\left(t, x\\right)^{2} \\beta\\left(t, x\\right) - \\beta\\left(t, x\\right)^{3}\\right)} D\\left(t, x, y, z\\right) - \\rho\\left(t, x, y, z\\right) \\beta\\left(t, x\\right)}{2 \\, \\alpha\\left(t, x\\right)^{2}} \\\\ T_{ \\, x \\, x }^{ \\phantom{\\, x}\\phantom{\\, x} } & = & -\\frac{\\alpha\\left(t, x\\right)^{2} B\\left(t, x, y, z\\right) + \\alpha\\left(t, x\\right)^{2} C\\left(t, x, y, z\\right) + 2 \\, D\\left(t, x, y, z\\right) \\beta\\left(t, x\\right)^{2} - p\\left(t, x, y, z\\right) \\beta\\left(t, x\\right)^{2} - {\\left(\\alpha\\left(t, x\\right)^{2} + \\beta\\left(t, x\\right)^{2}\\right)} A\\left(t, x, y, z\\right) - \\rho\\left(t, x, y, z\\right)}{2 \\, \\alpha\\left(t, x\\right)^{2}} \\\\ T_{ \\, y \\, y }^{ \\phantom{\\, y}\\phantom{\\, y} } & = & \\frac{\\alpha\\left(t, x\\right)^{2} B\\left(t, x, y, z\\right) - \\alpha\\left(t, x\\right)^{2} C\\left(t, x, y, z\\right) - 2 \\, D\\left(t, x, y, z\\right) \\beta\\left(t, x\\right)^{2} + p\\left(t, x, y, z\\right) \\beta\\left(t, x\\right)^{2} - {\\left(\\alpha\\left(t, x\\right)^{2} - \\beta\\left(t, x\\right)^{2}\\right)} A\\left(t, x, y, z\\right) + \\rho\\left(t, x, y, z\\right)}{2 \\, \\alpha\\left(t, x\\right)^{2}} \\\\ T_{ \\, z \\, z }^{ \\phantom{\\, z}\\phantom{\\, z} } & = & -\\frac{\\alpha\\left(t, x\\right)^{2} B\\left(t, x, y, z\\right) - \\alpha\\left(t, x\\right)^{2} C\\left(t, x, y, z\\right) + 2 \\, D\\left(t, x, y, z\\right) \\beta\\left(t, x\\right)^{2} - p\\left(t, x, y, z\\right) \\beta\\left(t, x\\right)^{2} + {\\left(\\alpha\\left(t, x\\right)^{2} - \\beta\\left(t, x\\right)^{2}\\right)} A\\left(t, x, y, z\\right) - \\rho\\left(t, x, y, z\\right)}{2 \\, \\alpha\\left(t, x\\right)^{2}} \\end{array}$$"
      ],
      "text/plain": [
       "T_tt = 1/2*((alpha(t, x)^4 - 2*alpha(t, x)^2*shift(t, x)^2 + shift(t, x)^4)*a(t, x, y, z) + (alpha(t, x)^4 - alpha(t, x)^2*shift(t, x)^2)*b(t, x, y, z) + (alpha(t, x)^4 - alpha(t, x)^2*shift(t, x)^2)*c(t, x, y, z) + 2*(alpha(t, x)^2*shift(t, x)^2 - shift(t, x)^4)*d(t, x, y, z) + (alpha(t, x)^2*shift(t, x)^2 + shift(t, x)^4)*p(t, x, y, z) + (alpha(t, x)^2 + shift(t, x)^2)*rho(t, x, y, z))/alpha(t, x)^2 \n",
       "T_tx = 1/2*(alpha(t, x)^2*b(t, x, y, z)*shift(t, x) + alpha(t, x)^2*c(t, x, y, z)*shift(t, x) - p(t, x, y, z)*shift(t, x)^3 + (alpha(t, x)^2*shift(t, x) - shift(t, x)^3)*a(t, x, y, z) - 2*(alpha(t, x)^2*shift(t, x) - shift(t, x)^3)*d(t, x, y, z) - rho(t, x, y, z)*shift(t, x))/alpha(t, x)^2 \n",
       "T_xt = 1/2*(alpha(t, x)^2*b(t, x, y, z)*shift(t, x) + alpha(t, x)^2*c(t, x, y, z)*shift(t, x) - p(t, x, y, z)*shift(t, x)^3 + (alpha(t, x)^2*shift(t, x) - shift(t, x)^3)*a(t, x, y, z) - 2*(alpha(t, x)^2*shift(t, x) - shift(t, x)^3)*d(t, x, y, z) - rho(t, x, y, z)*shift(t, x))/alpha(t, x)^2 \n",
       "T_xx = -1/2*(alpha(t, x)^2*b(t, x, y, z) + alpha(t, x)^2*c(t, x, y, z) + 2*d(t, x, y, z)*shift(t, x)^2 - p(t, x, y, z)*shift(t, x)^2 - (alpha(t, x)^2 + shift(t, x)^2)*a(t, x, y, z) - rho(t, x, y, z))/alpha(t, x)^2 \n",
       "T_yy = 1/2*(alpha(t, x)^2*b(t, x, y, z) - alpha(t, x)^2*c(t, x, y, z) - 2*d(t, x, y, z)*shift(t, x)^2 + p(t, x, y, z)*shift(t, x)^2 - (alpha(t, x)^2 - shift(t, x)^2)*a(t, x, y, z) + rho(t, x, y, z))/alpha(t, x)^2 \n",
       "T_zz = -1/2*(alpha(t, x)^2*b(t, x, y, z) - alpha(t, x)^2*c(t, x, y, z) + 2*d(t, x, y, z)*shift(t, x)^2 - p(t, x, y, z)*shift(t, x)^2 + (alpha(t, x)^2 - shift(t, x)^2)*a(t, x, y, z) - rho(t, x, y, z))/alpha(t, x)^2 "
      ]
     },
     "execution_count": 69,
     "metadata": {},
     "output_type": "execute_result"
    }
   ],
   "source": [
    "t5.display_comp()"
   ]
  },
  {
   "cell_type": "code",
   "execution_count": 70,
   "metadata": {},
   "outputs": [
    {
     "name": "stdout",
     "output_type": "stream",
     "text": [
      "Scalar field on the 4-dimensional Lorentzian manifold M\n"
     ]
    },
    {
     "data": {
      "text/html": [
       "<html><script type=\"math/tex; mode=display\">\\newcommand{\\Bold}[1]{\\mathbf{#1}}\\begin{array}{llcl} & M & \\longrightarrow & \\mathbb{R} \\\\ & \\left(t, x, y, z\\right) & \\longmapsto & \\frac{\\alpha\\left(t, x\\right)^{2} B\\left(t, x, y, z\\right) + \\alpha\\left(t, x\\right)^{2} C\\left(t, x, y, z\\right) + 2 \\, D\\left(t, x, y, z\\right) \\beta\\left(t, x\\right)^{2} - p\\left(t, x, y, z\\right) \\beta\\left(t, x\\right)^{2} + {\\left(\\alpha\\left(t, x\\right)^{2} - \\beta\\left(t, x\\right)^{2}\\right)} A\\left(t, x, y, z\\right) - \\rho\\left(t, x, y, z\\right)}{\\alpha\\left(t, x\\right)^{2}} \\end{array}</script></html>"
      ],
      "text/latex": [
       "$$\\newcommand{\\Bold}[1]{\\mathbf{#1}}\\begin{array}{llcl} & M & \\longrightarrow & \\mathbb{R} \\\\ & \\left(t, x, y, z\\right) & \\longmapsto & \\frac{\\alpha\\left(t, x\\right)^{2} B\\left(t, x, y, z\\right) + \\alpha\\left(t, x\\right)^{2} C\\left(t, x, y, z\\right) + 2 \\, D\\left(t, x, y, z\\right) \\beta\\left(t, x\\right)^{2} - p\\left(t, x, y, z\\right) \\beta\\left(t, x\\right)^{2} + {\\left(\\alpha\\left(t, x\\right)^{2} - \\beta\\left(t, x\\right)^{2}\\right)} A\\left(t, x, y, z\\right) - \\rho\\left(t, x, y, z\\right)}{\\alpha\\left(t, x\\right)^{2}} \\end{array}$$"
      ],
      "text/plain": [
       "M --> R\n",
       "(t, x, y, z) |--> (alpha(t, x)^2*b(t, x, y, z) + alpha(t, x)^2*c(t, x, y, z) + 2*d(t, x, y, z)*shift(t, x)^2 - p(t, x, y, z)*shift(t, x)^2 + (alpha(t, x)^2 - shift(t, x)^2)*a(t, x, y, z) - rho(t, x, y, z))/alpha(t, x)^2"
      ]
     },
     "execution_count": 70,
     "metadata": {},
     "output_type": "execute_result"
    }
   ],
   "source": [
    "print(t_scalar)\n",
    "t_scalar.display()"
   ]
  },
  {
   "cell_type": "markdown",
   "metadata": {},
   "source": [
    "## 5.3. Null Energy Condition\n",
    "\n",
    "These are satisfied in the limit of null observers. For the null vector\n",
    "$\\textbf{k}$, the EMT satisfies\n",
    "\n",
    "\\begin{equation}\n",
    "T_{\\alpha \\sigma} \\, k^\\alpha k^\\sigma \\geq 0, \\ \\text{for any null vector} \n",
    "\\ k^\\alpha.\n",
    "\\end{equation}\n",
    "\n",
    "Let us now suppose the following null vector $k^\\alpha$,\n",
    "\n",
    "\\begin{equation}\n",
    "k^\\alpha = (a,b,0,0),    \n",
    "\\end{equation}\n",
    "\n",
    "and the covector $k_\\alpha$ is given by the following expression\n",
    "\n",
    "\\begin{equation}\n",
    "k_\\alpha  = g_{\\alpha \\sigma}k^\\sigma = (a \\beta^2 - b \\beta - a, \\, a - b \\beta, \\, 0, \\,0).  \n",
    "\\end{equation}\n",
    "\n",
    "The relation between $a$ and $b$ can be obtained by imposing the condition of orthogonality between the two 4-vectors, which means $k_\\alpha k^\\alpha = 0$ given by\n",
    "\n",
    "\\begin{equation}\n",
    "a^2  \\beta^2 - 2 a b \\beta - a^2 + b^2 = 0.\n",
    "\\end{equation}\n",
    "\n",
    "Solving the above expression for $a$ as a quadratic equation gives\n",
    "\n",
    "\\begin{equation}\n",
    "a = \\frac{b}{\\beta + 1} \\ \\ , \\ \\ a = \\frac{b}{\\beta - 1}.\n",
    "\\end{equation}"
   ]
  },
  {
   "cell_type": "code",
   "execution_count": 71,
   "metadata": {},
   "outputs": [
    {
     "data": {
      "text/html": [
       "<html><script type=\"math/tex; mode=display\">\\newcommand{\\Bold}[1]{\\mathbf{#1}}\\begin{array}{llcl} & M & \\longrightarrow & \\mathbb{R} \\\\ & \\left(t, x, y, z\\right) & \\longmapsto & {k_0}^{2} p\\left(t, x, y, z\\right) \\beta\\left(t, x\\right)^{2} - 2 \\, {k_0} {k_1} D\\left(t, x, y, z\\right) \\beta\\left(t, x\\right) + {k_1}^{2} A\\left(t, x, y, z\\right) + {k_0}^{2} \\rho\\left(t, x, y, z\\right) \\end{array}</script></html>"
      ],
      "text/latex": [
       "$$\\newcommand{\\Bold}[1]{\\mathbf{#1}}\\begin{array}{llcl} & M & \\longrightarrow & \\mathbb{R} \\\\ & \\left(t, x, y, z\\right) & \\longmapsto & {k_0}^{2} p\\left(t, x, y, z\\right) \\beta\\left(t, x\\right)^{2} - 2 \\, {k_0} {k_1} D\\left(t, x, y, z\\right) \\beta\\left(t, x\\right) + {k_1}^{2} A\\left(t, x, y, z\\right) + {k_0}^{2} \\rho\\left(t, x, y, z\\right) \\end{array}$$"
      ],
      "text/plain": [
       "M --> R\n",
       "(t, x, y, z) |--> k0^2*p(t, x, y, z)*shift(t, x)^2 - 2*k0*k1*d(t, x, y, z)*shift(t, x) + k1^2*a(t, x, y, z) + k0^2*rho(t, x, y, z)"
      ]
     },
     "execution_count": 71,
     "metadata": {},
     "output_type": "execute_result"
    }
   ],
   "source": [
    "# Null Energy Condition\n",
    "# u is (1,0)\n",
    "# u_form is (0,1)\n",
    "# t1 = u*u\n",
    "# t2 = G.contract(0,1, t1,0,1)\n",
    "# t3 = t_dust_pf\n",
    "# t4 = mu*(u * u) + (p + rho)*(u * u) + p*gg\n",
    "# t_dust_pf = (p + rho)*(u_form * u_form) + p*g\n",
    "# k0 and k1 are components of the vector field k\n",
    "k0 = var('k0',latex_name=\"k_0\")\n",
    "k1 = var('k1',latex_name=\"k_1\")\n",
    "# k is a vector field\n",
    "k = M.vector_field('k')\n",
    "k[0] = k0\n",
    "k[1] = k1\n",
    "# kcon is a covariant vector or a 1-form\n",
    "kcon = k.down(g)\n",
    "kcon.set_name('k')\n",
    "# kkcon is a scalar field on M\n",
    "kkcon = k.contract(0,kcon)\n",
    "kkcon.display()\n",
    "#\n",
    "t6 = k * k\n",
    "nec = t3.contract(0,1,t6,0,1)\n",
    "nec.display()"
   ]
  },
  {
   "cell_type": "markdown",
   "metadata": {},
   "source": [
    "## Defining the (contravariant) 4-vector k^j = (a,b,0,0)"
   ]
  },
  {
   "cell_type": "code",
   "execution_count": 72,
   "metadata": {},
   "outputs": [
    {
     "name": "stdout",
     "output_type": "stream",
     "text": [
      "Vector field k on the 4-dimensional Lorentzian manifold M\n",
      "(1, 0)\n"
     ]
    },
    {
     "data": {
      "text/html": [
       "<html><script type=\"math/tex; mode=display\">\\newcommand{\\Bold}[1]{\\mathbf{#1}}\\begin{array}{lcl} k_{\\phantom{\\, t}}^{ \\, t } & = & {k_0} \\\\ k_{\\phantom{\\, x}}^{ \\, x } & = & {k_1} \\end{array}</script></html>"
      ],
      "text/latex": [
       "$$\\newcommand{\\Bold}[1]{\\mathbf{#1}}\\begin{array}{lcl} k_{\\phantom{\\, t}}^{ \\, t } & = & {k_0} \\\\ k_{\\phantom{\\, x}}^{ \\, x } & = & {k_1} \\end{array}$$"
      ],
      "text/plain": [
       "k^t = k0 \n",
       "k^x = k1 "
      ]
     },
     "execution_count": 72,
     "metadata": {},
     "output_type": "execute_result"
    }
   ],
   "source": [
    "print(k)\n",
    "print(k.tensor_type())\n",
    "k.display_comp()"
   ]
  },
  {
   "cell_type": "markdown",
   "metadata": {},
   "source": [
    "## Calculating the covector (1-form) k_j"
   ]
  },
  {
   "cell_type": "code",
   "execution_count": 73,
   "metadata": {},
   "outputs": [
    {
     "name": "stdout",
     "output_type": "stream",
     "text": [
      "1-form k on the 4-dimensional Lorentzian manifold M\n",
      "(0, 1)\n"
     ]
    },
    {
     "data": {
      "text/html": [
       "<html><script type=\"math/tex; mode=display\">\\newcommand{\\Bold}[1]{\\mathbf{#1}}\\begin{array}{lcl} k_{ \\, t }^{ \\phantom{\\, t} } & = & -{k_0} \\alpha\\left(t, x\\right)^{2} + {k_0} \\beta\\left(t, x\\right)^{2} - {k_1} \\beta\\left(t, x\\right) \\\\ k_{ \\, x }^{ \\phantom{\\, x} } & = & -{k_0} \\beta\\left(t, x\\right) + {k_1} \\end{array}</script></html>"
      ],
      "text/latex": [
       "$$\\newcommand{\\Bold}[1]{\\mathbf{#1}}\\begin{array}{lcl} k_{ \\, t }^{ \\phantom{\\, t} } & = & -{k_0} \\alpha\\left(t, x\\right)^{2} + {k_0} \\beta\\left(t, x\\right)^{2} - {k_1} \\beta\\left(t, x\\right) \\\\ k_{ \\, x }^{ \\phantom{\\, x} } & = & -{k_0} \\beta\\left(t, x\\right) + {k_1} \\end{array}$$"
      ],
      "text/plain": [
       "k_t = -k0*alpha(t, x)^2 + k0*shift(t, x)^2 - k1*shift(t, x) \n",
       "k_x = -k0*shift(t, x) + k1 "
      ]
     },
     "execution_count": 73,
     "metadata": {},
     "output_type": "execute_result"
    }
   ],
   "source": [
    "print(kcon)\n",
    "print(kcon.tensor_type())\n",
    "kcon.display_comp()"
   ]
  },
  {
   "cell_type": "markdown",
   "metadata": {},
   "source": [
    "## Calculating the scalar k^a k_a "
   ]
  },
  {
   "cell_type": "code",
   "execution_count": 74,
   "metadata": {},
   "outputs": [
    {
     "name": "stdout",
     "output_type": "stream",
     "text": [
      "Scalar field on the 4-dimensional Lorentzian manifold M\n"
     ]
    },
    {
     "data": {
      "text/html": [
       "<html><script type=\"math/tex; mode=display\">\\newcommand{\\Bold}[1]{\\mathbf{#1}}\\begin{array}{llcl} & M & \\longrightarrow & \\mathbb{R} \\\\ & \\left(t, x, y, z\\right) & \\longmapsto & -{k_0}^{2} \\alpha\\left(t, x\\right)^{2} + {k_0}^{2} \\beta\\left(t, x\\right)^{2} - 2 \\, {k_0} {k_1} \\beta\\left(t, x\\right) + {k_1}^{2} \\end{array}</script></html>"
      ],
      "text/latex": [
       "$$\\newcommand{\\Bold}[1]{\\mathbf{#1}}\\begin{array}{llcl} & M & \\longrightarrow & \\mathbb{R} \\\\ & \\left(t, x, y, z\\right) & \\longmapsto & -{k_0}^{2} \\alpha\\left(t, x\\right)^{2} + {k_0}^{2} \\beta\\left(t, x\\right)^{2} - 2 \\, {k_0} {k_1} \\beta\\left(t, x\\right) + {k_1}^{2} \\end{array}$$"
      ],
      "text/plain": [
       "M --> R\n",
       "(t, x, y, z) |--> -k0^2*alpha(t, x)^2 + k0^2*shift(t, x)^2 - 2*k0*k1*shift(t, x) + k1^2"
      ]
     },
     "execution_count": 74,
     "metadata": {},
     "output_type": "execute_result"
    }
   ],
   "source": [
    "print(kkcon)\n",
    "kkcon.display()"
   ]
  },
  {
   "cell_type": "markdown",
   "metadata": {},
   "source": [
    "## Solving the equation k^a k_a = 0"
   ]
  },
  {
   "cell_type": "code",
   "execution_count": 75,
   "metadata": {},
   "outputs": [
    {
     "data": {
      "text/html": [
       "<html><script type=\"math/tex; mode=display\">\\newcommand{\\Bold}[1]{\\mathbf{#1}}{k_0}^{2} \\beta\\left(t, x\\right)^{2} - 2 \\, {k_0} {k_1} \\beta\\left(t, x\\right) - {k_0}^{2} + {k_1}^{2}</script></html>"
      ],
      "text/latex": [
       "$$\\newcommand{\\Bold}[1]{\\mathbf{#1}}{k_0}^{2} \\beta\\left(t, x\\right)^{2} - 2 \\, {k_0} {k_1} \\beta\\left(t, x\\right) - {k_0}^{2} + {k_1}^{2}$$"
      ],
      "text/plain": [
       "k0^2*shift(t, x)^2 - 2*k0*k1*shift(t, x) - k0^2 + k1^2"
      ]
     },
     "execution_count": 75,
     "metadata": {},
     "output_type": "execute_result"
    }
   ],
   "source": [
    "qe = k0**2 * shift**2 - 2 * k0 * k1 * shift - k0**2 + k1**2\n",
    "qe"
   ]
  },
  {
   "cell_type": "code",
   "execution_count": 76,
   "metadata": {},
   "outputs": [
    {
     "data": {
      "text/html": [
       "<html><script type=\"math/tex; mode=display\">\\newcommand{\\Bold}[1]{\\mathbf{#1}}\\left[{k_0} = \\frac{{k_1}}{\\beta\\left(t, x\\right) + 1}, {k_0} = \\frac{{k_1}}{\\beta\\left(t, x\\right) - 1}\\right]</script></html>"
      ],
      "text/latex": [
       "$$\\newcommand{\\Bold}[1]{\\mathbf{#1}}\\left[{k_0} = \\frac{{k_1}}{\\beta\\left(t, x\\right) + 1}, {k_0} = \\frac{{k_1}}{\\beta\\left(t, x\\right) - 1}\\right]$$"
      ],
      "text/plain": [
       "[k0 == k1/(shift(t, x) + 1), k0 == k1/(shift(t, x) - 1)]"
      ]
     },
     "execution_count": 76,
     "metadata": {},
     "output_type": "execute_result"
    }
   ],
   "source": [
    "solve(qe, k0)"
   ]
  },
  {
   "cell_type": "code",
   "execution_count": null,
   "metadata": {},
   "outputs": [],
   "source": []
  }
 ],
 "metadata": {
  "kernelspec": {
   "display_name": "SageMath 9.3",
   "language": "sage",
   "name": "sagemath"
  },
  "language_info": {
   "codemirror_mode": {
    "name": "ipython",
    "version": 3
   },
   "file_extension": ".py",
   "mimetype": "text/x-python",
   "name": "python",
   "nbconvert_exporter": "python",
   "pygments_lexer": "ipython3",
   "version": "3.7.10"
  }
 },
 "nbformat": 4,
 "nbformat_minor": 2
}
