{
 "cells": [
  {
   "cell_type": "code",
   "execution_count": 1,
   "metadata": {},
   "outputs": [],
   "source": [
    "%display latex\n",
    "# Defining a Lorentzian manifold\n",
    "M = Manifold(4, 'M', structure='Lorentzian')\n",
    "# Defining the chart\n",
    "X.<t,x,y,z> = M.chart(r\"t x:(-oo,+oo) y:(-oo,+oo) z:(-oo,+oo)\");\n",
    "# Defining shift vector as a function of spacetime coordinates\n",
    "shiftx = function('shiftx', latex_name = \"\\\\beta_x\", nargs=4)(t,x,y,z)\n",
    "shifty = function('shifty', latex_name = \"\\\\beta_y\", nargs=4)(t,x,y,z)\n",
    "shiftz = function('shiftz', latex_name = \"\\\\beta_z\", nargs=4)(t,x,y,z)\n",
    "# Defining the alpha lapse function as a function of spacetime coordinates\n",
    "alpha = function('alpha', latex_name = \"\\\\alpha\", nargs=2)(t,x)\n",
    "# defining the cosmological constant\n",
    "cosmo = var('cosmo',latex_name=\"\\\\Lambda\")\n",
    "# Defining function with alias a, as function of spacetime coordinates\n",
    "a = function('a',latex_name= \"A\", nargs=4)(t,x,y,z)\n",
    "# Defining function with alias b, as function of spacetime coordinates\n",
    "b = function('b',latex_name= \"B\", nargs=4)(t,x,y,z)\n",
    "# Defining function with alias c, as function of spacetime coordinates\n",
    "c = function('c',latex_name= \"C\", nargs=4)(t,x,y,z)\n",
    "# Defining function with alias d, as function of spacetime coordinates\n",
    "d = function('d',latex_name= \"D\", nargs=4)(t,x,y,z)\n",
    "# Defining pressure as function of spacetime coordinates\n",
    "p = function('p',latex_name= \"p\", nargs=4)(t,x,y,z)\n",
    "# Defining matter density as function of spacetime coordinates\n",
    "mu = function('mu',latex_name= \"\\\\mu\", nargs=4)(t,x,y,z)\n",
    "# Defining density rho as function of spacetime coordinates\n",
    "rho = function('rho',latex_name=\"\\\\rho\")(t,x,y,z)\n",
    "# Defining variable named sigma\n",
    "sigma = var('sigma',latex_name=\"\\\\sigma\")\n",
    "R = var('R',latex_name=\"R\")\n",
    "#\n",
    "xs = function('xs',latex_name = \"x_s\")(t)\n",
    "rs = function('rs',latex_name = \"r_s\")(xs,x,y,z)\n",
    "rs = sqrt((x-xs)^2+y^2+z^2)\n",
    "vs = function('vs',latex_name=\"v_s\")(t)\n",
    "#\n",
    "fs = function('fs',latex_name=\"f(r_s)\")(rs)\n",
    "fs = (tanh(sigma(rs+R)) - tanh(sigma(rs-R)))/(2*sigma)\n",
    "# Defining the metric tensor components\n",
    "g = M.metric()\n",
    "g.set_name('g')\n",
    "# g = M.tensor_field(2,0, name='T');\n",
    "g[0,0] =  -1 + shiftx**2 \n",
    "g[1,1] = 1\n",
    "g[2,2] = 1\n",
    "g[3,3] = 1 \n",
    "g[0,1] = -shiftx\n",
    "g[1,0] = -shiftx\n",
    "# Defining the inverse metric\n",
    "gg = g.up(g)\n",
    "gg.set_name('g')\n",
    "# Defining the 4-velocity as a vector field\n",
    "u = M.vector_field('u')\n",
    "u[0] = 1\n",
    "u[1] = shiftx\n",
    "u[2] = 0\n",
    "u[3] = 0\n",
    "# Defining the covariant 4-velocity\n",
    "u_form = u.down(g)\n",
    "u_form.set_name('u')\n",
    "# Defining the energy momentum tensor\n",
    "t_dust_pf = M.tensor_field(0,2, name='T');\n",
    "t_dust_pf = (p + rho)*(u_form * u_form) + p*g\n",
    "t_dust_pf.set_name('T')"
   ]
  },
  {
   "cell_type": "markdown",
   "metadata": {},
   "source": [
    "# Tensor components and calculations"
   ]
  },
  {
   "cell_type": "markdown",
   "metadata": {},
   "source": [
    "\\begin{equation*}\n",
    "g_{\\alpha \\sigma} = \n",
    "\\begin{pmatrix}\n",
    "g_{00} & g_{01} & g_{02} & g_{03} \\\\\n",
    "g_{10} & g_{11} & g_{12} & g_{13} \\\\\n",
    "g_{20} & g_{21} & g_{22} & g_{23}  \\\\\n",
    "g_{30} & g_{31} & g_{32} & g_{33} \n",
    "\\end{pmatrix} =\n",
    "\\begin{pmatrix}\n",
    "\\beta^2-1 & -\\beta & 0 & 0 \\\\\n",
    "-\\beta    & 1      & 0 & 0 \\\\\n",
    "0         & 0      & 1 & 0  \\\\\n",
    "0         & 0      & 0 & 1 \n",
    "\\end{pmatrix}\n",
    "\\end{equation*}"
   ]
  },
  {
   "cell_type": "code",
   "execution_count": 34,
   "metadata": {
    "scrolled": true
   },
   "outputs": [
    {
     "name": "stdout",
     "output_type": "stream",
     "text": [
      "Lorentzian metric g on the 4-dimensional Lorentzian manifold M\n",
      "(0, 2)\n"
     ]
    },
    {
     "data": {
      "text/html": [
       "<html><script type=\"math/tex; mode=display\">\\newcommand{\\Bold}[1]{\\mathbf{#1}}\\begin{array}{lcl} g_{ \\, t \\, t }^{ \\phantom{\\, t}\\phantom{\\, t} } & = & \\beta_x\\left(t, x, y, z\\right)^{2} - 1 \\\\ g_{ \\, t \\, x }^{ \\phantom{\\, t}\\phantom{\\, x} } & = & -\\beta_x\\left(t, x, y, z\\right) \\\\ g_{ \\, x \\, t }^{ \\phantom{\\, x}\\phantom{\\, t} } & = & -\\beta_x\\left(t, x, y, z\\right) \\\\ g_{ \\, x \\, x }^{ \\phantom{\\, x}\\phantom{\\, x} } & = & 1 \\\\ g_{ \\, y \\, y }^{ \\phantom{\\, y}\\phantom{\\, y} } & = & 1 \\\\ g_{ \\, z \\, z }^{ \\phantom{\\, z}\\phantom{\\, z} } & = & 1 \\end{array}</script></html>"
      ],
      "text/latex": [
       "$$\\newcommand{\\Bold}[1]{\\mathbf{#1}}\\begin{array}{lcl} g_{ \\, t \\, t }^{ \\phantom{\\, t}\\phantom{\\, t} } & = & \\beta_x\\left(t, x, y, z\\right)^{2} - 1 \\\\ g_{ \\, t \\, x }^{ \\phantom{\\, t}\\phantom{\\, x} } & = & -\\beta_x\\left(t, x, y, z\\right) \\\\ g_{ \\, x \\, t }^{ \\phantom{\\, x}\\phantom{\\, t} } & = & -\\beta_x\\left(t, x, y, z\\right) \\\\ g_{ \\, x \\, x }^{ \\phantom{\\, x}\\phantom{\\, x} } & = & 1 \\\\ g_{ \\, y \\, y }^{ \\phantom{\\, y}\\phantom{\\, y} } & = & 1 \\\\ g_{ \\, z \\, z }^{ \\phantom{\\, z}\\phantom{\\, z} } & = & 1 \\end{array}$$"
      ],
      "text/plain": [
       "g_tt = shiftx(t, x, y, z)^2 - 1 \n",
       "g_tx = -shiftx(t, x, y, z) \n",
       "g_xt = -shiftx(t, x, y, z) \n",
       "g_xx = 1 \n",
       "g_yy = 1 \n",
       "g_zz = 1 "
      ]
     },
     "execution_count": 34,
     "metadata": {},
     "output_type": "execute_result"
    }
   ],
   "source": [
    "print(g)\n",
    "print(g.tensor_type())\n",
    "g.display_comp()"
   ]
  },
  {
   "cell_type": "markdown",
   "metadata": {},
   "source": [
    "# Metric tensor components (contravariant)"
   ]
  },
  {
   "cell_type": "code",
   "execution_count": 3,
   "metadata": {},
   "outputs": [
    {
     "name": "stdout",
     "output_type": "stream",
     "text": [
      "Tensor field g of type (2,0) on the 4-dimensional Lorentzian manifold M\n"
     ]
    },
    {
     "data": {
      "text/html": [
       "<html><script type=\"math/tex; mode=display\">\\newcommand{\\Bold}[1]{\\mathbf{#1}}\\begin{array}{lcl} g_{\\phantom{\\, t}\\phantom{\\, t}}^{ \\, t \\, t } & = & -1 \\\\ g_{\\phantom{\\, t}\\phantom{\\, x}}^{ \\, t \\, x } & = & -\\beta_x\\left(t, x, y, z\\right) \\\\ g_{\\phantom{\\, x}\\phantom{\\, t}}^{ \\, x \\, t } & = & -\\beta_x\\left(t, x, y, z\\right) \\\\ g_{\\phantom{\\, x}\\phantom{\\, x}}^{ \\, x \\, x } & = & -\\beta_x\\left(t, x, y, z\\right)^{2} + 1 \\\\ g_{\\phantom{\\, y}\\phantom{\\, y}}^{ \\, y \\, y } & = & 1 \\\\ g_{\\phantom{\\, z}\\phantom{\\, z}}^{ \\, z \\, z } & = & 1 \\end{array}</script></html>"
      ],
      "text/latex": [
       "$$\\newcommand{\\Bold}[1]{\\mathbf{#1}}\\begin{array}{lcl} g_{\\phantom{\\, t}\\phantom{\\, t}}^{ \\, t \\, t } & = & -1 \\\\ g_{\\phantom{\\, t}\\phantom{\\, x}}^{ \\, t \\, x } & = & -\\beta_x\\left(t, x, y, z\\right) \\\\ g_{\\phantom{\\, x}\\phantom{\\, t}}^{ \\, x \\, t } & = & -\\beta_x\\left(t, x, y, z\\right) \\\\ g_{\\phantom{\\, x}\\phantom{\\, x}}^{ \\, x \\, x } & = & -\\beta_x\\left(t, x, y, z\\right)^{2} + 1 \\\\ g_{\\phantom{\\, y}\\phantom{\\, y}}^{ \\, y \\, y } & = & 1 \\\\ g_{\\phantom{\\, z}\\phantom{\\, z}}^{ \\, z \\, z } & = & 1 \\end{array}$$"
      ],
      "text/plain": [
       "g^tt = -1 \n",
       "g^tx = -shiftx(t, x, y, z) \n",
       "g^xt = -shiftx(t, x, y, z) \n",
       "g^xx = -shiftx(t, x, y, z)^2 + 1 \n",
       "g^yy = 1 \n",
       "g^zz = 1 "
      ]
     },
     "execution_count": 3,
     "metadata": {},
     "output_type": "execute_result"
    }
   ],
   "source": [
    "print(gg)\n",
    "gg.display_comp()"
   ]
  },
  {
   "cell_type": "markdown",
   "metadata": {},
   "source": [
    "# Christoffel Symbols"
   ]
  },
  {
   "cell_type": "code",
   "execution_count": 4,
   "metadata": {},
   "outputs": [
    {
     "data": {
      "text/html": [
       "<html><script type=\"math/tex; mode=display\">\\newcommand{\\Bold}[1]{\\mathbf{#1}}\\begin{array}{lcl} \\Gamma_{ \\phantom{\\, t} \\, t \\, t }^{ \\, t \\phantom{\\, t} \\phantom{\\, t} } & = & \\beta_x\\left(t, x, y, z\\right)^{2} \\frac{\\partial\\,\\beta_x}{\\partial x} \\\\ \\Gamma_{ \\phantom{\\, t} \\, t \\, x }^{ \\, t \\phantom{\\, t} \\phantom{\\, x} } & = & -\\beta_x\\left(t, x, y, z\\right) \\frac{\\partial\\,\\beta_x}{\\partial x} \\\\ \\Gamma_{ \\phantom{\\, t} \\, t \\, y }^{ \\, t \\phantom{\\, t} \\phantom{\\, y} } & = & -\\frac{1}{2} \\, \\beta_x\\left(t, x, y, z\\right) \\frac{\\partial\\,\\beta_x}{\\partial y} \\\\ \\Gamma_{ \\phantom{\\, t} \\, t \\, z }^{ \\, t \\phantom{\\, t} \\phantom{\\, z} } & = & -\\frac{1}{2} \\, \\beta_x\\left(t, x, y, z\\right) \\frac{\\partial\\,\\beta_x}{\\partial z} \\\\ \\Gamma_{ \\phantom{\\, t} \\, x \\, x }^{ \\, t \\phantom{\\, x} \\phantom{\\, x} } & = & \\frac{\\partial\\,\\beta_x}{\\partial x} \\\\ \\Gamma_{ \\phantom{\\, t} \\, x \\, y }^{ \\, t \\phantom{\\, x} \\phantom{\\, y} } & = & \\frac{1}{2} \\, \\frac{\\partial\\,\\beta_x}{\\partial y} \\\\ \\Gamma_{ \\phantom{\\, t} \\, x \\, z }^{ \\, t \\phantom{\\, x} \\phantom{\\, z} } & = & \\frac{1}{2} \\, \\frac{\\partial\\,\\beta_x}{\\partial z} \\\\ \\Gamma_{ \\phantom{\\, x} \\, t \\, t }^{ \\, x \\phantom{\\, t} \\phantom{\\, t} } & = & {\\left(\\beta_x\\left(t, x, y, z\\right)^{3} - \\beta_x\\left(t, x, y, z\\right)\\right)} \\frac{\\partial\\,\\beta_x}{\\partial x} - \\frac{\\partial\\,\\beta_x}{\\partial t} \\\\ \\Gamma_{ \\phantom{\\, x} \\, t \\, x }^{ \\, x \\phantom{\\, t} \\phantom{\\, x} } & = & -\\beta_x\\left(t, x, y, z\\right)^{2} \\frac{\\partial\\,\\beta_x}{\\partial x} \\\\ \\Gamma_{ \\phantom{\\, x} \\, t \\, y }^{ \\, x \\phantom{\\, t} \\phantom{\\, y} } & = & -\\frac{1}{2} \\, {\\left(\\beta_x\\left(t, x, y, z\\right)^{2} + 1\\right)} \\frac{\\partial\\,\\beta_x}{\\partial y} \\\\ \\Gamma_{ \\phantom{\\, x} \\, t \\, z }^{ \\, x \\phantom{\\, t} \\phantom{\\, z} } & = & -\\frac{1}{2} \\, {\\left(\\beta_x\\left(t, x, y, z\\right)^{2} + 1\\right)} \\frac{\\partial\\,\\beta_x}{\\partial z} \\\\ \\Gamma_{ \\phantom{\\, x} \\, x \\, x }^{ \\, x \\phantom{\\, x} \\phantom{\\, x} } & = & \\beta_x\\left(t, x, y, z\\right) \\frac{\\partial\\,\\beta_x}{\\partial x} \\\\ \\Gamma_{ \\phantom{\\, x} \\, x \\, y }^{ \\, x \\phantom{\\, x} \\phantom{\\, y} } & = & \\frac{1}{2} \\, \\beta_x\\left(t, x, y, z\\right) \\frac{\\partial\\,\\beta_x}{\\partial y} \\\\ \\Gamma_{ \\phantom{\\, x} \\, x \\, z }^{ \\, x \\phantom{\\, x} \\phantom{\\, z} } & = & \\frac{1}{2} \\, \\beta_x\\left(t, x, y, z\\right) \\frac{\\partial\\,\\beta_x}{\\partial z} \\\\ \\Gamma_{ \\phantom{\\, y} \\, t \\, t }^{ \\, y \\phantom{\\, t} \\phantom{\\, t} } & = & -\\beta_x\\left(t, x, y, z\\right) \\frac{\\partial\\,\\beta_x}{\\partial y} \\\\ \\Gamma_{ \\phantom{\\, y} \\, t \\, x }^{ \\, y \\phantom{\\, t} \\phantom{\\, x} } & = & \\frac{1}{2} \\, \\frac{\\partial\\,\\beta_x}{\\partial y} \\\\ \\Gamma_{ \\phantom{\\, z} \\, t \\, t }^{ \\, z \\phantom{\\, t} \\phantom{\\, t} } & = & -\\beta_x\\left(t, x, y, z\\right) \\frac{\\partial\\,\\beta_x}{\\partial z} \\\\ \\Gamma_{ \\phantom{\\, z} \\, t \\, x }^{ \\, z \\phantom{\\, t} \\phantom{\\, x} } & = & \\frac{1}{2} \\, \\frac{\\partial\\,\\beta_x}{\\partial z} \\end{array}</script></html>"
      ],
      "text/latex": [
       "$$\\newcommand{\\Bold}[1]{\\mathbf{#1}}\\begin{array}{lcl} \\Gamma_{ \\phantom{\\, t} \\, t \\, t }^{ \\, t \\phantom{\\, t} \\phantom{\\, t} } & = & \\beta_x\\left(t, x, y, z\\right)^{2} \\frac{\\partial\\,\\beta_x}{\\partial x} \\\\ \\Gamma_{ \\phantom{\\, t} \\, t \\, x }^{ \\, t \\phantom{\\, t} \\phantom{\\, x} } & = & -\\beta_x\\left(t, x, y, z\\right) \\frac{\\partial\\,\\beta_x}{\\partial x} \\\\ \\Gamma_{ \\phantom{\\, t} \\, t \\, y }^{ \\, t \\phantom{\\, t} \\phantom{\\, y} } & = & -\\frac{1}{2} \\, \\beta_x\\left(t, x, y, z\\right) \\frac{\\partial\\,\\beta_x}{\\partial y} \\\\ \\Gamma_{ \\phantom{\\, t} \\, t \\, z }^{ \\, t \\phantom{\\, t} \\phantom{\\, z} } & = & -\\frac{1}{2} \\, \\beta_x\\left(t, x, y, z\\right) \\frac{\\partial\\,\\beta_x}{\\partial z} \\\\ \\Gamma_{ \\phantom{\\, t} \\, x \\, x }^{ \\, t \\phantom{\\, x} \\phantom{\\, x} } & = & \\frac{\\partial\\,\\beta_x}{\\partial x} \\\\ \\Gamma_{ \\phantom{\\, t} \\, x \\, y }^{ \\, t \\phantom{\\, x} \\phantom{\\, y} } & = & \\frac{1}{2} \\, \\frac{\\partial\\,\\beta_x}{\\partial y} \\\\ \\Gamma_{ \\phantom{\\, t} \\, x \\, z }^{ \\, t \\phantom{\\, x} \\phantom{\\, z} } & = & \\frac{1}{2} \\, \\frac{\\partial\\,\\beta_x}{\\partial z} \\\\ \\Gamma_{ \\phantom{\\, x} \\, t \\, t }^{ \\, x \\phantom{\\, t} \\phantom{\\, t} } & = & {\\left(\\beta_x\\left(t, x, y, z\\right)^{3} - \\beta_x\\left(t, x, y, z\\right)\\right)} \\frac{\\partial\\,\\beta_x}{\\partial x} - \\frac{\\partial\\,\\beta_x}{\\partial t} \\\\ \\Gamma_{ \\phantom{\\, x} \\, t \\, x }^{ \\, x \\phantom{\\, t} \\phantom{\\, x} } & = & -\\beta_x\\left(t, x, y, z\\right)^{2} \\frac{\\partial\\,\\beta_x}{\\partial x} \\\\ \\Gamma_{ \\phantom{\\, x} \\, t \\, y }^{ \\, x \\phantom{\\, t} \\phantom{\\, y} } & = & -\\frac{1}{2} \\, {\\left(\\beta_x\\left(t, x, y, z\\right)^{2} + 1\\right)} \\frac{\\partial\\,\\beta_x}{\\partial y} \\\\ \\Gamma_{ \\phantom{\\, x} \\, t \\, z }^{ \\, x \\phantom{\\, t} \\phantom{\\, z} } & = & -\\frac{1}{2} \\, {\\left(\\beta_x\\left(t, x, y, z\\right)^{2} + 1\\right)} \\frac{\\partial\\,\\beta_x}{\\partial z} \\\\ \\Gamma_{ \\phantom{\\, x} \\, x \\, x }^{ \\, x \\phantom{\\, x} \\phantom{\\, x} } & = & \\beta_x\\left(t, x, y, z\\right) \\frac{\\partial\\,\\beta_x}{\\partial x} \\\\ \\Gamma_{ \\phantom{\\, x} \\, x \\, y }^{ \\, x \\phantom{\\, x} \\phantom{\\, y} } & = & \\frac{1}{2} \\, \\beta_x\\left(t, x, y, z\\right) \\frac{\\partial\\,\\beta_x}{\\partial y} \\\\ \\Gamma_{ \\phantom{\\, x} \\, x \\, z }^{ \\, x \\phantom{\\, x} \\phantom{\\, z} } & = & \\frac{1}{2} \\, \\beta_x\\left(t, x, y, z\\right) \\frac{\\partial\\,\\beta_x}{\\partial z} \\\\ \\Gamma_{ \\phantom{\\, y} \\, t \\, t }^{ \\, y \\phantom{\\, t} \\phantom{\\, t} } & = & -\\beta_x\\left(t, x, y, z\\right) \\frac{\\partial\\,\\beta_x}{\\partial y} \\\\ \\Gamma_{ \\phantom{\\, y} \\, t \\, x }^{ \\, y \\phantom{\\, t} \\phantom{\\, x} } & = & \\frac{1}{2} \\, \\frac{\\partial\\,\\beta_x}{\\partial y} \\\\ \\Gamma_{ \\phantom{\\, z} \\, t \\, t }^{ \\, z \\phantom{\\, t} \\phantom{\\, t} } & = & -\\beta_x\\left(t, x, y, z\\right) \\frac{\\partial\\,\\beta_x}{\\partial z} \\\\ \\Gamma_{ \\phantom{\\, z} \\, t \\, x }^{ \\, z \\phantom{\\, t} \\phantom{\\, x} } & = & \\frac{1}{2} \\, \\frac{\\partial\\,\\beta_x}{\\partial z} \\end{array}$$"
      ],
      "text/plain": [
       "Gam^t_tt = shiftx(t, x, y, z)^2*d(shiftx)/dx \n",
       "Gam^t_tx = -shiftx(t, x, y, z)*d(shiftx)/dx \n",
       "Gam^t_ty = -1/2*shiftx(t, x, y, z)*d(shiftx)/dy \n",
       "Gam^t_tz = -1/2*shiftx(t, x, y, z)*d(shiftx)/dz \n",
       "Gam^t_xx = d(shiftx)/dx \n",
       "Gam^t_xy = 1/2*d(shiftx)/dy \n",
       "Gam^t_xz = 1/2*d(shiftx)/dz \n",
       "Gam^x_tt = (shiftx(t, x, y, z)^3 - shiftx(t, x, y, z))*d(shiftx)/dx - d(shiftx)/dt \n",
       "Gam^x_tx = -shiftx(t, x, y, z)^2*d(shiftx)/dx \n",
       "Gam^x_ty = -1/2*(shiftx(t, x, y, z)^2 + 1)*d(shiftx)/dy \n",
       "Gam^x_tz = -1/2*(shiftx(t, x, y, z)^2 + 1)*d(shiftx)/dz \n",
       "Gam^x_xx = shiftx(t, x, y, z)*d(shiftx)/dx \n",
       "Gam^x_xy = 1/2*shiftx(t, x, y, z)*d(shiftx)/dy \n",
       "Gam^x_xz = 1/2*shiftx(t, x, y, z)*d(shiftx)/dz \n",
       "Gam^y_tt = -shiftx(t, x, y, z)*d(shiftx)/dy \n",
       "Gam^y_tx = 1/2*d(shiftx)/dy \n",
       "Gam^z_tt = -shiftx(t, x, y, z)*d(shiftx)/dz \n",
       "Gam^z_tx = 1/2*d(shiftx)/dz "
      ]
     },
     "execution_count": 4,
     "metadata": {},
     "output_type": "execute_result"
    }
   ],
   "source": [
    "# Show Christoffel symbols\n",
    "g.christoffel_symbols_display()"
   ]
  },
  {
   "cell_type": "markdown",
   "metadata": {},
   "source": [
    "# Ricci tensor and Ricci scalar"
   ]
  },
  {
   "cell_type": "code",
   "execution_count": 5,
   "metadata": {},
   "outputs": [
    {
     "data": {
      "text/html": [
       "<html><script type=\"math/tex; mode=display\">\\newcommand{\\Bold}[1]{\\mathbf{#1}}\\begin{array}{lcl} \\mathrm{Ric}\\left(g\\right)_{ \\, t \\, t }^{ \\phantom{\\, t}\\phantom{\\, t} } & = & {\\left(\\beta_x\\left(t, x, y, z\\right)^{2} - 1\\right)} \\left(\\frac{\\partial\\,\\beta_x}{\\partial x}\\right)^{2} - \\frac{1}{2} \\, {\\left(\\beta_x\\left(t, x, y, z\\right)^{2} + 1\\right)} \\left(\\frac{\\partial\\,\\beta_x}{\\partial y}\\right)^{2} - \\frac{1}{2} \\, {\\left(\\beta_x\\left(t, x, y, z\\right)^{2} + 1\\right)} \\left(\\frac{\\partial\\,\\beta_x}{\\partial z}\\right)^{2} + {\\left(\\beta_x\\left(t, x, y, z\\right)^{2} - 1\\right)} \\frac{\\partial^2\\,\\beta_x}{\\partial t\\partial x} + {\\left(\\beta_x\\left(t, x, y, z\\right)^{3} - \\beta_x\\left(t, x, y, z\\right)\\right)} \\frac{\\partial^2\\,\\beta_x}{\\partial x ^ 2} - \\beta_x\\left(t, x, y, z\\right) \\frac{\\partial^2\\,\\beta_x}{\\partial y ^ 2} - \\beta_x\\left(t, x, y, z\\right) \\frac{\\partial^2\\,\\beta_x}{\\partial z ^ 2} \\\\ \\mathrm{Ric}\\left(g\\right)_{ \\, t \\, x }^{ \\phantom{\\, t}\\phantom{\\, x} } & = & -\\beta_x\\left(t, x, y, z\\right) \\left(\\frac{\\partial\\,\\beta_x}{\\partial x}\\right)^{2} - \\beta_x\\left(t, x, y, z\\right)^{2} \\frac{\\partial^2\\,\\beta_x}{\\partial x ^ 2} + \\frac{1}{2} \\, \\beta_x\\left(t, x, y, z\\right) \\left(\\frac{\\partial\\,\\beta_x}{\\partial y}\\right)^{2} + \\frac{1}{2} \\, \\beta_x\\left(t, x, y, z\\right) \\left(\\frac{\\partial\\,\\beta_x}{\\partial z}\\right)^{2} - \\beta_x\\left(t, x, y, z\\right) \\frac{\\partial^2\\,\\beta_x}{\\partial t\\partial x} + \\frac{1}{2} \\, \\frac{\\partial^2\\,\\beta_x}{\\partial y ^ 2} + \\frac{1}{2} \\, \\frac{\\partial^2\\,\\beta_x}{\\partial z ^ 2} \\\\ \\mathrm{Ric}\\left(g\\right)_{ \\, t \\, y }^{ \\phantom{\\, t}\\phantom{\\, y} } & = & -\\beta_x\\left(t, x, y, z\\right) \\frac{\\partial\\,\\beta_x}{\\partial x} \\frac{\\partial\\,\\beta_x}{\\partial y} - \\frac{1}{2} \\, \\beta_x\\left(t, x, y, z\\right) \\frac{\\partial^2\\,\\beta_x}{\\partial t\\partial y} - \\frac{1}{2} \\, {\\left(\\beta_x\\left(t, x, y, z\\right)^{2} + 1\\right)} \\frac{\\partial^2\\,\\beta_x}{\\partial x\\partial y} \\\\ \\mathrm{Ric}\\left(g\\right)_{ \\, t \\, z }^{ \\phantom{\\, t}\\phantom{\\, z} } & = & -\\beta_x\\left(t, x, y, z\\right) \\frac{\\partial\\,\\beta_x}{\\partial x} \\frac{\\partial\\,\\beta_x}{\\partial z} - \\frac{1}{2} \\, \\beta_x\\left(t, x, y, z\\right) \\frac{\\partial^2\\,\\beta_x}{\\partial t\\partial z} - \\frac{1}{2} \\, {\\left(\\beta_x\\left(t, x, y, z\\right)^{2} + 1\\right)} \\frac{\\partial^2\\,\\beta_x}{\\partial x\\partial z} \\\\ \\mathrm{Ric}\\left(g\\right)_{ \\, x \\, x }^{ \\phantom{\\, x}\\phantom{\\, x} } & = & \\left(\\frac{\\partial\\,\\beta_x}{\\partial x}\\right)^{2} + \\beta_x\\left(t, x, y, z\\right) \\frac{\\partial^2\\,\\beta_x}{\\partial x ^ 2} - \\frac{1}{2} \\, \\left(\\frac{\\partial\\,\\beta_x}{\\partial y}\\right)^{2} - \\frac{1}{2} \\, \\left(\\frac{\\partial\\,\\beta_x}{\\partial z}\\right)^{2} + \\frac{\\partial^2\\,\\beta_x}{\\partial t\\partial x} \\\\ \\mathrm{Ric}\\left(g\\right)_{ \\, x \\, y }^{ \\phantom{\\, x}\\phantom{\\, y} } & = & \\frac{1}{2} \\, \\beta_x\\left(t, x, y, z\\right) \\frac{\\partial^2\\,\\beta_x}{\\partial x\\partial y} + \\frac{\\partial\\,\\beta_x}{\\partial x} \\frac{\\partial\\,\\beta_x}{\\partial y} + \\frac{1}{2} \\, \\frac{\\partial^2\\,\\beta_x}{\\partial t\\partial y} \\\\ \\mathrm{Ric}\\left(g\\right)_{ \\, x \\, z }^{ \\phantom{\\, x}\\phantom{\\, z} } & = & \\frac{1}{2} \\, \\beta_x\\left(t, x, y, z\\right) \\frac{\\partial^2\\,\\beta_x}{\\partial x\\partial z} + \\frac{\\partial\\,\\beta_x}{\\partial x} \\frac{\\partial\\,\\beta_x}{\\partial z} + \\frac{1}{2} \\, \\frac{\\partial^2\\,\\beta_x}{\\partial t\\partial z} \\\\ \\mathrm{Ric}\\left(g\\right)_{ \\, y \\, y }^{ \\phantom{\\, y}\\phantom{\\, y} } & = & \\frac{1}{2} \\, \\left(\\frac{\\partial\\,\\beta_x}{\\partial y}\\right)^{2} \\\\ \\mathrm{Ric}\\left(g\\right)_{ \\, y \\, z }^{ \\phantom{\\, y}\\phantom{\\, z} } & = & \\frac{1}{2} \\, \\frac{\\partial\\,\\beta_x}{\\partial y} \\frac{\\partial\\,\\beta_x}{\\partial z} \\\\ \\mathrm{Ric}\\left(g\\right)_{ \\, z \\, z }^{ \\phantom{\\, z}\\phantom{\\, z} } & = & \\frac{1}{2} \\, \\left(\\frac{\\partial\\,\\beta_x}{\\partial z}\\right)^{2} \\end{array}</script></html>"
      ],
      "text/latex": [
       "$$\\newcommand{\\Bold}[1]{\\mathbf{#1}}\\begin{array}{lcl} \\mathrm{Ric}\\left(g\\right)_{ \\, t \\, t }^{ \\phantom{\\, t}\\phantom{\\, t} } & = & {\\left(\\beta_x\\left(t, x, y, z\\right)^{2} - 1\\right)} \\left(\\frac{\\partial\\,\\beta_x}{\\partial x}\\right)^{2} - \\frac{1}{2} \\, {\\left(\\beta_x\\left(t, x, y, z\\right)^{2} + 1\\right)} \\left(\\frac{\\partial\\,\\beta_x}{\\partial y}\\right)^{2} - \\frac{1}{2} \\, {\\left(\\beta_x\\left(t, x, y, z\\right)^{2} + 1\\right)} \\left(\\frac{\\partial\\,\\beta_x}{\\partial z}\\right)^{2} + {\\left(\\beta_x\\left(t, x, y, z\\right)^{2} - 1\\right)} \\frac{\\partial^2\\,\\beta_x}{\\partial t\\partial x} + {\\left(\\beta_x\\left(t, x, y, z\\right)^{3} - \\beta_x\\left(t, x, y, z\\right)\\right)} \\frac{\\partial^2\\,\\beta_x}{\\partial x ^ 2} - \\beta_x\\left(t, x, y, z\\right) \\frac{\\partial^2\\,\\beta_x}{\\partial y ^ 2} - \\beta_x\\left(t, x, y, z\\right) \\frac{\\partial^2\\,\\beta_x}{\\partial z ^ 2} \\\\ \\mathrm{Ric}\\left(g\\right)_{ \\, t \\, x }^{ \\phantom{\\, t}\\phantom{\\, x} } & = & -\\beta_x\\left(t, x, y, z\\right) \\left(\\frac{\\partial\\,\\beta_x}{\\partial x}\\right)^{2} - \\beta_x\\left(t, x, y, z\\right)^{2} \\frac{\\partial^2\\,\\beta_x}{\\partial x ^ 2} + \\frac{1}{2} \\, \\beta_x\\left(t, x, y, z\\right) \\left(\\frac{\\partial\\,\\beta_x}{\\partial y}\\right)^{2} + \\frac{1}{2} \\, \\beta_x\\left(t, x, y, z\\right) \\left(\\frac{\\partial\\,\\beta_x}{\\partial z}\\right)^{2} - \\beta_x\\left(t, x, y, z\\right) \\frac{\\partial^2\\,\\beta_x}{\\partial t\\partial x} + \\frac{1}{2} \\, \\frac{\\partial^2\\,\\beta_x}{\\partial y ^ 2} + \\frac{1}{2} \\, \\frac{\\partial^2\\,\\beta_x}{\\partial z ^ 2} \\\\ \\mathrm{Ric}\\left(g\\right)_{ \\, t \\, y }^{ \\phantom{\\, t}\\phantom{\\, y} } & = & -\\beta_x\\left(t, x, y, z\\right) \\frac{\\partial\\,\\beta_x}{\\partial x} \\frac{\\partial\\,\\beta_x}{\\partial y} - \\frac{1}{2} \\, \\beta_x\\left(t, x, y, z\\right) \\frac{\\partial^2\\,\\beta_x}{\\partial t\\partial y} - \\frac{1}{2} \\, {\\left(\\beta_x\\left(t, x, y, z\\right)^{2} + 1\\right)} \\frac{\\partial^2\\,\\beta_x}{\\partial x\\partial y} \\\\ \\mathrm{Ric}\\left(g\\right)_{ \\, t \\, z }^{ \\phantom{\\, t}\\phantom{\\, z} } & = & -\\beta_x\\left(t, x, y, z\\right) \\frac{\\partial\\,\\beta_x}{\\partial x} \\frac{\\partial\\,\\beta_x}{\\partial z} - \\frac{1}{2} \\, \\beta_x\\left(t, x, y, z\\right) \\frac{\\partial^2\\,\\beta_x}{\\partial t\\partial z} - \\frac{1}{2} \\, {\\left(\\beta_x\\left(t, x, y, z\\right)^{2} + 1\\right)} \\frac{\\partial^2\\,\\beta_x}{\\partial x\\partial z} \\\\ \\mathrm{Ric}\\left(g\\right)_{ \\, x \\, x }^{ \\phantom{\\, x}\\phantom{\\, x} } & = & \\left(\\frac{\\partial\\,\\beta_x}{\\partial x}\\right)^{2} + \\beta_x\\left(t, x, y, z\\right) \\frac{\\partial^2\\,\\beta_x}{\\partial x ^ 2} - \\frac{1}{2} \\, \\left(\\frac{\\partial\\,\\beta_x}{\\partial y}\\right)^{2} - \\frac{1}{2} \\, \\left(\\frac{\\partial\\,\\beta_x}{\\partial z}\\right)^{2} + \\frac{\\partial^2\\,\\beta_x}{\\partial t\\partial x} \\\\ \\mathrm{Ric}\\left(g\\right)_{ \\, x \\, y }^{ \\phantom{\\, x}\\phantom{\\, y} } & = & \\frac{1}{2} \\, \\beta_x\\left(t, x, y, z\\right) \\frac{\\partial^2\\,\\beta_x}{\\partial x\\partial y} + \\frac{\\partial\\,\\beta_x}{\\partial x} \\frac{\\partial\\,\\beta_x}{\\partial y} + \\frac{1}{2} \\, \\frac{\\partial^2\\,\\beta_x}{\\partial t\\partial y} \\\\ \\mathrm{Ric}\\left(g\\right)_{ \\, x \\, z }^{ \\phantom{\\, x}\\phantom{\\, z} } & = & \\frac{1}{2} \\, \\beta_x\\left(t, x, y, z\\right) \\frac{\\partial^2\\,\\beta_x}{\\partial x\\partial z} + \\frac{\\partial\\,\\beta_x}{\\partial x} \\frac{\\partial\\,\\beta_x}{\\partial z} + \\frac{1}{2} \\, \\frac{\\partial^2\\,\\beta_x}{\\partial t\\partial z} \\\\ \\mathrm{Ric}\\left(g\\right)_{ \\, y \\, y }^{ \\phantom{\\, y}\\phantom{\\, y} } & = & \\frac{1}{2} \\, \\left(\\frac{\\partial\\,\\beta_x}{\\partial y}\\right)^{2} \\\\ \\mathrm{Ric}\\left(g\\right)_{ \\, y \\, z }^{ \\phantom{\\, y}\\phantom{\\, z} } & = & \\frac{1}{2} \\, \\frac{\\partial\\,\\beta_x}{\\partial y} \\frac{\\partial\\,\\beta_x}{\\partial z} \\\\ \\mathrm{Ric}\\left(g\\right)_{ \\, z \\, z }^{ \\phantom{\\, z}\\phantom{\\, z} } & = & \\frac{1}{2} \\, \\left(\\frac{\\partial\\,\\beta_x}{\\partial z}\\right)^{2} \\end{array}$$"
      ],
      "text/plain": [
       "Ric(g)_tt = (shiftx(t, x, y, z)^2 - 1)*(d(shiftx)/dx)^2 - 1/2*(shiftx(t, x, y, z)^2 + 1)*(d(shiftx)/dy)^2 - 1/2*(shiftx(t, x, y, z)^2 + 1)*(d(shiftx)/dz)^2 + (shiftx(t, x, y, z)^2 - 1)*d^2(shiftx)/dtdx + (shiftx(t, x, y, z)^3 - shiftx(t, x, y, z))*d^2(shiftx)/dx^2 - shiftx(t, x, y, z)*d^2(shiftx)/dy^2 - shiftx(t, x, y, z)*d^2(shiftx)/dz^2 \n",
       "Ric(g)_tx = -shiftx(t, x, y, z)*(d(shiftx)/dx)^2 - shiftx(t, x, y, z)^2*d^2(shiftx)/dx^2 + 1/2*shiftx(t, x, y, z)*(d(shiftx)/dy)^2 + 1/2*shiftx(t, x, y, z)*(d(shiftx)/dz)^2 - shiftx(t, x, y, z)*d^2(shiftx)/dtdx + 1/2*d^2(shiftx)/dy^2 + 1/2*d^2(shiftx)/dz^2 \n",
       "Ric(g)_ty = -shiftx(t, x, y, z)*d(shiftx)/dx*d(shiftx)/dy - 1/2*shiftx(t, x, y, z)*d^2(shiftx)/dtdy - 1/2*(shiftx(t, x, y, z)^2 + 1)*d^2(shiftx)/dxdy \n",
       "Ric(g)_tz = -shiftx(t, x, y, z)*d(shiftx)/dx*d(shiftx)/dz - 1/2*shiftx(t, x, y, z)*d^2(shiftx)/dtdz - 1/2*(shiftx(t, x, y, z)^2 + 1)*d^2(shiftx)/dxdz \n",
       "Ric(g)_xx = (d(shiftx)/dx)^2 + shiftx(t, x, y, z)*d^2(shiftx)/dx^2 - 1/2*(d(shiftx)/dy)^2 - 1/2*(d(shiftx)/dz)^2 + d^2(shiftx)/dtdx \n",
       "Ric(g)_xy = 1/2*shiftx(t, x, y, z)*d^2(shiftx)/dxdy + d(shiftx)/dx*d(shiftx)/dy + 1/2*d^2(shiftx)/dtdy \n",
       "Ric(g)_xz = 1/2*shiftx(t, x, y, z)*d^2(shiftx)/dxdz + d(shiftx)/dx*d(shiftx)/dz + 1/2*d^2(shiftx)/dtdz \n",
       "Ric(g)_yy = 1/2*(d(shiftx)/dy)^2 \n",
       "Ric(g)_yz = 1/2*d(shiftx)/dy*d(shiftx)/dz \n",
       "Ric(g)_zz = 1/2*(d(shiftx)/dz)^2 "
      ]
     },
     "execution_count": 5,
     "metadata": {},
     "output_type": "execute_result"
    }
   ],
   "source": [
    "Ric = g.ricci()\n",
    "Ric.display_comp(only_nonredundant=True)"
   ]
  },
  {
   "cell_type": "code",
   "execution_count": 6,
   "metadata": {},
   "outputs": [
    {
     "data": {
      "text/html": [
       "<html><script type=\"math/tex; mode=display\">\\newcommand{\\Bold}[1]{\\mathbf{#1}}\\begin{array}{llcl} \\mathrm{r}\\left(g\\right):& M & \\longrightarrow & \\mathbb{R} \\\\ & \\left(t, x, y, z\\right) & \\longmapsto & 2 \\, \\left(\\frac{\\partial\\,\\beta_x}{\\partial x}\\right)^{2} + 2 \\, \\beta_x\\left(t, x, y, z\\right) \\frac{\\partial^2\\,\\beta_x}{\\partial x ^ 2} + \\frac{1}{2} \\, \\left(\\frac{\\partial\\,\\beta_x}{\\partial y}\\right)^{2} + \\frac{1}{2} \\, \\left(\\frac{\\partial\\,\\beta_x}{\\partial z}\\right)^{2} + 2 \\, \\frac{\\partial^2\\,\\beta_x}{\\partial t\\partial x} \\end{array}</script></html>"
      ],
      "text/latex": [
       "$$\\newcommand{\\Bold}[1]{\\mathbf{#1}}\\begin{array}{llcl} \\mathrm{r}\\left(g\\right):& M & \\longrightarrow & \\mathbb{R} \\\\ & \\left(t, x, y, z\\right) & \\longmapsto & 2 \\, \\left(\\frac{\\partial\\,\\beta_x}{\\partial x}\\right)^{2} + 2 \\, \\beta_x\\left(t, x, y, z\\right) \\frac{\\partial^2\\,\\beta_x}{\\partial x ^ 2} + \\frac{1}{2} \\, \\left(\\frac{\\partial\\,\\beta_x}{\\partial y}\\right)^{2} + \\frac{1}{2} \\, \\left(\\frac{\\partial\\,\\beta_x}{\\partial z}\\right)^{2} + 2 \\, \\frac{\\partial^2\\,\\beta_x}{\\partial t\\partial x} \\end{array}$$"
      ],
      "text/plain": [
       "r(g): M --> R\n",
       "   (t, x, y, z) |--> 2*(d(shiftx)/dx)^2 + 2*shiftx(t, x, y, z)*d^2(shiftx)/dx^2 + 1/2*(d(shiftx)/dy)^2 + 1/2*(d(shiftx)/dz)^2 + 2*d^2(shiftx)/dtdx"
      ]
     },
     "execution_count": 6,
     "metadata": {},
     "output_type": "execute_result"
    }
   ],
   "source": [
    "ricscalar = g.ricci_scalar()\n",
    "ricscalar.display()"
   ]
  },
  {
   "cell_type": "markdown",
   "metadata": {},
   "source": [
    "# Riemann tensor components"
   ]
  },
  {
   "cell_type": "code",
   "execution_count": 7,
   "metadata": {},
   "outputs": [
    {
     "data": {
      "text/html": [
       "<html><script type=\"math/tex; mode=display\">\\newcommand{\\Bold}[1]{\\mathbf{#1}}\\begin{array}{lcl} \\mathrm{Riem}\\left(g\\right)_{ \\phantom{\\, t} \\, t \\, t \\, x }^{ \\, t \\phantom{\\, t} \\phantom{\\, t} \\phantom{\\, x} } & = & -\\beta_x\\left(t, x, y, z\\right) \\left(\\frac{\\partial\\,\\beta_x}{\\partial x}\\right)^{2} - \\beta_x\\left(t, x, y, z\\right)^{2} \\frac{\\partial^2\\,\\beta_x}{\\partial x ^ 2} + \\frac{1}{4} \\, \\beta_x\\left(t, x, y, z\\right) \\left(\\frac{\\partial\\,\\beta_x}{\\partial y}\\right)^{2} + \\frac{1}{4} \\, \\beta_x\\left(t, x, y, z\\right) \\left(\\frac{\\partial\\,\\beta_x}{\\partial z}\\right)^{2} - \\beta_x\\left(t, x, y, z\\right) \\frac{\\partial^2\\,\\beta_x}{\\partial t\\partial x} \\\\ \\mathrm{Riem}\\left(g\\right)_{ \\phantom{\\, t} \\, t \\, t \\, y }^{ \\, t \\phantom{\\, t} \\phantom{\\, t} \\phantom{\\, y} } & = & -\\beta_x\\left(t, x, y, z\\right)^{2} \\frac{\\partial^2\\,\\beta_x}{\\partial x\\partial y} - \\beta_x\\left(t, x, y, z\\right) \\frac{\\partial\\,\\beta_x}{\\partial x} \\frac{\\partial\\,\\beta_x}{\\partial y} - \\frac{1}{2} \\, \\beta_x\\left(t, x, y, z\\right) \\frac{\\partial^2\\,\\beta_x}{\\partial t\\partial y} \\\\ \\mathrm{Riem}\\left(g\\right)_{ \\phantom{\\, t} \\, t \\, t \\, z }^{ \\, t \\phantom{\\, t} \\phantom{\\, t} \\phantom{\\, z} } & = & -\\beta_x\\left(t, x, y, z\\right)^{2} \\frac{\\partial^2\\,\\beta_x}{\\partial x\\partial z} - \\beta_x\\left(t, x, y, z\\right) \\frac{\\partial\\,\\beta_x}{\\partial x} \\frac{\\partial\\,\\beta_x}{\\partial z} - \\frac{1}{2} \\, \\beta_x\\left(t, x, y, z\\right) \\frac{\\partial^2\\,\\beta_x}{\\partial t\\partial z} \\\\ \\mathrm{Riem}\\left(g\\right)_{ \\phantom{\\, t} \\, t \\, x \\, y }^{ \\, t \\phantom{\\, t} \\phantom{\\, x} \\phantom{\\, y} } & = & \\frac{1}{2} \\, \\beta_x\\left(t, x, y, z\\right) \\frac{\\partial^2\\,\\beta_x}{\\partial x\\partial y} \\\\ \\mathrm{Riem}\\left(g\\right)_{ \\phantom{\\, t} \\, t \\, x \\, z }^{ \\, t \\phantom{\\, t} \\phantom{\\, x} \\phantom{\\, z} } & = & \\frac{1}{2} \\, \\beta_x\\left(t, x, y, z\\right) \\frac{\\partial^2\\,\\beta_x}{\\partial x\\partial z} \\\\ \\mathrm{Riem}\\left(g\\right)_{ \\phantom{\\, t} \\, x \\, t \\, x }^{ \\, t \\phantom{\\, x} \\phantom{\\, t} \\phantom{\\, x} } & = & \\left(\\frac{\\partial\\,\\beta_x}{\\partial x}\\right)^{2} + \\beta_x\\left(t, x, y, z\\right) \\frac{\\partial^2\\,\\beta_x}{\\partial x ^ 2} - \\frac{1}{4} \\, \\left(\\frac{\\partial\\,\\beta_x}{\\partial y}\\right)^{2} - \\frac{1}{4} \\, \\left(\\frac{\\partial\\,\\beta_x}{\\partial z}\\right)^{2} + \\frac{\\partial^2\\,\\beta_x}{\\partial t\\partial x} \\\\ \\mathrm{Riem}\\left(g\\right)_{ \\phantom{\\, t} \\, x \\, t \\, y }^{ \\, t \\phantom{\\, x} \\phantom{\\, t} \\phantom{\\, y} } & = & \\beta_x\\left(t, x, y, z\\right) \\frac{\\partial^2\\,\\beta_x}{\\partial x\\partial y} + \\frac{\\partial\\,\\beta_x}{\\partial x} \\frac{\\partial\\,\\beta_x}{\\partial y} + \\frac{1}{2} \\, \\frac{\\partial^2\\,\\beta_x}{\\partial t\\partial y} \\\\ \\mathrm{Riem}\\left(g\\right)_{ \\phantom{\\, t} \\, x \\, t \\, z }^{ \\, t \\phantom{\\, x} \\phantom{\\, t} \\phantom{\\, z} } & = & \\beta_x\\left(t, x, y, z\\right) \\frac{\\partial^2\\,\\beta_x}{\\partial x\\partial z} + \\frac{\\partial\\,\\beta_x}{\\partial x} \\frac{\\partial\\,\\beta_x}{\\partial z} + \\frac{1}{2} \\, \\frac{\\partial^2\\,\\beta_x}{\\partial t\\partial z} \\\\ \\mathrm{Riem}\\left(g\\right)_{ \\phantom{\\, t} \\, x \\, x \\, y }^{ \\, t \\phantom{\\, x} \\phantom{\\, x} \\phantom{\\, y} } & = & -\\frac{1}{2} \\, \\frac{\\partial^2\\,\\beta_x}{\\partial x\\partial y} \\\\ \\mathrm{Riem}\\left(g\\right)_{ \\phantom{\\, t} \\, x \\, x \\, z }^{ \\, t \\phantom{\\, x} \\phantom{\\, x} \\phantom{\\, z} } & = & -\\frac{1}{2} \\, \\frac{\\partial^2\\,\\beta_x}{\\partial x\\partial z} \\\\ \\mathrm{Riem}\\left(g\\right)_{ \\phantom{\\, t} \\, y \\, t \\, x }^{ \\, t \\phantom{\\, y} \\phantom{\\, t} \\phantom{\\, x} } & = & \\frac{1}{2} \\, \\beta_x\\left(t, x, y, z\\right) \\frac{\\partial^2\\,\\beta_x}{\\partial x\\partial y} + \\frac{\\partial\\,\\beta_x}{\\partial x} \\frac{\\partial\\,\\beta_x}{\\partial y} + \\frac{1}{2} \\, \\frac{\\partial^2\\,\\beta_x}{\\partial t\\partial y} \\\\ \\mathrm{Riem}\\left(g\\right)_{ \\phantom{\\, t} \\, y \\, t \\, y }^{ \\, t \\phantom{\\, y} \\phantom{\\, t} \\phantom{\\, y} } & = & \\frac{3}{4} \\, \\left(\\frac{\\partial\\,\\beta_x}{\\partial y}\\right)^{2} + \\frac{1}{2} \\, \\beta_x\\left(t, x, y, z\\right) \\frac{\\partial^2\\,\\beta_x}{\\partial y ^ 2} \\\\ \\mathrm{Riem}\\left(g\\right)_{ \\phantom{\\, t} \\, y \\, t \\, z }^{ \\, t \\phantom{\\, y} \\phantom{\\, t} \\phantom{\\, z} } & = & \\frac{1}{2} \\, \\beta_x\\left(t, x, y, z\\right) \\frac{\\partial^2\\,\\beta_x}{\\partial y\\partial z} + \\frac{3}{4} \\, \\frac{\\partial\\,\\beta_x}{\\partial y} \\frac{\\partial\\,\\beta_x}{\\partial z} \\\\ \\mathrm{Riem}\\left(g\\right)_{ \\phantom{\\, t} \\, y \\, x \\, y }^{ \\, t \\phantom{\\, y} \\phantom{\\, x} \\phantom{\\, y} } & = & -\\frac{1}{2} \\, \\frac{\\partial^2\\,\\beta_x}{\\partial y ^ 2} \\\\ \\mathrm{Riem}\\left(g\\right)_{ \\phantom{\\, t} \\, y \\, x \\, z }^{ \\, t \\phantom{\\, y} \\phantom{\\, x} \\phantom{\\, z} } & = & -\\frac{1}{2} \\, \\frac{\\partial^2\\,\\beta_x}{\\partial y\\partial z} \\\\ \\mathrm{Riem}\\left(g\\right)_{ \\phantom{\\, t} \\, z \\, t \\, x }^{ \\, t \\phantom{\\, z} \\phantom{\\, t} \\phantom{\\, x} } & = & \\frac{1}{2} \\, \\beta_x\\left(t, x, y, z\\right) \\frac{\\partial^2\\,\\beta_x}{\\partial x\\partial z} + \\frac{\\partial\\,\\beta_x}{\\partial x} \\frac{\\partial\\,\\beta_x}{\\partial z} + \\frac{1}{2} \\, \\frac{\\partial^2\\,\\beta_x}{\\partial t\\partial z} \\\\ \\mathrm{Riem}\\left(g\\right)_{ \\phantom{\\, t} \\, z \\, t \\, y }^{ \\, t \\phantom{\\, z} \\phantom{\\, t} \\phantom{\\, y} } & = & \\frac{1}{2} \\, \\beta_x\\left(t, x, y, z\\right) \\frac{\\partial^2\\,\\beta_x}{\\partial y\\partial z} + \\frac{3}{4} \\, \\frac{\\partial\\,\\beta_x}{\\partial y} \\frac{\\partial\\,\\beta_x}{\\partial z} \\\\ \\mathrm{Riem}\\left(g\\right)_{ \\phantom{\\, t} \\, z \\, t \\, z }^{ \\, t \\phantom{\\, z} \\phantom{\\, t} \\phantom{\\, z} } & = & \\frac{3}{4} \\, \\left(\\frac{\\partial\\,\\beta_x}{\\partial z}\\right)^{2} + \\frac{1}{2} \\, \\beta_x\\left(t, x, y, z\\right) \\frac{\\partial^2\\,\\beta_x}{\\partial z ^ 2} \\\\ \\mathrm{Riem}\\left(g\\right)_{ \\phantom{\\, t} \\, z \\, x \\, y }^{ \\, t \\phantom{\\, z} \\phantom{\\, x} \\phantom{\\, y} } & = & -\\frac{1}{2} \\, \\frac{\\partial^2\\,\\beta_x}{\\partial y\\partial z} \\\\ \\mathrm{Riem}\\left(g\\right)_{ \\phantom{\\, t} \\, z \\, x \\, z }^{ \\, t \\phantom{\\, z} \\phantom{\\, x} \\phantom{\\, z} } & = & -\\frac{1}{2} \\, \\frac{\\partial^2\\,\\beta_x}{\\partial z ^ 2} \\\\ \\mathrm{Riem}\\left(g\\right)_{ \\phantom{\\, x} \\, t \\, t \\, x }^{ \\, x \\phantom{\\, t} \\phantom{\\, t} \\phantom{\\, x} } & = & -{\\left(\\beta_x\\left(t, x, y, z\\right)^{2} - 1\\right)} \\left(\\frac{\\partial\\,\\beta_x}{\\partial x}\\right)^{2} + \\frac{1}{4} \\, {\\left(\\beta_x\\left(t, x, y, z\\right)^{2} - 1\\right)} \\left(\\frac{\\partial\\,\\beta_x}{\\partial y}\\right)^{2} + \\frac{1}{4} \\, {\\left(\\beta_x\\left(t, x, y, z\\right)^{2} - 1\\right)} \\left(\\frac{\\partial\\,\\beta_x}{\\partial z}\\right)^{2} - {\\left(\\beta_x\\left(t, x, y, z\\right)^{2} - 1\\right)} \\frac{\\partial^2\\,\\beta_x}{\\partial t\\partial x} - {\\left(\\beta_x\\left(t, x, y, z\\right)^{3} - \\beta_x\\left(t, x, y, z\\right)\\right)} \\frac{\\partial^2\\,\\beta_x}{\\partial x ^ 2} \\\\ \\mathrm{Riem}\\left(g\\right)_{ \\phantom{\\, x} \\, t \\, t \\, y }^{ \\, x \\phantom{\\, t} \\phantom{\\, t} \\phantom{\\, y} } & = & -{\\left(\\beta_x\\left(t, x, y, z\\right)^{2} - 1\\right)} \\frac{\\partial\\,\\beta_x}{\\partial x} \\frac{\\partial\\,\\beta_x}{\\partial y} - \\frac{1}{2} \\, {\\left(\\beta_x\\left(t, x, y, z\\right)^{2} - 1\\right)} \\frac{\\partial^2\\,\\beta_x}{\\partial t\\partial y} - {\\left(\\beta_x\\left(t, x, y, z\\right)^{3} - \\beta_x\\left(t, x, y, z\\right)\\right)} \\frac{\\partial^2\\,\\beta_x}{\\partial x\\partial y} \\\\ \\mathrm{Riem}\\left(g\\right)_{ \\phantom{\\, x} \\, t \\, t \\, z }^{ \\, x \\phantom{\\, t} \\phantom{\\, t} \\phantom{\\, z} } & = & -{\\left(\\beta_x\\left(t, x, y, z\\right)^{2} - 1\\right)} \\frac{\\partial\\,\\beta_x}{\\partial x} \\frac{\\partial\\,\\beta_x}{\\partial z} - \\frac{1}{2} \\, {\\left(\\beta_x\\left(t, x, y, z\\right)^{2} - 1\\right)} \\frac{\\partial^2\\,\\beta_x}{\\partial t\\partial z} - {\\left(\\beta_x\\left(t, x, y, z\\right)^{3} - \\beta_x\\left(t, x, y, z\\right)\\right)} \\frac{\\partial^2\\,\\beta_x}{\\partial x\\partial z} \\\\ \\mathrm{Riem}\\left(g\\right)_{ \\phantom{\\, x} \\, t \\, x \\, y }^{ \\, x \\phantom{\\, t} \\phantom{\\, x} \\phantom{\\, y} } & = & \\frac{1}{2} \\, {\\left(\\beta_x\\left(t, x, y, z\\right)^{2} - 1\\right)} \\frac{\\partial^2\\,\\beta_x}{\\partial x\\partial y} \\\\ \\mathrm{Riem}\\left(g\\right)_{ \\phantom{\\, x} \\, t \\, x \\, z }^{ \\, x \\phantom{\\, t} \\phantom{\\, x} \\phantom{\\, z} } & = & \\frac{1}{2} \\, {\\left(\\beta_x\\left(t, x, y, z\\right)^{2} - 1\\right)} \\frac{\\partial^2\\,\\beta_x}{\\partial x\\partial z} \\\\ \\mathrm{Riem}\\left(g\\right)_{ \\phantom{\\, x} \\, x \\, t \\, x }^{ \\, x \\phantom{\\, x} \\phantom{\\, t} \\phantom{\\, x} } & = & \\beta_x\\left(t, x, y, z\\right) \\left(\\frac{\\partial\\,\\beta_x}{\\partial x}\\right)^{2} + \\beta_x\\left(t, x, y, z\\right)^{2} \\frac{\\partial^2\\,\\beta_x}{\\partial x ^ 2} - \\frac{1}{4} \\, \\beta_x\\left(t, x, y, z\\right) \\left(\\frac{\\partial\\,\\beta_x}{\\partial y}\\right)^{2} - \\frac{1}{4} \\, \\beta_x\\left(t, x, y, z\\right) \\left(\\frac{\\partial\\,\\beta_x}{\\partial z}\\right)^{2} + \\beta_x\\left(t, x, y, z\\right) \\frac{\\partial^2\\,\\beta_x}{\\partial t\\partial x} \\\\ \\mathrm{Riem}\\left(g\\right)_{ \\phantom{\\, x} \\, x \\, t \\, y }^{ \\, x \\phantom{\\, x} \\phantom{\\, t} \\phantom{\\, y} } & = & \\beta_x\\left(t, x, y, z\\right)^{2} \\frac{\\partial^2\\,\\beta_x}{\\partial x\\partial y} + \\beta_x\\left(t, x, y, z\\right) \\frac{\\partial\\,\\beta_x}{\\partial x} \\frac{\\partial\\,\\beta_x}{\\partial y} + \\frac{1}{2} \\, \\beta_x\\left(t, x, y, z\\right) \\frac{\\partial^2\\,\\beta_x}{\\partial t\\partial y} \\\\ \\mathrm{Riem}\\left(g\\right)_{ \\phantom{\\, x} \\, x \\, t \\, z }^{ \\, x \\phantom{\\, x} \\phantom{\\, t} \\phantom{\\, z} } & = & \\beta_x\\left(t, x, y, z\\right)^{2} \\frac{\\partial^2\\,\\beta_x}{\\partial x\\partial z} + \\beta_x\\left(t, x, y, z\\right) \\frac{\\partial\\,\\beta_x}{\\partial x} \\frac{\\partial\\,\\beta_x}{\\partial z} + \\frac{1}{2} \\, \\beta_x\\left(t, x, y, z\\right) \\frac{\\partial^2\\,\\beta_x}{\\partial t\\partial z} \\\\ \\mathrm{Riem}\\left(g\\right)_{ \\phantom{\\, x} \\, x \\, x \\, y }^{ \\, x \\phantom{\\, x} \\phantom{\\, x} \\phantom{\\, y} } & = & -\\frac{1}{2} \\, \\beta_x\\left(t, x, y, z\\right) \\frac{\\partial^2\\,\\beta_x}{\\partial x\\partial y} \\\\ \\mathrm{Riem}\\left(g\\right)_{ \\phantom{\\, x} \\, x \\, x \\, z }^{ \\, x \\phantom{\\, x} \\phantom{\\, x} \\phantom{\\, z} } & = & -\\frac{1}{2} \\, \\beta_x\\left(t, x, y, z\\right) \\frac{\\partial^2\\,\\beta_x}{\\partial x\\partial z} \\\\ \\mathrm{Riem}\\left(g\\right)_{ \\phantom{\\, x} \\, y \\, t \\, x }^{ \\, x \\phantom{\\, y} \\phantom{\\, t} \\phantom{\\, x} } & = & \\beta_x\\left(t, x, y, z\\right) \\frac{\\partial\\,\\beta_x}{\\partial x} \\frac{\\partial\\,\\beta_x}{\\partial y} + \\frac{1}{2} \\, \\beta_x\\left(t, x, y, z\\right) \\frac{\\partial^2\\,\\beta_x}{\\partial t\\partial y} + \\frac{1}{2} \\, {\\left(\\beta_x\\left(t, x, y, z\\right)^{2} + 1\\right)} \\frac{\\partial^2\\,\\beta_x}{\\partial x\\partial y} \\\\ \\mathrm{Riem}\\left(g\\right)_{ \\phantom{\\, x} \\, y \\, t \\, y }^{ \\, x \\phantom{\\, y} \\phantom{\\, t} \\phantom{\\, y} } & = & \\beta_x\\left(t, x, y, z\\right) \\left(\\frac{\\partial\\,\\beta_x}{\\partial y}\\right)^{2} + \\frac{1}{2} \\, {\\left(\\beta_x\\left(t, x, y, z\\right)^{2} + 1\\right)} \\frac{\\partial^2\\,\\beta_x}{\\partial y ^ 2} \\\\ \\mathrm{Riem}\\left(g\\right)_{ \\phantom{\\, x} \\, y \\, t \\, z }^{ \\, x \\phantom{\\, y} \\phantom{\\, t} \\phantom{\\, z} } & = & \\beta_x\\left(t, x, y, z\\right) \\frac{\\partial\\,\\beta_x}{\\partial y} \\frac{\\partial\\,\\beta_x}{\\partial z} + \\frac{1}{2} \\, {\\left(\\beta_x\\left(t, x, y, z\\right)^{2} + 1\\right)} \\frac{\\partial^2\\,\\beta_x}{\\partial y\\partial z} \\\\ \\mathrm{Riem}\\left(g\\right)_{ \\phantom{\\, x} \\, y \\, x \\, y }^{ \\, x \\phantom{\\, y} \\phantom{\\, x} \\phantom{\\, y} } & = & -\\frac{1}{4} \\, \\left(\\frac{\\partial\\,\\beta_x}{\\partial y}\\right)^{2} - \\frac{1}{2} \\, \\beta_x\\left(t, x, y, z\\right) \\frac{\\partial^2\\,\\beta_x}{\\partial y ^ 2} \\\\ \\mathrm{Riem}\\left(g\\right)_{ \\phantom{\\, x} \\, y \\, x \\, z }^{ \\, x \\phantom{\\, y} \\phantom{\\, x} \\phantom{\\, z} } & = & -\\frac{1}{2} \\, \\beta_x\\left(t, x, y, z\\right) \\frac{\\partial^2\\,\\beta_x}{\\partial y\\partial z} - \\frac{1}{4} \\, \\frac{\\partial\\,\\beta_x}{\\partial y} \\frac{\\partial\\,\\beta_x}{\\partial z} \\\\ \\mathrm{Riem}\\left(g\\right)_{ \\phantom{\\, x} \\, z \\, t \\, x }^{ \\, x \\phantom{\\, z} \\phantom{\\, t} \\phantom{\\, x} } & = & \\beta_x\\left(t, x, y, z\\right) \\frac{\\partial\\,\\beta_x}{\\partial x} \\frac{\\partial\\,\\beta_x}{\\partial z} + \\frac{1}{2} \\, \\beta_x\\left(t, x, y, z\\right) \\frac{\\partial^2\\,\\beta_x}{\\partial t\\partial z} + \\frac{1}{2} \\, {\\left(\\beta_x\\left(t, x, y, z\\right)^{2} + 1\\right)} \\frac{\\partial^2\\,\\beta_x}{\\partial x\\partial z} \\\\ \\mathrm{Riem}\\left(g\\right)_{ \\phantom{\\, x} \\, z \\, t \\, y }^{ \\, x \\phantom{\\, z} \\phantom{\\, t} \\phantom{\\, y} } & = & \\beta_x\\left(t, x, y, z\\right) \\frac{\\partial\\,\\beta_x}{\\partial y} \\frac{\\partial\\,\\beta_x}{\\partial z} + \\frac{1}{2} \\, {\\left(\\beta_x\\left(t, x, y, z\\right)^{2} + 1\\right)} \\frac{\\partial^2\\,\\beta_x}{\\partial y\\partial z} \\\\ \\mathrm{Riem}\\left(g\\right)_{ \\phantom{\\, x} \\, z \\, t \\, z }^{ \\, x \\phantom{\\, z} \\phantom{\\, t} \\phantom{\\, z} } & = & \\beta_x\\left(t, x, y, z\\right) \\left(\\frac{\\partial\\,\\beta_x}{\\partial z}\\right)^{2} + \\frac{1}{2} \\, {\\left(\\beta_x\\left(t, x, y, z\\right)^{2} + 1\\right)} \\frac{\\partial^2\\,\\beta_x}{\\partial z ^ 2} \\\\ \\mathrm{Riem}\\left(g\\right)_{ \\phantom{\\, x} \\, z \\, x \\, y }^{ \\, x \\phantom{\\, z} \\phantom{\\, x} \\phantom{\\, y} } & = & -\\frac{1}{2} \\, \\beta_x\\left(t, x, y, z\\right) \\frac{\\partial^2\\,\\beta_x}{\\partial y\\partial z} - \\frac{1}{4} \\, \\frac{\\partial\\,\\beta_x}{\\partial y} \\frac{\\partial\\,\\beta_x}{\\partial z} \\\\ \\mathrm{Riem}\\left(g\\right)_{ \\phantom{\\, x} \\, z \\, x \\, z }^{ \\, x \\phantom{\\, z} \\phantom{\\, x} \\phantom{\\, z} } & = & -\\frac{1}{4} \\, \\left(\\frac{\\partial\\,\\beta_x}{\\partial z}\\right)^{2} - \\frac{1}{2} \\, \\beta_x\\left(t, x, y, z\\right) \\frac{\\partial^2\\,\\beta_x}{\\partial z ^ 2} \\\\ \\mathrm{Riem}\\left(g\\right)_{ \\phantom{\\, y} \\, t \\, t \\, x }^{ \\, y \\phantom{\\, t} \\phantom{\\, t} \\phantom{\\, x} } & = & \\beta_x\\left(t, x, y, z\\right) \\frac{\\partial^2\\,\\beta_x}{\\partial x\\partial y} + \\frac{\\partial\\,\\beta_x}{\\partial x} \\frac{\\partial\\,\\beta_x}{\\partial y} + \\frac{1}{2} \\, \\frac{\\partial^2\\,\\beta_x}{\\partial t\\partial y} \\\\ \\mathrm{Riem}\\left(g\\right)_{ \\phantom{\\, y} \\, t \\, t \\, y }^{ \\, y \\phantom{\\, t} \\phantom{\\, t} \\phantom{\\, y} } & = & \\frac{1}{4} \\, {\\left(\\beta_x\\left(t, x, y, z\\right)^{2} + 3\\right)} \\left(\\frac{\\partial\\,\\beta_x}{\\partial y}\\right)^{2} + \\beta_x\\left(t, x, y, z\\right) \\frac{\\partial^2\\,\\beta_x}{\\partial y ^ 2} \\\\ \\mathrm{Riem}\\left(g\\right)_{ \\phantom{\\, y} \\, t \\, t \\, z }^{ \\, y \\phantom{\\, t} \\phantom{\\, t} \\phantom{\\, z} } & = & \\frac{1}{4} \\, {\\left(\\beta_x\\left(t, x, y, z\\right)^{2} + 3\\right)} \\frac{\\partial\\,\\beta_x}{\\partial y} \\frac{\\partial\\,\\beta_x}{\\partial z} + \\beta_x\\left(t, x, y, z\\right) \\frac{\\partial^2\\,\\beta_x}{\\partial y\\partial z} \\\\ \\mathrm{Riem}\\left(g\\right)_{ \\phantom{\\, y} \\, t \\, x \\, y }^{ \\, y \\phantom{\\, t} \\phantom{\\, x} \\phantom{\\, y} } & = & -\\frac{1}{4} \\, \\beta_x\\left(t, x, y, z\\right) \\left(\\frac{\\partial\\,\\beta_x}{\\partial y}\\right)^{2} - \\frac{1}{2} \\, \\frac{\\partial^2\\,\\beta_x}{\\partial y ^ 2} \\\\ \\mathrm{Riem}\\left(g\\right)_{ \\phantom{\\, y} \\, t \\, x \\, z }^{ \\, y \\phantom{\\, t} \\phantom{\\, x} \\phantom{\\, z} } & = & -\\frac{1}{4} \\, \\beta_x\\left(t, x, y, z\\right) \\frac{\\partial\\,\\beta_x}{\\partial y} \\frac{\\partial\\,\\beta_x}{\\partial z} - \\frac{1}{2} \\, \\frac{\\partial^2\\,\\beta_x}{\\partial y\\partial z} \\\\ \\mathrm{Riem}\\left(g\\right)_{ \\phantom{\\, y} \\, x \\, t \\, x }^{ \\, y \\phantom{\\, x} \\phantom{\\, t} \\phantom{\\, x} } & = & -\\frac{1}{2} \\, \\frac{\\partial^2\\,\\beta_x}{\\partial x\\partial y} \\\\ \\mathrm{Riem}\\left(g\\right)_{ \\phantom{\\, y} \\, x \\, t \\, y }^{ \\, y \\phantom{\\, x} \\phantom{\\, t} \\phantom{\\, y} } & = & -\\frac{1}{4} \\, \\beta_x\\left(t, x, y, z\\right) \\left(\\frac{\\partial\\,\\beta_x}{\\partial y}\\right)^{2} - \\frac{1}{2} \\, \\frac{\\partial^2\\,\\beta_x}{\\partial y ^ 2} \\\\ \\mathrm{Riem}\\left(g\\right)_{ \\phantom{\\, y} \\, x \\, t \\, z }^{ \\, y \\phantom{\\, x} \\phantom{\\, t} \\phantom{\\, z} } & = & -\\frac{1}{4} \\, \\beta_x\\left(t, x, y, z\\right) \\frac{\\partial\\,\\beta_x}{\\partial y} \\frac{\\partial\\,\\beta_x}{\\partial z} - \\frac{1}{2} \\, \\frac{\\partial^2\\,\\beta_x}{\\partial y\\partial z} \\\\ \\mathrm{Riem}\\left(g\\right)_{ \\phantom{\\, y} \\, x \\, x \\, y }^{ \\, y \\phantom{\\, x} \\phantom{\\, x} \\phantom{\\, y} } & = & \\frac{1}{4} \\, \\left(\\frac{\\partial\\,\\beta_x}{\\partial y}\\right)^{2} \\\\ \\mathrm{Riem}\\left(g\\right)_{ \\phantom{\\, y} \\, x \\, x \\, z }^{ \\, y \\phantom{\\, x} \\phantom{\\, x} \\phantom{\\, z} } & = & \\frac{1}{4} \\, \\frac{\\partial\\,\\beta_x}{\\partial y} \\frac{\\partial\\,\\beta_x}{\\partial z} \\\\ \\mathrm{Riem}\\left(g\\right)_{ \\phantom{\\, z} \\, t \\, t \\, x }^{ \\, z \\phantom{\\, t} \\phantom{\\, t} \\phantom{\\, x} } & = & \\beta_x\\left(t, x, y, z\\right) \\frac{\\partial^2\\,\\beta_x}{\\partial x\\partial z} + \\frac{\\partial\\,\\beta_x}{\\partial x} \\frac{\\partial\\,\\beta_x}{\\partial z} + \\frac{1}{2} \\, \\frac{\\partial^2\\,\\beta_x}{\\partial t\\partial z} \\\\ \\mathrm{Riem}\\left(g\\right)_{ \\phantom{\\, z} \\, t \\, t \\, y }^{ \\, z \\phantom{\\, t} \\phantom{\\, t} \\phantom{\\, y} } & = & \\frac{1}{4} \\, {\\left(\\beta_x\\left(t, x, y, z\\right)^{2} + 3\\right)} \\frac{\\partial\\,\\beta_x}{\\partial y} \\frac{\\partial\\,\\beta_x}{\\partial z} + \\beta_x\\left(t, x, y, z\\right) \\frac{\\partial^2\\,\\beta_x}{\\partial y\\partial z} \\\\ \\mathrm{Riem}\\left(g\\right)_{ \\phantom{\\, z} \\, t \\, t \\, z }^{ \\, z \\phantom{\\, t} \\phantom{\\, t} \\phantom{\\, z} } & = & \\frac{1}{4} \\, {\\left(\\beta_x\\left(t, x, y, z\\right)^{2} + 3\\right)} \\left(\\frac{\\partial\\,\\beta_x}{\\partial z}\\right)^{2} + \\beta_x\\left(t, x, y, z\\right) \\frac{\\partial^2\\,\\beta_x}{\\partial z ^ 2} \\\\ \\mathrm{Riem}\\left(g\\right)_{ \\phantom{\\, z} \\, t \\, x \\, y }^{ \\, z \\phantom{\\, t} \\phantom{\\, x} \\phantom{\\, y} } & = & -\\frac{1}{4} \\, \\beta_x\\left(t, x, y, z\\right) \\frac{\\partial\\,\\beta_x}{\\partial y} \\frac{\\partial\\,\\beta_x}{\\partial z} - \\frac{1}{2} \\, \\frac{\\partial^2\\,\\beta_x}{\\partial y\\partial z} \\\\ \\mathrm{Riem}\\left(g\\right)_{ \\phantom{\\, z} \\, t \\, x \\, z }^{ \\, z \\phantom{\\, t} \\phantom{\\, x} \\phantom{\\, z} } & = & -\\frac{1}{4} \\, \\beta_x\\left(t, x, y, z\\right) \\left(\\frac{\\partial\\,\\beta_x}{\\partial z}\\right)^{2} - \\frac{1}{2} \\, \\frac{\\partial^2\\,\\beta_x}{\\partial z ^ 2} \\\\ \\mathrm{Riem}\\left(g\\right)_{ \\phantom{\\, z} \\, x \\, t \\, x }^{ \\, z \\phantom{\\, x} \\phantom{\\, t} \\phantom{\\, x} } & = & -\\frac{1}{2} \\, \\frac{\\partial^2\\,\\beta_x}{\\partial x\\partial z} \\\\ \\mathrm{Riem}\\left(g\\right)_{ \\phantom{\\, z} \\, x \\, t \\, y }^{ \\, z \\phantom{\\, x} \\phantom{\\, t} \\phantom{\\, y} } & = & -\\frac{1}{4} \\, \\beta_x\\left(t, x, y, z\\right) \\frac{\\partial\\,\\beta_x}{\\partial y} \\frac{\\partial\\,\\beta_x}{\\partial z} - \\frac{1}{2} \\, \\frac{\\partial^2\\,\\beta_x}{\\partial y\\partial z} \\\\ \\mathrm{Riem}\\left(g\\right)_{ \\phantom{\\, z} \\, x \\, t \\, z }^{ \\, z \\phantom{\\, x} \\phantom{\\, t} \\phantom{\\, z} } & = & -\\frac{1}{4} \\, \\beta_x\\left(t, x, y, z\\right) \\left(\\frac{\\partial\\,\\beta_x}{\\partial z}\\right)^{2} - \\frac{1}{2} \\, \\frac{\\partial^2\\,\\beta_x}{\\partial z ^ 2} \\\\ \\mathrm{Riem}\\left(g\\right)_{ \\phantom{\\, z} \\, x \\, x \\, y }^{ \\, z \\phantom{\\, x} \\phantom{\\, x} \\phantom{\\, y} } & = & \\frac{1}{4} \\, \\frac{\\partial\\,\\beta_x}{\\partial y} \\frac{\\partial\\,\\beta_x}{\\partial z} \\\\ \\mathrm{Riem}\\left(g\\right)_{ \\phantom{\\, z} \\, x \\, x \\, z }^{ \\, z \\phantom{\\, x} \\phantom{\\, x} \\phantom{\\, z} } & = & \\frac{1}{4} \\, \\left(\\frac{\\partial\\,\\beta_x}{\\partial z}\\right)^{2} \\end{array}</script></html>"
      ],
      "text/latex": [
       "$$\\newcommand{\\Bold}[1]{\\mathbf{#1}}\\begin{array}{lcl} \\mathrm{Riem}\\left(g\\right)_{ \\phantom{\\, t} \\, t \\, t \\, x }^{ \\, t \\phantom{\\, t} \\phantom{\\, t} \\phantom{\\, x} } & = & -\\beta_x\\left(t, x, y, z\\right) \\left(\\frac{\\partial\\,\\beta_x}{\\partial x}\\right)^{2} - \\beta_x\\left(t, x, y, z\\right)^{2} \\frac{\\partial^2\\,\\beta_x}{\\partial x ^ 2} + \\frac{1}{4} \\, \\beta_x\\left(t, x, y, z\\right) \\left(\\frac{\\partial\\,\\beta_x}{\\partial y}\\right)^{2} + \\frac{1}{4} \\, \\beta_x\\left(t, x, y, z\\right) \\left(\\frac{\\partial\\,\\beta_x}{\\partial z}\\right)^{2} - \\beta_x\\left(t, x, y, z\\right) \\frac{\\partial^2\\,\\beta_x}{\\partial t\\partial x} \\\\ \\mathrm{Riem}\\left(g\\right)_{ \\phantom{\\, t} \\, t \\, t \\, y }^{ \\, t \\phantom{\\, t} \\phantom{\\, t} \\phantom{\\, y} } & = & -\\beta_x\\left(t, x, y, z\\right)^{2} \\frac{\\partial^2\\,\\beta_x}{\\partial x\\partial y} - \\beta_x\\left(t, x, y, z\\right) \\frac{\\partial\\,\\beta_x}{\\partial x} \\frac{\\partial\\,\\beta_x}{\\partial y} - \\frac{1}{2} \\, \\beta_x\\left(t, x, y, z\\right) \\frac{\\partial^2\\,\\beta_x}{\\partial t\\partial y} \\\\ \\mathrm{Riem}\\left(g\\right)_{ \\phantom{\\, t} \\, t \\, t \\, z }^{ \\, t \\phantom{\\, t} \\phantom{\\, t} \\phantom{\\, z} } & = & -\\beta_x\\left(t, x, y, z\\right)^{2} \\frac{\\partial^2\\,\\beta_x}{\\partial x\\partial z} - \\beta_x\\left(t, x, y, z\\right) \\frac{\\partial\\,\\beta_x}{\\partial x} \\frac{\\partial\\,\\beta_x}{\\partial z} - \\frac{1}{2} \\, \\beta_x\\left(t, x, y, z\\right) \\frac{\\partial^2\\,\\beta_x}{\\partial t\\partial z} \\\\ \\mathrm{Riem}\\left(g\\right)_{ \\phantom{\\, t} \\, t \\, x \\, y }^{ \\, t \\phantom{\\, t} \\phantom{\\, x} \\phantom{\\, y} } & = & \\frac{1}{2} \\, \\beta_x\\left(t, x, y, z\\right) \\frac{\\partial^2\\,\\beta_x}{\\partial x\\partial y} \\\\ \\mathrm{Riem}\\left(g\\right)_{ \\phantom{\\, t} \\, t \\, x \\, z }^{ \\, t \\phantom{\\, t} \\phantom{\\, x} \\phantom{\\, z} } & = & \\frac{1}{2} \\, \\beta_x\\left(t, x, y, z\\right) \\frac{\\partial^2\\,\\beta_x}{\\partial x\\partial z} \\\\ \\mathrm{Riem}\\left(g\\right)_{ \\phantom{\\, t} \\, x \\, t \\, x }^{ \\, t \\phantom{\\, x} \\phantom{\\, t} \\phantom{\\, x} } & = & \\left(\\frac{\\partial\\,\\beta_x}{\\partial x}\\right)^{2} + \\beta_x\\left(t, x, y, z\\right) \\frac{\\partial^2\\,\\beta_x}{\\partial x ^ 2} - \\frac{1}{4} \\, \\left(\\frac{\\partial\\,\\beta_x}{\\partial y}\\right)^{2} - \\frac{1}{4} \\, \\left(\\frac{\\partial\\,\\beta_x}{\\partial z}\\right)^{2} + \\frac{\\partial^2\\,\\beta_x}{\\partial t\\partial x} \\\\ \\mathrm{Riem}\\left(g\\right)_{ \\phantom{\\, t} \\, x \\, t \\, y }^{ \\, t \\phantom{\\, x} \\phantom{\\, t} \\phantom{\\, y} } & = & \\beta_x\\left(t, x, y, z\\right) \\frac{\\partial^2\\,\\beta_x}{\\partial x\\partial y} + \\frac{\\partial\\,\\beta_x}{\\partial x} \\frac{\\partial\\,\\beta_x}{\\partial y} + \\frac{1}{2} \\, \\frac{\\partial^2\\,\\beta_x}{\\partial t\\partial y} \\\\ \\mathrm{Riem}\\left(g\\right)_{ \\phantom{\\, t} \\, x \\, t \\, z }^{ \\, t \\phantom{\\, x} \\phantom{\\, t} \\phantom{\\, z} } & = & \\beta_x\\left(t, x, y, z\\right) \\frac{\\partial^2\\,\\beta_x}{\\partial x\\partial z} + \\frac{\\partial\\,\\beta_x}{\\partial x} \\frac{\\partial\\,\\beta_x}{\\partial z} + \\frac{1}{2} \\, \\frac{\\partial^2\\,\\beta_x}{\\partial t\\partial z} \\\\ \\mathrm{Riem}\\left(g\\right)_{ \\phantom{\\, t} \\, x \\, x \\, y }^{ \\, t \\phantom{\\, x} \\phantom{\\, x} \\phantom{\\, y} } & = & -\\frac{1}{2} \\, \\frac{\\partial^2\\,\\beta_x}{\\partial x\\partial y} \\\\ \\mathrm{Riem}\\left(g\\right)_{ \\phantom{\\, t} \\, x \\, x \\, z }^{ \\, t \\phantom{\\, x} \\phantom{\\, x} \\phantom{\\, z} } & = & -\\frac{1}{2} \\, \\frac{\\partial^2\\,\\beta_x}{\\partial x\\partial z} \\\\ \\mathrm{Riem}\\left(g\\right)_{ \\phantom{\\, t} \\, y \\, t \\, x }^{ \\, t \\phantom{\\, y} \\phantom{\\, t} \\phantom{\\, x} } & = & \\frac{1}{2} \\, \\beta_x\\left(t, x, y, z\\right) \\frac{\\partial^2\\,\\beta_x}{\\partial x\\partial y} + \\frac{\\partial\\,\\beta_x}{\\partial x} \\frac{\\partial\\,\\beta_x}{\\partial y} + \\frac{1}{2} \\, \\frac{\\partial^2\\,\\beta_x}{\\partial t\\partial y} \\\\ \\mathrm{Riem}\\left(g\\right)_{ \\phantom{\\, t} \\, y \\, t \\, y }^{ \\, t \\phantom{\\, y} \\phantom{\\, t} \\phantom{\\, y} } & = & \\frac{3}{4} \\, \\left(\\frac{\\partial\\,\\beta_x}{\\partial y}\\right)^{2} + \\frac{1}{2} \\, \\beta_x\\left(t, x, y, z\\right) \\frac{\\partial^2\\,\\beta_x}{\\partial y ^ 2} \\\\ \\mathrm{Riem}\\left(g\\right)_{ \\phantom{\\, t} \\, y \\, t \\, z }^{ \\, t \\phantom{\\, y} \\phantom{\\, t} \\phantom{\\, z} } & = & \\frac{1}{2} \\, \\beta_x\\left(t, x, y, z\\right) \\frac{\\partial^2\\,\\beta_x}{\\partial y\\partial z} + \\frac{3}{4} \\, \\frac{\\partial\\,\\beta_x}{\\partial y} \\frac{\\partial\\,\\beta_x}{\\partial z} \\\\ \\mathrm{Riem}\\left(g\\right)_{ \\phantom{\\, t} \\, y \\, x \\, y }^{ \\, t \\phantom{\\, y} \\phantom{\\, x} \\phantom{\\, y} } & = & -\\frac{1}{2} \\, \\frac{\\partial^2\\,\\beta_x}{\\partial y ^ 2} \\\\ \\mathrm{Riem}\\left(g\\right)_{ \\phantom{\\, t} \\, y \\, x \\, z }^{ \\, t \\phantom{\\, y} \\phantom{\\, x} \\phantom{\\, z} } & = & -\\frac{1}{2} \\, \\frac{\\partial^2\\,\\beta_x}{\\partial y\\partial z} \\\\ \\mathrm{Riem}\\left(g\\right)_{ \\phantom{\\, t} \\, z \\, t \\, x }^{ \\, t \\phantom{\\, z} \\phantom{\\, t} \\phantom{\\, x} } & = & \\frac{1}{2} \\, \\beta_x\\left(t, x, y, z\\right) \\frac{\\partial^2\\,\\beta_x}{\\partial x\\partial z} + \\frac{\\partial\\,\\beta_x}{\\partial x} \\frac{\\partial\\,\\beta_x}{\\partial z} + \\frac{1}{2} \\, \\frac{\\partial^2\\,\\beta_x}{\\partial t\\partial z} \\\\ \\mathrm{Riem}\\left(g\\right)_{ \\phantom{\\, t} \\, z \\, t \\, y }^{ \\, t \\phantom{\\, z} \\phantom{\\, t} \\phantom{\\, y} } & = & \\frac{1}{2} \\, \\beta_x\\left(t, x, y, z\\right) \\frac{\\partial^2\\,\\beta_x}{\\partial y\\partial z} + \\frac{3}{4} \\, \\frac{\\partial\\,\\beta_x}{\\partial y} \\frac{\\partial\\,\\beta_x}{\\partial z} \\\\ \\mathrm{Riem}\\left(g\\right)_{ \\phantom{\\, t} \\, z \\, t \\, z }^{ \\, t \\phantom{\\, z} \\phantom{\\, t} \\phantom{\\, z} } & = & \\frac{3}{4} \\, \\left(\\frac{\\partial\\,\\beta_x}{\\partial z}\\right)^{2} + \\frac{1}{2} \\, \\beta_x\\left(t, x, y, z\\right) \\frac{\\partial^2\\,\\beta_x}{\\partial z ^ 2} \\\\ \\mathrm{Riem}\\left(g\\right)_{ \\phantom{\\, t} \\, z \\, x \\, y }^{ \\, t \\phantom{\\, z} \\phantom{\\, x} \\phantom{\\, y} } & = & -\\frac{1}{2} \\, \\frac{\\partial^2\\,\\beta_x}{\\partial y\\partial z} \\\\ \\mathrm{Riem}\\left(g\\right)_{ \\phantom{\\, t} \\, z \\, x \\, z }^{ \\, t \\phantom{\\, z} \\phantom{\\, x} \\phantom{\\, z} } & = & -\\frac{1}{2} \\, \\frac{\\partial^2\\,\\beta_x}{\\partial z ^ 2} \\\\ \\mathrm{Riem}\\left(g\\right)_{ \\phantom{\\, x} \\, t \\, t \\, x }^{ \\, x \\phantom{\\, t} \\phantom{\\, t} \\phantom{\\, x} } & = & -{\\left(\\beta_x\\left(t, x, y, z\\right)^{2} - 1\\right)} \\left(\\frac{\\partial\\,\\beta_x}{\\partial x}\\right)^{2} + \\frac{1}{4} \\, {\\left(\\beta_x\\left(t, x, y, z\\right)^{2} - 1\\right)} \\left(\\frac{\\partial\\,\\beta_x}{\\partial y}\\right)^{2} + \\frac{1}{4} \\, {\\left(\\beta_x\\left(t, x, y, z\\right)^{2} - 1\\right)} \\left(\\frac{\\partial\\,\\beta_x}{\\partial z}\\right)^{2} - {\\left(\\beta_x\\left(t, x, y, z\\right)^{2} - 1\\right)} \\frac{\\partial^2\\,\\beta_x}{\\partial t\\partial x} - {\\left(\\beta_x\\left(t, x, y, z\\right)^{3} - \\beta_x\\left(t, x, y, z\\right)\\right)} \\frac{\\partial^2\\,\\beta_x}{\\partial x ^ 2} \\\\ \\mathrm{Riem}\\left(g\\right)_{ \\phantom{\\, x} \\, t \\, t \\, y }^{ \\, x \\phantom{\\, t} \\phantom{\\, t} \\phantom{\\, y} } & = & -{\\left(\\beta_x\\left(t, x, y, z\\right)^{2} - 1\\right)} \\frac{\\partial\\,\\beta_x}{\\partial x} \\frac{\\partial\\,\\beta_x}{\\partial y} - \\frac{1}{2} \\, {\\left(\\beta_x\\left(t, x, y, z\\right)^{2} - 1\\right)} \\frac{\\partial^2\\,\\beta_x}{\\partial t\\partial y} - {\\left(\\beta_x\\left(t, x, y, z\\right)^{3} - \\beta_x\\left(t, x, y, z\\right)\\right)} \\frac{\\partial^2\\,\\beta_x}{\\partial x\\partial y} \\\\ \\mathrm{Riem}\\left(g\\right)_{ \\phantom{\\, x} \\, t \\, t \\, z }^{ \\, x \\phantom{\\, t} \\phantom{\\, t} \\phantom{\\, z} } & = & -{\\left(\\beta_x\\left(t, x, y, z\\right)^{2} - 1\\right)} \\frac{\\partial\\,\\beta_x}{\\partial x} \\frac{\\partial\\,\\beta_x}{\\partial z} - \\frac{1}{2} \\, {\\left(\\beta_x\\left(t, x, y, z\\right)^{2} - 1\\right)} \\frac{\\partial^2\\,\\beta_x}{\\partial t\\partial z} - {\\left(\\beta_x\\left(t, x, y, z\\right)^{3} - \\beta_x\\left(t, x, y, z\\right)\\right)} \\frac{\\partial^2\\,\\beta_x}{\\partial x\\partial z} \\\\ \\mathrm{Riem}\\left(g\\right)_{ \\phantom{\\, x} \\, t \\, x \\, y }^{ \\, x \\phantom{\\, t} \\phantom{\\, x} \\phantom{\\, y} } & = & \\frac{1}{2} \\, {\\left(\\beta_x\\left(t, x, y, z\\right)^{2} - 1\\right)} \\frac{\\partial^2\\,\\beta_x}{\\partial x\\partial y} \\\\ \\mathrm{Riem}\\left(g\\right)_{ \\phantom{\\, x} \\, t \\, x \\, z }^{ \\, x \\phantom{\\, t} \\phantom{\\, x} \\phantom{\\, z} } & = & \\frac{1}{2} \\, {\\left(\\beta_x\\left(t, x, y, z\\right)^{2} - 1\\right)} \\frac{\\partial^2\\,\\beta_x}{\\partial x\\partial z} \\\\ \\mathrm{Riem}\\left(g\\right)_{ \\phantom{\\, x} \\, x \\, t \\, x }^{ \\, x \\phantom{\\, x} \\phantom{\\, t} \\phantom{\\, x} } & = & \\beta_x\\left(t, x, y, z\\right) \\left(\\frac{\\partial\\,\\beta_x}{\\partial x}\\right)^{2} + \\beta_x\\left(t, x, y, z\\right)^{2} \\frac{\\partial^2\\,\\beta_x}{\\partial x ^ 2} - \\frac{1}{4} \\, \\beta_x\\left(t, x, y, z\\right) \\left(\\frac{\\partial\\,\\beta_x}{\\partial y}\\right)^{2} - \\frac{1}{4} \\, \\beta_x\\left(t, x, y, z\\right) \\left(\\frac{\\partial\\,\\beta_x}{\\partial z}\\right)^{2} + \\beta_x\\left(t, x, y, z\\right) \\frac{\\partial^2\\,\\beta_x}{\\partial t\\partial x} \\\\ \\mathrm{Riem}\\left(g\\right)_{ \\phantom{\\, x} \\, x \\, t \\, y }^{ \\, x \\phantom{\\, x} \\phantom{\\, t} \\phantom{\\, y} } & = & \\beta_x\\left(t, x, y, z\\right)^{2} \\frac{\\partial^2\\,\\beta_x}{\\partial x\\partial y} + \\beta_x\\left(t, x, y, z\\right) \\frac{\\partial\\,\\beta_x}{\\partial x} \\frac{\\partial\\,\\beta_x}{\\partial y} + \\frac{1}{2} \\, \\beta_x\\left(t, x, y, z\\right) \\frac{\\partial^2\\,\\beta_x}{\\partial t\\partial y} \\\\ \\mathrm{Riem}\\left(g\\right)_{ \\phantom{\\, x} \\, x \\, t \\, z }^{ \\, x \\phantom{\\, x} \\phantom{\\, t} \\phantom{\\, z} } & = & \\beta_x\\left(t, x, y, z\\right)^{2} \\frac{\\partial^2\\,\\beta_x}{\\partial x\\partial z} + \\beta_x\\left(t, x, y, z\\right) \\frac{\\partial\\,\\beta_x}{\\partial x} \\frac{\\partial\\,\\beta_x}{\\partial z} + \\frac{1}{2} \\, \\beta_x\\left(t, x, y, z\\right) \\frac{\\partial^2\\,\\beta_x}{\\partial t\\partial z} \\\\ \\mathrm{Riem}\\left(g\\right)_{ \\phantom{\\, x} \\, x \\, x \\, y }^{ \\, x \\phantom{\\, x} \\phantom{\\, x} \\phantom{\\, y} } & = & -\\frac{1}{2} \\, \\beta_x\\left(t, x, y, z\\right) \\frac{\\partial^2\\,\\beta_x}{\\partial x\\partial y} \\\\ \\mathrm{Riem}\\left(g\\right)_{ \\phantom{\\, x} \\, x \\, x \\, z }^{ \\, x \\phantom{\\, x} \\phantom{\\, x} \\phantom{\\, z} } & = & -\\frac{1}{2} \\, \\beta_x\\left(t, x, y, z\\right) \\frac{\\partial^2\\,\\beta_x}{\\partial x\\partial z} \\\\ \\mathrm{Riem}\\left(g\\right)_{ \\phantom{\\, x} \\, y \\, t \\, x }^{ \\, x \\phantom{\\, y} \\phantom{\\, t} \\phantom{\\, x} } & = & \\beta_x\\left(t, x, y, z\\right) \\frac{\\partial\\,\\beta_x}{\\partial x} \\frac{\\partial\\,\\beta_x}{\\partial y} + \\frac{1}{2} \\, \\beta_x\\left(t, x, y, z\\right) \\frac{\\partial^2\\,\\beta_x}{\\partial t\\partial y} + \\frac{1}{2} \\, {\\left(\\beta_x\\left(t, x, y, z\\right)^{2} + 1\\right)} \\frac{\\partial^2\\,\\beta_x}{\\partial x\\partial y} \\\\ \\mathrm{Riem}\\left(g\\right)_{ \\phantom{\\, x} \\, y \\, t \\, y }^{ \\, x \\phantom{\\, y} \\phantom{\\, t} \\phantom{\\, y} } & = & \\beta_x\\left(t, x, y, z\\right) \\left(\\frac{\\partial\\,\\beta_x}{\\partial y}\\right)^{2} + \\frac{1}{2} \\, {\\left(\\beta_x\\left(t, x, y, z\\right)^{2} + 1\\right)} \\frac{\\partial^2\\,\\beta_x}{\\partial y ^ 2} \\\\ \\mathrm{Riem}\\left(g\\right)_{ \\phantom{\\, x} \\, y \\, t \\, z }^{ \\, x \\phantom{\\, y} \\phantom{\\, t} \\phantom{\\, z} } & = & \\beta_x\\left(t, x, y, z\\right) \\frac{\\partial\\,\\beta_x}{\\partial y} \\frac{\\partial\\,\\beta_x}{\\partial z} + \\frac{1}{2} \\, {\\left(\\beta_x\\left(t, x, y, z\\right)^{2} + 1\\right)} \\frac{\\partial^2\\,\\beta_x}{\\partial y\\partial z} \\\\ \\mathrm{Riem}\\left(g\\right)_{ \\phantom{\\, x} \\, y \\, x \\, y }^{ \\, x \\phantom{\\, y} \\phantom{\\, x} \\phantom{\\, y} } & = & -\\frac{1}{4} \\, \\left(\\frac{\\partial\\,\\beta_x}{\\partial y}\\right)^{2} - \\frac{1}{2} \\, \\beta_x\\left(t, x, y, z\\right) \\frac{\\partial^2\\,\\beta_x}{\\partial y ^ 2} \\\\ \\mathrm{Riem}\\left(g\\right)_{ \\phantom{\\, x} \\, y \\, x \\, z }^{ \\, x \\phantom{\\, y} \\phantom{\\, x} \\phantom{\\, z} } & = & -\\frac{1}{2} \\, \\beta_x\\left(t, x, y, z\\right) \\frac{\\partial^2\\,\\beta_x}{\\partial y\\partial z} - \\frac{1}{4} \\, \\frac{\\partial\\,\\beta_x}{\\partial y} \\frac{\\partial\\,\\beta_x}{\\partial z} \\\\ \\mathrm{Riem}\\left(g\\right)_{ \\phantom{\\, x} \\, z \\, t \\, x }^{ \\, x \\phantom{\\, z} \\phantom{\\, t} \\phantom{\\, x} } & = & \\beta_x\\left(t, x, y, z\\right) \\frac{\\partial\\,\\beta_x}{\\partial x} \\frac{\\partial\\,\\beta_x}{\\partial z} + \\frac{1}{2} \\, \\beta_x\\left(t, x, y, z\\right) \\frac{\\partial^2\\,\\beta_x}{\\partial t\\partial z} + \\frac{1}{2} \\, {\\left(\\beta_x\\left(t, x, y, z\\right)^{2} + 1\\right)} \\frac{\\partial^2\\,\\beta_x}{\\partial x\\partial z} \\\\ \\mathrm{Riem}\\left(g\\right)_{ \\phantom{\\, x} \\, z \\, t \\, y }^{ \\, x \\phantom{\\, z} \\phantom{\\, t} \\phantom{\\, y} } & = & \\beta_x\\left(t, x, y, z\\right) \\frac{\\partial\\,\\beta_x}{\\partial y} \\frac{\\partial\\,\\beta_x}{\\partial z} + \\frac{1}{2} \\, {\\left(\\beta_x\\left(t, x, y, z\\right)^{2} + 1\\right)} \\frac{\\partial^2\\,\\beta_x}{\\partial y\\partial z} \\\\ \\mathrm{Riem}\\left(g\\right)_{ \\phantom{\\, x} \\, z \\, t \\, z }^{ \\, x \\phantom{\\, z} \\phantom{\\, t} \\phantom{\\, z} } & = & \\beta_x\\left(t, x, y, z\\right) \\left(\\frac{\\partial\\,\\beta_x}{\\partial z}\\right)^{2} + \\frac{1}{2} \\, {\\left(\\beta_x\\left(t, x, y, z\\right)^{2} + 1\\right)} \\frac{\\partial^2\\,\\beta_x}{\\partial z ^ 2} \\\\ \\mathrm{Riem}\\left(g\\right)_{ \\phantom{\\, x} \\, z \\, x \\, y }^{ \\, x \\phantom{\\, z} \\phantom{\\, x} \\phantom{\\, y} } & = & -\\frac{1}{2} \\, \\beta_x\\left(t, x, y, z\\right) \\frac{\\partial^2\\,\\beta_x}{\\partial y\\partial z} - \\frac{1}{4} \\, \\frac{\\partial\\,\\beta_x}{\\partial y} \\frac{\\partial\\,\\beta_x}{\\partial z} \\\\ \\mathrm{Riem}\\left(g\\right)_{ \\phantom{\\, x} \\, z \\, x \\, z }^{ \\, x \\phantom{\\, z} \\phantom{\\, x} \\phantom{\\, z} } & = & -\\frac{1}{4} \\, \\left(\\frac{\\partial\\,\\beta_x}{\\partial z}\\right)^{2} - \\frac{1}{2} \\, \\beta_x\\left(t, x, y, z\\right) \\frac{\\partial^2\\,\\beta_x}{\\partial z ^ 2} \\\\ \\mathrm{Riem}\\left(g\\right)_{ \\phantom{\\, y} \\, t \\, t \\, x }^{ \\, y \\phantom{\\, t} \\phantom{\\, t} \\phantom{\\, x} } & = & \\beta_x\\left(t, x, y, z\\right) \\frac{\\partial^2\\,\\beta_x}{\\partial x\\partial y} + \\frac{\\partial\\,\\beta_x}{\\partial x} \\frac{\\partial\\,\\beta_x}{\\partial y} + \\frac{1}{2} \\, \\frac{\\partial^2\\,\\beta_x}{\\partial t\\partial y} \\\\ \\mathrm{Riem}\\left(g\\right)_{ \\phantom{\\, y} \\, t \\, t \\, y }^{ \\, y \\phantom{\\, t} \\phantom{\\, t} \\phantom{\\, y} } & = & \\frac{1}{4} \\, {\\left(\\beta_x\\left(t, x, y, z\\right)^{2} + 3\\right)} \\left(\\frac{\\partial\\,\\beta_x}{\\partial y}\\right)^{2} + \\beta_x\\left(t, x, y, z\\right) \\frac{\\partial^2\\,\\beta_x}{\\partial y ^ 2} \\\\ \\mathrm{Riem}\\left(g\\right)_{ \\phantom{\\, y} \\, t \\, t \\, z }^{ \\, y \\phantom{\\, t} \\phantom{\\, t} \\phantom{\\, z} } & = & \\frac{1}{4} \\, {\\left(\\beta_x\\left(t, x, y, z\\right)^{2} + 3\\right)} \\frac{\\partial\\,\\beta_x}{\\partial y} \\frac{\\partial\\,\\beta_x}{\\partial z} + \\beta_x\\left(t, x, y, z\\right) \\frac{\\partial^2\\,\\beta_x}{\\partial y\\partial z} \\\\ \\mathrm{Riem}\\left(g\\right)_{ \\phantom{\\, y} \\, t \\, x \\, y }^{ \\, y \\phantom{\\, t} \\phantom{\\, x} \\phantom{\\, y} } & = & -\\frac{1}{4} \\, \\beta_x\\left(t, x, y, z\\right) \\left(\\frac{\\partial\\,\\beta_x}{\\partial y}\\right)^{2} - \\frac{1}{2} \\, \\frac{\\partial^2\\,\\beta_x}{\\partial y ^ 2} \\\\ \\mathrm{Riem}\\left(g\\right)_{ \\phantom{\\, y} \\, t \\, x \\, z }^{ \\, y \\phantom{\\, t} \\phantom{\\, x} \\phantom{\\, z} } & = & -\\frac{1}{4} \\, \\beta_x\\left(t, x, y, z\\right) \\frac{\\partial\\,\\beta_x}{\\partial y} \\frac{\\partial\\,\\beta_x}{\\partial z} - \\frac{1}{2} \\, \\frac{\\partial^2\\,\\beta_x}{\\partial y\\partial z} \\\\ \\mathrm{Riem}\\left(g\\right)_{ \\phantom{\\, y} \\, x \\, t \\, x }^{ \\, y \\phantom{\\, x} \\phantom{\\, t} \\phantom{\\, x} } & = & -\\frac{1}{2} \\, \\frac{\\partial^2\\,\\beta_x}{\\partial x\\partial y} \\\\ \\mathrm{Riem}\\left(g\\right)_{ \\phantom{\\, y} \\, x \\, t \\, y }^{ \\, y \\phantom{\\, x} \\phantom{\\, t} \\phantom{\\, y} } & = & -\\frac{1}{4} \\, \\beta_x\\left(t, x, y, z\\right) \\left(\\frac{\\partial\\,\\beta_x}{\\partial y}\\right)^{2} - \\frac{1}{2} \\, \\frac{\\partial^2\\,\\beta_x}{\\partial y ^ 2} \\\\ \\mathrm{Riem}\\left(g\\right)_{ \\phantom{\\, y} \\, x \\, t \\, z }^{ \\, y \\phantom{\\, x} \\phantom{\\, t} \\phantom{\\, z} } & = & -\\frac{1}{4} \\, \\beta_x\\left(t, x, y, z\\right) \\frac{\\partial\\,\\beta_x}{\\partial y} \\frac{\\partial\\,\\beta_x}{\\partial z} - \\frac{1}{2} \\, \\frac{\\partial^2\\,\\beta_x}{\\partial y\\partial z} \\\\ \\mathrm{Riem}\\left(g\\right)_{ \\phantom{\\, y} \\, x \\, x \\, y }^{ \\, y \\phantom{\\, x} \\phantom{\\, x} \\phantom{\\, y} } & = & \\frac{1}{4} \\, \\left(\\frac{\\partial\\,\\beta_x}{\\partial y}\\right)^{2} \\\\ \\mathrm{Riem}\\left(g\\right)_{ \\phantom{\\, y} \\, x \\, x \\, z }^{ \\, y \\phantom{\\, x} \\phantom{\\, x} \\phantom{\\, z} } & = & \\frac{1}{4} \\, \\frac{\\partial\\,\\beta_x}{\\partial y} \\frac{\\partial\\,\\beta_x}{\\partial z} \\\\ \\mathrm{Riem}\\left(g\\right)_{ \\phantom{\\, z} \\, t \\, t \\, x }^{ \\, z \\phantom{\\, t} \\phantom{\\, t} \\phantom{\\, x} } & = & \\beta_x\\left(t, x, y, z\\right) \\frac{\\partial^2\\,\\beta_x}{\\partial x\\partial z} + \\frac{\\partial\\,\\beta_x}{\\partial x} \\frac{\\partial\\,\\beta_x}{\\partial z} + \\frac{1}{2} \\, \\frac{\\partial^2\\,\\beta_x}{\\partial t\\partial z} \\\\ \\mathrm{Riem}\\left(g\\right)_{ \\phantom{\\, z} \\, t \\, t \\, y }^{ \\, z \\phantom{\\, t} \\phantom{\\, t} \\phantom{\\, y} } & = & \\frac{1}{4} \\, {\\left(\\beta_x\\left(t, x, y, z\\right)^{2} + 3\\right)} \\frac{\\partial\\,\\beta_x}{\\partial y} \\frac{\\partial\\,\\beta_x}{\\partial z} + \\beta_x\\left(t, x, y, z\\right) \\frac{\\partial^2\\,\\beta_x}{\\partial y\\partial z} \\\\ \\mathrm{Riem}\\left(g\\right)_{ \\phantom{\\, z} \\, t \\, t \\, z }^{ \\, z \\phantom{\\, t} \\phantom{\\, t} \\phantom{\\, z} } & = & \\frac{1}{4} \\, {\\left(\\beta_x\\left(t, x, y, z\\right)^{2} + 3\\right)} \\left(\\frac{\\partial\\,\\beta_x}{\\partial z}\\right)^{2} + \\beta_x\\left(t, x, y, z\\right) \\frac{\\partial^2\\,\\beta_x}{\\partial z ^ 2} \\\\ \\mathrm{Riem}\\left(g\\right)_{ \\phantom{\\, z} \\, t \\, x \\, y }^{ \\, z \\phantom{\\, t} \\phantom{\\, x} \\phantom{\\, y} } & = & -\\frac{1}{4} \\, \\beta_x\\left(t, x, y, z\\right) \\frac{\\partial\\,\\beta_x}{\\partial y} \\frac{\\partial\\,\\beta_x}{\\partial z} - \\frac{1}{2} \\, \\frac{\\partial^2\\,\\beta_x}{\\partial y\\partial z} \\\\ \\mathrm{Riem}\\left(g\\right)_{ \\phantom{\\, z} \\, t \\, x \\, z }^{ \\, z \\phantom{\\, t} \\phantom{\\, x} \\phantom{\\, z} } & = & -\\frac{1}{4} \\, \\beta_x\\left(t, x, y, z\\right) \\left(\\frac{\\partial\\,\\beta_x}{\\partial z}\\right)^{2} - \\frac{1}{2} \\, \\frac{\\partial^2\\,\\beta_x}{\\partial z ^ 2} \\\\ \\mathrm{Riem}\\left(g\\right)_{ \\phantom{\\, z} \\, x \\, t \\, x }^{ \\, z \\phantom{\\, x} \\phantom{\\, t} \\phantom{\\, x} } & = & -\\frac{1}{2} \\, \\frac{\\partial^2\\,\\beta_x}{\\partial x\\partial z} \\\\ \\mathrm{Riem}\\left(g\\right)_{ \\phantom{\\, z} \\, x \\, t \\, y }^{ \\, z \\phantom{\\, x} \\phantom{\\, t} \\phantom{\\, y} } & = & -\\frac{1}{4} \\, \\beta_x\\left(t, x, y, z\\right) \\frac{\\partial\\,\\beta_x}{\\partial y} \\frac{\\partial\\,\\beta_x}{\\partial z} - \\frac{1}{2} \\, \\frac{\\partial^2\\,\\beta_x}{\\partial y\\partial z} \\\\ \\mathrm{Riem}\\left(g\\right)_{ \\phantom{\\, z} \\, x \\, t \\, z }^{ \\, z \\phantom{\\, x} \\phantom{\\, t} \\phantom{\\, z} } & = & -\\frac{1}{4} \\, \\beta_x\\left(t, x, y, z\\right) \\left(\\frac{\\partial\\,\\beta_x}{\\partial z}\\right)^{2} - \\frac{1}{2} \\, \\frac{\\partial^2\\,\\beta_x}{\\partial z ^ 2} \\\\ \\mathrm{Riem}\\left(g\\right)_{ \\phantom{\\, z} \\, x \\, x \\, y }^{ \\, z \\phantom{\\, x} \\phantom{\\, x} \\phantom{\\, y} } & = & \\frac{1}{4} \\, \\frac{\\partial\\,\\beta_x}{\\partial y} \\frac{\\partial\\,\\beta_x}{\\partial z} \\\\ \\mathrm{Riem}\\left(g\\right)_{ \\phantom{\\, z} \\, x \\, x \\, z }^{ \\, z \\phantom{\\, x} \\phantom{\\, x} \\phantom{\\, z} } & = & \\frac{1}{4} \\, \\left(\\frac{\\partial\\,\\beta_x}{\\partial z}\\right)^{2} \\end{array}$$"
      ],
      "text/plain": [
       "Riem(g)^t_ttx = -shiftx(t, x, y, z)*(d(shiftx)/dx)^2 - shiftx(t, x, y, z)^2*d^2(shiftx)/dx^2 + 1/4*shiftx(t, x, y, z)*(d(shiftx)/dy)^2 + 1/4*shiftx(t, x, y, z)*(d(shiftx)/dz)^2 - shiftx(t, x, y, z)*d^2(shiftx)/dtdx \n",
       "Riem(g)^t_tty = -shiftx(t, x, y, z)^2*d^2(shiftx)/dxdy - shiftx(t, x, y, z)*d(shiftx)/dx*d(shiftx)/dy - 1/2*shiftx(t, x, y, z)*d^2(shiftx)/dtdy \n",
       "Riem(g)^t_ttz = -shiftx(t, x, y, z)^2*d^2(shiftx)/dxdz - shiftx(t, x, y, z)*d(shiftx)/dx*d(shiftx)/dz - 1/2*shiftx(t, x, y, z)*d^2(shiftx)/dtdz \n",
       "Riem(g)^t_txy = 1/2*shiftx(t, x, y, z)*d^2(shiftx)/dxdy \n",
       "Riem(g)^t_txz = 1/2*shiftx(t, x, y, z)*d^2(shiftx)/dxdz \n",
       "Riem(g)^t_xtx = (d(shiftx)/dx)^2 + shiftx(t, x, y, z)*d^2(shiftx)/dx^2 - 1/4*(d(shiftx)/dy)^2 - 1/4*(d(shiftx)/dz)^2 + d^2(shiftx)/dtdx \n",
       "Riem(g)^t_xty = shiftx(t, x, y, z)*d^2(shiftx)/dxdy + d(shiftx)/dx*d(shiftx)/dy + 1/2*d^2(shiftx)/dtdy \n",
       "Riem(g)^t_xtz = shiftx(t, x, y, z)*d^2(shiftx)/dxdz + d(shiftx)/dx*d(shiftx)/dz + 1/2*d^2(shiftx)/dtdz \n",
       "Riem(g)^t_xxy = -1/2*d^2(shiftx)/dxdy \n",
       "Riem(g)^t_xxz = -1/2*d^2(shiftx)/dxdz \n",
       "Riem(g)^t_ytx = 1/2*shiftx(t, x, y, z)*d^2(shiftx)/dxdy + d(shiftx)/dx*d(shiftx)/dy + 1/2*d^2(shiftx)/dtdy \n",
       "Riem(g)^t_yty = 3/4*(d(shiftx)/dy)^2 + 1/2*shiftx(t, x, y, z)*d^2(shiftx)/dy^2 \n",
       "Riem(g)^t_ytz = 1/2*shiftx(t, x, y, z)*d^2(shiftx)/dydz + 3/4*d(shiftx)/dy*d(shiftx)/dz \n",
       "Riem(g)^t_yxy = -1/2*d^2(shiftx)/dy^2 \n",
       "Riem(g)^t_yxz = -1/2*d^2(shiftx)/dydz \n",
       "Riem(g)^t_ztx = 1/2*shiftx(t, x, y, z)*d^2(shiftx)/dxdz + d(shiftx)/dx*d(shiftx)/dz + 1/2*d^2(shiftx)/dtdz \n",
       "Riem(g)^t_zty = 1/2*shiftx(t, x, y, z)*d^2(shiftx)/dydz + 3/4*d(shiftx)/dy*d(shiftx)/dz \n",
       "Riem(g)^t_ztz = 3/4*(d(shiftx)/dz)^2 + 1/2*shiftx(t, x, y, z)*d^2(shiftx)/dz^2 \n",
       "Riem(g)^t_zxy = -1/2*d^2(shiftx)/dydz \n",
       "Riem(g)^t_zxz = -1/2*d^2(shiftx)/dz^2 \n",
       "Riem(g)^x_ttx = -(shiftx(t, x, y, z)^2 - 1)*(d(shiftx)/dx)^2 + 1/4*(shiftx(t, x, y, z)^2 - 1)*(d(shiftx)/dy)^2 + 1/4*(shiftx(t, x, y, z)^2 - 1)*(d(shiftx)/dz)^2 - (shiftx(t, x, y, z)^2 - 1)*d^2(shiftx)/dtdx - (shiftx(t, x, y, z)^3 - shiftx(t, x, y, z))*d^2(shiftx)/dx^2 \n",
       "Riem(g)^x_tty = -(shiftx(t, x, y, z)^2 - 1)*d(shiftx)/dx*d(shiftx)/dy - 1/2*(shiftx(t, x, y, z)^2 - 1)*d^2(shiftx)/dtdy - (shiftx(t, x, y, z)^3 - shiftx(t, x, y, z))*d^2(shiftx)/dxdy \n",
       "Riem(g)^x_ttz = -(shiftx(t, x, y, z)^2 - 1)*d(shiftx)/dx*d(shiftx)/dz - 1/2*(shiftx(t, x, y, z)^2 - 1)*d^2(shiftx)/dtdz - (shiftx(t, x, y, z)^3 - shiftx(t, x, y, z))*d^2(shiftx)/dxdz \n",
       "Riem(g)^x_txy = 1/2*(shiftx(t, x, y, z)^2 - 1)*d^2(shiftx)/dxdy \n",
       "Riem(g)^x_txz = 1/2*(shiftx(t, x, y, z)^2 - 1)*d^2(shiftx)/dxdz \n",
       "Riem(g)^x_xtx = shiftx(t, x, y, z)*(d(shiftx)/dx)^2 + shiftx(t, x, y, z)^2*d^2(shiftx)/dx^2 - 1/4*shiftx(t, x, y, z)*(d(shiftx)/dy)^2 - 1/4*shiftx(t, x, y, z)*(d(shiftx)/dz)^2 + shiftx(t, x, y, z)*d^2(shiftx)/dtdx \n",
       "Riem(g)^x_xty = shiftx(t, x, y, z)^2*d^2(shiftx)/dxdy + shiftx(t, x, y, z)*d(shiftx)/dx*d(shiftx)/dy + 1/2*shiftx(t, x, y, z)*d^2(shiftx)/dtdy \n",
       "Riem(g)^x_xtz = shiftx(t, x, y, z)^2*d^2(shiftx)/dxdz + shiftx(t, x, y, z)*d(shiftx)/dx*d(shiftx)/dz + 1/2*shiftx(t, x, y, z)*d^2(shiftx)/dtdz \n",
       "Riem(g)^x_xxy = -1/2*shiftx(t, x, y, z)*d^2(shiftx)/dxdy \n",
       "Riem(g)^x_xxz = -1/2*shiftx(t, x, y, z)*d^2(shiftx)/dxdz \n",
       "Riem(g)^x_ytx = shiftx(t, x, y, z)*d(shiftx)/dx*d(shiftx)/dy + 1/2*shiftx(t, x, y, z)*d^2(shiftx)/dtdy + 1/2*(shiftx(t, x, y, z)^2 + 1)*d^2(shiftx)/dxdy \n",
       "Riem(g)^x_yty = shiftx(t, x, y, z)*(d(shiftx)/dy)^2 + 1/2*(shiftx(t, x, y, z)^2 + 1)*d^2(shiftx)/dy^2 \n",
       "Riem(g)^x_ytz = shiftx(t, x, y, z)*d(shiftx)/dy*d(shiftx)/dz + 1/2*(shiftx(t, x, y, z)^2 + 1)*d^2(shiftx)/dydz \n",
       "Riem(g)^x_yxy = -1/4*(d(shiftx)/dy)^2 - 1/2*shiftx(t, x, y, z)*d^2(shiftx)/dy^2 \n",
       "Riem(g)^x_yxz = -1/2*shiftx(t, x, y, z)*d^2(shiftx)/dydz - 1/4*d(shiftx)/dy*d(shiftx)/dz \n",
       "Riem(g)^x_ztx = shiftx(t, x, y, z)*d(shiftx)/dx*d(shiftx)/dz + 1/2*shiftx(t, x, y, z)*d^2(shiftx)/dtdz + 1/2*(shiftx(t, x, y, z)^2 + 1)*d^2(shiftx)/dxdz \n",
       "Riem(g)^x_zty = shiftx(t, x, y, z)*d(shiftx)/dy*d(shiftx)/dz + 1/2*(shiftx(t, x, y, z)^2 + 1)*d^2(shiftx)/dydz \n",
       "Riem(g)^x_ztz = shiftx(t, x, y, z)*(d(shiftx)/dz)^2 + 1/2*(shiftx(t, x, y, z)^2 + 1)*d^2(shiftx)/dz^2 \n",
       "Riem(g)^x_zxy = -1/2*shiftx(t, x, y, z)*d^2(shiftx)/dydz - 1/4*d(shiftx)/dy*d(shiftx)/dz \n",
       "Riem(g)^x_zxz = -1/4*(d(shiftx)/dz)^2 - 1/2*shiftx(t, x, y, z)*d^2(shiftx)/dz^2 \n",
       "Riem(g)^y_ttx = shiftx(t, x, y, z)*d^2(shiftx)/dxdy + d(shiftx)/dx*d(shiftx)/dy + 1/2*d^2(shiftx)/dtdy \n",
       "Riem(g)^y_tty = 1/4*(shiftx(t, x, y, z)^2 + 3)*(d(shiftx)/dy)^2 + shiftx(t, x, y, z)*d^2(shiftx)/dy^2 \n",
       "Riem(g)^y_ttz = 1/4*(shiftx(t, x, y, z)^2 + 3)*d(shiftx)/dy*d(shiftx)/dz + shiftx(t, x, y, z)*d^2(shiftx)/dydz \n",
       "Riem(g)^y_txy = -1/4*shiftx(t, x, y, z)*(d(shiftx)/dy)^2 - 1/2*d^2(shiftx)/dy^2 \n",
       "Riem(g)^y_txz = -1/4*shiftx(t, x, y, z)*d(shiftx)/dy*d(shiftx)/dz - 1/2*d^2(shiftx)/dydz \n",
       "Riem(g)^y_xtx = -1/2*d^2(shiftx)/dxdy \n",
       "Riem(g)^y_xty = -1/4*shiftx(t, x, y, z)*(d(shiftx)/dy)^2 - 1/2*d^2(shiftx)/dy^2 \n",
       "Riem(g)^y_xtz = -1/4*shiftx(t, x, y, z)*d(shiftx)/dy*d(shiftx)/dz - 1/2*d^2(shiftx)/dydz \n",
       "Riem(g)^y_xxy = 1/4*(d(shiftx)/dy)^2 \n",
       "Riem(g)^y_xxz = 1/4*d(shiftx)/dy*d(shiftx)/dz \n",
       "Riem(g)^z_ttx = shiftx(t, x, y, z)*d^2(shiftx)/dxdz + d(shiftx)/dx*d(shiftx)/dz + 1/2*d^2(shiftx)/dtdz \n",
       "Riem(g)^z_tty = 1/4*(shiftx(t, x, y, z)^2 + 3)*d(shiftx)/dy*d(shiftx)/dz + shiftx(t, x, y, z)*d^2(shiftx)/dydz \n",
       "Riem(g)^z_ttz = 1/4*(shiftx(t, x, y, z)^2 + 3)*(d(shiftx)/dz)^2 + shiftx(t, x, y, z)*d^2(shiftx)/dz^2 \n",
       "Riem(g)^z_txy = -1/4*shiftx(t, x, y, z)*d(shiftx)/dy*d(shiftx)/dz - 1/2*d^2(shiftx)/dydz \n",
       "Riem(g)^z_txz = -1/4*shiftx(t, x, y, z)*(d(shiftx)/dz)^2 - 1/2*d^2(shiftx)/dz^2 \n",
       "Riem(g)^z_xtx = -1/2*d^2(shiftx)/dxdz \n",
       "Riem(g)^z_xty = -1/4*shiftx(t, x, y, z)*d(shiftx)/dy*d(shiftx)/dz - 1/2*d^2(shiftx)/dydz \n",
       "Riem(g)^z_xtz = -1/4*shiftx(t, x, y, z)*(d(shiftx)/dz)^2 - 1/2*d^2(shiftx)/dz^2 \n",
       "Riem(g)^z_xxy = 1/4*d(shiftx)/dy*d(shiftx)/dz \n",
       "Riem(g)^z_xxz = 1/4*(d(shiftx)/dz)^2 "
      ]
     },
     "execution_count": 7,
     "metadata": {},
     "output_type": "execute_result"
    }
   ],
   "source": [
    "Rie = g.riemann()\n",
    "Rie.display_comp(only_nonredundant=True)"
   ]
  },
  {
   "cell_type": "code",
   "execution_count": 8,
   "metadata": {},
   "outputs": [
    {
     "data": {
      "text/html": [
       "<html><script type=\"math/tex; mode=display\">\\newcommand{\\Bold}[1]{\\mathbf{#1}}-\\beta_x\\left(t, x, y, z\\right) \\left(\\frac{\\partial\\,\\beta_x}{\\partial x}\\right)^{2} - \\beta_x\\left(t, x, y, z\\right)^{2} \\frac{\\partial^2\\,\\beta_x}{\\partial x ^ 2} + \\frac{1}{4} \\, \\beta_x\\left(t, x, y, z\\right) \\left(\\frac{\\partial\\,\\beta_x}{\\partial y}\\right)^{2} + \\frac{1}{4} \\, \\beta_x\\left(t, x, y, z\\right) \\left(\\frac{\\partial\\,\\beta_x}{\\partial z}\\right)^{2} - \\beta_x\\left(t, x, y, z\\right) \\frac{\\partial^2\\,\\beta_x}{\\partial t\\partial x}</script></html>"
      ],
      "text/latex": [
       "$$\\newcommand{\\Bold}[1]{\\mathbf{#1}}-\\beta_x\\left(t, x, y, z\\right) \\left(\\frac{\\partial\\,\\beta_x}{\\partial x}\\right)^{2} - \\beta_x\\left(t, x, y, z\\right)^{2} \\frac{\\partial^2\\,\\beta_x}{\\partial x ^ 2} + \\frac{1}{4} \\, \\beta_x\\left(t, x, y, z\\right) \\left(\\frac{\\partial\\,\\beta_x}{\\partial y}\\right)^{2} + \\frac{1}{4} \\, \\beta_x\\left(t, x, y, z\\right) \\left(\\frac{\\partial\\,\\beta_x}{\\partial z}\\right)^{2} - \\beta_x\\left(t, x, y, z\\right) \\frac{\\partial^2\\,\\beta_x}{\\partial t\\partial x}$$"
      ],
      "text/plain": [
       "-shiftx(t, x, y, z)*(d(shiftx)/dx)^2 - shiftx(t, x, y, z)^2*d^2(shiftx)/dx^2 + 1/4*shiftx(t, x, y, z)*(d(shiftx)/dy)^2 + 1/4*shiftx(t, x, y, z)*(d(shiftx)/dz)^2 - shiftx(t, x, y, z)*d^2(shiftx)/dtdx"
      ]
     },
     "execution_count": 8,
     "metadata": {},
     "output_type": "execute_result"
    }
   ],
   "source": [
    "Rie[1,1,1,0]"
   ]
  },
  {
   "cell_type": "markdown",
   "metadata": {},
   "source": [
    "## Einstein tensor components\n",
    "\n",
    "\\begin{equation}\n",
    "G_{\\mu \\nu} = R_{\\mu \\nu} - \\frac{1}{2} R g_{\\mu \\nu} - \\Lambda g_{\\mu \\nu}\n",
    "\\end{equation}"
   ]
  },
  {
   "cell_type": "code",
   "execution_count": 9,
   "metadata": {},
   "outputs": [
    {
     "name": "stdout",
     "output_type": "stream",
     "text": [
      "Field of symmetric bilinear forms G on the 4-dimensional Lorentzian manifold M\n",
      "(0, 2)\n"
     ]
    },
    {
     "data": {
      "text/html": [
       "<html><script type=\"math/tex; mode=display\">\\newcommand{\\Bold}[1]{\\mathbf{#1}}\\begin{array}{lcl} G_{ \\, t \\, t }^{ \\phantom{\\, t}\\phantom{\\, t} } & = & -\\frac{1}{4} \\, {\\left(3 \\, \\beta_x\\left(t, x, y, z\\right)^{2} + 1\\right)} \\left(\\frac{\\partial\\,\\beta_x}{\\partial y}\\right)^{2} - \\frac{1}{4} \\, {\\left(3 \\, \\beta_x\\left(t, x, y, z\\right)^{2} + 1\\right)} \\left(\\frac{\\partial\\,\\beta_x}{\\partial z}\\right)^{2} - \\beta_x\\left(t, x, y, z\\right) \\frac{\\partial^2\\,\\beta_x}{\\partial y ^ 2} - \\beta_x\\left(t, x, y, z\\right) \\frac{\\partial^2\\,\\beta_x}{\\partial z ^ 2} \\\\ G_{ \\, t \\, x }^{ \\phantom{\\, t}\\phantom{\\, x} } & = & \\frac{3}{4} \\, \\beta_x\\left(t, x, y, z\\right) \\left(\\frac{\\partial\\,\\beta_x}{\\partial y}\\right)^{2} + \\frac{3}{4} \\, \\beta_x\\left(t, x, y, z\\right) \\left(\\frac{\\partial\\,\\beta_x}{\\partial z}\\right)^{2} + \\frac{1}{2} \\, \\frac{\\partial^2\\,\\beta_x}{\\partial y ^ 2} + \\frac{1}{2} \\, \\frac{\\partial^2\\,\\beta_x}{\\partial z ^ 2} \\\\ G_{ \\, t \\, y }^{ \\phantom{\\, t}\\phantom{\\, y} } & = & -\\beta_x\\left(t, x, y, z\\right) \\frac{\\partial\\,\\beta_x}{\\partial x} \\frac{\\partial\\,\\beta_x}{\\partial y} - \\frac{1}{2} \\, \\beta_x\\left(t, x, y, z\\right) \\frac{\\partial^2\\,\\beta_x}{\\partial t\\partial y} - \\frac{1}{2} \\, {\\left(\\beta_x\\left(t, x, y, z\\right)^{2} + 1\\right)} \\frac{\\partial^2\\,\\beta_x}{\\partial x\\partial y} \\\\ G_{ \\, t \\, z }^{ \\phantom{\\, t}\\phantom{\\, z} } & = & -\\beta_x\\left(t, x, y, z\\right) \\frac{\\partial\\,\\beta_x}{\\partial x} \\frac{\\partial\\,\\beta_x}{\\partial z} - \\frac{1}{2} \\, \\beta_x\\left(t, x, y, z\\right) \\frac{\\partial^2\\,\\beta_x}{\\partial t\\partial z} - \\frac{1}{2} \\, {\\left(\\beta_x\\left(t, x, y, z\\right)^{2} + 1\\right)} \\frac{\\partial^2\\,\\beta_x}{\\partial x\\partial z} \\\\ G_{ \\, x \\, x }^{ \\phantom{\\, x}\\phantom{\\, x} } & = & -\\frac{3}{4} \\, \\left(\\frac{\\partial\\,\\beta_x}{\\partial y}\\right)^{2} - \\frac{3}{4} \\, \\left(\\frac{\\partial\\,\\beta_x}{\\partial z}\\right)^{2} \\\\ G_{ \\, x \\, y }^{ \\phantom{\\, x}\\phantom{\\, y} } & = & \\frac{1}{2} \\, \\beta_x\\left(t, x, y, z\\right) \\frac{\\partial^2\\,\\beta_x}{\\partial x\\partial y} + \\frac{\\partial\\,\\beta_x}{\\partial x} \\frac{\\partial\\,\\beta_x}{\\partial y} + \\frac{1}{2} \\, \\frac{\\partial^2\\,\\beta_x}{\\partial t\\partial y} \\\\ G_{ \\, x \\, z }^{ \\phantom{\\, x}\\phantom{\\, z} } & = & \\frac{1}{2} \\, \\beta_x\\left(t, x, y, z\\right) \\frac{\\partial^2\\,\\beta_x}{\\partial x\\partial z} + \\frac{\\partial\\,\\beta_x}{\\partial x} \\frac{\\partial\\,\\beta_x}{\\partial z} + \\frac{1}{2} \\, \\frac{\\partial^2\\,\\beta_x}{\\partial t\\partial z} \\\\ G_{ \\, y \\, y }^{ \\phantom{\\, y}\\phantom{\\, y} } & = & -\\left(\\frac{\\partial\\,\\beta_x}{\\partial x}\\right)^{2} - \\beta_x\\left(t, x, y, z\\right) \\frac{\\partial^2\\,\\beta_x}{\\partial x ^ 2} + \\frac{1}{4} \\, \\left(\\frac{\\partial\\,\\beta_x}{\\partial y}\\right)^{2} - \\frac{1}{4} \\, \\left(\\frac{\\partial\\,\\beta_x}{\\partial z}\\right)^{2} - \\frac{\\partial^2\\,\\beta_x}{\\partial t\\partial x} \\\\ G_{ \\, y \\, z }^{ \\phantom{\\, y}\\phantom{\\, z} } & = & \\frac{1}{2} \\, \\frac{\\partial\\,\\beta_x}{\\partial y} \\frac{\\partial\\,\\beta_x}{\\partial z} \\\\ G_{ \\, z \\, z }^{ \\phantom{\\, z}\\phantom{\\, z} } & = & -\\left(\\frac{\\partial\\,\\beta_x}{\\partial x}\\right)^{2} - \\beta_x\\left(t, x, y, z\\right) \\frac{\\partial^2\\,\\beta_x}{\\partial x ^ 2} - \\frac{1}{4} \\, \\left(\\frac{\\partial\\,\\beta_x}{\\partial y}\\right)^{2} + \\frac{1}{4} \\, \\left(\\frac{\\partial\\,\\beta_x}{\\partial z}\\right)^{2} - \\frac{\\partial^2\\,\\beta_x}{\\partial t\\partial x} \\end{array}</script></html>"
      ],
      "text/latex": [
       "$$\\newcommand{\\Bold}[1]{\\mathbf{#1}}\\begin{array}{lcl} G_{ \\, t \\, t }^{ \\phantom{\\, t}\\phantom{\\, t} } & = & -\\frac{1}{4} \\, {\\left(3 \\, \\beta_x\\left(t, x, y, z\\right)^{2} + 1\\right)} \\left(\\frac{\\partial\\,\\beta_x}{\\partial y}\\right)^{2} - \\frac{1}{4} \\, {\\left(3 \\, \\beta_x\\left(t, x, y, z\\right)^{2} + 1\\right)} \\left(\\frac{\\partial\\,\\beta_x}{\\partial z}\\right)^{2} - \\beta_x\\left(t, x, y, z\\right) \\frac{\\partial^2\\,\\beta_x}{\\partial y ^ 2} - \\beta_x\\left(t, x, y, z\\right) \\frac{\\partial^2\\,\\beta_x}{\\partial z ^ 2} \\\\ G_{ \\, t \\, x }^{ \\phantom{\\, t}\\phantom{\\, x} } & = & \\frac{3}{4} \\, \\beta_x\\left(t, x, y, z\\right) \\left(\\frac{\\partial\\,\\beta_x}{\\partial y}\\right)^{2} + \\frac{3}{4} \\, \\beta_x\\left(t, x, y, z\\right) \\left(\\frac{\\partial\\,\\beta_x}{\\partial z}\\right)^{2} + \\frac{1}{2} \\, \\frac{\\partial^2\\,\\beta_x}{\\partial y ^ 2} + \\frac{1}{2} \\, \\frac{\\partial^2\\,\\beta_x}{\\partial z ^ 2} \\\\ G_{ \\, t \\, y }^{ \\phantom{\\, t}\\phantom{\\, y} } & = & -\\beta_x\\left(t, x, y, z\\right) \\frac{\\partial\\,\\beta_x}{\\partial x} \\frac{\\partial\\,\\beta_x}{\\partial y} - \\frac{1}{2} \\, \\beta_x\\left(t, x, y, z\\right) \\frac{\\partial^2\\,\\beta_x}{\\partial t\\partial y} - \\frac{1}{2} \\, {\\left(\\beta_x\\left(t, x, y, z\\right)^{2} + 1\\right)} \\frac{\\partial^2\\,\\beta_x}{\\partial x\\partial y} \\\\ G_{ \\, t \\, z }^{ \\phantom{\\, t}\\phantom{\\, z} } & = & -\\beta_x\\left(t, x, y, z\\right) \\frac{\\partial\\,\\beta_x}{\\partial x} \\frac{\\partial\\,\\beta_x}{\\partial z} - \\frac{1}{2} \\, \\beta_x\\left(t, x, y, z\\right) \\frac{\\partial^2\\,\\beta_x}{\\partial t\\partial z} - \\frac{1}{2} \\, {\\left(\\beta_x\\left(t, x, y, z\\right)^{2} + 1\\right)} \\frac{\\partial^2\\,\\beta_x}{\\partial x\\partial z} \\\\ G_{ \\, x \\, x }^{ \\phantom{\\, x}\\phantom{\\, x} } & = & -\\frac{3}{4} \\, \\left(\\frac{\\partial\\,\\beta_x}{\\partial y}\\right)^{2} - \\frac{3}{4} \\, \\left(\\frac{\\partial\\,\\beta_x}{\\partial z}\\right)^{2} \\\\ G_{ \\, x \\, y }^{ \\phantom{\\, x}\\phantom{\\, y} } & = & \\frac{1}{2} \\, \\beta_x\\left(t, x, y, z\\right) \\frac{\\partial^2\\,\\beta_x}{\\partial x\\partial y} + \\frac{\\partial\\,\\beta_x}{\\partial x} \\frac{\\partial\\,\\beta_x}{\\partial y} + \\frac{1}{2} \\, \\frac{\\partial^2\\,\\beta_x}{\\partial t\\partial y} \\\\ G_{ \\, x \\, z }^{ \\phantom{\\, x}\\phantom{\\, z} } & = & \\frac{1}{2} \\, \\beta_x\\left(t, x, y, z\\right) \\frac{\\partial^2\\,\\beta_x}{\\partial x\\partial z} + \\frac{\\partial\\,\\beta_x}{\\partial x} \\frac{\\partial\\,\\beta_x}{\\partial z} + \\frac{1}{2} \\, \\frac{\\partial^2\\,\\beta_x}{\\partial t\\partial z} \\\\ G_{ \\, y \\, y }^{ \\phantom{\\, y}\\phantom{\\, y} } & = & -\\left(\\frac{\\partial\\,\\beta_x}{\\partial x}\\right)^{2} - \\beta_x\\left(t, x, y, z\\right) \\frac{\\partial^2\\,\\beta_x}{\\partial x ^ 2} + \\frac{1}{4} \\, \\left(\\frac{\\partial\\,\\beta_x}{\\partial y}\\right)^{2} - \\frac{1}{4} \\, \\left(\\frac{\\partial\\,\\beta_x}{\\partial z}\\right)^{2} - \\frac{\\partial^2\\,\\beta_x}{\\partial t\\partial x} \\\\ G_{ \\, y \\, z }^{ \\phantom{\\, y}\\phantom{\\, z} } & = & \\frac{1}{2} \\, \\frac{\\partial\\,\\beta_x}{\\partial y} \\frac{\\partial\\,\\beta_x}{\\partial z} \\\\ G_{ \\, z \\, z }^{ \\phantom{\\, z}\\phantom{\\, z} } & = & -\\left(\\frac{\\partial\\,\\beta_x}{\\partial x}\\right)^{2} - \\beta_x\\left(t, x, y, z\\right) \\frac{\\partial^2\\,\\beta_x}{\\partial x ^ 2} - \\frac{1}{4} \\, \\left(\\frac{\\partial\\,\\beta_x}{\\partial y}\\right)^{2} + \\frac{1}{4} \\, \\left(\\frac{\\partial\\,\\beta_x}{\\partial z}\\right)^{2} - \\frac{\\partial^2\\,\\beta_x}{\\partial t\\partial x} \\end{array}$$"
      ],
      "text/plain": [
       "G_tt = -1/4*(3*shiftx(t, x, y, z)^2 + 1)*(d(shiftx)/dy)^2 - 1/4*(3*shiftx(t, x, y, z)^2 + 1)*(d(shiftx)/dz)^2 - shiftx(t, x, y, z)*d^2(shiftx)/dy^2 - shiftx(t, x, y, z)*d^2(shiftx)/dz^2 \n",
       "G_tx = 3/4*shiftx(t, x, y, z)*(d(shiftx)/dy)^2 + 3/4*shiftx(t, x, y, z)*(d(shiftx)/dz)^2 + 1/2*d^2(shiftx)/dy^2 + 1/2*d^2(shiftx)/dz^2 \n",
       "G_ty = -shiftx(t, x, y, z)*d(shiftx)/dx*d(shiftx)/dy - 1/2*shiftx(t, x, y, z)*d^2(shiftx)/dtdy - 1/2*(shiftx(t, x, y, z)^2 + 1)*d^2(shiftx)/dxdy \n",
       "G_tz = -shiftx(t, x, y, z)*d(shiftx)/dx*d(shiftx)/dz - 1/2*shiftx(t, x, y, z)*d^2(shiftx)/dtdz - 1/2*(shiftx(t, x, y, z)^2 + 1)*d^2(shiftx)/dxdz \n",
       "G_xx = -3/4*(d(shiftx)/dy)^2 - 3/4*(d(shiftx)/dz)^2 \n",
       "G_xy = 1/2*shiftx(t, x, y, z)*d^2(shiftx)/dxdy + d(shiftx)/dx*d(shiftx)/dy + 1/2*d^2(shiftx)/dtdy \n",
       "G_xz = 1/2*shiftx(t, x, y, z)*d^2(shiftx)/dxdz + d(shiftx)/dx*d(shiftx)/dz + 1/2*d^2(shiftx)/dtdz \n",
       "G_yy = -(d(shiftx)/dx)^2 - shiftx(t, x, y, z)*d^2(shiftx)/dx^2 + 1/4*(d(shiftx)/dy)^2 - 1/4*(d(shiftx)/dz)^2 - d^2(shiftx)/dtdx \n",
       "G_yz = 1/2*d(shiftx)/dy*d(shiftx)/dz \n",
       "G_zz = -(d(shiftx)/dx)^2 - shiftx(t, x, y, z)*d^2(shiftx)/dx^2 - 1/4*(d(shiftx)/dy)^2 + 1/4*(d(shiftx)/dz)^2 - d^2(shiftx)/dtdx "
      ]
     },
     "execution_count": 9,
     "metadata": {},
     "output_type": "execute_result"
    }
   ],
   "source": [
    "# Defining the Einstein tensor\n",
    "G = Ric - 1/2*g.ricci_scalar() * g #- cosmo * g ;\n",
    "G.set_name('G');\n",
    "print(G);\n",
    "print(G.tensor_type());\n",
    "G.display_comp(only_nonredundant=True)"
   ]
  },
  {
   "cell_type": "raw",
   "metadata": {},
   "source": [
    "print(latex(G.display_comp(only_nonredundant=True)))"
   ]
  },
  {
   "cell_type": "markdown",
   "metadata": {},
   "source": [
    "# Einstein tensor contravariant components"
   ]
  },
  {
   "cell_type": "code",
   "execution_count": 47,
   "metadata": {},
   "outputs": [
    {
     "name": "stdout",
     "output_type": "stream",
     "text": [
      "Field of symmetric bilinear forms G on the 4-dimensional Lorentzian manifold M\n",
      "(2, 0)\n"
     ]
    },
    {
     "data": {
      "text/html": [
       "<html><script type=\"math/tex; mode=display\">\\newcommand{\\Bold}[1]{\\mathbf{#1}}\\begin{array}{lcl} G_{\\phantom{\\, t}\\phantom{\\, t}}^{ \\, t \\, t } & = & -\\frac{1}{4} \\, \\left(\\frac{\\partial\\,\\beta_x}{\\partial y}\\right)^{2} - \\frac{1}{4} \\, \\left(\\frac{\\partial\\,\\beta_x}{\\partial z}\\right)^{2} \\\\ G_{\\phantom{\\, t}\\phantom{\\, x}}^{ \\, t \\, x } & = & -\\frac{1}{4} \\, \\beta_x\\left(t, x, y, z\\right) \\left(\\frac{\\partial\\,\\beta_x}{\\partial y}\\right)^{2} - \\frac{1}{4} \\, \\beta_x\\left(t, x, y, z\\right) \\left(\\frac{\\partial\\,\\beta_x}{\\partial z}\\right)^{2} - \\frac{1}{2} \\, \\frac{\\partial^2\\,\\beta_x}{\\partial y ^ 2} - \\frac{1}{2} \\, \\frac{\\partial^2\\,\\beta_x}{\\partial z ^ 2} \\\\ G_{\\phantom{\\, t}\\phantom{\\, y}}^{ \\, t \\, y } & = & \\frac{1}{2} \\, \\frac{\\partial^2\\,\\beta_x}{\\partial x\\partial y} \\\\ G_{\\phantom{\\, t}\\phantom{\\, z}}^{ \\, t \\, z } & = & \\frac{1}{2} \\, \\frac{\\partial^2\\,\\beta_x}{\\partial x\\partial z} \\\\ G_{\\phantom{\\, x}\\phantom{\\, t}}^{ \\, x \\, t } & = & -\\frac{1}{4} \\, \\beta_x\\left(t, x, y, z\\right) \\left(\\frac{\\partial\\,\\beta_x}{\\partial y}\\right)^{2} - \\frac{1}{4} \\, \\beta_x\\left(t, x, y, z\\right) \\left(\\frac{\\partial\\,\\beta_x}{\\partial z}\\right)^{2} - \\frac{1}{2} \\, \\frac{\\partial^2\\,\\beta_x}{\\partial y ^ 2} - \\frac{1}{2} \\, \\frac{\\partial^2\\,\\beta_x}{\\partial z ^ 2} \\\\ G_{\\phantom{\\, x}\\phantom{\\, x}}^{ \\, x \\, x } & = & -\\frac{1}{4} \\, {\\left(\\beta_x\\left(t, x, y, z\\right)^{2} + 3\\right)} \\left(\\frac{\\partial\\,\\beta_x}{\\partial y}\\right)^{2} - \\frac{1}{4} \\, {\\left(\\beta_x\\left(t, x, y, z\\right)^{2} + 3\\right)} \\left(\\frac{\\partial\\,\\beta_x}{\\partial z}\\right)^{2} - \\beta_x\\left(t, x, y, z\\right) \\frac{\\partial^2\\,\\beta_x}{\\partial y ^ 2} - \\beta_x\\left(t, x, y, z\\right) \\frac{\\partial^2\\,\\beta_x}{\\partial z ^ 2} \\\\ G_{\\phantom{\\, x}\\phantom{\\, y}}^{ \\, x \\, y } & = & \\beta_x\\left(t, x, y, z\\right) \\frac{\\partial^2\\,\\beta_x}{\\partial x\\partial y} + \\frac{\\partial\\,\\beta_x}{\\partial x} \\frac{\\partial\\,\\beta_x}{\\partial y} + \\frac{1}{2} \\, \\frac{\\partial^2\\,\\beta_x}{\\partial t\\partial y} \\\\ G_{\\phantom{\\, x}\\phantom{\\, z}}^{ \\, x \\, z } & = & \\beta_x\\left(t, x, y, z\\right) \\frac{\\partial^2\\,\\beta_x}{\\partial x\\partial z} + \\frac{\\partial\\,\\beta_x}{\\partial x} \\frac{\\partial\\,\\beta_x}{\\partial z} + \\frac{1}{2} \\, \\frac{\\partial^2\\,\\beta_x}{\\partial t\\partial z} \\\\ G_{\\phantom{\\, y}\\phantom{\\, t}}^{ \\, y \\, t } & = & \\frac{1}{2} \\, \\frac{\\partial^2\\,\\beta_x}{\\partial x\\partial y} \\\\ G_{\\phantom{\\, y}\\phantom{\\, x}}^{ \\, y \\, x } & = & \\beta_x\\left(t, x, y, z\\right) \\frac{\\partial^2\\,\\beta_x}{\\partial x\\partial y} + \\frac{\\partial\\,\\beta_x}{\\partial x} \\frac{\\partial\\,\\beta_x}{\\partial y} + \\frac{1}{2} \\, \\frac{\\partial^2\\,\\beta_x}{\\partial t\\partial y} \\\\ G_{\\phantom{\\, y}\\phantom{\\, y}}^{ \\, y \\, y } & = & -\\left(\\frac{\\partial\\,\\beta_x}{\\partial x}\\right)^{2} - \\beta_x\\left(t, x, y, z\\right) \\frac{\\partial^2\\,\\beta_x}{\\partial x ^ 2} + \\frac{1}{4} \\, \\left(\\frac{\\partial\\,\\beta_x}{\\partial y}\\right)^{2} - \\frac{1}{4} \\, \\left(\\frac{\\partial\\,\\beta_x}{\\partial z}\\right)^{2} - \\frac{\\partial^2\\,\\beta_x}{\\partial t\\partial x} \\\\ G_{\\phantom{\\, y}\\phantom{\\, z}}^{ \\, y \\, z } & = & \\frac{1}{2} \\, \\frac{\\partial\\,\\beta_x}{\\partial y} \\frac{\\partial\\,\\beta_x}{\\partial z} \\\\ G_{\\phantom{\\, z}\\phantom{\\, t}}^{ \\, z \\, t } & = & \\frac{1}{2} \\, \\frac{\\partial^2\\,\\beta_x}{\\partial x\\partial z} \\\\ G_{\\phantom{\\, z}\\phantom{\\, x}}^{ \\, z \\, x } & = & \\beta_x\\left(t, x, y, z\\right) \\frac{\\partial^2\\,\\beta_x}{\\partial x\\partial z} + \\frac{\\partial\\,\\beta_x}{\\partial x} \\frac{\\partial\\,\\beta_x}{\\partial z} + \\frac{1}{2} \\, \\frac{\\partial^2\\,\\beta_x}{\\partial t\\partial z} \\\\ G_{\\phantom{\\, z}\\phantom{\\, y}}^{ \\, z \\, y } & = & \\frac{1}{2} \\, \\frac{\\partial\\,\\beta_x}{\\partial y} \\frac{\\partial\\,\\beta_x}{\\partial z} \\\\ G_{\\phantom{\\, z}\\phantom{\\, z}}^{ \\, z \\, z } & = & -\\left(\\frac{\\partial\\,\\beta_x}{\\partial x}\\right)^{2} - \\beta_x\\left(t, x, y, z\\right) \\frac{\\partial^2\\,\\beta_x}{\\partial x ^ 2} - \\frac{1}{4} \\, \\left(\\frac{\\partial\\,\\beta_x}{\\partial y}\\right)^{2} + \\frac{1}{4} \\, \\left(\\frac{\\partial\\,\\beta_x}{\\partial z}\\right)^{2} - \\frac{\\partial^2\\,\\beta_x}{\\partial t\\partial x} \\end{array}</script></html>"
      ],
      "text/latex": [
       "$$\\newcommand{\\Bold}[1]{\\mathbf{#1}}\\begin{array}{lcl} G_{\\phantom{\\, t}\\phantom{\\, t}}^{ \\, t \\, t } & = & -\\frac{1}{4} \\, \\left(\\frac{\\partial\\,\\beta_x}{\\partial y}\\right)^{2} - \\frac{1}{4} \\, \\left(\\frac{\\partial\\,\\beta_x}{\\partial z}\\right)^{2} \\\\ G_{\\phantom{\\, t}\\phantom{\\, x}}^{ \\, t \\, x } & = & -\\frac{1}{4} \\, \\beta_x\\left(t, x, y, z\\right) \\left(\\frac{\\partial\\,\\beta_x}{\\partial y}\\right)^{2} - \\frac{1}{4} \\, \\beta_x\\left(t, x, y, z\\right) \\left(\\frac{\\partial\\,\\beta_x}{\\partial z}\\right)^{2} - \\frac{1}{2} \\, \\frac{\\partial^2\\,\\beta_x}{\\partial y ^ 2} - \\frac{1}{2} \\, \\frac{\\partial^2\\,\\beta_x}{\\partial z ^ 2} \\\\ G_{\\phantom{\\, t}\\phantom{\\, y}}^{ \\, t \\, y } & = & \\frac{1}{2} \\, \\frac{\\partial^2\\,\\beta_x}{\\partial x\\partial y} \\\\ G_{\\phantom{\\, t}\\phantom{\\, z}}^{ \\, t \\, z } & = & \\frac{1}{2} \\, \\frac{\\partial^2\\,\\beta_x}{\\partial x\\partial z} \\\\ G_{\\phantom{\\, x}\\phantom{\\, t}}^{ \\, x \\, t } & = & -\\frac{1}{4} \\, \\beta_x\\left(t, x, y, z\\right) \\left(\\frac{\\partial\\,\\beta_x}{\\partial y}\\right)^{2} - \\frac{1}{4} \\, \\beta_x\\left(t, x, y, z\\right) \\left(\\frac{\\partial\\,\\beta_x}{\\partial z}\\right)^{2} - \\frac{1}{2} \\, \\frac{\\partial^2\\,\\beta_x}{\\partial y ^ 2} - \\frac{1}{2} \\, \\frac{\\partial^2\\,\\beta_x}{\\partial z ^ 2} \\\\ G_{\\phantom{\\, x}\\phantom{\\, x}}^{ \\, x \\, x } & = & -\\frac{1}{4} \\, {\\left(\\beta_x\\left(t, x, y, z\\right)^{2} + 3\\right)} \\left(\\frac{\\partial\\,\\beta_x}{\\partial y}\\right)^{2} - \\frac{1}{4} \\, {\\left(\\beta_x\\left(t, x, y, z\\right)^{2} + 3\\right)} \\left(\\frac{\\partial\\,\\beta_x}{\\partial z}\\right)^{2} - \\beta_x\\left(t, x, y, z\\right) \\frac{\\partial^2\\,\\beta_x}{\\partial y ^ 2} - \\beta_x\\left(t, x, y, z\\right) \\frac{\\partial^2\\,\\beta_x}{\\partial z ^ 2} \\\\ G_{\\phantom{\\, x}\\phantom{\\, y}}^{ \\, x \\, y } & = & \\beta_x\\left(t, x, y, z\\right) \\frac{\\partial^2\\,\\beta_x}{\\partial x\\partial y} + \\frac{\\partial\\,\\beta_x}{\\partial x} \\frac{\\partial\\,\\beta_x}{\\partial y} + \\frac{1}{2} \\, \\frac{\\partial^2\\,\\beta_x}{\\partial t\\partial y} \\\\ G_{\\phantom{\\, x}\\phantom{\\, z}}^{ \\, x \\, z } & = & \\beta_x\\left(t, x, y, z\\right) \\frac{\\partial^2\\,\\beta_x}{\\partial x\\partial z} + \\frac{\\partial\\,\\beta_x}{\\partial x} \\frac{\\partial\\,\\beta_x}{\\partial z} + \\frac{1}{2} \\, \\frac{\\partial^2\\,\\beta_x}{\\partial t\\partial z} \\\\ G_{\\phantom{\\, y}\\phantom{\\, t}}^{ \\, y \\, t } & = & \\frac{1}{2} \\, \\frac{\\partial^2\\,\\beta_x}{\\partial x\\partial y} \\\\ G_{\\phantom{\\, y}\\phantom{\\, x}}^{ \\, y \\, x } & = & \\beta_x\\left(t, x, y, z\\right) \\frac{\\partial^2\\,\\beta_x}{\\partial x\\partial y} + \\frac{\\partial\\,\\beta_x}{\\partial x} \\frac{\\partial\\,\\beta_x}{\\partial y} + \\frac{1}{2} \\, \\frac{\\partial^2\\,\\beta_x}{\\partial t\\partial y} \\\\ G_{\\phantom{\\, y}\\phantom{\\, y}}^{ \\, y \\, y } & = & -\\left(\\frac{\\partial\\,\\beta_x}{\\partial x}\\right)^{2} - \\beta_x\\left(t, x, y, z\\right) \\frac{\\partial^2\\,\\beta_x}{\\partial x ^ 2} + \\frac{1}{4} \\, \\left(\\frac{\\partial\\,\\beta_x}{\\partial y}\\right)^{2} - \\frac{1}{4} \\, \\left(\\frac{\\partial\\,\\beta_x}{\\partial z}\\right)^{2} - \\frac{\\partial^2\\,\\beta_x}{\\partial t\\partial x} \\\\ G_{\\phantom{\\, y}\\phantom{\\, z}}^{ \\, y \\, z } & = & \\frac{1}{2} \\, \\frac{\\partial\\,\\beta_x}{\\partial y} \\frac{\\partial\\,\\beta_x}{\\partial z} \\\\ G_{\\phantom{\\, z}\\phantom{\\, t}}^{ \\, z \\, t } & = & \\frac{1}{2} \\, \\frac{\\partial^2\\,\\beta_x}{\\partial x\\partial z} \\\\ G_{\\phantom{\\, z}\\phantom{\\, x}}^{ \\, z \\, x } & = & \\beta_x\\left(t, x, y, z\\right) \\frac{\\partial^2\\,\\beta_x}{\\partial x\\partial z} + \\frac{\\partial\\,\\beta_x}{\\partial x} \\frac{\\partial\\,\\beta_x}{\\partial z} + \\frac{1}{2} \\, \\frac{\\partial^2\\,\\beta_x}{\\partial t\\partial z} \\\\ G_{\\phantom{\\, z}\\phantom{\\, y}}^{ \\, z \\, y } & = & \\frac{1}{2} \\, \\frac{\\partial\\,\\beta_x}{\\partial y} \\frac{\\partial\\,\\beta_x}{\\partial z} \\\\ G_{\\phantom{\\, z}\\phantom{\\, z}}^{ \\, z \\, z } & = & -\\left(\\frac{\\partial\\,\\beta_x}{\\partial x}\\right)^{2} - \\beta_x\\left(t, x, y, z\\right) \\frac{\\partial^2\\,\\beta_x}{\\partial x ^ 2} - \\frac{1}{4} \\, \\left(\\frac{\\partial\\,\\beta_x}{\\partial y}\\right)^{2} + \\frac{1}{4} \\, \\left(\\frac{\\partial\\,\\beta_x}{\\partial z}\\right)^{2} - \\frac{\\partial^2\\,\\beta_x}{\\partial t\\partial x} \\end{array}$$"
      ],
      "text/plain": [
       "G^tt = -1/4*(d(shiftx)/dy)^2 - 1/4*(d(shiftx)/dz)^2 \n",
       "G^tx = -1/4*shiftx(t, x, y, z)*(d(shiftx)/dy)^2 - 1/4*shiftx(t, x, y, z)*(d(shiftx)/dz)^2 - 1/2*d^2(shiftx)/dy^2 - 1/2*d^2(shiftx)/dz^2 \n",
       "G^ty = 1/2*d^2(shiftx)/dxdy \n",
       "G^tz = 1/2*d^2(shiftx)/dxdz \n",
       "G^xt = -1/4*shiftx(t, x, y, z)*(d(shiftx)/dy)^2 - 1/4*shiftx(t, x, y, z)*(d(shiftx)/dz)^2 - 1/2*d^2(shiftx)/dy^2 - 1/2*d^2(shiftx)/dz^2 \n",
       "G^xx = -1/4*(shiftx(t, x, y, z)^2 + 3)*(d(shiftx)/dy)^2 - 1/4*(shiftx(t, x, y, z)^2 + 3)*(d(shiftx)/dz)^2 - shiftx(t, x, y, z)*d^2(shiftx)/dy^2 - shiftx(t, x, y, z)*d^2(shiftx)/dz^2 \n",
       "G^xy = shiftx(t, x, y, z)*d^2(shiftx)/dxdy + d(shiftx)/dx*d(shiftx)/dy + 1/2*d^2(shiftx)/dtdy \n",
       "G^xz = shiftx(t, x, y, z)*d^2(shiftx)/dxdz + d(shiftx)/dx*d(shiftx)/dz + 1/2*d^2(shiftx)/dtdz \n",
       "G^yt = 1/2*d^2(shiftx)/dxdy \n",
       "G^yx = shiftx(t, x, y, z)*d^2(shiftx)/dxdy + d(shiftx)/dx*d(shiftx)/dy + 1/2*d^2(shiftx)/dtdy \n",
       "G^yy = -(d(shiftx)/dx)^2 - shiftx(t, x, y, z)*d^2(shiftx)/dx^2 + 1/4*(d(shiftx)/dy)^2 - 1/4*(d(shiftx)/dz)^2 - d^2(shiftx)/dtdx \n",
       "G^yz = 1/2*d(shiftx)/dy*d(shiftx)/dz \n",
       "G^zt = 1/2*d^2(shiftx)/dxdz \n",
       "G^zx = shiftx(t, x, y, z)*d^2(shiftx)/dxdz + d(shiftx)/dx*d(shiftx)/dz + 1/2*d^2(shiftx)/dtdz \n",
       "G^zy = 1/2*d(shiftx)/dy*d(shiftx)/dz \n",
       "G^zz = -(d(shiftx)/dx)^2 - shiftx(t, x, y, z)*d^2(shiftx)/dx^2 - 1/4*(d(shiftx)/dy)^2 + 1/4*(d(shiftx)/dz)^2 - d^2(shiftx)/dtdx "
      ]
     },
     "execution_count": 47,
     "metadata": {},
     "output_type": "execute_result"
    }
   ],
   "source": [
    "GG = G.up(g)\n",
    "GG.set_name('G');\n",
    "print(G)\n",
    "print(GG.tensor_type())\n",
    "GG.display_comp()"
   ]
  },
  {
   "cell_type": "raw",
   "metadata": {},
   "source": [
    "t2 = G.contract(1, gg,1)\n",
    "t2 = t2.contract(1, gg,1)\n",
    "print(t2.tensor_type())\n",
    "t2.display_comp()"
   ]
  },
  {
   "cell_type": "markdown",
   "metadata": {},
   "source": [
    "## Einstein tensor algebraic manipulations"
   ]
  },
  {
   "cell_type": "code",
   "execution_count": 10,
   "metadata": {},
   "outputs": [
    {
     "data": {
      "text/html": [
       "<html><script type=\"math/tex; mode=display\">\\newcommand{\\Bold}[1]{\\mathbf{#1}}\\frac{1}{2} \\, \\frac{\\partial^2\\,\\beta_x}{\\partial y ^ 2} + \\frac{1}{2} \\, \\frac{\\partial^2\\,\\beta_x}{\\partial z ^ 2}</script></html>"
      ],
      "text/latex": [
       "$$\\newcommand{\\Bold}[1]{\\mathbf{#1}}\\frac{1}{2} \\, \\frac{\\partial^2\\,\\beta_x}{\\partial y ^ 2} + \\frac{1}{2} \\, \\frac{\\partial^2\\,\\beta_x}{\\partial z ^ 2}$$"
      ],
      "text/plain": [
       "1/2*d^2(shiftx)/dy^2 + 1/2*d^2(shiftx)/dz^2"
      ]
     },
     "execution_count": 10,
     "metadata": {},
     "output_type": "execute_result"
    }
   ],
   "source": [
    "G[0,1] + shiftx * G[1,1]"
   ]
  },
  {
   "cell_type": "code",
   "execution_count": 11,
   "metadata": {},
   "outputs": [
    {
     "data": {
      "text/html": [
       "<html><script type=\"math/tex; mode=display\">\\newcommand{\\Bold}[1]{\\mathbf{#1}}-2 \\, \\left(\\frac{\\partial\\,\\beta_x}{\\partial x}\\right)^{2} - 2 \\, \\beta_x\\left(t, x, y, z\\right) \\frac{\\partial^2\\,\\beta_x}{\\partial x ^ 2} - 2 \\, \\frac{\\partial^2\\,\\beta_x}{\\partial t\\partial x}</script></html>"
      ],
      "text/latex": [
       "$$\\newcommand{\\Bold}[1]{\\mathbf{#1}}-2 \\, \\left(\\frac{\\partial\\,\\beta_x}{\\partial x}\\right)^{2} - 2 \\, \\beta_x\\left(t, x, y, z\\right) \\frac{\\partial^2\\,\\beta_x}{\\partial x ^ 2} - 2 \\, \\frac{\\partial^2\\,\\beta_x}{\\partial t\\partial x}$$"
      ],
      "text/plain": [
       "-2*(d(shiftx)/dx)^2 - 2*shiftx(t, x, y, z)*d^2(shiftx)/dx^2 - 2*d^2(shiftx)/dtdx"
      ]
     },
     "execution_count": 11,
     "metadata": {},
     "output_type": "execute_result"
    }
   ],
   "source": [
    "G[3,3] + G[2,2]"
   ]
  },
  {
   "cell_type": "code",
   "execution_count": 13,
   "metadata": {},
   "outputs": [
    {
     "data": {
      "text/html": [
       "<html><script type=\"math/tex; mode=display\">\\newcommand{\\Bold}[1]{\\mathbf{#1}}-\\frac{1}{4} \\, \\left(\\frac{\\partial\\,\\beta_x}{\\partial y}\\right)^{2} - \\frac{1}{4} \\, \\left(\\frac{\\partial\\,\\beta_x}{\\partial z}\\right)^{2}</script></html>"
      ],
      "text/latex": [
       "$$\\newcommand{\\Bold}[1]{\\mathbf{#1}}-\\frac{1}{4} \\, \\left(\\frac{\\partial\\,\\beta_x}{\\partial y}\\right)^{2} - \\frac{1}{4} \\, \\left(\\frac{\\partial\\,\\beta_x}{\\partial z}\\right)^{2}$$"
      ],
      "text/plain": [
       "-1/4*(d(shiftx)/dy)^2 - 1/4*(d(shiftx)/dz)^2"
      ]
     },
     "execution_count": 13,
     "metadata": {},
     "output_type": "execute_result"
    }
   ],
   "source": [
    "G[0,0] + 2*shiftx*G[0,1] + (shiftx**2) *G[1,1]"
   ]
  },
  {
   "cell_type": "code",
   "execution_count": 14,
   "metadata": {},
   "outputs": [
    {
     "data": {
      "text/html": [
       "<html><script type=\"math/tex; mode=display\">\\newcommand{\\Bold}[1]{\\mathbf{#1}}0</script></html>"
      ],
      "text/latex": [
       "$$\\newcommand{\\Bold}[1]{\\mathbf{#1}}0$$"
      ],
      "text/plain": [
       "0"
      ]
     },
     "execution_count": 14,
     "metadata": {},
     "output_type": "execute_result"
    }
   ],
   "source": [
    "G[0,0] + 2 * shiftx * G[0,1] + (shiftx ** 2 - 1/3) * G[1,1]"
   ]
  },
  {
   "cell_type": "markdown",
   "metadata": {},
   "source": [
    "# 4-velocities"
   ]
  },
  {
   "cell_type": "code",
   "execution_count": 15,
   "metadata": {},
   "outputs": [
    {
     "name": "stdout",
     "output_type": "stream",
     "text": [
      "Vector field u on the 4-dimensional Lorentzian manifold M\n",
      "(1, 0)\n"
     ]
    },
    {
     "data": {
      "text/html": [
       "<html><script type=\"math/tex; mode=display\">\\newcommand{\\Bold}[1]{\\mathbf{#1}}\\begin{array}{lcl} u_{\\phantom{\\, t}}^{ \\, t } & = & 1 \\\\ u_{\\phantom{\\, x}}^{ \\, x } & = & \\beta_x\\left(t, x, y, z\\right) \\end{array}</script></html>"
      ],
      "text/latex": [
       "$$\\newcommand{\\Bold}[1]{\\mathbf{#1}}\\begin{array}{lcl} u_{\\phantom{\\, t}}^{ \\, t } & = & 1 \\\\ u_{\\phantom{\\, x}}^{ \\, x } & = & \\beta_x\\left(t, x, y, z\\right) \\end{array}$$"
      ],
      "text/plain": [
       "u^t = 1 \n",
       "u^x = shiftx(t, x, y, z) "
      ]
     },
     "execution_count": 15,
     "metadata": {},
     "output_type": "execute_result"
    }
   ],
   "source": [
    "print(u)\n",
    "print(u.tensor_type())\n",
    "u.display_comp()"
   ]
  },
  {
   "cell_type": "code",
   "execution_count": 16,
   "metadata": {},
   "outputs": [
    {
     "name": "stdout",
     "output_type": "stream",
     "text": [
      "1-form u on the 4-dimensional Lorentzian manifold M\n",
      "(0, 1)\n"
     ]
    },
    {
     "data": {
      "text/html": [
       "<html><script type=\"math/tex; mode=display\">\\newcommand{\\Bold}[1]{\\mathbf{#1}}\\begin{array}{lcl} u_{ \\, t }^{ \\phantom{\\, t} } & = & -1 \\end{array}</script></html>"
      ],
      "text/latex": [
       "$$\\newcommand{\\Bold}[1]{\\mathbf{#1}}\\begin{array}{lcl} u_{ \\, t }^{ \\phantom{\\, t} } & = & -1 \\end{array}$$"
      ],
      "text/plain": [
       "u_t = -1 "
      ]
     },
     "execution_count": 16,
     "metadata": {},
     "output_type": "execute_result"
    }
   ],
   "source": [
    "print(u_form)\n",
    "print(u_form.tensor_type())\n",
    "u_form.display_comp()"
   ]
  },
  {
   "cell_type": "markdown",
   "metadata": {},
   "source": [
    "# Energy density"
   ]
  },
  {
   "cell_type": "code",
   "execution_count": 71,
   "metadata": {},
   "outputs": [
    {
     "data": {
      "text/html": [
       "<html><script type=\"math/tex; mode=display\">\\newcommand{\\Bold}[1]{\\mathbf{#1}}\\begin{array}{llcl} & M & \\longrightarrow & \\mathbb{R} \\\\ & \\left(t, x, y, z\\right) & \\longmapsto & -\\frac{1}{4} \\, \\left(\\frac{\\partial\\,\\beta_x}{\\partial y}\\right)^{2} - \\frac{1}{4} \\, \\left(\\frac{\\partial\\,\\beta_x}{\\partial z}\\right)^{2} \\end{array}</script></html>"
      ],
      "text/latex": [
       "$$\\newcommand{\\Bold}[1]{\\mathbf{#1}}\\begin{array}{llcl} & M & \\longrightarrow & \\mathbb{R} \\\\ & \\left(t, x, y, z\\right) & \\longmapsto & -\\frac{1}{4} \\, \\left(\\frac{\\partial\\,\\beta_x}{\\partial y}\\right)^{2} - \\frac{1}{4} \\, \\left(\\frac{\\partial\\,\\beta_x}{\\partial z}\\right)^{2} \\end{array}$$"
      ],
      "text/plain": [
       "M --> R\n",
       "(t, x, y, z) |--> -1/4*(d(shiftx)/dy)^2 - 1/4*(d(shiftx)/dz)^2"
      ]
     },
     "execution_count": 71,
     "metadata": {},
     "output_type": "execute_result"
    }
   ],
   "source": [
    "density = GG.contract(1,u_form)\n",
    "density = density.down(u_form)\n",
    "density.display()"
   ]
  },
  {
   "cell_type": "markdown",
   "metadata": {},
   "source": [
    "# Energy momentum tensor"
   ]
  },
  {
   "cell_type": "code",
   "execution_count": 17,
   "metadata": {},
   "outputs": [
    {
     "name": "stdout",
     "output_type": "stream",
     "text": [
      "Field of symmetric bilinear forms T on the 4-dimensional Lorentzian manifold M\n",
      "(0, 2)\n"
     ]
    },
    {
     "data": {
      "text/html": [
       "<html><script type=\"math/tex; mode=display\">\\newcommand{\\Bold}[1]{\\mathbf{#1}}\\begin{array}{lcl} T_{ \\, t \\, t }^{ \\phantom{\\, t}\\phantom{\\, t} } & = & p\\left(t, x, y, z\\right) \\beta_x\\left(t, x, y, z\\right)^{2} + \\rho\\left(t, x, y, z\\right) \\\\ T_{ \\, t \\, x }^{ \\phantom{\\, t}\\phantom{\\, x} } & = & -p\\left(t, x, y, z\\right) \\beta_x\\left(t, x, y, z\\right) \\\\ T_{ \\, x \\, t }^{ \\phantom{\\, x}\\phantom{\\, t} } & = & -p\\left(t, x, y, z\\right) \\beta_x\\left(t, x, y, z\\right) \\\\ T_{ \\, x \\, x }^{ \\phantom{\\, x}\\phantom{\\, x} } & = & p\\left(t, x, y, z\\right) \\\\ T_{ \\, y \\, y }^{ \\phantom{\\, y}\\phantom{\\, y} } & = & p\\left(t, x, y, z\\right) \\\\ T_{ \\, z \\, z }^{ \\phantom{\\, z}\\phantom{\\, z} } & = & p\\left(t, x, y, z\\right) \\end{array}</script></html>"
      ],
      "text/latex": [
       "$$\\newcommand{\\Bold}[1]{\\mathbf{#1}}\\begin{array}{lcl} T_{ \\, t \\, t }^{ \\phantom{\\, t}\\phantom{\\, t} } & = & p\\left(t, x, y, z\\right) \\beta_x\\left(t, x, y, z\\right)^{2} + \\rho\\left(t, x, y, z\\right) \\\\ T_{ \\, t \\, x }^{ \\phantom{\\, t}\\phantom{\\, x} } & = & -p\\left(t, x, y, z\\right) \\beta_x\\left(t, x, y, z\\right) \\\\ T_{ \\, x \\, t }^{ \\phantom{\\, x}\\phantom{\\, t} } & = & -p\\left(t, x, y, z\\right) \\beta_x\\left(t, x, y, z\\right) \\\\ T_{ \\, x \\, x }^{ \\phantom{\\, x}\\phantom{\\, x} } & = & p\\left(t, x, y, z\\right) \\\\ T_{ \\, y \\, y }^{ \\phantom{\\, y}\\phantom{\\, y} } & = & p\\left(t, x, y, z\\right) \\\\ T_{ \\, z \\, z }^{ \\phantom{\\, z}\\phantom{\\, z} } & = & p\\left(t, x, y, z\\right) \\end{array}$$"
      ],
      "text/plain": [
       "T_tt = p(t, x, y, z)*shiftx(t, x, y, z)^2 + rho(t, x, y, z) \n",
       "T_tx = -p(t, x, y, z)*shiftx(t, x, y, z) \n",
       "T_xt = -p(t, x, y, z)*shiftx(t, x, y, z) \n",
       "T_xx = p(t, x, y, z) \n",
       "T_yy = p(t, x, y, z) \n",
       "T_zz = p(t, x, y, z) "
      ]
     },
     "execution_count": 17,
     "metadata": {},
     "output_type": "execute_result"
    }
   ],
   "source": [
    "print(t_dust_pf)\n",
    "print(t_dust_pf.tensor_type())\n",
    "t_dust_pf.display_comp()"
   ]
  },
  {
   "cell_type": "markdown",
   "metadata": {},
   "source": [
    "# Extrinsic curvature"
   ]
  },
  {
   "cell_type": "code",
   "execution_count": 18,
   "metadata": {},
   "outputs": [
    {
     "data": {
      "text/html": [
       "<html><script type=\"math/tex; mode=display\">\\newcommand{\\Bold}[1]{\\mathbf{#1}}\\begin{array}{lcl} \\nabla_{g} u_{ \\phantom{\\, x} \\, t }^{ \\, x \\phantom{\\, t} } & = & -\\beta_x\\left(t, x, y, z\\right) \\frac{\\partial\\,\\beta_x}{\\partial x} \\\\ \\nabla_{g} u_{ \\phantom{\\, x} \\, x }^{ \\, x \\phantom{\\, x} } & = & \\frac{\\partial\\,\\beta_x}{\\partial x} \\\\ \\nabla_{g} u_{ \\phantom{\\, x} \\, y }^{ \\, x \\phantom{\\, y} } & = & \\frac{1}{2} \\, \\frac{\\partial\\,\\beta_x}{\\partial y} \\\\ \\nabla_{g} u_{ \\phantom{\\, x} \\, z }^{ \\, x \\phantom{\\, z} } & = & \\frac{1}{2} \\, \\frac{\\partial\\,\\beta_x}{\\partial z} \\\\ \\nabla_{g} u_{ \\phantom{\\, y} \\, t }^{ \\, y \\phantom{\\, t} } & = & -\\frac{1}{2} \\, \\beta_x\\left(t, x, y, z\\right) \\frac{\\partial\\,\\beta_x}{\\partial y} \\\\ \\nabla_{g} u_{ \\phantom{\\, y} \\, x }^{ \\, y \\phantom{\\, x} } & = & \\frac{1}{2} \\, \\frac{\\partial\\,\\beta_x}{\\partial y} \\\\ \\nabla_{g} u_{ \\phantom{\\, z} \\, t }^{ \\, z \\phantom{\\, t} } & = & -\\frac{1}{2} \\, \\beta_x\\left(t, x, y, z\\right) \\frac{\\partial\\,\\beta_x}{\\partial z} \\\\ \\nabla_{g} u_{ \\phantom{\\, z} \\, x }^{ \\, z \\phantom{\\, x} } & = & \\frac{1}{2} \\, \\frac{\\partial\\,\\beta_x}{\\partial z} \\end{array}</script></html>"
      ],
      "text/latex": [
       "$$\\newcommand{\\Bold}[1]{\\mathbf{#1}}\\begin{array}{lcl} \\nabla_{g} u_{ \\phantom{\\, x} \\, t }^{ \\, x \\phantom{\\, t} } & = & -\\beta_x\\left(t, x, y, z\\right) \\frac{\\partial\\,\\beta_x}{\\partial x} \\\\ \\nabla_{g} u_{ \\phantom{\\, x} \\, x }^{ \\, x \\phantom{\\, x} } & = & \\frac{\\partial\\,\\beta_x}{\\partial x} \\\\ \\nabla_{g} u_{ \\phantom{\\, x} \\, y }^{ \\, x \\phantom{\\, y} } & = & \\frac{1}{2} \\, \\frac{\\partial\\,\\beta_x}{\\partial y} \\\\ \\nabla_{g} u_{ \\phantom{\\, x} \\, z }^{ \\, x \\phantom{\\, z} } & = & \\frac{1}{2} \\, \\frac{\\partial\\,\\beta_x}{\\partial z} \\\\ \\nabla_{g} u_{ \\phantom{\\, y} \\, t }^{ \\, y \\phantom{\\, t} } & = & -\\frac{1}{2} \\, \\beta_x\\left(t, x, y, z\\right) \\frac{\\partial\\,\\beta_x}{\\partial y} \\\\ \\nabla_{g} u_{ \\phantom{\\, y} \\, x }^{ \\, y \\phantom{\\, x} } & = & \\frac{1}{2} \\, \\frac{\\partial\\,\\beta_x}{\\partial y} \\\\ \\nabla_{g} u_{ \\phantom{\\, z} \\, t }^{ \\, z \\phantom{\\, t} } & = & -\\frac{1}{2} \\, \\beta_x\\left(t, x, y, z\\right) \\frac{\\partial\\,\\beta_x}{\\partial z} \\\\ \\nabla_{g} u_{ \\phantom{\\, z} \\, x }^{ \\, z \\phantom{\\, x} } & = & \\frac{1}{2} \\, \\frac{\\partial\\,\\beta_x}{\\partial z} \\end{array}$$"
      ],
      "text/plain": [
       "nabla_g(u)^x_t = -shiftx(t, x, y, z)*d(shiftx)/dx \n",
       "nabla_g(u)^x_x = d(shiftx)/dx \n",
       "nabla_g(u)^x_y = 1/2*d(shiftx)/dy \n",
       "nabla_g(u)^x_z = 1/2*d(shiftx)/dz \n",
       "nabla_g(u)^y_t = -1/2*shiftx(t, x, y, z)*d(shiftx)/dy \n",
       "nabla_g(u)^y_x = 1/2*d(shiftx)/dy \n",
       "nabla_g(u)^z_t = -1/2*shiftx(t, x, y, z)*d(shiftx)/dz \n",
       "nabla_g(u)^z_x = 1/2*d(shiftx)/dz "
      ]
     },
     "execution_count": 18,
     "metadata": {},
     "output_type": "execute_result"
    }
   ],
   "source": [
    "nabla = g.connection()\n",
    "#\n",
    "cov_divu = nabla(u)\n",
    "#\n",
    "cov_divu.display_comp()"
   ]
  },
  {
   "cell_type": "code",
   "execution_count": 19,
   "metadata": {},
   "outputs": [
    {
     "data": {
      "text/html": [
       "<html><script type=\"math/tex; mode=display\">\\newcommand{\\Bold}[1]{\\mathbf{#1}}\\begin{array}{lcl} \\nabla_{g} n_{ \\phantom{\\, t} \\, t }^{ \\, t \\phantom{\\, t} } & = & -\\frac{\\beta_x\\left(t, x, y, z\\right) \\frac{\\partial\\,\\beta_x}{\\partial x}}{\\sqrt{\\beta_x\\left(t, x, y, z\\right) + 1} \\sqrt{\\beta_x\\left(t, x, y, z\\right) - 1}} \\\\ \\nabla_{g} n_{ \\phantom{\\, t} \\, x }^{ \\, t \\phantom{\\, x} } & = & \\frac{\\frac{\\partial\\,\\beta_x}{\\partial x}}{\\sqrt{\\beta_x\\left(t, x, y, z\\right) + 1} \\sqrt{\\beta_x\\left(t, x, y, z\\right) - 1}} \\\\ \\nabla_{g} n_{ \\phantom{\\, t} \\, y }^{ \\, t \\phantom{\\, y} } & = & \\frac{\\frac{\\partial\\,\\beta_x}{\\partial y}}{2 \\, \\sqrt{\\beta_x\\left(t, x, y, z\\right) + 1} \\sqrt{\\beta_x\\left(t, x, y, z\\right) - 1}} \\\\ \\nabla_{g} n_{ \\phantom{\\, t} \\, z }^{ \\, t \\phantom{\\, z} } & = & \\frac{\\frac{\\partial\\,\\beta_x}{\\partial z}}{2 \\, \\sqrt{\\beta_x\\left(t, x, y, z\\right) + 1} \\sqrt{\\beta_x\\left(t, x, y, z\\right) - 1}} \\\\ \\nabla_{g} n_{ \\phantom{\\, x} \\, t }^{ \\, x \\phantom{\\, t} } & = & -\\frac{\\beta_x\\left(t, x, y, z\\right) \\frac{\\partial\\,\\beta_x}{\\partial t} + {\\left(\\beta_x\\left(t, x, y, z\\right)^{4} - \\beta_x\\left(t, x, y, z\\right)^{2}\\right)} \\frac{\\partial\\,\\beta_x}{\\partial x}}{{\\left(\\beta_x\\left(t, x, y, z\\right)^{2} - 1\\right)} \\sqrt{\\beta_x\\left(t, x, y, z\\right) + 1} \\sqrt{\\beta_x\\left(t, x, y, z\\right) - 1}} \\\\ \\nabla_{g} n_{ \\phantom{\\, x} \\, x }^{ \\, x \\phantom{\\, x} } & = & \\frac{{\\left(\\beta_x\\left(t, x, y, z\\right)^{3} - 2 \\, \\beta_x\\left(t, x, y, z\\right)\\right)} \\frac{\\partial\\,\\beta_x}{\\partial x}}{{\\left(\\beta_x\\left(t, x, y, z\\right)^{2} - 1\\right)} \\sqrt{\\beta_x\\left(t, x, y, z\\right) + 1} \\sqrt{\\beta_x\\left(t, x, y, z\\right) - 1}} \\\\ \\nabla_{g} n_{ \\phantom{\\, x} \\, y }^{ \\, x \\phantom{\\, y} } & = & \\frac{{\\left(\\beta_x\\left(t, x, y, z\\right)^{3} - 3 \\, \\beta_x\\left(t, x, y, z\\right)\\right)} \\frac{\\partial\\,\\beta_x}{\\partial y}}{2 \\, {\\left(\\beta_x\\left(t, x, y, z\\right)^{2} - 1\\right)} \\sqrt{\\beta_x\\left(t, x, y, z\\right) + 1} \\sqrt{\\beta_x\\left(t, x, y, z\\right) - 1}} \\\\ \\nabla_{g} n_{ \\phantom{\\, x} \\, z }^{ \\, x \\phantom{\\, z} } & = & \\frac{{\\left(\\beta_x\\left(t, x, y, z\\right)^{3} - 3 \\, \\beta_x\\left(t, x, y, z\\right)\\right)} \\frac{\\partial\\,\\beta_x}{\\partial z}}{2 \\, {\\left(\\beta_x\\left(t, x, y, z\\right)^{2} - 1\\right)} \\sqrt{\\beta_x\\left(t, x, y, z\\right) + 1} \\sqrt{\\beta_x\\left(t, x, y, z\\right) - 1}} \\\\ \\nabla_{g} n_{ \\phantom{\\, y} \\, t }^{ \\, y \\phantom{\\, t} } & = & \\frac{\\frac{\\partial\\,\\beta_x}{\\partial y}}{2 \\, \\sqrt{\\beta_x\\left(t, x, y, z\\right) + 1} \\sqrt{\\beta_x\\left(t, x, y, z\\right) - 1}} \\\\ \\nabla_{g} n_{ \\phantom{\\, z} \\, t }^{ \\, z \\phantom{\\, t} } & = & \\frac{\\frac{\\partial\\,\\beta_x}{\\partial z}}{2 \\, \\sqrt{\\beta_x\\left(t, x, y, z\\right) + 1} \\sqrt{\\beta_x\\left(t, x, y, z\\right) - 1}} \\end{array}</script></html>"
      ],
      "text/latex": [
       "$$\\newcommand{\\Bold}[1]{\\mathbf{#1}}\\begin{array}{lcl} \\nabla_{g} n_{ \\phantom{\\, t} \\, t }^{ \\, t \\phantom{\\, t} } & = & -\\frac{\\beta_x\\left(t, x, y, z\\right) \\frac{\\partial\\,\\beta_x}{\\partial x}}{\\sqrt{\\beta_x\\left(t, x, y, z\\right) + 1} \\sqrt{\\beta_x\\left(t, x, y, z\\right) - 1}} \\\\ \\nabla_{g} n_{ \\phantom{\\, t} \\, x }^{ \\, t \\phantom{\\, x} } & = & \\frac{\\frac{\\partial\\,\\beta_x}{\\partial x}}{\\sqrt{\\beta_x\\left(t, x, y, z\\right) + 1} \\sqrt{\\beta_x\\left(t, x, y, z\\right) - 1}} \\\\ \\nabla_{g} n_{ \\phantom{\\, t} \\, y }^{ \\, t \\phantom{\\, y} } & = & \\frac{\\frac{\\partial\\,\\beta_x}{\\partial y}}{2 \\, \\sqrt{\\beta_x\\left(t, x, y, z\\right) + 1} \\sqrt{\\beta_x\\left(t, x, y, z\\right) - 1}} \\\\ \\nabla_{g} n_{ \\phantom{\\, t} \\, z }^{ \\, t \\phantom{\\, z} } & = & \\frac{\\frac{\\partial\\,\\beta_x}{\\partial z}}{2 \\, \\sqrt{\\beta_x\\left(t, x, y, z\\right) + 1} \\sqrt{\\beta_x\\left(t, x, y, z\\right) - 1}} \\\\ \\nabla_{g} n_{ \\phantom{\\, x} \\, t }^{ \\, x \\phantom{\\, t} } & = & -\\frac{\\beta_x\\left(t, x, y, z\\right) \\frac{\\partial\\,\\beta_x}{\\partial t} + {\\left(\\beta_x\\left(t, x, y, z\\right)^{4} - \\beta_x\\left(t, x, y, z\\right)^{2}\\right)} \\frac{\\partial\\,\\beta_x}{\\partial x}}{{\\left(\\beta_x\\left(t, x, y, z\\right)^{2} - 1\\right)} \\sqrt{\\beta_x\\left(t, x, y, z\\right) + 1} \\sqrt{\\beta_x\\left(t, x, y, z\\right) - 1}} \\\\ \\nabla_{g} n_{ \\phantom{\\, x} \\, x }^{ \\, x \\phantom{\\, x} } & = & \\frac{{\\left(\\beta_x\\left(t, x, y, z\\right)^{3} - 2 \\, \\beta_x\\left(t, x, y, z\\right)\\right)} \\frac{\\partial\\,\\beta_x}{\\partial x}}{{\\left(\\beta_x\\left(t, x, y, z\\right)^{2} - 1\\right)} \\sqrt{\\beta_x\\left(t, x, y, z\\right) + 1} \\sqrt{\\beta_x\\left(t, x, y, z\\right) - 1}} \\\\ \\nabla_{g} n_{ \\phantom{\\, x} \\, y }^{ \\, x \\phantom{\\, y} } & = & \\frac{{\\left(\\beta_x\\left(t, x, y, z\\right)^{3} - 3 \\, \\beta_x\\left(t, x, y, z\\right)\\right)} \\frac{\\partial\\,\\beta_x}{\\partial y}}{2 \\, {\\left(\\beta_x\\left(t, x, y, z\\right)^{2} - 1\\right)} \\sqrt{\\beta_x\\left(t, x, y, z\\right) + 1} \\sqrt{\\beta_x\\left(t, x, y, z\\right) - 1}} \\\\ \\nabla_{g} n_{ \\phantom{\\, x} \\, z }^{ \\, x \\phantom{\\, z} } & = & \\frac{{\\left(\\beta_x\\left(t, x, y, z\\right)^{3} - 3 \\, \\beta_x\\left(t, x, y, z\\right)\\right)} \\frac{\\partial\\,\\beta_x}{\\partial z}}{2 \\, {\\left(\\beta_x\\left(t, x, y, z\\right)^{2} - 1\\right)} \\sqrt{\\beta_x\\left(t, x, y, z\\right) + 1} \\sqrt{\\beta_x\\left(t, x, y, z\\right) - 1}} \\\\ \\nabla_{g} n_{ \\phantom{\\, y} \\, t }^{ \\, y \\phantom{\\, t} } & = & \\frac{\\frac{\\partial\\,\\beta_x}{\\partial y}}{2 \\, \\sqrt{\\beta_x\\left(t, x, y, z\\right) + 1} \\sqrt{\\beta_x\\left(t, x, y, z\\right) - 1}} \\\\ \\nabla_{g} n_{ \\phantom{\\, z} \\, t }^{ \\, z \\phantom{\\, t} } & = & \\frac{\\frac{\\partial\\,\\beta_x}{\\partial z}}{2 \\, \\sqrt{\\beta_x\\left(t, x, y, z\\right) + 1} \\sqrt{\\beta_x\\left(t, x, y, z\\right) - 1}} \\end{array}$$"
      ],
      "text/plain": [
       "nabla_g(n)^t_t = -shiftx(t, x, y, z)*d(shiftx)/dx/(sqrt(shiftx(t, x, y, z) + 1)*sqrt(shiftx(t, x, y, z) - 1)) \n",
       "nabla_g(n)^t_x = d(shiftx)/dx/(sqrt(shiftx(t, x, y, z) + 1)*sqrt(shiftx(t, x, y, z) - 1)) \n",
       "nabla_g(n)^t_y = 1/2*d(shiftx)/dy/(sqrt(shiftx(t, x, y, z) + 1)*sqrt(shiftx(t, x, y, z) - 1)) \n",
       "nabla_g(n)^t_z = 1/2*d(shiftx)/dz/(sqrt(shiftx(t, x, y, z) + 1)*sqrt(shiftx(t, x, y, z) - 1)) \n",
       "nabla_g(n)^x_t = -(shiftx(t, x, y, z)*d(shiftx)/dt + (shiftx(t, x, y, z)^4 - shiftx(t, x, y, z)^2)*d(shiftx)/dx)/((shiftx(t, x, y, z)^2 - 1)*sqrt(shiftx(t, x, y, z) + 1)*sqrt(shiftx(t, x, y, z) - 1)) \n",
       "nabla_g(n)^x_x = (shiftx(t, x, y, z)^3 - 2*shiftx(t, x, y, z))*d(shiftx)/dx/((shiftx(t, x, y, z)^2 - 1)*sqrt(shiftx(t, x, y, z) + 1)*sqrt(shiftx(t, x, y, z) - 1)) \n",
       "nabla_g(n)^x_y = 1/2*(shiftx(t, x, y, z)^3 - 3*shiftx(t, x, y, z))*d(shiftx)/dy/((shiftx(t, x, y, z)^2 - 1)*sqrt(shiftx(t, x, y, z) + 1)*sqrt(shiftx(t, x, y, z) - 1)) \n",
       "nabla_g(n)^x_z = 1/2*(shiftx(t, x, y, z)^3 - 3*shiftx(t, x, y, z))*d(shiftx)/dz/((shiftx(t, x, y, z)^2 - 1)*sqrt(shiftx(t, x, y, z) + 1)*sqrt(shiftx(t, x, y, z) - 1)) \n",
       "nabla_g(n)^y_t = 1/2*d(shiftx)/dy/(sqrt(shiftx(t, x, y, z) + 1)*sqrt(shiftx(t, x, y, z) - 1)) \n",
       "nabla_g(n)^z_t = 1/2*d(shiftx)/dz/(sqrt(shiftx(t, x, y, z) + 1)*sqrt(shiftx(t, x, y, z) - 1)) "
      ]
     },
     "execution_count": 19,
     "metadata": {},
     "output_type": "execute_result"
    }
   ],
   "source": [
    "normal = M.vector_field('n')\n",
    "normal[1] = 1/sqrt(g[0,0])\n",
    "#\n",
    "cov_divn = nabla(normal)\n",
    "#\n",
    "cov_divn.display_comp()"
   ]
  },
  {
   "cell_type": "markdown",
   "metadata": {},
   "source": [
    "# Covariant derivative of Einstein tensor"
   ]
  },
  {
   "cell_type": "code",
   "execution_count": 20,
   "metadata": {},
   "outputs": [
    {
     "data": {
      "text/html": [
       "<html><script type=\"math/tex; mode=display\">\\newcommand{\\Bold}[1]{\\mathbf{#1}}\\begin{array}{lcl} X_{ \\, t \\, t }^{ \\phantom{\\, t}\\phantom{\\, t} } & = & \\frac{1}{2} \\, \\beta_x\\left(t, x, y, z\\right)^{2} \\frac{\\partial\\,\\beta_x}{\\partial x} \\left(\\frac{\\partial\\,\\beta_x}{\\partial y}\\right)^{2} + \\frac{1}{2} \\, \\beta_x\\left(t, x, y, z\\right)^{2} \\frac{\\partial\\,\\beta_x}{\\partial x} \\left(\\frac{\\partial\\,\\beta_x}{\\partial z}\\right)^{2} + \\beta_x\\left(t, x, y, z\\right) \\frac{\\partial\\,\\beta_x}{\\partial x} \\frac{\\partial^2\\,\\beta_x}{\\partial y ^ 2} + \\beta_x\\left(t, x, y, z\\right) \\frac{\\partial\\,\\beta_x}{\\partial x} \\frac{\\partial^2\\,\\beta_x}{\\partial z ^ 2} - \\frac{1}{2} \\, \\beta_x\\left(t, x, y, z\\right) \\frac{\\partial^3\\,\\beta_x}{\\partial t\\partial y ^ 2} - \\frac{1}{2} \\, \\beta_x\\left(t, x, y, z\\right) \\frac{\\partial^3\\,\\beta_x}{\\partial t\\partial z ^ 2} - \\frac{1}{4} \\, {\\left({\\left(\\beta_x\\left(t, x, y, z\\right)^{2} + 2\\right)} \\frac{\\partial^2\\,\\beta_x}{\\partial t\\partial y} + {\\left(\\beta_x\\left(t, x, y, z\\right)^{3} + 3 \\, \\beta_x\\left(t, x, y, z\\right)\\right)} \\frac{\\partial^2\\,\\beta_x}{\\partial x\\partial y}\\right)} \\frac{\\partial\\,\\beta_x}{\\partial y} - \\frac{1}{4} \\, {\\left({\\left(\\beta_x\\left(t, x, y, z\\right)^{2} + 2\\right)} \\frac{\\partial^2\\,\\beta_x}{\\partial t\\partial z} + {\\left(\\beta_x\\left(t, x, y, z\\right)^{3} + 3 \\, \\beta_x\\left(t, x, y, z\\right)\\right)} \\frac{\\partial^2\\,\\beta_x}{\\partial x\\partial z}\\right)} \\frac{\\partial\\,\\beta_x}{\\partial z} \\\\ X_{ \\, t \\, x }^{ \\phantom{\\, t}\\phantom{\\, x} } & = & -\\frac{1}{2} \\, \\beta_x\\left(t, x, y, z\\right) \\frac{\\partial\\,\\beta_x}{\\partial x} \\left(\\frac{\\partial\\,\\beta_x}{\\partial y}\\right)^{2} - \\frac{1}{2} \\, \\beta_x\\left(t, x, y, z\\right) \\frac{\\partial\\,\\beta_x}{\\partial x} \\left(\\frac{\\partial\\,\\beta_x}{\\partial z}\\right)^{2} - \\frac{1}{2} \\, \\beta_x\\left(t, x, y, z\\right) \\frac{\\partial^3\\,\\beta_x}{\\partial x\\partial y ^ 2} - \\frac{1}{2} \\, \\beta_x\\left(t, x, y, z\\right) \\frac{\\partial^3\\,\\beta_x}{\\partial x\\partial z ^ 2} + \\frac{1}{4} \\, {\\left(\\beta_x\\left(t, x, y, z\\right)^{2} \\frac{\\partial^2\\,\\beta_x}{\\partial x\\partial y} + \\beta_x\\left(t, x, y, z\\right) \\frac{\\partial^2\\,\\beta_x}{\\partial t\\partial y}\\right)} \\frac{\\partial\\,\\beta_x}{\\partial y} - \\frac{\\partial\\,\\beta_x}{\\partial x} \\frac{\\partial^2\\,\\beta_x}{\\partial y ^ 2} + \\frac{1}{4} \\, {\\left(\\beta_x\\left(t, x, y, z\\right)^{2} \\frac{\\partial^2\\,\\beta_x}{\\partial x\\partial z} + \\beta_x\\left(t, x, y, z\\right) \\frac{\\partial^2\\,\\beta_x}{\\partial t\\partial z}\\right)} \\frac{\\partial\\,\\beta_x}{\\partial z} - \\frac{\\partial\\,\\beta_x}{\\partial x} \\frac{\\partial^2\\,\\beta_x}{\\partial z ^ 2} \\\\ X_{ \\, t \\, y }^{ \\phantom{\\, t}\\phantom{\\, y} } & = & -\\frac{1}{2} \\, \\beta_x\\left(t, x, y, z\\right) \\left(\\frac{\\partial\\,\\beta_x}{\\partial y}\\right)^{3} - \\frac{1}{2} \\, \\beta_x\\left(t, x, y, z\\right) \\frac{\\partial\\,\\beta_x}{\\partial y} \\left(\\frac{\\partial\\,\\beta_x}{\\partial z}\\right)^{2} - \\frac{\\partial\\,\\beta_x}{\\partial y} \\frac{\\partial^2\\,\\beta_x}{\\partial y ^ 2} - \\frac{1}{2} \\, \\beta_x\\left(t, x, y, z\\right) \\frac{\\partial^3\\,\\beta_x}{\\partial y ^ 3} - \\frac{1}{2} \\, \\beta_x\\left(t, x, y, z\\right) \\frac{\\partial^3\\,\\beta_x}{\\partial y\\partial z ^ 2} - \\frac{1}{2} \\, \\frac{\\partial^2\\,\\beta_x}{\\partial y\\partial z} \\frac{\\partial\\,\\beta_x}{\\partial z} - \\frac{1}{2} \\, \\frac{\\partial\\,\\beta_x}{\\partial y} \\frac{\\partial^2\\,\\beta_x}{\\partial z ^ 2} \\\\ X_{ \\, t \\, z }^{ \\phantom{\\, t}\\phantom{\\, z} } & = & -\\frac{1}{2} \\, \\beta_x\\left(t, x, y, z\\right) \\left(\\frac{\\partial\\,\\beta_x}{\\partial z}\\right)^{3} - \\frac{1}{2} \\, \\beta_x\\left(t, x, y, z\\right) \\frac{\\partial^3\\,\\beta_x}{\\partial y ^ 2\\partial z} - \\frac{1}{2} \\, \\frac{\\partial\\,\\beta_x}{\\partial y} \\frac{\\partial^2\\,\\beta_x}{\\partial y\\partial z} - \\frac{1}{2} \\, {\\left(\\beta_x\\left(t, x, y, z\\right) \\frac{\\partial\\,\\beta_x}{\\partial y}^{2} + \\frac{\\partial^2\\,\\beta_x}{\\partial y ^ 2}\\right)} \\frac{\\partial\\,\\beta_x}{\\partial z} - \\frac{\\partial\\,\\beta_x}{\\partial z} \\frac{\\partial^2\\,\\beta_x}{\\partial z ^ 2} - \\frac{1}{2} \\, \\beta_x\\left(t, x, y, z\\right) \\frac{\\partial^3\\,\\beta_x}{\\partial z ^ 3} \\\\ X_{ \\, x \\, t }^{ \\phantom{\\, x}\\phantom{\\, t} } & = & -\\frac{1}{2} \\, \\beta_x\\left(t, x, y, z\\right) \\frac{\\partial\\,\\beta_x}{\\partial x} \\left(\\frac{\\partial\\,\\beta_x}{\\partial y}\\right)^{2} - \\frac{1}{2} \\, \\beta_x\\left(t, x, y, z\\right) \\frac{\\partial\\,\\beta_x}{\\partial x} \\left(\\frac{\\partial\\,\\beta_x}{\\partial z}\\right)^{2} + \\frac{1}{4} \\, {\\left(\\beta_x\\left(t, x, y, z\\right) \\frac{\\partial^2\\,\\beta_x}{\\partial t\\partial y} + {\\left(\\beta_x\\left(t, x, y, z\\right)^{2} + 1\\right)} \\frac{\\partial^2\\,\\beta_x}{\\partial x\\partial y}\\right)} \\frac{\\partial\\,\\beta_x}{\\partial y} + \\frac{1}{4} \\, {\\left(\\beta_x\\left(t, x, y, z\\right) \\frac{\\partial^2\\,\\beta_x}{\\partial t\\partial z} + {\\left(\\beta_x\\left(t, x, y, z\\right)^{2} + 1\\right)} \\frac{\\partial^2\\,\\beta_x}{\\partial x\\partial z}\\right)} \\frac{\\partial\\,\\beta_x}{\\partial z} + \\frac{1}{2} \\, \\frac{\\partial^3\\,\\beta_x}{\\partial t\\partial y ^ 2} + \\frac{1}{2} \\, \\frac{\\partial^3\\,\\beta_x}{\\partial t\\partial z ^ 2} \\\\ X_{ \\, x \\, x }^{ \\phantom{\\, x}\\phantom{\\, x} } & = & \\frac{1}{2} \\, \\frac{\\partial\\,\\beta_x}{\\partial x} \\left(\\frac{\\partial\\,\\beta_x}{\\partial y}\\right)^{2} + \\frac{1}{2} \\, \\frac{\\partial\\,\\beta_x}{\\partial x} \\left(\\frac{\\partial\\,\\beta_x}{\\partial z}\\right)^{2} - \\frac{1}{4} \\, {\\left(\\beta_x\\left(t, x, y, z\\right) \\frac{\\partial^2\\,\\beta_x}{\\partial x\\partial y} + \\frac{\\partial^2\\,\\beta_x}{\\partial t\\partial y}\\right)} \\frac{\\partial\\,\\beta_x}{\\partial y} - \\frac{1}{4} \\, {\\left(\\beta_x\\left(t, x, y, z\\right) \\frac{\\partial^2\\,\\beta_x}{\\partial x\\partial z} + \\frac{\\partial^2\\,\\beta_x}{\\partial t\\partial z}\\right)} \\frac{\\partial\\,\\beta_x}{\\partial z} + \\frac{1}{2} \\, \\frac{\\partial^3\\,\\beta_x}{\\partial x\\partial y ^ 2} + \\frac{1}{2} \\, \\frac{\\partial^3\\,\\beta_x}{\\partial x\\partial z ^ 2} \\\\ X_{ \\, x \\, y }^{ \\phantom{\\, x}\\phantom{\\, y} } & = & \\frac{1}{2} \\, \\left(\\frac{\\partial\\,\\beta_x}{\\partial y}\\right)^{3} + \\frac{1}{2} \\, \\frac{\\partial\\,\\beta_x}{\\partial y} \\left(\\frac{\\partial\\,\\beta_x}{\\partial z}\\right)^{2} + \\frac{1}{2} \\, \\frac{\\partial^3\\,\\beta_x}{\\partial y ^ 3} + \\frac{1}{2} \\, \\frac{\\partial^3\\,\\beta_x}{\\partial y\\partial z ^ 2} \\\\ X_{ \\, x \\, z }^{ \\phantom{\\, x}\\phantom{\\, z} } & = & \\frac{1}{2} \\, \\left(\\frac{\\partial\\,\\beta_x}{\\partial y}\\right)^{2} \\frac{\\partial\\,\\beta_x}{\\partial z} + \\frac{1}{2} \\, \\frac{\\partial\\,\\beta_x}{\\partial z}^{3} + \\frac{1}{2} \\, \\frac{\\partial^3\\,\\beta_x}{\\partial y ^ 2\\partial z} + \\frac{1}{2} \\, \\frac{\\partial^3\\,\\beta_x}{\\partial z ^ 3} \\\\ X_{ \\, y \\, t }^{ \\phantom{\\, y}\\phantom{\\, t} } & = & \\frac{1}{2} \\, \\beta_x\\left(t, x, y, z\\right)^{2} \\frac{\\partial\\,\\beta_x}{\\partial x} \\frac{\\partial^2\\,\\beta_x}{\\partial x\\partial y} + \\frac{1}{2} \\, \\beta_x\\left(t, x, y, z\\right) \\frac{\\partial^2\\,\\beta_x}{\\partial t\\partial y} \\frac{\\partial\\,\\beta_x}{\\partial x} + \\frac{1}{2} \\, {\\left(\\beta_x\\left(t, x, y, z\\right) \\frac{\\partial\\,\\beta_x}{\\partial x}^{2} - \\beta_x\\left(t, x, y, z\\right)^{2} \\frac{\\partial^2\\,\\beta_x}{\\partial x ^ 2} - \\beta_x\\left(t, x, y, z\\right) \\frac{\\partial^2\\,\\beta_x}{\\partial t\\partial x}\\right)} \\frac{\\partial\\,\\beta_x}{\\partial y} + \\frac{1}{4} \\, \\frac{\\partial\\,\\beta_x}{\\partial y} \\frac{\\partial^2\\,\\beta_x}{\\partial y ^ 2} + \\frac{1}{4} \\, \\frac{\\partial\\,\\beta_x}{\\partial y} \\frac{\\partial^2\\,\\beta_x}{\\partial z ^ 2} - \\frac{1}{2} \\, \\frac{\\partial^3\\,\\beta_x}{\\partial t\\partial x\\partial y} \\\\ X_{ \\, y \\, x }^{ \\phantom{\\, y}\\phantom{\\, x} } & = & -\\frac{1}{2} \\, \\beta_x\\left(t, x, y, z\\right) \\frac{\\partial\\,\\beta_x}{\\partial x} \\frac{\\partial^2\\,\\beta_x}{\\partial x\\partial y} - \\frac{1}{2} \\, \\frac{\\partial^2\\,\\beta_x}{\\partial t\\partial y} \\frac{\\partial\\,\\beta_x}{\\partial x} - \\frac{1}{2} \\, {\\left(\\frac{\\partial\\,\\beta_x}{\\partial x}^{2} - \\beta_x\\left(t, x, y, z\\right) \\frac{\\partial^2\\,\\beta_x}{\\partial x ^ 2} - \\frac{\\partial^2\\,\\beta_x}{\\partial t\\partial x}\\right)} \\frac{\\partial\\,\\beta_x}{\\partial y} - \\frac{1}{2} \\, \\frac{\\partial^3\\,\\beta_x}{\\partial x ^ 2\\partial y} \\\\ X_{ \\, y \\, y }^{ \\phantom{\\, y}\\phantom{\\, y} } & = & -\\frac{1}{2} \\, \\frac{\\partial\\,\\beta_x}{\\partial x} \\left(\\frac{\\partial\\,\\beta_x}{\\partial y}\\right)^{2} - \\frac{1}{4} \\, {\\left(\\beta_x\\left(t, x, y, z\\right) \\frac{\\partial^2\\,\\beta_x}{\\partial x\\partial y} + \\frac{\\partial^2\\,\\beta_x}{\\partial t\\partial y}\\right)} \\frac{\\partial\\,\\beta_x}{\\partial y} - \\frac{1}{2} \\, \\frac{\\partial^3\\,\\beta_x}{\\partial x\\partial y ^ 2} \\\\ X_{ \\, y \\, z }^{ \\phantom{\\, y}\\phantom{\\, z} } & = & -\\frac{1}{4} \\, {\\left(\\beta_x\\left(t, x, y, z\\right) \\frac{\\partial^2\\,\\beta_x}{\\partial x\\partial y} + 2 \\, \\frac{\\partial\\,\\beta_x}{\\partial x} \\frac{\\partial\\,\\beta_x}{\\partial y} + \\frac{\\partial^2\\,\\beta_x}{\\partial t\\partial y}\\right)} \\frac{\\partial\\,\\beta_x}{\\partial z} - \\frac{1}{2} \\, \\frac{\\partial^3\\,\\beta_x}{\\partial x\\partial y\\partial z} \\\\ X_{ \\, z \\, t }^{ \\phantom{\\, z}\\phantom{\\, t} } & = & \\frac{1}{2} \\, \\beta_x\\left(t, x, y, z\\right)^{2} \\frac{\\partial\\,\\beta_x}{\\partial x} \\frac{\\partial^2\\,\\beta_x}{\\partial x\\partial z} + \\frac{1}{2} \\, \\beta_x\\left(t, x, y, z\\right) \\frac{\\partial^2\\,\\beta_x}{\\partial t\\partial z} \\frac{\\partial\\,\\beta_x}{\\partial x} + \\frac{1}{4} \\, {\\left(2 \\, \\beta_x\\left(t, x, y, z\\right) \\frac{\\partial\\,\\beta_x}{\\partial x}^{2} - 2 \\, \\beta_x\\left(t, x, y, z\\right)^{2} \\frac{\\partial^2\\,\\beta_x}{\\partial x ^ 2} - 2 \\, \\beta_x\\left(t, x, y, z\\right) \\frac{\\partial^2\\,\\beta_x}{\\partial t\\partial x} + \\frac{\\partial^2\\,\\beta_x}{\\partial y ^ 2}\\right)} \\frac{\\partial\\,\\beta_x}{\\partial z} + \\frac{1}{4} \\, \\frac{\\partial\\,\\beta_x}{\\partial z} \\frac{\\partial^2\\,\\beta_x}{\\partial z ^ 2} - \\frac{1}{2} \\, \\frac{\\partial^3\\,\\beta_x}{\\partial t\\partial x\\partial z} \\\\ X_{ \\, z \\, x }^{ \\phantom{\\, z}\\phantom{\\, x} } & = & -\\frac{1}{2} \\, \\beta_x\\left(t, x, y, z\\right) \\frac{\\partial\\,\\beta_x}{\\partial x} \\frac{\\partial^2\\,\\beta_x}{\\partial x\\partial z} - \\frac{1}{2} \\, \\frac{\\partial^2\\,\\beta_x}{\\partial t\\partial z} \\frac{\\partial\\,\\beta_x}{\\partial x} - \\frac{1}{2} \\, {\\left(\\frac{\\partial\\,\\beta_x}{\\partial x}^{2} - \\beta_x\\left(t, x, y, z\\right) \\frac{\\partial^2\\,\\beta_x}{\\partial x ^ 2} - \\frac{\\partial^2\\,\\beta_x}{\\partial t\\partial x}\\right)} \\frac{\\partial\\,\\beta_x}{\\partial z} - \\frac{1}{2} \\, \\frac{\\partial^3\\,\\beta_x}{\\partial x ^ 2\\partial z} \\\\ X_{ \\, z \\, y }^{ \\phantom{\\, z}\\phantom{\\, y} } & = & -\\frac{1}{2} \\, \\frac{\\partial\\,\\beta_x}{\\partial x} \\frac{\\partial\\,\\beta_x}{\\partial y} \\frac{\\partial\\,\\beta_x}{\\partial z} - \\frac{1}{4} \\, {\\left(\\beta_x\\left(t, x, y, z\\right) \\frac{\\partial^2\\,\\beta_x}{\\partial x\\partial z} + \\frac{\\partial^2\\,\\beta_x}{\\partial t\\partial z}\\right)} \\frac{\\partial\\,\\beta_x}{\\partial y} - \\frac{1}{2} \\, \\frac{\\partial^3\\,\\beta_x}{\\partial x\\partial y\\partial z} \\\\ X_{ \\, z \\, z }^{ \\phantom{\\, z}\\phantom{\\, z} } & = & -\\frac{1}{2} \\, \\frac{\\partial\\,\\beta_x}{\\partial x} \\left(\\frac{\\partial\\,\\beta_x}{\\partial z}\\right)^{2} - \\frac{1}{4} \\, {\\left(\\beta_x\\left(t, x, y, z\\right) \\frac{\\partial^2\\,\\beta_x}{\\partial x\\partial z} + \\frac{\\partial^2\\,\\beta_x}{\\partial t\\partial z}\\right)} \\frac{\\partial\\,\\beta_x}{\\partial z} - \\frac{1}{2} \\, \\frac{\\partial^3\\,\\beta_x}{\\partial x\\partial z ^ 2} \\end{array}</script></html>"
      ],
      "text/latex": [
       "$$\\newcommand{\\Bold}[1]{\\mathbf{#1}}\\begin{array}{lcl} X_{ \\, t \\, t }^{ \\phantom{\\, t}\\phantom{\\, t} } & = & \\frac{1}{2} \\, \\beta_x\\left(t, x, y, z\\right)^{2} \\frac{\\partial\\,\\beta_x}{\\partial x} \\left(\\frac{\\partial\\,\\beta_x}{\\partial y}\\right)^{2} + \\frac{1}{2} \\, \\beta_x\\left(t, x, y, z\\right)^{2} \\frac{\\partial\\,\\beta_x}{\\partial x} \\left(\\frac{\\partial\\,\\beta_x}{\\partial z}\\right)^{2} + \\beta_x\\left(t, x, y, z\\right) \\frac{\\partial\\,\\beta_x}{\\partial x} \\frac{\\partial^2\\,\\beta_x}{\\partial y ^ 2} + \\beta_x\\left(t, x, y, z\\right) \\frac{\\partial\\,\\beta_x}{\\partial x} \\frac{\\partial^2\\,\\beta_x}{\\partial z ^ 2} - \\frac{1}{2} \\, \\beta_x\\left(t, x, y, z\\right) \\frac{\\partial^3\\,\\beta_x}{\\partial t\\partial y ^ 2} - \\frac{1}{2} \\, \\beta_x\\left(t, x, y, z\\right) \\frac{\\partial^3\\,\\beta_x}{\\partial t\\partial z ^ 2} - \\frac{1}{4} \\, {\\left({\\left(\\beta_x\\left(t, x, y, z\\right)^{2} + 2\\right)} \\frac{\\partial^2\\,\\beta_x}{\\partial t\\partial y} + {\\left(\\beta_x\\left(t, x, y, z\\right)^{3} + 3 \\, \\beta_x\\left(t, x, y, z\\right)\\right)} \\frac{\\partial^2\\,\\beta_x}{\\partial x\\partial y}\\right)} \\frac{\\partial\\,\\beta_x}{\\partial y} - \\frac{1}{4} \\, {\\left({\\left(\\beta_x\\left(t, x, y, z\\right)^{2} + 2\\right)} \\frac{\\partial^2\\,\\beta_x}{\\partial t\\partial z} + {\\left(\\beta_x\\left(t, x, y, z\\right)^{3} + 3 \\, \\beta_x\\left(t, x, y, z\\right)\\right)} \\frac{\\partial^2\\,\\beta_x}{\\partial x\\partial z}\\right)} \\frac{\\partial\\,\\beta_x}{\\partial z} \\\\ X_{ \\, t \\, x }^{ \\phantom{\\, t}\\phantom{\\, x} } & = & -\\frac{1}{2} \\, \\beta_x\\left(t, x, y, z\\right) \\frac{\\partial\\,\\beta_x}{\\partial x} \\left(\\frac{\\partial\\,\\beta_x}{\\partial y}\\right)^{2} - \\frac{1}{2} \\, \\beta_x\\left(t, x, y, z\\right) \\frac{\\partial\\,\\beta_x}{\\partial x} \\left(\\frac{\\partial\\,\\beta_x}{\\partial z}\\right)^{2} - \\frac{1}{2} \\, \\beta_x\\left(t, x, y, z\\right) \\frac{\\partial^3\\,\\beta_x}{\\partial x\\partial y ^ 2} - \\frac{1}{2} \\, \\beta_x\\left(t, x, y, z\\right) \\frac{\\partial^3\\,\\beta_x}{\\partial x\\partial z ^ 2} + \\frac{1}{4} \\, {\\left(\\beta_x\\left(t, x, y, z\\right)^{2} \\frac{\\partial^2\\,\\beta_x}{\\partial x\\partial y} + \\beta_x\\left(t, x, y, z\\right) \\frac{\\partial^2\\,\\beta_x}{\\partial t\\partial y}\\right)} \\frac{\\partial\\,\\beta_x}{\\partial y} - \\frac{\\partial\\,\\beta_x}{\\partial x} \\frac{\\partial^2\\,\\beta_x}{\\partial y ^ 2} + \\frac{1}{4} \\, {\\left(\\beta_x\\left(t, x, y, z\\right)^{2} \\frac{\\partial^2\\,\\beta_x}{\\partial x\\partial z} + \\beta_x\\left(t, x, y, z\\right) \\frac{\\partial^2\\,\\beta_x}{\\partial t\\partial z}\\right)} \\frac{\\partial\\,\\beta_x}{\\partial z} - \\frac{\\partial\\,\\beta_x}{\\partial x} \\frac{\\partial^2\\,\\beta_x}{\\partial z ^ 2} \\\\ X_{ \\, t \\, y }^{ \\phantom{\\, t}\\phantom{\\, y} } & = & -\\frac{1}{2} \\, \\beta_x\\left(t, x, y, z\\right) \\left(\\frac{\\partial\\,\\beta_x}{\\partial y}\\right)^{3} - \\frac{1}{2} \\, \\beta_x\\left(t, x, y, z\\right) \\frac{\\partial\\,\\beta_x}{\\partial y} \\left(\\frac{\\partial\\,\\beta_x}{\\partial z}\\right)^{2} - \\frac{\\partial\\,\\beta_x}{\\partial y} \\frac{\\partial^2\\,\\beta_x}{\\partial y ^ 2} - \\frac{1}{2} \\, \\beta_x\\left(t, x, y, z\\right) \\frac{\\partial^3\\,\\beta_x}{\\partial y ^ 3} - \\frac{1}{2} \\, \\beta_x\\left(t, x, y, z\\right) \\frac{\\partial^3\\,\\beta_x}{\\partial y\\partial z ^ 2} - \\frac{1}{2} \\, \\frac{\\partial^2\\,\\beta_x}{\\partial y\\partial z} \\frac{\\partial\\,\\beta_x}{\\partial z} - \\frac{1}{2} \\, \\frac{\\partial\\,\\beta_x}{\\partial y} \\frac{\\partial^2\\,\\beta_x}{\\partial z ^ 2} \\\\ X_{ \\, t \\, z }^{ \\phantom{\\, t}\\phantom{\\, z} } & = & -\\frac{1}{2} \\, \\beta_x\\left(t, x, y, z\\right) \\left(\\frac{\\partial\\,\\beta_x}{\\partial z}\\right)^{3} - \\frac{1}{2} \\, \\beta_x\\left(t, x, y, z\\right) \\frac{\\partial^3\\,\\beta_x}{\\partial y ^ 2\\partial z} - \\frac{1}{2} \\, \\frac{\\partial\\,\\beta_x}{\\partial y} \\frac{\\partial^2\\,\\beta_x}{\\partial y\\partial z} - \\frac{1}{2} \\, {\\left(\\beta_x\\left(t, x, y, z\\right) \\frac{\\partial\\,\\beta_x}{\\partial y}^{2} + \\frac{\\partial^2\\,\\beta_x}{\\partial y ^ 2}\\right)} \\frac{\\partial\\,\\beta_x}{\\partial z} - \\frac{\\partial\\,\\beta_x}{\\partial z} \\frac{\\partial^2\\,\\beta_x}{\\partial z ^ 2} - \\frac{1}{2} \\, \\beta_x\\left(t, x, y, z\\right) \\frac{\\partial^3\\,\\beta_x}{\\partial z ^ 3} \\\\ X_{ \\, x \\, t }^{ \\phantom{\\, x}\\phantom{\\, t} } & = & -\\frac{1}{2} \\, \\beta_x\\left(t, x, y, z\\right) \\frac{\\partial\\,\\beta_x}{\\partial x} \\left(\\frac{\\partial\\,\\beta_x}{\\partial y}\\right)^{2} - \\frac{1}{2} \\, \\beta_x\\left(t, x, y, z\\right) \\frac{\\partial\\,\\beta_x}{\\partial x} \\left(\\frac{\\partial\\,\\beta_x}{\\partial z}\\right)^{2} + \\frac{1}{4} \\, {\\left(\\beta_x\\left(t, x, y, z\\right) \\frac{\\partial^2\\,\\beta_x}{\\partial t\\partial y} + {\\left(\\beta_x\\left(t, x, y, z\\right)^{2} + 1\\right)} \\frac{\\partial^2\\,\\beta_x}{\\partial x\\partial y}\\right)} \\frac{\\partial\\,\\beta_x}{\\partial y} + \\frac{1}{4} \\, {\\left(\\beta_x\\left(t, x, y, z\\right) \\frac{\\partial^2\\,\\beta_x}{\\partial t\\partial z} + {\\left(\\beta_x\\left(t, x, y, z\\right)^{2} + 1\\right)} \\frac{\\partial^2\\,\\beta_x}{\\partial x\\partial z}\\right)} \\frac{\\partial\\,\\beta_x}{\\partial z} + \\frac{1}{2} \\, \\frac{\\partial^3\\,\\beta_x}{\\partial t\\partial y ^ 2} + \\frac{1}{2} \\, \\frac{\\partial^3\\,\\beta_x}{\\partial t\\partial z ^ 2} \\\\ X_{ \\, x \\, x }^{ \\phantom{\\, x}\\phantom{\\, x} } & = & \\frac{1}{2} \\, \\frac{\\partial\\,\\beta_x}{\\partial x} \\left(\\frac{\\partial\\,\\beta_x}{\\partial y}\\right)^{2} + \\frac{1}{2} \\, \\frac{\\partial\\,\\beta_x}{\\partial x} \\left(\\frac{\\partial\\,\\beta_x}{\\partial z}\\right)^{2} - \\frac{1}{4} \\, {\\left(\\beta_x\\left(t, x, y, z\\right) \\frac{\\partial^2\\,\\beta_x}{\\partial x\\partial y} + \\frac{\\partial^2\\,\\beta_x}{\\partial t\\partial y}\\right)} \\frac{\\partial\\,\\beta_x}{\\partial y} - \\frac{1}{4} \\, {\\left(\\beta_x\\left(t, x, y, z\\right) \\frac{\\partial^2\\,\\beta_x}{\\partial x\\partial z} + \\frac{\\partial^2\\,\\beta_x}{\\partial t\\partial z}\\right)} \\frac{\\partial\\,\\beta_x}{\\partial z} + \\frac{1}{2} \\, \\frac{\\partial^3\\,\\beta_x}{\\partial x\\partial y ^ 2} + \\frac{1}{2} \\, \\frac{\\partial^3\\,\\beta_x}{\\partial x\\partial z ^ 2} \\\\ X_{ \\, x \\, y }^{ \\phantom{\\, x}\\phantom{\\, y} } & = & \\frac{1}{2} \\, \\left(\\frac{\\partial\\,\\beta_x}{\\partial y}\\right)^{3} + \\frac{1}{2} \\, \\frac{\\partial\\,\\beta_x}{\\partial y} \\left(\\frac{\\partial\\,\\beta_x}{\\partial z}\\right)^{2} + \\frac{1}{2} \\, \\frac{\\partial^3\\,\\beta_x}{\\partial y ^ 3} + \\frac{1}{2} \\, \\frac{\\partial^3\\,\\beta_x}{\\partial y\\partial z ^ 2} \\\\ X_{ \\, x \\, z }^{ \\phantom{\\, x}\\phantom{\\, z} } & = & \\frac{1}{2} \\, \\left(\\frac{\\partial\\,\\beta_x}{\\partial y}\\right)^{2} \\frac{\\partial\\,\\beta_x}{\\partial z} + \\frac{1}{2} \\, \\frac{\\partial\\,\\beta_x}{\\partial z}^{3} + \\frac{1}{2} \\, \\frac{\\partial^3\\,\\beta_x}{\\partial y ^ 2\\partial z} + \\frac{1}{2} \\, \\frac{\\partial^3\\,\\beta_x}{\\partial z ^ 3} \\\\ X_{ \\, y \\, t }^{ \\phantom{\\, y}\\phantom{\\, t} } & = & \\frac{1}{2} \\, \\beta_x\\left(t, x, y, z\\right)^{2} \\frac{\\partial\\,\\beta_x}{\\partial x} \\frac{\\partial^2\\,\\beta_x}{\\partial x\\partial y} + \\frac{1}{2} \\, \\beta_x\\left(t, x, y, z\\right) \\frac{\\partial^2\\,\\beta_x}{\\partial t\\partial y} \\frac{\\partial\\,\\beta_x}{\\partial x} + \\frac{1}{2} \\, {\\left(\\beta_x\\left(t, x, y, z\\right) \\frac{\\partial\\,\\beta_x}{\\partial x}^{2} - \\beta_x\\left(t, x, y, z\\right)^{2} \\frac{\\partial^2\\,\\beta_x}{\\partial x ^ 2} - \\beta_x\\left(t, x, y, z\\right) \\frac{\\partial^2\\,\\beta_x}{\\partial t\\partial x}\\right)} \\frac{\\partial\\,\\beta_x}{\\partial y} + \\frac{1}{4} \\, \\frac{\\partial\\,\\beta_x}{\\partial y} \\frac{\\partial^2\\,\\beta_x}{\\partial y ^ 2} + \\frac{1}{4} \\, \\frac{\\partial\\,\\beta_x}{\\partial y} \\frac{\\partial^2\\,\\beta_x}{\\partial z ^ 2} - \\frac{1}{2} \\, \\frac{\\partial^3\\,\\beta_x}{\\partial t\\partial x\\partial y} \\\\ X_{ \\, y \\, x }^{ \\phantom{\\, y}\\phantom{\\, x} } & = & -\\frac{1}{2} \\, \\beta_x\\left(t, x, y, z\\right) \\frac{\\partial\\,\\beta_x}{\\partial x} \\frac{\\partial^2\\,\\beta_x}{\\partial x\\partial y} - \\frac{1}{2} \\, \\frac{\\partial^2\\,\\beta_x}{\\partial t\\partial y} \\frac{\\partial\\,\\beta_x}{\\partial x} - \\frac{1}{2} \\, {\\left(\\frac{\\partial\\,\\beta_x}{\\partial x}^{2} - \\beta_x\\left(t, x, y, z\\right) \\frac{\\partial^2\\,\\beta_x}{\\partial x ^ 2} - \\frac{\\partial^2\\,\\beta_x}{\\partial t\\partial x}\\right)} \\frac{\\partial\\,\\beta_x}{\\partial y} - \\frac{1}{2} \\, \\frac{\\partial^3\\,\\beta_x}{\\partial x ^ 2\\partial y} \\\\ X_{ \\, y \\, y }^{ \\phantom{\\, y}\\phantom{\\, y} } & = & -\\frac{1}{2} \\, \\frac{\\partial\\,\\beta_x}{\\partial x} \\left(\\frac{\\partial\\,\\beta_x}{\\partial y}\\right)^{2} - \\frac{1}{4} \\, {\\left(\\beta_x\\left(t, x, y, z\\right) \\frac{\\partial^2\\,\\beta_x}{\\partial x\\partial y} + \\frac{\\partial^2\\,\\beta_x}{\\partial t\\partial y}\\right)} \\frac{\\partial\\,\\beta_x}{\\partial y} - \\frac{1}{2} \\, \\frac{\\partial^3\\,\\beta_x}{\\partial x\\partial y ^ 2} \\\\ X_{ \\, y \\, z }^{ \\phantom{\\, y}\\phantom{\\, z} } & = & -\\frac{1}{4} \\, {\\left(\\beta_x\\left(t, x, y, z\\right) \\frac{\\partial^2\\,\\beta_x}{\\partial x\\partial y} + 2 \\, \\frac{\\partial\\,\\beta_x}{\\partial x} \\frac{\\partial\\,\\beta_x}{\\partial y} + \\frac{\\partial^2\\,\\beta_x}{\\partial t\\partial y}\\right)} \\frac{\\partial\\,\\beta_x}{\\partial z} - \\frac{1}{2} \\, \\frac{\\partial^3\\,\\beta_x}{\\partial x\\partial y\\partial z} \\\\ X_{ \\, z \\, t }^{ \\phantom{\\, z}\\phantom{\\, t} } & = & \\frac{1}{2} \\, \\beta_x\\left(t, x, y, z\\right)^{2} \\frac{\\partial\\,\\beta_x}{\\partial x} \\frac{\\partial^2\\,\\beta_x}{\\partial x\\partial z} + \\frac{1}{2} \\, \\beta_x\\left(t, x, y, z\\right) \\frac{\\partial^2\\,\\beta_x}{\\partial t\\partial z} \\frac{\\partial\\,\\beta_x}{\\partial x} + \\frac{1}{4} \\, {\\left(2 \\, \\beta_x\\left(t, x, y, z\\right) \\frac{\\partial\\,\\beta_x}{\\partial x}^{2} - 2 \\, \\beta_x\\left(t, x, y, z\\right)^{2} \\frac{\\partial^2\\,\\beta_x}{\\partial x ^ 2} - 2 \\, \\beta_x\\left(t, x, y, z\\right) \\frac{\\partial^2\\,\\beta_x}{\\partial t\\partial x} + \\frac{\\partial^2\\,\\beta_x}{\\partial y ^ 2}\\right)} \\frac{\\partial\\,\\beta_x}{\\partial z} + \\frac{1}{4} \\, \\frac{\\partial\\,\\beta_x}{\\partial z} \\frac{\\partial^2\\,\\beta_x}{\\partial z ^ 2} - \\frac{1}{2} \\, \\frac{\\partial^3\\,\\beta_x}{\\partial t\\partial x\\partial z} \\\\ X_{ \\, z \\, x }^{ \\phantom{\\, z}\\phantom{\\, x} } & = & -\\frac{1}{2} \\, \\beta_x\\left(t, x, y, z\\right) \\frac{\\partial\\,\\beta_x}{\\partial x} \\frac{\\partial^2\\,\\beta_x}{\\partial x\\partial z} - \\frac{1}{2} \\, \\frac{\\partial^2\\,\\beta_x}{\\partial t\\partial z} \\frac{\\partial\\,\\beta_x}{\\partial x} - \\frac{1}{2} \\, {\\left(\\frac{\\partial\\,\\beta_x}{\\partial x}^{2} - \\beta_x\\left(t, x, y, z\\right) \\frac{\\partial^2\\,\\beta_x}{\\partial x ^ 2} - \\frac{\\partial^2\\,\\beta_x}{\\partial t\\partial x}\\right)} \\frac{\\partial\\,\\beta_x}{\\partial z} - \\frac{1}{2} \\, \\frac{\\partial^3\\,\\beta_x}{\\partial x ^ 2\\partial z} \\\\ X_{ \\, z \\, y }^{ \\phantom{\\, z}\\phantom{\\, y} } & = & -\\frac{1}{2} \\, \\frac{\\partial\\,\\beta_x}{\\partial x} \\frac{\\partial\\,\\beta_x}{\\partial y} \\frac{\\partial\\,\\beta_x}{\\partial z} - \\frac{1}{4} \\, {\\left(\\beta_x\\left(t, x, y, z\\right) \\frac{\\partial^2\\,\\beta_x}{\\partial x\\partial z} + \\frac{\\partial^2\\,\\beta_x}{\\partial t\\partial z}\\right)} \\frac{\\partial\\,\\beta_x}{\\partial y} - \\frac{1}{2} \\, \\frac{\\partial^3\\,\\beta_x}{\\partial x\\partial y\\partial z} \\\\ X_{ \\, z \\, z }^{ \\phantom{\\, z}\\phantom{\\, z} } & = & -\\frac{1}{2} \\, \\frac{\\partial\\,\\beta_x}{\\partial x} \\left(\\frac{\\partial\\,\\beta_x}{\\partial z}\\right)^{2} - \\frac{1}{4} \\, {\\left(\\beta_x\\left(t, x, y, z\\right) \\frac{\\partial^2\\,\\beta_x}{\\partial x\\partial z} + \\frac{\\partial^2\\,\\beta_x}{\\partial t\\partial z}\\right)} \\frac{\\partial\\,\\beta_x}{\\partial z} - \\frac{1}{2} \\, \\frac{\\partial^3\\,\\beta_x}{\\partial x\\partial z ^ 2} \\end{array}$$"
      ],
      "text/plain": [
       "X_tt = 1/2*shiftx(t, x, y, z)^2*d(shiftx)/dx*(d(shiftx)/dy)^2 + 1/2*shiftx(t, x, y, z)^2*d(shiftx)/dx*(d(shiftx)/dz)^2 + shiftx(t, x, y, z)*d(shiftx)/dx*d^2(shiftx)/dy^2 + shiftx(t, x, y, z)*d(shiftx)/dx*d^2(shiftx)/dz^2 - 1/2*shiftx(t, x, y, z)*d^3(shiftx)/dtdy^2 - 1/2*shiftx(t, x, y, z)*d^3(shiftx)/dtdz^2 - 1/4*((shiftx(t, x, y, z)^2 + 2)*d^2(shiftx)/dtdy + (shiftx(t, x, y, z)^3 + 3*shiftx(t, x, y, z))*d^2(shiftx)/dxdy)*d(shiftx)/dy - 1/4*((shiftx(t, x, y, z)^2 + 2)*d^2(shiftx)/dtdz + (shiftx(t, x, y, z)^3 + 3*shiftx(t, x, y, z))*d^2(shiftx)/dxdz)*d(shiftx)/dz \n",
       "X_tx = -1/2*shiftx(t, x, y, z)*d(shiftx)/dx*(d(shiftx)/dy)^2 - 1/2*shiftx(t, x, y, z)*d(shiftx)/dx*(d(shiftx)/dz)^2 - 1/2*shiftx(t, x, y, z)*d^3(shiftx)/dxdy^2 - 1/2*shiftx(t, x, y, z)*d^3(shiftx)/dxdz^2 + 1/4*(shiftx(t, x, y, z)^2*d^2(shiftx)/dxdy + shiftx(t, x, y, z)*d^2(shiftx)/dtdy)*d(shiftx)/dy - d(shiftx)/dx*d^2(shiftx)/dy^2 + 1/4*(shiftx(t, x, y, z)^2*d^2(shiftx)/dxdz + shiftx(t, x, y, z)*d^2(shiftx)/dtdz)*d(shiftx)/dz - d(shiftx)/dx*d^2(shiftx)/dz^2 \n",
       "X_ty = -1/2*shiftx(t, x, y, z)*(d(shiftx)/dy)^3 - 1/2*shiftx(t, x, y, z)*d(shiftx)/dy*(d(shiftx)/dz)^2 - d(shiftx)/dy*d^2(shiftx)/dy^2 - 1/2*shiftx(t, x, y, z)*d^3(shiftx)/dy^3 - 1/2*shiftx(t, x, y, z)*d^3(shiftx)/dydz^2 - 1/2*d^2(shiftx)/dydz*d(shiftx)/dz - 1/2*d(shiftx)/dy*d^2(shiftx)/dz^2 \n",
       "X_tz = -1/2*shiftx(t, x, y, z)*(d(shiftx)/dz)^3 - 1/2*shiftx(t, x, y, z)*d^3(shiftx)/dy^2dz - 1/2*d(shiftx)/dy*d^2(shiftx)/dydz - 1/2*(shiftx(t, x, y, z)*d(shiftx)/dy^2 + d^2(shiftx)/dy^2)*d(shiftx)/dz - d(shiftx)/dz*d^2(shiftx)/dz^2 - 1/2*shiftx(t, x, y, z)*d^3(shiftx)/dz^3 \n",
       "X_xt = -1/2*shiftx(t, x, y, z)*d(shiftx)/dx*(d(shiftx)/dy)^2 - 1/2*shiftx(t, x, y, z)*d(shiftx)/dx*(d(shiftx)/dz)^2 + 1/4*(shiftx(t, x, y, z)*d^2(shiftx)/dtdy + (shiftx(t, x, y, z)^2 + 1)*d^2(shiftx)/dxdy)*d(shiftx)/dy + 1/4*(shiftx(t, x, y, z)*d^2(shiftx)/dtdz + (shiftx(t, x, y, z)^2 + 1)*d^2(shiftx)/dxdz)*d(shiftx)/dz + 1/2*d^3(shiftx)/dtdy^2 + 1/2*d^3(shiftx)/dtdz^2 \n",
       "X_xx = 1/2*d(shiftx)/dx*(d(shiftx)/dy)^2 + 1/2*d(shiftx)/dx*(d(shiftx)/dz)^2 - 1/4*(shiftx(t, x, y, z)*d^2(shiftx)/dxdy + d^2(shiftx)/dtdy)*d(shiftx)/dy - 1/4*(shiftx(t, x, y, z)*d^2(shiftx)/dxdz + d^2(shiftx)/dtdz)*d(shiftx)/dz + 1/2*d^3(shiftx)/dxdy^2 + 1/2*d^3(shiftx)/dxdz^2 \n",
       "X_xy = 1/2*(d(shiftx)/dy)^3 + 1/2*d(shiftx)/dy*(d(shiftx)/dz)^2 + 1/2*d^3(shiftx)/dy^3 + 1/2*d^3(shiftx)/dydz^2 \n",
       "X_xz = 1/2*(d(shiftx)/dy)^2*d(shiftx)/dz + 1/2*d(shiftx)/dz^3 + 1/2*d^3(shiftx)/dy^2dz + 1/2*d^3(shiftx)/dz^3 \n",
       "X_yt = 1/2*shiftx(t, x, y, z)^2*d(shiftx)/dx*d^2(shiftx)/dxdy + 1/2*shiftx(t, x, y, z)*d^2(shiftx)/dtdy*d(shiftx)/dx + 1/2*(shiftx(t, x, y, z)*d(shiftx)/dx^2 - shiftx(t, x, y, z)^2*d^2(shiftx)/dx^2 - shiftx(t, x, y, z)*d^2(shiftx)/dtdx)*d(shiftx)/dy + 1/4*d(shiftx)/dy*d^2(shiftx)/dy^2 + 1/4*d(shiftx)/dy*d^2(shiftx)/dz^2 - 1/2*d^3(shiftx)/dtdxdy \n",
       "X_yx = -1/2*shiftx(t, x, y, z)*d(shiftx)/dx*d^2(shiftx)/dxdy - 1/2*d^2(shiftx)/dtdy*d(shiftx)/dx - 1/2*(d(shiftx)/dx^2 - shiftx(t, x, y, z)*d^2(shiftx)/dx^2 - d^2(shiftx)/dtdx)*d(shiftx)/dy - 1/2*d^3(shiftx)/dx^2dy \n",
       "X_yy = -1/2*d(shiftx)/dx*(d(shiftx)/dy)^2 - 1/4*(shiftx(t, x, y, z)*d^2(shiftx)/dxdy + d^2(shiftx)/dtdy)*d(shiftx)/dy - 1/2*d^3(shiftx)/dxdy^2 \n",
       "X_yz = -1/4*(shiftx(t, x, y, z)*d^2(shiftx)/dxdy + 2*d(shiftx)/dx*d(shiftx)/dy + d^2(shiftx)/dtdy)*d(shiftx)/dz - 1/2*d^3(shiftx)/dxdydz \n",
       "X_zt = 1/2*shiftx(t, x, y, z)^2*d(shiftx)/dx*d^2(shiftx)/dxdz + 1/2*shiftx(t, x, y, z)*d^2(shiftx)/dtdz*d(shiftx)/dx + 1/4*(2*shiftx(t, x, y, z)*d(shiftx)/dx^2 - 2*shiftx(t, x, y, z)^2*d^2(shiftx)/dx^2 - 2*shiftx(t, x, y, z)*d^2(shiftx)/dtdx + d^2(shiftx)/dy^2)*d(shiftx)/dz + 1/4*d(shiftx)/dz*d^2(shiftx)/dz^2 - 1/2*d^3(shiftx)/dtdxdz \n",
       "X_zx = -1/2*shiftx(t, x, y, z)*d(shiftx)/dx*d^2(shiftx)/dxdz - 1/2*d^2(shiftx)/dtdz*d(shiftx)/dx - 1/2*(d(shiftx)/dx^2 - shiftx(t, x, y, z)*d^2(shiftx)/dx^2 - d^2(shiftx)/dtdx)*d(shiftx)/dz - 1/2*d^3(shiftx)/dx^2dz \n",
       "X_zy = -1/2*d(shiftx)/dx*d(shiftx)/dy*d(shiftx)/dz - 1/4*(shiftx(t, x, y, z)*d^2(shiftx)/dxdz + d^2(shiftx)/dtdz)*d(shiftx)/dy - 1/2*d^3(shiftx)/dxdydz \n",
       "X_zz = -1/2*d(shiftx)/dx*(d(shiftx)/dz)^2 - 1/4*(shiftx(t, x, y, z)*d^2(shiftx)/dxdz + d^2(shiftx)/dtdz)*d(shiftx)/dz - 1/2*d^3(shiftx)/dxdz^2 "
      ]
     },
     "execution_count": 20,
     "metadata": {},
     "output_type": "execute_result"
    }
   ],
   "source": [
    "nabla = g.connection()\n",
    "#\n",
    "cov_divtdG = nabla(G)\n",
    "#\n",
    "cov_divtdG = cov_divtdG.contract(1, u)\n",
    "#\n",
    "cov_divtdG.display_comp()"
   ]
  },
  {
   "cell_type": "code",
   "execution_count": 21,
   "metadata": {},
   "outputs": [
    {
     "data": {
      "text/html": [
       "<html><script type=\"math/tex; mode=display\">\\newcommand{\\Bold}[1]{\\mathbf{#1}}diG = 0</script></html>"
      ],
      "text/latex": [
       "$$\\newcommand{\\Bold}[1]{\\mathbf{#1}}diG = 0$$"
      ],
      "text/plain": [
       "diG = 0"
      ]
     },
     "execution_count": 21,
     "metadata": {},
     "output_type": "execute_result"
    }
   ],
   "source": [
    "SG = G.div()\n",
    "SG.set_name('diG')\n",
    "SG.display()"
   ]
  },
  {
   "cell_type": "markdown",
   "metadata": {},
   "source": [
    "# Covariant derivative of EMT"
   ]
  },
  {
   "cell_type": "code",
   "execution_count": 22,
   "metadata": {},
   "outputs": [
    {
     "data": {
      "text/html": [
       "<html><script type=\"math/tex; mode=display\">\\newcommand{\\Bold}[1]{\\mathbf{#1}}\\begin{array}{lcl} \\nabla_{g} T_{ \\, t \\, t \\, t }^{ \\phantom{\\, t}\\phantom{\\, t}\\phantom{\\, t} } & = & -2 \\, {\\left(p\\left(t, x, y, z\\right) + \\rho\\left(t, x, y, z\\right)\\right)} \\beta_x\\left(t, x, y, z\\right)^{2} \\frac{\\partial\\,\\beta_x}{\\partial x} + \\beta_x\\left(t, x, y, z\\right)^{2} \\frac{\\partial\\,p}{\\partial t} + \\frac{\\partial\\,\\rho}{\\partial t} \\\\ \\nabla_{g} T_{ \\, t \\, t \\, x }^{ \\phantom{\\, t}\\phantom{\\, t}\\phantom{\\, x} } & = & \\beta_x\\left(t, x, y, z\\right)^{2} \\frac{\\partial\\,p}{\\partial x} + 2 \\, {\\left(p\\left(t, x, y, z\\right) + \\rho\\left(t, x, y, z\\right)\\right)} \\beta_x\\left(t, x, y, z\\right) \\frac{\\partial\\,\\beta_x}{\\partial x} + \\frac{\\partial\\,\\rho}{\\partial x} \\\\ \\nabla_{g} T_{ \\, t \\, t \\, y }^{ \\phantom{\\, t}\\phantom{\\, t}\\phantom{\\, y} } & = & \\beta_x\\left(t, x, y, z\\right)^{2} \\frac{\\partial\\,p}{\\partial y} + {\\left(p\\left(t, x, y, z\\right) + \\rho\\left(t, x, y, z\\right)\\right)} \\beta_x\\left(t, x, y, z\\right) \\frac{\\partial\\,\\beta_x}{\\partial y} + \\frac{\\partial\\,\\rho}{\\partial y} \\\\ \\nabla_{g} T_{ \\, t \\, t \\, z }^{ \\phantom{\\, t}\\phantom{\\, t}\\phantom{\\, z} } & = & \\beta_x\\left(t, x, y, z\\right)^{2} \\frac{\\partial\\,p}{\\partial z} + {\\left(p\\left(t, x, y, z\\right) + \\rho\\left(t, x, y, z\\right)\\right)} \\beta_x\\left(t, x, y, z\\right) \\frac{\\partial\\,\\beta_x}{\\partial z} + \\frac{\\partial\\,\\rho}{\\partial z} \\\\ \\nabla_{g} T_{ \\, t \\, x \\, t }^{ \\phantom{\\, t}\\phantom{\\, x}\\phantom{\\, t} } & = & {\\left(p\\left(t, x, y, z\\right) + \\rho\\left(t, x, y, z\\right)\\right)} \\beta_x\\left(t, x, y, z\\right) \\frac{\\partial\\,\\beta_x}{\\partial x} - \\beta_x\\left(t, x, y, z\\right) \\frac{\\partial\\,p}{\\partial t} \\\\ \\nabla_{g} T_{ \\, t \\, x \\, x }^{ \\phantom{\\, t}\\phantom{\\, x}\\phantom{\\, x} } & = & -\\beta_x\\left(t, x, y, z\\right) \\frac{\\partial\\,p}{\\partial x} - {\\left(p\\left(t, x, y, z\\right) + \\rho\\left(t, x, y, z\\right)\\right)} \\frac{\\partial\\,\\beta_x}{\\partial x} \\\\ \\nabla_{g} T_{ \\, t \\, x \\, y }^{ \\phantom{\\, t}\\phantom{\\, x}\\phantom{\\, y} } & = & -\\beta_x\\left(t, x, y, z\\right) \\frac{\\partial\\,p}{\\partial y} - \\frac{1}{2} \\, {\\left(p\\left(t, x, y, z\\right) + \\rho\\left(t, x, y, z\\right)\\right)} \\frac{\\partial\\,\\beta_x}{\\partial y} \\\\ \\nabla_{g} T_{ \\, t \\, x \\, z }^{ \\phantom{\\, t}\\phantom{\\, x}\\phantom{\\, z} } & = & -\\beta_x\\left(t, x, y, z\\right) \\frac{\\partial\\,p}{\\partial z} - \\frac{1}{2} \\, {\\left(p\\left(t, x, y, z\\right) + \\rho\\left(t, x, y, z\\right)\\right)} \\frac{\\partial\\,\\beta_x}{\\partial z} \\\\ \\nabla_{g} T_{ \\, t \\, y \\, t }^{ \\phantom{\\, t}\\phantom{\\, y}\\phantom{\\, t} } & = & \\frac{1}{2} \\, {\\left(p\\left(t, x, y, z\\right) + \\rho\\left(t, x, y, z\\right)\\right)} \\beta_x\\left(t, x, y, z\\right) \\frac{\\partial\\,\\beta_x}{\\partial y} \\\\ \\nabla_{g} T_{ \\, t \\, y \\, x }^{ \\phantom{\\, t}\\phantom{\\, y}\\phantom{\\, x} } & = & -\\frac{1}{2} \\, {\\left(p\\left(t, x, y, z\\right) + \\rho\\left(t, x, y, z\\right)\\right)} \\frac{\\partial\\,\\beta_x}{\\partial y} \\\\ \\nabla_{g} T_{ \\, t \\, z \\, t }^{ \\phantom{\\, t}\\phantom{\\, z}\\phantom{\\, t} } & = & \\frac{1}{2} \\, {\\left(p\\left(t, x, y, z\\right) + \\rho\\left(t, x, y, z\\right)\\right)} \\beta_x\\left(t, x, y, z\\right) \\frac{\\partial\\,\\beta_x}{\\partial z} \\\\ \\nabla_{g} T_{ \\, t \\, z \\, x }^{ \\phantom{\\, t}\\phantom{\\, z}\\phantom{\\, x} } & = & -\\frac{1}{2} \\, {\\left(p\\left(t, x, y, z\\right) + \\rho\\left(t, x, y, z\\right)\\right)} \\frac{\\partial\\,\\beta_x}{\\partial z} \\\\ \\nabla_{g} T_{ \\, x \\, t \\, t }^{ \\phantom{\\, x}\\phantom{\\, t}\\phantom{\\, t} } & = & {\\left(p\\left(t, x, y, z\\right) + \\rho\\left(t, x, y, z\\right)\\right)} \\beta_x\\left(t, x, y, z\\right) \\frac{\\partial\\,\\beta_x}{\\partial x} - \\beta_x\\left(t, x, y, z\\right) \\frac{\\partial\\,p}{\\partial t} \\\\ \\nabla_{g} T_{ \\, x \\, t \\, x }^{ \\phantom{\\, x}\\phantom{\\, t}\\phantom{\\, x} } & = & -\\beta_x\\left(t, x, y, z\\right) \\frac{\\partial\\,p}{\\partial x} - {\\left(p\\left(t, x, y, z\\right) + \\rho\\left(t, x, y, z\\right)\\right)} \\frac{\\partial\\,\\beta_x}{\\partial x} \\\\ \\nabla_{g} T_{ \\, x \\, t \\, y }^{ \\phantom{\\, x}\\phantom{\\, t}\\phantom{\\, y} } & = & -\\beta_x\\left(t, x, y, z\\right) \\frac{\\partial\\,p}{\\partial y} - \\frac{1}{2} \\, {\\left(p\\left(t, x, y, z\\right) + \\rho\\left(t, x, y, z\\right)\\right)} \\frac{\\partial\\,\\beta_x}{\\partial y} \\\\ \\nabla_{g} T_{ \\, x \\, t \\, z }^{ \\phantom{\\, x}\\phantom{\\, t}\\phantom{\\, z} } & = & -\\beta_x\\left(t, x, y, z\\right) \\frac{\\partial\\,p}{\\partial z} - \\frac{1}{2} \\, {\\left(p\\left(t, x, y, z\\right) + \\rho\\left(t, x, y, z\\right)\\right)} \\frac{\\partial\\,\\beta_x}{\\partial z} \\\\ \\nabla_{g} T_{ \\, x \\, x \\, t }^{ \\phantom{\\, x}\\phantom{\\, x}\\phantom{\\, t} } & = & \\frac{\\partial\\,p}{\\partial t} \\\\ \\nabla_{g} T_{ \\, x \\, x \\, x }^{ \\phantom{\\, x}\\phantom{\\, x}\\phantom{\\, x} } & = & \\frac{\\partial\\,p}{\\partial x} \\\\ \\nabla_{g} T_{ \\, x \\, x \\, y }^{ \\phantom{\\, x}\\phantom{\\, x}\\phantom{\\, y} } & = & \\frac{\\partial\\,p}{\\partial y} \\\\ \\nabla_{g} T_{ \\, x \\, x \\, z }^{ \\phantom{\\, x}\\phantom{\\, x}\\phantom{\\, z} } & = & \\frac{\\partial\\,p}{\\partial z} \\\\ \\nabla_{g} T_{ \\, y \\, t \\, t }^{ \\phantom{\\, y}\\phantom{\\, t}\\phantom{\\, t} } & = & \\frac{1}{2} \\, {\\left(p\\left(t, x, y, z\\right) + \\rho\\left(t, x, y, z\\right)\\right)} \\beta_x\\left(t, x, y, z\\right) \\frac{\\partial\\,\\beta_x}{\\partial y} \\\\ \\nabla_{g} T_{ \\, y \\, t \\, x }^{ \\phantom{\\, y}\\phantom{\\, t}\\phantom{\\, x} } & = & -\\frac{1}{2} \\, {\\left(p\\left(t, x, y, z\\right) + \\rho\\left(t, x, y, z\\right)\\right)} \\frac{\\partial\\,\\beta_x}{\\partial y} \\\\ \\nabla_{g} T_{ \\, y \\, y \\, t }^{ \\phantom{\\, y}\\phantom{\\, y}\\phantom{\\, t} } & = & \\frac{\\partial\\,p}{\\partial t} \\\\ \\nabla_{g} T_{ \\, y \\, y \\, x }^{ \\phantom{\\, y}\\phantom{\\, y}\\phantom{\\, x} } & = & \\frac{\\partial\\,p}{\\partial x} \\\\ \\nabla_{g} T_{ \\, y \\, y \\, y }^{ \\phantom{\\, y}\\phantom{\\, y}\\phantom{\\, y} } & = & \\frac{\\partial\\,p}{\\partial y} \\\\ \\nabla_{g} T_{ \\, y \\, y \\, z }^{ \\phantom{\\, y}\\phantom{\\, y}\\phantom{\\, z} } & = & \\frac{\\partial\\,p}{\\partial z} \\\\ \\nabla_{g} T_{ \\, z \\, t \\, t }^{ \\phantom{\\, z}\\phantom{\\, t}\\phantom{\\, t} } & = & \\frac{1}{2} \\, {\\left(p\\left(t, x, y, z\\right) + \\rho\\left(t, x, y, z\\right)\\right)} \\beta_x\\left(t, x, y, z\\right) \\frac{\\partial\\,\\beta_x}{\\partial z} \\\\ \\nabla_{g} T_{ \\, z \\, t \\, x }^{ \\phantom{\\, z}\\phantom{\\, t}\\phantom{\\, x} } & = & -\\frac{1}{2} \\, {\\left(p\\left(t, x, y, z\\right) + \\rho\\left(t, x, y, z\\right)\\right)} \\frac{\\partial\\,\\beta_x}{\\partial z} \\\\ \\nabla_{g} T_{ \\, z \\, z \\, t }^{ \\phantom{\\, z}\\phantom{\\, z}\\phantom{\\, t} } & = & \\frac{\\partial\\,p}{\\partial t} \\\\ \\nabla_{g} T_{ \\, z \\, z \\, x }^{ \\phantom{\\, z}\\phantom{\\, z}\\phantom{\\, x} } & = & \\frac{\\partial\\,p}{\\partial x} \\\\ \\nabla_{g} T_{ \\, z \\, z \\, y }^{ \\phantom{\\, z}\\phantom{\\, z}\\phantom{\\, y} } & = & \\frac{\\partial\\,p}{\\partial y} \\\\ \\nabla_{g} T_{ \\, z \\, z \\, z }^{ \\phantom{\\, z}\\phantom{\\, z}\\phantom{\\, z} } & = & \\frac{\\partial\\,p}{\\partial z} \\end{array}</script></html>"
      ],
      "text/latex": [
       "$$\\newcommand{\\Bold}[1]{\\mathbf{#1}}\\begin{array}{lcl} \\nabla_{g} T_{ \\, t \\, t \\, t }^{ \\phantom{\\, t}\\phantom{\\, t}\\phantom{\\, t} } & = & -2 \\, {\\left(p\\left(t, x, y, z\\right) + \\rho\\left(t, x, y, z\\right)\\right)} \\beta_x\\left(t, x, y, z\\right)^{2} \\frac{\\partial\\,\\beta_x}{\\partial x} + \\beta_x\\left(t, x, y, z\\right)^{2} \\frac{\\partial\\,p}{\\partial t} + \\frac{\\partial\\,\\rho}{\\partial t} \\\\ \\nabla_{g} T_{ \\, t \\, t \\, x }^{ \\phantom{\\, t}\\phantom{\\, t}\\phantom{\\, x} } & = & \\beta_x\\left(t, x, y, z\\right)^{2} \\frac{\\partial\\,p}{\\partial x} + 2 \\, {\\left(p\\left(t, x, y, z\\right) + \\rho\\left(t, x, y, z\\right)\\right)} \\beta_x\\left(t, x, y, z\\right) \\frac{\\partial\\,\\beta_x}{\\partial x} + \\frac{\\partial\\,\\rho}{\\partial x} \\\\ \\nabla_{g} T_{ \\, t \\, t \\, y }^{ \\phantom{\\, t}\\phantom{\\, t}\\phantom{\\, y} } & = & \\beta_x\\left(t, x, y, z\\right)^{2} \\frac{\\partial\\,p}{\\partial y} + {\\left(p\\left(t, x, y, z\\right) + \\rho\\left(t, x, y, z\\right)\\right)} \\beta_x\\left(t, x, y, z\\right) \\frac{\\partial\\,\\beta_x}{\\partial y} + \\frac{\\partial\\,\\rho}{\\partial y} \\\\ \\nabla_{g} T_{ \\, t \\, t \\, z }^{ \\phantom{\\, t}\\phantom{\\, t}\\phantom{\\, z} } & = & \\beta_x\\left(t, x, y, z\\right)^{2} \\frac{\\partial\\,p}{\\partial z} + {\\left(p\\left(t, x, y, z\\right) + \\rho\\left(t, x, y, z\\right)\\right)} \\beta_x\\left(t, x, y, z\\right) \\frac{\\partial\\,\\beta_x}{\\partial z} + \\frac{\\partial\\,\\rho}{\\partial z} \\\\ \\nabla_{g} T_{ \\, t \\, x \\, t }^{ \\phantom{\\, t}\\phantom{\\, x}\\phantom{\\, t} } & = & {\\left(p\\left(t, x, y, z\\right) + \\rho\\left(t, x, y, z\\right)\\right)} \\beta_x\\left(t, x, y, z\\right) \\frac{\\partial\\,\\beta_x}{\\partial x} - \\beta_x\\left(t, x, y, z\\right) \\frac{\\partial\\,p}{\\partial t} \\\\ \\nabla_{g} T_{ \\, t \\, x \\, x }^{ \\phantom{\\, t}\\phantom{\\, x}\\phantom{\\, x} } & = & -\\beta_x\\left(t, x, y, z\\right) \\frac{\\partial\\,p}{\\partial x} - {\\left(p\\left(t, x, y, z\\right) + \\rho\\left(t, x, y, z\\right)\\right)} \\frac{\\partial\\,\\beta_x}{\\partial x} \\\\ \\nabla_{g} T_{ \\, t \\, x \\, y }^{ \\phantom{\\, t}\\phantom{\\, x}\\phantom{\\, y} } & = & -\\beta_x\\left(t, x, y, z\\right) \\frac{\\partial\\,p}{\\partial y} - \\frac{1}{2} \\, {\\left(p\\left(t, x, y, z\\right) + \\rho\\left(t, x, y, z\\right)\\right)} \\frac{\\partial\\,\\beta_x}{\\partial y} \\\\ \\nabla_{g} T_{ \\, t \\, x \\, z }^{ \\phantom{\\, t}\\phantom{\\, x}\\phantom{\\, z} } & = & -\\beta_x\\left(t, x, y, z\\right) \\frac{\\partial\\,p}{\\partial z} - \\frac{1}{2} \\, {\\left(p\\left(t, x, y, z\\right) + \\rho\\left(t, x, y, z\\right)\\right)} \\frac{\\partial\\,\\beta_x}{\\partial z} \\\\ \\nabla_{g} T_{ \\, t \\, y \\, t }^{ \\phantom{\\, t}\\phantom{\\, y}\\phantom{\\, t} } & = & \\frac{1}{2} \\, {\\left(p\\left(t, x, y, z\\right) + \\rho\\left(t, x, y, z\\right)\\right)} \\beta_x\\left(t, x, y, z\\right) \\frac{\\partial\\,\\beta_x}{\\partial y} \\\\ \\nabla_{g} T_{ \\, t \\, y \\, x }^{ \\phantom{\\, t}\\phantom{\\, y}\\phantom{\\, x} } & = & -\\frac{1}{2} \\, {\\left(p\\left(t, x, y, z\\right) + \\rho\\left(t, x, y, z\\right)\\right)} \\frac{\\partial\\,\\beta_x}{\\partial y} \\\\ \\nabla_{g} T_{ \\, t \\, z \\, t }^{ \\phantom{\\, t}\\phantom{\\, z}\\phantom{\\, t} } & = & \\frac{1}{2} \\, {\\left(p\\left(t, x, y, z\\right) + \\rho\\left(t, x, y, z\\right)\\right)} \\beta_x\\left(t, x, y, z\\right) \\frac{\\partial\\,\\beta_x}{\\partial z} \\\\ \\nabla_{g} T_{ \\, t \\, z \\, x }^{ \\phantom{\\, t}\\phantom{\\, z}\\phantom{\\, x} } & = & -\\frac{1}{2} \\, {\\left(p\\left(t, x, y, z\\right) + \\rho\\left(t, x, y, z\\right)\\right)} \\frac{\\partial\\,\\beta_x}{\\partial z} \\\\ \\nabla_{g} T_{ \\, x \\, t \\, t }^{ \\phantom{\\, x}\\phantom{\\, t}\\phantom{\\, t} } & = & {\\left(p\\left(t, x, y, z\\right) + \\rho\\left(t, x, y, z\\right)\\right)} \\beta_x\\left(t, x, y, z\\right) \\frac{\\partial\\,\\beta_x}{\\partial x} - \\beta_x\\left(t, x, y, z\\right) \\frac{\\partial\\,p}{\\partial t} \\\\ \\nabla_{g} T_{ \\, x \\, t \\, x }^{ \\phantom{\\, x}\\phantom{\\, t}\\phantom{\\, x} } & = & -\\beta_x\\left(t, x, y, z\\right) \\frac{\\partial\\,p}{\\partial x} - {\\left(p\\left(t, x, y, z\\right) + \\rho\\left(t, x, y, z\\right)\\right)} \\frac{\\partial\\,\\beta_x}{\\partial x} \\\\ \\nabla_{g} T_{ \\, x \\, t \\, y }^{ \\phantom{\\, x}\\phantom{\\, t}\\phantom{\\, y} } & = & -\\beta_x\\left(t, x, y, z\\right) \\frac{\\partial\\,p}{\\partial y} - \\frac{1}{2} \\, {\\left(p\\left(t, x, y, z\\right) + \\rho\\left(t, x, y, z\\right)\\right)} \\frac{\\partial\\,\\beta_x}{\\partial y} \\\\ \\nabla_{g} T_{ \\, x \\, t \\, z }^{ \\phantom{\\, x}\\phantom{\\, t}\\phantom{\\, z} } & = & -\\beta_x\\left(t, x, y, z\\right) \\frac{\\partial\\,p}{\\partial z} - \\frac{1}{2} \\, {\\left(p\\left(t, x, y, z\\right) + \\rho\\left(t, x, y, z\\right)\\right)} \\frac{\\partial\\,\\beta_x}{\\partial z} \\\\ \\nabla_{g} T_{ \\, x \\, x \\, t }^{ \\phantom{\\, x}\\phantom{\\, x}\\phantom{\\, t} } & = & \\frac{\\partial\\,p}{\\partial t} \\\\ \\nabla_{g} T_{ \\, x \\, x \\, x }^{ \\phantom{\\, x}\\phantom{\\, x}\\phantom{\\, x} } & = & \\frac{\\partial\\,p}{\\partial x} \\\\ \\nabla_{g} T_{ \\, x \\, x \\, y }^{ \\phantom{\\, x}\\phantom{\\, x}\\phantom{\\, y} } & = & \\frac{\\partial\\,p}{\\partial y} \\\\ \\nabla_{g} T_{ \\, x \\, x \\, z }^{ \\phantom{\\, x}\\phantom{\\, x}\\phantom{\\, z} } & = & \\frac{\\partial\\,p}{\\partial z} \\\\ \\nabla_{g} T_{ \\, y \\, t \\, t }^{ \\phantom{\\, y}\\phantom{\\, t}\\phantom{\\, t} } & = & \\frac{1}{2} \\, {\\left(p\\left(t, x, y, z\\right) + \\rho\\left(t, x, y, z\\right)\\right)} \\beta_x\\left(t, x, y, z\\right) \\frac{\\partial\\,\\beta_x}{\\partial y} \\\\ \\nabla_{g} T_{ \\, y \\, t \\, x }^{ \\phantom{\\, y}\\phantom{\\, t}\\phantom{\\, x} } & = & -\\frac{1}{2} \\, {\\left(p\\left(t, x, y, z\\right) + \\rho\\left(t, x, y, z\\right)\\right)} \\frac{\\partial\\,\\beta_x}{\\partial y} \\\\ \\nabla_{g} T_{ \\, y \\, y \\, t }^{ \\phantom{\\, y}\\phantom{\\, y}\\phantom{\\, t} } & = & \\frac{\\partial\\,p}{\\partial t} \\\\ \\nabla_{g} T_{ \\, y \\, y \\, x }^{ \\phantom{\\, y}\\phantom{\\, y}\\phantom{\\, x} } & = & \\frac{\\partial\\,p}{\\partial x} \\\\ \\nabla_{g} T_{ \\, y \\, y \\, y }^{ \\phantom{\\, y}\\phantom{\\, y}\\phantom{\\, y} } & = & \\frac{\\partial\\,p}{\\partial y} \\\\ \\nabla_{g} T_{ \\, y \\, y \\, z }^{ \\phantom{\\, y}\\phantom{\\, y}\\phantom{\\, z} } & = & \\frac{\\partial\\,p}{\\partial z} \\\\ \\nabla_{g} T_{ \\, z \\, t \\, t }^{ \\phantom{\\, z}\\phantom{\\, t}\\phantom{\\, t} } & = & \\frac{1}{2} \\, {\\left(p\\left(t, x, y, z\\right) + \\rho\\left(t, x, y, z\\right)\\right)} \\beta_x\\left(t, x, y, z\\right) \\frac{\\partial\\,\\beta_x}{\\partial z} \\\\ \\nabla_{g} T_{ \\, z \\, t \\, x }^{ \\phantom{\\, z}\\phantom{\\, t}\\phantom{\\, x} } & = & -\\frac{1}{2} \\, {\\left(p\\left(t, x, y, z\\right) + \\rho\\left(t, x, y, z\\right)\\right)} \\frac{\\partial\\,\\beta_x}{\\partial z} \\\\ \\nabla_{g} T_{ \\, z \\, z \\, t }^{ \\phantom{\\, z}\\phantom{\\, z}\\phantom{\\, t} } & = & \\frac{\\partial\\,p}{\\partial t} \\\\ \\nabla_{g} T_{ \\, z \\, z \\, x }^{ \\phantom{\\, z}\\phantom{\\, z}\\phantom{\\, x} } & = & \\frac{\\partial\\,p}{\\partial x} \\\\ \\nabla_{g} T_{ \\, z \\, z \\, y }^{ \\phantom{\\, z}\\phantom{\\, z}\\phantom{\\, y} } & = & \\frac{\\partial\\,p}{\\partial y} \\\\ \\nabla_{g} T_{ \\, z \\, z \\, z }^{ \\phantom{\\, z}\\phantom{\\, z}\\phantom{\\, z} } & = & \\frac{\\partial\\,p}{\\partial z} \\end{array}$$"
      ],
      "text/plain": [
       "nabla_g(T)_ttt = -2*(p(t, x, y, z) + rho(t, x, y, z))*shiftx(t, x, y, z)^2*d(shiftx)/dx + shiftx(t, x, y, z)^2*d(p)/dt + d(rho)/dt \n",
       "nabla_g(T)_ttx = shiftx(t, x, y, z)^2*d(p)/dx + 2*(p(t, x, y, z) + rho(t, x, y, z))*shiftx(t, x, y, z)*d(shiftx)/dx + d(rho)/dx \n",
       "nabla_g(T)_tty = shiftx(t, x, y, z)^2*d(p)/dy + (p(t, x, y, z) + rho(t, x, y, z))*shiftx(t, x, y, z)*d(shiftx)/dy + d(rho)/dy \n",
       "nabla_g(T)_ttz = shiftx(t, x, y, z)^2*d(p)/dz + (p(t, x, y, z) + rho(t, x, y, z))*shiftx(t, x, y, z)*d(shiftx)/dz + d(rho)/dz \n",
       "nabla_g(T)_txt = (p(t, x, y, z) + rho(t, x, y, z))*shiftx(t, x, y, z)*d(shiftx)/dx - shiftx(t, x, y, z)*d(p)/dt \n",
       "nabla_g(T)_txx = -shiftx(t, x, y, z)*d(p)/dx - (p(t, x, y, z) + rho(t, x, y, z))*d(shiftx)/dx \n",
       "nabla_g(T)_txy = -shiftx(t, x, y, z)*d(p)/dy - 1/2*(p(t, x, y, z) + rho(t, x, y, z))*d(shiftx)/dy \n",
       "nabla_g(T)_txz = -shiftx(t, x, y, z)*d(p)/dz - 1/2*(p(t, x, y, z) + rho(t, x, y, z))*d(shiftx)/dz \n",
       "nabla_g(T)_tyt = 1/2*(p(t, x, y, z) + rho(t, x, y, z))*shiftx(t, x, y, z)*d(shiftx)/dy \n",
       "nabla_g(T)_tyx = -1/2*(p(t, x, y, z) + rho(t, x, y, z))*d(shiftx)/dy \n",
       "nabla_g(T)_tzt = 1/2*(p(t, x, y, z) + rho(t, x, y, z))*shiftx(t, x, y, z)*d(shiftx)/dz \n",
       "nabla_g(T)_tzx = -1/2*(p(t, x, y, z) + rho(t, x, y, z))*d(shiftx)/dz \n",
       "nabla_g(T)_xtt = (p(t, x, y, z) + rho(t, x, y, z))*shiftx(t, x, y, z)*d(shiftx)/dx - shiftx(t, x, y, z)*d(p)/dt \n",
       "nabla_g(T)_xtx = -shiftx(t, x, y, z)*d(p)/dx - (p(t, x, y, z) + rho(t, x, y, z))*d(shiftx)/dx \n",
       "nabla_g(T)_xty = -shiftx(t, x, y, z)*d(p)/dy - 1/2*(p(t, x, y, z) + rho(t, x, y, z))*d(shiftx)/dy \n",
       "nabla_g(T)_xtz = -shiftx(t, x, y, z)*d(p)/dz - 1/2*(p(t, x, y, z) + rho(t, x, y, z))*d(shiftx)/dz \n",
       "nabla_g(T)_xxt = d(p)/dt \n",
       "nabla_g(T)_xxx = d(p)/dx \n",
       "nabla_g(T)_xxy = d(p)/dy \n",
       "nabla_g(T)_xxz = d(p)/dz \n",
       "nabla_g(T)_ytt = 1/2*(p(t, x, y, z) + rho(t, x, y, z))*shiftx(t, x, y, z)*d(shiftx)/dy \n",
       "nabla_g(T)_ytx = -1/2*(p(t, x, y, z) + rho(t, x, y, z))*d(shiftx)/dy \n",
       "nabla_g(T)_yyt = d(p)/dt \n",
       "nabla_g(T)_yyx = d(p)/dx \n",
       "nabla_g(T)_yyy = d(p)/dy \n",
       "nabla_g(T)_yyz = d(p)/dz \n",
       "nabla_g(T)_ztt = 1/2*(p(t, x, y, z) + rho(t, x, y, z))*shiftx(t, x, y, z)*d(shiftx)/dz \n",
       "nabla_g(T)_ztx = -1/2*(p(t, x, y, z) + rho(t, x, y, z))*d(shiftx)/dz \n",
       "nabla_g(T)_zzt = d(p)/dt \n",
       "nabla_g(T)_zzx = d(p)/dx \n",
       "nabla_g(T)_zzy = d(p)/dy \n",
       "nabla_g(T)_zzz = d(p)/dz "
      ]
     },
     "execution_count": 22,
     "metadata": {},
     "output_type": "execute_result"
    }
   ],
   "source": [
    "nabla = g.connection()\n",
    "#\n",
    "cov_divtd = nabla(t_dust_pf)\n",
    "#\n",
    "cov_divtd.display_comp()"
   ]
  },
  {
   "cell_type": "code",
   "execution_count": 23,
   "metadata": {},
   "outputs": [
    {
     "data": {
      "text/html": [
       "<html><script type=\"math/tex; mode=display\">\\newcommand{\\Bold}[1]{\\mathbf{#1}}\\begin{array}{lcl} div_{ \\, t }^{ \\phantom{\\, t} } & = & -\\beta_x\\left(t, x, y, z\\right) \\frac{\\partial\\,p}{\\partial x} - \\beta_x\\left(t, x, y, z\\right) \\frac{\\partial\\,\\rho}{\\partial x} - {\\left(p\\left(t, x, y, z\\right) + \\rho\\left(t, x, y, z\\right)\\right)} \\frac{\\partial\\,\\beta_x}{\\partial x} - \\frac{\\partial\\,\\rho}{\\partial t} \\\\ div_{ \\, x }^{ \\phantom{\\, x} } & = & \\frac{\\partial\\,p}{\\partial x} \\\\ div_{ \\, y }^{ \\phantom{\\, y} } & = & \\frac{\\partial\\,p}{\\partial y} \\\\ div_{ \\, z }^{ \\phantom{\\, z} } & = & \\frac{\\partial\\,p}{\\partial z} \\end{array}</script></html>"
      ],
      "text/latex": [
       "$$\\newcommand{\\Bold}[1]{\\mathbf{#1}}\\begin{array}{lcl} div_{ \\, t }^{ \\phantom{\\, t} } & = & -\\beta_x\\left(t, x, y, z\\right) \\frac{\\partial\\,p}{\\partial x} - \\beta_x\\left(t, x, y, z\\right) \\frac{\\partial\\,\\rho}{\\partial x} - {\\left(p\\left(t, x, y, z\\right) + \\rho\\left(t, x, y, z\\right)\\right)} \\frac{\\partial\\,\\beta_x}{\\partial x} - \\frac{\\partial\\,\\rho}{\\partial t} \\\\ div_{ \\, x }^{ \\phantom{\\, x} } & = & \\frac{\\partial\\,p}{\\partial x} \\\\ div_{ \\, y }^{ \\phantom{\\, y} } & = & \\frac{\\partial\\,p}{\\partial y} \\\\ div_{ \\, z }^{ \\phantom{\\, z} } & = & \\frac{\\partial\\,p}{\\partial z} \\end{array}$$"
      ],
      "text/plain": [
       "div_t = -shiftx(t, x, y, z)*d(p)/dx - shiftx(t, x, y, z)*d(rho)/dx - (p(t, x, y, z) + rho(t, x, y, z))*d(shiftx)/dx - d(rho)/dt \n",
       "div_x = d(p)/dx \n",
       "div_y = d(p)/dy \n",
       "div_z = d(p)/dz "
      ]
     },
     "execution_count": 23,
     "metadata": {},
     "output_type": "execute_result"
    }
   ],
   "source": [
    "s = t_dust_pf.div()\n",
    "s.set_name('div')\n",
    "s.display_comp()"
   ]
  },
  {
   "cell_type": "code",
   "execution_count": 24,
   "metadata": {},
   "outputs": [
    {
     "data": {
      "text/html": [
       "<html><script type=\"math/tex; mode=display\">\\newcommand{\\Bold}[1]{\\mathbf{#1}}\\begin{array}{llcl} div:& M & \\longrightarrow & \\mathbb{R} \\\\ & \\left(t, x, y, z\\right) & \\longmapsto & \\frac{\\partial\\,\\beta_x}{\\partial x} \\end{array}</script></html>"
      ],
      "text/latex": [
       "$$\\newcommand{\\Bold}[1]{\\mathbf{#1}}\\begin{array}{llcl} div:& M & \\longrightarrow & \\mathbb{R} \\\\ & \\left(t, x, y, z\\right) & \\longmapsto & \\frac{\\partial\\,\\beta_x}{\\partial x} \\end{array}$$"
      ],
      "text/plain": [
       "div: M --> R\n",
       "   (t, x, y, z) |--> d(shiftx)/dx"
      ]
     },
     "execution_count": 24,
     "metadata": {},
     "output_type": "execute_result"
    }
   ],
   "source": [
    "r = u.div()\n",
    "r.set_name('div')\n",
    "r.display()"
   ]
  },
  {
   "cell_type": "markdown",
   "metadata": {},
   "source": [
    "# EMT revised"
   ]
  },
  {
   "cell_type": "code",
   "execution_count": 25,
   "metadata": {},
   "outputs": [
    {
     "data": {
      "text/html": [
       "<html><script type=\"math/tex; mode=display\">\\newcommand{\\Bold}[1]{\\mathbf{#1}}\\begin{array}{lcl} T_{ \\, t \\, t }^{ \\phantom{\\, t}\\phantom{\\, t} } & = & p\\left(t, x, y, z\\right) \\beta_x\\left(t, x, y, z\\right)^{2} + \\mu\\left(t, x, y, z\\right) \\\\ T_{ \\, t \\, x }^{ \\phantom{\\, t}\\phantom{\\, x} } & = & -D\\left(t, x, y, z\\right) \\beta_x\\left(t, x, y, z\\right) \\\\ T_{ \\, x \\, t }^{ \\phantom{\\, x}\\phantom{\\, t} } & = & -D\\left(t, x, y, z\\right) \\beta_x\\left(t, x, y, z\\right) \\\\ T_{ \\, x \\, x }^{ \\phantom{\\, x}\\phantom{\\, x} } & = & A\\left(t, x, y, z\\right) \\\\ T_{ \\, y \\, y }^{ \\phantom{\\, y}\\phantom{\\, y} } & = & B\\left(t, x, y, z\\right) \\\\ T_{ \\, z \\, z }^{ \\phantom{\\, z}\\phantom{\\, z} } & = & C\\left(t, x, y, z\\right) \\end{array}</script></html>"
      ],
      "text/latex": [
       "$$\\newcommand{\\Bold}[1]{\\mathbf{#1}}\\begin{array}{lcl} T_{ \\, t \\, t }^{ \\phantom{\\, t}\\phantom{\\, t} } & = & p\\left(t, x, y, z\\right) \\beta_x\\left(t, x, y, z\\right)^{2} + \\mu\\left(t, x, y, z\\right) \\\\ T_{ \\, t \\, x }^{ \\phantom{\\, t}\\phantom{\\, x} } & = & -D\\left(t, x, y, z\\right) \\beta_x\\left(t, x, y, z\\right) \\\\ T_{ \\, x \\, t }^{ \\phantom{\\, x}\\phantom{\\, t} } & = & -D\\left(t, x, y, z\\right) \\beta_x\\left(t, x, y, z\\right) \\\\ T_{ \\, x \\, x }^{ \\phantom{\\, x}\\phantom{\\, x} } & = & A\\left(t, x, y, z\\right) \\\\ T_{ \\, y \\, y }^{ \\phantom{\\, y}\\phantom{\\, y} } & = & B\\left(t, x, y, z\\right) \\\\ T_{ \\, z \\, z }^{ \\phantom{\\, z}\\phantom{\\, z} } & = & C\\left(t, x, y, z\\right) \\end{array}$$"
      ],
      "text/plain": [
       "T_tt = p(t, x, y, z)*shiftx(t, x, y, z)^2 + mu(t, x, y, z) \n",
       "T_tx = -d(t, x, y, z)*shiftx(t, x, y, z) \n",
       "T_xt = -d(t, x, y, z)*shiftx(t, x, y, z) \n",
       "T_xx = a(t, x, y, z) \n",
       "T_yy = b(t, x, y, z) \n",
       "T_zz = c(t, x, y, z) "
      ]
     },
     "execution_count": 25,
     "metadata": {},
     "output_type": "execute_result"
    }
   ],
   "source": [
    "# Defining the energy momentum tensor\n",
    "EMT = M.tensor_field(0,2, name='T');\n",
    "EMT[0,0] = mu + shiftx**2*p\n",
    "EMT[0,1] = - shiftx * d\n",
    "EMT[1,0] = - shiftx * d\n",
    "EMT[1,1] = a\n",
    "EMT[2,2] = b\n",
    "EMT[3,3] = c\n",
    "EMT.set_name('T')\n",
    "EMT.display_comp()"
   ]
  },
  {
   "cell_type": "code",
   "execution_count": 26,
   "metadata": {},
   "outputs": [
    {
     "data": {
      "text/html": [
       "<html><script type=\"math/tex; mode=display\">\\newcommand{\\Bold}[1]{\\mathbf{#1}}\\begin{array}{lcl} T_{ \\, t \\, t }^{ \\phantom{\\, t}\\phantom{\\, t} } & = & p\\left(t, x, y, z\\right) \\beta_x\\left(t, x, y, z\\right)^{2} + \\mu\\left(t, x, y, z\\right) \\\\ T_{ \\, t \\, x }^{ \\phantom{\\, t}\\phantom{\\, x} } & = & -p\\left(t, x, y, z\\right) \\beta_x\\left(t, x, y, z\\right) \\\\ T_{ \\, x \\, t }^{ \\phantom{\\, x}\\phantom{\\, t} } & = & -p\\left(t, x, y, z\\right) \\beta_x\\left(t, x, y, z\\right) \\\\ T_{ \\, x \\, x }^{ \\phantom{\\, x}\\phantom{\\, x} } & = & p\\left(t, x, y, z\\right) \\\\ T_{ \\, y \\, y }^{ \\phantom{\\, y}\\phantom{\\, y} } & = & p\\left(t, x, y, z\\right) \\\\ T_{ \\, z \\, z }^{ \\phantom{\\, z}\\phantom{\\, z} } & = & p\\left(t, x, y, z\\right) \\end{array}</script></html>"
      ],
      "text/latex": [
       "$$\\newcommand{\\Bold}[1]{\\mathbf{#1}}\\begin{array}{lcl} T_{ \\, t \\, t }^{ \\phantom{\\, t}\\phantom{\\, t} } & = & p\\left(t, x, y, z\\right) \\beta_x\\left(t, x, y, z\\right)^{2} + \\mu\\left(t, x, y, z\\right) \\\\ T_{ \\, t \\, x }^{ \\phantom{\\, t}\\phantom{\\, x} } & = & -p\\left(t, x, y, z\\right) \\beta_x\\left(t, x, y, z\\right) \\\\ T_{ \\, x \\, t }^{ \\phantom{\\, x}\\phantom{\\, t} } & = & -p\\left(t, x, y, z\\right) \\beta_x\\left(t, x, y, z\\right) \\\\ T_{ \\, x \\, x }^{ \\phantom{\\, x}\\phantom{\\, x} } & = & p\\left(t, x, y, z\\right) \\\\ T_{ \\, y \\, y }^{ \\phantom{\\, y}\\phantom{\\, y} } & = & p\\left(t, x, y, z\\right) \\\\ T_{ \\, z \\, z }^{ \\phantom{\\, z}\\phantom{\\, z} } & = & p\\left(t, x, y, z\\right) \\end{array}$$"
      ],
      "text/plain": [
       "T_tt = p(t, x, y, z)*shiftx(t, x, y, z)^2 + mu(t, x, y, z) \n",
       "T_tx = -p(t, x, y, z)*shiftx(t, x, y, z) \n",
       "T_xt = -p(t, x, y, z)*shiftx(t, x, y, z) \n",
       "T_xx = p(t, x, y, z) \n",
       "T_yy = p(t, x, y, z) \n",
       "T_zz = p(t, x, y, z) "
      ]
     },
     "execution_count": 26,
     "metadata": {},
     "output_type": "execute_result"
    }
   ],
   "source": [
    "EMT = M.tensor_field(0,2, name='T');\n",
    "EMT[0,0] = mu + shiftx**2*p\n",
    "EMT[0,1] = - shiftx * p\n",
    "EMT[1,0] = - shiftx * p\n",
    "EMT[1,1] = p\n",
    "EMT[2,2] = p\n",
    "EMT[3,3] = p\n",
    "EMT.set_name('T')\n",
    "EMT.display_comp()"
   ]
  },
  {
   "cell_type": "code",
   "execution_count": 27,
   "metadata": {},
   "outputs": [
    {
     "data": {
      "text/html": [
       "<html><script type=\"math/tex; mode=display\">\\newcommand{\\Bold}[1]{\\mathbf{#1}}\\begin{array}{lcl} div_{ \\, t }^{ \\phantom{\\, t} } & = & -\\beta_x\\left(t, x, y, z\\right) \\frac{\\partial\\,\\mu}{\\partial x} - \\beta_x\\left(t, x, y, z\\right) \\frac{\\partial\\,p}{\\partial x} - {\\left(\\mu\\left(t, x, y, z\\right) + p\\left(t, x, y, z\\right)\\right)} \\frac{\\partial\\,\\beta_x}{\\partial x} - \\frac{\\partial\\,\\mu}{\\partial t} \\\\ div_{ \\, x }^{ \\phantom{\\, x} } & = & \\frac{\\partial\\,p}{\\partial x} \\\\ div_{ \\, y }^{ \\phantom{\\, y} } & = & \\frac{\\partial\\,p}{\\partial y} \\\\ div_{ \\, z }^{ \\phantom{\\, z} } & = & \\frac{\\partial\\,p}{\\partial z} \\end{array}</script></html>"
      ],
      "text/latex": [
       "$$\\newcommand{\\Bold}[1]{\\mathbf{#1}}\\begin{array}{lcl} div_{ \\, t }^{ \\phantom{\\, t} } & = & -\\beta_x\\left(t, x, y, z\\right) \\frac{\\partial\\,\\mu}{\\partial x} - \\beta_x\\left(t, x, y, z\\right) \\frac{\\partial\\,p}{\\partial x} - {\\left(\\mu\\left(t, x, y, z\\right) + p\\left(t, x, y, z\\right)\\right)} \\frac{\\partial\\,\\beta_x}{\\partial x} - \\frac{\\partial\\,\\mu}{\\partial t} \\\\ div_{ \\, x }^{ \\phantom{\\, x} } & = & \\frac{\\partial\\,p}{\\partial x} \\\\ div_{ \\, y }^{ \\phantom{\\, y} } & = & \\frac{\\partial\\,p}{\\partial y} \\\\ div_{ \\, z }^{ \\phantom{\\, z} } & = & \\frac{\\partial\\,p}{\\partial z} \\end{array}$$"
      ],
      "text/plain": [
       "div_t = -shiftx(t, x, y, z)*d(mu)/dx - shiftx(t, x, y, z)*d(p)/dx - (mu(t, x, y, z) + p(t, x, y, z))*d(shiftx)/dx - d(mu)/dt \n",
       "div_x = d(p)/dx \n",
       "div_y = d(p)/dy \n",
       "div_z = d(p)/dz "
      ]
     },
     "execution_count": 27,
     "metadata": {},
     "output_type": "execute_result"
    }
   ],
   "source": [
    "Semt = EMT.div()\n",
    "Semt.set_name('div')\n",
    "Semt.display_comp()"
   ]
  },
  {
   "cell_type": "code",
   "execution_count": 28,
   "metadata": {},
   "outputs": [
    {
     "data": {
      "text/html": [
       "<html><script type=\"math/tex; mode=display\">\\newcommand{\\Bold}[1]{\\mathbf{#1}}\\begin{array}{lcl} X_{ \\phantom{\\, t} \\, t }^{ \\, t \\phantom{\\, t} } & = & -\\beta_x\\left(t, x, y, z\\right) \\frac{\\partial\\,\\mu}{\\partial x} - \\frac{\\partial\\,\\mu}{\\partial t} \\\\ X_{ \\phantom{\\, x} \\, t }^{ \\, x \\phantom{\\, t} } & = & -\\beta_x\\left(t, x, y, z\\right)^{2} \\frac{\\partial\\,\\mu}{\\partial x} - \\beta_x\\left(t, x, y, z\\right)^{2} \\frac{\\partial\\,p}{\\partial x} - \\beta_x\\left(t, x, y, z\\right) \\frac{\\partial\\,\\mu}{\\partial t} - \\beta_x\\left(t, x, y, z\\right) \\frac{\\partial\\,p}{\\partial t} \\\\ X_{ \\phantom{\\, x} \\, x }^{ \\, x \\phantom{\\, x} } & = & \\beta_x\\left(t, x, y, z\\right) \\frac{\\partial\\,p}{\\partial x} + \\frac{\\partial\\,p}{\\partial t} \\\\ X_{ \\phantom{\\, y} \\, y }^{ \\, y \\phantom{\\, y} } & = & \\beta_x\\left(t, x, y, z\\right) \\frac{\\partial\\,p}{\\partial x} + \\frac{\\partial\\,p}{\\partial t} \\\\ X_{ \\phantom{\\, z} \\, z }^{ \\, z \\phantom{\\, z} } & = & \\beta_x\\left(t, x, y, z\\right) \\frac{\\partial\\,p}{\\partial x} + \\frac{\\partial\\,p}{\\partial t} \\end{array}</script></html>"
      ],
      "text/latex": [
       "$$\\newcommand{\\Bold}[1]{\\mathbf{#1}}\\begin{array}{lcl} X_{ \\phantom{\\, t} \\, t }^{ \\, t \\phantom{\\, t} } & = & -\\beta_x\\left(t, x, y, z\\right) \\frac{\\partial\\,\\mu}{\\partial x} - \\frac{\\partial\\,\\mu}{\\partial t} \\\\ X_{ \\phantom{\\, x} \\, t }^{ \\, x \\phantom{\\, t} } & = & -\\beta_x\\left(t, x, y, z\\right)^{2} \\frac{\\partial\\,\\mu}{\\partial x} - \\beta_x\\left(t, x, y, z\\right)^{2} \\frac{\\partial\\,p}{\\partial x} - \\beta_x\\left(t, x, y, z\\right) \\frac{\\partial\\,\\mu}{\\partial t} - \\beta_x\\left(t, x, y, z\\right) \\frac{\\partial\\,p}{\\partial t} \\\\ X_{ \\phantom{\\, x} \\, x }^{ \\, x \\phantom{\\, x} } & = & \\beta_x\\left(t, x, y, z\\right) \\frac{\\partial\\,p}{\\partial x} + \\frac{\\partial\\,p}{\\partial t} \\\\ X_{ \\phantom{\\, y} \\, y }^{ \\, y \\phantom{\\, y} } & = & \\beta_x\\left(t, x, y, z\\right) \\frac{\\partial\\,p}{\\partial x} + \\frac{\\partial\\,p}{\\partial t} \\\\ X_{ \\phantom{\\, z} \\, z }^{ \\, z \\phantom{\\, z} } & = & \\beta_x\\left(t, x, y, z\\right) \\frac{\\partial\\,p}{\\partial x} + \\frac{\\partial\\,p}{\\partial t} \\end{array}$$"
      ],
      "text/plain": [
       "X^t_t = -shiftx(t, x, y, z)*d(mu)/dx - d(mu)/dt \n",
       "X^x_t = -shiftx(t, x, y, z)^2*d(mu)/dx - shiftx(t, x, y, z)^2*d(p)/dx - shiftx(t, x, y, z)*d(mu)/dt - shiftx(t, x, y, z)*d(p)/dt \n",
       "X^x_x = shiftx(t, x, y, z)*d(p)/dx + d(p)/dt \n",
       "X^y_y = shiftx(t, x, y, z)*d(p)/dx + d(p)/dt \n",
       "X^z_z = shiftx(t, x, y, z)*d(p)/dx + d(p)/dt "
      ]
     },
     "execution_count": 28,
     "metadata": {},
     "output_type": "execute_result"
    }
   ],
   "source": [
    "nabla = g.connection()\n",
    "#\n",
    "EMT_up = EMT.up(g)\n",
    "#\n",
    "EMT_ud = EMT_up.contract(1,g,1)\n",
    "#\n",
    "covdiv_emt = nabla(EMT_ud)\n",
    "#\n",
    "covdiv_emt = covdiv_emt.contract(u)\n",
    "#\n",
    "#covdiv_emt = covdiv_emt.contract(1, g,1)\n",
    "#\n",
    "covdiv_emt.display_comp()"
   ]
  },
  {
   "cell_type": "markdown",
   "metadata": {},
   "source": [
    "# Sphere metric"
   ]
  },
  {
   "cell_type": "code",
   "execution_count": 29,
   "metadata": {},
   "outputs": [],
   "source": [
    "MS = Manifold(3, 'MS', structure='Lorentzian'); \n",
    "X.<x,y,z> = MS.chart(r\"x:(-oo,+oo) y:(-oo,+oo) z:(-oo,+oo)\")\n",
    "gs = MS.metric()\n",
    "gs.set_name('gs')\n",
    "gs[0,0] = 1\n",
    "gs[1,1] = x**2\n",
    "gs[2,2] = x**2 * sin(y)"
   ]
  },
  {
   "cell_type": "code",
   "execution_count": 30,
   "metadata": {},
   "outputs": [
    {
     "data": {
      "text/html": [
       "<html><script type=\"math/tex; mode=display\">\\newcommand{\\Bold}[1]{\\mathbf{#1}}\\begin{array}{lcl} gs_{ \\, x \\, x }^{ \\phantom{\\, x}\\phantom{\\, x} } & = & 1 \\\\ gs_{ \\, y \\, y }^{ \\phantom{\\, y}\\phantom{\\, y} } & = & x^{2} \\\\ gs_{ \\, z \\, z }^{ \\phantom{\\, z}\\phantom{\\, z} } & = & x^{2} \\sin\\left(y\\right) \\end{array}</script></html>"
      ],
      "text/latex": [
       "$$\\newcommand{\\Bold}[1]{\\mathbf{#1}}\\begin{array}{lcl} gs_{ \\, x \\, x }^{ \\phantom{\\, x}\\phantom{\\, x} } & = & 1 \\\\ gs_{ \\, y \\, y }^{ \\phantom{\\, y}\\phantom{\\, y} } & = & x^{2} \\\\ gs_{ \\, z \\, z }^{ \\phantom{\\, z}\\phantom{\\, z} } & = & x^{2} \\sin\\left(y\\right) \\end{array}$$"
      ],
      "text/plain": [
       "gs_xx = 1 \n",
       "gs_yy = x^2 \n",
       "gs_zz = x^2*sin(y) "
      ]
     },
     "execution_count": 30,
     "metadata": {},
     "output_type": "execute_result"
    }
   ],
   "source": [
    "gs.display_comp()"
   ]
  },
  {
   "cell_type": "code",
   "execution_count": 31,
   "metadata": {},
   "outputs": [
    {
     "data": {
      "text/html": [
       "<html><script type=\"math/tex; mode=display\">\\newcommand{\\Bold}[1]{\\mathbf{#1}}</script></html>"
      ],
      "text/latex": [
       "$$\\newcommand{\\Bold}[1]{\\mathbf{#1}}$$"
      ],
      "text/plain": []
     },
     "execution_count": 31,
     "metadata": {},
     "output_type": "execute_result"
    }
   ],
   "source": [
    "nabla = gs.connection()\n",
    "#\n",
    "cov_divgs = nabla(gs)\n",
    "#\n",
    "cov_divgs.display_comp()"
   ]
  }
 ],
 "metadata": {
  "kernelspec": {
   "display_name": "SageMath 9.3",
   "language": "sage",
   "name": "sagemath"
  },
  "language_info": {
   "codemirror_mode": {
    "name": "ipython",
    "version": 3
   },
   "file_extension": ".py",
   "mimetype": "text/x-python",
   "name": "python",
   "nbconvert_exporter": "python",
   "pygments_lexer": "ipython3",
   "version": "3.7.10"
  }
 },
 "nbformat": 4,
 "nbformat_minor": 4
}
