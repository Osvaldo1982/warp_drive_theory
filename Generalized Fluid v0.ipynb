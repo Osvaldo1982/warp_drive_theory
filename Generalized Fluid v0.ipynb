{
 "cells": [
  {
   "cell_type": "code",
   "execution_count": 1,
   "metadata": {},
   "outputs": [],
   "source": [
    "%display latex"
   ]
  },
  {
   "cell_type": "code",
   "execution_count": 2,
   "metadata": {},
   "outputs": [
    {
     "name": "stdout",
     "output_type": "stream",
     "text": [
      "4-dimensional Lorentzian manifold M\n"
     ]
    }
   ],
   "source": [
    "M = Manifold(4, 'M', structure='Lorentzian')\n",
    "print(M)"
   ]
  },
  {
   "cell_type": "code",
   "execution_count": 3,
   "metadata": {},
   "outputs": [],
   "source": [
    "X.<t,x,y,z> = M.chart(r\"t x:(-oo,+oo) y:(-oo,+oo) z:(-oo,+oo)\")"
   ]
  },
  {
   "cell_type": "code",
   "execution_count": 4,
   "metadata": {},
   "outputs": [],
   "source": [
    "betax = function('betax',latex_name= \"\\\\beta\")(t,x,y,z)\n",
    "alpha=var('alpha',latex_name=\"\\\\alpha\")\n",
    "a = function('a',latex_name= \"A\")(t,x,y,z)\n",
    "b = function('b',latex_name= \"B\")(t,x,y,z)\n",
    "c = function('c',latex_name= \"C\")(t,x,y,z)\n",
    "d = function('d',latex_name= \"D\")(t,x,y,z)\n",
    "p = function('p',latex_name= \"p\")(t,x,y,z)\n",
    "\n",
    "mu = function('mu',latex_name= \"\\\\mu\")(t,x,y,z)\n",
    "rho = function('rho',latex_name=\"\\\\rho\")(t,x,y,z)\n",
    "sigma = var('sigma',latex_name=\"\\\\sigma\")\n",
    "R = var('R',latex_name=\"R\")\n",
    "\n",
    "xs = function('xs',latex_name=\"x_s\")(t)\n",
    "rs = function('rs',latex_name=\"r_s\")(xs,x,y,z)\n",
    "rs = sqrt((x-xs)^2+y^2+z^2)\n",
    "vs = function('vs',latex_name=\"v_s\")(t)\n",
    "\n",
    "fs = function('fs',latex_name=\"f(r_s)\")(rs)\n",
    "fs = (tanh(sigma(rs+R)) - tanh(sigma(rs-R)))/(2*sigma)"
   ]
  },
  {
   "cell_type": "code",
   "execution_count": 5,
   "metadata": {},
   "outputs": [
    {
     "data": {
      "text/html": [
       "<html><script type=\"math/tex; mode=display\">\\newcommand{\\Bold}[1]{\\mathbf{#1}}\\begin{array}{lcl} g_{ \\, t \\, t }^{ \\phantom{\\, t}\\phantom{\\, t} } & = & \\beta\\left(t, x, y, z\\right)^{2} - 1 \\\\ g_{ \\, t \\, x }^{ \\phantom{\\, t}\\phantom{\\, x} } & = & -\\beta\\left(t, x, y, z\\right) \\\\ g_{ \\, x \\, t }^{ \\phantom{\\, x}\\phantom{\\, t} } & = & -\\beta\\left(t, x, y, z\\right) \\\\ g_{ \\, x \\, x }^{ \\phantom{\\, x}\\phantom{\\, x} } & = & 1 \\\\ g_{ \\, y \\, y }^{ \\phantom{\\, y}\\phantom{\\, y} } & = & 1 \\\\ g_{ \\, z \\, z }^{ \\phantom{\\, z}\\phantom{\\, z} } & = & 1 \\end{array}</script></html>"
      ],
      "text/latex": [
       "$$\\newcommand{\\Bold}[1]{\\mathbf{#1}}\\begin{array}{lcl} g_{ \\, t \\, t }^{ \\phantom{\\, t}\\phantom{\\, t} } & = & \\beta\\left(t, x, y, z\\right)^{2} - 1 \\\\ g_{ \\, t \\, x }^{ \\phantom{\\, t}\\phantom{\\, x} } & = & -\\beta\\left(t, x, y, z\\right) \\\\ g_{ \\, x \\, t }^{ \\phantom{\\, x}\\phantom{\\, t} } & = & -\\beta\\left(t, x, y, z\\right) \\\\ g_{ \\, x \\, x }^{ \\phantom{\\, x}\\phantom{\\, x} } & = & 1 \\\\ g_{ \\, y \\, y }^{ \\phantom{\\, y}\\phantom{\\, y} } & = & 1 \\\\ g_{ \\, z \\, z }^{ \\phantom{\\, z}\\phantom{\\, z} } & = & 1 \\end{array}$$"
      ],
      "text/plain": [
       "g_tt = betax(t, x, y, z)^2 - 1 \n",
       "g_tx = -betax(t, x, y, z) \n",
       "g_xt = -betax(t, x, y, z) \n",
       "g_xx = 1 \n",
       "g_yy = 1 \n",
       "g_zz = 1 "
      ]
     },
     "execution_count": 5,
     "metadata": {},
     "output_type": "execute_result"
    }
   ],
   "source": [
    "g = M.metric()\n",
    "g[0,0] = betax^2 - 1\n",
    "g[1,1] = 1\n",
    "g[2,2] = 1\n",
    "g[3,3] = 1\n",
    "g[0,1] = - betax\n",
    "g[1,0] = - betax\n",
    "#print(g)\n",
    "g.display_comp()"
   ]
  },
  {
   "cell_type": "code",
   "execution_count": 6,
   "metadata": {},
   "outputs": [
    {
     "name": "stdout",
     "output_type": "stream",
     "text": [
      "Tensor field g of type (2,0) on the 4-dimensional Lorentzian manifold M\n"
     ]
    },
    {
     "data": {
      "text/html": [
       "<html><script type=\"math/tex; mode=display\">\\newcommand{\\Bold}[1]{\\mathbf{#1}}\\begin{array}{lcl} g_{\\phantom{\\, t}\\phantom{\\, t}}^{ \\, t \\, t } & = & -1 \\\\ g_{\\phantom{\\, t}\\phantom{\\, x}}^{ \\, t \\, x } & = & -\\beta\\left(t, x, y, z\\right) \\\\ g_{\\phantom{\\, x}\\phantom{\\, t}}^{ \\, x \\, t } & = & -\\beta\\left(t, x, y, z\\right) \\\\ g_{\\phantom{\\, x}\\phantom{\\, x}}^{ \\, x \\, x } & = & -\\beta\\left(t, x, y, z\\right)^{2} + 1 \\\\ g_{\\phantom{\\, y}\\phantom{\\, y}}^{ \\, y \\, y } & = & 1 \\\\ g_{\\phantom{\\, z}\\phantom{\\, z}}^{ \\, z \\, z } & = & 1 \\end{array}</script></html>"
      ],
      "text/latex": [
       "$$\\newcommand{\\Bold}[1]{\\mathbf{#1}}\\begin{array}{lcl} g_{\\phantom{\\, t}\\phantom{\\, t}}^{ \\, t \\, t } & = & -1 \\\\ g_{\\phantom{\\, t}\\phantom{\\, x}}^{ \\, t \\, x } & = & -\\beta\\left(t, x, y, z\\right) \\\\ g_{\\phantom{\\, x}\\phantom{\\, t}}^{ \\, x \\, t } & = & -\\beta\\left(t, x, y, z\\right) \\\\ g_{\\phantom{\\, x}\\phantom{\\, x}}^{ \\, x \\, x } & = & -\\beta\\left(t, x, y, z\\right)^{2} + 1 \\\\ g_{\\phantom{\\, y}\\phantom{\\, y}}^{ \\, y \\, y } & = & 1 \\\\ g_{\\phantom{\\, z}\\phantom{\\, z}}^{ \\, z \\, z } & = & 1 \\end{array}$$"
      ],
      "text/plain": [
       "g^tt = -1 \n",
       "g^tx = -betax(t, x, y, z) \n",
       "g^xt = -betax(t, x, y, z) \n",
       "g^xx = -betax(t, x, y, z)^2 + 1 \n",
       "g^yy = 1 \n",
       "g^zz = 1 "
      ]
     },
     "execution_count": 6,
     "metadata": {},
     "output_type": "execute_result"
    }
   ],
   "source": [
    "gg = g.up(g)\n",
    "gg.set_name('g')\n",
    "print(gg)\n",
    "gg.display_comp()"
   ]
  },
  {
   "cell_type": "code",
   "execution_count": 7,
   "metadata": {},
   "outputs": [
    {
     "data": {
      "text/html": [
       "<html><script type=\"math/tex; mode=display\">\\newcommand{\\Bold}[1]{\\mathbf{#1}}\\begin{array}{lcl} \\Gamma_{ \\phantom{\\, t} \\, t \\, t }^{ \\, t \\phantom{\\, t} \\phantom{\\, t} } & = & \\beta\\left(t, x, y, z\\right)^{2} \\frac{\\partial\\,\\beta}{\\partial x} \\\\ \\Gamma_{ \\phantom{\\, t} \\, t \\, x }^{ \\, t \\phantom{\\, t} \\phantom{\\, x} } & = & -\\beta\\left(t, x, y, z\\right) \\frac{\\partial\\,\\beta}{\\partial x} \\\\ \\Gamma_{ \\phantom{\\, t} \\, t \\, y }^{ \\, t \\phantom{\\, t} \\phantom{\\, y} } & = & -\\frac{1}{2} \\, \\beta\\left(t, x, y, z\\right) \\frac{\\partial\\,\\beta}{\\partial y} \\\\ \\Gamma_{ \\phantom{\\, t} \\, t \\, z }^{ \\, t \\phantom{\\, t} \\phantom{\\, z} } & = & -\\frac{1}{2} \\, \\beta\\left(t, x, y, z\\right) \\frac{\\partial\\,\\beta}{\\partial z} \\\\ \\Gamma_{ \\phantom{\\, t} \\, x \\, x }^{ \\, t \\phantom{\\, x} \\phantom{\\, x} } & = & \\frac{\\partial\\,\\beta}{\\partial x} \\\\ \\Gamma_{ \\phantom{\\, t} \\, x \\, y }^{ \\, t \\phantom{\\, x} \\phantom{\\, y} } & = & \\frac{1}{2} \\, \\frac{\\partial\\,\\beta}{\\partial y} \\\\ \\Gamma_{ \\phantom{\\, t} \\, x \\, z }^{ \\, t \\phantom{\\, x} \\phantom{\\, z} } & = & \\frac{1}{2} \\, \\frac{\\partial\\,\\beta}{\\partial z} \\\\ \\Gamma_{ \\phantom{\\, x} \\, t \\, t }^{ \\, x \\phantom{\\, t} \\phantom{\\, t} } & = & {\\left(\\beta\\left(t, x, y, z\\right)^{3} - \\beta\\left(t, x, y, z\\right)\\right)} \\frac{\\partial\\,\\beta}{\\partial x} - \\frac{\\partial\\,\\beta}{\\partial t} \\\\ \\Gamma_{ \\phantom{\\, x} \\, t \\, x }^{ \\, x \\phantom{\\, t} \\phantom{\\, x} } & = & -\\beta\\left(t, x, y, z\\right)^{2} \\frac{\\partial\\,\\beta}{\\partial x} \\\\ \\Gamma_{ \\phantom{\\, x} \\, t \\, y }^{ \\, x \\phantom{\\, t} \\phantom{\\, y} } & = & -\\frac{1}{2} \\, {\\left(\\beta\\left(t, x, y, z\\right)^{2} + 1\\right)} \\frac{\\partial\\,\\beta}{\\partial y} \\\\ \\Gamma_{ \\phantom{\\, x} \\, t \\, z }^{ \\, x \\phantom{\\, t} \\phantom{\\, z} } & = & -\\frac{1}{2} \\, {\\left(\\beta\\left(t, x, y, z\\right)^{2} + 1\\right)} \\frac{\\partial\\,\\beta}{\\partial z} \\\\ \\Gamma_{ \\phantom{\\, x} \\, x \\, x }^{ \\, x \\phantom{\\, x} \\phantom{\\, x} } & = & \\beta\\left(t, x, y, z\\right) \\frac{\\partial\\,\\beta}{\\partial x} \\\\ \\Gamma_{ \\phantom{\\, x} \\, x \\, y }^{ \\, x \\phantom{\\, x} \\phantom{\\, y} } & = & \\frac{1}{2} \\, \\beta\\left(t, x, y, z\\right) \\frac{\\partial\\,\\beta}{\\partial y} \\\\ \\Gamma_{ \\phantom{\\, x} \\, x \\, z }^{ \\, x \\phantom{\\, x} \\phantom{\\, z} } & = & \\frac{1}{2} \\, \\beta\\left(t, x, y, z\\right) \\frac{\\partial\\,\\beta}{\\partial z} \\\\ \\Gamma_{ \\phantom{\\, y} \\, t \\, t }^{ \\, y \\phantom{\\, t} \\phantom{\\, t} } & = & -\\beta\\left(t, x, y, z\\right) \\frac{\\partial\\,\\beta}{\\partial y} \\\\ \\Gamma_{ \\phantom{\\, y} \\, t \\, x }^{ \\, y \\phantom{\\, t} \\phantom{\\, x} } & = & \\frac{1}{2} \\, \\frac{\\partial\\,\\beta}{\\partial y} \\\\ \\Gamma_{ \\phantom{\\, z} \\, t \\, t }^{ \\, z \\phantom{\\, t} \\phantom{\\, t} } & = & -\\beta\\left(t, x, y, z\\right) \\frac{\\partial\\,\\beta}{\\partial z} \\\\ \\Gamma_{ \\phantom{\\, z} \\, t \\, x }^{ \\, z \\phantom{\\, t} \\phantom{\\, x} } & = & \\frac{1}{2} \\, \\frac{\\partial\\,\\beta}{\\partial z} \\end{array}</script></html>"
      ],
      "text/latex": [
       "$$\\newcommand{\\Bold}[1]{\\mathbf{#1}}\\begin{array}{lcl} \\Gamma_{ \\phantom{\\, t} \\, t \\, t }^{ \\, t \\phantom{\\, t} \\phantom{\\, t} } & = & \\beta\\left(t, x, y, z\\right)^{2} \\frac{\\partial\\,\\beta}{\\partial x} \\\\ \\Gamma_{ \\phantom{\\, t} \\, t \\, x }^{ \\, t \\phantom{\\, t} \\phantom{\\, x} } & = & -\\beta\\left(t, x, y, z\\right) \\frac{\\partial\\,\\beta}{\\partial x} \\\\ \\Gamma_{ \\phantom{\\, t} \\, t \\, y }^{ \\, t \\phantom{\\, t} \\phantom{\\, y} } & = & -\\frac{1}{2} \\, \\beta\\left(t, x, y, z\\right) \\frac{\\partial\\,\\beta}{\\partial y} \\\\ \\Gamma_{ \\phantom{\\, t} \\, t \\, z }^{ \\, t \\phantom{\\, t} \\phantom{\\, z} } & = & -\\frac{1}{2} \\, \\beta\\left(t, x, y, z\\right) \\frac{\\partial\\,\\beta}{\\partial z} \\\\ \\Gamma_{ \\phantom{\\, t} \\, x \\, x }^{ \\, t \\phantom{\\, x} \\phantom{\\, x} } & = & \\frac{\\partial\\,\\beta}{\\partial x} \\\\ \\Gamma_{ \\phantom{\\, t} \\, x \\, y }^{ \\, t \\phantom{\\, x} \\phantom{\\, y} } & = & \\frac{1}{2} \\, \\frac{\\partial\\,\\beta}{\\partial y} \\\\ \\Gamma_{ \\phantom{\\, t} \\, x \\, z }^{ \\, t \\phantom{\\, x} \\phantom{\\, z} } & = & \\frac{1}{2} \\, \\frac{\\partial\\,\\beta}{\\partial z} \\\\ \\Gamma_{ \\phantom{\\, x} \\, t \\, t }^{ \\, x \\phantom{\\, t} \\phantom{\\, t} } & = & {\\left(\\beta\\left(t, x, y, z\\right)^{3} - \\beta\\left(t, x, y, z\\right)\\right)} \\frac{\\partial\\,\\beta}{\\partial x} - \\frac{\\partial\\,\\beta}{\\partial t} \\\\ \\Gamma_{ \\phantom{\\, x} \\, t \\, x }^{ \\, x \\phantom{\\, t} \\phantom{\\, x} } & = & -\\beta\\left(t, x, y, z\\right)^{2} \\frac{\\partial\\,\\beta}{\\partial x} \\\\ \\Gamma_{ \\phantom{\\, x} \\, t \\, y }^{ \\, x \\phantom{\\, t} \\phantom{\\, y} } & = & -\\frac{1}{2} \\, {\\left(\\beta\\left(t, x, y, z\\right)^{2} + 1\\right)} \\frac{\\partial\\,\\beta}{\\partial y} \\\\ \\Gamma_{ \\phantom{\\, x} \\, t \\, z }^{ \\, x \\phantom{\\, t} \\phantom{\\, z} } & = & -\\frac{1}{2} \\, {\\left(\\beta\\left(t, x, y, z\\right)^{2} + 1\\right)} \\frac{\\partial\\,\\beta}{\\partial z} \\\\ \\Gamma_{ \\phantom{\\, x} \\, x \\, x }^{ \\, x \\phantom{\\, x} \\phantom{\\, x} } & = & \\beta\\left(t, x, y, z\\right) \\frac{\\partial\\,\\beta}{\\partial x} \\\\ \\Gamma_{ \\phantom{\\, x} \\, x \\, y }^{ \\, x \\phantom{\\, x} \\phantom{\\, y} } & = & \\frac{1}{2} \\, \\beta\\left(t, x, y, z\\right) \\frac{\\partial\\,\\beta}{\\partial y} \\\\ \\Gamma_{ \\phantom{\\, x} \\, x \\, z }^{ \\, x \\phantom{\\, x} \\phantom{\\, z} } & = & \\frac{1}{2} \\, \\beta\\left(t, x, y, z\\right) \\frac{\\partial\\,\\beta}{\\partial z} \\\\ \\Gamma_{ \\phantom{\\, y} \\, t \\, t }^{ \\, y \\phantom{\\, t} \\phantom{\\, t} } & = & -\\beta\\left(t, x, y, z\\right) \\frac{\\partial\\,\\beta}{\\partial y} \\\\ \\Gamma_{ \\phantom{\\, y} \\, t \\, x }^{ \\, y \\phantom{\\, t} \\phantom{\\, x} } & = & \\frac{1}{2} \\, \\frac{\\partial\\,\\beta}{\\partial y} \\\\ \\Gamma_{ \\phantom{\\, z} \\, t \\, t }^{ \\, z \\phantom{\\, t} \\phantom{\\, t} } & = & -\\beta\\left(t, x, y, z\\right) \\frac{\\partial\\,\\beta}{\\partial z} \\\\ \\Gamma_{ \\phantom{\\, z} \\, t \\, x }^{ \\, z \\phantom{\\, t} \\phantom{\\, x} } & = & \\frac{1}{2} \\, \\frac{\\partial\\,\\beta}{\\partial z} \\end{array}$$"
      ],
      "text/plain": [
       "Gam^t_tt = betax(t, x, y, z)^2*d(betax)/dx \n",
       "Gam^t_tx = -betax(t, x, y, z)*d(betax)/dx \n",
       "Gam^t_ty = -1/2*betax(t, x, y, z)*d(betax)/dy \n",
       "Gam^t_tz = -1/2*betax(t, x, y, z)*d(betax)/dz \n",
       "Gam^t_xx = d(betax)/dx \n",
       "Gam^t_xy = 1/2*d(betax)/dy \n",
       "Gam^t_xz = 1/2*d(betax)/dz \n",
       "Gam^x_tt = (betax(t, x, y, z)^3 - betax(t, x, y, z))*d(betax)/dx - d(betax)/dt \n",
       "Gam^x_tx = -betax(t, x, y, z)^2*d(betax)/dx \n",
       "Gam^x_ty = -1/2*(betax(t, x, y, z)^2 + 1)*d(betax)/dy \n",
       "Gam^x_tz = -1/2*(betax(t, x, y, z)^2 + 1)*d(betax)/dz \n",
       "Gam^x_xx = betax(t, x, y, z)*d(betax)/dx \n",
       "Gam^x_xy = 1/2*betax(t, x, y, z)*d(betax)/dy \n",
       "Gam^x_xz = 1/2*betax(t, x, y, z)*d(betax)/dz \n",
       "Gam^y_tt = -betax(t, x, y, z)*d(betax)/dy \n",
       "Gam^y_tx = 1/2*d(betax)/dy \n",
       "Gam^z_tt = -betax(t, x, y, z)*d(betax)/dz \n",
       "Gam^z_tx = 1/2*d(betax)/dz "
      ]
     },
     "execution_count": 7,
     "metadata": {},
     "output_type": "execute_result"
    }
   ],
   "source": [
    "g.christoffel_symbols_display()"
   ]
  },
  {
   "cell_type": "code",
   "execution_count": 8,
   "metadata": {},
   "outputs": [
    {
     "name": "stdout",
     "output_type": "stream",
     "text": [
      "Field of symmetric bilinear forms Ric(g) on the 4-dimensional Lorentzian manifold M\n"
     ]
    }
   ],
   "source": [
    "Ric = g.ricci()\n",
    "print(Ric)"
   ]
  },
  {
   "cell_type": "code",
   "execution_count": 9,
   "metadata": {},
   "outputs": [
    {
     "data": {
      "text/html": [
       "<html><script type=\"math/tex; mode=display\">\\newcommand{\\Bold}[1]{\\mathbf{#1}}\\begin{array}{llcl} \\mathrm{r}\\left(g\\right):& M & \\longrightarrow & \\mathbb{R} \\\\ & \\left(t, x, y, z\\right) & \\longmapsto & 2 \\, \\left(\\frac{\\partial\\,\\beta}{\\partial x}\\right)^{2} + 2 \\, \\beta\\left(t, x, y, z\\right) \\frac{\\partial^2\\,\\beta}{\\partial x ^ 2} + \\frac{1}{2} \\, \\left(\\frac{\\partial\\,\\beta}{\\partial y}\\right)^{2} + \\frac{1}{2} \\, \\left(\\frac{\\partial\\,\\beta}{\\partial z}\\right)^{2} + 2 \\, \\frac{\\partial^2\\,\\beta}{\\partial t\\partial x} \\end{array}</script></html>"
      ],
      "text/latex": [
       "$$\\newcommand{\\Bold}[1]{\\mathbf{#1}}\\begin{array}{llcl} \\mathrm{r}\\left(g\\right):& M & \\longrightarrow & \\mathbb{R} \\\\ & \\left(t, x, y, z\\right) & \\longmapsto & 2 \\, \\left(\\frac{\\partial\\,\\beta}{\\partial x}\\right)^{2} + 2 \\, \\beta\\left(t, x, y, z\\right) \\frac{\\partial^2\\,\\beta}{\\partial x ^ 2} + \\frac{1}{2} \\, \\left(\\frac{\\partial\\,\\beta}{\\partial y}\\right)^{2} + \\frac{1}{2} \\, \\left(\\frac{\\partial\\,\\beta}{\\partial z}\\right)^{2} + 2 \\, \\frac{\\partial^2\\,\\beta}{\\partial t\\partial x} \\end{array}$$"
      ],
      "text/plain": [
       "r(g): M --> R\n",
       "   (t, x, y, z) |--> 2*(d(betax)/dx)^2 + 2*betax(t, x, y, z)*d^2(betax)/dx^2 + 1/2*(d(betax)/dy)^2 + 1/2*(d(betax)/dz)^2 + 2*d^2(betax)/dtdx"
      ]
     },
     "execution_count": 9,
     "metadata": {},
     "output_type": "execute_result"
    }
   ],
   "source": [
    "ricscalar = g.ricci_scalar()\n",
    "ricscalar.display()"
   ]
  },
  {
   "cell_type": "code",
   "execution_count": 10,
   "metadata": {
    "scrolled": true
   },
   "outputs": [
    {
     "name": "stdout",
     "output_type": "stream",
     "text": [
      "Field of symmetric bilinear forms G on the 4-dimensional Lorentzian manifold M\n",
      "(0, 2)\n"
     ]
    },
    {
     "data": {
      "text/html": [
       "<html><script type=\"math/tex; mode=display\">\\newcommand{\\Bold}[1]{\\mathbf{#1}}\\begin{array}{lcl} G_{ \\, t \\, t }^{ \\phantom{\\, t}\\phantom{\\, t} } & = & -\\frac{1}{4} \\, {\\left(3 \\, \\beta\\left(t, x, y, z\\right)^{2} + 1\\right)} \\left(\\frac{\\partial\\,\\beta}{\\partial y}\\right)^{2} - \\frac{1}{4} \\, {\\left(3 \\, \\beta\\left(t, x, y, z\\right)^{2} + 1\\right)} \\left(\\frac{\\partial\\,\\beta}{\\partial z}\\right)^{2} - \\beta\\left(t, x, y, z\\right) \\frac{\\partial^2\\,\\beta}{\\partial y ^ 2} - \\beta\\left(t, x, y, z\\right) \\frac{\\partial^2\\,\\beta}{\\partial z ^ 2} \\\\ G_{ \\, t \\, x }^{ \\phantom{\\, t}\\phantom{\\, x} } & = & \\frac{3}{4} \\, \\beta\\left(t, x, y, z\\right) \\left(\\frac{\\partial\\,\\beta}{\\partial y}\\right)^{2} + \\frac{3}{4} \\, \\beta\\left(t, x, y, z\\right) \\left(\\frac{\\partial\\,\\beta}{\\partial z}\\right)^{2} + \\frac{1}{2} \\, \\frac{\\partial^2\\,\\beta}{\\partial y ^ 2} + \\frac{1}{2} \\, \\frac{\\partial^2\\,\\beta}{\\partial z ^ 2} \\\\ G_{ \\, t \\, y }^{ \\phantom{\\, t}\\phantom{\\, y} } & = & -\\beta\\left(t, x, y, z\\right) \\frac{\\partial\\,\\beta}{\\partial x} \\frac{\\partial\\,\\beta}{\\partial y} - \\frac{1}{2} \\, \\beta\\left(t, x, y, z\\right) \\frac{\\partial^2\\,\\beta}{\\partial t\\partial y} - \\frac{1}{2} \\, {\\left(\\beta\\left(t, x, y, z\\right)^{2} + 1\\right)} \\frac{\\partial^2\\,\\beta}{\\partial x\\partial y} \\\\ G_{ \\, t \\, z }^{ \\phantom{\\, t}\\phantom{\\, z} } & = & -\\beta\\left(t, x, y, z\\right) \\frac{\\partial\\,\\beta}{\\partial x} \\frac{\\partial\\,\\beta}{\\partial z} - \\frac{1}{2} \\, \\beta\\left(t, x, y, z\\right) \\frac{\\partial^2\\,\\beta}{\\partial t\\partial z} - \\frac{1}{2} \\, {\\left(\\beta\\left(t, x, y, z\\right)^{2} + 1\\right)} \\frac{\\partial^2\\,\\beta}{\\partial x\\partial z} \\\\ G_{ \\, x \\, x }^{ \\phantom{\\, x}\\phantom{\\, x} } & = & -\\frac{3}{4} \\, \\left(\\frac{\\partial\\,\\beta}{\\partial y}\\right)^{2} - \\frac{3}{4} \\, \\left(\\frac{\\partial\\,\\beta}{\\partial z}\\right)^{2} \\\\ G_{ \\, x \\, y }^{ \\phantom{\\, x}\\phantom{\\, y} } & = & \\frac{1}{2} \\, \\beta\\left(t, x, y, z\\right) \\frac{\\partial^2\\,\\beta}{\\partial x\\partial y} + \\frac{\\partial\\,\\beta}{\\partial x} \\frac{\\partial\\,\\beta}{\\partial y} + \\frac{1}{2} \\, \\frac{\\partial^2\\,\\beta}{\\partial t\\partial y} \\\\ G_{ \\, x \\, z }^{ \\phantom{\\, x}\\phantom{\\, z} } & = & \\frac{1}{2} \\, \\beta\\left(t, x, y, z\\right) \\frac{\\partial^2\\,\\beta}{\\partial x\\partial z} + \\frac{\\partial\\,\\beta}{\\partial x} \\frac{\\partial\\,\\beta}{\\partial z} + \\frac{1}{2} \\, \\frac{\\partial^2\\,\\beta}{\\partial t\\partial z} \\\\ G_{ \\, y \\, y }^{ \\phantom{\\, y}\\phantom{\\, y} } & = & -\\left(\\frac{\\partial\\,\\beta}{\\partial x}\\right)^{2} - \\beta\\left(t, x, y, z\\right) \\frac{\\partial^2\\,\\beta}{\\partial x ^ 2} + \\frac{1}{4} \\, \\left(\\frac{\\partial\\,\\beta}{\\partial y}\\right)^{2} - \\frac{1}{4} \\, \\left(\\frac{\\partial\\,\\beta}{\\partial z}\\right)^{2} - \\frac{\\partial^2\\,\\beta}{\\partial t\\partial x} \\\\ G_{ \\, y \\, z }^{ \\phantom{\\, y}\\phantom{\\, z} } & = & \\frac{1}{2} \\, \\frac{\\partial\\,\\beta}{\\partial y} \\frac{\\partial\\,\\beta}{\\partial z} \\\\ G_{ \\, z \\, z }^{ \\phantom{\\, z}\\phantom{\\, z} } & = & -\\left(\\frac{\\partial\\,\\beta}{\\partial x}\\right)^{2} - \\beta\\left(t, x, y, z\\right) \\frac{\\partial^2\\,\\beta}{\\partial x ^ 2} - \\frac{1}{4} \\, \\left(\\frac{\\partial\\,\\beta}{\\partial y}\\right)^{2} + \\frac{1}{4} \\, \\left(\\frac{\\partial\\,\\beta}{\\partial z}\\right)^{2} - \\frac{\\partial^2\\,\\beta}{\\partial t\\partial x} \\end{array}</script></html>"
      ],
      "text/latex": [
       "$$\\newcommand{\\Bold}[1]{\\mathbf{#1}}\\begin{array}{lcl} G_{ \\, t \\, t }^{ \\phantom{\\, t}\\phantom{\\, t} } & = & -\\frac{1}{4} \\, {\\left(3 \\, \\beta\\left(t, x, y, z\\right)^{2} + 1\\right)} \\left(\\frac{\\partial\\,\\beta}{\\partial y}\\right)^{2} - \\frac{1}{4} \\, {\\left(3 \\, \\beta\\left(t, x, y, z\\right)^{2} + 1\\right)} \\left(\\frac{\\partial\\,\\beta}{\\partial z}\\right)^{2} - \\beta\\left(t, x, y, z\\right) \\frac{\\partial^2\\,\\beta}{\\partial y ^ 2} - \\beta\\left(t, x, y, z\\right) \\frac{\\partial^2\\,\\beta}{\\partial z ^ 2} \\\\ G_{ \\, t \\, x }^{ \\phantom{\\, t}\\phantom{\\, x} } & = & \\frac{3}{4} \\, \\beta\\left(t, x, y, z\\right) \\left(\\frac{\\partial\\,\\beta}{\\partial y}\\right)^{2} + \\frac{3}{4} \\, \\beta\\left(t, x, y, z\\right) \\left(\\frac{\\partial\\,\\beta}{\\partial z}\\right)^{2} + \\frac{1}{2} \\, \\frac{\\partial^2\\,\\beta}{\\partial y ^ 2} + \\frac{1}{2} \\, \\frac{\\partial^2\\,\\beta}{\\partial z ^ 2} \\\\ G_{ \\, t \\, y }^{ \\phantom{\\, t}\\phantom{\\, y} } & = & -\\beta\\left(t, x, y, z\\right) \\frac{\\partial\\,\\beta}{\\partial x} \\frac{\\partial\\,\\beta}{\\partial y} - \\frac{1}{2} \\, \\beta\\left(t, x, y, z\\right) \\frac{\\partial^2\\,\\beta}{\\partial t\\partial y} - \\frac{1}{2} \\, {\\left(\\beta\\left(t, x, y, z\\right)^{2} + 1\\right)} \\frac{\\partial^2\\,\\beta}{\\partial x\\partial y} \\\\ G_{ \\, t \\, z }^{ \\phantom{\\, t}\\phantom{\\, z} } & = & -\\beta\\left(t, x, y, z\\right) \\frac{\\partial\\,\\beta}{\\partial x} \\frac{\\partial\\,\\beta}{\\partial z} - \\frac{1}{2} \\, \\beta\\left(t, x, y, z\\right) \\frac{\\partial^2\\,\\beta}{\\partial t\\partial z} - \\frac{1}{2} \\, {\\left(\\beta\\left(t, x, y, z\\right)^{2} + 1\\right)} \\frac{\\partial^2\\,\\beta}{\\partial x\\partial z} \\\\ G_{ \\, x \\, x }^{ \\phantom{\\, x}\\phantom{\\, x} } & = & -\\frac{3}{4} \\, \\left(\\frac{\\partial\\,\\beta}{\\partial y}\\right)^{2} - \\frac{3}{4} \\, \\left(\\frac{\\partial\\,\\beta}{\\partial z}\\right)^{2} \\\\ G_{ \\, x \\, y }^{ \\phantom{\\, x}\\phantom{\\, y} } & = & \\frac{1}{2} \\, \\beta\\left(t, x, y, z\\right) \\frac{\\partial^2\\,\\beta}{\\partial x\\partial y} + \\frac{\\partial\\,\\beta}{\\partial x} \\frac{\\partial\\,\\beta}{\\partial y} + \\frac{1}{2} \\, \\frac{\\partial^2\\,\\beta}{\\partial t\\partial y} \\\\ G_{ \\, x \\, z }^{ \\phantom{\\, x}\\phantom{\\, z} } & = & \\frac{1}{2} \\, \\beta\\left(t, x, y, z\\right) \\frac{\\partial^2\\,\\beta}{\\partial x\\partial z} + \\frac{\\partial\\,\\beta}{\\partial x} \\frac{\\partial\\,\\beta}{\\partial z} + \\frac{1}{2} \\, \\frac{\\partial^2\\,\\beta}{\\partial t\\partial z} \\\\ G_{ \\, y \\, y }^{ \\phantom{\\, y}\\phantom{\\, y} } & = & -\\left(\\frac{\\partial\\,\\beta}{\\partial x}\\right)^{2} - \\beta\\left(t, x, y, z\\right) \\frac{\\partial^2\\,\\beta}{\\partial x ^ 2} + \\frac{1}{4} \\, \\left(\\frac{\\partial\\,\\beta}{\\partial y}\\right)^{2} - \\frac{1}{4} \\, \\left(\\frac{\\partial\\,\\beta}{\\partial z}\\right)^{2} - \\frac{\\partial^2\\,\\beta}{\\partial t\\partial x} \\\\ G_{ \\, y \\, z }^{ \\phantom{\\, y}\\phantom{\\, z} } & = & \\frac{1}{2} \\, \\frac{\\partial\\,\\beta}{\\partial y} \\frac{\\partial\\,\\beta}{\\partial z} \\\\ G_{ \\, z \\, z }^{ \\phantom{\\, z}\\phantom{\\, z} } & = & -\\left(\\frac{\\partial\\,\\beta}{\\partial x}\\right)^{2} - \\beta\\left(t, x, y, z\\right) \\frac{\\partial^2\\,\\beta}{\\partial x ^ 2} - \\frac{1}{4} \\, \\left(\\frac{\\partial\\,\\beta}{\\partial y}\\right)^{2} + \\frac{1}{4} \\, \\left(\\frac{\\partial\\,\\beta}{\\partial z}\\right)^{2} - \\frac{\\partial^2\\,\\beta}{\\partial t\\partial x} \\end{array}$$"
      ],
      "text/plain": [
       "G_tt = -1/4*(3*betax(t, x, y, z)^2 + 1)*(d(betax)/dy)^2 - 1/4*(3*betax(t, x, y, z)^2 + 1)*(d(betax)/dz)^2 - betax(t, x, y, z)*d^2(betax)/dy^2 - betax(t, x, y, z)*d^2(betax)/dz^2 \n",
       "G_tx = 3/4*betax(t, x, y, z)*(d(betax)/dy)^2 + 3/4*betax(t, x, y, z)*(d(betax)/dz)^2 + 1/2*d^2(betax)/dy^2 + 1/2*d^2(betax)/dz^2 \n",
       "G_ty = -betax(t, x, y, z)*d(betax)/dx*d(betax)/dy - 1/2*betax(t, x, y, z)*d^2(betax)/dtdy - 1/2*(betax(t, x, y, z)^2 + 1)*d^2(betax)/dxdy \n",
       "G_tz = -betax(t, x, y, z)*d(betax)/dx*d(betax)/dz - 1/2*betax(t, x, y, z)*d^2(betax)/dtdz - 1/2*(betax(t, x, y, z)^2 + 1)*d^2(betax)/dxdz \n",
       "G_xx = -3/4*(d(betax)/dy)^2 - 3/4*(d(betax)/dz)^2 \n",
       "G_xy = 1/2*betax(t, x, y, z)*d^2(betax)/dxdy + d(betax)/dx*d(betax)/dy + 1/2*d^2(betax)/dtdy \n",
       "G_xz = 1/2*betax(t, x, y, z)*d^2(betax)/dxdz + d(betax)/dx*d(betax)/dz + 1/2*d^2(betax)/dtdz \n",
       "G_yy = -(d(betax)/dx)^2 - betax(t, x, y, z)*d^2(betax)/dx^2 + 1/4*(d(betax)/dy)^2 - 1/4*(d(betax)/dz)^2 - d^2(betax)/dtdx \n",
       "G_yz = 1/2*d(betax)/dy*d(betax)/dz \n",
       "G_zz = -(d(betax)/dx)^2 - betax(t, x, y, z)*d^2(betax)/dx^2 - 1/4*(d(betax)/dy)^2 + 1/4*(d(betax)/dz)^2 - d^2(betax)/dtdx "
      ]
     },
     "execution_count": 10,
     "metadata": {},
     "output_type": "execute_result"
    }
   ],
   "source": [
    "G = Ric - 1/2*g.ricci_scalar() * g\n",
    "G.set_name('G')\n",
    "print(G)\n",
    "print(G.tensor_type())\n",
    "G.display_comp(only_nonredundant=True)"
   ]
  },
  {
   "cell_type": "code",
   "execution_count": 11,
   "metadata": {},
   "outputs": [
    {
     "name": "stdout",
     "output_type": "stream",
     "text": [
      "Vector field u on the 4-dimensional Lorentzian manifold M\n",
      "(1, 0)\n"
     ]
    },
    {
     "data": {
      "text/html": [
       "<html><script type=\"math/tex; mode=display\">\\newcommand{\\Bold}[1]{\\mathbf{#1}}\\begin{array}{lcl} u_{\\phantom{\\, t}}^{ \\, t } & = & 1 \\\\ u_{\\phantom{\\, x}}^{ \\, x } & = & \\beta\\left(t, x, y, z\\right) \\end{array}</script></html>"
      ],
      "text/latex": [
       "$$\\newcommand{\\Bold}[1]{\\mathbf{#1}}\\begin{array}{lcl} u_{\\phantom{\\, t}}^{ \\, t } & = & 1 \\\\ u_{\\phantom{\\, x}}^{ \\, x } & = & \\beta\\left(t, x, y, z\\right) \\end{array}$$"
      ],
      "text/plain": [
       "u^t = 1 \n",
       "u^x = betax(t, x, y, z) "
      ]
     },
     "execution_count": 11,
     "metadata": {},
     "output_type": "execute_result"
    }
   ],
   "source": [
    "u = M.vector_field('u')\n",
    "u[0] = 1\n",
    "u[1] = betax\n",
    "print(u)\n",
    "print(u.tensor_type())\n",
    "u.display_comp()"
   ]
  },
  {
   "cell_type": "code",
   "execution_count": 12,
   "metadata": {},
   "outputs": [
    {
     "name": "stdout",
     "output_type": "stream",
     "text": [
      "1-form u on the 4-dimensional Lorentzian manifold M\n",
      "(0, 1)\n"
     ]
    },
    {
     "data": {
      "text/html": [
       "<html><script type=\"math/tex; mode=display\">\\newcommand{\\Bold}[1]{\\mathbf{#1}}\\begin{array}{lcl} u_{ \\, t }^{ \\phantom{\\, t} } & = & -1 \\end{array}</script></html>"
      ],
      "text/latex": [
       "$$\\newcommand{\\Bold}[1]{\\mathbf{#1}}\\begin{array}{lcl} u_{ \\, t }^{ \\phantom{\\, t} } & = & -1 \\end{array}$$"
      ],
      "text/plain": [
       "u_t = -1 "
      ]
     },
     "execution_count": 12,
     "metadata": {},
     "output_type": "execute_result"
    }
   ],
   "source": [
    "u_form = u.down(g)\n",
    "u_form.set_name('u')\n",
    "print(u_form)\n",
    "print(u_form.tensor_type())\n",
    "u_form.display_comp()"
   ]
  },
  {
   "cell_type": "code",
   "execution_count": 13,
   "metadata": {},
   "outputs": [
    {
     "name": "stdout",
     "output_type": "stream",
     "text": [
      "Tensor field T of type (0,2) on the 4-dimensional Lorentzian manifold M\n"
     ]
    },
    {
     "data": {
      "text/html": [
       "<html><script type=\"math/tex; mode=display\">\\newcommand{\\Bold}[1]{\\mathbf{#1}}\\begin{array}{lcl} T_{ \\, t \\, t }^{ \\phantom{\\, t}\\phantom{\\, t} } & = & \\beta\\left(t, x, y, z\\right)^{2} p\\left(t, x, y, z\\right) + \\mu\\left(t, x, y, z\\right) \\\\ T_{ \\, t \\, x }^{ \\phantom{\\, t}\\phantom{\\, x} } & = & -\\beta\\left(t, x, y, z\\right) D\\left(t, x, y, z\\right) \\\\ T_{ \\, x \\, t }^{ \\phantom{\\, x}\\phantom{\\, t} } & = & -\\beta\\left(t, x, y, z\\right) D\\left(t, x, y, z\\right) \\\\ T_{ \\, x \\, x }^{ \\phantom{\\, x}\\phantom{\\, x} } & = & A\\left(t, x, y, z\\right) \\\\ T_{ \\, y \\, y }^{ \\phantom{\\, y}\\phantom{\\, y} } & = & B\\left(t, x, y, z\\right) \\\\ T_{ \\, z \\, z }^{ \\phantom{\\, z}\\phantom{\\, z} } & = & C\\left(t, x, y, z\\right) \\end{array}</script></html>"
      ],
      "text/latex": [
       "$$\\newcommand{\\Bold}[1]{\\mathbf{#1}}\\begin{array}{lcl} T_{ \\, t \\, t }^{ \\phantom{\\, t}\\phantom{\\, t} } & = & \\beta\\left(t, x, y, z\\right)^{2} p\\left(t, x, y, z\\right) + \\mu\\left(t, x, y, z\\right) \\\\ T_{ \\, t \\, x }^{ \\phantom{\\, t}\\phantom{\\, x} } & = & -\\beta\\left(t, x, y, z\\right) D\\left(t, x, y, z\\right) \\\\ T_{ \\, x \\, t }^{ \\phantom{\\, x}\\phantom{\\, t} } & = & -\\beta\\left(t, x, y, z\\right) D\\left(t, x, y, z\\right) \\\\ T_{ \\, x \\, x }^{ \\phantom{\\, x}\\phantom{\\, x} } & = & A\\left(t, x, y, z\\right) \\\\ T_{ \\, y \\, y }^{ \\phantom{\\, y}\\phantom{\\, y} } & = & B\\left(t, x, y, z\\right) \\\\ T_{ \\, z \\, z }^{ \\phantom{\\, z}\\phantom{\\, z} } & = & C\\left(t, x, y, z\\right) \\end{array}$$"
      ],
      "text/plain": [
       "T_tt = betax(t, x, y, z)^2*p(t, x, y, z) + mu(t, x, y, z) \n",
       "T_tx = -betax(t, x, y, z)*d(t, x, y, z) \n",
       "T_xt = -betax(t, x, y, z)*d(t, x, y, z) \n",
       "T_xx = a(t, x, y, z) \n",
       "T_yy = b(t, x, y, z) \n",
       "T_zz = c(t, x, y, z) "
      ]
     },
     "execution_count": 13,
     "metadata": {},
     "output_type": "execute_result"
    }
   ],
   "source": [
    "t = M.tensor_field(0,2, name='T');\n",
    "\n",
    "t[0,0]= mu + betax^2*p\n",
    "t[0,1]=-betax*d\n",
    "t[1,0]=-betax*d\n",
    "t[1,1]=a\n",
    "t[2,2]=b\n",
    "t[3,3]=c\n",
    "\n",
    "print(t)\n",
    "t.display_comp()"
   ]
  },
  {
   "cell_type": "code",
   "execution_count": 14,
   "metadata": {},
   "outputs": [
    {
     "name": "stdout",
     "output_type": "stream",
     "text": [
      "Scalar field on the 4-dimensional Lorentzian manifold M\n",
      "(0, 0)\n"
     ]
    },
    {
     "data": {
      "text/html": [
       "<html><script type=\"math/tex; mode=display\">\\newcommand{\\Bold}[1]{\\mathbf{#1}}\\begin{array}{llcl} & M & \\longrightarrow & \\mathbb{R} \\\\ & \\left(t, x, y, z\\right) & \\longmapsto & -\\frac{1}{4} \\, \\left(\\frac{\\partial\\,\\beta}{\\partial y}\\right)^{2} - \\frac{1}{4} \\, \\left(\\frac{\\partial\\,\\beta}{\\partial z}\\right)^{2} \\end{array}</script></html>"
      ],
      "text/latex": [
       "$$\\newcommand{\\Bold}[1]{\\mathbf{#1}}\\begin{array}{llcl} & M & \\longrightarrow & \\mathbb{R} \\\\ & \\left(t, x, y, z\\right) & \\longmapsto & -\\frac{1}{4} \\, \\left(\\frac{\\partial\\,\\beta}{\\partial y}\\right)^{2} - \\frac{1}{4} \\, \\left(\\frac{\\partial\\,\\beta}{\\partial z}\\right)^{2} \\end{array}$$"
      ],
      "text/plain": [
       "M --> R\n",
       "(t, x, y, z) |--> -1/4*(d(betax)/dy)^2 - 1/4*(d(betax)/dz)^2"
      ]
     },
     "execution_count": 14,
     "metadata": {},
     "output_type": "execute_result"
    }
   ],
   "source": [
    "G1 = G.contract(0, u)\n",
    "\n",
    "G2 = G1.contract(1, u)\n",
    "print(G2)\n",
    "print(G2.tensor_type())\n",
    "G2.display()"
   ]
  },
  {
   "cell_type": "code",
   "execution_count": 15,
   "metadata": {},
   "outputs": [
    {
     "data": {
      "text/html": [
       "<html><script type=\"math/tex; mode=display\">\\newcommand{\\Bold}[1]{\\mathbf{#1}}0</script></html>"
      ],
      "text/latex": [
       "$$\\newcommand{\\Bold}[1]{\\mathbf{#1}}0$$"
      ],
      "text/plain": [
       "0"
      ]
     },
     "execution_count": 15,
     "metadata": {},
     "output_type": "execute_result"
    }
   ],
   "source": [
    "G[0,0]+2*betax*G[0,1]+(betax^2-1/3)*G[1,1]"
   ]
  },
  {
   "cell_type": "code",
   "execution_count": 16,
   "metadata": {},
   "outputs": [
    {
     "data": {
      "text/html": [
       "<html><script type=\"math/tex; mode=display\">\\newcommand{\\Bold}[1]{\\mathbf{#1}}-\\frac{1}{4} \\, \\left(\\frac{\\partial\\,\\beta}{\\partial y}\\right)^{2} - \\frac{1}{4} \\, \\left(\\frac{\\partial\\,\\beta}{\\partial z}\\right)^{2}</script></html>"
      ],
      "text/latex": [
       "$$\\newcommand{\\Bold}[1]{\\mathbf{#1}}-\\frac{1}{4} \\, \\left(\\frac{\\partial\\,\\beta}{\\partial y}\\right)^{2} - \\frac{1}{4} \\, \\left(\\frac{\\partial\\,\\beta}{\\partial z}\\right)^{2}$$"
      ],
      "text/plain": [
       "-1/4*(d(betax)/dy)^2 - 1/4*(d(betax)/dz)^2"
      ]
     },
     "execution_count": 16,
     "metadata": {},
     "output_type": "execute_result"
    }
   ],
   "source": [
    "G[0,0]+2*betax*G[0,1]+betax^2*G[1,1]"
   ]
  },
  {
   "cell_type": "code",
   "execution_count": 17,
   "metadata": {},
   "outputs": [
    {
     "name": "stdout",
     "output_type": "stream",
     "text": [
      "Scalar field on the 4-dimensional Lorentzian manifold M\n"
     ]
    },
    {
     "data": {
      "text/html": [
       "<html><script type=\"math/tex; mode=display\">\\newcommand{\\Bold}[1]{\\mathbf{#1}}\\begin{array}{llcl} & M & \\longrightarrow & \\mathbb{R} \\\\ & \\left(t, x, y, z\\right) & \\longmapsto & -\\frac{1}{4} \\, \\left(\\frac{\\partial\\,\\beta}{\\partial y}\\right)^{2} - \\frac{1}{4} \\, \\left(\\frac{\\partial\\,\\beta}{\\partial z}\\right)^{2} \\end{array}</script></html>"
      ],
      "text/latex": [
       "$$\\newcommand{\\Bold}[1]{\\mathbf{#1}}\\begin{array}{llcl} & M & \\longrightarrow & \\mathbb{R} \\\\ & \\left(t, x, y, z\\right) & \\longmapsto & -\\frac{1}{4} \\, \\left(\\frac{\\partial\\,\\beta}{\\partial y}\\right)^{2} - \\frac{1}{4} \\, \\left(\\frac{\\partial\\,\\beta}{\\partial z}\\right)^{2} \\end{array}$$"
      ],
      "text/plain": [
       "M --> R\n",
       "(t, x, y, z) |--> -1/4*(d(betax)/dy)^2 - 1/4*(d(betax)/dz)^2"
      ]
     },
     "execution_count": 17,
     "metadata": {},
     "output_type": "execute_result"
    }
   ],
   "source": [
    "t1 = u*u\n",
    "t2 = G.contract(0,1, t1,0,1)\n",
    "print(t2)\n",
    "t2.display()"
   ]
  },
  {
   "cell_type": "code",
   "execution_count": 18,
   "metadata": {},
   "outputs": [
    {
     "name": "stdout",
     "output_type": "stream",
     "text": [
      "(0, 2)\n"
     ]
    },
    {
     "data": {
      "text/html": [
       "<html><script type=\"math/tex; mode=display\">\\newcommand{\\Bold}[1]{\\mathbf{#1}}\\begin{array}{lcl} div_{ \\, t }^{ \\phantom{\\, t} } & = & -\\beta\\left(t, x, y, z\\right)^{3} \\frac{\\partial\\,p}{\\partial x} + \\beta\\left(t, x, y, z\\right)^{2} \\frac{\\partial\\,D}{\\partial t} - \\beta\\left(t, x, y, z\\right)^{2} \\frac{\\partial\\,p}{\\partial t} - {\\left(A\\left(t, x, y, z\\right) \\beta\\left(t, x, y, z\\right) - 3 \\, \\beta\\left(t, x, y, z\\right) D\\left(t, x, y, z\\right) + 2 \\, \\beta\\left(t, x, y, z\\right) p\\left(t, x, y, z\\right)\\right)} \\frac{\\partial\\,\\beta}{\\partial t} - {\\left(3 \\, \\beta\\left(t, x, y, z\\right)^{2} p\\left(t, x, y, z\\right) - {\\left(3 \\, \\beta\\left(t, x, y, z\\right)^{2} - 1\\right)} D\\left(t, x, y, z\\right) + \\mu\\left(t, x, y, z\\right)\\right)} \\frac{\\partial\\,\\beta}{\\partial x} + {\\left(\\beta\\left(t, x, y, z\\right)^{3} - \\beta\\left(t, x, y, z\\right)\\right)} \\frac{\\partial\\,D}{\\partial x} - \\beta\\left(t, x, y, z\\right) \\frac{\\partial\\,\\mu}{\\partial x} - \\frac{\\partial\\,\\mu}{\\partial t} \\\\ div_{ \\, x }^{ \\phantom{\\, x} } & = & \\beta\\left(t, x, y, z\\right)^{2} \\frac{\\partial\\,D}{\\partial x} - \\beta\\left(t, x, y, z\\right) \\frac{\\partial\\,A}{\\partial t} - {\\left(\\beta\\left(t, x, y, z\\right)^{2} - 1\\right)} \\frac{\\partial\\,A}{\\partial x} - {\\left(A\\left(t, x, y, z\\right) - D\\left(t, x, y, z\\right)\\right)} \\frac{\\partial\\,\\beta}{\\partial t} - 3 \\, {\\left(A\\left(t, x, y, z\\right) \\beta\\left(t, x, y, z\\right) - \\beta\\left(t, x, y, z\\right) D\\left(t, x, y, z\\right)\\right)} \\frac{\\partial\\,\\beta}{\\partial x} + \\beta\\left(t, x, y, z\\right) \\frac{\\partial\\,D}{\\partial t} \\\\ div_{ \\, y }^{ \\phantom{\\, y} } & = & -{\\left(A\\left(t, x, y, z\\right) \\beta\\left(t, x, y, z\\right) - \\beta\\left(t, x, y, z\\right) D\\left(t, x, y, z\\right)\\right)} \\frac{\\partial\\,\\beta}{\\partial y} + \\frac{\\partial\\,B}{\\partial y} \\\\ div_{ \\, z }^{ \\phantom{\\, z} } & = & -{\\left(A\\left(t, x, y, z\\right) \\beta\\left(t, x, y, z\\right) - \\beta\\left(t, x, y, z\\right) D\\left(t, x, y, z\\right)\\right)} \\frac{\\partial\\,\\beta}{\\partial z} + \\frac{\\partial\\,C}{\\partial z} \\end{array}</script></html>"
      ],
      "text/latex": [
       "$$\\newcommand{\\Bold}[1]{\\mathbf{#1}}\\begin{array}{lcl} div_{ \\, t }^{ \\phantom{\\, t} } & = & -\\beta\\left(t, x, y, z\\right)^{3} \\frac{\\partial\\,p}{\\partial x} + \\beta\\left(t, x, y, z\\right)^{2} \\frac{\\partial\\,D}{\\partial t} - \\beta\\left(t, x, y, z\\right)^{2} \\frac{\\partial\\,p}{\\partial t} - {\\left(A\\left(t, x, y, z\\right) \\beta\\left(t, x, y, z\\right) - 3 \\, \\beta\\left(t, x, y, z\\right) D\\left(t, x, y, z\\right) + 2 \\, \\beta\\left(t, x, y, z\\right) p\\left(t, x, y, z\\right)\\right)} \\frac{\\partial\\,\\beta}{\\partial t} - {\\left(3 \\, \\beta\\left(t, x, y, z\\right)^{2} p\\left(t, x, y, z\\right) - {\\left(3 \\, \\beta\\left(t, x, y, z\\right)^{2} - 1\\right)} D\\left(t, x, y, z\\right) + \\mu\\left(t, x, y, z\\right)\\right)} \\frac{\\partial\\,\\beta}{\\partial x} + {\\left(\\beta\\left(t, x, y, z\\right)^{3} - \\beta\\left(t, x, y, z\\right)\\right)} \\frac{\\partial\\,D}{\\partial x} - \\beta\\left(t, x, y, z\\right) \\frac{\\partial\\,\\mu}{\\partial x} - \\frac{\\partial\\,\\mu}{\\partial t} \\\\ div_{ \\, x }^{ \\phantom{\\, x} } & = & \\beta\\left(t, x, y, z\\right)^{2} \\frac{\\partial\\,D}{\\partial x} - \\beta\\left(t, x, y, z\\right) \\frac{\\partial\\,A}{\\partial t} - {\\left(\\beta\\left(t, x, y, z\\right)^{2} - 1\\right)} \\frac{\\partial\\,A}{\\partial x} - {\\left(A\\left(t, x, y, z\\right) - D\\left(t, x, y, z\\right)\\right)} \\frac{\\partial\\,\\beta}{\\partial t} - 3 \\, {\\left(A\\left(t, x, y, z\\right) \\beta\\left(t, x, y, z\\right) - \\beta\\left(t, x, y, z\\right) D\\left(t, x, y, z\\right)\\right)} \\frac{\\partial\\,\\beta}{\\partial x} + \\beta\\left(t, x, y, z\\right) \\frac{\\partial\\,D}{\\partial t} \\\\ div_{ \\, y }^{ \\phantom{\\, y} } & = & -{\\left(A\\left(t, x, y, z\\right) \\beta\\left(t, x, y, z\\right) - \\beta\\left(t, x, y, z\\right) D\\left(t, x, y, z\\right)\\right)} \\frac{\\partial\\,\\beta}{\\partial y} + \\frac{\\partial\\,B}{\\partial y} \\\\ div_{ \\, z }^{ \\phantom{\\, z} } & = & -{\\left(A\\left(t, x, y, z\\right) \\beta\\left(t, x, y, z\\right) - \\beta\\left(t, x, y, z\\right) D\\left(t, x, y, z\\right)\\right)} \\frac{\\partial\\,\\beta}{\\partial z} + \\frac{\\partial\\,C}{\\partial z} \\end{array}$$"
      ],
      "text/plain": [
       "div_t = -betax(t, x, y, z)^3*d(p)/dx + betax(t, x, y, z)^2*d(d)/dt - betax(t, x, y, z)^2*d(p)/dt - (a(t, x, y, z)*betax(t, x, y, z) - 3*betax(t, x, y, z)*d(t, x, y, z) + 2*betax(t, x, y, z)*p(t, x, y, z))*d(betax)/dt - (3*betax(t, x, y, z)^2*p(t, x, y, z) - (3*betax(t, x, y, z)^2 - 1)*d(t, x, y, z) + mu(t, x, y, z))*d(betax)/dx + (betax(t, x, y, z)^3 - betax(t, x, y, z))*d(d)/dx - betax(t, x, y, z)*d(mu)/dx - d(mu)/dt \n",
       "div_x = betax(t, x, y, z)^2*d(d)/dx - betax(t, x, y, z)*d(a)/dt - (betax(t, x, y, z)^2 - 1)*d(a)/dx - (a(t, x, y, z) - d(t, x, y, z))*d(betax)/dt - 3*(a(t, x, y, z)*betax(t, x, y, z) - betax(t, x, y, z)*d(t, x, y, z))*d(betax)/dx + betax(t, x, y, z)*d(d)/dt \n",
       "div_y = -(a(t, x, y, z)*betax(t, x, y, z) - betax(t, x, y, z)*d(t, x, y, z))*d(betax)/dy + d(b)/dy \n",
       "div_z = -(a(t, x, y, z)*betax(t, x, y, z) - betax(t, x, y, z)*d(t, x, y, z))*d(betax)/dz + d(c)/dz "
      ]
     },
     "execution_count": 18,
     "metadata": {},
     "output_type": "execute_result"
    }
   ],
   "source": [
    "s=t.div()\n",
    "s.set_name('div')\n",
    "print(t.tensor_type())\n",
    "s.display_comp()"
   ]
  },
  {
   "cell_type": "code",
   "execution_count": 19,
   "metadata": {},
   "outputs": [
    {
     "name": "stdout",
     "output_type": "stream",
     "text": [
      "Scalar field on the 4-dimensional Lorentzian manifold M\n"
     ]
    },
    {
     "data": {
      "text/html": [
       "<html><script type=\"math/tex; mode=display\">\\newcommand{\\Bold}[1]{\\mathbf{#1}}\\begin{array}{llcl} & M & \\longrightarrow & \\mathbb{R} \\\\ & \\left(t, x, y, z\\right) & \\longmapsto & A\\left(t, x, y, z\\right) \\beta\\left(t, x, y, z\\right)^{2} - 2 \\, \\beta\\left(t, x, y, z\\right)^{2} D\\left(t, x, y, z\\right) + \\beta\\left(t, x, y, z\\right)^{2} p\\left(t, x, y, z\\right) + \\mu\\left(t, x, y, z\\right) \\end{array}</script></html>"
      ],
      "text/latex": [
       "$$\\newcommand{\\Bold}[1]{\\mathbf{#1}}\\begin{array}{llcl} & M & \\longrightarrow & \\mathbb{R} \\\\ & \\left(t, x, y, z\\right) & \\longmapsto & A\\left(t, x, y, z\\right) \\beta\\left(t, x, y, z\\right)^{2} - 2 \\, \\beta\\left(t, x, y, z\\right)^{2} D\\left(t, x, y, z\\right) + \\beta\\left(t, x, y, z\\right)^{2} p\\left(t, x, y, z\\right) + \\mu\\left(t, x, y, z\\right) \\end{array}$$"
      ],
      "text/plain": [
       "M --> R\n",
       "(t, x, y, z) |--> a(t, x, y, z)*betax(t, x, y, z)^2 - 2*betax(t, x, y, z)^2*d(t, x, y, z) + betax(t, x, y, z)^2*p(t, x, y, z) + mu(t, x, y, z)"
      ]
     },
     "execution_count": 19,
     "metadata": {},
     "output_type": "execute_result"
    }
   ],
   "source": [
    "# Weak Energy Condition\n",
    "# t1 = u*u\n",
    "t3 = t\n",
    "WEC = t3.contract(0,1, t1,0,1)\n",
    "print(WEC)\n",
    "WEC.display()"
   ]
  },
  {
   "cell_type": "code",
   "execution_count": 20,
   "metadata": {
    "scrolled": true
   },
   "outputs": [
    {
     "name": "stdout",
     "output_type": "stream",
     "text": [
      "Scalar field on the 4-dimensional Lorentzian manifold M\n"
     ]
    },
    {
     "data": {
      "text/html": [
       "<html><script type=\"math/tex; mode=display\">\\newcommand{\\Bold}[1]{\\mathbf{#1}}\\begin{array}{llcl} & M & \\longrightarrow & \\mathbb{R} \\\\ & \\left(t, x, y, z\\right) & \\longmapsto & -A\\left(t, x, y, z\\right)^{2} \\beta\\left(t, x, y, z\\right)^{4} - \\beta\\left(t, x, y, z\\right)^{4} p\\left(t, x, y, z\\right)^{2} + A\\left(t, x, y, z\\right)^{2} \\beta\\left(t, x, y, z\\right)^{2} - {\\left(4 \\, \\beta\\left(t, x, y, z\\right)^{4} - \\beta\\left(t, x, y, z\\right)^{2}\\right)} D\\left(t, x, y, z\\right)^{2} + 2 \\, {\\left(2 \\, A\\left(t, x, y, z\\right) \\beta\\left(t, x, y, z\\right)^{4} - A\\left(t, x, y, z\\right) \\beta\\left(t, x, y, z\\right)^{2}\\right)} D\\left(t, x, y, z\\right) - 2 \\, {\\left(A\\left(t, x, y, z\\right) \\beta\\left(t, x, y, z\\right)^{2} - 2 \\, \\beta\\left(t, x, y, z\\right)^{2} D\\left(t, x, y, z\\right)\\right)} \\mu\\left(t, x, y, z\\right) - \\mu\\left(t, x, y, z\\right)^{2} - 2 \\, {\\left(A\\left(t, x, y, z\\right) \\beta\\left(t, x, y, z\\right)^{4} - 2 \\, \\beta\\left(t, x, y, z\\right)^{4} D\\left(t, x, y, z\\right) + \\beta\\left(t, x, y, z\\right)^{2} \\mu\\left(t, x, y, z\\right)\\right)} p\\left(t, x, y, z\\right) \\end{array}</script></html>"
      ],
      "text/latex": [
       "$$\\newcommand{\\Bold}[1]{\\mathbf{#1}}\\begin{array}{llcl} & M & \\longrightarrow & \\mathbb{R} \\\\ & \\left(t, x, y, z\\right) & \\longmapsto & -A\\left(t, x, y, z\\right)^{2} \\beta\\left(t, x, y, z\\right)^{4} - \\beta\\left(t, x, y, z\\right)^{4} p\\left(t, x, y, z\\right)^{2} + A\\left(t, x, y, z\\right)^{2} \\beta\\left(t, x, y, z\\right)^{2} - {\\left(4 \\, \\beta\\left(t, x, y, z\\right)^{4} - \\beta\\left(t, x, y, z\\right)^{2}\\right)} D\\left(t, x, y, z\\right)^{2} + 2 \\, {\\left(2 \\, A\\left(t, x, y, z\\right) \\beta\\left(t, x, y, z\\right)^{4} - A\\left(t, x, y, z\\right) \\beta\\left(t, x, y, z\\right)^{2}\\right)} D\\left(t, x, y, z\\right) - 2 \\, {\\left(A\\left(t, x, y, z\\right) \\beta\\left(t, x, y, z\\right)^{2} - 2 \\, \\beta\\left(t, x, y, z\\right)^{2} D\\left(t, x, y, z\\right)\\right)} \\mu\\left(t, x, y, z\\right) - \\mu\\left(t, x, y, z\\right)^{2} - 2 \\, {\\left(A\\left(t, x, y, z\\right) \\beta\\left(t, x, y, z\\right)^{4} - 2 \\, \\beta\\left(t, x, y, z\\right)^{4} D\\left(t, x, y, z\\right) + \\beta\\left(t, x, y, z\\right)^{2} \\mu\\left(t, x, y, z\\right)\\right)} p\\left(t, x, y, z\\right) \\end{array}$$"
      ],
      "text/plain": [
       "M --> R\n",
       "(t, x, y, z) |--> -a(t, x, y, z)^2*betax(t, x, y, z)^4 - betax(t, x, y, z)^4*p(t, x, y, z)^2 + a(t, x, y, z)^2*betax(t, x, y, z)^2 - (4*betax(t, x, y, z)^4 - betax(t, x, y, z)^2)*d(t, x, y, z)^2 + 2*(2*a(t, x, y, z)*betax(t, x, y, z)^4 - a(t, x, y, z)*betax(t, x, y, z)^2)*d(t, x, y, z) - 2*(a(t, x, y, z)*betax(t, x, y, z)^2 - 2*betax(t, x, y, z)^2*d(t, x, y, z))*mu(t, x, y, z) - mu(t, x, y, z)^2 - 2*(a(t, x, y, z)*betax(t, x, y, z)^4 - 2*betax(t, x, y, z)^4*d(t, x, y, z) + betax(t, x, y, z)^2*mu(t, x, y, z))*p(t, x, y, z)"
      ]
     },
     "execution_count": 20,
     "metadata": {},
     "output_type": "execute_result"
    }
   ],
   "source": [
    "# Dominant Energy Condition\n",
    "# t1 = u*u\n",
    "# t3 = t\n",
    "t4 = t.up(g)\n",
    "t5 = t4.up(g)\n",
    "\n",
    "F1 = t5.contract(0,u_form)\n",
    "F2 = t3. contract(0,u)\n",
    "\n",
    "F1.display()\n",
    "F2.display()\n",
    "\n",
    "DEC1 = F1.contract(0,F2)\n",
    "\n",
    "print(DEC1)\n",
    "DEC1.display() # it is satisfied since F^a F_a \\leq 0"
   ]
  },
  {
   "cell_type": "code",
   "execution_count": 21,
   "metadata": {},
   "outputs": [
    {
     "data": {
      "text/html": [
       "<html><script type=\"math/tex; mode=display\">\\newcommand{\\Bold}[1]{\\mathbf{#1}}\\begin{array}{llcl} & M & \\longrightarrow & \\mathbb{R} \\\\ & \\left(t, x, y, z\\right) & \\longmapsto & A\\left(t, x, y, z\\right) \\beta\\left(t, x, y, z\\right)^{2} - 2 \\, \\beta\\left(t, x, y, z\\right)^{2} D\\left(t, x, y, z\\right) + \\beta\\left(t, x, y, z\\right)^{2} p\\left(t, x, y, z\\right) + \\mu\\left(t, x, y, z\\right) \\end{array}</script></html>"
      ],
      "text/latex": [
       "$$\\newcommand{\\Bold}[1]{\\mathbf{#1}}\\begin{array}{llcl} & M & \\longrightarrow & \\mathbb{R} \\\\ & \\left(t, x, y, z\\right) & \\longmapsto & A\\left(t, x, y, z\\right) \\beta\\left(t, x, y, z\\right)^{2} - 2 \\, \\beta\\left(t, x, y, z\\right)^{2} D\\left(t, x, y, z\\right) + \\beta\\left(t, x, y, z\\right)^{2} p\\left(t, x, y, z\\right) + \\mu\\left(t, x, y, z\\right) \\end{array}$$"
      ],
      "text/plain": [
       "M --> R\n",
       "(t, x, y, z) |--> a(t, x, y, z)*betax(t, x, y, z)^2 - 2*betax(t, x, y, z)^2*d(t, x, y, z) + betax(t, x, y, z)^2*p(t, x, y, z) + mu(t, x, y, z)"
      ]
     },
     "execution_count": 21,
     "metadata": {},
     "output_type": "execute_result"
    }
   ],
   "source": [
    "DEC2 = t5.contract(0,1, u_form*u_form,0,1)\n",
    "DEC2.display()"
   ]
  },
  {
   "cell_type": "code",
   "execution_count": 22,
   "metadata": {},
   "outputs": [
    {
     "name": "stdout",
     "output_type": "stream",
     "text": [
      "Scalar field on the 4-dimensional Lorentzian manifold M\n"
     ]
    },
    {
     "data": {
      "text/html": [
       "<html><script type=\"math/tex; mode=display\">\\newcommand{\\Bold}[1]{\\mathbf{#1}}\\begin{array}{llcl} & M & \\longrightarrow & \\mathbb{R} \\\\ & \\left(t, x, y, z\\right) & \\longmapsto & \\frac{1}{2} \\, A\\left(t, x, y, z\\right) \\beta\\left(t, x, y, z\\right)^{2} - \\beta\\left(t, x, y, z\\right)^{2} D\\left(t, x, y, z\\right) + \\frac{1}{2} \\, \\beta\\left(t, x, y, z\\right)^{2} p\\left(t, x, y, z\\right) + \\frac{1}{2} \\, A\\left(t, x, y, z\\right) + \\frac{1}{2} \\, B\\left(t, x, y, z\\right) + \\frac{1}{2} \\, C\\left(t, x, y, z\\right) + \\frac{1}{2} \\, \\mu\\left(t, x, y, z\\right) \\end{array}</script></html>"
      ],
      "text/latex": [
       "$$\\newcommand{\\Bold}[1]{\\mathbf{#1}}\\begin{array}{llcl} & M & \\longrightarrow & \\mathbb{R} \\\\ & \\left(t, x, y, z\\right) & \\longmapsto & \\frac{1}{2} \\, A\\left(t, x, y, z\\right) \\beta\\left(t, x, y, z\\right)^{2} - \\beta\\left(t, x, y, z\\right)^{2} D\\left(t, x, y, z\\right) + \\frac{1}{2} \\, \\beta\\left(t, x, y, z\\right)^{2} p\\left(t, x, y, z\\right) + \\frac{1}{2} \\, A\\left(t, x, y, z\\right) + \\frac{1}{2} \\, B\\left(t, x, y, z\\right) + \\frac{1}{2} \\, C\\left(t, x, y, z\\right) + \\frac{1}{2} \\, \\mu\\left(t, x, y, z\\right) \\end{array}$$"
      ],
      "text/plain": [
       "M --> R\n",
       "(t, x, y, z) |--> 1/2*a(t, x, y, z)*betax(t, x, y, z)^2 - betax(t, x, y, z)^2*d(t, x, y, z) + 1/2*betax(t, x, y, z)^2*p(t, x, y, z) + 1/2*a(t, x, y, z) + 1/2*b(t, x, y, z) + 1/2*c(t, x, y, z) + 1/2*mu(t, x, y, z)"
      ]
     },
     "execution_count": 22,
     "metadata": {},
     "output_type": "execute_result"
    }
   ],
   "source": [
    "# Strong Energy Conditions\n",
    "# t3 = t\n",
    "# t1 = u*u\n",
    "\n",
    "t_scalar = t3.contract(0,1, gg,0,1)\n",
    "print(t_scalar)\n",
    "t_scalar.display()\n",
    "\n",
    "t5 = (t3 - t_scalar*g/2)\n",
    "t5.display_comp()\n",
    "SEC = t5.contract(0,1,t1,0,1)\n",
    "SEC.display()"
   ]
  },
  {
   "cell_type": "code",
   "execution_count": 23,
   "metadata": {},
   "outputs": [
    {
     "data": {
      "text/html": [
       "<html><script type=\"math/tex; mode=display\">\\newcommand{\\Bold}[1]{\\mathbf{#1}}\\begin{array}{llcl} & M & \\longrightarrow & \\mathbb{R} \\\\ & \\left(t, x, y, z\\right) & \\longmapsto & A\\left(t, x, y, z\\right) \\beta\\left(t, x, y, z\\right)^{2} - 2 \\, \\beta\\left(t, x, y, z\\right)^{2} D\\left(t, x, y, z\\right) + \\beta\\left(t, x, y, z\\right)^{2} p\\left(t, x, y, z\\right) + \\mu\\left(t, x, y, z\\right) \\end{array}</script></html>"
      ],
      "text/latex": [
       "$$\\newcommand{\\Bold}[1]{\\mathbf{#1}}\\begin{array}{llcl} & M & \\longrightarrow & \\mathbb{R} \\\\ & \\left(t, x, y, z\\right) & \\longmapsto & A\\left(t, x, y, z\\right) \\beta\\left(t, x, y, z\\right)^{2} - 2 \\, \\beta\\left(t, x, y, z\\right)^{2} D\\left(t, x, y, z\\right) + \\beta\\left(t, x, y, z\\right)^{2} p\\left(t, x, y, z\\right) + \\mu\\left(t, x, y, z\\right) \\end{array}$$"
      ],
      "text/plain": [
       "M --> R\n",
       "(t, x, y, z) |--> a(t, x, y, z)*betax(t, x, y, z)^2 - 2*betax(t, x, y, z)^2*d(t, x, y, z) + betax(t, x, y, z)^2*p(t, x, y, z) + mu(t, x, y, z)"
      ]
     },
     "execution_count": 23,
     "metadata": {},
     "output_type": "execute_result"
    }
   ],
   "source": [
    "t3_contract = t3.contract(0,1,t1,0,1)\n",
    "t3_contract.display()"
   ]
  },
  {
   "cell_type": "code",
   "execution_count": 24,
   "metadata": {},
   "outputs": [
    {
     "data": {
      "text/html": [
       "<html><script type=\"math/tex; mode=display\">\\newcommand{\\Bold}[1]{\\mathbf{#1}}\\begin{array}{llcl} & M & \\longrightarrow & \\mathbb{R} \\\\ & \\left(t, x, y, z\\right) & \\longmapsto & -A\\left(t, x, y, z\\right) \\beta\\left(t, x, y, z\\right)^{2} + 2 \\, \\beta\\left(t, x, y, z\\right)^{2} D\\left(t, x, y, z\\right) - \\beta\\left(t, x, y, z\\right)^{2} p\\left(t, x, y, z\\right) + A\\left(t, x, y, z\\right) + B\\left(t, x, y, z\\right) + C\\left(t, x, y, z\\right) - \\mu\\left(t, x, y, z\\right) \\end{array}</script></html>"
      ],
      "text/latex": [
       "$$\\newcommand{\\Bold}[1]{\\mathbf{#1}}\\begin{array}{llcl} & M & \\longrightarrow & \\mathbb{R} \\\\ & \\left(t, x, y, z\\right) & \\longmapsto & -A\\left(t, x, y, z\\right) \\beta\\left(t, x, y, z\\right)^{2} + 2 \\, \\beta\\left(t, x, y, z\\right)^{2} D\\left(t, x, y, z\\right) - \\beta\\left(t, x, y, z\\right)^{2} p\\left(t, x, y, z\\right) + A\\left(t, x, y, z\\right) + B\\left(t, x, y, z\\right) + C\\left(t, x, y, z\\right) - \\mu\\left(t, x, y, z\\right) \\end{array}$$"
      ],
      "text/plain": [
       "M --> R\n",
       "(t, x, y, z) |--> -a(t, x, y, z)*betax(t, x, y, z)^2 + 2*betax(t, x, y, z)^2*d(t, x, y, z) - betax(t, x, y, z)^2*p(t, x, y, z) + a(t, x, y, z) + b(t, x, y, z) + c(t, x, y, z) - mu(t, x, y, z)"
      ]
     },
     "execution_count": 24,
     "metadata": {},
     "output_type": "execute_result"
    }
   ],
   "source": [
    "t_scalar.display()"
   ]
  },
  {
   "cell_type": "code",
   "execution_count": 25,
   "metadata": {},
   "outputs": [
    {
     "data": {
      "text/html": [
       "<html><script type=\"math/tex; mode=display\">\\newcommand{\\Bold}[1]{\\mathbf{#1}}\\begin{array}{lcl} T_{ \\, t \\, t }^{ \\phantom{\\, t}\\phantom{\\, t} } & = & \\beta\\left(t, x, y, z\\right)^{2} p\\left(t, x, y, z\\right) + \\mu\\left(t, x, y, z\\right) \\\\ T_{ \\, t \\, x }^{ \\phantom{\\, t}\\phantom{\\, x} } & = & -\\beta\\left(t, x, y, z\\right) D\\left(t, x, y, z\\right) \\\\ T_{ \\, x \\, t }^{ \\phantom{\\, x}\\phantom{\\, t} } & = & -\\beta\\left(t, x, y, z\\right) D\\left(t, x, y, z\\right) \\\\ T_{ \\, x \\, x }^{ \\phantom{\\, x}\\phantom{\\, x} } & = & A\\left(t, x, y, z\\right) \\\\ T_{ \\, y \\, y }^{ \\phantom{\\, y}\\phantom{\\, y} } & = & B\\left(t, x, y, z\\right) \\\\ T_{ \\, z \\, z }^{ \\phantom{\\, z}\\phantom{\\, z} } & = & C\\left(t, x, y, z\\right) \\end{array}</script></html>"
      ],
      "text/latex": [
       "$$\\newcommand{\\Bold}[1]{\\mathbf{#1}}\\begin{array}{lcl} T_{ \\, t \\, t }^{ \\phantom{\\, t}\\phantom{\\, t} } & = & \\beta\\left(t, x, y, z\\right)^{2} p\\left(t, x, y, z\\right) + \\mu\\left(t, x, y, z\\right) \\\\ T_{ \\, t \\, x }^{ \\phantom{\\, t}\\phantom{\\, x} } & = & -\\beta\\left(t, x, y, z\\right) D\\left(t, x, y, z\\right) \\\\ T_{ \\, x \\, t }^{ \\phantom{\\, x}\\phantom{\\, t} } & = & -\\beta\\left(t, x, y, z\\right) D\\left(t, x, y, z\\right) \\\\ T_{ \\, x \\, x }^{ \\phantom{\\, x}\\phantom{\\, x} } & = & A\\left(t, x, y, z\\right) \\\\ T_{ \\, y \\, y }^{ \\phantom{\\, y}\\phantom{\\, y} } & = & B\\left(t, x, y, z\\right) \\\\ T_{ \\, z \\, z }^{ \\phantom{\\, z}\\phantom{\\, z} } & = & C\\left(t, x, y, z\\right) \\end{array}$$"
      ],
      "text/plain": [
       "T_tt = betax(t, x, y, z)^2*p(t, x, y, z) + mu(t, x, y, z) \n",
       "T_tx = -betax(t, x, y, z)*d(t, x, y, z) \n",
       "T_xt = -betax(t, x, y, z)*d(t, x, y, z) \n",
       "T_xx = a(t, x, y, z) \n",
       "T_yy = b(t, x, y, z) \n",
       "T_zz = c(t, x, y, z) "
      ]
     },
     "execution_count": 25,
     "metadata": {},
     "output_type": "execute_result"
    }
   ],
   "source": [
    "t3.display_comp()"
   ]
  },
  {
   "cell_type": "code",
   "execution_count": 26,
   "metadata": {},
   "outputs": [
    {
     "data": {
      "text/html": [
       "<html><script type=\"math/tex; mode=display\">\\newcommand{\\Bold}[1]{\\mathbf{#1}}\\begin{array}{llcl} & M & \\longrightarrow & \\mathbb{R} \\\\ & \\left(t, x, y, z\\right) & \\longmapsto & \\frac{1}{2} \\, A\\left(t, x, y, z\\right) \\beta\\left(t, x, y, z\\right)^{2} - \\beta\\left(t, x, y, z\\right)^{2} D\\left(t, x, y, z\\right) + \\frac{1}{2} \\, \\beta\\left(t, x, y, z\\right)^{2} p\\left(t, x, y, z\\right) + \\frac{1}{2} \\, A\\left(t, x, y, z\\right) + \\frac{1}{2} \\, B\\left(t, x, y, z\\right) + \\frac{1}{2} \\, C\\left(t, x, y, z\\right) + \\frac{1}{2} \\, \\mu\\left(t, x, y, z\\right) \\end{array}</script></html>"
      ],
      "text/latex": [
       "$$\\newcommand{\\Bold}[1]{\\mathbf{#1}}\\begin{array}{llcl} & M & \\longrightarrow & \\mathbb{R} \\\\ & \\left(t, x, y, z\\right) & \\longmapsto & \\frac{1}{2} \\, A\\left(t, x, y, z\\right) \\beta\\left(t, x, y, z\\right)^{2} - \\beta\\left(t, x, y, z\\right)^{2} D\\left(t, x, y, z\\right) + \\frac{1}{2} \\, \\beta\\left(t, x, y, z\\right)^{2} p\\left(t, x, y, z\\right) + \\frac{1}{2} \\, A\\left(t, x, y, z\\right) + \\frac{1}{2} \\, B\\left(t, x, y, z\\right) + \\frac{1}{2} \\, C\\left(t, x, y, z\\right) + \\frac{1}{2} \\, \\mu\\left(t, x, y, z\\right) \\end{array}$$"
      ],
      "text/plain": [
       "M --> R\n",
       "(t, x, y, z) |--> 1/2*a(t, x, y, z)*betax(t, x, y, z)^2 - betax(t, x, y, z)^2*d(t, x, y, z) + 1/2*betax(t, x, y, z)^2*p(t, x, y, z) + 1/2*a(t, x, y, z) + 1/2*b(t, x, y, z) + 1/2*c(t, x, y, z) + 1/2*mu(t, x, y, z)"
      ]
     },
     "execution_count": 26,
     "metadata": {},
     "output_type": "execute_result"
    }
   ],
   "source": [
    "SEC.display()"
   ]
  },
  {
   "cell_type": "code",
   "execution_count": 27,
   "metadata": {},
   "outputs": [
    {
     "name": "stdout",
     "output_type": "stream",
     "text": [
      "Scalar field on the 4-dimensional Lorentzian manifold M\n"
     ]
    },
    {
     "data": {
      "text/html": [
       "<html><script type=\"math/tex; mode=display\">\\newcommand{\\Bold}[1]{\\mathbf{#1}}\\begin{array}{llcl} & M & \\longrightarrow & \\mathbb{R} \\\\ & \\left(t, x, y, z\\right) & \\longmapsto & {k_0}^{2} \\beta\\left(t, x, y, z\\right)^{2} - 2 \\, {k_0} {k_1} \\beta\\left(t, x, y, z\\right) - {k_0}^{2} + {k_1}^{2} \\end{array}</script></html>"
      ],
      "text/latex": [
       "$$\\newcommand{\\Bold}[1]{\\mathbf{#1}}\\begin{array}{llcl} & M & \\longrightarrow & \\mathbb{R} \\\\ & \\left(t, x, y, z\\right) & \\longmapsto & {k_0}^{2} \\beta\\left(t, x, y, z\\right)^{2} - 2 \\, {k_0} {k_1} \\beta\\left(t, x, y, z\\right) - {k_0}^{2} + {k_1}^{2} \\end{array}$$"
      ],
      "text/plain": [
       "M --> R\n",
       "(t, x, y, z) |--> k0^2*betax(t, x, y, z)^2 - 2*k0*k1*betax(t, x, y, z) - k0^2 + k1^2"
      ]
     },
     "execution_count": 27,
     "metadata": {},
     "output_type": "execute_result"
    }
   ],
   "source": [
    "# Null Energy Condition\n",
    "# t3 = t\n",
    "\n",
    "k0 = var('k0',latex_name=\"k_0\")\n",
    "k1 = var('k1',latex_name=\"k_1\")\n",
    "\n",
    "k = M.vector_field('k')\n",
    "k[0] = k0\n",
    "k[1] = k1\n",
    "kcon = k.down(g)\n",
    "kcon.set_name('k')\n",
    "k.display_comp()\n",
    "kcon.display_comp()\n",
    "kkcon = k.contract(0,kcon)\n",
    "print(kkcon)\n",
    "kkcon.display()\n",
    "\n"
   ]
  },
  {
   "cell_type": "code",
   "execution_count": 29,
   "metadata": {},
   "outputs": [
    {
     "data": {
      "text/html": [
       "<html><script type=\"math/tex; mode=display\">\\newcommand{\\Bold}[1]{\\mathbf{#1}}\\left[{k_0} = \\frac{{k_1}}{\\beta\\left(t, x, y, z\\right) + 1}, {k_0} = \\frac{{k_1}}{\\beta\\left(t, x, y, z\\right) - 1}\\right]</script></html>"
      ],
      "text/latex": [
       "$$\\newcommand{\\Bold}[1]{\\mathbf{#1}}\\left[{k_0} = \\frac{{k_1}}{\\beta\\left(t, x, y, z\\right) + 1}, {k_0} = \\frac{{k_1}}{\\beta\\left(t, x, y, z\\right) - 1}\\right]$$"
      ],
      "text/plain": [
       "[k0 == k1/(betax(t, x, y, z) + 1), k0 == k1/(betax(t, x, y, z) - 1)]"
      ]
     },
     "execution_count": 29,
     "metadata": {},
     "output_type": "execute_result"
    }
   ],
   "source": [
    "qe = k0^2 * betax^2 - 2 * k0 * k1 * betax - k0^2 + k1^2\n",
    "#print(qe)\n",
    "solve(qe, k0)"
   ]
  },
  {
   "cell_type": "code",
   "execution_count": 30,
   "metadata": {},
   "outputs": [
    {
     "data": {
      "text/html": [
       "<html><script type=\"math/tex; mode=display\">\\newcommand{\\Bold}[1]{\\mathbf{#1}}\\begin{array}{llcl} & M & \\longrightarrow & \\mathbb{R} \\\\ & \\left(t, x, y, z\\right) & \\longmapsto & {k_0}^{2} \\beta\\left(t, x, y, z\\right)^{2} p\\left(t, x, y, z\\right) - 2 \\, {k_0} {k_1} \\beta\\left(t, x, y, z\\right) D\\left(t, x, y, z\\right) + {k_1}^{2} A\\left(t, x, y, z\\right) + {k_0}^{2} \\mu\\left(t, x, y, z\\right) \\end{array}</script></html>"
      ],
      "text/latex": [
       "$$\\newcommand{\\Bold}[1]{\\mathbf{#1}}\\begin{array}{llcl} & M & \\longrightarrow & \\mathbb{R} \\\\ & \\left(t, x, y, z\\right) & \\longmapsto & {k_0}^{2} \\beta\\left(t, x, y, z\\right)^{2} p\\left(t, x, y, z\\right) - 2 \\, {k_0} {k_1} \\beta\\left(t, x, y, z\\right) D\\left(t, x, y, z\\right) + {k_1}^{2} A\\left(t, x, y, z\\right) + {k_0}^{2} \\mu\\left(t, x, y, z\\right) \\end{array}$$"
      ],
      "text/plain": [
       "M --> R\n",
       "(t, x, y, z) |--> k0^2*betax(t, x, y, z)^2*p(t, x, y, z) - 2*k0*k1*betax(t, x, y, z)*d(t, x, y, z) + k1^2*a(t, x, y, z) + k0^2*mu(t, x, y, z)"
      ]
     },
     "execution_count": 30,
     "metadata": {},
     "output_type": "execute_result"
    }
   ],
   "source": [
    "t6 = k * k\n",
    "\n",
    "NEC = t3.contract(0,1,t6,0,1)\n",
    "NEC.display()"
   ]
  },
  {
   "cell_type": "code",
   "execution_count": 31,
   "metadata": {},
   "outputs": [
    {
     "data": {
      "text/html": [
       "<html><script type=\"math/tex; mode=display\">\\newcommand{\\Bold}[1]{\\mathbf{#1}}{k_0}^{2} \\beta\\left(t, x, y, z\\right)^{2} p\\left(t, x, y, z\\right) - 2 \\, {k_0} {k_1} \\beta\\left(t, x, y, z\\right) D\\left(t, x, y, z\\right) + {k_0}^{2} {\\sigma} + {k_1}^{2} A\\left(t, x, y, z\\right)</script></html>"
      ],
      "text/latex": [
       "$$\\newcommand{\\Bold}[1]{\\mathbf{#1}}{k_0}^{2} \\beta\\left(t, x, y, z\\right)^{2} p\\left(t, x, y, z\\right) - 2 \\, {k_0} {k_1} \\beta\\left(t, x, y, z\\right) D\\left(t, x, y, z\\right) + {k_0}^{2} {\\sigma} + {k_1}^{2} A\\left(t, x, y, z\\right)$$"
      ],
      "text/plain": [
       "k0^2*betax(t, x, y, z)^2*p(t, x, y, z) - 2*k0*k1*betax(t, x, y, z)*d(t, x, y, z) + k0^2*sigma + k1^2*a(t, x, y, z)"
      ]
     },
     "execution_count": 31,
     "metadata": {},
     "output_type": "execute_result"
    }
   ],
   "source": [
    "# sigma = a/3 + beta^2 * (2*d-p-a)\n",
    "expr = k0^2 * betax^2 * p - 2 * k0 * k1 * betax * d + k1^2 * a + k0^2 * sigma\n",
    "expr.factor()"
   ]
  },
  {
   "cell_type": "code",
   "execution_count": 32,
   "metadata": {},
   "outputs": [
    {
     "name": "stdout",
     "output_type": "stream",
     "text": [
      "k1/(betax(t, x, y, z) + 1) k1/(betax(t, x, y, z) - 1)\n"
     ]
    }
   ],
   "source": [
    "k01 = var('k01',latex_name=\"k_{01}\")\n",
    "k02 = var('k02',latex_name=\"k_{02}\")\n",
    "\n",
    "k01 = k1/(betax + 1)\n",
    "k02 = k1/(betax - 1)\n",
    "\n",
    "print(k01,k02)"
   ]
  },
  {
   "cell_type": "code",
   "execution_count": 33,
   "metadata": {},
   "outputs": [
    {
     "data": {
      "text/html": [
       "<html><script type=\"math/tex; mode=display\">\\newcommand{\\Bold}[1]{\\mathbf{#1}}\\frac{{\\left(A\\left(t, x, y, z\\right) \\beta\\left(t, x, y, z\\right)^{2} - 2 \\, \\beta\\left(t, x, y, z\\right)^{2} D\\left(t, x, y, z\\right) + \\beta\\left(t, x, y, z\\right)^{2} p\\left(t, x, y, z\\right) + 2 \\, A\\left(t, x, y, z\\right) \\beta\\left(t, x, y, z\\right) - 2 \\, \\beta\\left(t, x, y, z\\right) D\\left(t, x, y, z\\right) + {\\sigma} + A\\left(t, x, y, z\\right)\\right)} {k_1}^{2}}{{\\left(\\beta\\left(t, x, y, z\\right) + 1\\right)}^{2}}</script></html>"
      ],
      "text/latex": [
       "$$\\newcommand{\\Bold}[1]{\\mathbf{#1}}\\frac{{\\left(A\\left(t, x, y, z\\right) \\beta\\left(t, x, y, z\\right)^{2} - 2 \\, \\beta\\left(t, x, y, z\\right)^{2} D\\left(t, x, y, z\\right) + \\beta\\left(t, x, y, z\\right)^{2} p\\left(t, x, y, z\\right) + 2 \\, A\\left(t, x, y, z\\right) \\beta\\left(t, x, y, z\\right) - 2 \\, \\beta\\left(t, x, y, z\\right) D\\left(t, x, y, z\\right) + {\\sigma} + A\\left(t, x, y, z\\right)\\right)} {k_1}^{2}}{{\\left(\\beta\\left(t, x, y, z\\right) + 1\\right)}^{2}}$$"
      ],
      "text/plain": [
       "(a(t, x, y, z)*betax(t, x, y, z)^2 - 2*betax(t, x, y, z)^2*d(t, x, y, z) + betax(t, x, y, z)^2*p(t, x, y, z) + 2*a(t, x, y, z)*betax(t, x, y, z) - 2*betax(t, x, y, z)*d(t, x, y, z) + sigma + a(t, x, y, z))*k1^2/(betax(t, x, y, z) + 1)^2"
      ]
     },
     "execution_count": 33,
     "metadata": {},
     "output_type": "execute_result"
    }
   ],
   "source": [
    "expr1 = k01^2 * betax^2 * p - 2 * k01 * k1 * betax * d + k1^2 * a + k01^2 * sigma\n",
    "expr1.factor()"
   ]
  },
  {
   "cell_type": "code",
   "execution_count": 35,
   "metadata": {},
   "outputs": [
    {
     "data": {
      "text/html": [
       "<html><script type=\"math/tex; mode=display\">\\newcommand{\\Bold}[1]{\\mathbf{#1}}\\left[\\beta\\left(t, x, y, z\\right) = -\\frac{\\sqrt{-{\\sigma} A\\left(t, x, y, z\\right) + 2 \\, {\\sigma} D\\left(t, x, y, z\\right) + D\\left(t, x, y, z\\right)^{2} - {\\left({\\sigma} + A\\left(t, x, y, z\\right)\\right)} p\\left(t, x, y, z\\right)} + A\\left(t, x, y, z\\right) - D\\left(t, x, y, z\\right)}{A\\left(t, x, y, z\\right) - 2 \\, D\\left(t, x, y, z\\right) + p\\left(t, x, y, z\\right)}, \\beta\\left(t, x, y, z\\right) = \\frac{\\sqrt{-{\\sigma} A\\left(t, x, y, z\\right) + 2 \\, {\\sigma} D\\left(t, x, y, z\\right) + D\\left(t, x, y, z\\right)^{2} - {\\left({\\sigma} + A\\left(t, x, y, z\\right)\\right)} p\\left(t, x, y, z\\right)} - A\\left(t, x, y, z\\right) + D\\left(t, x, y, z\\right)}{A\\left(t, x, y, z\\right) - 2 \\, D\\left(t, x, y, z\\right) + p\\left(t, x, y, z\\right)}\\right]</script></html>"
      ],
      "text/latex": [
       "$$\\newcommand{\\Bold}[1]{\\mathbf{#1}}\\left[\\beta\\left(t, x, y, z\\right) = -\\frac{\\sqrt{-{\\sigma} A\\left(t, x, y, z\\right) + 2 \\, {\\sigma} D\\left(t, x, y, z\\right) + D\\left(t, x, y, z\\right)^{2} - {\\left({\\sigma} + A\\left(t, x, y, z\\right)\\right)} p\\left(t, x, y, z\\right)} + A\\left(t, x, y, z\\right) - D\\left(t, x, y, z\\right)}{A\\left(t, x, y, z\\right) - 2 \\, D\\left(t, x, y, z\\right) + p\\left(t, x, y, z\\right)}, \\beta\\left(t, x, y, z\\right) = \\frac{\\sqrt{-{\\sigma} A\\left(t, x, y, z\\right) + 2 \\, {\\sigma} D\\left(t, x, y, z\\right) + D\\left(t, x, y, z\\right)^{2} - {\\left({\\sigma} + A\\left(t, x, y, z\\right)\\right)} p\\left(t, x, y, z\\right)} - A\\left(t, x, y, z\\right) + D\\left(t, x, y, z\\right)}{A\\left(t, x, y, z\\right) - 2 \\, D\\left(t, x, y, z\\right) + p\\left(t, x, y, z\\right)}\\right]$$"
      ],
      "text/plain": [
       "[betax(t, x, y, z) == -(sqrt(-sigma*a(t, x, y, z) + 2*sigma*d(t, x, y, z) + d(t, x, y, z)^2 - (sigma + a(t, x, y, z))*p(t, x, y, z)) + a(t, x, y, z) - d(t, x, y, z))/(a(t, x, y, z) - 2*d(t, x, y, z) + p(t, x, y, z)), betax(t, x, y, z) == (sqrt(-sigma*a(t, x, y, z) + 2*sigma*d(t, x, y, z) + d(t, x, y, z)^2 - (sigma + a(t, x, y, z))*p(t, x, y, z)) - a(t, x, y, z) + d(t, x, y, z))/(a(t, x, y, z) - 2*d(t, x, y, z) + p(t, x, y, z))]"
      ]
     },
     "execution_count": 35,
     "metadata": {},
     "output_type": "execute_result"
    }
   ],
   "source": [
    "solve(expr1==0,betax)"
   ]
  },
  {
   "cell_type": "code",
   "execution_count": 36,
   "metadata": {},
   "outputs": [
    {
     "data": {
      "text/html": [
       "<html><script type=\"math/tex; mode=display\">\\newcommand{\\Bold}[1]{\\mathbf{#1}}\\frac{{\\left(A\\left(t, x, y, z\\right) \\beta\\left(t, x, y, z\\right)^{2} - 2 \\, \\beta\\left(t, x, y, z\\right)^{2} D\\left(t, x, y, z\\right) + \\beta\\left(t, x, y, z\\right)^{2} p\\left(t, x, y, z\\right) - 2 \\, A\\left(t, x, y, z\\right) \\beta\\left(t, x, y, z\\right) + 2 \\, \\beta\\left(t, x, y, z\\right) D\\left(t, x, y, z\\right) + {\\sigma} + A\\left(t, x, y, z\\right)\\right)} {k_1}^{2}}{{\\left(\\beta\\left(t, x, y, z\\right) - 1\\right)}^{2}}</script></html>"
      ],
      "text/latex": [
       "$$\\newcommand{\\Bold}[1]{\\mathbf{#1}}\\frac{{\\left(A\\left(t, x, y, z\\right) \\beta\\left(t, x, y, z\\right)^{2} - 2 \\, \\beta\\left(t, x, y, z\\right)^{2} D\\left(t, x, y, z\\right) + \\beta\\left(t, x, y, z\\right)^{2} p\\left(t, x, y, z\\right) - 2 \\, A\\left(t, x, y, z\\right) \\beta\\left(t, x, y, z\\right) + 2 \\, \\beta\\left(t, x, y, z\\right) D\\left(t, x, y, z\\right) + {\\sigma} + A\\left(t, x, y, z\\right)\\right)} {k_1}^{2}}{{\\left(\\beta\\left(t, x, y, z\\right) - 1\\right)}^{2}}$$"
      ],
      "text/plain": [
       "(a(t, x, y, z)*betax(t, x, y, z)^2 - 2*betax(t, x, y, z)^2*d(t, x, y, z) + betax(t, x, y, z)^2*p(t, x, y, z) - 2*a(t, x, y, z)*betax(t, x, y, z) + 2*betax(t, x, y, z)*d(t, x, y, z) + sigma + a(t, x, y, z))*k1^2/(betax(t, x, y, z) - 1)^2"
      ]
     },
     "execution_count": 36,
     "metadata": {},
     "output_type": "execute_result"
    }
   ],
   "source": [
    "expr2 = k02^2 * betax^2 * p - 2 * k02 * k1 * betax * d + k1^2 * a + k02^2 * sigma\n",
    "expr2.factor()"
   ]
  },
  {
   "cell_type": "code",
   "execution_count": 37,
   "metadata": {},
   "outputs": [
    {
     "data": {
      "text/html": [
       "<html><script type=\"math/tex; mode=display\">\\newcommand{\\Bold}[1]{\\mathbf{#1}}\\left[\\beta\\left(t, x, y, z\\right) = -\\frac{\\sqrt{-{\\sigma} A\\left(t, x, y, z\\right) + 2 \\, {\\sigma} D\\left(t, x, y, z\\right) + D\\left(t, x, y, z\\right)^{2} - {\\left({\\sigma} + A\\left(t, x, y, z\\right)\\right)} p\\left(t, x, y, z\\right)} - A\\left(t, x, y, z\\right) + D\\left(t, x, y, z\\right)}{A\\left(t, x, y, z\\right) - 2 \\, D\\left(t, x, y, z\\right) + p\\left(t, x, y, z\\right)}, \\beta\\left(t, x, y, z\\right) = \\frac{\\sqrt{-{\\sigma} A\\left(t, x, y, z\\right) + 2 \\, {\\sigma} D\\left(t, x, y, z\\right) + D\\left(t, x, y, z\\right)^{2} - {\\left({\\sigma} + A\\left(t, x, y, z\\right)\\right)} p\\left(t, x, y, z\\right)} + A\\left(t, x, y, z\\right) - D\\left(t, x, y, z\\right)}{A\\left(t, x, y, z\\right) - 2 \\, D\\left(t, x, y, z\\right) + p\\left(t, x, y, z\\right)}\\right]</script></html>"
      ],
      "text/latex": [
       "$$\\newcommand{\\Bold}[1]{\\mathbf{#1}}\\left[\\beta\\left(t, x, y, z\\right) = -\\frac{\\sqrt{-{\\sigma} A\\left(t, x, y, z\\right) + 2 \\, {\\sigma} D\\left(t, x, y, z\\right) + D\\left(t, x, y, z\\right)^{2} - {\\left({\\sigma} + A\\left(t, x, y, z\\right)\\right)} p\\left(t, x, y, z\\right)} - A\\left(t, x, y, z\\right) + D\\left(t, x, y, z\\right)}{A\\left(t, x, y, z\\right) - 2 \\, D\\left(t, x, y, z\\right) + p\\left(t, x, y, z\\right)}, \\beta\\left(t, x, y, z\\right) = \\frac{\\sqrt{-{\\sigma} A\\left(t, x, y, z\\right) + 2 \\, {\\sigma} D\\left(t, x, y, z\\right) + D\\left(t, x, y, z\\right)^{2} - {\\left({\\sigma} + A\\left(t, x, y, z\\right)\\right)} p\\left(t, x, y, z\\right)} + A\\left(t, x, y, z\\right) - D\\left(t, x, y, z\\right)}{A\\left(t, x, y, z\\right) - 2 \\, D\\left(t, x, y, z\\right) + p\\left(t, x, y, z\\right)}\\right]$$"
      ],
      "text/plain": [
       "[betax(t, x, y, z) == -(sqrt(-sigma*a(t, x, y, z) + 2*sigma*d(t, x, y, z) + d(t, x, y, z)^2 - (sigma + a(t, x, y, z))*p(t, x, y, z)) - a(t, x, y, z) + d(t, x, y, z))/(a(t, x, y, z) - 2*d(t, x, y, z) + p(t, x, y, z)), betax(t, x, y, z) == (sqrt(-sigma*a(t, x, y, z) + 2*sigma*d(t, x, y, z) + d(t, x, y, z)^2 - (sigma + a(t, x, y, z))*p(t, x, y, z)) + a(t, x, y, z) - d(t, x, y, z))/(a(t, x, y, z) - 2*d(t, x, y, z) + p(t, x, y, z))]"
      ]
     },
     "execution_count": 37,
     "metadata": {},
     "output_type": "execute_result"
    }
   ],
   "source": [
    "solve(expr2==0,betax)"
   ]
  },
  {
   "cell_type": "code",
   "execution_count": null,
   "metadata": {
    "scrolled": true
   },
   "outputs": [],
   "source": [
    "expr3 = k01^2 * betax^2 * p - 2 * k01 * k1 * betax * d + k1^2 * a + k01^2 * mu\n",
    "expr3.simplify()"
   ]
  },
  {
   "cell_type": "code",
   "execution_count": 38,
   "metadata": {},
   "outputs": [
    {
     "data": {
      "text/html": [
       "<html><script type=\"math/tex; mode=display\">\\newcommand{\\Bold}[1]{\\mathbf{#1}}\\frac{{\\left(A\\left(t, x, y, z\\right) \\beta\\left(t, x, y, z\\right)^{2} - 2 \\, \\beta\\left(t, x, y, z\\right)^{2} D\\left(t, x, y, z\\right) + \\beta\\left(t, x, y, z\\right)^{2} p\\left(t, x, y, z\\right) - 2 \\, A\\left(t, x, y, z\\right) \\beta\\left(t, x, y, z\\right) + 2 \\, \\beta\\left(t, x, y, z\\right) D\\left(t, x, y, z\\right) + A\\left(t, x, y, z\\right) + \\mu\\left(t, x, y, z\\right)\\right)} {k_1}^{2}}{{\\left(\\beta\\left(t, x, y, z\\right) - 1\\right)}^{2}}</script></html>"
      ],
      "text/latex": [
       "$$\\newcommand{\\Bold}[1]{\\mathbf{#1}}\\frac{{\\left(A\\left(t, x, y, z\\right) \\beta\\left(t, x, y, z\\right)^{2} - 2 \\, \\beta\\left(t, x, y, z\\right)^{2} D\\left(t, x, y, z\\right) + \\beta\\left(t, x, y, z\\right)^{2} p\\left(t, x, y, z\\right) - 2 \\, A\\left(t, x, y, z\\right) \\beta\\left(t, x, y, z\\right) + 2 \\, \\beta\\left(t, x, y, z\\right) D\\left(t, x, y, z\\right) + A\\left(t, x, y, z\\right) + \\mu\\left(t, x, y, z\\right)\\right)} {k_1}^{2}}{{\\left(\\beta\\left(t, x, y, z\\right) - 1\\right)}^{2}}$$"
      ],
      "text/plain": [
       "(a(t, x, y, z)*betax(t, x, y, z)^2 - 2*betax(t, x, y, z)^2*d(t, x, y, z) + betax(t, x, y, z)^2*p(t, x, y, z) - 2*a(t, x, y, z)*betax(t, x, y, z) + 2*betax(t, x, y, z)*d(t, x, y, z) + a(t, x, y, z) + mu(t, x, y, z))*k1^2/(betax(t, x, y, z) - 1)^2"
      ]
     },
     "execution_count": 38,
     "metadata": {},
     "output_type": "execute_result"
    }
   ],
   "source": [
    "expr4 = k02^2 * betax^2 * p - 2 * k02 * k1 * betax * d + k1^2 * a + k02^2 * mu\n",
    "expr4.factor()"
   ]
  },
  {
   "cell_type": "code",
   "execution_count": 39,
   "metadata": {},
   "outputs": [
    {
     "data": {
      "text/html": [
       "<html><script type=\"math/tex; mode=display\">\\newcommand{\\Bold}[1]{\\mathbf{#1}}\\frac{{k_1}^{2} {\\left(\\mu\\left(t, x, y, z\\right) + p\\left(t, x, y, z\\right)\\right)}}{{\\left(\\beta\\left(t, x, y, z\\right) + 1\\right)}^{2}}</script></html>"
      ],
      "text/latex": [
       "$$\\newcommand{\\Bold}[1]{\\mathbf{#1}}\\frac{{k_1}^{2} {\\left(\\mu\\left(t, x, y, z\\right) + p\\left(t, x, y, z\\right)\\right)}}{{\\left(\\beta\\left(t, x, y, z\\right) + 1\\right)}^{2}}$$"
      ],
      "text/plain": [
       "k1^2*(mu(t, x, y, z) + p(t, x, y, z))/(betax(t, x, y, z) + 1)^2"
      ]
     },
     "execution_count": 39,
     "metadata": {},
     "output_type": "execute_result"
    }
   ],
   "source": [
    "expr5 = k01^2 * betax^2 * p - 2 * k01 * k1 * betax * p + k1^2 * p + k01^2 * mu\n",
    "expr5.factor()"
   ]
  }
 ],
 "metadata": {
  "kernelspec": {
   "display_name": "SageMath 9.3",
   "language": "sage",
   "name": "sagemath"
  },
  "language_info": {
   "codemirror_mode": {
    "name": "ipython",
    "version": 3
   },
   "file_extension": ".py",
   "mimetype": "text/x-python",
   "name": "python",
   "nbconvert_exporter": "python",
   "pygments_lexer": "ipython3",
   "version": "3.7.10"
  }
 },
 "nbformat": 4,
 "nbformat_minor": 2
}
