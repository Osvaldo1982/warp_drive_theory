{
 "cells": [
  {
   "cell_type": "markdown",
   "metadata": {},
   "source": [
    "* http://strangebeautiful.com/other-texts/poisson-rel-toolkit.pdf\n",
    "* https://doc.sagemath.org/html/en/reference/manifolds/sage/manifolds/differentiable/examples/sphere.html\n",
    "* [secondsecond_fundamental_form](https://doc.sagemath.org/html/en/reference/manifolds/sage/manifolds/differentiable/pseudo_riemannian_submanifold.html#sage.manifolds.differentiable.pseudo_riemannian_submanifold.PseudoRiemannianSubmanifold.second_fundamental_form)\n",
    "* https://nbviewer.org/github/sagemanifolds/SageManifolds/blob/master/Notebooks/SM_sphere_S2.ipynb"
   ]
  },
  {
   "cell_type": "code",
   "execution_count": 17,
   "metadata": {},
   "outputs": [],
   "source": [
    "from sage.manifolds.operators import *\n",
    "%display latex"
   ]
  },
  {
   "cell_type": "code",
   "execution_count": 63,
   "metadata": {},
   "outputs": [
    {
     "data": {
      "text/html": [
       "<html><script type=\"math/tex; mode=display\">\\newcommand{\\Bold}[1]{\\mathbf{#1}}K = r \\mathrm{d} \\theta\\otimes \\mathrm{d} \\theta + r \\sin\\left(\\theta\\right)^{2} \\mathrm{d} \\phi\\otimes \\mathrm{d} \\phi</script></html>"
      ],
      "text/latex": [
       "$$\\newcommand{\\Bold}[1]{\\mathbf{#1}}K = r \\mathrm{d} \\theta\\otimes \\mathrm{d} \\theta + r \\sin\\left(\\theta\\right)^{2} \\mathrm{d} \\phi\\otimes \\mathrm{d} \\phi$$"
      ],
      "text/plain": [
       "K = r dtheta*dtheta + r*sin(theta)^2 dphi*dphi"
      ]
     },
     "execution_count": 63,
     "metadata": {},
     "output_type": "execute_result"
    }
   ],
   "source": [
    "r = var('r')\n",
    "S2_r = manifolds.Sphere(2, radius=r)\n",
    "S2_r\n",
    "i = S2_r.embedding(); i\n",
    "i.display()\n",
    "g = S2_r.induced_metric()\n",
    "g.display()\n",
    "g is S2_r.first_fundamental_form()\n",
    "K = S2_r.second_fundamental_form(); K.display()"
   ]
  },
  {
   "cell_type": "code",
   "execution_count": 65,
   "metadata": {},
   "outputs": [
    {
     "data": {
      "text/html": [
       "<html><script type=\"math/tex; mode=display\">\\newcommand{\\Bold}[1]{\\mathbf{#1}}K = \\left( \\frac{2 \\, \\sqrt{u^{4} + 2 \\, u^{2} + 2} u}{u^{6} + 3 \\, u^{4} + 4 \\, u^{2} + 2} \\right) \\mathrm{d} u\\otimes \\mathrm{d} u</script></html>"
      ],
      "text/latex": [
       "$$\\newcommand{\\Bold}[1]{\\mathbf{#1}}K = \\left( \\frac{2 \\, \\sqrt{u^{4} + 2 \\, u^{2} + 2} u}{u^{6} + 3 \\, u^{4} + 4 \\, u^{2} + 2} \\right) \\mathrm{d} u\\otimes \\mathrm{d} u$$"
      ],
      "text/plain": [
       "K = 2*sqrt(u^4 + 2*u^2 + 2)*u/(u^6 + 3*u^4 + 4*u^2 + 2) du*du"
      ]
     },
     "execution_count": 65,
     "metadata": {},
     "output_type": "execute_result"
    }
   ],
   "source": [
    "M = Manifold(2, 'M', structure='Riemannian')\n",
    "N = Manifold(1, 'N', ambient=M, structure='Riemannian',\n",
    "             start_index=1)\n",
    "CM.<x,y> = M.chart()\n",
    "CN.<u> = N.chart()\n",
    "g = M.metric()\n",
    "g[0, 0], g[1, 1] = 1, 1/(1 + y^2)^2\n",
    "phi = N.diff_map(M, (u, u))\n",
    "N.set_embedding(phi)\n",
    "N.second_fundamental_form()\n",
    "N.second_fundamental_form().display()"
   ]
  }
 ],
 "metadata": {
  "kernelspec": {
   "display_name": "SageMath 9.3",
   "language": "sage",
   "name": "sagemath"
  }
 },
 "nbformat": 4,
 "nbformat_minor": 4
}
