{
 "cells": [
  {
   "cell_type": "markdown",
   "metadata": {},
   "source": [
    "* Osvaldo L. Santos-Pereira\n",
    "* Everton M.C. Abreu\n",
    "* Marcelo B. Ribeiro"
   ]
  },
  {
   "cell_type": "markdown",
   "metadata": {},
   "source": [
    "# 1. Introduction"
   ]
  },
  {
   "cell_type": "markdown",
   "metadata": {},
   "source": [
    "## 1.1. Defining parameters\n",
    "\n",
    "1. Manifold\n",
    "2. Charts\n",
    "3. functions, parameters, variables.\n",
    "4. metric (warp drive)"
   ]
  },
  {
   "cell_type": "code",
   "execution_count": 1,
   "metadata": {},
   "outputs": [],
   "source": [
    "%display latex\n",
    "\n",
    "# Defining a Lorentzian manifold\n",
    "M = Manifold(4, 'M', structure='Lorentzian')\n",
    "\n",
    "# Defining the chart\n",
    "X.<t,x,y,z> = M.chart(r\"t x:(-oo,+oo) y:(-oo,+oo) z:(-oo,+oo)\");\n",
    "Sig = Manifold(3, 'Sigma', r'\\Sigma', start_index=1)\n",
    "X_.<x,y,z> = Sig.chart(r\"x:(-oo,+oo) y:(-oo,+oo) z:(-oo,+oo)\");\n",
    "betax = function('betax',latex_name= \"\\\\beta\")(t,x,y,z)\n",
    "\n",
    "\n",
    "alpha=var('alpha',latex_name=\"\\\\alpha\")\n",
    "a = function('a',latex_name= \"A\")(t,x,y,z)\n",
    "b = function('b',latex_name= \"B\")(t,x,y,z)\n",
    "c = function('c',latex_name= \"C\")(t,x,y,z)\n",
    "d = function('d',latex_name= \"D\")(t,x,y,z)\n",
    "p = function('p',latex_name= \"p\")(t,x,y,z)\n",
    "\n",
    "mu = function('mu',latex_name= \"\\\\mu\")(t,x,y,z)\n",
    "rho = function('rho',latex_name=\"\\\\rho\")(t,x,y,z)\n",
    "\n",
    "sigma = var('sigma',latex_name=\"\\\\sigma\")\n",
    "R = var('R',latex_name=\"R\")\n",
    "\n",
    "xs = function('xs',latex_name=\"x_s\")(t)\n",
    "rs = function('rs',latex_name=\"r_s\")(xs,x,y,z)\n",
    "rs = sqrt((x-xs)^2+y^2+z^2)\n",
    "vs = function('vs',latex_name=\"v_s\")(t)\n",
    "\n",
    "fs = function('fs',latex_name=\"f(r_s)\")(rs)\n",
    "fs = (tanh(sigma(rs+R)) - tanh(sigma(rs-R)))/(2*sigma)\n",
    "\n",
    "cosmo = var('cosmo',latex_name=\"\\\\Lambda\")"
   ]
  },
  {
   "cell_type": "markdown",
   "metadata": {},
   "source": [
    "## 1.2. Alcubierre warp drive metric\n",
    "\n",
    "\n",
    "\\begin{equation*}\n",
    "g_{\\alpha \\sigma} = \n",
    "\\begin{pmatrix}\n",
    "g_{00} & g_{01} & g_{02} & g_{03} \\\\\n",
    "g_{10} & g_{11} & g_{12} & g_{13} \\\\\n",
    "g_{20} & g_{21} & g_{22} & g_{23}  \\\\\n",
    "g_{30} & g_{31} & g_{32} & g_{33} \n",
    "\\end{pmatrix} =\n",
    "\\begin{pmatrix}\n",
    "\\beta^2-1 & -\\beta & 0 & 0 \\\\\n",
    "-\\beta    & 1      & 0 & 0 \\\\\n",
    "0         & 0      & 1 & 0  \\\\\n",
    "0         & 0      & 0 & 1 \n",
    "\\end{pmatrix}\n",
    "\\end{equation*}"
   ]
  },
  {
   "cell_type": "code",
   "execution_count": 2,
   "metadata": {},
   "outputs": [
    {
     "name": "stdout",
     "output_type": "stream",
     "text": [
      "Lorentzian metric g on the 4-dimensional Lorentzian manifold M\n",
      "(0, 2)\n",
      "Lorentzian metric g on the 4-dimensional Lorentzian manifold M\n",
      "(0, 2)\n"
     ]
    },
    {
     "data": {
      "text/html": [
       "<html><script type=\"math/tex; mode=display\">\\newcommand{\\Bold}[1]{\\mathbf{#1}}\\begin{array}{lcl} g_{ \\, t \\, t }^{ \\phantom{\\, t}\\phantom{\\, t} } & = & \\beta\\left(t, x, y, z\\right)^{2} - 1 \\\\ g_{ \\, t \\, x }^{ \\phantom{\\, t}\\phantom{\\, x} } & = & -\\beta\\left(t, x, y, z\\right) \\\\ g_{ \\, x \\, t }^{ \\phantom{\\, x}\\phantom{\\, t} } & = & -\\beta\\left(t, x, y, z\\right) \\\\ g_{ \\, x \\, x }^{ \\phantom{\\, x}\\phantom{\\, x} } & = & 1 \\\\ g_{ \\, y \\, y }^{ \\phantom{\\, y}\\phantom{\\, y} } & = & 1 \\\\ g_{ \\, z \\, z }^{ \\phantom{\\, z}\\phantom{\\, z} } & = & 1 \\end{array}</script></html>"
      ],
      "text/latex": [
       "$$\\newcommand{\\Bold}[1]{\\mathbf{#1}}\\begin{array}{lcl} g_{ \\, t \\, t }^{ \\phantom{\\, t}\\phantom{\\, t} } & = & \\beta\\left(t, x, y, z\\right)^{2} - 1 \\\\ g_{ \\, t \\, x }^{ \\phantom{\\, t}\\phantom{\\, x} } & = & -\\beta\\left(t, x, y, z\\right) \\\\ g_{ \\, x \\, t }^{ \\phantom{\\, x}\\phantom{\\, t} } & = & -\\beta\\left(t, x, y, z\\right) \\\\ g_{ \\, x \\, x }^{ \\phantom{\\, x}\\phantom{\\, x} } & = & 1 \\\\ g_{ \\, y \\, y }^{ \\phantom{\\, y}\\phantom{\\, y} } & = & 1 \\\\ g_{ \\, z \\, z }^{ \\phantom{\\, z}\\phantom{\\, z} } & = & 1 \\end{array}$$"
      ],
      "text/plain": [
       "g_tt = betax(t, x, y, z)^2 - 1 \n",
       "g_tx = -betax(t, x, y, z) \n",
       "g_xt = -betax(t, x, y, z) \n",
       "g_xx = 1 \n",
       "g_yy = 1 \n",
       "g_zz = 1 "
      ]
     },
     "execution_count": 2,
     "metadata": {},
     "output_type": "execute_result"
    },
    {
     "data": {
      "text/html": [
       "<html><script type=\"math/tex; mode=display\">\\newcommand{\\Bold}[1]{\\mathbf{#1}}\\begin{array}{lcl} g_{ \\, t \\, t }^{ \\phantom{\\, t}\\phantom{\\, t} } & = & \\beta\\left(t, x, y, z\\right)^{2} - 1 \\\\ g_{ \\, t \\, x }^{ \\phantom{\\, t}\\phantom{\\, x} } & = & -\\beta\\left(t, x, y, z\\right) \\\\ g_{ \\, x \\, t }^{ \\phantom{\\, x}\\phantom{\\, t} } & = & -\\beta\\left(t, x, y, z\\right) \\\\ g_{ \\, x \\, x }^{ \\phantom{\\, x}\\phantom{\\, x} } & = & 1 \\\\ g_{ \\, y \\, y }^{ \\phantom{\\, y}\\phantom{\\, y} } & = & 1 \\\\ g_{ \\, z \\, z }^{ \\phantom{\\, z}\\phantom{\\, z} } & = & 1 \\end{array}</script></html>"
      ],
      "text/latex": [
       "$$\\newcommand{\\Bold}[1]{\\mathbf{#1}}\\begin{array}{lcl} g_{ \\, t \\, t }^{ \\phantom{\\, t}\\phantom{\\, t} } & = & \\beta\\left(t, x, y, z\\right)^{2} - 1 \\\\ g_{ \\, t \\, x }^{ \\phantom{\\, t}\\phantom{\\, x} } & = & -\\beta\\left(t, x, y, z\\right) \\\\ g_{ \\, x \\, t }^{ \\phantom{\\, x}\\phantom{\\, t} } & = & -\\beta\\left(t, x, y, z\\right) \\\\ g_{ \\, x \\, x }^{ \\phantom{\\, x}\\phantom{\\, x} } & = & 1 \\\\ g_{ \\, y \\, y }^{ \\phantom{\\, y}\\phantom{\\, y} } & = & 1 \\\\ g_{ \\, z \\, z }^{ \\phantom{\\, z}\\phantom{\\, z} } & = & 1 \\end{array}$$"
      ],
      "text/plain": [
       "g_tt = betax(t, x, y, z)^2 - 1 \n",
       "g_tx = -betax(t, x, y, z) \n",
       "g_xt = -betax(t, x, y, z) \n",
       "g_xx = 1 \n",
       "g_yy = 1 \n",
       "g_zz = 1 "
      ]
     },
     "execution_count": 2,
     "metadata": {},
     "output_type": "execute_result"
    }
   ],
   "source": [
    "g = M.metric()\n",
    "g.set_name('g')\n",
    "# g = M.tensor_field(2,0, name='T');\n",
    "g[0,0] = betax^2 - 1\n",
    "g[1,1] = 1\n",
    "g[2,2] = 1\n",
    "g[3,3] = 1\n",
    "g[0,1] = - betax\n",
    "g[1,0] = - betax\n",
    "\n",
    "print(g)\n",
    "print(g.tensor_type())\n",
    "g.display_comp()"
   ]
  },
  {
   "cell_type": "markdown",
   "metadata": {},
   "source": [
    "## 1.3. Defining the inverse metric"
   ]
  },
  {
   "cell_type": "code",
   "execution_count": 3,
   "metadata": {},
   "outputs": [
    {
     "name": "stdout",
     "output_type": "stream",
     "text": [
      "Tensor field g of type (2,0) on the 4-dimensional Lorentzian manifold M\n",
      "Tensor field g of type (2,0) on the 4-dimensional Lorentzian manifold M\n"
     ]
    },
    {
     "data": {
      "text/html": [
       "<html><script type=\"math/tex; mode=display\">\\newcommand{\\Bold}[1]{\\mathbf{#1}}\\begin{array}{lcl} g_{\\phantom{\\, t}\\phantom{\\, t}}^{ \\, t \\, t } & = & -1 \\\\ g_{\\phantom{\\, t}\\phantom{\\, x}}^{ \\, t \\, x } & = & -\\beta\\left(t, x, y, z\\right) \\\\ g_{\\phantom{\\, x}\\phantom{\\, t}}^{ \\, x \\, t } & = & -\\beta\\left(t, x, y, z\\right) \\\\ g_{\\phantom{\\, x}\\phantom{\\, x}}^{ \\, x \\, x } & = & -\\beta\\left(t, x, y, z\\right)^{2} + 1 \\\\ g_{\\phantom{\\, y}\\phantom{\\, y}}^{ \\, y \\, y } & = & 1 \\\\ g_{\\phantom{\\, z}\\phantom{\\, z}}^{ \\, z \\, z } & = & 1 \\end{array}</script></html>"
      ],
      "text/latex": [
       "$$\\newcommand{\\Bold}[1]{\\mathbf{#1}}\\begin{array}{lcl} g_{\\phantom{\\, t}\\phantom{\\, t}}^{ \\, t \\, t } & = & -1 \\\\ g_{\\phantom{\\, t}\\phantom{\\, x}}^{ \\, t \\, x } & = & -\\beta\\left(t, x, y, z\\right) \\\\ g_{\\phantom{\\, x}\\phantom{\\, t}}^{ \\, x \\, t } & = & -\\beta\\left(t, x, y, z\\right) \\\\ g_{\\phantom{\\, x}\\phantom{\\, x}}^{ \\, x \\, x } & = & -\\beta\\left(t, x, y, z\\right)^{2} + 1 \\\\ g_{\\phantom{\\, y}\\phantom{\\, y}}^{ \\, y \\, y } & = & 1 \\\\ g_{\\phantom{\\, z}\\phantom{\\, z}}^{ \\, z \\, z } & = & 1 \\end{array}$$"
      ],
      "text/plain": [
       "g^tt = -1 \n",
       "g^tx = -betax(t, x, y, z) \n",
       "g^xt = -betax(t, x, y, z) \n",
       "g^xx = -betax(t, x, y, z)^2 + 1 \n",
       "g^yy = 1 \n",
       "g^zz = 1 "
      ]
     },
     "execution_count": 3,
     "metadata": {},
     "output_type": "execute_result"
    },
    {
     "data": {
      "text/html": [
       "<html><script type=\"math/tex; mode=display\">\\newcommand{\\Bold}[1]{\\mathbf{#1}}\\begin{array}{lcl} g_{\\phantom{\\, t}\\phantom{\\, t}}^{ \\, t \\, t } & = & -1 \\\\ g_{\\phantom{\\, t}\\phantom{\\, x}}^{ \\, t \\, x } & = & -\\beta\\left(t, x, y, z\\right) \\\\ g_{\\phantom{\\, x}\\phantom{\\, t}}^{ \\, x \\, t } & = & -\\beta\\left(t, x, y, z\\right) \\\\ g_{\\phantom{\\, x}\\phantom{\\, x}}^{ \\, x \\, x } & = & -\\beta\\left(t, x, y, z\\right)^{2} + 1 \\\\ g_{\\phantom{\\, y}\\phantom{\\, y}}^{ \\, y \\, y } & = & 1 \\\\ g_{\\phantom{\\, z}\\phantom{\\, z}}^{ \\, z \\, z } & = & 1 \\end{array}</script></html>"
      ],
      "text/latex": [
       "$$\\newcommand{\\Bold}[1]{\\mathbf{#1}}\\begin{array}{lcl} g_{\\phantom{\\, t}\\phantom{\\, t}}^{ \\, t \\, t } & = & -1 \\\\ g_{\\phantom{\\, t}\\phantom{\\, x}}^{ \\, t \\, x } & = & -\\beta\\left(t, x, y, z\\right) \\\\ g_{\\phantom{\\, x}\\phantom{\\, t}}^{ \\, x \\, t } & = & -\\beta\\left(t, x, y, z\\right) \\\\ g_{\\phantom{\\, x}\\phantom{\\, x}}^{ \\, x \\, x } & = & -\\beta\\left(t, x, y, z\\right)^{2} + 1 \\\\ g_{\\phantom{\\, y}\\phantom{\\, y}}^{ \\, y \\, y } & = & 1 \\\\ g_{\\phantom{\\, z}\\phantom{\\, z}}^{ \\, z \\, z } & = & 1 \\end{array}$$"
      ],
      "text/plain": [
       "g^tt = -1 \n",
       "g^tx = -betax(t, x, y, z) \n",
       "g^xt = -betax(t, x, y, z) \n",
       "g^xx = -betax(t, x, y, z)^2 + 1 \n",
       "g^yy = 1 \n",
       "g^zz = 1 "
      ]
     },
     "execution_count": 3,
     "metadata": {},
     "output_type": "execute_result"
    }
   ],
   "source": [
    "gg = g.up(g)\n",
    "gg.set_name('g')\n",
    "print(gg)\n",
    "gg.display_comp()"
   ]
  },
  {
   "cell_type": "markdown",
   "metadata": {},
   "source": [
    "# 2. Einstein equation solution\n",
    "\n",
    "## 2.1 Christoffel Symbols"
   ]
  },
  {
   "cell_type": "code",
   "execution_count": 4,
   "metadata": {},
   "outputs": [],
   "source": [
    "nabla = g.christoffel_symbols_display()"
   ]
  },
  {
   "cell_type": "code",
   "execution_count": 5,
   "metadata": {},
   "outputs": [
    {
     "data": {
      "text/html": [
       "<html><script type=\"math/tex; mode=display\">\\newcommand{\\Bold}[1]{\\mathbf{#1}}\\begin{array}{lcl} \\Gamma_{ \\phantom{\\, t} \\, t \\, t }^{ \\, t \\phantom{\\, t} \\phantom{\\, t} } & = & \\beta\\left(t, x, y, z\\right)^{2} \\frac{\\partial\\,\\beta}{\\partial x} \\\\ \\Gamma_{ \\phantom{\\, t} \\, t \\, x }^{ \\, t \\phantom{\\, t} \\phantom{\\, x} } & = & -\\beta\\left(t, x, y, z\\right) \\frac{\\partial\\,\\beta}{\\partial x} \\\\ \\Gamma_{ \\phantom{\\, t} \\, t \\, y }^{ \\, t \\phantom{\\, t} \\phantom{\\, y} } & = & -\\frac{1}{2} \\, \\beta\\left(t, x, y, z\\right) \\frac{\\partial\\,\\beta}{\\partial y} \\\\ \\Gamma_{ \\phantom{\\, t} \\, t \\, z }^{ \\, t \\phantom{\\, t} \\phantom{\\, z} } & = & -\\frac{1}{2} \\, \\beta\\left(t, x, y, z\\right) \\frac{\\partial\\,\\beta}{\\partial z} \\\\ \\Gamma_{ \\phantom{\\, t} \\, x \\, x }^{ \\, t \\phantom{\\, x} \\phantom{\\, x} } & = & \\frac{\\partial\\,\\beta}{\\partial x} \\\\ \\Gamma_{ \\phantom{\\, t} \\, x \\, y }^{ \\, t \\phantom{\\, x} \\phantom{\\, y} } & = & \\frac{1}{2} \\, \\frac{\\partial\\,\\beta}{\\partial y} \\\\ \\Gamma_{ \\phantom{\\, t} \\, x \\, z }^{ \\, t \\phantom{\\, x} \\phantom{\\, z} } & = & \\frac{1}{2} \\, \\frac{\\partial\\,\\beta}{\\partial z} \\\\ \\Gamma_{ \\phantom{\\, x} \\, t \\, t }^{ \\, x \\phantom{\\, t} \\phantom{\\, t} } & = & {\\left(\\beta\\left(t, x, y, z\\right)^{3} - \\beta\\left(t, x, y, z\\right)\\right)} \\frac{\\partial\\,\\beta}{\\partial x} - \\frac{\\partial\\,\\beta}{\\partial t} \\\\ \\Gamma_{ \\phantom{\\, x} \\, t \\, x }^{ \\, x \\phantom{\\, t} \\phantom{\\, x} } & = & -\\beta\\left(t, x, y, z\\right)^{2} \\frac{\\partial\\,\\beta}{\\partial x} \\\\ \\Gamma_{ \\phantom{\\, x} \\, t \\, y }^{ \\, x \\phantom{\\, t} \\phantom{\\, y} } & = & -\\frac{1}{2} \\, {\\left(\\beta\\left(t, x, y, z\\right)^{2} + 1\\right)} \\frac{\\partial\\,\\beta}{\\partial y} \\\\ \\Gamma_{ \\phantom{\\, x} \\, t \\, z }^{ \\, x \\phantom{\\, t} \\phantom{\\, z} } & = & -\\frac{1}{2} \\, {\\left(\\beta\\left(t, x, y, z\\right)^{2} + 1\\right)} \\frac{\\partial\\,\\beta}{\\partial z} \\\\ \\Gamma_{ \\phantom{\\, x} \\, x \\, x }^{ \\, x \\phantom{\\, x} \\phantom{\\, x} } & = & \\beta\\left(t, x, y, z\\right) \\frac{\\partial\\,\\beta}{\\partial x} \\\\ \\Gamma_{ \\phantom{\\, x} \\, x \\, y }^{ \\, x \\phantom{\\, x} \\phantom{\\, y} } & = & \\frac{1}{2} \\, \\beta\\left(t, x, y, z\\right) \\frac{\\partial\\,\\beta}{\\partial y} \\\\ \\Gamma_{ \\phantom{\\, x} \\, x \\, z }^{ \\, x \\phantom{\\, x} \\phantom{\\, z} } & = & \\frac{1}{2} \\, \\beta\\left(t, x, y, z\\right) \\frac{\\partial\\,\\beta}{\\partial z} \\\\ \\Gamma_{ \\phantom{\\, y} \\, t \\, t }^{ \\, y \\phantom{\\, t} \\phantom{\\, t} } & = & -\\beta\\left(t, x, y, z\\right) \\frac{\\partial\\,\\beta}{\\partial y} \\\\ \\Gamma_{ \\phantom{\\, y} \\, t \\, x }^{ \\, y \\phantom{\\, t} \\phantom{\\, x} } & = & \\frac{1}{2} \\, \\frac{\\partial\\,\\beta}{\\partial y} \\\\ \\Gamma_{ \\phantom{\\, z} \\, t \\, t }^{ \\, z \\phantom{\\, t} \\phantom{\\, t} } & = & -\\beta\\left(t, x, y, z\\right) \\frac{\\partial\\,\\beta}{\\partial z} \\\\ \\Gamma_{ \\phantom{\\, z} \\, t \\, x }^{ \\, z \\phantom{\\, t} \\phantom{\\, x} } & = & \\frac{1}{2} \\, \\frac{\\partial\\,\\beta}{\\partial z} \\end{array}</script></html>"
      ],
      "text/latex": [
       "$$\\newcommand{\\Bold}[1]{\\mathbf{#1}}\\begin{array}{lcl} \\Gamma_{ \\phantom{\\, t} \\, t \\, t }^{ \\, t \\phantom{\\, t} \\phantom{\\, t} } & = & \\beta\\left(t, x, y, z\\right)^{2} \\frac{\\partial\\,\\beta}{\\partial x} \\\\ \\Gamma_{ \\phantom{\\, t} \\, t \\, x }^{ \\, t \\phantom{\\, t} \\phantom{\\, x} } & = & -\\beta\\left(t, x, y, z\\right) \\frac{\\partial\\,\\beta}{\\partial x} \\\\ \\Gamma_{ \\phantom{\\, t} \\, t \\, y }^{ \\, t \\phantom{\\, t} \\phantom{\\, y} } & = & -\\frac{1}{2} \\, \\beta\\left(t, x, y, z\\right) \\frac{\\partial\\,\\beta}{\\partial y} \\\\ \\Gamma_{ \\phantom{\\, t} \\, t \\, z }^{ \\, t \\phantom{\\, t} \\phantom{\\, z} } & = & -\\frac{1}{2} \\, \\beta\\left(t, x, y, z\\right) \\frac{\\partial\\,\\beta}{\\partial z} \\\\ \\Gamma_{ \\phantom{\\, t} \\, x \\, x }^{ \\, t \\phantom{\\, x} \\phantom{\\, x} } & = & \\frac{\\partial\\,\\beta}{\\partial x} \\\\ \\Gamma_{ \\phantom{\\, t} \\, x \\, y }^{ \\, t \\phantom{\\, x} \\phantom{\\, y} } & = & \\frac{1}{2} \\, \\frac{\\partial\\,\\beta}{\\partial y} \\\\ \\Gamma_{ \\phantom{\\, t} \\, x \\, z }^{ \\, t \\phantom{\\, x} \\phantom{\\, z} } & = & \\frac{1}{2} \\, \\frac{\\partial\\,\\beta}{\\partial z} \\\\ \\Gamma_{ \\phantom{\\, x} \\, t \\, t }^{ \\, x \\phantom{\\, t} \\phantom{\\, t} } & = & {\\left(\\beta\\left(t, x, y, z\\right)^{3} - \\beta\\left(t, x, y, z\\right)\\right)} \\frac{\\partial\\,\\beta}{\\partial x} - \\frac{\\partial\\,\\beta}{\\partial t} \\\\ \\Gamma_{ \\phantom{\\, x} \\, t \\, x }^{ \\, x \\phantom{\\, t} \\phantom{\\, x} } & = & -\\beta\\left(t, x, y, z\\right)^{2} \\frac{\\partial\\,\\beta}{\\partial x} \\\\ \\Gamma_{ \\phantom{\\, x} \\, t \\, y }^{ \\, x \\phantom{\\, t} \\phantom{\\, y} } & = & -\\frac{1}{2} \\, {\\left(\\beta\\left(t, x, y, z\\right)^{2} + 1\\right)} \\frac{\\partial\\,\\beta}{\\partial y} \\\\ \\Gamma_{ \\phantom{\\, x} \\, t \\, z }^{ \\, x \\phantom{\\, t} \\phantom{\\, z} } & = & -\\frac{1}{2} \\, {\\left(\\beta\\left(t, x, y, z\\right)^{2} + 1\\right)} \\frac{\\partial\\,\\beta}{\\partial z} \\\\ \\Gamma_{ \\phantom{\\, x} \\, x \\, x }^{ \\, x \\phantom{\\, x} \\phantom{\\, x} } & = & \\beta\\left(t, x, y, z\\right) \\frac{\\partial\\,\\beta}{\\partial x} \\\\ \\Gamma_{ \\phantom{\\, x} \\, x \\, y }^{ \\, x \\phantom{\\, x} \\phantom{\\, y} } & = & \\frac{1}{2} \\, \\beta\\left(t, x, y, z\\right) \\frac{\\partial\\,\\beta}{\\partial y} \\\\ \\Gamma_{ \\phantom{\\, x} \\, x \\, z }^{ \\, x \\phantom{\\, x} \\phantom{\\, z} } & = & \\frac{1}{2} \\, \\beta\\left(t, x, y, z\\right) \\frac{\\partial\\,\\beta}{\\partial z} \\\\ \\Gamma_{ \\phantom{\\, y} \\, t \\, t }^{ \\, y \\phantom{\\, t} \\phantom{\\, t} } & = & -\\beta\\left(t, x, y, z\\right) \\frac{\\partial\\,\\beta}{\\partial y} \\\\ \\Gamma_{ \\phantom{\\, y} \\, t \\, x }^{ \\, y \\phantom{\\, t} \\phantom{\\, x} } & = & \\frac{1}{2} \\, \\frac{\\partial\\,\\beta}{\\partial y} \\\\ \\Gamma_{ \\phantom{\\, z} \\, t \\, t }^{ \\, z \\phantom{\\, t} \\phantom{\\, t} } & = & -\\beta\\left(t, x, y, z\\right) \\frac{\\partial\\,\\beta}{\\partial z} \\\\ \\Gamma_{ \\phantom{\\, z} \\, t \\, x }^{ \\, z \\phantom{\\, t} \\phantom{\\, x} } & = & \\frac{1}{2} \\, \\frac{\\partial\\,\\beta}{\\partial z} \\end{array}$$"
      ],
      "text/plain": [
       "Gam^t_tt = betax(t, x, y, z)^2*d(betax)/dx \n",
       "Gam^t_tx = -betax(t, x, y, z)*d(betax)/dx \n",
       "Gam^t_ty = -1/2*betax(t, x, y, z)*d(betax)/dy \n",
       "Gam^t_tz = -1/2*betax(t, x, y, z)*d(betax)/dz \n",
       "Gam^t_xx = d(betax)/dx \n",
       "Gam^t_xy = 1/2*d(betax)/dy \n",
       "Gam^t_xz = 1/2*d(betax)/dz \n",
       "Gam^x_tt = (betax(t, x, y, z)^3 - betax(t, x, y, z))*d(betax)/dx - d(betax)/dt \n",
       "Gam^x_tx = -betax(t, x, y, z)^2*d(betax)/dx \n",
       "Gam^x_ty = -1/2*(betax(t, x, y, z)^2 + 1)*d(betax)/dy \n",
       "Gam^x_tz = -1/2*(betax(t, x, y, z)^2 + 1)*d(betax)/dz \n",
       "Gam^x_xx = betax(t, x, y, z)*d(betax)/dx \n",
       "Gam^x_xy = 1/2*betax(t, x, y, z)*d(betax)/dy \n",
       "Gam^x_xz = 1/2*betax(t, x, y, z)*d(betax)/dz \n",
       "Gam^y_tt = -betax(t, x, y, z)*d(betax)/dy \n",
       "Gam^y_tx = 1/2*d(betax)/dy \n",
       "Gam^z_tt = -betax(t, x, y, z)*d(betax)/dz \n",
       "Gam^z_tx = 1/2*d(betax)/dz "
      ]
     },
     "execution_count": 5,
     "metadata": {},
     "output_type": "execute_result"
    },
    {
     "data": {
      "text/html": [
       "<html><script type=\"math/tex; mode=display\">\\newcommand{\\Bold}[1]{\\mathbf{#1}}\\begin{array}{lcl} \\Gamma_{ \\phantom{\\, t} \\, t \\, t }^{ \\, t \\phantom{\\, t} \\phantom{\\, t} } & = & \\beta\\left(t, x, y, z\\right)^{2} \\frac{\\partial\\,\\beta}{\\partial x} \\\\ \\Gamma_{ \\phantom{\\, t} \\, t \\, x }^{ \\, t \\phantom{\\, t} \\phantom{\\, x} } & = & -\\beta\\left(t, x, y, z\\right) \\frac{\\partial\\,\\beta}{\\partial x} \\\\ \\Gamma_{ \\phantom{\\, t} \\, t \\, y }^{ \\, t \\phantom{\\, t} \\phantom{\\, y} } & = & -\\frac{1}{2} \\, \\beta\\left(t, x, y, z\\right) \\frac{\\partial\\,\\beta}{\\partial y} \\\\ \\Gamma_{ \\phantom{\\, t} \\, t \\, z }^{ \\, t \\phantom{\\, t} \\phantom{\\, z} } & = & -\\frac{1}{2} \\, \\beta\\left(t, x, y, z\\right) \\frac{\\partial\\,\\beta}{\\partial z} \\\\ \\Gamma_{ \\phantom{\\, t} \\, x \\, x }^{ \\, t \\phantom{\\, x} \\phantom{\\, x} } & = & \\frac{\\partial\\,\\beta}{\\partial x} \\\\ \\Gamma_{ \\phantom{\\, t} \\, x \\, y }^{ \\, t \\phantom{\\, x} \\phantom{\\, y} } & = & \\frac{1}{2} \\, \\frac{\\partial\\,\\beta}{\\partial y} \\\\ \\Gamma_{ \\phantom{\\, t} \\, x \\, z }^{ \\, t \\phantom{\\, x} \\phantom{\\, z} } & = & \\frac{1}{2} \\, \\frac{\\partial\\,\\beta}{\\partial z} \\\\ \\Gamma_{ \\phantom{\\, x} \\, t \\, t }^{ \\, x \\phantom{\\, t} \\phantom{\\, t} } & = & {\\left(\\beta\\left(t, x, y, z\\right)^{3} - \\beta\\left(t, x, y, z\\right)\\right)} \\frac{\\partial\\,\\beta}{\\partial x} - \\frac{\\partial\\,\\beta}{\\partial t} \\\\ \\Gamma_{ \\phantom{\\, x} \\, t \\, x }^{ \\, x \\phantom{\\, t} \\phantom{\\, x} } & = & -\\beta\\left(t, x, y, z\\right)^{2} \\frac{\\partial\\,\\beta}{\\partial x} \\\\ \\Gamma_{ \\phantom{\\, x} \\, t \\, y }^{ \\, x \\phantom{\\, t} \\phantom{\\, y} } & = & -\\frac{1}{2} \\, {\\left(\\beta\\left(t, x, y, z\\right)^{2} + 1\\right)} \\frac{\\partial\\,\\beta}{\\partial y} \\\\ \\Gamma_{ \\phantom{\\, x} \\, t \\, z }^{ \\, x \\phantom{\\, t} \\phantom{\\, z} } & = & -\\frac{1}{2} \\, {\\left(\\beta\\left(t, x, y, z\\right)^{2} + 1\\right)} \\frac{\\partial\\,\\beta}{\\partial z} \\\\ \\Gamma_{ \\phantom{\\, x} \\, x \\, x }^{ \\, x \\phantom{\\, x} \\phantom{\\, x} } & = & \\beta\\left(t, x, y, z\\right) \\frac{\\partial\\,\\beta}{\\partial x} \\\\ \\Gamma_{ \\phantom{\\, x} \\, x \\, y }^{ \\, x \\phantom{\\, x} \\phantom{\\, y} } & = & \\frac{1}{2} \\, \\beta\\left(t, x, y, z\\right) \\frac{\\partial\\,\\beta}{\\partial y} \\\\ \\Gamma_{ \\phantom{\\, x} \\, x \\, z }^{ \\, x \\phantom{\\, x} \\phantom{\\, z} } & = & \\frac{1}{2} \\, \\beta\\left(t, x, y, z\\right) \\frac{\\partial\\,\\beta}{\\partial z} \\\\ \\Gamma_{ \\phantom{\\, y} \\, t \\, t }^{ \\, y \\phantom{\\, t} \\phantom{\\, t} } & = & -\\beta\\left(t, x, y, z\\right) \\frac{\\partial\\,\\beta}{\\partial y} \\\\ \\Gamma_{ \\phantom{\\, y} \\, t \\, x }^{ \\, y \\phantom{\\, t} \\phantom{\\, x} } & = & \\frac{1}{2} \\, \\frac{\\partial\\,\\beta}{\\partial y} \\\\ \\Gamma_{ \\phantom{\\, z} \\, t \\, t }^{ \\, z \\phantom{\\, t} \\phantom{\\, t} } & = & -\\beta\\left(t, x, y, z\\right) \\frac{\\partial\\,\\beta}{\\partial z} \\\\ \\Gamma_{ \\phantom{\\, z} \\, t \\, x }^{ \\, z \\phantom{\\, t} \\phantom{\\, x} } & = & \\frac{1}{2} \\, \\frac{\\partial\\,\\beta}{\\partial z} \\end{array}</script></html>"
      ],
      "text/latex": [
       "$$\\newcommand{\\Bold}[1]{\\mathbf{#1}}\\begin{array}{lcl} \\Gamma_{ \\phantom{\\, t} \\, t \\, t }^{ \\, t \\phantom{\\, t} \\phantom{\\, t} } & = & \\beta\\left(t, x, y, z\\right)^{2} \\frac{\\partial\\,\\beta}{\\partial x} \\\\ \\Gamma_{ \\phantom{\\, t} \\, t \\, x }^{ \\, t \\phantom{\\, t} \\phantom{\\, x} } & = & -\\beta\\left(t, x, y, z\\right) \\frac{\\partial\\,\\beta}{\\partial x} \\\\ \\Gamma_{ \\phantom{\\, t} \\, t \\, y }^{ \\, t \\phantom{\\, t} \\phantom{\\, y} } & = & -\\frac{1}{2} \\, \\beta\\left(t, x, y, z\\right) \\frac{\\partial\\,\\beta}{\\partial y} \\\\ \\Gamma_{ \\phantom{\\, t} \\, t \\, z }^{ \\, t \\phantom{\\, t} \\phantom{\\, z} } & = & -\\frac{1}{2} \\, \\beta\\left(t, x, y, z\\right) \\frac{\\partial\\,\\beta}{\\partial z} \\\\ \\Gamma_{ \\phantom{\\, t} \\, x \\, x }^{ \\, t \\phantom{\\, x} \\phantom{\\, x} } & = & \\frac{\\partial\\,\\beta}{\\partial x} \\\\ \\Gamma_{ \\phantom{\\, t} \\, x \\, y }^{ \\, t \\phantom{\\, x} \\phantom{\\, y} } & = & \\frac{1}{2} \\, \\frac{\\partial\\,\\beta}{\\partial y} \\\\ \\Gamma_{ \\phantom{\\, t} \\, x \\, z }^{ \\, t \\phantom{\\, x} \\phantom{\\, z} } & = & \\frac{1}{2} \\, \\frac{\\partial\\,\\beta}{\\partial z} \\\\ \\Gamma_{ \\phantom{\\, x} \\, t \\, t }^{ \\, x \\phantom{\\, t} \\phantom{\\, t} } & = & {\\left(\\beta\\left(t, x, y, z\\right)^{3} - \\beta\\left(t, x, y, z\\right)\\right)} \\frac{\\partial\\,\\beta}{\\partial x} - \\frac{\\partial\\,\\beta}{\\partial t} \\\\ \\Gamma_{ \\phantom{\\, x} \\, t \\, x }^{ \\, x \\phantom{\\, t} \\phantom{\\, x} } & = & -\\beta\\left(t, x, y, z\\right)^{2} \\frac{\\partial\\,\\beta}{\\partial x} \\\\ \\Gamma_{ \\phantom{\\, x} \\, t \\, y }^{ \\, x \\phantom{\\, t} \\phantom{\\, y} } & = & -\\frac{1}{2} \\, {\\left(\\beta\\left(t, x, y, z\\right)^{2} + 1\\right)} \\frac{\\partial\\,\\beta}{\\partial y} \\\\ \\Gamma_{ \\phantom{\\, x} \\, t \\, z }^{ \\, x \\phantom{\\, t} \\phantom{\\, z} } & = & -\\frac{1}{2} \\, {\\left(\\beta\\left(t, x, y, z\\right)^{2} + 1\\right)} \\frac{\\partial\\,\\beta}{\\partial z} \\\\ \\Gamma_{ \\phantom{\\, x} \\, x \\, x }^{ \\, x \\phantom{\\, x} \\phantom{\\, x} } & = & \\beta\\left(t, x, y, z\\right) \\frac{\\partial\\,\\beta}{\\partial x} \\\\ \\Gamma_{ \\phantom{\\, x} \\, x \\, y }^{ \\, x \\phantom{\\, x} \\phantom{\\, y} } & = & \\frac{1}{2} \\, \\beta\\left(t, x, y, z\\right) \\frac{\\partial\\,\\beta}{\\partial y} \\\\ \\Gamma_{ \\phantom{\\, x} \\, x \\, z }^{ \\, x \\phantom{\\, x} \\phantom{\\, z} } & = & \\frac{1}{2} \\, \\beta\\left(t, x, y, z\\right) \\frac{\\partial\\,\\beta}{\\partial z} \\\\ \\Gamma_{ \\phantom{\\, y} \\, t \\, t }^{ \\, y \\phantom{\\, t} \\phantom{\\, t} } & = & -\\beta\\left(t, x, y, z\\right) \\frac{\\partial\\,\\beta}{\\partial y} \\\\ \\Gamma_{ \\phantom{\\, y} \\, t \\, x }^{ \\, y \\phantom{\\, t} \\phantom{\\, x} } & = & \\frac{1}{2} \\, \\frac{\\partial\\,\\beta}{\\partial y} \\\\ \\Gamma_{ \\phantom{\\, z} \\, t \\, t }^{ \\, z \\phantom{\\, t} \\phantom{\\, t} } & = & -\\beta\\left(t, x, y, z\\right) \\frac{\\partial\\,\\beta}{\\partial z} \\\\ \\Gamma_{ \\phantom{\\, z} \\, t \\, x }^{ \\, z \\phantom{\\, t} \\phantom{\\, x} } & = & \\frac{1}{2} \\, \\frac{\\partial\\,\\beta}{\\partial z} \\end{array}$$"
      ],
      "text/plain": [
       "Gam^t_tt = betax(t, x, y, z)^2*d(betax)/dx \n",
       "Gam^t_tx = -betax(t, x, y, z)*d(betax)/dx \n",
       "Gam^t_ty = -1/2*betax(t, x, y, z)*d(betax)/dy \n",
       "Gam^t_tz = -1/2*betax(t, x, y, z)*d(betax)/dz \n",
       "Gam^t_xx = d(betax)/dx \n",
       "Gam^t_xy = 1/2*d(betax)/dy \n",
       "Gam^t_xz = 1/2*d(betax)/dz \n",
       "Gam^x_tt = (betax(t, x, y, z)^3 - betax(t, x, y, z))*d(betax)/dx - d(betax)/dt \n",
       "Gam^x_tx = -betax(t, x, y, z)^2*d(betax)/dx \n",
       "Gam^x_ty = -1/2*(betax(t, x, y, z)^2 + 1)*d(betax)/dy \n",
       "Gam^x_tz = -1/2*(betax(t, x, y, z)^2 + 1)*d(betax)/dz \n",
       "Gam^x_xx = betax(t, x, y, z)*d(betax)/dx \n",
       "Gam^x_xy = 1/2*betax(t, x, y, z)*d(betax)/dy \n",
       "Gam^x_xz = 1/2*betax(t, x, y, z)*d(betax)/dz \n",
       "Gam^y_tt = -betax(t, x, y, z)*d(betax)/dy \n",
       "Gam^y_tx = 1/2*d(betax)/dy \n",
       "Gam^z_tt = -betax(t, x, y, z)*d(betax)/dz \n",
       "Gam^z_tx = 1/2*d(betax)/dz "
      ]
     },
     "execution_count": 5,
     "metadata": {},
     "output_type": "execute_result"
    }
   ],
   "source": [
    "g.christoffel_symbols_display()"
   ]
  },
  {
   "cell_type": "markdown",
   "metadata": {},
   "source": [
    "## 2.2. Ricci tensor"
   ]
  },
  {
   "cell_type": "code",
   "execution_count": 6,
   "metadata": {},
   "outputs": [
    {
     "data": {
      "text/html": [
       "<html><script type=\"math/tex; mode=display\">\\newcommand{\\Bold}[1]{\\mathbf{#1}}\\begin{array}{lcl} \\mathrm{Ric}\\left(g\\right)_{ \\, t \\, t }^{ \\phantom{\\, t}\\phantom{\\, t} } & = & {\\left(\\beta\\left(t, x, y, z\\right)^{2} - 1\\right)} \\left(\\frac{\\partial\\,\\beta}{\\partial x}\\right)^{2} - \\frac{1}{2} \\, {\\left(\\beta\\left(t, x, y, z\\right)^{2} + 1\\right)} \\left(\\frac{\\partial\\,\\beta}{\\partial y}\\right)^{2} - \\frac{1}{2} \\, {\\left(\\beta\\left(t, x, y, z\\right)^{2} + 1\\right)} \\left(\\frac{\\partial\\,\\beta}{\\partial z}\\right)^{2} + {\\left(\\beta\\left(t, x, y, z\\right)^{2} - 1\\right)} \\frac{\\partial^2\\,\\beta}{\\partial t\\partial x} + {\\left(\\beta\\left(t, x, y, z\\right)^{3} - \\beta\\left(t, x, y, z\\right)\\right)} \\frac{\\partial^2\\,\\beta}{\\partial x ^ 2} - \\beta\\left(t, x, y, z\\right) \\frac{\\partial^2\\,\\beta}{\\partial y ^ 2} - \\beta\\left(t, x, y, z\\right) \\frac{\\partial^2\\,\\beta}{\\partial z ^ 2} \\\\ \\mathrm{Ric}\\left(g\\right)_{ \\, t \\, x }^{ \\phantom{\\, t}\\phantom{\\, x} } & = & -\\beta\\left(t, x, y, z\\right) \\left(\\frac{\\partial\\,\\beta}{\\partial x}\\right)^{2} - \\beta\\left(t, x, y, z\\right)^{2} \\frac{\\partial^2\\,\\beta}{\\partial x ^ 2} + \\frac{1}{2} \\, \\beta\\left(t, x, y, z\\right) \\left(\\frac{\\partial\\,\\beta}{\\partial y}\\right)^{2} + \\frac{1}{2} \\, \\beta\\left(t, x, y, z\\right) \\left(\\frac{\\partial\\,\\beta}{\\partial z}\\right)^{2} - \\beta\\left(t, x, y, z\\right) \\frac{\\partial^2\\,\\beta}{\\partial t\\partial x} + \\frac{1}{2} \\, \\frac{\\partial^2\\,\\beta}{\\partial y ^ 2} + \\frac{1}{2} \\, \\frac{\\partial^2\\,\\beta}{\\partial z ^ 2} \\\\ \\mathrm{Ric}\\left(g\\right)_{ \\, t \\, y }^{ \\phantom{\\, t}\\phantom{\\, y} } & = & -\\beta\\left(t, x, y, z\\right) \\frac{\\partial\\,\\beta}{\\partial x} \\frac{\\partial\\,\\beta}{\\partial y} - \\frac{1}{2} \\, \\beta\\left(t, x, y, z\\right) \\frac{\\partial^2\\,\\beta}{\\partial t\\partial y} - \\frac{1}{2} \\, {\\left(\\beta\\left(t, x, y, z\\right)^{2} + 1\\right)} \\frac{\\partial^2\\,\\beta}{\\partial x\\partial y} \\\\ \\mathrm{Ric}\\left(g\\right)_{ \\, t \\, z }^{ \\phantom{\\, t}\\phantom{\\, z} } & = & -\\beta\\left(t, x, y, z\\right) \\frac{\\partial\\,\\beta}{\\partial x} \\frac{\\partial\\,\\beta}{\\partial z} - \\frac{1}{2} \\, \\beta\\left(t, x, y, z\\right) \\frac{\\partial^2\\,\\beta}{\\partial t\\partial z} - \\frac{1}{2} \\, {\\left(\\beta\\left(t, x, y, z\\right)^{2} + 1\\right)} \\frac{\\partial^2\\,\\beta}{\\partial x\\partial z} \\\\ \\mathrm{Ric}\\left(g\\right)_{ \\, x \\, x }^{ \\phantom{\\, x}\\phantom{\\, x} } & = & \\left(\\frac{\\partial\\,\\beta}{\\partial x}\\right)^{2} + \\beta\\left(t, x, y, z\\right) \\frac{\\partial^2\\,\\beta}{\\partial x ^ 2} - \\frac{1}{2} \\, \\left(\\frac{\\partial\\,\\beta}{\\partial y}\\right)^{2} - \\frac{1}{2} \\, \\left(\\frac{\\partial\\,\\beta}{\\partial z}\\right)^{2} + \\frac{\\partial^2\\,\\beta}{\\partial t\\partial x} \\\\ \\mathrm{Ric}\\left(g\\right)_{ \\, x \\, y }^{ \\phantom{\\, x}\\phantom{\\, y} } & = & \\frac{1}{2} \\, \\beta\\left(t, x, y, z\\right) \\frac{\\partial^2\\,\\beta}{\\partial x\\partial y} + \\frac{\\partial\\,\\beta}{\\partial x} \\frac{\\partial\\,\\beta}{\\partial y} + \\frac{1}{2} \\, \\frac{\\partial^2\\,\\beta}{\\partial t\\partial y} \\\\ \\mathrm{Ric}\\left(g\\right)_{ \\, x \\, z }^{ \\phantom{\\, x}\\phantom{\\, z} } & = & \\frac{1}{2} \\, \\beta\\left(t, x, y, z\\right) \\frac{\\partial^2\\,\\beta}{\\partial x\\partial z} + \\frac{\\partial\\,\\beta}{\\partial x} \\frac{\\partial\\,\\beta}{\\partial z} + \\frac{1}{2} \\, \\frac{\\partial^2\\,\\beta}{\\partial t\\partial z} \\\\ \\mathrm{Ric}\\left(g\\right)_{ \\, y \\, y }^{ \\phantom{\\, y}\\phantom{\\, y} } & = & \\frac{1}{2} \\, \\left(\\frac{\\partial\\,\\beta}{\\partial y}\\right)^{2} \\\\ \\mathrm{Ric}\\left(g\\right)_{ \\, y \\, z }^{ \\phantom{\\, y}\\phantom{\\, z} } & = & \\frac{1}{2} \\, \\frac{\\partial\\,\\beta}{\\partial y} \\frac{\\partial\\,\\beta}{\\partial z} \\\\ \\mathrm{Ric}\\left(g\\right)_{ \\, z \\, z }^{ \\phantom{\\, z}\\phantom{\\, z} } & = & \\frac{1}{2} \\, \\left(\\frac{\\partial\\,\\beta}{\\partial z}\\right)^{2} \\end{array}</script></html>"
      ],
      "text/latex": [
       "$$\\newcommand{\\Bold}[1]{\\mathbf{#1}}\\begin{array}{lcl} \\mathrm{Ric}\\left(g\\right)_{ \\, t \\, t }^{ \\phantom{\\, t}\\phantom{\\, t} } & = & {\\left(\\beta\\left(t, x, y, z\\right)^{2} - 1\\right)} \\left(\\frac{\\partial\\,\\beta}{\\partial x}\\right)^{2} - \\frac{1}{2} \\, {\\left(\\beta\\left(t, x, y, z\\right)^{2} + 1\\right)} \\left(\\frac{\\partial\\,\\beta}{\\partial y}\\right)^{2} - \\frac{1}{2} \\, {\\left(\\beta\\left(t, x, y, z\\right)^{2} + 1\\right)} \\left(\\frac{\\partial\\,\\beta}{\\partial z}\\right)^{2} + {\\left(\\beta\\left(t, x, y, z\\right)^{2} - 1\\right)} \\frac{\\partial^2\\,\\beta}{\\partial t\\partial x} + {\\left(\\beta\\left(t, x, y, z\\right)^{3} - \\beta\\left(t, x, y, z\\right)\\right)} \\frac{\\partial^2\\,\\beta}{\\partial x ^ 2} - \\beta\\left(t, x, y, z\\right) \\frac{\\partial^2\\,\\beta}{\\partial y ^ 2} - \\beta\\left(t, x, y, z\\right) \\frac{\\partial^2\\,\\beta}{\\partial z ^ 2} \\\\ \\mathrm{Ric}\\left(g\\right)_{ \\, t \\, x }^{ \\phantom{\\, t}\\phantom{\\, x} } & = & -\\beta\\left(t, x, y, z\\right) \\left(\\frac{\\partial\\,\\beta}{\\partial x}\\right)^{2} - \\beta\\left(t, x, y, z\\right)^{2} \\frac{\\partial^2\\,\\beta}{\\partial x ^ 2} + \\frac{1}{2} \\, \\beta\\left(t, x, y, z\\right) \\left(\\frac{\\partial\\,\\beta}{\\partial y}\\right)^{2} + \\frac{1}{2} \\, \\beta\\left(t, x, y, z\\right) \\left(\\frac{\\partial\\,\\beta}{\\partial z}\\right)^{2} - \\beta\\left(t, x, y, z\\right) \\frac{\\partial^2\\,\\beta}{\\partial t\\partial x} + \\frac{1}{2} \\, \\frac{\\partial^2\\,\\beta}{\\partial y ^ 2} + \\frac{1}{2} \\, \\frac{\\partial^2\\,\\beta}{\\partial z ^ 2} \\\\ \\mathrm{Ric}\\left(g\\right)_{ \\, t \\, y }^{ \\phantom{\\, t}\\phantom{\\, y} } & = & -\\beta\\left(t, x, y, z\\right) \\frac{\\partial\\,\\beta}{\\partial x} \\frac{\\partial\\,\\beta}{\\partial y} - \\frac{1}{2} \\, \\beta\\left(t, x, y, z\\right) \\frac{\\partial^2\\,\\beta}{\\partial t\\partial y} - \\frac{1}{2} \\, {\\left(\\beta\\left(t, x, y, z\\right)^{2} + 1\\right)} \\frac{\\partial^2\\,\\beta}{\\partial x\\partial y} \\\\ \\mathrm{Ric}\\left(g\\right)_{ \\, t \\, z }^{ \\phantom{\\, t}\\phantom{\\, z} } & = & -\\beta\\left(t, x, y, z\\right) \\frac{\\partial\\,\\beta}{\\partial x} \\frac{\\partial\\,\\beta}{\\partial z} - \\frac{1}{2} \\, \\beta\\left(t, x, y, z\\right) \\frac{\\partial^2\\,\\beta}{\\partial t\\partial z} - \\frac{1}{2} \\, {\\left(\\beta\\left(t, x, y, z\\right)^{2} + 1\\right)} \\frac{\\partial^2\\,\\beta}{\\partial x\\partial z} \\\\ \\mathrm{Ric}\\left(g\\right)_{ \\, x \\, x }^{ \\phantom{\\, x}\\phantom{\\, x} } & = & \\left(\\frac{\\partial\\,\\beta}{\\partial x}\\right)^{2} + \\beta\\left(t, x, y, z\\right) \\frac{\\partial^2\\,\\beta}{\\partial x ^ 2} - \\frac{1}{2} \\, \\left(\\frac{\\partial\\,\\beta}{\\partial y}\\right)^{2} - \\frac{1}{2} \\, \\left(\\frac{\\partial\\,\\beta}{\\partial z}\\right)^{2} + \\frac{\\partial^2\\,\\beta}{\\partial t\\partial x} \\\\ \\mathrm{Ric}\\left(g\\right)_{ \\, x \\, y }^{ \\phantom{\\, x}\\phantom{\\, y} } & = & \\frac{1}{2} \\, \\beta\\left(t, x, y, z\\right) \\frac{\\partial^2\\,\\beta}{\\partial x\\partial y} + \\frac{\\partial\\,\\beta}{\\partial x} \\frac{\\partial\\,\\beta}{\\partial y} + \\frac{1}{2} \\, \\frac{\\partial^2\\,\\beta}{\\partial t\\partial y} \\\\ \\mathrm{Ric}\\left(g\\right)_{ \\, x \\, z }^{ \\phantom{\\, x}\\phantom{\\, z} } & = & \\frac{1}{2} \\, \\beta\\left(t, x, y, z\\right) \\frac{\\partial^2\\,\\beta}{\\partial x\\partial z} + \\frac{\\partial\\,\\beta}{\\partial x} \\frac{\\partial\\,\\beta}{\\partial z} + \\frac{1}{2} \\, \\frac{\\partial^2\\,\\beta}{\\partial t\\partial z} \\\\ \\mathrm{Ric}\\left(g\\right)_{ \\, y \\, y }^{ \\phantom{\\, y}\\phantom{\\, y} } & = & \\frac{1}{2} \\, \\left(\\frac{\\partial\\,\\beta}{\\partial y}\\right)^{2} \\\\ \\mathrm{Ric}\\left(g\\right)_{ \\, y \\, z }^{ \\phantom{\\, y}\\phantom{\\, z} } & = & \\frac{1}{2} \\, \\frac{\\partial\\,\\beta}{\\partial y} \\frac{\\partial\\,\\beta}{\\partial z} \\\\ \\mathrm{Ric}\\left(g\\right)_{ \\, z \\, z }^{ \\phantom{\\, z}\\phantom{\\, z} } & = & \\frac{1}{2} \\, \\left(\\frac{\\partial\\,\\beta}{\\partial z}\\right)^{2} \\end{array}$$"
      ],
      "text/plain": [
       "Ric(g)_tt = (betax(t, x, y, z)^2 - 1)*(d(betax)/dx)^2 - 1/2*(betax(t, x, y, z)^2 + 1)*(d(betax)/dy)^2 - 1/2*(betax(t, x, y, z)^2 + 1)*(d(betax)/dz)^2 + (betax(t, x, y, z)^2 - 1)*d^2(betax)/dtdx + (betax(t, x, y, z)^3 - betax(t, x, y, z))*d^2(betax)/dx^2 - betax(t, x, y, z)*d^2(betax)/dy^2 - betax(t, x, y, z)*d^2(betax)/dz^2 \n",
       "Ric(g)_tx = -betax(t, x, y, z)*(d(betax)/dx)^2 - betax(t, x, y, z)^2*d^2(betax)/dx^2 + 1/2*betax(t, x, y, z)*(d(betax)/dy)^2 + 1/2*betax(t, x, y, z)*(d(betax)/dz)^2 - betax(t, x, y, z)*d^2(betax)/dtdx + 1/2*d^2(betax)/dy^2 + 1/2*d^2(betax)/dz^2 \n",
       "Ric(g)_ty = -betax(t, x, y, z)*d(betax)/dx*d(betax)/dy - 1/2*betax(t, x, y, z)*d^2(betax)/dtdy - 1/2*(betax(t, x, y, z)^2 + 1)*d^2(betax)/dxdy \n",
       "Ric(g)_tz = -betax(t, x, y, z)*d(betax)/dx*d(betax)/dz - 1/2*betax(t, x, y, z)*d^2(betax)/dtdz - 1/2*(betax(t, x, y, z)^2 + 1)*d^2(betax)/dxdz \n",
       "Ric(g)_xx = (d(betax)/dx)^2 + betax(t, x, y, z)*d^2(betax)/dx^2 - 1/2*(d(betax)/dy)^2 - 1/2*(d(betax)/dz)^2 + d^2(betax)/dtdx \n",
       "Ric(g)_xy = 1/2*betax(t, x, y, z)*d^2(betax)/dxdy + d(betax)/dx*d(betax)/dy + 1/2*d^2(betax)/dtdy \n",
       "Ric(g)_xz = 1/2*betax(t, x, y, z)*d^2(betax)/dxdz + d(betax)/dx*d(betax)/dz + 1/2*d^2(betax)/dtdz \n",
       "Ric(g)_yy = 1/2*(d(betax)/dy)^2 \n",
       "Ric(g)_yz = 1/2*d(betax)/dy*d(betax)/dz \n",
       "Ric(g)_zz = 1/2*(d(betax)/dz)^2 "
      ]
     },
     "execution_count": 6,
     "metadata": {},
     "output_type": "execute_result"
    },
    {
     "data": {
      "text/html": [
       "<html><script type=\"math/tex; mode=display\">\\newcommand{\\Bold}[1]{\\mathbf{#1}}\\begin{array}{lcl} \\mathrm{Ric}\\left(g\\right)_{ \\, t \\, t }^{ \\phantom{\\, t}\\phantom{\\, t} } & = & {\\left(\\beta\\left(t, x, y, z\\right)^{2} - 1\\right)} \\left(\\frac{\\partial\\,\\beta}{\\partial x}\\right)^{2} - \\frac{1}{2} \\, {\\left(\\beta\\left(t, x, y, z\\right)^{2} + 1\\right)} \\left(\\frac{\\partial\\,\\beta}{\\partial y}\\right)^{2} - \\frac{1}{2} \\, {\\left(\\beta\\left(t, x, y, z\\right)^{2} + 1\\right)} \\left(\\frac{\\partial\\,\\beta}{\\partial z}\\right)^{2} + {\\left(\\beta\\left(t, x, y, z\\right)^{2} - 1\\right)} \\frac{\\partial^2\\,\\beta}{\\partial t\\partial x} + {\\left(\\beta\\left(t, x, y, z\\right)^{3} - \\beta\\left(t, x, y, z\\right)\\right)} \\frac{\\partial^2\\,\\beta}{\\partial x ^ 2} - \\beta\\left(t, x, y, z\\right) \\frac{\\partial^2\\,\\beta}{\\partial y ^ 2} - \\beta\\left(t, x, y, z\\right) \\frac{\\partial^2\\,\\beta}{\\partial z ^ 2} \\\\ \\mathrm{Ric}\\left(g\\right)_{ \\, t \\, x }^{ \\phantom{\\, t}\\phantom{\\, x} } & = & -\\beta\\left(t, x, y, z\\right) \\left(\\frac{\\partial\\,\\beta}{\\partial x}\\right)^{2} - \\beta\\left(t, x, y, z\\right)^{2} \\frac{\\partial^2\\,\\beta}{\\partial x ^ 2} + \\frac{1}{2} \\, \\beta\\left(t, x, y, z\\right) \\left(\\frac{\\partial\\,\\beta}{\\partial y}\\right)^{2} + \\frac{1}{2} \\, \\beta\\left(t, x, y, z\\right) \\left(\\frac{\\partial\\,\\beta}{\\partial z}\\right)^{2} - \\beta\\left(t, x, y, z\\right) \\frac{\\partial^2\\,\\beta}{\\partial t\\partial x} + \\frac{1}{2} \\, \\frac{\\partial^2\\,\\beta}{\\partial y ^ 2} + \\frac{1}{2} \\, \\frac{\\partial^2\\,\\beta}{\\partial z ^ 2} \\\\ \\mathrm{Ric}\\left(g\\right)_{ \\, t \\, y }^{ \\phantom{\\, t}\\phantom{\\, y} } & = & -\\beta\\left(t, x, y, z\\right) \\frac{\\partial\\,\\beta}{\\partial x} \\frac{\\partial\\,\\beta}{\\partial y} - \\frac{1}{2} \\, \\beta\\left(t, x, y, z\\right) \\frac{\\partial^2\\,\\beta}{\\partial t\\partial y} - \\frac{1}{2} \\, {\\left(\\beta\\left(t, x, y, z\\right)^{2} + 1\\right)} \\frac{\\partial^2\\,\\beta}{\\partial x\\partial y} \\\\ \\mathrm{Ric}\\left(g\\right)_{ \\, t \\, z }^{ \\phantom{\\, t}\\phantom{\\, z} } & = & -\\beta\\left(t, x, y, z\\right) \\frac{\\partial\\,\\beta}{\\partial x} \\frac{\\partial\\,\\beta}{\\partial z} - \\frac{1}{2} \\, \\beta\\left(t, x, y, z\\right) \\frac{\\partial^2\\,\\beta}{\\partial t\\partial z} - \\frac{1}{2} \\, {\\left(\\beta\\left(t, x, y, z\\right)^{2} + 1\\right)} \\frac{\\partial^2\\,\\beta}{\\partial x\\partial z} \\\\ \\mathrm{Ric}\\left(g\\right)_{ \\, x \\, x }^{ \\phantom{\\, x}\\phantom{\\, x} } & = & \\left(\\frac{\\partial\\,\\beta}{\\partial x}\\right)^{2} + \\beta\\left(t, x, y, z\\right) \\frac{\\partial^2\\,\\beta}{\\partial x ^ 2} - \\frac{1}{2} \\, \\left(\\frac{\\partial\\,\\beta}{\\partial y}\\right)^{2} - \\frac{1}{2} \\, \\left(\\frac{\\partial\\,\\beta}{\\partial z}\\right)^{2} + \\frac{\\partial^2\\,\\beta}{\\partial t\\partial x} \\\\ \\mathrm{Ric}\\left(g\\right)_{ \\, x \\, y }^{ \\phantom{\\, x}\\phantom{\\, y} } & = & \\frac{1}{2} \\, \\beta\\left(t, x, y, z\\right) \\frac{\\partial^2\\,\\beta}{\\partial x\\partial y} + \\frac{\\partial\\,\\beta}{\\partial x} \\frac{\\partial\\,\\beta}{\\partial y} + \\frac{1}{2} \\, \\frac{\\partial^2\\,\\beta}{\\partial t\\partial y} \\\\ \\mathrm{Ric}\\left(g\\right)_{ \\, x \\, z }^{ \\phantom{\\, x}\\phantom{\\, z} } & = & \\frac{1}{2} \\, \\beta\\left(t, x, y, z\\right) \\frac{\\partial^2\\,\\beta}{\\partial x\\partial z} + \\frac{\\partial\\,\\beta}{\\partial x} \\frac{\\partial\\,\\beta}{\\partial z} + \\frac{1}{2} \\, \\frac{\\partial^2\\,\\beta}{\\partial t\\partial z} \\\\ \\mathrm{Ric}\\left(g\\right)_{ \\, y \\, y }^{ \\phantom{\\, y}\\phantom{\\, y} } & = & \\frac{1}{2} \\, \\left(\\frac{\\partial\\,\\beta}{\\partial y}\\right)^{2} \\\\ \\mathrm{Ric}\\left(g\\right)_{ \\, y \\, z }^{ \\phantom{\\, y}\\phantom{\\, z} } & = & \\frac{1}{2} \\, \\frac{\\partial\\,\\beta}{\\partial y} \\frac{\\partial\\,\\beta}{\\partial z} \\\\ \\mathrm{Ric}\\left(g\\right)_{ \\, z \\, z }^{ \\phantom{\\, z}\\phantom{\\, z} } & = & \\frac{1}{2} \\, \\left(\\frac{\\partial\\,\\beta}{\\partial z}\\right)^{2} \\end{array}</script></html>"
      ],
      "text/latex": [
       "$$\\newcommand{\\Bold}[1]{\\mathbf{#1}}\\begin{array}{lcl} \\mathrm{Ric}\\left(g\\right)_{ \\, t \\, t }^{ \\phantom{\\, t}\\phantom{\\, t} } & = & {\\left(\\beta\\left(t, x, y, z\\right)^{2} - 1\\right)} \\left(\\frac{\\partial\\,\\beta}{\\partial x}\\right)^{2} - \\frac{1}{2} \\, {\\left(\\beta\\left(t, x, y, z\\right)^{2} + 1\\right)} \\left(\\frac{\\partial\\,\\beta}{\\partial y}\\right)^{2} - \\frac{1}{2} \\, {\\left(\\beta\\left(t, x, y, z\\right)^{2} + 1\\right)} \\left(\\frac{\\partial\\,\\beta}{\\partial z}\\right)^{2} + {\\left(\\beta\\left(t, x, y, z\\right)^{2} - 1\\right)} \\frac{\\partial^2\\,\\beta}{\\partial t\\partial x} + {\\left(\\beta\\left(t, x, y, z\\right)^{3} - \\beta\\left(t, x, y, z\\right)\\right)} \\frac{\\partial^2\\,\\beta}{\\partial x ^ 2} - \\beta\\left(t, x, y, z\\right) \\frac{\\partial^2\\,\\beta}{\\partial y ^ 2} - \\beta\\left(t, x, y, z\\right) \\frac{\\partial^2\\,\\beta}{\\partial z ^ 2} \\\\ \\mathrm{Ric}\\left(g\\right)_{ \\, t \\, x }^{ \\phantom{\\, t}\\phantom{\\, x} } & = & -\\beta\\left(t, x, y, z\\right) \\left(\\frac{\\partial\\,\\beta}{\\partial x}\\right)^{2} - \\beta\\left(t, x, y, z\\right)^{2} \\frac{\\partial^2\\,\\beta}{\\partial x ^ 2} + \\frac{1}{2} \\, \\beta\\left(t, x, y, z\\right) \\left(\\frac{\\partial\\,\\beta}{\\partial y}\\right)^{2} + \\frac{1}{2} \\, \\beta\\left(t, x, y, z\\right) \\left(\\frac{\\partial\\,\\beta}{\\partial z}\\right)^{2} - \\beta\\left(t, x, y, z\\right) \\frac{\\partial^2\\,\\beta}{\\partial t\\partial x} + \\frac{1}{2} \\, \\frac{\\partial^2\\,\\beta}{\\partial y ^ 2} + \\frac{1}{2} \\, \\frac{\\partial^2\\,\\beta}{\\partial z ^ 2} \\\\ \\mathrm{Ric}\\left(g\\right)_{ \\, t \\, y }^{ \\phantom{\\, t}\\phantom{\\, y} } & = & -\\beta\\left(t, x, y, z\\right) \\frac{\\partial\\,\\beta}{\\partial x} \\frac{\\partial\\,\\beta}{\\partial y} - \\frac{1}{2} \\, \\beta\\left(t, x, y, z\\right) \\frac{\\partial^2\\,\\beta}{\\partial t\\partial y} - \\frac{1}{2} \\, {\\left(\\beta\\left(t, x, y, z\\right)^{2} + 1\\right)} \\frac{\\partial^2\\,\\beta}{\\partial x\\partial y} \\\\ \\mathrm{Ric}\\left(g\\right)_{ \\, t \\, z }^{ \\phantom{\\, t}\\phantom{\\, z} } & = & -\\beta\\left(t, x, y, z\\right) \\frac{\\partial\\,\\beta}{\\partial x} \\frac{\\partial\\,\\beta}{\\partial z} - \\frac{1}{2} \\, \\beta\\left(t, x, y, z\\right) \\frac{\\partial^2\\,\\beta}{\\partial t\\partial z} - \\frac{1}{2} \\, {\\left(\\beta\\left(t, x, y, z\\right)^{2} + 1\\right)} \\frac{\\partial^2\\,\\beta}{\\partial x\\partial z} \\\\ \\mathrm{Ric}\\left(g\\right)_{ \\, x \\, x }^{ \\phantom{\\, x}\\phantom{\\, x} } & = & \\left(\\frac{\\partial\\,\\beta}{\\partial x}\\right)^{2} + \\beta\\left(t, x, y, z\\right) \\frac{\\partial^2\\,\\beta}{\\partial x ^ 2} - \\frac{1}{2} \\, \\left(\\frac{\\partial\\,\\beta}{\\partial y}\\right)^{2} - \\frac{1}{2} \\, \\left(\\frac{\\partial\\,\\beta}{\\partial z}\\right)^{2} + \\frac{\\partial^2\\,\\beta}{\\partial t\\partial x} \\\\ \\mathrm{Ric}\\left(g\\right)_{ \\, x \\, y }^{ \\phantom{\\, x}\\phantom{\\, y} } & = & \\frac{1}{2} \\, \\beta\\left(t, x, y, z\\right) \\frac{\\partial^2\\,\\beta}{\\partial x\\partial y} + \\frac{\\partial\\,\\beta}{\\partial x} \\frac{\\partial\\,\\beta}{\\partial y} + \\frac{1}{2} \\, \\frac{\\partial^2\\,\\beta}{\\partial t\\partial y} \\\\ \\mathrm{Ric}\\left(g\\right)_{ \\, x \\, z }^{ \\phantom{\\, x}\\phantom{\\, z} } & = & \\frac{1}{2} \\, \\beta\\left(t, x, y, z\\right) \\frac{\\partial^2\\,\\beta}{\\partial x\\partial z} + \\frac{\\partial\\,\\beta}{\\partial x} \\frac{\\partial\\,\\beta}{\\partial z} + \\frac{1}{2} \\, \\frac{\\partial^2\\,\\beta}{\\partial t\\partial z} \\\\ \\mathrm{Ric}\\left(g\\right)_{ \\, y \\, y }^{ \\phantom{\\, y}\\phantom{\\, y} } & = & \\frac{1}{2} \\, \\left(\\frac{\\partial\\,\\beta}{\\partial y}\\right)^{2} \\\\ \\mathrm{Ric}\\left(g\\right)_{ \\, y \\, z }^{ \\phantom{\\, y}\\phantom{\\, z} } & = & \\frac{1}{2} \\, \\frac{\\partial\\,\\beta}{\\partial y} \\frac{\\partial\\,\\beta}{\\partial z} \\\\ \\mathrm{Ric}\\left(g\\right)_{ \\, z \\, z }^{ \\phantom{\\, z}\\phantom{\\, z} } & = & \\frac{1}{2} \\, \\left(\\frac{\\partial\\,\\beta}{\\partial z}\\right)^{2} \\end{array}$$"
      ],
      "text/plain": [
       "Ric(g)_tt = (betax(t, x, y, z)^2 - 1)*(d(betax)/dx)^2 - 1/2*(betax(t, x, y, z)^2 + 1)*(d(betax)/dy)^2 - 1/2*(betax(t, x, y, z)^2 + 1)*(d(betax)/dz)^2 + (betax(t, x, y, z)^2 - 1)*d^2(betax)/dtdx + (betax(t, x, y, z)^3 - betax(t, x, y, z))*d^2(betax)/dx^2 - betax(t, x, y, z)*d^2(betax)/dy^2 - betax(t, x, y, z)*d^2(betax)/dz^2 \n",
       "Ric(g)_tx = -betax(t, x, y, z)*(d(betax)/dx)^2 - betax(t, x, y, z)^2*d^2(betax)/dx^2 + 1/2*betax(t, x, y, z)*(d(betax)/dy)^2 + 1/2*betax(t, x, y, z)*(d(betax)/dz)^2 - betax(t, x, y, z)*d^2(betax)/dtdx + 1/2*d^2(betax)/dy^2 + 1/2*d^2(betax)/dz^2 \n",
       "Ric(g)_ty = -betax(t, x, y, z)*d(betax)/dx*d(betax)/dy - 1/2*betax(t, x, y, z)*d^2(betax)/dtdy - 1/2*(betax(t, x, y, z)^2 + 1)*d^2(betax)/dxdy \n",
       "Ric(g)_tz = -betax(t, x, y, z)*d(betax)/dx*d(betax)/dz - 1/2*betax(t, x, y, z)*d^2(betax)/dtdz - 1/2*(betax(t, x, y, z)^2 + 1)*d^2(betax)/dxdz \n",
       "Ric(g)_xx = (d(betax)/dx)^2 + betax(t, x, y, z)*d^2(betax)/dx^2 - 1/2*(d(betax)/dy)^2 - 1/2*(d(betax)/dz)^2 + d^2(betax)/dtdx \n",
       "Ric(g)_xy = 1/2*betax(t, x, y, z)*d^2(betax)/dxdy + d(betax)/dx*d(betax)/dy + 1/2*d^2(betax)/dtdy \n",
       "Ric(g)_xz = 1/2*betax(t, x, y, z)*d^2(betax)/dxdz + d(betax)/dx*d(betax)/dz + 1/2*d^2(betax)/dtdz \n",
       "Ric(g)_yy = 1/2*(d(betax)/dy)^2 \n",
       "Ric(g)_yz = 1/2*d(betax)/dy*d(betax)/dz \n",
       "Ric(g)_zz = 1/2*(d(betax)/dz)^2 "
      ]
     },
     "execution_count": 6,
     "metadata": {},
     "output_type": "execute_result"
    }
   ],
   "source": [
    "Ric = g.ricci()\n",
    "Ric.display_comp(only_nonredundant=True)"
   ]
  },
  {
   "cell_type": "code",
   "execution_count": 7,
   "metadata": {},
   "outputs": [
    {
     "data": {
      "text/html": [
       "\\left(t, x, y, z\\right) \\mapsto \\frac{1}{2} \\, \\left(\\frac{\\partial\\,\\beta}{\\partial z}\\right)^{2}"
      ],
      "text/plain": [
       "\\left(t, x, y, z\\right) \\mapsto \\frac{1}{2} \\, \\left(\\frac{\\partial\\,\\beta}{\\partial z}\\right)^{2}"
      ]
     },
     "execution_count": 7,
     "metadata": {},
     "output_type": "execute_result"
    },
    {
     "data": {
      "text/html": [
       "\\left(t, x, y, z\\right) \\mapsto \\frac{1}{2} \\, \\left(\\frac{\\partial\\,\\beta}{\\partial z}\\right)^{2}"
      ],
      "text/plain": [
       "\\left(t, x, y, z\\right) \\mapsto \\frac{1}{2} \\, \\left(\\frac{\\partial\\,\\beta}{\\partial z}\\right)^{2}"
      ]
     },
     "execution_count": 7,
     "metadata": {},
     "output_type": "execute_result"
    }
   ],
   "source": [
    "latex(Ric[3,3].display())"
   ]
  },
  {
   "cell_type": "markdown",
   "metadata": {},
   "source": [
    "## 2.3. Ricci Scalar"
   ]
  },
  {
   "cell_type": "code",
   "execution_count": 8,
   "metadata": {},
   "outputs": [
    {
     "data": {
      "text/html": [
       "<html><script type=\"math/tex; mode=display\">\\newcommand{\\Bold}[1]{\\mathbf{#1}}\\begin{array}{llcl} \\mathrm{r}\\left(g\\right):& M & \\longrightarrow & \\mathbb{R} \\\\ & \\left(t, x, y, z\\right) & \\longmapsto & 2 \\, \\left(\\frac{\\partial\\,\\beta}{\\partial x}\\right)^{2} + 2 \\, \\beta\\left(t, x, y, z\\right) \\frac{\\partial^2\\,\\beta}{\\partial x ^ 2} + \\frac{1}{2} \\, \\left(\\frac{\\partial\\,\\beta}{\\partial y}\\right)^{2} + \\frac{1}{2} \\, \\left(\\frac{\\partial\\,\\beta}{\\partial z}\\right)^{2} + 2 \\, \\frac{\\partial^2\\,\\beta}{\\partial t\\partial x} \\end{array}</script></html>"
      ],
      "text/latex": [
       "$$\\newcommand{\\Bold}[1]{\\mathbf{#1}}\\begin{array}{llcl} \\mathrm{r}\\left(g\\right):& M & \\longrightarrow & \\mathbb{R} \\\\ & \\left(t, x, y, z\\right) & \\longmapsto & 2 \\, \\left(\\frac{\\partial\\,\\beta}{\\partial x}\\right)^{2} + 2 \\, \\beta\\left(t, x, y, z\\right) \\frac{\\partial^2\\,\\beta}{\\partial x ^ 2} + \\frac{1}{2} \\, \\left(\\frac{\\partial\\,\\beta}{\\partial y}\\right)^{2} + \\frac{1}{2} \\, \\left(\\frac{\\partial\\,\\beta}{\\partial z}\\right)^{2} + 2 \\, \\frac{\\partial^2\\,\\beta}{\\partial t\\partial x} \\end{array}$$"
      ],
      "text/plain": [
       "r(g): M --> R\n",
       "   (t, x, y, z) |--> 2*(d(betax)/dx)^2 + 2*betax(t, x, y, z)*d^2(betax)/dx^2 + 1/2*(d(betax)/dy)^2 + 1/2*(d(betax)/dz)^2 + 2*d^2(betax)/dtdx"
      ]
     },
     "execution_count": 8,
     "metadata": {},
     "output_type": "execute_result"
    },
    {
     "data": {
      "text/html": [
       "<html><script type=\"math/tex; mode=display\">\\newcommand{\\Bold}[1]{\\mathbf{#1}}\\begin{array}{llcl} \\mathrm{r}\\left(g\\right):& M & \\longrightarrow & \\mathbb{R} \\\\ & \\left(t, x, y, z\\right) & \\longmapsto & 2 \\, \\left(\\frac{\\partial\\,\\beta}{\\partial x}\\right)^{2} + 2 \\, \\beta\\left(t, x, y, z\\right) \\frac{\\partial^2\\,\\beta}{\\partial x ^ 2} + \\frac{1}{2} \\, \\left(\\frac{\\partial\\,\\beta}{\\partial y}\\right)^{2} + \\frac{1}{2} \\, \\left(\\frac{\\partial\\,\\beta}{\\partial z}\\right)^{2} + 2 \\, \\frac{\\partial^2\\,\\beta}{\\partial t\\partial x} \\end{array}</script></html>"
      ],
      "text/latex": [
       "$$\\newcommand{\\Bold}[1]{\\mathbf{#1}}\\begin{array}{llcl} \\mathrm{r}\\left(g\\right):& M & \\longrightarrow & \\mathbb{R} \\\\ & \\left(t, x, y, z\\right) & \\longmapsto & 2 \\, \\left(\\frac{\\partial\\,\\beta}{\\partial x}\\right)^{2} + 2 \\, \\beta\\left(t, x, y, z\\right) \\frac{\\partial^2\\,\\beta}{\\partial x ^ 2} + \\frac{1}{2} \\, \\left(\\frac{\\partial\\,\\beta}{\\partial y}\\right)^{2} + \\frac{1}{2} \\, \\left(\\frac{\\partial\\,\\beta}{\\partial z}\\right)^{2} + 2 \\, \\frac{\\partial^2\\,\\beta}{\\partial t\\partial x} \\end{array}$$"
      ],
      "text/plain": [
       "r(g): M --> R\n",
       "   (t, x, y, z) |--> 2*(d(betax)/dx)^2 + 2*betax(t, x, y, z)*d^2(betax)/dx^2 + 1/2*(d(betax)/dy)^2 + 1/2*(d(betax)/dz)^2 + 2*d^2(betax)/dtdx"
      ]
     },
     "execution_count": 8,
     "metadata": {},
     "output_type": "execute_result"
    }
   ],
   "source": [
    "ricscalar = g.ricci_scalar()\n",
    "ricscalar.display()"
   ]
  },
  {
   "cell_type": "markdown",
   "metadata": {},
   "source": [
    "## Riemann tensor"
   ]
  },
  {
   "cell_type": "code",
   "execution_count": 9,
   "metadata": {},
   "outputs": [
    {
     "data": {
      "text/html": [
       "<html><script type=\"math/tex; mode=display\">\\newcommand{\\Bold}[1]{\\mathbf{#1}}\\begin{array}{lcl} \\mathrm{Riem}\\left(g\\right)_{ \\phantom{\\, t} \\, t \\, t \\, x }^{ \\, t \\phantom{\\, t} \\phantom{\\, t} \\phantom{\\, x} } & = & -\\beta\\left(t, x, y, z\\right) \\left(\\frac{\\partial\\,\\beta}{\\partial x}\\right)^{2} - \\beta\\left(t, x, y, z\\right)^{2} \\frac{\\partial^2\\,\\beta}{\\partial x ^ 2} + \\frac{1}{4} \\, \\beta\\left(t, x, y, z\\right) \\left(\\frac{\\partial\\,\\beta}{\\partial y}\\right)^{2} + \\frac{1}{4} \\, \\beta\\left(t, x, y, z\\right) \\left(\\frac{\\partial\\,\\beta}{\\partial z}\\right)^{2} - \\beta\\left(t, x, y, z\\right) \\frac{\\partial^2\\,\\beta}{\\partial t\\partial x} \\\\ \\mathrm{Riem}\\left(g\\right)_{ \\phantom{\\, t} \\, t \\, t \\, y }^{ \\, t \\phantom{\\, t} \\phantom{\\, t} \\phantom{\\, y} } & = & -\\beta\\left(t, x, y, z\\right)^{2} \\frac{\\partial^2\\,\\beta}{\\partial x\\partial y} - \\beta\\left(t, x, y, z\\right) \\frac{\\partial\\,\\beta}{\\partial x} \\frac{\\partial\\,\\beta}{\\partial y} - \\frac{1}{2} \\, \\beta\\left(t, x, y, z\\right) \\frac{\\partial^2\\,\\beta}{\\partial t\\partial y} \\\\ \\mathrm{Riem}\\left(g\\right)_{ \\phantom{\\, t} \\, t \\, t \\, z }^{ \\, t \\phantom{\\, t} \\phantom{\\, t} \\phantom{\\, z} } & = & -\\beta\\left(t, x, y, z\\right)^{2} \\frac{\\partial^2\\,\\beta}{\\partial x\\partial z} - \\beta\\left(t, x, y, z\\right) \\frac{\\partial\\,\\beta}{\\partial x} \\frac{\\partial\\,\\beta}{\\partial z} - \\frac{1}{2} \\, \\beta\\left(t, x, y, z\\right) \\frac{\\partial^2\\,\\beta}{\\partial t\\partial z} \\\\ \\mathrm{Riem}\\left(g\\right)_{ \\phantom{\\, t} \\, t \\, x \\, y }^{ \\, t \\phantom{\\, t} \\phantom{\\, x} \\phantom{\\, y} } & = & \\frac{1}{2} \\, \\beta\\left(t, x, y, z\\right) \\frac{\\partial^2\\,\\beta}{\\partial x\\partial y} \\\\ \\mathrm{Riem}\\left(g\\right)_{ \\phantom{\\, t} \\, t \\, x \\, z }^{ \\, t \\phantom{\\, t} \\phantom{\\, x} \\phantom{\\, z} } & = & \\frac{1}{2} \\, \\beta\\left(t, x, y, z\\right) \\frac{\\partial^2\\,\\beta}{\\partial x\\partial z} \\\\ \\mathrm{Riem}\\left(g\\right)_{ \\phantom{\\, t} \\, x \\, t \\, x }^{ \\, t \\phantom{\\, x} \\phantom{\\, t} \\phantom{\\, x} } & = & \\left(\\frac{\\partial\\,\\beta}{\\partial x}\\right)^{2} + \\beta\\left(t, x, y, z\\right) \\frac{\\partial^2\\,\\beta}{\\partial x ^ 2} - \\frac{1}{4} \\, \\left(\\frac{\\partial\\,\\beta}{\\partial y}\\right)^{2} - \\frac{1}{4} \\, \\left(\\frac{\\partial\\,\\beta}{\\partial z}\\right)^{2} + \\frac{\\partial^2\\,\\beta}{\\partial t\\partial x} \\\\ \\mathrm{Riem}\\left(g\\right)_{ \\phantom{\\, t} \\, x \\, t \\, y }^{ \\, t \\phantom{\\, x} \\phantom{\\, t} \\phantom{\\, y} } & = & \\beta\\left(t, x, y, z\\right) \\frac{\\partial^2\\,\\beta}{\\partial x\\partial y} + \\frac{\\partial\\,\\beta}{\\partial x} \\frac{\\partial\\,\\beta}{\\partial y} + \\frac{1}{2} \\, \\frac{\\partial^2\\,\\beta}{\\partial t\\partial y} \\\\ \\mathrm{Riem}\\left(g\\right)_{ \\phantom{\\, t} \\, x \\, t \\, z }^{ \\, t \\phantom{\\, x} \\phantom{\\, t} \\phantom{\\, z} } & = & \\beta\\left(t, x, y, z\\right) \\frac{\\partial^2\\,\\beta}{\\partial x\\partial z} + \\frac{\\partial\\,\\beta}{\\partial x} \\frac{\\partial\\,\\beta}{\\partial z} + \\frac{1}{2} \\, \\frac{\\partial^2\\,\\beta}{\\partial t\\partial z} \\\\ \\mathrm{Riem}\\left(g\\right)_{ \\phantom{\\, t} \\, x \\, x \\, y }^{ \\, t \\phantom{\\, x} \\phantom{\\, x} \\phantom{\\, y} } & = & -\\frac{1}{2} \\, \\frac{\\partial^2\\,\\beta}{\\partial x\\partial y} \\\\ \\mathrm{Riem}\\left(g\\right)_{ \\phantom{\\, t} \\, x \\, x \\, z }^{ \\, t \\phantom{\\, x} \\phantom{\\, x} \\phantom{\\, z} } & = & -\\frac{1}{2} \\, \\frac{\\partial^2\\,\\beta}{\\partial x\\partial z} \\\\ \\mathrm{Riem}\\left(g\\right)_{ \\phantom{\\, t} \\, y \\, t \\, x }^{ \\, t \\phantom{\\, y} \\phantom{\\, t} \\phantom{\\, x} } & = & \\frac{1}{2} \\, \\beta\\left(t, x, y, z\\right) \\frac{\\partial^2\\,\\beta}{\\partial x\\partial y} + \\frac{\\partial\\,\\beta}{\\partial x} \\frac{\\partial\\,\\beta}{\\partial y} + \\frac{1}{2} \\, \\frac{\\partial^2\\,\\beta}{\\partial t\\partial y} \\\\ \\mathrm{Riem}\\left(g\\right)_{ \\phantom{\\, t} \\, y \\, t \\, y }^{ \\, t \\phantom{\\, y} \\phantom{\\, t} \\phantom{\\, y} } & = & \\frac{3}{4} \\, \\left(\\frac{\\partial\\,\\beta}{\\partial y}\\right)^{2} + \\frac{1}{2} \\, \\beta\\left(t, x, y, z\\right) \\frac{\\partial^2\\,\\beta}{\\partial y ^ 2} \\\\ \\mathrm{Riem}\\left(g\\right)_{ \\phantom{\\, t} \\, y \\, t \\, z }^{ \\, t \\phantom{\\, y} \\phantom{\\, t} \\phantom{\\, z} } & = & \\frac{1}{2} \\, \\beta\\left(t, x, y, z\\right) \\frac{\\partial^2\\,\\beta}{\\partial y\\partial z} + \\frac{3}{4} \\, \\frac{\\partial\\,\\beta}{\\partial y} \\frac{\\partial\\,\\beta}{\\partial z} \\\\ \\mathrm{Riem}\\left(g\\right)_{ \\phantom{\\, t} \\, y \\, x \\, y }^{ \\, t \\phantom{\\, y} \\phantom{\\, x} \\phantom{\\, y} } & = & -\\frac{1}{2} \\, \\frac{\\partial^2\\,\\beta}{\\partial y ^ 2} \\\\ \\mathrm{Riem}\\left(g\\right)_{ \\phantom{\\, t} \\, y \\, x \\, z }^{ \\, t \\phantom{\\, y} \\phantom{\\, x} \\phantom{\\, z} } & = & -\\frac{1}{2} \\, \\frac{\\partial^2\\,\\beta}{\\partial y\\partial z} \\\\ \\mathrm{Riem}\\left(g\\right)_{ \\phantom{\\, t} \\, z \\, t \\, x }^{ \\, t \\phantom{\\, z} \\phantom{\\, t} \\phantom{\\, x} } & = & \\frac{1}{2} \\, \\beta\\left(t, x, y, z\\right) \\frac{\\partial^2\\,\\beta}{\\partial x\\partial z} + \\frac{\\partial\\,\\beta}{\\partial x} \\frac{\\partial\\,\\beta}{\\partial z} + \\frac{1}{2} \\, \\frac{\\partial^2\\,\\beta}{\\partial t\\partial z} \\\\ \\mathrm{Riem}\\left(g\\right)_{ \\phantom{\\, t} \\, z \\, t \\, y }^{ \\, t \\phantom{\\, z} \\phantom{\\, t} \\phantom{\\, y} } & = & \\frac{1}{2} \\, \\beta\\left(t, x, y, z\\right) \\frac{\\partial^2\\,\\beta}{\\partial y\\partial z} + \\frac{3}{4} \\, \\frac{\\partial\\,\\beta}{\\partial y} \\frac{\\partial\\,\\beta}{\\partial z} \\\\ \\mathrm{Riem}\\left(g\\right)_{ \\phantom{\\, t} \\, z \\, t \\, z }^{ \\, t \\phantom{\\, z} \\phantom{\\, t} \\phantom{\\, z} } & = & \\frac{3}{4} \\, \\left(\\frac{\\partial\\,\\beta}{\\partial z}\\right)^{2} + \\frac{1}{2} \\, \\beta\\left(t, x, y, z\\right) \\frac{\\partial^2\\,\\beta}{\\partial z ^ 2} \\\\ \\mathrm{Riem}\\left(g\\right)_{ \\phantom{\\, t} \\, z \\, x \\, y }^{ \\, t \\phantom{\\, z} \\phantom{\\, x} \\phantom{\\, y} } & = & -\\frac{1}{2} \\, \\frac{\\partial^2\\,\\beta}{\\partial y\\partial z} \\\\ \\mathrm{Riem}\\left(g\\right)_{ \\phantom{\\, t} \\, z \\, x \\, z }^{ \\, t \\phantom{\\, z} \\phantom{\\, x} \\phantom{\\, z} } & = & -\\frac{1}{2} \\, \\frac{\\partial^2\\,\\beta}{\\partial z ^ 2} \\\\ \\mathrm{Riem}\\left(g\\right)_{ \\phantom{\\, x} \\, t \\, t \\, x }^{ \\, x \\phantom{\\, t} \\phantom{\\, t} \\phantom{\\, x} } & = & -{\\left(\\beta\\left(t, x, y, z\\right)^{2} - 1\\right)} \\left(\\frac{\\partial\\,\\beta}{\\partial x}\\right)^{2} + \\frac{1}{4} \\, {\\left(\\beta\\left(t, x, y, z\\right)^{2} - 1\\right)} \\left(\\frac{\\partial\\,\\beta}{\\partial y}\\right)^{2} + \\frac{1}{4} \\, {\\left(\\beta\\left(t, x, y, z\\right)^{2} - 1\\right)} \\left(\\frac{\\partial\\,\\beta}{\\partial z}\\right)^{2} - {\\left(\\beta\\left(t, x, y, z\\right)^{2} - 1\\right)} \\frac{\\partial^2\\,\\beta}{\\partial t\\partial x} - {\\left(\\beta\\left(t, x, y, z\\right)^{3} - \\beta\\left(t, x, y, z\\right)\\right)} \\frac{\\partial^2\\,\\beta}{\\partial x ^ 2} \\\\ \\mathrm{Riem}\\left(g\\right)_{ \\phantom{\\, x} \\, t \\, t \\, y }^{ \\, x \\phantom{\\, t} \\phantom{\\, t} \\phantom{\\, y} } & = & -{\\left(\\beta\\left(t, x, y, z\\right)^{2} - 1\\right)} \\frac{\\partial\\,\\beta}{\\partial x} \\frac{\\partial\\,\\beta}{\\partial y} - \\frac{1}{2} \\, {\\left(\\beta\\left(t, x, y, z\\right)^{2} - 1\\right)} \\frac{\\partial^2\\,\\beta}{\\partial t\\partial y} - {\\left(\\beta\\left(t, x, y, z\\right)^{3} - \\beta\\left(t, x, y, z\\right)\\right)} \\frac{\\partial^2\\,\\beta}{\\partial x\\partial y} \\\\ \\mathrm{Riem}\\left(g\\right)_{ \\phantom{\\, x} \\, t \\, t \\, z }^{ \\, x \\phantom{\\, t} \\phantom{\\, t} \\phantom{\\, z} } & = & -{\\left(\\beta\\left(t, x, y, z\\right)^{2} - 1\\right)} \\frac{\\partial\\,\\beta}{\\partial x} \\frac{\\partial\\,\\beta}{\\partial z} - \\frac{1}{2} \\, {\\left(\\beta\\left(t, x, y, z\\right)^{2} - 1\\right)} \\frac{\\partial^2\\,\\beta}{\\partial t\\partial z} - {\\left(\\beta\\left(t, x, y, z\\right)^{3} - \\beta\\left(t, x, y, z\\right)\\right)} \\frac{\\partial^2\\,\\beta}{\\partial x\\partial z} \\\\ \\mathrm{Riem}\\left(g\\right)_{ \\phantom{\\, x} \\, t \\, x \\, y }^{ \\, x \\phantom{\\, t} \\phantom{\\, x} \\phantom{\\, y} } & = & \\frac{1}{2} \\, {\\left(\\beta\\left(t, x, y, z\\right)^{2} - 1\\right)} \\frac{\\partial^2\\,\\beta}{\\partial x\\partial y} \\\\ \\mathrm{Riem}\\left(g\\right)_{ \\phantom{\\, x} \\, t \\, x \\, z }^{ \\, x \\phantom{\\, t} \\phantom{\\, x} \\phantom{\\, z} } & = & \\frac{1}{2} \\, {\\left(\\beta\\left(t, x, y, z\\right)^{2} - 1\\right)} \\frac{\\partial^2\\,\\beta}{\\partial x\\partial z} \\\\ \\mathrm{Riem}\\left(g\\right)_{ \\phantom{\\, x} \\, x \\, t \\, x }^{ \\, x \\phantom{\\, x} \\phantom{\\, t} \\phantom{\\, x} } & = & \\beta\\left(t, x, y, z\\right) \\left(\\frac{\\partial\\,\\beta}{\\partial x}\\right)^{2} + \\beta\\left(t, x, y, z\\right)^{2} \\frac{\\partial^2\\,\\beta}{\\partial x ^ 2} - \\frac{1}{4} \\, \\beta\\left(t, x, y, z\\right) \\left(\\frac{\\partial\\,\\beta}{\\partial y}\\right)^{2} - \\frac{1}{4} \\, \\beta\\left(t, x, y, z\\right) \\left(\\frac{\\partial\\,\\beta}{\\partial z}\\right)^{2} + \\beta\\left(t, x, y, z\\right) \\frac{\\partial^2\\,\\beta}{\\partial t\\partial x} \\\\ \\mathrm{Riem}\\left(g\\right)_{ \\phantom{\\, x} \\, x \\, t \\, y }^{ \\, x \\phantom{\\, x} \\phantom{\\, t} \\phantom{\\, y} } & = & \\beta\\left(t, x, y, z\\right)^{2} \\frac{\\partial^2\\,\\beta}{\\partial x\\partial y} + \\beta\\left(t, x, y, z\\right) \\frac{\\partial\\,\\beta}{\\partial x} \\frac{\\partial\\,\\beta}{\\partial y} + \\frac{1}{2} \\, \\beta\\left(t, x, y, z\\right) \\frac{\\partial^2\\,\\beta}{\\partial t\\partial y} \\\\ \\mathrm{Riem}\\left(g\\right)_{ \\phantom{\\, x} \\, x \\, t \\, z }^{ \\, x \\phantom{\\, x} \\phantom{\\, t} \\phantom{\\, z} } & = & \\beta\\left(t, x, y, z\\right)^{2} \\frac{\\partial^2\\,\\beta}{\\partial x\\partial z} + \\beta\\left(t, x, y, z\\right) \\frac{\\partial\\,\\beta}{\\partial x} \\frac{\\partial\\,\\beta}{\\partial z} + \\frac{1}{2} \\, \\beta\\left(t, x, y, z\\right) \\frac{\\partial^2\\,\\beta}{\\partial t\\partial z} \\\\ \\mathrm{Riem}\\left(g\\right)_{ \\phantom{\\, x} \\, x \\, x \\, y }^{ \\, x \\phantom{\\, x} \\phantom{\\, x} \\phantom{\\, y} } & = & -\\frac{1}{2} \\, \\beta\\left(t, x, y, z\\right) \\frac{\\partial^2\\,\\beta}{\\partial x\\partial y} \\\\ \\mathrm{Riem}\\left(g\\right)_{ \\phantom{\\, x} \\, x \\, x \\, z }^{ \\, x \\phantom{\\, x} \\phantom{\\, x} \\phantom{\\, z} } & = & -\\frac{1}{2} \\, \\beta\\left(t, x, y, z\\right) \\frac{\\partial^2\\,\\beta}{\\partial x\\partial z} \\\\ \\mathrm{Riem}\\left(g\\right)_{ \\phantom{\\, x} \\, y \\, t \\, x }^{ \\, x \\phantom{\\, y} \\phantom{\\, t} \\phantom{\\, x} } & = & \\beta\\left(t, x, y, z\\right) \\frac{\\partial\\,\\beta}{\\partial x} \\frac{\\partial\\,\\beta}{\\partial y} + \\frac{1}{2} \\, \\beta\\left(t, x, y, z\\right) \\frac{\\partial^2\\,\\beta}{\\partial t\\partial y} + \\frac{1}{2} \\, {\\left(\\beta\\left(t, x, y, z\\right)^{2} + 1\\right)} \\frac{\\partial^2\\,\\beta}{\\partial x\\partial y} \\\\ \\mathrm{Riem}\\left(g\\right)_{ \\phantom{\\, x} \\, y \\, t \\, y }^{ \\, x \\phantom{\\, y} \\phantom{\\, t} \\phantom{\\, y} } & = & \\beta\\left(t, x, y, z\\right) \\left(\\frac{\\partial\\,\\beta}{\\partial y}\\right)^{2} + \\frac{1}{2} \\, {\\left(\\beta\\left(t, x, y, z\\right)^{2} + 1\\right)} \\frac{\\partial^2\\,\\beta}{\\partial y ^ 2} \\\\ \\mathrm{Riem}\\left(g\\right)_{ \\phantom{\\, x} \\, y \\, t \\, z }^{ \\, x \\phantom{\\, y} \\phantom{\\, t} \\phantom{\\, z} } & = & \\beta\\left(t, x, y, z\\right) \\frac{\\partial\\,\\beta}{\\partial y} \\frac{\\partial\\,\\beta}{\\partial z} + \\frac{1}{2} \\, {\\left(\\beta\\left(t, x, y, z\\right)^{2} + 1\\right)} \\frac{\\partial^2\\,\\beta}{\\partial y\\partial z} \\\\ \\mathrm{Riem}\\left(g\\right)_{ \\phantom{\\, x} \\, y \\, x \\, y }^{ \\, x \\phantom{\\, y} \\phantom{\\, x} \\phantom{\\, y} } & = & -\\frac{1}{4} \\, \\left(\\frac{\\partial\\,\\beta}{\\partial y}\\right)^{2} - \\frac{1}{2} \\, \\beta\\left(t, x, y, z\\right) \\frac{\\partial^2\\,\\beta}{\\partial y ^ 2} \\\\ \\mathrm{Riem}\\left(g\\right)_{ \\phantom{\\, x} \\, y \\, x \\, z }^{ \\, x \\phantom{\\, y} \\phantom{\\, x} \\phantom{\\, z} } & = & -\\frac{1}{2} \\, \\beta\\left(t, x, y, z\\right) \\frac{\\partial^2\\,\\beta}{\\partial y\\partial z} - \\frac{1}{4} \\, \\frac{\\partial\\,\\beta}{\\partial y} \\frac{\\partial\\,\\beta}{\\partial z} \\\\ \\mathrm{Riem}\\left(g\\right)_{ \\phantom{\\, x} \\, z \\, t \\, x }^{ \\, x \\phantom{\\, z} \\phantom{\\, t} \\phantom{\\, x} } & = & \\beta\\left(t, x, y, z\\right) \\frac{\\partial\\,\\beta}{\\partial x} \\frac{\\partial\\,\\beta}{\\partial z} + \\frac{1}{2} \\, \\beta\\left(t, x, y, z\\right) \\frac{\\partial^2\\,\\beta}{\\partial t\\partial z} + \\frac{1}{2} \\, {\\left(\\beta\\left(t, x, y, z\\right)^{2} + 1\\right)} \\frac{\\partial^2\\,\\beta}{\\partial x\\partial z} \\\\ \\mathrm{Riem}\\left(g\\right)_{ \\phantom{\\, x} \\, z \\, t \\, y }^{ \\, x \\phantom{\\, z} \\phantom{\\, t} \\phantom{\\, y} } & = & \\beta\\left(t, x, y, z\\right) \\frac{\\partial\\,\\beta}{\\partial y} \\frac{\\partial\\,\\beta}{\\partial z} + \\frac{1}{2} \\, {\\left(\\beta\\left(t, x, y, z\\right)^{2} + 1\\right)} \\frac{\\partial^2\\,\\beta}{\\partial y\\partial z} \\\\ \\mathrm{Riem}\\left(g\\right)_{ \\phantom{\\, x} \\, z \\, t \\, z }^{ \\, x \\phantom{\\, z} \\phantom{\\, t} \\phantom{\\, z} } & = & \\beta\\left(t, x, y, z\\right) \\left(\\frac{\\partial\\,\\beta}{\\partial z}\\right)^{2} + \\frac{1}{2} \\, {\\left(\\beta\\left(t, x, y, z\\right)^{2} + 1\\right)} \\frac{\\partial^2\\,\\beta}{\\partial z ^ 2} \\\\ \\mathrm{Riem}\\left(g\\right)_{ \\phantom{\\, x} \\, z \\, x \\, y }^{ \\, x \\phantom{\\, z} \\phantom{\\, x} \\phantom{\\, y} } & = & -\\frac{1}{2} \\, \\beta\\left(t, x, y, z\\right) \\frac{\\partial^2\\,\\beta}{\\partial y\\partial z} - \\frac{1}{4} \\, \\frac{\\partial\\,\\beta}{\\partial y} \\frac{\\partial\\,\\beta}{\\partial z} \\\\ \\mathrm{Riem}\\left(g\\right)_{ \\phantom{\\, x} \\, z \\, x \\, z }^{ \\, x \\phantom{\\, z} \\phantom{\\, x} \\phantom{\\, z} } & = & -\\frac{1}{4} \\, \\left(\\frac{\\partial\\,\\beta}{\\partial z}\\right)^{2} - \\frac{1}{2} \\, \\beta\\left(t, x, y, z\\right) \\frac{\\partial^2\\,\\beta}{\\partial z ^ 2} \\\\ \\mathrm{Riem}\\left(g\\right)_{ \\phantom{\\, y} \\, t \\, t \\, x }^{ \\, y \\phantom{\\, t} \\phantom{\\, t} \\phantom{\\, x} } & = & \\beta\\left(t, x, y, z\\right) \\frac{\\partial^2\\,\\beta}{\\partial x\\partial y} + \\frac{\\partial\\,\\beta}{\\partial x} \\frac{\\partial\\,\\beta}{\\partial y} + \\frac{1}{2} \\, \\frac{\\partial^2\\,\\beta}{\\partial t\\partial y} \\\\ \\mathrm{Riem}\\left(g\\right)_{ \\phantom{\\, y} \\, t \\, t \\, y }^{ \\, y \\phantom{\\, t} \\phantom{\\, t} \\phantom{\\, y} } & = & \\frac{1}{4} \\, {\\left(\\beta\\left(t, x, y, z\\right)^{2} + 3\\right)} \\left(\\frac{\\partial\\,\\beta}{\\partial y}\\right)^{2} + \\beta\\left(t, x, y, z\\right) \\frac{\\partial^2\\,\\beta}{\\partial y ^ 2} \\\\ \\mathrm{Riem}\\left(g\\right)_{ \\phantom{\\, y} \\, t \\, t \\, z }^{ \\, y \\phantom{\\, t} \\phantom{\\, t} \\phantom{\\, z} } & = & \\frac{1}{4} \\, {\\left(\\beta\\left(t, x, y, z\\right)^{2} + 3\\right)} \\frac{\\partial\\,\\beta}{\\partial y} \\frac{\\partial\\,\\beta}{\\partial z} + \\beta\\left(t, x, y, z\\right) \\frac{\\partial^2\\,\\beta}{\\partial y\\partial z} \\\\ \\mathrm{Riem}\\left(g\\right)_{ \\phantom{\\, y} \\, t \\, x \\, y }^{ \\, y \\phantom{\\, t} \\phantom{\\, x} \\phantom{\\, y} } & = & -\\frac{1}{4} \\, \\beta\\left(t, x, y, z\\right) \\left(\\frac{\\partial\\,\\beta}{\\partial y}\\right)^{2} - \\frac{1}{2} \\, \\frac{\\partial^2\\,\\beta}{\\partial y ^ 2} \\\\ \\mathrm{Riem}\\left(g\\right)_{ \\phantom{\\, y} \\, t \\, x \\, z }^{ \\, y \\phantom{\\, t} \\phantom{\\, x} \\phantom{\\, z} } & = & -\\frac{1}{4} \\, \\beta\\left(t, x, y, z\\right) \\frac{\\partial\\,\\beta}{\\partial y} \\frac{\\partial\\,\\beta}{\\partial z} - \\frac{1}{2} \\, \\frac{\\partial^2\\,\\beta}{\\partial y\\partial z} \\\\ \\mathrm{Riem}\\left(g\\right)_{ \\phantom{\\, y} \\, x \\, t \\, x }^{ \\, y \\phantom{\\, x} \\phantom{\\, t} \\phantom{\\, x} } & = & -\\frac{1}{2} \\, \\frac{\\partial^2\\,\\beta}{\\partial x\\partial y} \\\\ \\mathrm{Riem}\\left(g\\right)_{ \\phantom{\\, y} \\, x \\, t \\, y }^{ \\, y \\phantom{\\, x} \\phantom{\\, t} \\phantom{\\, y} } & = & -\\frac{1}{4} \\, \\beta\\left(t, x, y, z\\right) \\left(\\frac{\\partial\\,\\beta}{\\partial y}\\right)^{2} - \\frac{1}{2} \\, \\frac{\\partial^2\\,\\beta}{\\partial y ^ 2} \\\\ \\mathrm{Riem}\\left(g\\right)_{ \\phantom{\\, y} \\, x \\, t \\, z }^{ \\, y \\phantom{\\, x} \\phantom{\\, t} \\phantom{\\, z} } & = & -\\frac{1}{4} \\, \\beta\\left(t, x, y, z\\right) \\frac{\\partial\\,\\beta}{\\partial y} \\frac{\\partial\\,\\beta}{\\partial z} - \\frac{1}{2} \\, \\frac{\\partial^2\\,\\beta}{\\partial y\\partial z} \\\\ \\mathrm{Riem}\\left(g\\right)_{ \\phantom{\\, y} \\, x \\, x \\, y }^{ \\, y \\phantom{\\, x} \\phantom{\\, x} \\phantom{\\, y} } & = & \\frac{1}{4} \\, \\left(\\frac{\\partial\\,\\beta}{\\partial y}\\right)^{2} \\\\ \\mathrm{Riem}\\left(g\\right)_{ \\phantom{\\, y} \\, x \\, x \\, z }^{ \\, y \\phantom{\\, x} \\phantom{\\, x} \\phantom{\\, z} } & = & \\frac{1}{4} \\, \\frac{\\partial\\,\\beta}{\\partial y} \\frac{\\partial\\,\\beta}{\\partial z} \\\\ \\mathrm{Riem}\\left(g\\right)_{ \\phantom{\\, z} \\, t \\, t \\, x }^{ \\, z \\phantom{\\, t} \\phantom{\\, t} \\phantom{\\, x} } & = & \\beta\\left(t, x, y, z\\right) \\frac{\\partial^2\\,\\beta}{\\partial x\\partial z} + \\frac{\\partial\\,\\beta}{\\partial x} \\frac{\\partial\\,\\beta}{\\partial z} + \\frac{1}{2} \\, \\frac{\\partial^2\\,\\beta}{\\partial t\\partial z} \\\\ \\mathrm{Riem}\\left(g\\right)_{ \\phantom{\\, z} \\, t \\, t \\, y }^{ \\, z \\phantom{\\, t} \\phantom{\\, t} \\phantom{\\, y} } & = & \\frac{1}{4} \\, {\\left(\\beta\\left(t, x, y, z\\right)^{2} + 3\\right)} \\frac{\\partial\\,\\beta}{\\partial y} \\frac{\\partial\\,\\beta}{\\partial z} + \\beta\\left(t, x, y, z\\right) \\frac{\\partial^2\\,\\beta}{\\partial y\\partial z} \\\\ \\mathrm{Riem}\\left(g\\right)_{ \\phantom{\\, z} \\, t \\, t \\, z }^{ \\, z \\phantom{\\, t} \\phantom{\\, t} \\phantom{\\, z} } & = & \\frac{1}{4} \\, {\\left(\\beta\\left(t, x, y, z\\right)^{2} + 3\\right)} \\left(\\frac{\\partial\\,\\beta}{\\partial z}\\right)^{2} + \\beta\\left(t, x, y, z\\right) \\frac{\\partial^2\\,\\beta}{\\partial z ^ 2} \\\\ \\mathrm{Riem}\\left(g\\right)_{ \\phantom{\\, z} \\, t \\, x \\, y }^{ \\, z \\phantom{\\, t} \\phantom{\\, x} \\phantom{\\, y} } & = & -\\frac{1}{4} \\, \\beta\\left(t, x, y, z\\right) \\frac{\\partial\\,\\beta}{\\partial y} \\frac{\\partial\\,\\beta}{\\partial z} - \\frac{1}{2} \\, \\frac{\\partial^2\\,\\beta}{\\partial y\\partial z} \\\\ \\mathrm{Riem}\\left(g\\right)_{ \\phantom{\\, z} \\, t \\, x \\, z }^{ \\, z \\phantom{\\, t} \\phantom{\\, x} \\phantom{\\, z} } & = & -\\frac{1}{4} \\, \\beta\\left(t, x, y, z\\right) \\left(\\frac{\\partial\\,\\beta}{\\partial z}\\right)^{2} - \\frac{1}{2} \\, \\frac{\\partial^2\\,\\beta}{\\partial z ^ 2} \\\\ \\mathrm{Riem}\\left(g\\right)_{ \\phantom{\\, z} \\, x \\, t \\, x }^{ \\, z \\phantom{\\, x} \\phantom{\\, t} \\phantom{\\, x} } & = & -\\frac{1}{2} \\, \\frac{\\partial^2\\,\\beta}{\\partial x\\partial z} \\\\ \\mathrm{Riem}\\left(g\\right)_{ \\phantom{\\, z} \\, x \\, t \\, y }^{ \\, z \\phantom{\\, x} \\phantom{\\, t} \\phantom{\\, y} } & = & -\\frac{1}{4} \\, \\beta\\left(t, x, y, z\\right) \\frac{\\partial\\,\\beta}{\\partial y} \\frac{\\partial\\,\\beta}{\\partial z} - \\frac{1}{2} \\, \\frac{\\partial^2\\,\\beta}{\\partial y\\partial z} \\\\ \\mathrm{Riem}\\left(g\\right)_{ \\phantom{\\, z} \\, x \\, t \\, z }^{ \\, z \\phantom{\\, x} \\phantom{\\, t} \\phantom{\\, z} } & = & -\\frac{1}{4} \\, \\beta\\left(t, x, y, z\\right) \\left(\\frac{\\partial\\,\\beta}{\\partial z}\\right)^{2} - \\frac{1}{2} \\, \\frac{\\partial^2\\,\\beta}{\\partial z ^ 2} \\\\ \\mathrm{Riem}\\left(g\\right)_{ \\phantom{\\, z} \\, x \\, x \\, y }^{ \\, z \\phantom{\\, x} \\phantom{\\, x} \\phantom{\\, y} } & = & \\frac{1}{4} \\, \\frac{\\partial\\,\\beta}{\\partial y} \\frac{\\partial\\,\\beta}{\\partial z} \\\\ \\mathrm{Riem}\\left(g\\right)_{ \\phantom{\\, z} \\, x \\, x \\, z }^{ \\, z \\phantom{\\, x} \\phantom{\\, x} \\phantom{\\, z} } & = & \\frac{1}{4} \\, \\left(\\frac{\\partial\\,\\beta}{\\partial z}\\right)^{2} \\end{array}</script></html>"
      ],
      "text/latex": [
       "$$\\newcommand{\\Bold}[1]{\\mathbf{#1}}\\begin{array}{lcl} \\mathrm{Riem}\\left(g\\right)_{ \\phantom{\\, t} \\, t \\, t \\, x }^{ \\, t \\phantom{\\, t} \\phantom{\\, t} \\phantom{\\, x} } & = & -\\beta\\left(t, x, y, z\\right) \\left(\\frac{\\partial\\,\\beta}{\\partial x}\\right)^{2} - \\beta\\left(t, x, y, z\\right)^{2} \\frac{\\partial^2\\,\\beta}{\\partial x ^ 2} + \\frac{1}{4} \\, \\beta\\left(t, x, y, z\\right) \\left(\\frac{\\partial\\,\\beta}{\\partial y}\\right)^{2} + \\frac{1}{4} \\, \\beta\\left(t, x, y, z\\right) \\left(\\frac{\\partial\\,\\beta}{\\partial z}\\right)^{2} - \\beta\\left(t, x, y, z\\right) \\frac{\\partial^2\\,\\beta}{\\partial t\\partial x} \\\\ \\mathrm{Riem}\\left(g\\right)_{ \\phantom{\\, t} \\, t \\, t \\, y }^{ \\, t \\phantom{\\, t} \\phantom{\\, t} \\phantom{\\, y} } & = & -\\beta\\left(t, x, y, z\\right)^{2} \\frac{\\partial^2\\,\\beta}{\\partial x\\partial y} - \\beta\\left(t, x, y, z\\right) \\frac{\\partial\\,\\beta}{\\partial x} \\frac{\\partial\\,\\beta}{\\partial y} - \\frac{1}{2} \\, \\beta\\left(t, x, y, z\\right) \\frac{\\partial^2\\,\\beta}{\\partial t\\partial y} \\\\ \\mathrm{Riem}\\left(g\\right)_{ \\phantom{\\, t} \\, t \\, t \\, z }^{ \\, t \\phantom{\\, t} \\phantom{\\, t} \\phantom{\\, z} } & = & -\\beta\\left(t, x, y, z\\right)^{2} \\frac{\\partial^2\\,\\beta}{\\partial x\\partial z} - \\beta\\left(t, x, y, z\\right) \\frac{\\partial\\,\\beta}{\\partial x} \\frac{\\partial\\,\\beta}{\\partial z} - \\frac{1}{2} \\, \\beta\\left(t, x, y, z\\right) \\frac{\\partial^2\\,\\beta}{\\partial t\\partial z} \\\\ \\mathrm{Riem}\\left(g\\right)_{ \\phantom{\\, t} \\, t \\, x \\, y }^{ \\, t \\phantom{\\, t} \\phantom{\\, x} \\phantom{\\, y} } & = & \\frac{1}{2} \\, \\beta\\left(t, x, y, z\\right) \\frac{\\partial^2\\,\\beta}{\\partial x\\partial y} \\\\ \\mathrm{Riem}\\left(g\\right)_{ \\phantom{\\, t} \\, t \\, x \\, z }^{ \\, t \\phantom{\\, t} \\phantom{\\, x} \\phantom{\\, z} } & = & \\frac{1}{2} \\, \\beta\\left(t, x, y, z\\right) \\frac{\\partial^2\\,\\beta}{\\partial x\\partial z} \\\\ \\mathrm{Riem}\\left(g\\right)_{ \\phantom{\\, t} \\, x \\, t \\, x }^{ \\, t \\phantom{\\, x} \\phantom{\\, t} \\phantom{\\, x} } & = & \\left(\\frac{\\partial\\,\\beta}{\\partial x}\\right)^{2} + \\beta\\left(t, x, y, z\\right) \\frac{\\partial^2\\,\\beta}{\\partial x ^ 2} - \\frac{1}{4} \\, \\left(\\frac{\\partial\\,\\beta}{\\partial y}\\right)^{2} - \\frac{1}{4} \\, \\left(\\frac{\\partial\\,\\beta}{\\partial z}\\right)^{2} + \\frac{\\partial^2\\,\\beta}{\\partial t\\partial x} \\\\ \\mathrm{Riem}\\left(g\\right)_{ \\phantom{\\, t} \\, x \\, t \\, y }^{ \\, t \\phantom{\\, x} \\phantom{\\, t} \\phantom{\\, y} } & = & \\beta\\left(t, x, y, z\\right) \\frac{\\partial^2\\,\\beta}{\\partial x\\partial y} + \\frac{\\partial\\,\\beta}{\\partial x} \\frac{\\partial\\,\\beta}{\\partial y} + \\frac{1}{2} \\, \\frac{\\partial^2\\,\\beta}{\\partial t\\partial y} \\\\ \\mathrm{Riem}\\left(g\\right)_{ \\phantom{\\, t} \\, x \\, t \\, z }^{ \\, t \\phantom{\\, x} \\phantom{\\, t} \\phantom{\\, z} } & = & \\beta\\left(t, x, y, z\\right) \\frac{\\partial^2\\,\\beta}{\\partial x\\partial z} + \\frac{\\partial\\,\\beta}{\\partial x} \\frac{\\partial\\,\\beta}{\\partial z} + \\frac{1}{2} \\, \\frac{\\partial^2\\,\\beta}{\\partial t\\partial z} \\\\ \\mathrm{Riem}\\left(g\\right)_{ \\phantom{\\, t} \\, x \\, x \\, y }^{ \\, t \\phantom{\\, x} \\phantom{\\, x} \\phantom{\\, y} } & = & -\\frac{1}{2} \\, \\frac{\\partial^2\\,\\beta}{\\partial x\\partial y} \\\\ \\mathrm{Riem}\\left(g\\right)_{ \\phantom{\\, t} \\, x \\, x \\, z }^{ \\, t \\phantom{\\, x} \\phantom{\\, x} \\phantom{\\, z} } & = & -\\frac{1}{2} \\, \\frac{\\partial^2\\,\\beta}{\\partial x\\partial z} \\\\ \\mathrm{Riem}\\left(g\\right)_{ \\phantom{\\, t} \\, y \\, t \\, x }^{ \\, t \\phantom{\\, y} \\phantom{\\, t} \\phantom{\\, x} } & = & \\frac{1}{2} \\, \\beta\\left(t, x, y, z\\right) \\frac{\\partial^2\\,\\beta}{\\partial x\\partial y} + \\frac{\\partial\\,\\beta}{\\partial x} \\frac{\\partial\\,\\beta}{\\partial y} + \\frac{1}{2} \\, \\frac{\\partial^2\\,\\beta}{\\partial t\\partial y} \\\\ \\mathrm{Riem}\\left(g\\right)_{ \\phantom{\\, t} \\, y \\, t \\, y }^{ \\, t \\phantom{\\, y} \\phantom{\\, t} \\phantom{\\, y} } & = & \\frac{3}{4} \\, \\left(\\frac{\\partial\\,\\beta}{\\partial y}\\right)^{2} + \\frac{1}{2} \\, \\beta\\left(t, x, y, z\\right) \\frac{\\partial^2\\,\\beta}{\\partial y ^ 2} \\\\ \\mathrm{Riem}\\left(g\\right)_{ \\phantom{\\, t} \\, y \\, t \\, z }^{ \\, t \\phantom{\\, y} \\phantom{\\, t} \\phantom{\\, z} } & = & \\frac{1}{2} \\, \\beta\\left(t, x, y, z\\right) \\frac{\\partial^2\\,\\beta}{\\partial y\\partial z} + \\frac{3}{4} \\, \\frac{\\partial\\,\\beta}{\\partial y} \\frac{\\partial\\,\\beta}{\\partial z} \\\\ \\mathrm{Riem}\\left(g\\right)_{ \\phantom{\\, t} \\, y \\, x \\, y }^{ \\, t \\phantom{\\, y} \\phantom{\\, x} \\phantom{\\, y} } & = & -\\frac{1}{2} \\, \\frac{\\partial^2\\,\\beta}{\\partial y ^ 2} \\\\ \\mathrm{Riem}\\left(g\\right)_{ \\phantom{\\, t} \\, y \\, x \\, z }^{ \\, t \\phantom{\\, y} \\phantom{\\, x} \\phantom{\\, z} } & = & -\\frac{1}{2} \\, \\frac{\\partial^2\\,\\beta}{\\partial y\\partial z} \\\\ \\mathrm{Riem}\\left(g\\right)_{ \\phantom{\\, t} \\, z \\, t \\, x }^{ \\, t \\phantom{\\, z} \\phantom{\\, t} \\phantom{\\, x} } & = & \\frac{1}{2} \\, \\beta\\left(t, x, y, z\\right) \\frac{\\partial^2\\,\\beta}{\\partial x\\partial z} + \\frac{\\partial\\,\\beta}{\\partial x} \\frac{\\partial\\,\\beta}{\\partial z} + \\frac{1}{2} \\, \\frac{\\partial^2\\,\\beta}{\\partial t\\partial z} \\\\ \\mathrm{Riem}\\left(g\\right)_{ \\phantom{\\, t} \\, z \\, t \\, y }^{ \\, t \\phantom{\\, z} \\phantom{\\, t} \\phantom{\\, y} } & = & \\frac{1}{2} \\, \\beta\\left(t, x, y, z\\right) \\frac{\\partial^2\\,\\beta}{\\partial y\\partial z} + \\frac{3}{4} \\, \\frac{\\partial\\,\\beta}{\\partial y} \\frac{\\partial\\,\\beta}{\\partial z} \\\\ \\mathrm{Riem}\\left(g\\right)_{ \\phantom{\\, t} \\, z \\, t \\, z }^{ \\, t \\phantom{\\, z} \\phantom{\\, t} \\phantom{\\, z} } & = & \\frac{3}{4} \\, \\left(\\frac{\\partial\\,\\beta}{\\partial z}\\right)^{2} + \\frac{1}{2} \\, \\beta\\left(t, x, y, z\\right) \\frac{\\partial^2\\,\\beta}{\\partial z ^ 2} \\\\ \\mathrm{Riem}\\left(g\\right)_{ \\phantom{\\, t} \\, z \\, x \\, y }^{ \\, t \\phantom{\\, z} \\phantom{\\, x} \\phantom{\\, y} } & = & -\\frac{1}{2} \\, \\frac{\\partial^2\\,\\beta}{\\partial y\\partial z} \\\\ \\mathrm{Riem}\\left(g\\right)_{ \\phantom{\\, t} \\, z \\, x \\, z }^{ \\, t \\phantom{\\, z} \\phantom{\\, x} \\phantom{\\, z} } & = & -\\frac{1}{2} \\, \\frac{\\partial^2\\,\\beta}{\\partial z ^ 2} \\\\ \\mathrm{Riem}\\left(g\\right)_{ \\phantom{\\, x} \\, t \\, t \\, x }^{ \\, x \\phantom{\\, t} \\phantom{\\, t} \\phantom{\\, x} } & = & -{\\left(\\beta\\left(t, x, y, z\\right)^{2} - 1\\right)} \\left(\\frac{\\partial\\,\\beta}{\\partial x}\\right)^{2} + \\frac{1}{4} \\, {\\left(\\beta\\left(t, x, y, z\\right)^{2} - 1\\right)} \\left(\\frac{\\partial\\,\\beta}{\\partial y}\\right)^{2} + \\frac{1}{4} \\, {\\left(\\beta\\left(t, x, y, z\\right)^{2} - 1\\right)} \\left(\\frac{\\partial\\,\\beta}{\\partial z}\\right)^{2} - {\\left(\\beta\\left(t, x, y, z\\right)^{2} - 1\\right)} \\frac{\\partial^2\\,\\beta}{\\partial t\\partial x} - {\\left(\\beta\\left(t, x, y, z\\right)^{3} - \\beta\\left(t, x, y, z\\right)\\right)} \\frac{\\partial^2\\,\\beta}{\\partial x ^ 2} \\\\ \\mathrm{Riem}\\left(g\\right)_{ \\phantom{\\, x} \\, t \\, t \\, y }^{ \\, x \\phantom{\\, t} \\phantom{\\, t} \\phantom{\\, y} } & = & -{\\left(\\beta\\left(t, x, y, z\\right)^{2} - 1\\right)} \\frac{\\partial\\,\\beta}{\\partial x} \\frac{\\partial\\,\\beta}{\\partial y} - \\frac{1}{2} \\, {\\left(\\beta\\left(t, x, y, z\\right)^{2} - 1\\right)} \\frac{\\partial^2\\,\\beta}{\\partial t\\partial y} - {\\left(\\beta\\left(t, x, y, z\\right)^{3} - \\beta\\left(t, x, y, z\\right)\\right)} \\frac{\\partial^2\\,\\beta}{\\partial x\\partial y} \\\\ \\mathrm{Riem}\\left(g\\right)_{ \\phantom{\\, x} \\, t \\, t \\, z }^{ \\, x \\phantom{\\, t} \\phantom{\\, t} \\phantom{\\, z} } & = & -{\\left(\\beta\\left(t, x, y, z\\right)^{2} - 1\\right)} \\frac{\\partial\\,\\beta}{\\partial x} \\frac{\\partial\\,\\beta}{\\partial z} - \\frac{1}{2} \\, {\\left(\\beta\\left(t, x, y, z\\right)^{2} - 1\\right)} \\frac{\\partial^2\\,\\beta}{\\partial t\\partial z} - {\\left(\\beta\\left(t, x, y, z\\right)^{3} - \\beta\\left(t, x, y, z\\right)\\right)} \\frac{\\partial^2\\,\\beta}{\\partial x\\partial z} \\\\ \\mathrm{Riem}\\left(g\\right)_{ \\phantom{\\, x} \\, t \\, x \\, y }^{ \\, x \\phantom{\\, t} \\phantom{\\, x} \\phantom{\\, y} } & = & \\frac{1}{2} \\, {\\left(\\beta\\left(t, x, y, z\\right)^{2} - 1\\right)} \\frac{\\partial^2\\,\\beta}{\\partial x\\partial y} \\\\ \\mathrm{Riem}\\left(g\\right)_{ \\phantom{\\, x} \\, t \\, x \\, z }^{ \\, x \\phantom{\\, t} \\phantom{\\, x} \\phantom{\\, z} } & = & \\frac{1}{2} \\, {\\left(\\beta\\left(t, x, y, z\\right)^{2} - 1\\right)} \\frac{\\partial^2\\,\\beta}{\\partial x\\partial z} \\\\ \\mathrm{Riem}\\left(g\\right)_{ \\phantom{\\, x} \\, x \\, t \\, x }^{ \\, x \\phantom{\\, x} \\phantom{\\, t} \\phantom{\\, x} } & = & \\beta\\left(t, x, y, z\\right) \\left(\\frac{\\partial\\,\\beta}{\\partial x}\\right)^{2} + \\beta\\left(t, x, y, z\\right)^{2} \\frac{\\partial^2\\,\\beta}{\\partial x ^ 2} - \\frac{1}{4} \\, \\beta\\left(t, x, y, z\\right) \\left(\\frac{\\partial\\,\\beta}{\\partial y}\\right)^{2} - \\frac{1}{4} \\, \\beta\\left(t, x, y, z\\right) \\left(\\frac{\\partial\\,\\beta}{\\partial z}\\right)^{2} + \\beta\\left(t, x, y, z\\right) \\frac{\\partial^2\\,\\beta}{\\partial t\\partial x} \\\\ \\mathrm{Riem}\\left(g\\right)_{ \\phantom{\\, x} \\, x \\, t \\, y }^{ \\, x \\phantom{\\, x} \\phantom{\\, t} \\phantom{\\, y} } & = & \\beta\\left(t, x, y, z\\right)^{2} \\frac{\\partial^2\\,\\beta}{\\partial x\\partial y} + \\beta\\left(t, x, y, z\\right) \\frac{\\partial\\,\\beta}{\\partial x} \\frac{\\partial\\,\\beta}{\\partial y} + \\frac{1}{2} \\, \\beta\\left(t, x, y, z\\right) \\frac{\\partial^2\\,\\beta}{\\partial t\\partial y} \\\\ \\mathrm{Riem}\\left(g\\right)_{ \\phantom{\\, x} \\, x \\, t \\, z }^{ \\, x \\phantom{\\, x} \\phantom{\\, t} \\phantom{\\, z} } & = & \\beta\\left(t, x, y, z\\right)^{2} \\frac{\\partial^2\\,\\beta}{\\partial x\\partial z} + \\beta\\left(t, x, y, z\\right) \\frac{\\partial\\,\\beta}{\\partial x} \\frac{\\partial\\,\\beta}{\\partial z} + \\frac{1}{2} \\, \\beta\\left(t, x, y, z\\right) \\frac{\\partial^2\\,\\beta}{\\partial t\\partial z} \\\\ \\mathrm{Riem}\\left(g\\right)_{ \\phantom{\\, x} \\, x \\, x \\, y }^{ \\, x \\phantom{\\, x} \\phantom{\\, x} \\phantom{\\, y} } & = & -\\frac{1}{2} \\, \\beta\\left(t, x, y, z\\right) \\frac{\\partial^2\\,\\beta}{\\partial x\\partial y} \\\\ \\mathrm{Riem}\\left(g\\right)_{ \\phantom{\\, x} \\, x \\, x \\, z }^{ \\, x \\phantom{\\, x} \\phantom{\\, x} \\phantom{\\, z} } & = & -\\frac{1}{2} \\, \\beta\\left(t, x, y, z\\right) \\frac{\\partial^2\\,\\beta}{\\partial x\\partial z} \\\\ \\mathrm{Riem}\\left(g\\right)_{ \\phantom{\\, x} \\, y \\, t \\, x }^{ \\, x \\phantom{\\, y} \\phantom{\\, t} \\phantom{\\, x} } & = & \\beta\\left(t, x, y, z\\right) \\frac{\\partial\\,\\beta}{\\partial x} \\frac{\\partial\\,\\beta}{\\partial y} + \\frac{1}{2} \\, \\beta\\left(t, x, y, z\\right) \\frac{\\partial^2\\,\\beta}{\\partial t\\partial y} + \\frac{1}{2} \\, {\\left(\\beta\\left(t, x, y, z\\right)^{2} + 1\\right)} \\frac{\\partial^2\\,\\beta}{\\partial x\\partial y} \\\\ \\mathrm{Riem}\\left(g\\right)_{ \\phantom{\\, x} \\, y \\, t \\, y }^{ \\, x \\phantom{\\, y} \\phantom{\\, t} \\phantom{\\, y} } & = & \\beta\\left(t, x, y, z\\right) \\left(\\frac{\\partial\\,\\beta}{\\partial y}\\right)^{2} + \\frac{1}{2} \\, {\\left(\\beta\\left(t, x, y, z\\right)^{2} + 1\\right)} \\frac{\\partial^2\\,\\beta}{\\partial y ^ 2} \\\\ \\mathrm{Riem}\\left(g\\right)_{ \\phantom{\\, x} \\, y \\, t \\, z }^{ \\, x \\phantom{\\, y} \\phantom{\\, t} \\phantom{\\, z} } & = & \\beta\\left(t, x, y, z\\right) \\frac{\\partial\\,\\beta}{\\partial y} \\frac{\\partial\\,\\beta}{\\partial z} + \\frac{1}{2} \\, {\\left(\\beta\\left(t, x, y, z\\right)^{2} + 1\\right)} \\frac{\\partial^2\\,\\beta}{\\partial y\\partial z} \\\\ \\mathrm{Riem}\\left(g\\right)_{ \\phantom{\\, x} \\, y \\, x \\, y }^{ \\, x \\phantom{\\, y} \\phantom{\\, x} \\phantom{\\, y} } & = & -\\frac{1}{4} \\, \\left(\\frac{\\partial\\,\\beta}{\\partial y}\\right)^{2} - \\frac{1}{2} \\, \\beta\\left(t, x, y, z\\right) \\frac{\\partial^2\\,\\beta}{\\partial y ^ 2} \\\\ \\mathrm{Riem}\\left(g\\right)_{ \\phantom{\\, x} \\, y \\, x \\, z }^{ \\, x \\phantom{\\, y} \\phantom{\\, x} \\phantom{\\, z} } & = & -\\frac{1}{2} \\, \\beta\\left(t, x, y, z\\right) \\frac{\\partial^2\\,\\beta}{\\partial y\\partial z} - \\frac{1}{4} \\, \\frac{\\partial\\,\\beta}{\\partial y} \\frac{\\partial\\,\\beta}{\\partial z} \\\\ \\mathrm{Riem}\\left(g\\right)_{ \\phantom{\\, x} \\, z \\, t \\, x }^{ \\, x \\phantom{\\, z} \\phantom{\\, t} \\phantom{\\, x} } & = & \\beta\\left(t, x, y, z\\right) \\frac{\\partial\\,\\beta}{\\partial x} \\frac{\\partial\\,\\beta}{\\partial z} + \\frac{1}{2} \\, \\beta\\left(t, x, y, z\\right) \\frac{\\partial^2\\,\\beta}{\\partial t\\partial z} + \\frac{1}{2} \\, {\\left(\\beta\\left(t, x, y, z\\right)^{2} + 1\\right)} \\frac{\\partial^2\\,\\beta}{\\partial x\\partial z} \\\\ \\mathrm{Riem}\\left(g\\right)_{ \\phantom{\\, x} \\, z \\, t \\, y }^{ \\, x \\phantom{\\, z} \\phantom{\\, t} \\phantom{\\, y} } & = & \\beta\\left(t, x, y, z\\right) \\frac{\\partial\\,\\beta}{\\partial y} \\frac{\\partial\\,\\beta}{\\partial z} + \\frac{1}{2} \\, {\\left(\\beta\\left(t, x, y, z\\right)^{2} + 1\\right)} \\frac{\\partial^2\\,\\beta}{\\partial y\\partial z} \\\\ \\mathrm{Riem}\\left(g\\right)_{ \\phantom{\\, x} \\, z \\, t \\, z }^{ \\, x \\phantom{\\, z} \\phantom{\\, t} \\phantom{\\, z} } & = & \\beta\\left(t, x, y, z\\right) \\left(\\frac{\\partial\\,\\beta}{\\partial z}\\right)^{2} + \\frac{1}{2} \\, {\\left(\\beta\\left(t, x, y, z\\right)^{2} + 1\\right)} \\frac{\\partial^2\\,\\beta}{\\partial z ^ 2} \\\\ \\mathrm{Riem}\\left(g\\right)_{ \\phantom{\\, x} \\, z \\, x \\, y }^{ \\, x \\phantom{\\, z} \\phantom{\\, x} \\phantom{\\, y} } & = & -\\frac{1}{2} \\, \\beta\\left(t, x, y, z\\right) \\frac{\\partial^2\\,\\beta}{\\partial y\\partial z} - \\frac{1}{4} \\, \\frac{\\partial\\,\\beta}{\\partial y} \\frac{\\partial\\,\\beta}{\\partial z} \\\\ \\mathrm{Riem}\\left(g\\right)_{ \\phantom{\\, x} \\, z \\, x \\, z }^{ \\, x \\phantom{\\, z} \\phantom{\\, x} \\phantom{\\, z} } & = & -\\frac{1}{4} \\, \\left(\\frac{\\partial\\,\\beta}{\\partial z}\\right)^{2} - \\frac{1}{2} \\, \\beta\\left(t, x, y, z\\right) \\frac{\\partial^2\\,\\beta}{\\partial z ^ 2} \\\\ \\mathrm{Riem}\\left(g\\right)_{ \\phantom{\\, y} \\, t \\, t \\, x }^{ \\, y \\phantom{\\, t} \\phantom{\\, t} \\phantom{\\, x} } & = & \\beta\\left(t, x, y, z\\right) \\frac{\\partial^2\\,\\beta}{\\partial x\\partial y} + \\frac{\\partial\\,\\beta}{\\partial x} \\frac{\\partial\\,\\beta}{\\partial y} + \\frac{1}{2} \\, \\frac{\\partial^2\\,\\beta}{\\partial t\\partial y} \\\\ \\mathrm{Riem}\\left(g\\right)_{ \\phantom{\\, y} \\, t \\, t \\, y }^{ \\, y \\phantom{\\, t} \\phantom{\\, t} \\phantom{\\, y} } & = & \\frac{1}{4} \\, {\\left(\\beta\\left(t, x, y, z\\right)^{2} + 3\\right)} \\left(\\frac{\\partial\\,\\beta}{\\partial y}\\right)^{2} + \\beta\\left(t, x, y, z\\right) \\frac{\\partial^2\\,\\beta}{\\partial y ^ 2} \\\\ \\mathrm{Riem}\\left(g\\right)_{ \\phantom{\\, y} \\, t \\, t \\, z }^{ \\, y \\phantom{\\, t} \\phantom{\\, t} \\phantom{\\, z} } & = & \\frac{1}{4} \\, {\\left(\\beta\\left(t, x, y, z\\right)^{2} + 3\\right)} \\frac{\\partial\\,\\beta}{\\partial y} \\frac{\\partial\\,\\beta}{\\partial z} + \\beta\\left(t, x, y, z\\right) \\frac{\\partial^2\\,\\beta}{\\partial y\\partial z} \\\\ \\mathrm{Riem}\\left(g\\right)_{ \\phantom{\\, y} \\, t \\, x \\, y }^{ \\, y \\phantom{\\, t} \\phantom{\\, x} \\phantom{\\, y} } & = & -\\frac{1}{4} \\, \\beta\\left(t, x, y, z\\right) \\left(\\frac{\\partial\\,\\beta}{\\partial y}\\right)^{2} - \\frac{1}{2} \\, \\frac{\\partial^2\\,\\beta}{\\partial y ^ 2} \\\\ \\mathrm{Riem}\\left(g\\right)_{ \\phantom{\\, y} \\, t \\, x \\, z }^{ \\, y \\phantom{\\, t} \\phantom{\\, x} \\phantom{\\, z} } & = & -\\frac{1}{4} \\, \\beta\\left(t, x, y, z\\right) \\frac{\\partial\\,\\beta}{\\partial y} \\frac{\\partial\\,\\beta}{\\partial z} - \\frac{1}{2} \\, \\frac{\\partial^2\\,\\beta}{\\partial y\\partial z} \\\\ \\mathrm{Riem}\\left(g\\right)_{ \\phantom{\\, y} \\, x \\, t \\, x }^{ \\, y \\phantom{\\, x} \\phantom{\\, t} \\phantom{\\, x} } & = & -\\frac{1}{2} \\, \\frac{\\partial^2\\,\\beta}{\\partial x\\partial y} \\\\ \\mathrm{Riem}\\left(g\\right)_{ \\phantom{\\, y} \\, x \\, t \\, y }^{ \\, y \\phantom{\\, x} \\phantom{\\, t} \\phantom{\\, y} } & = & -\\frac{1}{4} \\, \\beta\\left(t, x, y, z\\right) \\left(\\frac{\\partial\\,\\beta}{\\partial y}\\right)^{2} - \\frac{1}{2} \\, \\frac{\\partial^2\\,\\beta}{\\partial y ^ 2} \\\\ \\mathrm{Riem}\\left(g\\right)_{ \\phantom{\\, y} \\, x \\, t \\, z }^{ \\, y \\phantom{\\, x} \\phantom{\\, t} \\phantom{\\, z} } & = & -\\frac{1}{4} \\, \\beta\\left(t, x, y, z\\right) \\frac{\\partial\\,\\beta}{\\partial y} \\frac{\\partial\\,\\beta}{\\partial z} - \\frac{1}{2} \\, \\frac{\\partial^2\\,\\beta}{\\partial y\\partial z} \\\\ \\mathrm{Riem}\\left(g\\right)_{ \\phantom{\\, y} \\, x \\, x \\, y }^{ \\, y \\phantom{\\, x} \\phantom{\\, x} \\phantom{\\, y} } & = & \\frac{1}{4} \\, \\left(\\frac{\\partial\\,\\beta}{\\partial y}\\right)^{2} \\\\ \\mathrm{Riem}\\left(g\\right)_{ \\phantom{\\, y} \\, x \\, x \\, z }^{ \\, y \\phantom{\\, x} \\phantom{\\, x} \\phantom{\\, z} } & = & \\frac{1}{4} \\, \\frac{\\partial\\,\\beta}{\\partial y} \\frac{\\partial\\,\\beta}{\\partial z} \\\\ \\mathrm{Riem}\\left(g\\right)_{ \\phantom{\\, z} \\, t \\, t \\, x }^{ \\, z \\phantom{\\, t} \\phantom{\\, t} \\phantom{\\, x} } & = & \\beta\\left(t, x, y, z\\right) \\frac{\\partial^2\\,\\beta}{\\partial x\\partial z} + \\frac{\\partial\\,\\beta}{\\partial x} \\frac{\\partial\\,\\beta}{\\partial z} + \\frac{1}{2} \\, \\frac{\\partial^2\\,\\beta}{\\partial t\\partial z} \\\\ \\mathrm{Riem}\\left(g\\right)_{ \\phantom{\\, z} \\, t \\, t \\, y }^{ \\, z \\phantom{\\, t} \\phantom{\\, t} \\phantom{\\, y} } & = & \\frac{1}{4} \\, {\\left(\\beta\\left(t, x, y, z\\right)^{2} + 3\\right)} \\frac{\\partial\\,\\beta}{\\partial y} \\frac{\\partial\\,\\beta}{\\partial z} + \\beta\\left(t, x, y, z\\right) \\frac{\\partial^2\\,\\beta}{\\partial y\\partial z} \\\\ \\mathrm{Riem}\\left(g\\right)_{ \\phantom{\\, z} \\, t \\, t \\, z }^{ \\, z \\phantom{\\, t} \\phantom{\\, t} \\phantom{\\, z} } & = & \\frac{1}{4} \\, {\\left(\\beta\\left(t, x, y, z\\right)^{2} + 3\\right)} \\left(\\frac{\\partial\\,\\beta}{\\partial z}\\right)^{2} + \\beta\\left(t, x, y, z\\right) \\frac{\\partial^2\\,\\beta}{\\partial z ^ 2} \\\\ \\mathrm{Riem}\\left(g\\right)_{ \\phantom{\\, z} \\, t \\, x \\, y }^{ \\, z \\phantom{\\, t} \\phantom{\\, x} \\phantom{\\, y} } & = & -\\frac{1}{4} \\, \\beta\\left(t, x, y, z\\right) \\frac{\\partial\\,\\beta}{\\partial y} \\frac{\\partial\\,\\beta}{\\partial z} - \\frac{1}{2} \\, \\frac{\\partial^2\\,\\beta}{\\partial y\\partial z} \\\\ \\mathrm{Riem}\\left(g\\right)_{ \\phantom{\\, z} \\, t \\, x \\, z }^{ \\, z \\phantom{\\, t} \\phantom{\\, x} \\phantom{\\, z} } & = & -\\frac{1}{4} \\, \\beta\\left(t, x, y, z\\right) \\left(\\frac{\\partial\\,\\beta}{\\partial z}\\right)^{2} - \\frac{1}{2} \\, \\frac{\\partial^2\\,\\beta}{\\partial z ^ 2} \\\\ \\mathrm{Riem}\\left(g\\right)_{ \\phantom{\\, z} \\, x \\, t \\, x }^{ \\, z \\phantom{\\, x} \\phantom{\\, t} \\phantom{\\, x} } & = & -\\frac{1}{2} \\, \\frac{\\partial^2\\,\\beta}{\\partial x\\partial z} \\\\ \\mathrm{Riem}\\left(g\\right)_{ \\phantom{\\, z} \\, x \\, t \\, y }^{ \\, z \\phantom{\\, x} \\phantom{\\, t} \\phantom{\\, y} } & = & -\\frac{1}{4} \\, \\beta\\left(t, x, y, z\\right) \\frac{\\partial\\,\\beta}{\\partial y} \\frac{\\partial\\,\\beta}{\\partial z} - \\frac{1}{2} \\, \\frac{\\partial^2\\,\\beta}{\\partial y\\partial z} \\\\ \\mathrm{Riem}\\left(g\\right)_{ \\phantom{\\, z} \\, x \\, t \\, z }^{ \\, z \\phantom{\\, x} \\phantom{\\, t} \\phantom{\\, z} } & = & -\\frac{1}{4} \\, \\beta\\left(t, x, y, z\\right) \\left(\\frac{\\partial\\,\\beta}{\\partial z}\\right)^{2} - \\frac{1}{2} \\, \\frac{\\partial^2\\,\\beta}{\\partial z ^ 2} \\\\ \\mathrm{Riem}\\left(g\\right)_{ \\phantom{\\, z} \\, x \\, x \\, y }^{ \\, z \\phantom{\\, x} \\phantom{\\, x} \\phantom{\\, y} } & = & \\frac{1}{4} \\, \\frac{\\partial\\,\\beta}{\\partial y} \\frac{\\partial\\,\\beta}{\\partial z} \\\\ \\mathrm{Riem}\\left(g\\right)_{ \\phantom{\\, z} \\, x \\, x \\, z }^{ \\, z \\phantom{\\, x} \\phantom{\\, x} \\phantom{\\, z} } & = & \\frac{1}{4} \\, \\left(\\frac{\\partial\\,\\beta}{\\partial z}\\right)^{2} \\end{array}$$"
      ],
      "text/plain": [
       "Riem(g)^t_ttx = -betax(t, x, y, z)*(d(betax)/dx)^2 - betax(t, x, y, z)^2*d^2(betax)/dx^2 + 1/4*betax(t, x, y, z)*(d(betax)/dy)^2 + 1/4*betax(t, x, y, z)*(d(betax)/dz)^2 - betax(t, x, y, z)*d^2(betax)/dtdx \n",
       "Riem(g)^t_tty = -betax(t, x, y, z)^2*d^2(betax)/dxdy - betax(t, x, y, z)*d(betax)/dx*d(betax)/dy - 1/2*betax(t, x, y, z)*d^2(betax)/dtdy \n",
       "Riem(g)^t_ttz = -betax(t, x, y, z)^2*d^2(betax)/dxdz - betax(t, x, y, z)*d(betax)/dx*d(betax)/dz - 1/2*betax(t, x, y, z)*d^2(betax)/dtdz \n",
       "Riem(g)^t_txy = 1/2*betax(t, x, y, z)*d^2(betax)/dxdy \n",
       "Riem(g)^t_txz = 1/2*betax(t, x, y, z)*d^2(betax)/dxdz \n",
       "Riem(g)^t_xtx = (d(betax)/dx)^2 + betax(t, x, y, z)*d^2(betax)/dx^2 - 1/4*(d(betax)/dy)^2 - 1/4*(d(betax)/dz)^2 + d^2(betax)/dtdx \n",
       "Riem(g)^t_xty = betax(t, x, y, z)*d^2(betax)/dxdy + d(betax)/dx*d(betax)/dy + 1/2*d^2(betax)/dtdy \n",
       "Riem(g)^t_xtz = betax(t, x, y, z)*d^2(betax)/dxdz + d(betax)/dx*d(betax)/dz + 1/2*d^2(betax)/dtdz \n",
       "Riem(g)^t_xxy = -1/2*d^2(betax)/dxdy \n",
       "Riem(g)^t_xxz = -1/2*d^2(betax)/dxdz \n",
       "Riem(g)^t_ytx = 1/2*betax(t, x, y, z)*d^2(betax)/dxdy + d(betax)/dx*d(betax)/dy + 1/2*d^2(betax)/dtdy \n",
       "Riem(g)^t_yty = 3/4*(d(betax)/dy)^2 + 1/2*betax(t, x, y, z)*d^2(betax)/dy^2 \n",
       "Riem(g)^t_ytz = 1/2*betax(t, x, y, z)*d^2(betax)/dydz + 3/4*d(betax)/dy*d(betax)/dz \n",
       "Riem(g)^t_yxy = -1/2*d^2(betax)/dy^2 \n",
       "Riem(g)^t_yxz = -1/2*d^2(betax)/dydz \n",
       "Riem(g)^t_ztx = 1/2*betax(t, x, y, z)*d^2(betax)/dxdz + d(betax)/dx*d(betax)/dz + 1/2*d^2(betax)/dtdz \n",
       "Riem(g)^t_zty = 1/2*betax(t, x, y, z)*d^2(betax)/dydz + 3/4*d(betax)/dy*d(betax)/dz \n",
       "Riem(g)^t_ztz = 3/4*(d(betax)/dz)^2 + 1/2*betax(t, x, y, z)*d^2(betax)/dz^2 \n",
       "Riem(g)^t_zxy = -1/2*d^2(betax)/dydz \n",
       "Riem(g)^t_zxz = -1/2*d^2(betax)/dz^2 \n",
       "Riem(g)^x_ttx = -(betax(t, x, y, z)^2 - 1)*(d(betax)/dx)^2 + 1/4*(betax(t, x, y, z)^2 - 1)*(d(betax)/dy)^2 + 1/4*(betax(t, x, y, z)^2 - 1)*(d(betax)/dz)^2 - (betax(t, x, y, z)^2 - 1)*d^2(betax)/dtdx - (betax(t, x, y, z)^3 - betax(t, x, y, z))*d^2(betax)/dx^2 \n",
       "Riem(g)^x_tty = -(betax(t, x, y, z)^2 - 1)*d(betax)/dx*d(betax)/dy - 1/2*(betax(t, x, y, z)^2 - 1)*d^2(betax)/dtdy - (betax(t, x, y, z)^3 - betax(t, x, y, z))*d^2(betax)/dxdy \n",
       "Riem(g)^x_ttz = -(betax(t, x, y, z)^2 - 1)*d(betax)/dx*d(betax)/dz - 1/2*(betax(t, x, y, z)^2 - 1)*d^2(betax)/dtdz - (betax(t, x, y, z)^3 - betax(t, x, y, z))*d^2(betax)/dxdz \n",
       "Riem(g)^x_txy = 1/2*(betax(t, x, y, z)^2 - 1)*d^2(betax)/dxdy \n",
       "Riem(g)^x_txz = 1/2*(betax(t, x, y, z)^2 - 1)*d^2(betax)/dxdz \n",
       "Riem(g)^x_xtx = betax(t, x, y, z)*(d(betax)/dx)^2 + betax(t, x, y, z)^2*d^2(betax)/dx^2 - 1/4*betax(t, x, y, z)*(d(betax)/dy)^2 - 1/4*betax(t, x, y, z)*(d(betax)/dz)^2 + betax(t, x, y, z)*d^2(betax)/dtdx \n",
       "Riem(g)^x_xty = betax(t, x, y, z)^2*d^2(betax)/dxdy + betax(t, x, y, z)*d(betax)/dx*d(betax)/dy + 1/2*betax(t, x, y, z)*d^2(betax)/dtdy \n",
       "Riem(g)^x_xtz = betax(t, x, y, z)^2*d^2(betax)/dxdz + betax(t, x, y, z)*d(betax)/dx*d(betax)/dz + 1/2*betax(t, x, y, z)*d^2(betax)/dtdz \n",
       "Riem(g)^x_xxy = -1/2*betax(t, x, y, z)*d^2(betax)/dxdy \n",
       "Riem(g)^x_xxz = -1/2*betax(t, x, y, z)*d^2(betax)/dxdz \n",
       "Riem(g)^x_ytx = betax(t, x, y, z)*d(betax)/dx*d(betax)/dy + 1/2*betax(t, x, y, z)*d^2(betax)/dtdy + 1/2*(betax(t, x, y, z)^2 + 1)*d^2(betax)/dxdy \n",
       "Riem(g)^x_yty = betax(t, x, y, z)*(d(betax)/dy)^2 + 1/2*(betax(t, x, y, z)^2 + 1)*d^2(betax)/dy^2 \n",
       "Riem(g)^x_ytz = betax(t, x, y, z)*d(betax)/dy*d(betax)/dz + 1/2*(betax(t, x, y, z)^2 + 1)*d^2(betax)/dydz \n",
       "Riem(g)^x_yxy = -1/4*(d(betax)/dy)^2 - 1/2*betax(t, x, y, z)*d^2(betax)/dy^2 \n",
       "Riem(g)^x_yxz = -1/2*betax(t, x, y, z)*d^2(betax)/dydz - 1/4*d(betax)/dy*d(betax)/dz \n",
       "Riem(g)^x_ztx = betax(t, x, y, z)*d(betax)/dx*d(betax)/dz + 1/2*betax(t, x, y, z)*d^2(betax)/dtdz + 1/2*(betax(t, x, y, z)^2 + 1)*d^2(betax)/dxdz \n",
       "Riem(g)^x_zty = betax(t, x, y, z)*d(betax)/dy*d(betax)/dz + 1/2*(betax(t, x, y, z)^2 + 1)*d^2(betax)/dydz \n",
       "Riem(g)^x_ztz = betax(t, x, y, z)*(d(betax)/dz)^2 + 1/2*(betax(t, x, y, z)^2 + 1)*d^2(betax)/dz^2 \n",
       "Riem(g)^x_zxy = -1/2*betax(t, x, y, z)*d^2(betax)/dydz - 1/4*d(betax)/dy*d(betax)/dz \n",
       "Riem(g)^x_zxz = -1/4*(d(betax)/dz)^2 - 1/2*betax(t, x, y, z)*d^2(betax)/dz^2 \n",
       "Riem(g)^y_ttx = betax(t, x, y, z)*d^2(betax)/dxdy + d(betax)/dx*d(betax)/dy + 1/2*d^2(betax)/dtdy \n",
       "Riem(g)^y_tty = 1/4*(betax(t, x, y, z)^2 + 3)*(d(betax)/dy)^2 + betax(t, x, y, z)*d^2(betax)/dy^2 \n",
       "Riem(g)^y_ttz = 1/4*(betax(t, x, y, z)^2 + 3)*d(betax)/dy*d(betax)/dz + betax(t, x, y, z)*d^2(betax)/dydz \n",
       "Riem(g)^y_txy = -1/4*betax(t, x, y, z)*(d(betax)/dy)^2 - 1/2*d^2(betax)/dy^2 \n",
       "Riem(g)^y_txz = -1/4*betax(t, x, y, z)*d(betax)/dy*d(betax)/dz - 1/2*d^2(betax)/dydz \n",
       "Riem(g)^y_xtx = -1/2*d^2(betax)/dxdy \n",
       "Riem(g)^y_xty = -1/4*betax(t, x, y, z)*(d(betax)/dy)^2 - 1/2*d^2(betax)/dy^2 \n",
       "Riem(g)^y_xtz = -1/4*betax(t, x, y, z)*d(betax)/dy*d(betax)/dz - 1/2*d^2(betax)/dydz \n",
       "Riem(g)^y_xxy = 1/4*(d(betax)/dy)^2 \n",
       "Riem(g)^y_xxz = 1/4*d(betax)/dy*d(betax)/dz \n",
       "Riem(g)^z_ttx = betax(t, x, y, z)*d^2(betax)/dxdz + d(betax)/dx*d(betax)/dz + 1/2*d^2(betax)/dtdz \n",
       "Riem(g)^z_tty = 1/4*(betax(t, x, y, z)^2 + 3)*d(betax)/dy*d(betax)/dz + betax(t, x, y, z)*d^2(betax)/dydz \n",
       "Riem(g)^z_ttz = 1/4*(betax(t, x, y, z)^2 + 3)*(d(betax)/dz)^2 + betax(t, x, y, z)*d^2(betax)/dz^2 \n",
       "Riem(g)^z_txy = -1/4*betax(t, x, y, z)*d(betax)/dy*d(betax)/dz - 1/2*d^2(betax)/dydz \n",
       "Riem(g)^z_txz = -1/4*betax(t, x, y, z)*(d(betax)/dz)^2 - 1/2*d^2(betax)/dz^2 \n",
       "Riem(g)^z_xtx = -1/2*d^2(betax)/dxdz \n",
       "Riem(g)^z_xty = -1/4*betax(t, x, y, z)*d(betax)/dy*d(betax)/dz - 1/2*d^2(betax)/dydz \n",
       "Riem(g)^z_xtz = -1/4*betax(t, x, y, z)*(d(betax)/dz)^2 - 1/2*d^2(betax)/dz^2 \n",
       "Riem(g)^z_xxy = 1/4*d(betax)/dy*d(betax)/dz \n",
       "Riem(g)^z_xxz = 1/4*(d(betax)/dz)^2 "
      ]
     },
     "execution_count": 9,
     "metadata": {},
     "output_type": "execute_result"
    },
    {
     "data": {
      "text/html": [
       "<html><script type=\"math/tex; mode=display\">\\newcommand{\\Bold}[1]{\\mathbf{#1}}\\begin{array}{lcl} \\mathrm{Riem}\\left(g\\right)_{ \\phantom{\\, t} \\, t \\, t \\, x }^{ \\, t \\phantom{\\, t} \\phantom{\\, t} \\phantom{\\, x} } & = & -\\beta\\left(t, x, y, z\\right) \\left(\\frac{\\partial\\,\\beta}{\\partial x}\\right)^{2} - \\beta\\left(t, x, y, z\\right)^{2} \\frac{\\partial^2\\,\\beta}{\\partial x ^ 2} + \\frac{1}{4} \\, \\beta\\left(t, x, y, z\\right) \\left(\\frac{\\partial\\,\\beta}{\\partial y}\\right)^{2} + \\frac{1}{4} \\, \\beta\\left(t, x, y, z\\right) \\left(\\frac{\\partial\\,\\beta}{\\partial z}\\right)^{2} - \\beta\\left(t, x, y, z\\right) \\frac{\\partial^2\\,\\beta}{\\partial t\\partial x} \\\\ \\mathrm{Riem}\\left(g\\right)_{ \\phantom{\\, t} \\, t \\, t \\, y }^{ \\, t \\phantom{\\, t} \\phantom{\\, t} \\phantom{\\, y} } & = & -\\beta\\left(t, x, y, z\\right)^{2} \\frac{\\partial^2\\,\\beta}{\\partial x\\partial y} - \\beta\\left(t, x, y, z\\right) \\frac{\\partial\\,\\beta}{\\partial x} \\frac{\\partial\\,\\beta}{\\partial y} - \\frac{1}{2} \\, \\beta\\left(t, x, y, z\\right) \\frac{\\partial^2\\,\\beta}{\\partial t\\partial y} \\\\ \\mathrm{Riem}\\left(g\\right)_{ \\phantom{\\, t} \\, t \\, t \\, z }^{ \\, t \\phantom{\\, t} \\phantom{\\, t} \\phantom{\\, z} } & = & -\\beta\\left(t, x, y, z\\right)^{2} \\frac{\\partial^2\\,\\beta}{\\partial x\\partial z} - \\beta\\left(t, x, y, z\\right) \\frac{\\partial\\,\\beta}{\\partial x} \\frac{\\partial\\,\\beta}{\\partial z} - \\frac{1}{2} \\, \\beta\\left(t, x, y, z\\right) \\frac{\\partial^2\\,\\beta}{\\partial t\\partial z} \\\\ \\mathrm{Riem}\\left(g\\right)_{ \\phantom{\\, t} \\, t \\, x \\, y }^{ \\, t \\phantom{\\, t} \\phantom{\\, x} \\phantom{\\, y} } & = & \\frac{1}{2} \\, \\beta\\left(t, x, y, z\\right) \\frac{\\partial^2\\,\\beta}{\\partial x\\partial y} \\\\ \\mathrm{Riem}\\left(g\\right)_{ \\phantom{\\, t} \\, t \\, x \\, z }^{ \\, t \\phantom{\\, t} \\phantom{\\, x} \\phantom{\\, z} } & = & \\frac{1}{2} \\, \\beta\\left(t, x, y, z\\right) \\frac{\\partial^2\\,\\beta}{\\partial x\\partial z} \\\\ \\mathrm{Riem}\\left(g\\right)_{ \\phantom{\\, t} \\, x \\, t \\, x }^{ \\, t \\phantom{\\, x} \\phantom{\\, t} \\phantom{\\, x} } & = & \\left(\\frac{\\partial\\,\\beta}{\\partial x}\\right)^{2} + \\beta\\left(t, x, y, z\\right) \\frac{\\partial^2\\,\\beta}{\\partial x ^ 2} - \\frac{1}{4} \\, \\left(\\frac{\\partial\\,\\beta}{\\partial y}\\right)^{2} - \\frac{1}{4} \\, \\left(\\frac{\\partial\\,\\beta}{\\partial z}\\right)^{2} + \\frac{\\partial^2\\,\\beta}{\\partial t\\partial x} \\\\ \\mathrm{Riem}\\left(g\\right)_{ \\phantom{\\, t} \\, x \\, t \\, y }^{ \\, t \\phantom{\\, x} \\phantom{\\, t} \\phantom{\\, y} } & = & \\beta\\left(t, x, y, z\\right) \\frac{\\partial^2\\,\\beta}{\\partial x\\partial y} + \\frac{\\partial\\,\\beta}{\\partial x} \\frac{\\partial\\,\\beta}{\\partial y} + \\frac{1}{2} \\, \\frac{\\partial^2\\,\\beta}{\\partial t\\partial y} \\\\ \\mathrm{Riem}\\left(g\\right)_{ \\phantom{\\, t} \\, x \\, t \\, z }^{ \\, t \\phantom{\\, x} \\phantom{\\, t} \\phantom{\\, z} } & = & \\beta\\left(t, x, y, z\\right) \\frac{\\partial^2\\,\\beta}{\\partial x\\partial z} + \\frac{\\partial\\,\\beta}{\\partial x} \\frac{\\partial\\,\\beta}{\\partial z} + \\frac{1}{2} \\, \\frac{\\partial^2\\,\\beta}{\\partial t\\partial z} \\\\ \\mathrm{Riem}\\left(g\\right)_{ \\phantom{\\, t} \\, x \\, x \\, y }^{ \\, t \\phantom{\\, x} \\phantom{\\, x} \\phantom{\\, y} } & = & -\\frac{1}{2} \\, \\frac{\\partial^2\\,\\beta}{\\partial x\\partial y} \\\\ \\mathrm{Riem}\\left(g\\right)_{ \\phantom{\\, t} \\, x \\, x \\, z }^{ \\, t \\phantom{\\, x} \\phantom{\\, x} \\phantom{\\, z} } & = & -\\frac{1}{2} \\, \\frac{\\partial^2\\,\\beta}{\\partial x\\partial z} \\\\ \\mathrm{Riem}\\left(g\\right)_{ \\phantom{\\, t} \\, y \\, t \\, x }^{ \\, t \\phantom{\\, y} \\phantom{\\, t} \\phantom{\\, x} } & = & \\frac{1}{2} \\, \\beta\\left(t, x, y, z\\right) \\frac{\\partial^2\\,\\beta}{\\partial x\\partial y} + \\frac{\\partial\\,\\beta}{\\partial x} \\frac{\\partial\\,\\beta}{\\partial y} + \\frac{1}{2} \\, \\frac{\\partial^2\\,\\beta}{\\partial t\\partial y} \\\\ \\mathrm{Riem}\\left(g\\right)_{ \\phantom{\\, t} \\, y \\, t \\, y }^{ \\, t \\phantom{\\, y} \\phantom{\\, t} \\phantom{\\, y} } & = & \\frac{3}{4} \\, \\left(\\frac{\\partial\\,\\beta}{\\partial y}\\right)^{2} + \\frac{1}{2} \\, \\beta\\left(t, x, y, z\\right) \\frac{\\partial^2\\,\\beta}{\\partial y ^ 2} \\\\ \\mathrm{Riem}\\left(g\\right)_{ \\phantom{\\, t} \\, y \\, t \\, z }^{ \\, t \\phantom{\\, y} \\phantom{\\, t} \\phantom{\\, z} } & = & \\frac{1}{2} \\, \\beta\\left(t, x, y, z\\right) \\frac{\\partial^2\\,\\beta}{\\partial y\\partial z} + \\frac{3}{4} \\, \\frac{\\partial\\,\\beta}{\\partial y} \\frac{\\partial\\,\\beta}{\\partial z} \\\\ \\mathrm{Riem}\\left(g\\right)_{ \\phantom{\\, t} \\, y \\, x \\, y }^{ \\, t \\phantom{\\, y} \\phantom{\\, x} \\phantom{\\, y} } & = & -\\frac{1}{2} \\, \\frac{\\partial^2\\,\\beta}{\\partial y ^ 2} \\\\ \\mathrm{Riem}\\left(g\\right)_{ \\phantom{\\, t} \\, y \\, x \\, z }^{ \\, t \\phantom{\\, y} \\phantom{\\, x} \\phantom{\\, z} } & = & -\\frac{1}{2} \\, \\frac{\\partial^2\\,\\beta}{\\partial y\\partial z} \\\\ \\mathrm{Riem}\\left(g\\right)_{ \\phantom{\\, t} \\, z \\, t \\, x }^{ \\, t \\phantom{\\, z} \\phantom{\\, t} \\phantom{\\, x} } & = & \\frac{1}{2} \\, \\beta\\left(t, x, y, z\\right) \\frac{\\partial^2\\,\\beta}{\\partial x\\partial z} + \\frac{\\partial\\,\\beta}{\\partial x} \\frac{\\partial\\,\\beta}{\\partial z} + \\frac{1}{2} \\, \\frac{\\partial^2\\,\\beta}{\\partial t\\partial z} \\\\ \\mathrm{Riem}\\left(g\\right)_{ \\phantom{\\, t} \\, z \\, t \\, y }^{ \\, t \\phantom{\\, z} \\phantom{\\, t} \\phantom{\\, y} } & = & \\frac{1}{2} \\, \\beta\\left(t, x, y, z\\right) \\frac{\\partial^2\\,\\beta}{\\partial y\\partial z} + \\frac{3}{4} \\, \\frac{\\partial\\,\\beta}{\\partial y} \\frac{\\partial\\,\\beta}{\\partial z} \\\\ \\mathrm{Riem}\\left(g\\right)_{ \\phantom{\\, t} \\, z \\, t \\, z }^{ \\, t \\phantom{\\, z} \\phantom{\\, t} \\phantom{\\, z} } & = & \\frac{3}{4} \\, \\left(\\frac{\\partial\\,\\beta}{\\partial z}\\right)^{2} + \\frac{1}{2} \\, \\beta\\left(t, x, y, z\\right) \\frac{\\partial^2\\,\\beta}{\\partial z ^ 2} \\\\ \\mathrm{Riem}\\left(g\\right)_{ \\phantom{\\, t} \\, z \\, x \\, y }^{ \\, t \\phantom{\\, z} \\phantom{\\, x} \\phantom{\\, y} } & = & -\\frac{1}{2} \\, \\frac{\\partial^2\\,\\beta}{\\partial y\\partial z} \\\\ \\mathrm{Riem}\\left(g\\right)_{ \\phantom{\\, t} \\, z \\, x \\, z }^{ \\, t \\phantom{\\, z} \\phantom{\\, x} \\phantom{\\, z} } & = & -\\frac{1}{2} \\, \\frac{\\partial^2\\,\\beta}{\\partial z ^ 2} \\\\ \\mathrm{Riem}\\left(g\\right)_{ \\phantom{\\, x} \\, t \\, t \\, x }^{ \\, x \\phantom{\\, t} \\phantom{\\, t} \\phantom{\\, x} } & = & -{\\left(\\beta\\left(t, x, y, z\\right)^{2} - 1\\right)} \\left(\\frac{\\partial\\,\\beta}{\\partial x}\\right)^{2} + \\frac{1}{4} \\, {\\left(\\beta\\left(t, x, y, z\\right)^{2} - 1\\right)} \\left(\\frac{\\partial\\,\\beta}{\\partial y}\\right)^{2} + \\frac{1}{4} \\, {\\left(\\beta\\left(t, x, y, z\\right)^{2} - 1\\right)} \\left(\\frac{\\partial\\,\\beta}{\\partial z}\\right)^{2} - {\\left(\\beta\\left(t, x, y, z\\right)^{2} - 1\\right)} \\frac{\\partial^2\\,\\beta}{\\partial t\\partial x} - {\\left(\\beta\\left(t, x, y, z\\right)^{3} - \\beta\\left(t, x, y, z\\right)\\right)} \\frac{\\partial^2\\,\\beta}{\\partial x ^ 2} \\\\ \\mathrm{Riem}\\left(g\\right)_{ \\phantom{\\, x} \\, t \\, t \\, y }^{ \\, x \\phantom{\\, t} \\phantom{\\, t} \\phantom{\\, y} } & = & -{\\left(\\beta\\left(t, x, y, z\\right)^{2} - 1\\right)} \\frac{\\partial\\,\\beta}{\\partial x} \\frac{\\partial\\,\\beta}{\\partial y} - \\frac{1}{2} \\, {\\left(\\beta\\left(t, x, y, z\\right)^{2} - 1\\right)} \\frac{\\partial^2\\,\\beta}{\\partial t\\partial y} - {\\left(\\beta\\left(t, x, y, z\\right)^{3} - \\beta\\left(t, x, y, z\\right)\\right)} \\frac{\\partial^2\\,\\beta}{\\partial x\\partial y} \\\\ \\mathrm{Riem}\\left(g\\right)_{ \\phantom{\\, x} \\, t \\, t \\, z }^{ \\, x \\phantom{\\, t} \\phantom{\\, t} \\phantom{\\, z} } & = & -{\\left(\\beta\\left(t, x, y, z\\right)^{2} - 1\\right)} \\frac{\\partial\\,\\beta}{\\partial x} \\frac{\\partial\\,\\beta}{\\partial z} - \\frac{1}{2} \\, {\\left(\\beta\\left(t, x, y, z\\right)^{2} - 1\\right)} \\frac{\\partial^2\\,\\beta}{\\partial t\\partial z} - {\\left(\\beta\\left(t, x, y, z\\right)^{3} - \\beta\\left(t, x, y, z\\right)\\right)} \\frac{\\partial^2\\,\\beta}{\\partial x\\partial z} \\\\ \\mathrm{Riem}\\left(g\\right)_{ \\phantom{\\, x} \\, t \\, x \\, y }^{ \\, x \\phantom{\\, t} \\phantom{\\, x} \\phantom{\\, y} } & = & \\frac{1}{2} \\, {\\left(\\beta\\left(t, x, y, z\\right)^{2} - 1\\right)} \\frac{\\partial^2\\,\\beta}{\\partial x\\partial y} \\\\ \\mathrm{Riem}\\left(g\\right)_{ \\phantom{\\, x} \\, t \\, x \\, z }^{ \\, x \\phantom{\\, t} \\phantom{\\, x} \\phantom{\\, z} } & = & \\frac{1}{2} \\, {\\left(\\beta\\left(t, x, y, z\\right)^{2} - 1\\right)} \\frac{\\partial^2\\,\\beta}{\\partial x\\partial z} \\\\ \\mathrm{Riem}\\left(g\\right)_{ \\phantom{\\, x} \\, x \\, t \\, x }^{ \\, x \\phantom{\\, x} \\phantom{\\, t} \\phantom{\\, x} } & = & \\beta\\left(t, x, y, z\\right) \\left(\\frac{\\partial\\,\\beta}{\\partial x}\\right)^{2} + \\beta\\left(t, x, y, z\\right)^{2} \\frac{\\partial^2\\,\\beta}{\\partial x ^ 2} - \\frac{1}{4} \\, \\beta\\left(t, x, y, z\\right) \\left(\\frac{\\partial\\,\\beta}{\\partial y}\\right)^{2} - \\frac{1}{4} \\, \\beta\\left(t, x, y, z\\right) \\left(\\frac{\\partial\\,\\beta}{\\partial z}\\right)^{2} + \\beta\\left(t, x, y, z\\right) \\frac{\\partial^2\\,\\beta}{\\partial t\\partial x} \\\\ \\mathrm{Riem}\\left(g\\right)_{ \\phantom{\\, x} \\, x \\, t \\, y }^{ \\, x \\phantom{\\, x} \\phantom{\\, t} \\phantom{\\, y} } & = & \\beta\\left(t, x, y, z\\right)^{2} \\frac{\\partial^2\\,\\beta}{\\partial x\\partial y} + \\beta\\left(t, x, y, z\\right) \\frac{\\partial\\,\\beta}{\\partial x} \\frac{\\partial\\,\\beta}{\\partial y} + \\frac{1}{2} \\, \\beta\\left(t, x, y, z\\right) \\frac{\\partial^2\\,\\beta}{\\partial t\\partial y} \\\\ \\mathrm{Riem}\\left(g\\right)_{ \\phantom{\\, x} \\, x \\, t \\, z }^{ \\, x \\phantom{\\, x} \\phantom{\\, t} \\phantom{\\, z} } & = & \\beta\\left(t, x, y, z\\right)^{2} \\frac{\\partial^2\\,\\beta}{\\partial x\\partial z} + \\beta\\left(t, x, y, z\\right) \\frac{\\partial\\,\\beta}{\\partial x} \\frac{\\partial\\,\\beta}{\\partial z} + \\frac{1}{2} \\, \\beta\\left(t, x, y, z\\right) \\frac{\\partial^2\\,\\beta}{\\partial t\\partial z} \\\\ \\mathrm{Riem}\\left(g\\right)_{ \\phantom{\\, x} \\, x \\, x \\, y }^{ \\, x \\phantom{\\, x} \\phantom{\\, x} \\phantom{\\, y} } & = & -\\frac{1}{2} \\, \\beta\\left(t, x, y, z\\right) \\frac{\\partial^2\\,\\beta}{\\partial x\\partial y} \\\\ \\mathrm{Riem}\\left(g\\right)_{ \\phantom{\\, x} \\, x \\, x \\, z }^{ \\, x \\phantom{\\, x} \\phantom{\\, x} \\phantom{\\, z} } & = & -\\frac{1}{2} \\, \\beta\\left(t, x, y, z\\right) \\frac{\\partial^2\\,\\beta}{\\partial x\\partial z} \\\\ \\mathrm{Riem}\\left(g\\right)_{ \\phantom{\\, x} \\, y \\, t \\, x }^{ \\, x \\phantom{\\, y} \\phantom{\\, t} \\phantom{\\, x} } & = & \\beta\\left(t, x, y, z\\right) \\frac{\\partial\\,\\beta}{\\partial x} \\frac{\\partial\\,\\beta}{\\partial y} + \\frac{1}{2} \\, \\beta\\left(t, x, y, z\\right) \\frac{\\partial^2\\,\\beta}{\\partial t\\partial y} + \\frac{1}{2} \\, {\\left(\\beta\\left(t, x, y, z\\right)^{2} + 1\\right)} \\frac{\\partial^2\\,\\beta}{\\partial x\\partial y} \\\\ \\mathrm{Riem}\\left(g\\right)_{ \\phantom{\\, x} \\, y \\, t \\, y }^{ \\, x \\phantom{\\, y} \\phantom{\\, t} \\phantom{\\, y} } & = & \\beta\\left(t, x, y, z\\right) \\left(\\frac{\\partial\\,\\beta}{\\partial y}\\right)^{2} + \\frac{1}{2} \\, {\\left(\\beta\\left(t, x, y, z\\right)^{2} + 1\\right)} \\frac{\\partial^2\\,\\beta}{\\partial y ^ 2} \\\\ \\mathrm{Riem}\\left(g\\right)_{ \\phantom{\\, x} \\, y \\, t \\, z }^{ \\, x \\phantom{\\, y} \\phantom{\\, t} \\phantom{\\, z} } & = & \\beta\\left(t, x, y, z\\right) \\frac{\\partial\\,\\beta}{\\partial y} \\frac{\\partial\\,\\beta}{\\partial z} + \\frac{1}{2} \\, {\\left(\\beta\\left(t, x, y, z\\right)^{2} + 1\\right)} \\frac{\\partial^2\\,\\beta}{\\partial y\\partial z} \\\\ \\mathrm{Riem}\\left(g\\right)_{ \\phantom{\\, x} \\, y \\, x \\, y }^{ \\, x \\phantom{\\, y} \\phantom{\\, x} \\phantom{\\, y} } & = & -\\frac{1}{4} \\, \\left(\\frac{\\partial\\,\\beta}{\\partial y}\\right)^{2} - \\frac{1}{2} \\, \\beta\\left(t, x, y, z\\right) \\frac{\\partial^2\\,\\beta}{\\partial y ^ 2} \\\\ \\mathrm{Riem}\\left(g\\right)_{ \\phantom{\\, x} \\, y \\, x \\, z }^{ \\, x \\phantom{\\, y} \\phantom{\\, x} \\phantom{\\, z} } & = & -\\frac{1}{2} \\, \\beta\\left(t, x, y, z\\right) \\frac{\\partial^2\\,\\beta}{\\partial y\\partial z} - \\frac{1}{4} \\, \\frac{\\partial\\,\\beta}{\\partial y} \\frac{\\partial\\,\\beta}{\\partial z} \\\\ \\mathrm{Riem}\\left(g\\right)_{ \\phantom{\\, x} \\, z \\, t \\, x }^{ \\, x \\phantom{\\, z} \\phantom{\\, t} \\phantom{\\, x} } & = & \\beta\\left(t, x, y, z\\right) \\frac{\\partial\\,\\beta}{\\partial x} \\frac{\\partial\\,\\beta}{\\partial z} + \\frac{1}{2} \\, \\beta\\left(t, x, y, z\\right) \\frac{\\partial^2\\,\\beta}{\\partial t\\partial z} + \\frac{1}{2} \\, {\\left(\\beta\\left(t, x, y, z\\right)^{2} + 1\\right)} \\frac{\\partial^2\\,\\beta}{\\partial x\\partial z} \\\\ \\mathrm{Riem}\\left(g\\right)_{ \\phantom{\\, x} \\, z \\, t \\, y }^{ \\, x \\phantom{\\, z} \\phantom{\\, t} \\phantom{\\, y} } & = & \\beta\\left(t, x, y, z\\right) \\frac{\\partial\\,\\beta}{\\partial y} \\frac{\\partial\\,\\beta}{\\partial z} + \\frac{1}{2} \\, {\\left(\\beta\\left(t, x, y, z\\right)^{2} + 1\\right)} \\frac{\\partial^2\\,\\beta}{\\partial y\\partial z} \\\\ \\mathrm{Riem}\\left(g\\right)_{ \\phantom{\\, x} \\, z \\, t \\, z }^{ \\, x \\phantom{\\, z} \\phantom{\\, t} \\phantom{\\, z} } & = & \\beta\\left(t, x, y, z\\right) \\left(\\frac{\\partial\\,\\beta}{\\partial z}\\right)^{2} + \\frac{1}{2} \\, {\\left(\\beta\\left(t, x, y, z\\right)^{2} + 1\\right)} \\frac{\\partial^2\\,\\beta}{\\partial z ^ 2} \\\\ \\mathrm{Riem}\\left(g\\right)_{ \\phantom{\\, x} \\, z \\, x \\, y }^{ \\, x \\phantom{\\, z} \\phantom{\\, x} \\phantom{\\, y} } & = & -\\frac{1}{2} \\, \\beta\\left(t, x, y, z\\right) \\frac{\\partial^2\\,\\beta}{\\partial y\\partial z} - \\frac{1}{4} \\, \\frac{\\partial\\,\\beta}{\\partial y} \\frac{\\partial\\,\\beta}{\\partial z} \\\\ \\mathrm{Riem}\\left(g\\right)_{ \\phantom{\\, x} \\, z \\, x \\, z }^{ \\, x \\phantom{\\, z} \\phantom{\\, x} \\phantom{\\, z} } & = & -\\frac{1}{4} \\, \\left(\\frac{\\partial\\,\\beta}{\\partial z}\\right)^{2} - \\frac{1}{2} \\, \\beta\\left(t, x, y, z\\right) \\frac{\\partial^2\\,\\beta}{\\partial z ^ 2} \\\\ \\mathrm{Riem}\\left(g\\right)_{ \\phantom{\\, y} \\, t \\, t \\, x }^{ \\, y \\phantom{\\, t} \\phantom{\\, t} \\phantom{\\, x} } & = & \\beta\\left(t, x, y, z\\right) \\frac{\\partial^2\\,\\beta}{\\partial x\\partial y} + \\frac{\\partial\\,\\beta}{\\partial x} \\frac{\\partial\\,\\beta}{\\partial y} + \\frac{1}{2} \\, \\frac{\\partial^2\\,\\beta}{\\partial t\\partial y} \\\\ \\mathrm{Riem}\\left(g\\right)_{ \\phantom{\\, y} \\, t \\, t \\, y }^{ \\, y \\phantom{\\, t} \\phantom{\\, t} \\phantom{\\, y} } & = & \\frac{1}{4} \\, {\\left(\\beta\\left(t, x, y, z\\right)^{2} + 3\\right)} \\left(\\frac{\\partial\\,\\beta}{\\partial y}\\right)^{2} + \\beta\\left(t, x, y, z\\right) \\frac{\\partial^2\\,\\beta}{\\partial y ^ 2} \\\\ \\mathrm{Riem}\\left(g\\right)_{ \\phantom{\\, y} \\, t \\, t \\, z }^{ \\, y \\phantom{\\, t} \\phantom{\\, t} \\phantom{\\, z} } & = & \\frac{1}{4} \\, {\\left(\\beta\\left(t, x, y, z\\right)^{2} + 3\\right)} \\frac{\\partial\\,\\beta}{\\partial y} \\frac{\\partial\\,\\beta}{\\partial z} + \\beta\\left(t, x, y, z\\right) \\frac{\\partial^2\\,\\beta}{\\partial y\\partial z} \\\\ \\mathrm{Riem}\\left(g\\right)_{ \\phantom{\\, y} \\, t \\, x \\, y }^{ \\, y \\phantom{\\, t} \\phantom{\\, x} \\phantom{\\, y} } & = & -\\frac{1}{4} \\, \\beta\\left(t, x, y, z\\right) \\left(\\frac{\\partial\\,\\beta}{\\partial y}\\right)^{2} - \\frac{1}{2} \\, \\frac{\\partial^2\\,\\beta}{\\partial y ^ 2} \\\\ \\mathrm{Riem}\\left(g\\right)_{ \\phantom{\\, y} \\, t \\, x \\, z }^{ \\, y \\phantom{\\, t} \\phantom{\\, x} \\phantom{\\, z} } & = & -\\frac{1}{4} \\, \\beta\\left(t, x, y, z\\right) \\frac{\\partial\\,\\beta}{\\partial y} \\frac{\\partial\\,\\beta}{\\partial z} - \\frac{1}{2} \\, \\frac{\\partial^2\\,\\beta}{\\partial y\\partial z} \\\\ \\mathrm{Riem}\\left(g\\right)_{ \\phantom{\\, y} \\, x \\, t \\, x }^{ \\, y \\phantom{\\, x} \\phantom{\\, t} \\phantom{\\, x} } & = & -\\frac{1}{2} \\, \\frac{\\partial^2\\,\\beta}{\\partial x\\partial y} \\\\ \\mathrm{Riem}\\left(g\\right)_{ \\phantom{\\, y} \\, x \\, t \\, y }^{ \\, y \\phantom{\\, x} \\phantom{\\, t} \\phantom{\\, y} } & = & -\\frac{1}{4} \\, \\beta\\left(t, x, y, z\\right) \\left(\\frac{\\partial\\,\\beta}{\\partial y}\\right)^{2} - \\frac{1}{2} \\, \\frac{\\partial^2\\,\\beta}{\\partial y ^ 2} \\\\ \\mathrm{Riem}\\left(g\\right)_{ \\phantom{\\, y} \\, x \\, t \\, z }^{ \\, y \\phantom{\\, x} \\phantom{\\, t} \\phantom{\\, z} } & = & -\\frac{1}{4} \\, \\beta\\left(t, x, y, z\\right) \\frac{\\partial\\,\\beta}{\\partial y} \\frac{\\partial\\,\\beta}{\\partial z} - \\frac{1}{2} \\, \\frac{\\partial^2\\,\\beta}{\\partial y\\partial z} \\\\ \\mathrm{Riem}\\left(g\\right)_{ \\phantom{\\, y} \\, x \\, x \\, y }^{ \\, y \\phantom{\\, x} \\phantom{\\, x} \\phantom{\\, y} } & = & \\frac{1}{4} \\, \\left(\\frac{\\partial\\,\\beta}{\\partial y}\\right)^{2} \\\\ \\mathrm{Riem}\\left(g\\right)_{ \\phantom{\\, y} \\, x \\, x \\, z }^{ \\, y \\phantom{\\, x} \\phantom{\\, x} \\phantom{\\, z} } & = & \\frac{1}{4} \\, \\frac{\\partial\\,\\beta}{\\partial y} \\frac{\\partial\\,\\beta}{\\partial z} \\\\ \\mathrm{Riem}\\left(g\\right)_{ \\phantom{\\, z} \\, t \\, t \\, x }^{ \\, z \\phantom{\\, t} \\phantom{\\, t} \\phantom{\\, x} } & = & \\beta\\left(t, x, y, z\\right) \\frac{\\partial^2\\,\\beta}{\\partial x\\partial z} + \\frac{\\partial\\,\\beta}{\\partial x} \\frac{\\partial\\,\\beta}{\\partial z} + \\frac{1}{2} \\, \\frac{\\partial^2\\,\\beta}{\\partial t\\partial z} \\\\ \\mathrm{Riem}\\left(g\\right)_{ \\phantom{\\, z} \\, t \\, t \\, y }^{ \\, z \\phantom{\\, t} \\phantom{\\, t} \\phantom{\\, y} } & = & \\frac{1}{4} \\, {\\left(\\beta\\left(t, x, y, z\\right)^{2} + 3\\right)} \\frac{\\partial\\,\\beta}{\\partial y} \\frac{\\partial\\,\\beta}{\\partial z} + \\beta\\left(t, x, y, z\\right) \\frac{\\partial^2\\,\\beta}{\\partial y\\partial z} \\\\ \\mathrm{Riem}\\left(g\\right)_{ \\phantom{\\, z} \\, t \\, t \\, z }^{ \\, z \\phantom{\\, t} \\phantom{\\, t} \\phantom{\\, z} } & = & \\frac{1}{4} \\, {\\left(\\beta\\left(t, x, y, z\\right)^{2} + 3\\right)} \\left(\\frac{\\partial\\,\\beta}{\\partial z}\\right)^{2} + \\beta\\left(t, x, y, z\\right) \\frac{\\partial^2\\,\\beta}{\\partial z ^ 2} \\\\ \\mathrm{Riem}\\left(g\\right)_{ \\phantom{\\, z} \\, t \\, x \\, y }^{ \\, z \\phantom{\\, t} \\phantom{\\, x} \\phantom{\\, y} } & = & -\\frac{1}{4} \\, \\beta\\left(t, x, y, z\\right) \\frac{\\partial\\,\\beta}{\\partial y} \\frac{\\partial\\,\\beta}{\\partial z} - \\frac{1}{2} \\, \\frac{\\partial^2\\,\\beta}{\\partial y\\partial z} \\\\ \\mathrm{Riem}\\left(g\\right)_{ \\phantom{\\, z} \\, t \\, x \\, z }^{ \\, z \\phantom{\\, t} \\phantom{\\, x} \\phantom{\\, z} } & = & -\\frac{1}{4} \\, \\beta\\left(t, x, y, z\\right) \\left(\\frac{\\partial\\,\\beta}{\\partial z}\\right)^{2} - \\frac{1}{2} \\, \\frac{\\partial^2\\,\\beta}{\\partial z ^ 2} \\\\ \\mathrm{Riem}\\left(g\\right)_{ \\phantom{\\, z} \\, x \\, t \\, x }^{ \\, z \\phantom{\\, x} \\phantom{\\, t} \\phantom{\\, x} } & = & -\\frac{1}{2} \\, \\frac{\\partial^2\\,\\beta}{\\partial x\\partial z} \\\\ \\mathrm{Riem}\\left(g\\right)_{ \\phantom{\\, z} \\, x \\, t \\, y }^{ \\, z \\phantom{\\, x} \\phantom{\\, t} \\phantom{\\, y} } & = & -\\frac{1}{4} \\, \\beta\\left(t, x, y, z\\right) \\frac{\\partial\\,\\beta}{\\partial y} \\frac{\\partial\\,\\beta}{\\partial z} - \\frac{1}{2} \\, \\frac{\\partial^2\\,\\beta}{\\partial y\\partial z} \\\\ \\mathrm{Riem}\\left(g\\right)_{ \\phantom{\\, z} \\, x \\, t \\, z }^{ \\, z \\phantom{\\, x} \\phantom{\\, t} \\phantom{\\, z} } & = & -\\frac{1}{4} \\, \\beta\\left(t, x, y, z\\right) \\left(\\frac{\\partial\\,\\beta}{\\partial z}\\right)^{2} - \\frac{1}{2} \\, \\frac{\\partial^2\\,\\beta}{\\partial z ^ 2} \\\\ \\mathrm{Riem}\\left(g\\right)_{ \\phantom{\\, z} \\, x \\, x \\, y }^{ \\, z \\phantom{\\, x} \\phantom{\\, x} \\phantom{\\, y} } & = & \\frac{1}{4} \\, \\frac{\\partial\\,\\beta}{\\partial y} \\frac{\\partial\\,\\beta}{\\partial z} \\\\ \\mathrm{Riem}\\left(g\\right)_{ \\phantom{\\, z} \\, x \\, x \\, z }^{ \\, z \\phantom{\\, x} \\phantom{\\, x} \\phantom{\\, z} } & = & \\frac{1}{4} \\, \\left(\\frac{\\partial\\,\\beta}{\\partial z}\\right)^{2} \\end{array}</script></html>"
      ],
      "text/latex": [
       "$$\\newcommand{\\Bold}[1]{\\mathbf{#1}}\\begin{array}{lcl} \\mathrm{Riem}\\left(g\\right)_{ \\phantom{\\, t} \\, t \\, t \\, x }^{ \\, t \\phantom{\\, t} \\phantom{\\, t} \\phantom{\\, x} } & = & -\\beta\\left(t, x, y, z\\right) \\left(\\frac{\\partial\\,\\beta}{\\partial x}\\right)^{2} - \\beta\\left(t, x, y, z\\right)^{2} \\frac{\\partial^2\\,\\beta}{\\partial x ^ 2} + \\frac{1}{4} \\, \\beta\\left(t, x, y, z\\right) \\left(\\frac{\\partial\\,\\beta}{\\partial y}\\right)^{2} + \\frac{1}{4} \\, \\beta\\left(t, x, y, z\\right) \\left(\\frac{\\partial\\,\\beta}{\\partial z}\\right)^{2} - \\beta\\left(t, x, y, z\\right) \\frac{\\partial^2\\,\\beta}{\\partial t\\partial x} \\\\ \\mathrm{Riem}\\left(g\\right)_{ \\phantom{\\, t} \\, t \\, t \\, y }^{ \\, t \\phantom{\\, t} \\phantom{\\, t} \\phantom{\\, y} } & = & -\\beta\\left(t, x, y, z\\right)^{2} \\frac{\\partial^2\\,\\beta}{\\partial x\\partial y} - \\beta\\left(t, x, y, z\\right) \\frac{\\partial\\,\\beta}{\\partial x} \\frac{\\partial\\,\\beta}{\\partial y} - \\frac{1}{2} \\, \\beta\\left(t, x, y, z\\right) \\frac{\\partial^2\\,\\beta}{\\partial t\\partial y} \\\\ \\mathrm{Riem}\\left(g\\right)_{ \\phantom{\\, t} \\, t \\, t \\, z }^{ \\, t \\phantom{\\, t} \\phantom{\\, t} \\phantom{\\, z} } & = & -\\beta\\left(t, x, y, z\\right)^{2} \\frac{\\partial^2\\,\\beta}{\\partial x\\partial z} - \\beta\\left(t, x, y, z\\right) \\frac{\\partial\\,\\beta}{\\partial x} \\frac{\\partial\\,\\beta}{\\partial z} - \\frac{1}{2} \\, \\beta\\left(t, x, y, z\\right) \\frac{\\partial^2\\,\\beta}{\\partial t\\partial z} \\\\ \\mathrm{Riem}\\left(g\\right)_{ \\phantom{\\, t} \\, t \\, x \\, y }^{ \\, t \\phantom{\\, t} \\phantom{\\, x} \\phantom{\\, y} } & = & \\frac{1}{2} \\, \\beta\\left(t, x, y, z\\right) \\frac{\\partial^2\\,\\beta}{\\partial x\\partial y} \\\\ \\mathrm{Riem}\\left(g\\right)_{ \\phantom{\\, t} \\, t \\, x \\, z }^{ \\, t \\phantom{\\, t} \\phantom{\\, x} \\phantom{\\, z} } & = & \\frac{1}{2} \\, \\beta\\left(t, x, y, z\\right) \\frac{\\partial^2\\,\\beta}{\\partial x\\partial z} \\\\ \\mathrm{Riem}\\left(g\\right)_{ \\phantom{\\, t} \\, x \\, t \\, x }^{ \\, t \\phantom{\\, x} \\phantom{\\, t} \\phantom{\\, x} } & = & \\left(\\frac{\\partial\\,\\beta}{\\partial x}\\right)^{2} + \\beta\\left(t, x, y, z\\right) \\frac{\\partial^2\\,\\beta}{\\partial x ^ 2} - \\frac{1}{4} \\, \\left(\\frac{\\partial\\,\\beta}{\\partial y}\\right)^{2} - \\frac{1}{4} \\, \\left(\\frac{\\partial\\,\\beta}{\\partial z}\\right)^{2} + \\frac{\\partial^2\\,\\beta}{\\partial t\\partial x} \\\\ \\mathrm{Riem}\\left(g\\right)_{ \\phantom{\\, t} \\, x \\, t \\, y }^{ \\, t \\phantom{\\, x} \\phantom{\\, t} \\phantom{\\, y} } & = & \\beta\\left(t, x, y, z\\right) \\frac{\\partial^2\\,\\beta}{\\partial x\\partial y} + \\frac{\\partial\\,\\beta}{\\partial x} \\frac{\\partial\\,\\beta}{\\partial y} + \\frac{1}{2} \\, \\frac{\\partial^2\\,\\beta}{\\partial t\\partial y} \\\\ \\mathrm{Riem}\\left(g\\right)_{ \\phantom{\\, t} \\, x \\, t \\, z }^{ \\, t \\phantom{\\, x} \\phantom{\\, t} \\phantom{\\, z} } & = & \\beta\\left(t, x, y, z\\right) \\frac{\\partial^2\\,\\beta}{\\partial x\\partial z} + \\frac{\\partial\\,\\beta}{\\partial x} \\frac{\\partial\\,\\beta}{\\partial z} + \\frac{1}{2} \\, \\frac{\\partial^2\\,\\beta}{\\partial t\\partial z} \\\\ \\mathrm{Riem}\\left(g\\right)_{ \\phantom{\\, t} \\, x \\, x \\, y }^{ \\, t \\phantom{\\, x} \\phantom{\\, x} \\phantom{\\, y} } & = & -\\frac{1}{2} \\, \\frac{\\partial^2\\,\\beta}{\\partial x\\partial y} \\\\ \\mathrm{Riem}\\left(g\\right)_{ \\phantom{\\, t} \\, x \\, x \\, z }^{ \\, t \\phantom{\\, x} \\phantom{\\, x} \\phantom{\\, z} } & = & -\\frac{1}{2} \\, \\frac{\\partial^2\\,\\beta}{\\partial x\\partial z} \\\\ \\mathrm{Riem}\\left(g\\right)_{ \\phantom{\\, t} \\, y \\, t \\, x }^{ \\, t \\phantom{\\, y} \\phantom{\\, t} \\phantom{\\, x} } & = & \\frac{1}{2} \\, \\beta\\left(t, x, y, z\\right) \\frac{\\partial^2\\,\\beta}{\\partial x\\partial y} + \\frac{\\partial\\,\\beta}{\\partial x} \\frac{\\partial\\,\\beta}{\\partial y} + \\frac{1}{2} \\, \\frac{\\partial^2\\,\\beta}{\\partial t\\partial y} \\\\ \\mathrm{Riem}\\left(g\\right)_{ \\phantom{\\, t} \\, y \\, t \\, y }^{ \\, t \\phantom{\\, y} \\phantom{\\, t} \\phantom{\\, y} } & = & \\frac{3}{4} \\, \\left(\\frac{\\partial\\,\\beta}{\\partial y}\\right)^{2} + \\frac{1}{2} \\, \\beta\\left(t, x, y, z\\right) \\frac{\\partial^2\\,\\beta}{\\partial y ^ 2} \\\\ \\mathrm{Riem}\\left(g\\right)_{ \\phantom{\\, t} \\, y \\, t \\, z }^{ \\, t \\phantom{\\, y} \\phantom{\\, t} \\phantom{\\, z} } & = & \\frac{1}{2} \\, \\beta\\left(t, x, y, z\\right) \\frac{\\partial^2\\,\\beta}{\\partial y\\partial z} + \\frac{3}{4} \\, \\frac{\\partial\\,\\beta}{\\partial y} \\frac{\\partial\\,\\beta}{\\partial z} \\\\ \\mathrm{Riem}\\left(g\\right)_{ \\phantom{\\, t} \\, y \\, x \\, y }^{ \\, t \\phantom{\\, y} \\phantom{\\, x} \\phantom{\\, y} } & = & -\\frac{1}{2} \\, \\frac{\\partial^2\\,\\beta}{\\partial y ^ 2} \\\\ \\mathrm{Riem}\\left(g\\right)_{ \\phantom{\\, t} \\, y \\, x \\, z }^{ \\, t \\phantom{\\, y} \\phantom{\\, x} \\phantom{\\, z} } & = & -\\frac{1}{2} \\, \\frac{\\partial^2\\,\\beta}{\\partial y\\partial z} \\\\ \\mathrm{Riem}\\left(g\\right)_{ \\phantom{\\, t} \\, z \\, t \\, x }^{ \\, t \\phantom{\\, z} \\phantom{\\, t} \\phantom{\\, x} } & = & \\frac{1}{2} \\, \\beta\\left(t, x, y, z\\right) \\frac{\\partial^2\\,\\beta}{\\partial x\\partial z} + \\frac{\\partial\\,\\beta}{\\partial x} \\frac{\\partial\\,\\beta}{\\partial z} + \\frac{1}{2} \\, \\frac{\\partial^2\\,\\beta}{\\partial t\\partial z} \\\\ \\mathrm{Riem}\\left(g\\right)_{ \\phantom{\\, t} \\, z \\, t \\, y }^{ \\, t \\phantom{\\, z} \\phantom{\\, t} \\phantom{\\, y} } & = & \\frac{1}{2} \\, \\beta\\left(t, x, y, z\\right) \\frac{\\partial^2\\,\\beta}{\\partial y\\partial z} + \\frac{3}{4} \\, \\frac{\\partial\\,\\beta}{\\partial y} \\frac{\\partial\\,\\beta}{\\partial z} \\\\ \\mathrm{Riem}\\left(g\\right)_{ \\phantom{\\, t} \\, z \\, t \\, z }^{ \\, t \\phantom{\\, z} \\phantom{\\, t} \\phantom{\\, z} } & = & \\frac{3}{4} \\, \\left(\\frac{\\partial\\,\\beta}{\\partial z}\\right)^{2} + \\frac{1}{2} \\, \\beta\\left(t, x, y, z\\right) \\frac{\\partial^2\\,\\beta}{\\partial z ^ 2} \\\\ \\mathrm{Riem}\\left(g\\right)_{ \\phantom{\\, t} \\, z \\, x \\, y }^{ \\, t \\phantom{\\, z} \\phantom{\\, x} \\phantom{\\, y} } & = & -\\frac{1}{2} \\, \\frac{\\partial^2\\,\\beta}{\\partial y\\partial z} \\\\ \\mathrm{Riem}\\left(g\\right)_{ \\phantom{\\, t} \\, z \\, x \\, z }^{ \\, t \\phantom{\\, z} \\phantom{\\, x} \\phantom{\\, z} } & = & -\\frac{1}{2} \\, \\frac{\\partial^2\\,\\beta}{\\partial z ^ 2} \\\\ \\mathrm{Riem}\\left(g\\right)_{ \\phantom{\\, x} \\, t \\, t \\, x }^{ \\, x \\phantom{\\, t} \\phantom{\\, t} \\phantom{\\, x} } & = & -{\\left(\\beta\\left(t, x, y, z\\right)^{2} - 1\\right)} \\left(\\frac{\\partial\\,\\beta}{\\partial x}\\right)^{2} + \\frac{1}{4} \\, {\\left(\\beta\\left(t, x, y, z\\right)^{2} - 1\\right)} \\left(\\frac{\\partial\\,\\beta}{\\partial y}\\right)^{2} + \\frac{1}{4} \\, {\\left(\\beta\\left(t, x, y, z\\right)^{2} - 1\\right)} \\left(\\frac{\\partial\\,\\beta}{\\partial z}\\right)^{2} - {\\left(\\beta\\left(t, x, y, z\\right)^{2} - 1\\right)} \\frac{\\partial^2\\,\\beta}{\\partial t\\partial x} - {\\left(\\beta\\left(t, x, y, z\\right)^{3} - \\beta\\left(t, x, y, z\\right)\\right)} \\frac{\\partial^2\\,\\beta}{\\partial x ^ 2} \\\\ \\mathrm{Riem}\\left(g\\right)_{ \\phantom{\\, x} \\, t \\, t \\, y }^{ \\, x \\phantom{\\, t} \\phantom{\\, t} \\phantom{\\, y} } & = & -{\\left(\\beta\\left(t, x, y, z\\right)^{2} - 1\\right)} \\frac{\\partial\\,\\beta}{\\partial x} \\frac{\\partial\\,\\beta}{\\partial y} - \\frac{1}{2} \\, {\\left(\\beta\\left(t, x, y, z\\right)^{2} - 1\\right)} \\frac{\\partial^2\\,\\beta}{\\partial t\\partial y} - {\\left(\\beta\\left(t, x, y, z\\right)^{3} - \\beta\\left(t, x, y, z\\right)\\right)} \\frac{\\partial^2\\,\\beta}{\\partial x\\partial y} \\\\ \\mathrm{Riem}\\left(g\\right)_{ \\phantom{\\, x} \\, t \\, t \\, z }^{ \\, x \\phantom{\\, t} \\phantom{\\, t} \\phantom{\\, z} } & = & -{\\left(\\beta\\left(t, x, y, z\\right)^{2} - 1\\right)} \\frac{\\partial\\,\\beta}{\\partial x} \\frac{\\partial\\,\\beta}{\\partial z} - \\frac{1}{2} \\, {\\left(\\beta\\left(t, x, y, z\\right)^{2} - 1\\right)} \\frac{\\partial^2\\,\\beta}{\\partial t\\partial z} - {\\left(\\beta\\left(t, x, y, z\\right)^{3} - \\beta\\left(t, x, y, z\\right)\\right)} \\frac{\\partial^2\\,\\beta}{\\partial x\\partial z} \\\\ \\mathrm{Riem}\\left(g\\right)_{ \\phantom{\\, x} \\, t \\, x \\, y }^{ \\, x \\phantom{\\, t} \\phantom{\\, x} \\phantom{\\, y} } & = & \\frac{1}{2} \\, {\\left(\\beta\\left(t, x, y, z\\right)^{2} - 1\\right)} \\frac{\\partial^2\\,\\beta}{\\partial x\\partial y} \\\\ \\mathrm{Riem}\\left(g\\right)_{ \\phantom{\\, x} \\, t \\, x \\, z }^{ \\, x \\phantom{\\, t} \\phantom{\\, x} \\phantom{\\, z} } & = & \\frac{1}{2} \\, {\\left(\\beta\\left(t, x, y, z\\right)^{2} - 1\\right)} \\frac{\\partial^2\\,\\beta}{\\partial x\\partial z} \\\\ \\mathrm{Riem}\\left(g\\right)_{ \\phantom{\\, x} \\, x \\, t \\, x }^{ \\, x \\phantom{\\, x} \\phantom{\\, t} \\phantom{\\, x} } & = & \\beta\\left(t, x, y, z\\right) \\left(\\frac{\\partial\\,\\beta}{\\partial x}\\right)^{2} + \\beta\\left(t, x, y, z\\right)^{2} \\frac{\\partial^2\\,\\beta}{\\partial x ^ 2} - \\frac{1}{4} \\, \\beta\\left(t, x, y, z\\right) \\left(\\frac{\\partial\\,\\beta}{\\partial y}\\right)^{2} - \\frac{1}{4} \\, \\beta\\left(t, x, y, z\\right) \\left(\\frac{\\partial\\,\\beta}{\\partial z}\\right)^{2} + \\beta\\left(t, x, y, z\\right) \\frac{\\partial^2\\,\\beta}{\\partial t\\partial x} \\\\ \\mathrm{Riem}\\left(g\\right)_{ \\phantom{\\, x} \\, x \\, t \\, y }^{ \\, x \\phantom{\\, x} \\phantom{\\, t} \\phantom{\\, y} } & = & \\beta\\left(t, x, y, z\\right)^{2} \\frac{\\partial^2\\,\\beta}{\\partial x\\partial y} + \\beta\\left(t, x, y, z\\right) \\frac{\\partial\\,\\beta}{\\partial x} \\frac{\\partial\\,\\beta}{\\partial y} + \\frac{1}{2} \\, \\beta\\left(t, x, y, z\\right) \\frac{\\partial^2\\,\\beta}{\\partial t\\partial y} \\\\ \\mathrm{Riem}\\left(g\\right)_{ \\phantom{\\, x} \\, x \\, t \\, z }^{ \\, x \\phantom{\\, x} \\phantom{\\, t} \\phantom{\\, z} } & = & \\beta\\left(t, x, y, z\\right)^{2} \\frac{\\partial^2\\,\\beta}{\\partial x\\partial z} + \\beta\\left(t, x, y, z\\right) \\frac{\\partial\\,\\beta}{\\partial x} \\frac{\\partial\\,\\beta}{\\partial z} + \\frac{1}{2} \\, \\beta\\left(t, x, y, z\\right) \\frac{\\partial^2\\,\\beta}{\\partial t\\partial z} \\\\ \\mathrm{Riem}\\left(g\\right)_{ \\phantom{\\, x} \\, x \\, x \\, y }^{ \\, x \\phantom{\\, x} \\phantom{\\, x} \\phantom{\\, y} } & = & -\\frac{1}{2} \\, \\beta\\left(t, x, y, z\\right) \\frac{\\partial^2\\,\\beta}{\\partial x\\partial y} \\\\ \\mathrm{Riem}\\left(g\\right)_{ \\phantom{\\, x} \\, x \\, x \\, z }^{ \\, x \\phantom{\\, x} \\phantom{\\, x} \\phantom{\\, z} } & = & -\\frac{1}{2} \\, \\beta\\left(t, x, y, z\\right) \\frac{\\partial^2\\,\\beta}{\\partial x\\partial z} \\\\ \\mathrm{Riem}\\left(g\\right)_{ \\phantom{\\, x} \\, y \\, t \\, x }^{ \\, x \\phantom{\\, y} \\phantom{\\, t} \\phantom{\\, x} } & = & \\beta\\left(t, x, y, z\\right) \\frac{\\partial\\,\\beta}{\\partial x} \\frac{\\partial\\,\\beta}{\\partial y} + \\frac{1}{2} \\, \\beta\\left(t, x, y, z\\right) \\frac{\\partial^2\\,\\beta}{\\partial t\\partial y} + \\frac{1}{2} \\, {\\left(\\beta\\left(t, x, y, z\\right)^{2} + 1\\right)} \\frac{\\partial^2\\,\\beta}{\\partial x\\partial y} \\\\ \\mathrm{Riem}\\left(g\\right)_{ \\phantom{\\, x} \\, y \\, t \\, y }^{ \\, x \\phantom{\\, y} \\phantom{\\, t} \\phantom{\\, y} } & = & \\beta\\left(t, x, y, z\\right) \\left(\\frac{\\partial\\,\\beta}{\\partial y}\\right)^{2} + \\frac{1}{2} \\, {\\left(\\beta\\left(t, x, y, z\\right)^{2} + 1\\right)} \\frac{\\partial^2\\,\\beta}{\\partial y ^ 2} \\\\ \\mathrm{Riem}\\left(g\\right)_{ \\phantom{\\, x} \\, y \\, t \\, z }^{ \\, x \\phantom{\\, y} \\phantom{\\, t} \\phantom{\\, z} } & = & \\beta\\left(t, x, y, z\\right) \\frac{\\partial\\,\\beta}{\\partial y} \\frac{\\partial\\,\\beta}{\\partial z} + \\frac{1}{2} \\, {\\left(\\beta\\left(t, x, y, z\\right)^{2} + 1\\right)} \\frac{\\partial^2\\,\\beta}{\\partial y\\partial z} \\\\ \\mathrm{Riem}\\left(g\\right)_{ \\phantom{\\, x} \\, y \\, x \\, y }^{ \\, x \\phantom{\\, y} \\phantom{\\, x} \\phantom{\\, y} } & = & -\\frac{1}{4} \\, \\left(\\frac{\\partial\\,\\beta}{\\partial y}\\right)^{2} - \\frac{1}{2} \\, \\beta\\left(t, x, y, z\\right) \\frac{\\partial^2\\,\\beta}{\\partial y ^ 2} \\\\ \\mathrm{Riem}\\left(g\\right)_{ \\phantom{\\, x} \\, y \\, x \\, z }^{ \\, x \\phantom{\\, y} \\phantom{\\, x} \\phantom{\\, z} } & = & -\\frac{1}{2} \\, \\beta\\left(t, x, y, z\\right) \\frac{\\partial^2\\,\\beta}{\\partial y\\partial z} - \\frac{1}{4} \\, \\frac{\\partial\\,\\beta}{\\partial y} \\frac{\\partial\\,\\beta}{\\partial z} \\\\ \\mathrm{Riem}\\left(g\\right)_{ \\phantom{\\, x} \\, z \\, t \\, x }^{ \\, x \\phantom{\\, z} \\phantom{\\, t} \\phantom{\\, x} } & = & \\beta\\left(t, x, y, z\\right) \\frac{\\partial\\,\\beta}{\\partial x} \\frac{\\partial\\,\\beta}{\\partial z} + \\frac{1}{2} \\, \\beta\\left(t, x, y, z\\right) \\frac{\\partial^2\\,\\beta}{\\partial t\\partial z} + \\frac{1}{2} \\, {\\left(\\beta\\left(t, x, y, z\\right)^{2} + 1\\right)} \\frac{\\partial^2\\,\\beta}{\\partial x\\partial z} \\\\ \\mathrm{Riem}\\left(g\\right)_{ \\phantom{\\, x} \\, z \\, t \\, y }^{ \\, x \\phantom{\\, z} \\phantom{\\, t} \\phantom{\\, y} } & = & \\beta\\left(t, x, y, z\\right) \\frac{\\partial\\,\\beta}{\\partial y} \\frac{\\partial\\,\\beta}{\\partial z} + \\frac{1}{2} \\, {\\left(\\beta\\left(t, x, y, z\\right)^{2} + 1\\right)} \\frac{\\partial^2\\,\\beta}{\\partial y\\partial z} \\\\ \\mathrm{Riem}\\left(g\\right)_{ \\phantom{\\, x} \\, z \\, t \\, z }^{ \\, x \\phantom{\\, z} \\phantom{\\, t} \\phantom{\\, z} } & = & \\beta\\left(t, x, y, z\\right) \\left(\\frac{\\partial\\,\\beta}{\\partial z}\\right)^{2} + \\frac{1}{2} \\, {\\left(\\beta\\left(t, x, y, z\\right)^{2} + 1\\right)} \\frac{\\partial^2\\,\\beta}{\\partial z ^ 2} \\\\ \\mathrm{Riem}\\left(g\\right)_{ \\phantom{\\, x} \\, z \\, x \\, y }^{ \\, x \\phantom{\\, z} \\phantom{\\, x} \\phantom{\\, y} } & = & -\\frac{1}{2} \\, \\beta\\left(t, x, y, z\\right) \\frac{\\partial^2\\,\\beta}{\\partial y\\partial z} - \\frac{1}{4} \\, \\frac{\\partial\\,\\beta}{\\partial y} \\frac{\\partial\\,\\beta}{\\partial z} \\\\ \\mathrm{Riem}\\left(g\\right)_{ \\phantom{\\, x} \\, z \\, x \\, z }^{ \\, x \\phantom{\\, z} \\phantom{\\, x} \\phantom{\\, z} } & = & -\\frac{1}{4} \\, \\left(\\frac{\\partial\\,\\beta}{\\partial z}\\right)^{2} - \\frac{1}{2} \\, \\beta\\left(t, x, y, z\\right) \\frac{\\partial^2\\,\\beta}{\\partial z ^ 2} \\\\ \\mathrm{Riem}\\left(g\\right)_{ \\phantom{\\, y} \\, t \\, t \\, x }^{ \\, y \\phantom{\\, t} \\phantom{\\, t} \\phantom{\\, x} } & = & \\beta\\left(t, x, y, z\\right) \\frac{\\partial^2\\,\\beta}{\\partial x\\partial y} + \\frac{\\partial\\,\\beta}{\\partial x} \\frac{\\partial\\,\\beta}{\\partial y} + \\frac{1}{2} \\, \\frac{\\partial^2\\,\\beta}{\\partial t\\partial y} \\\\ \\mathrm{Riem}\\left(g\\right)_{ \\phantom{\\, y} \\, t \\, t \\, y }^{ \\, y \\phantom{\\, t} \\phantom{\\, t} \\phantom{\\, y} } & = & \\frac{1}{4} \\, {\\left(\\beta\\left(t, x, y, z\\right)^{2} + 3\\right)} \\left(\\frac{\\partial\\,\\beta}{\\partial y}\\right)^{2} + \\beta\\left(t, x, y, z\\right) \\frac{\\partial^2\\,\\beta}{\\partial y ^ 2} \\\\ \\mathrm{Riem}\\left(g\\right)_{ \\phantom{\\, y} \\, t \\, t \\, z }^{ \\, y \\phantom{\\, t} \\phantom{\\, t} \\phantom{\\, z} } & = & \\frac{1}{4} \\, {\\left(\\beta\\left(t, x, y, z\\right)^{2} + 3\\right)} \\frac{\\partial\\,\\beta}{\\partial y} \\frac{\\partial\\,\\beta}{\\partial z} + \\beta\\left(t, x, y, z\\right) \\frac{\\partial^2\\,\\beta}{\\partial y\\partial z} \\\\ \\mathrm{Riem}\\left(g\\right)_{ \\phantom{\\, y} \\, t \\, x \\, y }^{ \\, y \\phantom{\\, t} \\phantom{\\, x} \\phantom{\\, y} } & = & -\\frac{1}{4} \\, \\beta\\left(t, x, y, z\\right) \\left(\\frac{\\partial\\,\\beta}{\\partial y}\\right)^{2} - \\frac{1}{2} \\, \\frac{\\partial^2\\,\\beta}{\\partial y ^ 2} \\\\ \\mathrm{Riem}\\left(g\\right)_{ \\phantom{\\, y} \\, t \\, x \\, z }^{ \\, y \\phantom{\\, t} \\phantom{\\, x} \\phantom{\\, z} } & = & -\\frac{1}{4} \\, \\beta\\left(t, x, y, z\\right) \\frac{\\partial\\,\\beta}{\\partial y} \\frac{\\partial\\,\\beta}{\\partial z} - \\frac{1}{2} \\, \\frac{\\partial^2\\,\\beta}{\\partial y\\partial z} \\\\ \\mathrm{Riem}\\left(g\\right)_{ \\phantom{\\, y} \\, x \\, t \\, x }^{ \\, y \\phantom{\\, x} \\phantom{\\, t} \\phantom{\\, x} } & = & -\\frac{1}{2} \\, \\frac{\\partial^2\\,\\beta}{\\partial x\\partial y} \\\\ \\mathrm{Riem}\\left(g\\right)_{ \\phantom{\\, y} \\, x \\, t \\, y }^{ \\, y \\phantom{\\, x} \\phantom{\\, t} \\phantom{\\, y} } & = & -\\frac{1}{4} \\, \\beta\\left(t, x, y, z\\right) \\left(\\frac{\\partial\\,\\beta}{\\partial y}\\right)^{2} - \\frac{1}{2} \\, \\frac{\\partial^2\\,\\beta}{\\partial y ^ 2} \\\\ \\mathrm{Riem}\\left(g\\right)_{ \\phantom{\\, y} \\, x \\, t \\, z }^{ \\, y \\phantom{\\, x} \\phantom{\\, t} \\phantom{\\, z} } & = & -\\frac{1}{4} \\, \\beta\\left(t, x, y, z\\right) \\frac{\\partial\\,\\beta}{\\partial y} \\frac{\\partial\\,\\beta}{\\partial z} - \\frac{1}{2} \\, \\frac{\\partial^2\\,\\beta}{\\partial y\\partial z} \\\\ \\mathrm{Riem}\\left(g\\right)_{ \\phantom{\\, y} \\, x \\, x \\, y }^{ \\, y \\phantom{\\, x} \\phantom{\\, x} \\phantom{\\, y} } & = & \\frac{1}{4} \\, \\left(\\frac{\\partial\\,\\beta}{\\partial y}\\right)^{2} \\\\ \\mathrm{Riem}\\left(g\\right)_{ \\phantom{\\, y} \\, x \\, x \\, z }^{ \\, y \\phantom{\\, x} \\phantom{\\, x} \\phantom{\\, z} } & = & \\frac{1}{4} \\, \\frac{\\partial\\,\\beta}{\\partial y} \\frac{\\partial\\,\\beta}{\\partial z} \\\\ \\mathrm{Riem}\\left(g\\right)_{ \\phantom{\\, z} \\, t \\, t \\, x }^{ \\, z \\phantom{\\, t} \\phantom{\\, t} \\phantom{\\, x} } & = & \\beta\\left(t, x, y, z\\right) \\frac{\\partial^2\\,\\beta}{\\partial x\\partial z} + \\frac{\\partial\\,\\beta}{\\partial x} \\frac{\\partial\\,\\beta}{\\partial z} + \\frac{1}{2} \\, \\frac{\\partial^2\\,\\beta}{\\partial t\\partial z} \\\\ \\mathrm{Riem}\\left(g\\right)_{ \\phantom{\\, z} \\, t \\, t \\, y }^{ \\, z \\phantom{\\, t} \\phantom{\\, t} \\phantom{\\, y} } & = & \\frac{1}{4} \\, {\\left(\\beta\\left(t, x, y, z\\right)^{2} + 3\\right)} \\frac{\\partial\\,\\beta}{\\partial y} \\frac{\\partial\\,\\beta}{\\partial z} + \\beta\\left(t, x, y, z\\right) \\frac{\\partial^2\\,\\beta}{\\partial y\\partial z} \\\\ \\mathrm{Riem}\\left(g\\right)_{ \\phantom{\\, z} \\, t \\, t \\, z }^{ \\, z \\phantom{\\, t} \\phantom{\\, t} \\phantom{\\, z} } & = & \\frac{1}{4} \\, {\\left(\\beta\\left(t, x, y, z\\right)^{2} + 3\\right)} \\left(\\frac{\\partial\\,\\beta}{\\partial z}\\right)^{2} + \\beta\\left(t, x, y, z\\right) \\frac{\\partial^2\\,\\beta}{\\partial z ^ 2} \\\\ \\mathrm{Riem}\\left(g\\right)_{ \\phantom{\\, z} \\, t \\, x \\, y }^{ \\, z \\phantom{\\, t} \\phantom{\\, x} \\phantom{\\, y} } & = & -\\frac{1}{4} \\, \\beta\\left(t, x, y, z\\right) \\frac{\\partial\\,\\beta}{\\partial y} \\frac{\\partial\\,\\beta}{\\partial z} - \\frac{1}{2} \\, \\frac{\\partial^2\\,\\beta}{\\partial y\\partial z} \\\\ \\mathrm{Riem}\\left(g\\right)_{ \\phantom{\\, z} \\, t \\, x \\, z }^{ \\, z \\phantom{\\, t} \\phantom{\\, x} \\phantom{\\, z} } & = & -\\frac{1}{4} \\, \\beta\\left(t, x, y, z\\right) \\left(\\frac{\\partial\\,\\beta}{\\partial z}\\right)^{2} - \\frac{1}{2} \\, \\frac{\\partial^2\\,\\beta}{\\partial z ^ 2} \\\\ \\mathrm{Riem}\\left(g\\right)_{ \\phantom{\\, z} \\, x \\, t \\, x }^{ \\, z \\phantom{\\, x} \\phantom{\\, t} \\phantom{\\, x} } & = & -\\frac{1}{2} \\, \\frac{\\partial^2\\,\\beta}{\\partial x\\partial z} \\\\ \\mathrm{Riem}\\left(g\\right)_{ \\phantom{\\, z} \\, x \\, t \\, y }^{ \\, z \\phantom{\\, x} \\phantom{\\, t} \\phantom{\\, y} } & = & -\\frac{1}{4} \\, \\beta\\left(t, x, y, z\\right) \\frac{\\partial\\,\\beta}{\\partial y} \\frac{\\partial\\,\\beta}{\\partial z} - \\frac{1}{2} \\, \\frac{\\partial^2\\,\\beta}{\\partial y\\partial z} \\\\ \\mathrm{Riem}\\left(g\\right)_{ \\phantom{\\, z} \\, x \\, t \\, z }^{ \\, z \\phantom{\\, x} \\phantom{\\, t} \\phantom{\\, z} } & = & -\\frac{1}{4} \\, \\beta\\left(t, x, y, z\\right) \\left(\\frac{\\partial\\,\\beta}{\\partial z}\\right)^{2} - \\frac{1}{2} \\, \\frac{\\partial^2\\,\\beta}{\\partial z ^ 2} \\\\ \\mathrm{Riem}\\left(g\\right)_{ \\phantom{\\, z} \\, x \\, x \\, y }^{ \\, z \\phantom{\\, x} \\phantom{\\, x} \\phantom{\\, y} } & = & \\frac{1}{4} \\, \\frac{\\partial\\,\\beta}{\\partial y} \\frac{\\partial\\,\\beta}{\\partial z} \\\\ \\mathrm{Riem}\\left(g\\right)_{ \\phantom{\\, z} \\, x \\, x \\, z }^{ \\, z \\phantom{\\, x} \\phantom{\\, x} \\phantom{\\, z} } & = & \\frac{1}{4} \\, \\left(\\frac{\\partial\\,\\beta}{\\partial z}\\right)^{2} \\end{array}$$"
      ],
      "text/plain": [
       "Riem(g)^t_ttx = -betax(t, x, y, z)*(d(betax)/dx)^2 - betax(t, x, y, z)^2*d^2(betax)/dx^2 + 1/4*betax(t, x, y, z)*(d(betax)/dy)^2 + 1/4*betax(t, x, y, z)*(d(betax)/dz)^2 - betax(t, x, y, z)*d^2(betax)/dtdx \n",
       "Riem(g)^t_tty = -betax(t, x, y, z)^2*d^2(betax)/dxdy - betax(t, x, y, z)*d(betax)/dx*d(betax)/dy - 1/2*betax(t, x, y, z)*d^2(betax)/dtdy \n",
       "Riem(g)^t_ttz = -betax(t, x, y, z)^2*d^2(betax)/dxdz - betax(t, x, y, z)*d(betax)/dx*d(betax)/dz - 1/2*betax(t, x, y, z)*d^2(betax)/dtdz \n",
       "Riem(g)^t_txy = 1/2*betax(t, x, y, z)*d^2(betax)/dxdy \n",
       "Riem(g)^t_txz = 1/2*betax(t, x, y, z)*d^2(betax)/dxdz \n",
       "Riem(g)^t_xtx = (d(betax)/dx)^2 + betax(t, x, y, z)*d^2(betax)/dx^2 - 1/4*(d(betax)/dy)^2 - 1/4*(d(betax)/dz)^2 + d^2(betax)/dtdx \n",
       "Riem(g)^t_xty = betax(t, x, y, z)*d^2(betax)/dxdy + d(betax)/dx*d(betax)/dy + 1/2*d^2(betax)/dtdy \n",
       "Riem(g)^t_xtz = betax(t, x, y, z)*d^2(betax)/dxdz + d(betax)/dx*d(betax)/dz + 1/2*d^2(betax)/dtdz \n",
       "Riem(g)^t_xxy = -1/2*d^2(betax)/dxdy \n",
       "Riem(g)^t_xxz = -1/2*d^2(betax)/dxdz \n",
       "Riem(g)^t_ytx = 1/2*betax(t, x, y, z)*d^2(betax)/dxdy + d(betax)/dx*d(betax)/dy + 1/2*d^2(betax)/dtdy \n",
       "Riem(g)^t_yty = 3/4*(d(betax)/dy)^2 + 1/2*betax(t, x, y, z)*d^2(betax)/dy^2 \n",
       "Riem(g)^t_ytz = 1/2*betax(t, x, y, z)*d^2(betax)/dydz + 3/4*d(betax)/dy*d(betax)/dz \n",
       "Riem(g)^t_yxy = -1/2*d^2(betax)/dy^2 \n",
       "Riem(g)^t_yxz = -1/2*d^2(betax)/dydz \n",
       "Riem(g)^t_ztx = 1/2*betax(t, x, y, z)*d^2(betax)/dxdz + d(betax)/dx*d(betax)/dz + 1/2*d^2(betax)/dtdz \n",
       "Riem(g)^t_zty = 1/2*betax(t, x, y, z)*d^2(betax)/dydz + 3/4*d(betax)/dy*d(betax)/dz \n",
       "Riem(g)^t_ztz = 3/4*(d(betax)/dz)^2 + 1/2*betax(t, x, y, z)*d^2(betax)/dz^2 \n",
       "Riem(g)^t_zxy = -1/2*d^2(betax)/dydz \n",
       "Riem(g)^t_zxz = -1/2*d^2(betax)/dz^2 \n",
       "Riem(g)^x_ttx = -(betax(t, x, y, z)^2 - 1)*(d(betax)/dx)^2 + 1/4*(betax(t, x, y, z)^2 - 1)*(d(betax)/dy)^2 + 1/4*(betax(t, x, y, z)^2 - 1)*(d(betax)/dz)^2 - (betax(t, x, y, z)^2 - 1)*d^2(betax)/dtdx - (betax(t, x, y, z)^3 - betax(t, x, y, z))*d^2(betax)/dx^2 \n",
       "Riem(g)^x_tty = -(betax(t, x, y, z)^2 - 1)*d(betax)/dx*d(betax)/dy - 1/2*(betax(t, x, y, z)^2 - 1)*d^2(betax)/dtdy - (betax(t, x, y, z)^3 - betax(t, x, y, z))*d^2(betax)/dxdy \n",
       "Riem(g)^x_ttz = -(betax(t, x, y, z)^2 - 1)*d(betax)/dx*d(betax)/dz - 1/2*(betax(t, x, y, z)^2 - 1)*d^2(betax)/dtdz - (betax(t, x, y, z)^3 - betax(t, x, y, z))*d^2(betax)/dxdz \n",
       "Riem(g)^x_txy = 1/2*(betax(t, x, y, z)^2 - 1)*d^2(betax)/dxdy \n",
       "Riem(g)^x_txz = 1/2*(betax(t, x, y, z)^2 - 1)*d^2(betax)/dxdz \n",
       "Riem(g)^x_xtx = betax(t, x, y, z)*(d(betax)/dx)^2 + betax(t, x, y, z)^2*d^2(betax)/dx^2 - 1/4*betax(t, x, y, z)*(d(betax)/dy)^2 - 1/4*betax(t, x, y, z)*(d(betax)/dz)^2 + betax(t, x, y, z)*d^2(betax)/dtdx \n",
       "Riem(g)^x_xty = betax(t, x, y, z)^2*d^2(betax)/dxdy + betax(t, x, y, z)*d(betax)/dx*d(betax)/dy + 1/2*betax(t, x, y, z)*d^2(betax)/dtdy \n",
       "Riem(g)^x_xtz = betax(t, x, y, z)^2*d^2(betax)/dxdz + betax(t, x, y, z)*d(betax)/dx*d(betax)/dz + 1/2*betax(t, x, y, z)*d^2(betax)/dtdz \n",
       "Riem(g)^x_xxy = -1/2*betax(t, x, y, z)*d^2(betax)/dxdy \n",
       "Riem(g)^x_xxz = -1/2*betax(t, x, y, z)*d^2(betax)/dxdz \n",
       "Riem(g)^x_ytx = betax(t, x, y, z)*d(betax)/dx*d(betax)/dy + 1/2*betax(t, x, y, z)*d^2(betax)/dtdy + 1/2*(betax(t, x, y, z)^2 + 1)*d^2(betax)/dxdy \n",
       "Riem(g)^x_yty = betax(t, x, y, z)*(d(betax)/dy)^2 + 1/2*(betax(t, x, y, z)^2 + 1)*d^2(betax)/dy^2 \n",
       "Riem(g)^x_ytz = betax(t, x, y, z)*d(betax)/dy*d(betax)/dz + 1/2*(betax(t, x, y, z)^2 + 1)*d^2(betax)/dydz \n",
       "Riem(g)^x_yxy = -1/4*(d(betax)/dy)^2 - 1/2*betax(t, x, y, z)*d^2(betax)/dy^2 \n",
       "Riem(g)^x_yxz = -1/2*betax(t, x, y, z)*d^2(betax)/dydz - 1/4*d(betax)/dy*d(betax)/dz \n",
       "Riem(g)^x_ztx = betax(t, x, y, z)*d(betax)/dx*d(betax)/dz + 1/2*betax(t, x, y, z)*d^2(betax)/dtdz + 1/2*(betax(t, x, y, z)^2 + 1)*d^2(betax)/dxdz \n",
       "Riem(g)^x_zty = betax(t, x, y, z)*d(betax)/dy*d(betax)/dz + 1/2*(betax(t, x, y, z)^2 + 1)*d^2(betax)/dydz \n",
       "Riem(g)^x_ztz = betax(t, x, y, z)*(d(betax)/dz)^2 + 1/2*(betax(t, x, y, z)^2 + 1)*d^2(betax)/dz^2 \n",
       "Riem(g)^x_zxy = -1/2*betax(t, x, y, z)*d^2(betax)/dydz - 1/4*d(betax)/dy*d(betax)/dz \n",
       "Riem(g)^x_zxz = -1/4*(d(betax)/dz)^2 - 1/2*betax(t, x, y, z)*d^2(betax)/dz^2 \n",
       "Riem(g)^y_ttx = betax(t, x, y, z)*d^2(betax)/dxdy + d(betax)/dx*d(betax)/dy + 1/2*d^2(betax)/dtdy \n",
       "Riem(g)^y_tty = 1/4*(betax(t, x, y, z)^2 + 3)*(d(betax)/dy)^2 + betax(t, x, y, z)*d^2(betax)/dy^2 \n",
       "Riem(g)^y_ttz = 1/4*(betax(t, x, y, z)^2 + 3)*d(betax)/dy*d(betax)/dz + betax(t, x, y, z)*d^2(betax)/dydz \n",
       "Riem(g)^y_txy = -1/4*betax(t, x, y, z)*(d(betax)/dy)^2 - 1/2*d^2(betax)/dy^2 \n",
       "Riem(g)^y_txz = -1/4*betax(t, x, y, z)*d(betax)/dy*d(betax)/dz - 1/2*d^2(betax)/dydz \n",
       "Riem(g)^y_xtx = -1/2*d^2(betax)/dxdy \n",
       "Riem(g)^y_xty = -1/4*betax(t, x, y, z)*(d(betax)/dy)^2 - 1/2*d^2(betax)/dy^2 \n",
       "Riem(g)^y_xtz = -1/4*betax(t, x, y, z)*d(betax)/dy*d(betax)/dz - 1/2*d^2(betax)/dydz \n",
       "Riem(g)^y_xxy = 1/4*(d(betax)/dy)^2 \n",
       "Riem(g)^y_xxz = 1/4*d(betax)/dy*d(betax)/dz \n",
       "Riem(g)^z_ttx = betax(t, x, y, z)*d^2(betax)/dxdz + d(betax)/dx*d(betax)/dz + 1/2*d^2(betax)/dtdz \n",
       "Riem(g)^z_tty = 1/4*(betax(t, x, y, z)^2 + 3)*d(betax)/dy*d(betax)/dz + betax(t, x, y, z)*d^2(betax)/dydz \n",
       "Riem(g)^z_ttz = 1/4*(betax(t, x, y, z)^2 + 3)*(d(betax)/dz)^2 + betax(t, x, y, z)*d^2(betax)/dz^2 \n",
       "Riem(g)^z_txy = -1/4*betax(t, x, y, z)*d(betax)/dy*d(betax)/dz - 1/2*d^2(betax)/dydz \n",
       "Riem(g)^z_txz = -1/4*betax(t, x, y, z)*(d(betax)/dz)^2 - 1/2*d^2(betax)/dz^2 \n",
       "Riem(g)^z_xtx = -1/2*d^2(betax)/dxdz \n",
       "Riem(g)^z_xty = -1/4*betax(t, x, y, z)*d(betax)/dy*d(betax)/dz - 1/2*d^2(betax)/dydz \n",
       "Riem(g)^z_xtz = -1/4*betax(t, x, y, z)*(d(betax)/dz)^2 - 1/2*d^2(betax)/dz^2 \n",
       "Riem(g)^z_xxy = 1/4*d(betax)/dy*d(betax)/dz \n",
       "Riem(g)^z_xxz = 1/4*(d(betax)/dz)^2 "
      ]
     },
     "execution_count": 9,
     "metadata": {},
     "output_type": "execute_result"
    }
   ],
   "source": [
    "Rie = g.riemann()\n",
    "Rie.display_comp(only_nonredundant=True)"
   ]
  },
  {
   "cell_type": "code",
   "execution_count": 10,
   "metadata": {},
   "outputs": [
    {
     "data": {
      "text/html": [
       "<html><script type=\"math/tex; mode=display\">\\newcommand{\\Bold}[1]{\\mathbf{#1}}0</script></html>"
      ],
      "text/latex": [
       "$$\\newcommand{\\Bold}[1]{\\mathbf{#1}}0$$"
      ],
      "text/plain": [
       "0"
      ]
     },
     "execution_count": 10,
     "metadata": {},
     "output_type": "execute_result"
    },
    {
     "data": {
      "text/html": [
       "<html><script type=\"math/tex; mode=display\">\\newcommand{\\Bold}[1]{\\mathbf{#1}}0</script></html>"
      ],
      "text/latex": [
       "$$\\newcommand{\\Bold}[1]{\\mathbf{#1}}0$$"
      ],
      "text/plain": [
       "0"
      ]
     },
     "execution_count": 10,
     "metadata": {},
     "output_type": "execute_result"
    }
   ],
   "source": [
    "Rie[0,0,0,0]"
   ]
  },
  {
   "cell_type": "code",
   "execution_count": 11,
   "metadata": {},
   "outputs": [
    {
     "data": {
      "text/html": [
       "<html><script type=\"math/tex; mode=display\">\\newcommand{\\Bold}[1]{\\mathbf{#1}}-\\beta\\left(t, x, y, z\\right) \\left(\\frac{\\partial\\,\\beta}{\\partial x}\\right)^{2} - \\beta\\left(t, x, y, z\\right)^{2} \\frac{\\partial^2\\,\\beta}{\\partial x ^ 2} + \\frac{1}{4} \\, \\beta\\left(t, x, y, z\\right) \\left(\\frac{\\partial\\,\\beta}{\\partial y}\\right)^{2} + \\frac{1}{4} \\, \\beta\\left(t, x, y, z\\right) \\left(\\frac{\\partial\\,\\beta}{\\partial z}\\right)^{2} - \\beta\\left(t, x, y, z\\right) \\frac{\\partial^2\\,\\beta}{\\partial t\\partial x}</script></html>"
      ],
      "text/latex": [
       "$$\\newcommand{\\Bold}[1]{\\mathbf{#1}}-\\beta\\left(t, x, y, z\\right) \\left(\\frac{\\partial\\,\\beta}{\\partial x}\\right)^{2} - \\beta\\left(t, x, y, z\\right)^{2} \\frac{\\partial^2\\,\\beta}{\\partial x ^ 2} + \\frac{1}{4} \\, \\beta\\left(t, x, y, z\\right) \\left(\\frac{\\partial\\,\\beta}{\\partial y}\\right)^{2} + \\frac{1}{4} \\, \\beta\\left(t, x, y, z\\right) \\left(\\frac{\\partial\\,\\beta}{\\partial z}\\right)^{2} - \\beta\\left(t, x, y, z\\right) \\frac{\\partial^2\\,\\beta}{\\partial t\\partial x}$$"
      ],
      "text/plain": [
       "-betax(t, x, y, z)*(d(betax)/dx)^2 - betax(t, x, y, z)^2*d^2(betax)/dx^2 + 1/4*betax(t, x, y, z)*(d(betax)/dy)^2 + 1/4*betax(t, x, y, z)*(d(betax)/dz)^2 - betax(t, x, y, z)*d^2(betax)/dtdx"
      ]
     },
     "execution_count": 11,
     "metadata": {},
     "output_type": "execute_result"
    },
    {
     "data": {
      "text/html": [
       "<html><script type=\"math/tex; mode=display\">\\newcommand{\\Bold}[1]{\\mathbf{#1}}-\\beta\\left(t, x, y, z\\right) \\left(\\frac{\\partial\\,\\beta}{\\partial x}\\right)^{2} - \\beta\\left(t, x, y, z\\right)^{2} \\frac{\\partial^2\\,\\beta}{\\partial x ^ 2} + \\frac{1}{4} \\, \\beta\\left(t, x, y, z\\right) \\left(\\frac{\\partial\\,\\beta}{\\partial y}\\right)^{2} + \\frac{1}{4} \\, \\beta\\left(t, x, y, z\\right) \\left(\\frac{\\partial\\,\\beta}{\\partial z}\\right)^{2} - \\beta\\left(t, x, y, z\\right) \\frac{\\partial^2\\,\\beta}{\\partial t\\partial x}</script></html>"
      ],
      "text/latex": [
       "$$\\newcommand{\\Bold}[1]{\\mathbf{#1}}-\\beta\\left(t, x, y, z\\right) \\left(\\frac{\\partial\\,\\beta}{\\partial x}\\right)^{2} - \\beta\\left(t, x, y, z\\right)^{2} \\frac{\\partial^2\\,\\beta}{\\partial x ^ 2} + \\frac{1}{4} \\, \\beta\\left(t, x, y, z\\right) \\left(\\frac{\\partial\\,\\beta}{\\partial y}\\right)^{2} + \\frac{1}{4} \\, \\beta\\left(t, x, y, z\\right) \\left(\\frac{\\partial\\,\\beta}{\\partial z}\\right)^{2} - \\beta\\left(t, x, y, z\\right) \\frac{\\partial^2\\,\\beta}{\\partial t\\partial x}$$"
      ],
      "text/plain": [
       "-betax(t, x, y, z)*(d(betax)/dx)^2 - betax(t, x, y, z)^2*d^2(betax)/dx^2 + 1/4*betax(t, x, y, z)*(d(betax)/dy)^2 + 1/4*betax(t, x, y, z)*(d(betax)/dz)^2 - betax(t, x, y, z)*d^2(betax)/dtdx"
      ]
     },
     "execution_count": 11,
     "metadata": {},
     "output_type": "execute_result"
    }
   ],
   "source": [
    "Rie[0,0,0,1]"
   ]
  },
  {
   "cell_type": "code",
   "execution_count": 12,
   "metadata": {},
   "outputs": [
    {
     "data": {
      "text/html": [
       "<html><script type=\"math/tex; mode=display\">\\newcommand{\\Bold}[1]{\\mathbf{#1}}-\\beta\\left(t, x, y, z\\right)^{2} \\frac{\\partial^2\\,\\beta}{\\partial x\\partial y} - \\beta\\left(t, x, y, z\\right) \\frac{\\partial\\,\\beta}{\\partial x} \\frac{\\partial\\,\\beta}{\\partial y} - \\frac{1}{2} \\, \\beta\\left(t, x, y, z\\right) \\frac{\\partial^2\\,\\beta}{\\partial t\\partial y}</script></html>"
      ],
      "text/latex": [
       "$$\\newcommand{\\Bold}[1]{\\mathbf{#1}}-\\beta\\left(t, x, y, z\\right)^{2} \\frac{\\partial^2\\,\\beta}{\\partial x\\partial y} - \\beta\\left(t, x, y, z\\right) \\frac{\\partial\\,\\beta}{\\partial x} \\frac{\\partial\\,\\beta}{\\partial y} - \\frac{1}{2} \\, \\beta\\left(t, x, y, z\\right) \\frac{\\partial^2\\,\\beta}{\\partial t\\partial y}$$"
      ],
      "text/plain": [
       "-betax(t, x, y, z)^2*d^2(betax)/dxdy - betax(t, x, y, z)*d(betax)/dx*d(betax)/dy - 1/2*betax(t, x, y, z)*d^2(betax)/dtdy"
      ]
     },
     "execution_count": 12,
     "metadata": {},
     "output_type": "execute_result"
    },
    {
     "data": {
      "text/html": [
       "<html><script type=\"math/tex; mode=display\">\\newcommand{\\Bold}[1]{\\mathbf{#1}}-\\beta\\left(t, x, y, z\\right)^{2} \\frac{\\partial^2\\,\\beta}{\\partial x\\partial y} - \\beta\\left(t, x, y, z\\right) \\frac{\\partial\\,\\beta}{\\partial x} \\frac{\\partial\\,\\beta}{\\partial y} - \\frac{1}{2} \\, \\beta\\left(t, x, y, z\\right) \\frac{\\partial^2\\,\\beta}{\\partial t\\partial y}</script></html>"
      ],
      "text/latex": [
       "$$\\newcommand{\\Bold}[1]{\\mathbf{#1}}-\\beta\\left(t, x, y, z\\right)^{2} \\frac{\\partial^2\\,\\beta}{\\partial x\\partial y} - \\beta\\left(t, x, y, z\\right) \\frac{\\partial\\,\\beta}{\\partial x} \\frac{\\partial\\,\\beta}{\\partial y} - \\frac{1}{2} \\, \\beta\\left(t, x, y, z\\right) \\frac{\\partial^2\\,\\beta}{\\partial t\\partial y}$$"
      ],
      "text/plain": [
       "-betax(t, x, y, z)^2*d^2(betax)/dxdy - betax(t, x, y, z)*d(betax)/dx*d(betax)/dy - 1/2*betax(t, x, y, z)*d^2(betax)/dtdy"
      ]
     },
     "execution_count": 12,
     "metadata": {},
     "output_type": "execute_result"
    }
   ],
   "source": [
    "Rie[0,0,0,2]"
   ]
  },
  {
   "cell_type": "code",
   "execution_count": 13,
   "metadata": {},
   "outputs": [
    {
     "data": {
      "text/html": [
       "<html><script type=\"math/tex; mode=display\">\\newcommand{\\Bold}[1]{\\mathbf{#1}}-\\beta\\left(t, x, y, z\\right)^{2} \\frac{\\partial^2\\,\\beta}{\\partial x\\partial z} - \\beta\\left(t, x, y, z\\right) \\frac{\\partial\\,\\beta}{\\partial x} \\frac{\\partial\\,\\beta}{\\partial z} - \\frac{1}{2} \\, \\beta\\left(t, x, y, z\\right) \\frac{\\partial^2\\,\\beta}{\\partial t\\partial z}</script></html>"
      ],
      "text/latex": [
       "$$\\newcommand{\\Bold}[1]{\\mathbf{#1}}-\\beta\\left(t, x, y, z\\right)^{2} \\frac{\\partial^2\\,\\beta}{\\partial x\\partial z} - \\beta\\left(t, x, y, z\\right) \\frac{\\partial\\,\\beta}{\\partial x} \\frac{\\partial\\,\\beta}{\\partial z} - \\frac{1}{2} \\, \\beta\\left(t, x, y, z\\right) \\frac{\\partial^2\\,\\beta}{\\partial t\\partial z}$$"
      ],
      "text/plain": [
       "-betax(t, x, y, z)^2*d^2(betax)/dxdz - betax(t, x, y, z)*d(betax)/dx*d(betax)/dz - 1/2*betax(t, x, y, z)*d^2(betax)/dtdz"
      ]
     },
     "execution_count": 13,
     "metadata": {},
     "output_type": "execute_result"
    },
    {
     "data": {
      "text/html": [
       "<html><script type=\"math/tex; mode=display\">\\newcommand{\\Bold}[1]{\\mathbf{#1}}-\\beta\\left(t, x, y, z\\right)^{2} \\frac{\\partial^2\\,\\beta}{\\partial x\\partial z} - \\beta\\left(t, x, y, z\\right) \\frac{\\partial\\,\\beta}{\\partial x} \\frac{\\partial\\,\\beta}{\\partial z} - \\frac{1}{2} \\, \\beta\\left(t, x, y, z\\right) \\frac{\\partial^2\\,\\beta}{\\partial t\\partial z}</script></html>"
      ],
      "text/latex": [
       "$$\\newcommand{\\Bold}[1]{\\mathbf{#1}}-\\beta\\left(t, x, y, z\\right)^{2} \\frac{\\partial^2\\,\\beta}{\\partial x\\partial z} - \\beta\\left(t, x, y, z\\right) \\frac{\\partial\\,\\beta}{\\partial x} \\frac{\\partial\\,\\beta}{\\partial z} - \\frac{1}{2} \\, \\beta\\left(t, x, y, z\\right) \\frac{\\partial^2\\,\\beta}{\\partial t\\partial z}$$"
      ],
      "text/plain": [
       "-betax(t, x, y, z)^2*d^2(betax)/dxdz - betax(t, x, y, z)*d(betax)/dx*d(betax)/dz - 1/2*betax(t, x, y, z)*d^2(betax)/dtdz"
      ]
     },
     "execution_count": 13,
     "metadata": {},
     "output_type": "execute_result"
    }
   ],
   "source": [
    "Rie[0,0,0,3]"
   ]
  },
  {
   "cell_type": "code",
   "execution_count": 14,
   "metadata": {},
   "outputs": [
    {
     "data": {
      "text/html": [
       "<html><script type=\"math/tex; mode=display\">\\newcommand{\\Bold}[1]{\\mathbf{#1}}-\\beta\\left(t, x, y, z\\right)^{2} \\frac{\\partial^2\\,\\beta}{\\partial x\\partial z} - \\beta\\left(t, x, y, z\\right) \\frac{\\partial\\,\\beta}{\\partial x} \\frac{\\partial\\,\\beta}{\\partial z} - \\frac{1}{2} \\, \\beta\\left(t, x, y, z\\right) \\frac{\\partial^2\\,\\beta}{\\partial t\\partial z}</script></html>"
      ],
      "text/latex": [
       "$$\\newcommand{\\Bold}[1]{\\mathbf{#1}}-\\beta\\left(t, x, y, z\\right)^{2} \\frac{\\partial^2\\,\\beta}{\\partial x\\partial z} - \\beta\\left(t, x, y, z\\right) \\frac{\\partial\\,\\beta}{\\partial x} \\frac{\\partial\\,\\beta}{\\partial z} - \\frac{1}{2} \\, \\beta\\left(t, x, y, z\\right) \\frac{\\partial^2\\,\\beta}{\\partial t\\partial z}$$"
      ],
      "text/plain": [
       "-betax(t, x, y, z)^2*d^2(betax)/dxdz - betax(t, x, y, z)*d(betax)/dx*d(betax)/dz - 1/2*betax(t, x, y, z)*d^2(betax)/dtdz"
      ]
     },
     "execution_count": 14,
     "metadata": {},
     "output_type": "execute_result"
    },
    {
     "data": {
      "text/html": [
       "<html><script type=\"math/tex; mode=display\">\\newcommand{\\Bold}[1]{\\mathbf{#1}}-\\beta\\left(t, x, y, z\\right)^{2} \\frac{\\partial^2\\,\\beta}{\\partial x\\partial z} - \\beta\\left(t, x, y, z\\right) \\frac{\\partial\\,\\beta}{\\partial x} \\frac{\\partial\\,\\beta}{\\partial z} - \\frac{1}{2} \\, \\beta\\left(t, x, y, z\\right) \\frac{\\partial^2\\,\\beta}{\\partial t\\partial z}</script></html>"
      ],
      "text/latex": [
       "$$\\newcommand{\\Bold}[1]{\\mathbf{#1}}-\\beta\\left(t, x, y, z\\right)^{2} \\frac{\\partial^2\\,\\beta}{\\partial x\\partial z} - \\beta\\left(t, x, y, z\\right) \\frac{\\partial\\,\\beta}{\\partial x} \\frac{\\partial\\,\\beta}{\\partial z} - \\frac{1}{2} \\, \\beta\\left(t, x, y, z\\right) \\frac{\\partial^2\\,\\beta}{\\partial t\\partial z}$$"
      ],
      "text/plain": [
       "-betax(t, x, y, z)^2*d^2(betax)/dxdz - betax(t, x, y, z)*d(betax)/dx*d(betax)/dz - 1/2*betax(t, x, y, z)*d^2(betax)/dtdz"
      ]
     },
     "execution_count": 14,
     "metadata": {},
     "output_type": "execute_result"
    }
   ],
   "source": [
    "Rie[0,0,0,3]"
   ]
  },
  {
   "cell_type": "code",
   "execution_count": 15,
   "metadata": {},
   "outputs": [
    {
     "data": {
      "text/html": [
       "<html><script type=\"math/tex; mode=display\">\\newcommand{\\Bold}[1]{\\mathbf{#1}}0</script></html>"
      ],
      "text/latex": [
       "$$\\newcommand{\\Bold}[1]{\\mathbf{#1}}0$$"
      ],
      "text/plain": [
       "0"
      ]
     },
     "execution_count": 15,
     "metadata": {},
     "output_type": "execute_result"
    },
    {
     "data": {
      "text/html": [
       "<html><script type=\"math/tex; mode=display\">\\newcommand{\\Bold}[1]{\\mathbf{#1}}0</script></html>"
      ],
      "text/latex": [
       "$$\\newcommand{\\Bold}[1]{\\mathbf{#1}}0$$"
      ],
      "text/plain": [
       "0"
      ]
     },
     "execution_count": 15,
     "metadata": {},
     "output_type": "execute_result"
    }
   ],
   "source": [
    "Rie[0,0,1,1]"
   ]
  },
  {
   "cell_type": "code",
   "execution_count": 16,
   "metadata": {},
   "outputs": [
    {
     "data": {
      "text/html": [
       "<html><script type=\"math/tex; mode=display\">\\newcommand{\\Bold}[1]{\\mathbf{#1}}-\\frac{1}{2} \\, \\beta\\left(t, x, y, z\\right) \\frac{\\partial^2\\,\\beta}{\\partial x\\partial y}</script></html>"
      ],
      "text/latex": [
       "$$\\newcommand{\\Bold}[1]{\\mathbf{#1}}-\\frac{1}{2} \\, \\beta\\left(t, x, y, z\\right) \\frac{\\partial^2\\,\\beta}{\\partial x\\partial y}$$"
      ],
      "text/plain": [
       "-1/2*betax(t, x, y, z)*d^2(betax)/dxdy"
      ]
     },
     "execution_count": 16,
     "metadata": {},
     "output_type": "execute_result"
    },
    {
     "data": {
      "text/html": [
       "<html><script type=\"math/tex; mode=display\">\\newcommand{\\Bold}[1]{\\mathbf{#1}}-\\frac{1}{2} \\, \\beta\\left(t, x, y, z\\right) \\frac{\\partial^2\\,\\beta}{\\partial x\\partial y}</script></html>"
      ],
      "text/latex": [
       "$$\\newcommand{\\Bold}[1]{\\mathbf{#1}}-\\frac{1}{2} \\, \\beta\\left(t, x, y, z\\right) \\frac{\\partial^2\\,\\beta}{\\partial x\\partial y}$$"
      ],
      "text/plain": [
       "-1/2*betax(t, x, y, z)*d^2(betax)/dxdy"
      ]
     },
     "execution_count": 16,
     "metadata": {},
     "output_type": "execute_result"
    }
   ],
   "source": [
    "Rie[0,0,2,1]"
   ]
  },
  {
   "cell_type": "code",
   "execution_count": null,
   "metadata": {},
   "outputs": [],
   "source": []
  },
  {
   "cell_type": "code",
   "execution_count": null,
   "metadata": {},
   "outputs": [],
   "source": []
  },
  {
   "cell_type": "code",
   "execution_count": null,
   "metadata": {},
   "outputs": [],
   "source": []
  },
  {
   "cell_type": "code",
   "execution_count": null,
   "metadata": {},
   "outputs": [],
   "source": []
  },
  {
   "cell_type": "code",
   "execution_count": null,
   "metadata": {},
   "outputs": [],
   "source": []
  },
  {
   "cell_type": "code",
   "execution_count": null,
   "metadata": {},
   "outputs": [],
   "source": []
  },
  {
   "cell_type": "code",
   "execution_count": null,
   "metadata": {},
   "outputs": [],
   "source": []
  },
  {
   "cell_type": "markdown",
   "metadata": {},
   "source": [
    "## 2.4. Einstein Tensor Components\n",
    "\n",
    "\\begin{equation}\n",
    "G_{\\mu \\nu} = R_{\\mu \\nu} - \\frac{1}{2} R g_{\\mu \\nu} - \\Lambda g_{\\mu \\nu}\n",
    "\\end{equation}"
   ]
  },
  {
   "cell_type": "code",
   "execution_count": 17,
   "metadata": {},
   "outputs": [
    {
     "name": "stdout",
     "output_type": "stream",
     "text": [
      "Field of symmetric bilinear forms G on the 4-dimensional Lorentzian manifold M\n",
      "(0, 2)\n",
      "Field of symmetric bilinear forms G on the 4-dimensional Lorentzian manifold M\n",
      "(0, 2)\n"
     ]
    },
    {
     "data": {
      "text/html": [
       "<html><script type=\"math/tex; mode=display\">\\newcommand{\\Bold}[1]{\\mathbf{#1}}\\begin{array}{lcl} G_{ \\, t \\, t }^{ \\phantom{\\, t}\\phantom{\\, t} } & = & -{\\Lambda} \\beta\\left(t, x, y, z\\right)^{2} - \\frac{1}{4} \\, {\\left(3 \\, \\beta\\left(t, x, y, z\\right)^{2} + 1\\right)} \\left(\\frac{\\partial\\,\\beta}{\\partial y}\\right)^{2} - \\frac{1}{4} \\, {\\left(3 \\, \\beta\\left(t, x, y, z\\right)^{2} + 1\\right)} \\left(\\frac{\\partial\\,\\beta}{\\partial z}\\right)^{2} - \\beta\\left(t, x, y, z\\right) \\frac{\\partial^2\\,\\beta}{\\partial y ^ 2} - \\beta\\left(t, x, y, z\\right) \\frac{\\partial^2\\,\\beta}{\\partial z ^ 2} + {\\Lambda} \\\\ G_{ \\, t \\, x }^{ \\phantom{\\, t}\\phantom{\\, x} } & = & \\frac{3}{4} \\, \\beta\\left(t, x, y, z\\right) \\left(\\frac{\\partial\\,\\beta}{\\partial y}\\right)^{2} + \\frac{3}{4} \\, \\beta\\left(t, x, y, z\\right) \\left(\\frac{\\partial\\,\\beta}{\\partial z}\\right)^{2} + {\\Lambda} \\beta\\left(t, x, y, z\\right) + \\frac{1}{2} \\, \\frac{\\partial^2\\,\\beta}{\\partial y ^ 2} + \\frac{1}{2} \\, \\frac{\\partial^2\\,\\beta}{\\partial z ^ 2} \\\\ G_{ \\, t \\, y }^{ \\phantom{\\, t}\\phantom{\\, y} } & = & -\\beta\\left(t, x, y, z\\right) \\frac{\\partial\\,\\beta}{\\partial x} \\frac{\\partial\\,\\beta}{\\partial y} - \\frac{1}{2} \\, \\beta\\left(t, x, y, z\\right) \\frac{\\partial^2\\,\\beta}{\\partial t\\partial y} - \\frac{1}{2} \\, {\\left(\\beta\\left(t, x, y, z\\right)^{2} + 1\\right)} \\frac{\\partial^2\\,\\beta}{\\partial x\\partial y} \\\\ G_{ \\, t \\, z }^{ \\phantom{\\, t}\\phantom{\\, z} } & = & -\\beta\\left(t, x, y, z\\right) \\frac{\\partial\\,\\beta}{\\partial x} \\frac{\\partial\\,\\beta}{\\partial z} - \\frac{1}{2} \\, \\beta\\left(t, x, y, z\\right) \\frac{\\partial^2\\,\\beta}{\\partial t\\partial z} - \\frac{1}{2} \\, {\\left(\\beta\\left(t, x, y, z\\right)^{2} + 1\\right)} \\frac{\\partial^2\\,\\beta}{\\partial x\\partial z} \\\\ G_{ \\, x \\, x }^{ \\phantom{\\, x}\\phantom{\\, x} } & = & -\\frac{3}{4} \\, \\left(\\frac{\\partial\\,\\beta}{\\partial y}\\right)^{2} - \\frac{3}{4} \\, \\left(\\frac{\\partial\\,\\beta}{\\partial z}\\right)^{2} - {\\Lambda} \\\\ G_{ \\, x \\, y }^{ \\phantom{\\, x}\\phantom{\\, y} } & = & \\frac{1}{2} \\, \\beta\\left(t, x, y, z\\right) \\frac{\\partial^2\\,\\beta}{\\partial x\\partial y} + \\frac{\\partial\\,\\beta}{\\partial x} \\frac{\\partial\\,\\beta}{\\partial y} + \\frac{1}{2} \\, \\frac{\\partial^2\\,\\beta}{\\partial t\\partial y} \\\\ G_{ \\, x \\, z }^{ \\phantom{\\, x}\\phantom{\\, z} } & = & \\frac{1}{2} \\, \\beta\\left(t, x, y, z\\right) \\frac{\\partial^2\\,\\beta}{\\partial x\\partial z} + \\frac{\\partial\\,\\beta}{\\partial x} \\frac{\\partial\\,\\beta}{\\partial z} + \\frac{1}{2} \\, \\frac{\\partial^2\\,\\beta}{\\partial t\\partial z} \\\\ G_{ \\, y \\, y }^{ \\phantom{\\, y}\\phantom{\\, y} } & = & -\\left(\\frac{\\partial\\,\\beta}{\\partial x}\\right)^{2} - \\beta\\left(t, x, y, z\\right) \\frac{\\partial^2\\,\\beta}{\\partial x ^ 2} + \\frac{1}{4} \\, \\left(\\frac{\\partial\\,\\beta}{\\partial y}\\right)^{2} - \\frac{1}{4} \\, \\left(\\frac{\\partial\\,\\beta}{\\partial z}\\right)^{2} - {\\Lambda} - \\frac{\\partial^2\\,\\beta}{\\partial t\\partial x} \\\\ G_{ \\, y \\, z }^{ \\phantom{\\, y}\\phantom{\\, z} } & = & \\frac{1}{2} \\, \\frac{\\partial\\,\\beta}{\\partial y} \\frac{\\partial\\,\\beta}{\\partial z} \\\\ G_{ \\, z \\, z }^{ \\phantom{\\, z}\\phantom{\\, z} } & = & -\\left(\\frac{\\partial\\,\\beta}{\\partial x}\\right)^{2} - \\beta\\left(t, x, y, z\\right) \\frac{\\partial^2\\,\\beta}{\\partial x ^ 2} - \\frac{1}{4} \\, \\left(\\frac{\\partial\\,\\beta}{\\partial y}\\right)^{2} + \\frac{1}{4} \\, \\left(\\frac{\\partial\\,\\beta}{\\partial z}\\right)^{2} - {\\Lambda} - \\frac{\\partial^2\\,\\beta}{\\partial t\\partial x} \\end{array}</script></html>"
      ],
      "text/latex": [
       "$$\\newcommand{\\Bold}[1]{\\mathbf{#1}}\\begin{array}{lcl} G_{ \\, t \\, t }^{ \\phantom{\\, t}\\phantom{\\, t} } & = & -{\\Lambda} \\beta\\left(t, x, y, z\\right)^{2} - \\frac{1}{4} \\, {\\left(3 \\, \\beta\\left(t, x, y, z\\right)^{2} + 1\\right)} \\left(\\frac{\\partial\\,\\beta}{\\partial y}\\right)^{2} - \\frac{1}{4} \\, {\\left(3 \\, \\beta\\left(t, x, y, z\\right)^{2} + 1\\right)} \\left(\\frac{\\partial\\,\\beta}{\\partial z}\\right)^{2} - \\beta\\left(t, x, y, z\\right) \\frac{\\partial^2\\,\\beta}{\\partial y ^ 2} - \\beta\\left(t, x, y, z\\right) \\frac{\\partial^2\\,\\beta}{\\partial z ^ 2} + {\\Lambda} \\\\ G_{ \\, t \\, x }^{ \\phantom{\\, t}\\phantom{\\, x} } & = & \\frac{3}{4} \\, \\beta\\left(t, x, y, z\\right) \\left(\\frac{\\partial\\,\\beta}{\\partial y}\\right)^{2} + \\frac{3}{4} \\, \\beta\\left(t, x, y, z\\right) \\left(\\frac{\\partial\\,\\beta}{\\partial z}\\right)^{2} + {\\Lambda} \\beta\\left(t, x, y, z\\right) + \\frac{1}{2} \\, \\frac{\\partial^2\\,\\beta}{\\partial y ^ 2} + \\frac{1}{2} \\, \\frac{\\partial^2\\,\\beta}{\\partial z ^ 2} \\\\ G_{ \\, t \\, y }^{ \\phantom{\\, t}\\phantom{\\, y} } & = & -\\beta\\left(t, x, y, z\\right) \\frac{\\partial\\,\\beta}{\\partial x} \\frac{\\partial\\,\\beta}{\\partial y} - \\frac{1}{2} \\, \\beta\\left(t, x, y, z\\right) \\frac{\\partial^2\\,\\beta}{\\partial t\\partial y} - \\frac{1}{2} \\, {\\left(\\beta\\left(t, x, y, z\\right)^{2} + 1\\right)} \\frac{\\partial^2\\,\\beta}{\\partial x\\partial y} \\\\ G_{ \\, t \\, z }^{ \\phantom{\\, t}\\phantom{\\, z} } & = & -\\beta\\left(t, x, y, z\\right) \\frac{\\partial\\,\\beta}{\\partial x} \\frac{\\partial\\,\\beta}{\\partial z} - \\frac{1}{2} \\, \\beta\\left(t, x, y, z\\right) \\frac{\\partial^2\\,\\beta}{\\partial t\\partial z} - \\frac{1}{2} \\, {\\left(\\beta\\left(t, x, y, z\\right)^{2} + 1\\right)} \\frac{\\partial^2\\,\\beta}{\\partial x\\partial z} \\\\ G_{ \\, x \\, x }^{ \\phantom{\\, x}\\phantom{\\, x} } & = & -\\frac{3}{4} \\, \\left(\\frac{\\partial\\,\\beta}{\\partial y}\\right)^{2} - \\frac{3}{4} \\, \\left(\\frac{\\partial\\,\\beta}{\\partial z}\\right)^{2} - {\\Lambda} \\\\ G_{ \\, x \\, y }^{ \\phantom{\\, x}\\phantom{\\, y} } & = & \\frac{1}{2} \\, \\beta\\left(t, x, y, z\\right) \\frac{\\partial^2\\,\\beta}{\\partial x\\partial y} + \\frac{\\partial\\,\\beta}{\\partial x} \\frac{\\partial\\,\\beta}{\\partial y} + \\frac{1}{2} \\, \\frac{\\partial^2\\,\\beta}{\\partial t\\partial y} \\\\ G_{ \\, x \\, z }^{ \\phantom{\\, x}\\phantom{\\, z} } & = & \\frac{1}{2} \\, \\beta\\left(t, x, y, z\\right) \\frac{\\partial^2\\,\\beta}{\\partial x\\partial z} + \\frac{\\partial\\,\\beta}{\\partial x} \\frac{\\partial\\,\\beta}{\\partial z} + \\frac{1}{2} \\, \\frac{\\partial^2\\,\\beta}{\\partial t\\partial z} \\\\ G_{ \\, y \\, y }^{ \\phantom{\\, y}\\phantom{\\, y} } & = & -\\left(\\frac{\\partial\\,\\beta}{\\partial x}\\right)^{2} - \\beta\\left(t, x, y, z\\right) \\frac{\\partial^2\\,\\beta}{\\partial x ^ 2} + \\frac{1}{4} \\, \\left(\\frac{\\partial\\,\\beta}{\\partial y}\\right)^{2} - \\frac{1}{4} \\, \\left(\\frac{\\partial\\,\\beta}{\\partial z}\\right)^{2} - {\\Lambda} - \\frac{\\partial^2\\,\\beta}{\\partial t\\partial x} \\\\ G_{ \\, y \\, z }^{ \\phantom{\\, y}\\phantom{\\, z} } & = & \\frac{1}{2} \\, \\frac{\\partial\\,\\beta}{\\partial y} \\frac{\\partial\\,\\beta}{\\partial z} \\\\ G_{ \\, z \\, z }^{ \\phantom{\\, z}\\phantom{\\, z} } & = & -\\left(\\frac{\\partial\\,\\beta}{\\partial x}\\right)^{2} - \\beta\\left(t, x, y, z\\right) \\frac{\\partial^2\\,\\beta}{\\partial x ^ 2} - \\frac{1}{4} \\, \\left(\\frac{\\partial\\,\\beta}{\\partial y}\\right)^{2} + \\frac{1}{4} \\, \\left(\\frac{\\partial\\,\\beta}{\\partial z}\\right)^{2} - {\\Lambda} - \\frac{\\partial^2\\,\\beta}{\\partial t\\partial x} \\end{array}$$"
      ],
      "text/plain": [
       "G_tt = -cosmo*betax(t, x, y, z)^2 - 1/4*(3*betax(t, x, y, z)^2 + 1)*(d(betax)/dy)^2 - 1/4*(3*betax(t, x, y, z)^2 + 1)*(d(betax)/dz)^2 - betax(t, x, y, z)*d^2(betax)/dy^2 - betax(t, x, y, z)*d^2(betax)/dz^2 + cosmo \n",
       "G_tx = 3/4*betax(t, x, y, z)*(d(betax)/dy)^2 + 3/4*betax(t, x, y, z)*(d(betax)/dz)^2 + cosmo*betax(t, x, y, z) + 1/2*d^2(betax)/dy^2 + 1/2*d^2(betax)/dz^2 \n",
       "G_ty = -betax(t, x, y, z)*d(betax)/dx*d(betax)/dy - 1/2*betax(t, x, y, z)*d^2(betax)/dtdy - 1/2*(betax(t, x, y, z)^2 + 1)*d^2(betax)/dxdy \n",
       "G_tz = -betax(t, x, y, z)*d(betax)/dx*d(betax)/dz - 1/2*betax(t, x, y, z)*d^2(betax)/dtdz - 1/2*(betax(t, x, y, z)^2 + 1)*d^2(betax)/dxdz \n",
       "G_xx = -3/4*(d(betax)/dy)^2 - 3/4*(d(betax)/dz)^2 - cosmo \n",
       "G_xy = 1/2*betax(t, x, y, z)*d^2(betax)/dxdy + d(betax)/dx*d(betax)/dy + 1/2*d^2(betax)/dtdy \n",
       "G_xz = 1/2*betax(t, x, y, z)*d^2(betax)/dxdz + d(betax)/dx*d(betax)/dz + 1/2*d^2(betax)/dtdz \n",
       "G_yy = -(d(betax)/dx)^2 - betax(t, x, y, z)*d^2(betax)/dx^2 + 1/4*(d(betax)/dy)^2 - 1/4*(d(betax)/dz)^2 - cosmo - d^2(betax)/dtdx \n",
       "G_yz = 1/2*d(betax)/dy*d(betax)/dz \n",
       "G_zz = -(d(betax)/dx)^2 - betax(t, x, y, z)*d^2(betax)/dx^2 - 1/4*(d(betax)/dy)^2 + 1/4*(d(betax)/dz)^2 - cosmo - d^2(betax)/dtdx "
      ]
     },
     "execution_count": 17,
     "metadata": {},
     "output_type": "execute_result"
    },
    {
     "data": {
      "text/html": [
       "<html><script type=\"math/tex; mode=display\">\\newcommand{\\Bold}[1]{\\mathbf{#1}}\\begin{array}{lcl} G_{ \\, t \\, t }^{ \\phantom{\\, t}\\phantom{\\, t} } & = & -{\\Lambda} \\beta\\left(t, x, y, z\\right)^{2} - \\frac{1}{4} \\, {\\left(3 \\, \\beta\\left(t, x, y, z\\right)^{2} + 1\\right)} \\left(\\frac{\\partial\\,\\beta}{\\partial y}\\right)^{2} - \\frac{1}{4} \\, {\\left(3 \\, \\beta\\left(t, x, y, z\\right)^{2} + 1\\right)} \\left(\\frac{\\partial\\,\\beta}{\\partial z}\\right)^{2} - \\beta\\left(t, x, y, z\\right) \\frac{\\partial^2\\,\\beta}{\\partial y ^ 2} - \\beta\\left(t, x, y, z\\right) \\frac{\\partial^2\\,\\beta}{\\partial z ^ 2} + {\\Lambda} \\\\ G_{ \\, t \\, x }^{ \\phantom{\\, t}\\phantom{\\, x} } & = & \\frac{3}{4} \\, \\beta\\left(t, x, y, z\\right) \\left(\\frac{\\partial\\,\\beta}{\\partial y}\\right)^{2} + \\frac{3}{4} \\, \\beta\\left(t, x, y, z\\right) \\left(\\frac{\\partial\\,\\beta}{\\partial z}\\right)^{2} + {\\Lambda} \\beta\\left(t, x, y, z\\right) + \\frac{1}{2} \\, \\frac{\\partial^2\\,\\beta}{\\partial y ^ 2} + \\frac{1}{2} \\, \\frac{\\partial^2\\,\\beta}{\\partial z ^ 2} \\\\ G_{ \\, t \\, y }^{ \\phantom{\\, t}\\phantom{\\, y} } & = & -\\beta\\left(t, x, y, z\\right) \\frac{\\partial\\,\\beta}{\\partial x} \\frac{\\partial\\,\\beta}{\\partial y} - \\frac{1}{2} \\, \\beta\\left(t, x, y, z\\right) \\frac{\\partial^2\\,\\beta}{\\partial t\\partial y} - \\frac{1}{2} \\, {\\left(\\beta\\left(t, x, y, z\\right)^{2} + 1\\right)} \\frac{\\partial^2\\,\\beta}{\\partial x\\partial y} \\\\ G_{ \\, t \\, z }^{ \\phantom{\\, t}\\phantom{\\, z} } & = & -\\beta\\left(t, x, y, z\\right) \\frac{\\partial\\,\\beta}{\\partial x} \\frac{\\partial\\,\\beta}{\\partial z} - \\frac{1}{2} \\, \\beta\\left(t, x, y, z\\right) \\frac{\\partial^2\\,\\beta}{\\partial t\\partial z} - \\frac{1}{2} \\, {\\left(\\beta\\left(t, x, y, z\\right)^{2} + 1\\right)} \\frac{\\partial^2\\,\\beta}{\\partial x\\partial z} \\\\ G_{ \\, x \\, x }^{ \\phantom{\\, x}\\phantom{\\, x} } & = & -\\frac{3}{4} \\, \\left(\\frac{\\partial\\,\\beta}{\\partial y}\\right)^{2} - \\frac{3}{4} \\, \\left(\\frac{\\partial\\,\\beta}{\\partial z}\\right)^{2} - {\\Lambda} \\\\ G_{ \\, x \\, y }^{ \\phantom{\\, x}\\phantom{\\, y} } & = & \\frac{1}{2} \\, \\beta\\left(t, x, y, z\\right) \\frac{\\partial^2\\,\\beta}{\\partial x\\partial y} + \\frac{\\partial\\,\\beta}{\\partial x} \\frac{\\partial\\,\\beta}{\\partial y} + \\frac{1}{2} \\, \\frac{\\partial^2\\,\\beta}{\\partial t\\partial y} \\\\ G_{ \\, x \\, z }^{ \\phantom{\\, x}\\phantom{\\, z} } & = & \\frac{1}{2} \\, \\beta\\left(t, x, y, z\\right) \\frac{\\partial^2\\,\\beta}{\\partial x\\partial z} + \\frac{\\partial\\,\\beta}{\\partial x} \\frac{\\partial\\,\\beta}{\\partial z} + \\frac{1}{2} \\, \\frac{\\partial^2\\,\\beta}{\\partial t\\partial z} \\\\ G_{ \\, y \\, y }^{ \\phantom{\\, y}\\phantom{\\, y} } & = & -\\left(\\frac{\\partial\\,\\beta}{\\partial x}\\right)^{2} - \\beta\\left(t, x, y, z\\right) \\frac{\\partial^2\\,\\beta}{\\partial x ^ 2} + \\frac{1}{4} \\, \\left(\\frac{\\partial\\,\\beta}{\\partial y}\\right)^{2} - \\frac{1}{4} \\, \\left(\\frac{\\partial\\,\\beta}{\\partial z}\\right)^{2} - {\\Lambda} - \\frac{\\partial^2\\,\\beta}{\\partial t\\partial x} \\\\ G_{ \\, y \\, z }^{ \\phantom{\\, y}\\phantom{\\, z} } & = & \\frac{1}{2} \\, \\frac{\\partial\\,\\beta}{\\partial y} \\frac{\\partial\\,\\beta}{\\partial z} \\\\ G_{ \\, z \\, z }^{ \\phantom{\\, z}\\phantom{\\, z} } & = & -\\left(\\frac{\\partial\\,\\beta}{\\partial x}\\right)^{2} - \\beta\\left(t, x, y, z\\right) \\frac{\\partial^2\\,\\beta}{\\partial x ^ 2} - \\frac{1}{4} \\, \\left(\\frac{\\partial\\,\\beta}{\\partial y}\\right)^{2} + \\frac{1}{4} \\, \\left(\\frac{\\partial\\,\\beta}{\\partial z}\\right)^{2} - {\\Lambda} - \\frac{\\partial^2\\,\\beta}{\\partial t\\partial x} \\end{array}</script></html>"
      ],
      "text/latex": [
       "$$\\newcommand{\\Bold}[1]{\\mathbf{#1}}\\begin{array}{lcl} G_{ \\, t \\, t }^{ \\phantom{\\, t}\\phantom{\\, t} } & = & -{\\Lambda} \\beta\\left(t, x, y, z\\right)^{2} - \\frac{1}{4} \\, {\\left(3 \\, \\beta\\left(t, x, y, z\\right)^{2} + 1\\right)} \\left(\\frac{\\partial\\,\\beta}{\\partial y}\\right)^{2} - \\frac{1}{4} \\, {\\left(3 \\, \\beta\\left(t, x, y, z\\right)^{2} + 1\\right)} \\left(\\frac{\\partial\\,\\beta}{\\partial z}\\right)^{2} - \\beta\\left(t, x, y, z\\right) \\frac{\\partial^2\\,\\beta}{\\partial y ^ 2} - \\beta\\left(t, x, y, z\\right) \\frac{\\partial^2\\,\\beta}{\\partial z ^ 2} + {\\Lambda} \\\\ G_{ \\, t \\, x }^{ \\phantom{\\, t}\\phantom{\\, x} } & = & \\frac{3}{4} \\, \\beta\\left(t, x, y, z\\right) \\left(\\frac{\\partial\\,\\beta}{\\partial y}\\right)^{2} + \\frac{3}{4} \\, \\beta\\left(t, x, y, z\\right) \\left(\\frac{\\partial\\,\\beta}{\\partial z}\\right)^{2} + {\\Lambda} \\beta\\left(t, x, y, z\\right) + \\frac{1}{2} \\, \\frac{\\partial^2\\,\\beta}{\\partial y ^ 2} + \\frac{1}{2} \\, \\frac{\\partial^2\\,\\beta}{\\partial z ^ 2} \\\\ G_{ \\, t \\, y }^{ \\phantom{\\, t}\\phantom{\\, y} } & = & -\\beta\\left(t, x, y, z\\right) \\frac{\\partial\\,\\beta}{\\partial x} \\frac{\\partial\\,\\beta}{\\partial y} - \\frac{1}{2} \\, \\beta\\left(t, x, y, z\\right) \\frac{\\partial^2\\,\\beta}{\\partial t\\partial y} - \\frac{1}{2} \\, {\\left(\\beta\\left(t, x, y, z\\right)^{2} + 1\\right)} \\frac{\\partial^2\\,\\beta}{\\partial x\\partial y} \\\\ G_{ \\, t \\, z }^{ \\phantom{\\, t}\\phantom{\\, z} } & = & -\\beta\\left(t, x, y, z\\right) \\frac{\\partial\\,\\beta}{\\partial x} \\frac{\\partial\\,\\beta}{\\partial z} - \\frac{1}{2} \\, \\beta\\left(t, x, y, z\\right) \\frac{\\partial^2\\,\\beta}{\\partial t\\partial z} - \\frac{1}{2} \\, {\\left(\\beta\\left(t, x, y, z\\right)^{2} + 1\\right)} \\frac{\\partial^2\\,\\beta}{\\partial x\\partial z} \\\\ G_{ \\, x \\, x }^{ \\phantom{\\, x}\\phantom{\\, x} } & = & -\\frac{3}{4} \\, \\left(\\frac{\\partial\\,\\beta}{\\partial y}\\right)^{2} - \\frac{3}{4} \\, \\left(\\frac{\\partial\\,\\beta}{\\partial z}\\right)^{2} - {\\Lambda} \\\\ G_{ \\, x \\, y }^{ \\phantom{\\, x}\\phantom{\\, y} } & = & \\frac{1}{2} \\, \\beta\\left(t, x, y, z\\right) \\frac{\\partial^2\\,\\beta}{\\partial x\\partial y} + \\frac{\\partial\\,\\beta}{\\partial x} \\frac{\\partial\\,\\beta}{\\partial y} + \\frac{1}{2} \\, \\frac{\\partial^2\\,\\beta}{\\partial t\\partial y} \\\\ G_{ \\, x \\, z }^{ \\phantom{\\, x}\\phantom{\\, z} } & = & \\frac{1}{2} \\, \\beta\\left(t, x, y, z\\right) \\frac{\\partial^2\\,\\beta}{\\partial x\\partial z} + \\frac{\\partial\\,\\beta}{\\partial x} \\frac{\\partial\\,\\beta}{\\partial z} + \\frac{1}{2} \\, \\frac{\\partial^2\\,\\beta}{\\partial t\\partial z} \\\\ G_{ \\, y \\, y }^{ \\phantom{\\, y}\\phantom{\\, y} } & = & -\\left(\\frac{\\partial\\,\\beta}{\\partial x}\\right)^{2} - \\beta\\left(t, x, y, z\\right) \\frac{\\partial^2\\,\\beta}{\\partial x ^ 2} + \\frac{1}{4} \\, \\left(\\frac{\\partial\\,\\beta}{\\partial y}\\right)^{2} - \\frac{1}{4} \\, \\left(\\frac{\\partial\\,\\beta}{\\partial z}\\right)^{2} - {\\Lambda} - \\frac{\\partial^2\\,\\beta}{\\partial t\\partial x} \\\\ G_{ \\, y \\, z }^{ \\phantom{\\, y}\\phantom{\\, z} } & = & \\frac{1}{2} \\, \\frac{\\partial\\,\\beta}{\\partial y} \\frac{\\partial\\,\\beta}{\\partial z} \\\\ G_{ \\, z \\, z }^{ \\phantom{\\, z}\\phantom{\\, z} } & = & -\\left(\\frac{\\partial\\,\\beta}{\\partial x}\\right)^{2} - \\beta\\left(t, x, y, z\\right) \\frac{\\partial^2\\,\\beta}{\\partial x ^ 2} - \\frac{1}{4} \\, \\left(\\frac{\\partial\\,\\beta}{\\partial y}\\right)^{2} + \\frac{1}{4} \\, \\left(\\frac{\\partial\\,\\beta}{\\partial z}\\right)^{2} - {\\Lambda} - \\frac{\\partial^2\\,\\beta}{\\partial t\\partial x} \\end{array}$$"
      ],
      "text/plain": [
       "G_tt = -cosmo*betax(t, x, y, z)^2 - 1/4*(3*betax(t, x, y, z)^2 + 1)*(d(betax)/dy)^2 - 1/4*(3*betax(t, x, y, z)^2 + 1)*(d(betax)/dz)^2 - betax(t, x, y, z)*d^2(betax)/dy^2 - betax(t, x, y, z)*d^2(betax)/dz^2 + cosmo \n",
       "G_tx = 3/4*betax(t, x, y, z)*(d(betax)/dy)^2 + 3/4*betax(t, x, y, z)*(d(betax)/dz)^2 + cosmo*betax(t, x, y, z) + 1/2*d^2(betax)/dy^2 + 1/2*d^2(betax)/dz^2 \n",
       "G_ty = -betax(t, x, y, z)*d(betax)/dx*d(betax)/dy - 1/2*betax(t, x, y, z)*d^2(betax)/dtdy - 1/2*(betax(t, x, y, z)^2 + 1)*d^2(betax)/dxdy \n",
       "G_tz = -betax(t, x, y, z)*d(betax)/dx*d(betax)/dz - 1/2*betax(t, x, y, z)*d^2(betax)/dtdz - 1/2*(betax(t, x, y, z)^2 + 1)*d^2(betax)/dxdz \n",
       "G_xx = -3/4*(d(betax)/dy)^2 - 3/4*(d(betax)/dz)^2 - cosmo \n",
       "G_xy = 1/2*betax(t, x, y, z)*d^2(betax)/dxdy + d(betax)/dx*d(betax)/dy + 1/2*d^2(betax)/dtdy \n",
       "G_xz = 1/2*betax(t, x, y, z)*d^2(betax)/dxdz + d(betax)/dx*d(betax)/dz + 1/2*d^2(betax)/dtdz \n",
       "G_yy = -(d(betax)/dx)^2 - betax(t, x, y, z)*d^2(betax)/dx^2 + 1/4*(d(betax)/dy)^2 - 1/4*(d(betax)/dz)^2 - cosmo - d^2(betax)/dtdx \n",
       "G_yz = 1/2*d(betax)/dy*d(betax)/dz \n",
       "G_zz = -(d(betax)/dx)^2 - betax(t, x, y, z)*d^2(betax)/dx^2 - 1/4*(d(betax)/dy)^2 + 1/4*(d(betax)/dz)^2 - cosmo - d^2(betax)/dtdx "
      ]
     },
     "execution_count": 17,
     "metadata": {},
     "output_type": "execute_result"
    }
   ],
   "source": [
    "G = Ric - 1/2*g.ricci_scalar() * g - cosmo * g ;\n",
    "G.set_name('G');\n",
    "print(G);\n",
    "print(G.tensor_type());\n",
    "G.display_comp(only_nonredundant=True)"
   ]
  },
  {
   "cell_type": "markdown",
   "metadata": {},
   "source": [
    "## 2.5. Einstein tensor simplifications"
   ]
  },
  {
   "cell_type": "code",
   "execution_count": 18,
   "metadata": {},
   "outputs": [
    {
     "data": {
      "text/html": [
       "<html><script type=\"math/tex; mode=display\">\\newcommand{\\Bold}[1]{\\mathbf{#1}}\\frac{1}{2} \\, \\frac{\\partial\\,\\beta}{\\partial y} \\frac{\\partial\\,\\beta}{\\partial z}</script></html>"
      ],
      "text/latex": [
       "$$\\newcommand{\\Bold}[1]{\\mathbf{#1}}\\frac{1}{2} \\, \\frac{\\partial\\,\\beta}{\\partial y} \\frac{\\partial\\,\\beta}{\\partial z}$$"
      ],
      "text/plain": [
       "1/2*d(betax)/dy*d(betax)/dz"
      ]
     },
     "execution_count": 18,
     "metadata": {},
     "output_type": "execute_result"
    },
    {
     "data": {
      "text/html": [
       "<html><script type=\"math/tex; mode=display\">\\newcommand{\\Bold}[1]{\\mathbf{#1}}\\frac{1}{2} \\, \\frac{\\partial\\,\\beta}{\\partial y} \\frac{\\partial\\,\\beta}{\\partial z}</script></html>"
      ],
      "text/latex": [
       "$$\\newcommand{\\Bold}[1]{\\mathbf{#1}}\\frac{1}{2} \\, \\frac{\\partial\\,\\beta}{\\partial y} \\frac{\\partial\\,\\beta}{\\partial z}$$"
      ],
      "text/plain": [
       "1/2*d(betax)/dy*d(betax)/dz"
      ]
     },
     "execution_count": 18,
     "metadata": {},
     "output_type": "execute_result"
    }
   ],
   "source": [
    "G[2,3]"
   ]
  },
  {
   "cell_type": "code",
   "execution_count": 19,
   "metadata": {},
   "outputs": [
    {
     "data": {
      "text/html": [
       "<html><script type=\"math/tex; mode=display\">\\newcommand{\\Bold}[1]{\\mathbf{#1}}\\frac{1}{2} \\, \\left(\\frac{\\partial\\,\\beta}{\\partial y}\\right)^{2} - \\frac{1}{2} \\, \\left(\\frac{\\partial\\,\\beta}{\\partial z}\\right)^{2}</script></html>"
      ],
      "text/latex": [
       "$$\\newcommand{\\Bold}[1]{\\mathbf{#1}}\\frac{1}{2} \\, \\left(\\frac{\\partial\\,\\beta}{\\partial y}\\right)^{2} - \\frac{1}{2} \\, \\left(\\frac{\\partial\\,\\beta}{\\partial z}\\right)^{2}$$"
      ],
      "text/plain": [
       "1/2*(d(betax)/dy)^2 - 1/2*(d(betax)/dz)^2"
      ]
     },
     "execution_count": 19,
     "metadata": {},
     "output_type": "execute_result"
    },
    {
     "data": {
      "text/html": [
       "<html><script type=\"math/tex; mode=display\">\\newcommand{\\Bold}[1]{\\mathbf{#1}}\\frac{1}{2} \\, \\left(\\frac{\\partial\\,\\beta}{\\partial y}\\right)^{2} - \\frac{1}{2} \\, \\left(\\frac{\\partial\\,\\beta}{\\partial z}\\right)^{2}</script></html>"
      ],
      "text/latex": [
       "$$\\newcommand{\\Bold}[1]{\\mathbf{#1}}\\frac{1}{2} \\, \\left(\\frac{\\partial\\,\\beta}{\\partial y}\\right)^{2} - \\frac{1}{2} \\, \\left(\\frac{\\partial\\,\\beta}{\\partial z}\\right)^{2}$$"
      ],
      "text/plain": [
       "1/2*(d(betax)/dy)^2 - 1/2*(d(betax)/dz)^2"
      ]
     },
     "execution_count": 19,
     "metadata": {},
     "output_type": "execute_result"
    }
   ],
   "source": [
    "G[2,2] - G[3,3]"
   ]
  },
  {
   "cell_type": "code",
   "execution_count": 20,
   "metadata": {},
   "outputs": [
    {
     "data": {
      "text/html": [
       "<html><script type=\"math/tex; mode=display\">\\newcommand{\\Bold}[1]{\\mathbf{#1}}-\\left(\\frac{\\partial\\,\\beta}{\\partial x}\\right)^{2} - \\beta\\left(t, x, y, z\\right) \\frac{\\partial^2\\,\\beta}{\\partial x ^ 2} - {\\Lambda} - \\frac{\\partial^2\\,\\beta}{\\partial t\\partial x}</script></html>"
      ],
      "text/latex": [
       "$$\\newcommand{\\Bold}[1]{\\mathbf{#1}}-\\left(\\frac{\\partial\\,\\beta}{\\partial x}\\right)^{2} - \\beta\\left(t, x, y, z\\right) \\frac{\\partial^2\\,\\beta}{\\partial x ^ 2} - {\\Lambda} - \\frac{\\partial^2\\,\\beta}{\\partial t\\partial x}$$"
      ],
      "text/plain": [
       "-(d(betax)/dx)^2 - betax(t, x, y, z)*d^2(betax)/dx^2 - cosmo - d^2(betax)/dtdx"
      ]
     },
     "execution_count": 20,
     "metadata": {},
     "output_type": "execute_result"
    },
    {
     "data": {
      "text/html": [
       "<html><script type=\"math/tex; mode=display\">\\newcommand{\\Bold}[1]{\\mathbf{#1}}-\\left(\\frac{\\partial\\,\\beta}{\\partial x}\\right)^{2} - \\beta\\left(t, x, y, z\\right) \\frac{\\partial^2\\,\\beta}{\\partial x ^ 2} - {\\Lambda} - \\frac{\\partial^2\\,\\beta}{\\partial t\\partial x}</script></html>"
      ],
      "text/latex": [
       "$$\\newcommand{\\Bold}[1]{\\mathbf{#1}}-\\left(\\frac{\\partial\\,\\beta}{\\partial x}\\right)^{2} - \\beta\\left(t, x, y, z\\right) \\frac{\\partial^2\\,\\beta}{\\partial x ^ 2} - {\\Lambda} - \\frac{\\partial^2\\,\\beta}{\\partial t\\partial x}$$"
      ],
      "text/plain": [
       "-(d(betax)/dx)^2 - betax(t, x, y, z)*d^2(betax)/dx^2 - cosmo - d^2(betax)/dtdx"
      ]
     },
     "execution_count": 20,
     "metadata": {},
     "output_type": "execute_result"
    }
   ],
   "source": [
    "(G[2,2] + G[3,3])/2"
   ]
  },
  {
   "cell_type": "code",
   "execution_count": 21,
   "metadata": {},
   "outputs": [
    {
     "data": {
      "text/html": [
       "<html><script type=\"math/tex; mode=display\">\\newcommand{\\Bold}[1]{\\mathbf{#1}}-\\frac{1}{4} \\, \\left(\\frac{\\partial\\,\\beta}{\\partial y}\\right)^{2} - \\frac{1}{4} \\, \\left(\\frac{\\partial\\,\\beta}{\\partial z}\\right)^{2} + {\\Lambda}</script></html>"
      ],
      "text/latex": [
       "$$\\newcommand{\\Bold}[1]{\\mathbf{#1}}-\\frac{1}{4} \\, \\left(\\frac{\\partial\\,\\beta}{\\partial y}\\right)^{2} - \\frac{1}{4} \\, \\left(\\frac{\\partial\\,\\beta}{\\partial z}\\right)^{2} + {\\Lambda}$$"
      ],
      "text/plain": [
       "-1/4*(d(betax)/dy)^2 - 1/4*(d(betax)/dz)^2 + cosmo"
      ]
     },
     "execution_count": 21,
     "metadata": {},
     "output_type": "execute_result"
    },
    {
     "data": {
      "text/html": [
       "<html><script type=\"math/tex; mode=display\">\\newcommand{\\Bold}[1]{\\mathbf{#1}}-\\frac{1}{4} \\, \\left(\\frac{\\partial\\,\\beta}{\\partial y}\\right)^{2} - \\frac{1}{4} \\, \\left(\\frac{\\partial\\,\\beta}{\\partial z}\\right)^{2} + {\\Lambda}</script></html>"
      ],
      "text/latex": [
       "$$\\newcommand{\\Bold}[1]{\\mathbf{#1}}-\\frac{1}{4} \\, \\left(\\frac{\\partial\\,\\beta}{\\partial y}\\right)^{2} - \\frac{1}{4} \\, \\left(\\frac{\\partial\\,\\beta}{\\partial z}\\right)^{2} + {\\Lambda}$$"
      ],
      "text/plain": [
       "-1/4*(d(betax)/dy)^2 - 1/4*(d(betax)/dz)^2 + cosmo"
      ]
     },
     "execution_count": 21,
     "metadata": {},
     "output_type": "execute_result"
    }
   ],
   "source": [
    "G[0,0] + 2*betax*G[0,1] + betax^2*G[1,1]"
   ]
  },
  {
   "cell_type": "code",
   "execution_count": 22,
   "metadata": {},
   "outputs": [
    {
     "data": {
      "text/html": [
       "<html><script type=\"math/tex; mode=display\">\\newcommand{\\Bold}[1]{\\mathbf{#1}}\\frac{4}{3} \\, {\\Lambda}</script></html>"
      ],
      "text/latex": [
       "$$\\newcommand{\\Bold}[1]{\\mathbf{#1}}\\frac{4}{3} \\, {\\Lambda}$$"
      ],
      "text/plain": [
       "4/3*cosmo"
      ]
     },
     "execution_count": 22,
     "metadata": {},
     "output_type": "execute_result"
    },
    {
     "data": {
      "text/html": [
       "<html><script type=\"math/tex; mode=display\">\\newcommand{\\Bold}[1]{\\mathbf{#1}}\\frac{4}{3} \\, {\\Lambda}</script></html>"
      ],
      "text/latex": [
       "$$\\newcommand{\\Bold}[1]{\\mathbf{#1}}\\frac{4}{3} \\, {\\Lambda}$$"
      ],
      "text/plain": [
       "4/3*cosmo"
      ]
     },
     "execution_count": 22,
     "metadata": {},
     "output_type": "execute_result"
    }
   ],
   "source": [
    "G[0,0] + 2*betax*G[0,1] + (betax^2-1/3)*G[1,1]"
   ]
  },
  {
   "cell_type": "code",
   "execution_count": 23,
   "metadata": {},
   "outputs": [
    {
     "data": {
      "text/html": [
       "<html><script type=\"math/tex; mode=display\">\\newcommand{\\Bold}[1]{\\mathbf{#1}}-\\frac{1}{2} \\, \\frac{\\partial^2\\,\\beta}{\\partial x\\partial y}</script></html>"
      ],
      "text/latex": [
       "$$\\newcommand{\\Bold}[1]{\\mathbf{#1}}-\\frac{1}{2} \\, \\frac{\\partial^2\\,\\beta}{\\partial x\\partial y}$$"
      ],
      "text/plain": [
       "-1/2*d^2(betax)/dxdy"
      ]
     },
     "execution_count": 23,
     "metadata": {},
     "output_type": "execute_result"
    },
    {
     "data": {
      "text/html": [
       "<html><script type=\"math/tex; mode=display\">\\newcommand{\\Bold}[1]{\\mathbf{#1}}-\\frac{1}{2} \\, \\frac{\\partial^2\\,\\beta}{\\partial x\\partial y}</script></html>"
      ],
      "text/latex": [
       "$$\\newcommand{\\Bold}[1]{\\mathbf{#1}}-\\frac{1}{2} \\, \\frac{\\partial^2\\,\\beta}{\\partial x\\partial y}$$"
      ],
      "text/plain": [
       "-1/2*d^2(betax)/dxdy"
      ]
     },
     "execution_count": 23,
     "metadata": {},
     "output_type": "execute_result"
    }
   ],
   "source": [
    "G[0,2] + betax * G[1,2]"
   ]
  },
  {
   "cell_type": "code",
   "execution_count": 24,
   "metadata": {},
   "outputs": [
    {
     "data": {
      "text/html": [
       "<html><script type=\"math/tex; mode=display\">\\newcommand{\\Bold}[1]{\\mathbf{#1}}-\\frac{1}{2} \\, \\frac{\\partial^2\\,\\beta}{\\partial x\\partial z}</script></html>"
      ],
      "text/latex": [
       "$$\\newcommand{\\Bold}[1]{\\mathbf{#1}}-\\frac{1}{2} \\, \\frac{\\partial^2\\,\\beta}{\\partial x\\partial z}$$"
      ],
      "text/plain": [
       "-1/2*d^2(betax)/dxdz"
      ]
     },
     "execution_count": 24,
     "metadata": {},
     "output_type": "execute_result"
    },
    {
     "data": {
      "text/html": [
       "<html><script type=\"math/tex; mode=display\">\\newcommand{\\Bold}[1]{\\mathbf{#1}}-\\frac{1}{2} \\, \\frac{\\partial^2\\,\\beta}{\\partial x\\partial z}</script></html>"
      ],
      "text/latex": [
       "$$\\newcommand{\\Bold}[1]{\\mathbf{#1}}-\\frac{1}{2} \\, \\frac{\\partial^2\\,\\beta}{\\partial x\\partial z}$$"
      ],
      "text/plain": [
       "-1/2*d^2(betax)/dxdz"
      ]
     },
     "execution_count": 24,
     "metadata": {},
     "output_type": "execute_result"
    }
   ],
   "source": [
    "G[0,3] + betax * G[1,3]"
   ]
  },
  {
   "cell_type": "code",
   "execution_count": 25,
   "metadata": {},
   "outputs": [
    {
     "data": {
      "text/html": [
       "<html><script type=\"math/tex; mode=display\">\\newcommand{\\Bold}[1]{\\mathbf{#1}}\\frac{1}{2} \\, \\frac{\\partial^2\\,\\beta}{\\partial y ^ 2} + \\frac{1}{2} \\, \\frac{\\partial^2\\,\\beta}{\\partial z ^ 2}</script></html>"
      ],
      "text/latex": [
       "$$\\newcommand{\\Bold}[1]{\\mathbf{#1}}\\frac{1}{2} \\, \\frac{\\partial^2\\,\\beta}{\\partial y ^ 2} + \\frac{1}{2} \\, \\frac{\\partial^2\\,\\beta}{\\partial z ^ 2}$$"
      ],
      "text/plain": [
       "1/2*d^2(betax)/dy^2 + 1/2*d^2(betax)/dz^2"
      ]
     },
     "execution_count": 25,
     "metadata": {},
     "output_type": "execute_result"
    },
    {
     "data": {
      "text/html": [
       "<html><script type=\"math/tex; mode=display\">\\newcommand{\\Bold}[1]{\\mathbf{#1}}\\frac{1}{2} \\, \\frac{\\partial^2\\,\\beta}{\\partial y ^ 2} + \\frac{1}{2} \\, \\frac{\\partial^2\\,\\beta}{\\partial z ^ 2}</script></html>"
      ],
      "text/latex": [
       "$$\\newcommand{\\Bold}[1]{\\mathbf{#1}}\\frac{1}{2} \\, \\frac{\\partial^2\\,\\beta}{\\partial y ^ 2} + \\frac{1}{2} \\, \\frac{\\partial^2\\,\\beta}{\\partial z ^ 2}$$"
      ],
      "text/plain": [
       "1/2*d^2(betax)/dy^2 + 1/2*d^2(betax)/dz^2"
      ]
     },
     "execution_count": 25,
     "metadata": {},
     "output_type": "execute_result"
    }
   ],
   "source": [
    "G[0,1] + betax * G[1,1]"
   ]
  },
  {
   "cell_type": "markdown",
   "metadata": {},
   "source": [
    "## 2.6. Defining the 4-velocity for Eulerian observers"
   ]
  },
  {
   "cell_type": "code",
   "execution_count": 26,
   "metadata": {},
   "outputs": [
    {
     "name": "stdout",
     "output_type": "stream",
     "text": [
      "Vector field u on the 4-dimensional Lorentzian manifold M\n",
      "(1, 0)\n",
      "Vector field u on the 4-dimensional Lorentzian manifold M\n",
      "(1, 0)\n"
     ]
    },
    {
     "data": {
      "text/html": [
       "<html><script type=\"math/tex; mode=display\">\\newcommand{\\Bold}[1]{\\mathbf{#1}}\\begin{array}{lcl} u_{\\phantom{\\, t}}^{ \\, t } & = & 1 \\\\ u_{\\phantom{\\, x}}^{ \\, x } & = & \\beta\\left(t, x, y, z\\right) \\end{array}</script></html>"
      ],
      "text/latex": [
       "$$\\newcommand{\\Bold}[1]{\\mathbf{#1}}\\begin{array}{lcl} u_{\\phantom{\\, t}}^{ \\, t } & = & 1 \\\\ u_{\\phantom{\\, x}}^{ \\, x } & = & \\beta\\left(t, x, y, z\\right) \\end{array}$$"
      ],
      "text/plain": [
       "u^t = 1 \n",
       "u^x = betax(t, x, y, z) "
      ]
     },
     "execution_count": 26,
     "metadata": {},
     "output_type": "execute_result"
    },
    {
     "data": {
      "text/html": [
       "<html><script type=\"math/tex; mode=display\">\\newcommand{\\Bold}[1]{\\mathbf{#1}}\\begin{array}{lcl} u_{\\phantom{\\, t}}^{ \\, t } & = & 1 \\\\ u_{\\phantom{\\, x}}^{ \\, x } & = & \\beta\\left(t, x, y, z\\right) \\end{array}</script></html>"
      ],
      "text/latex": [
       "$$\\newcommand{\\Bold}[1]{\\mathbf{#1}}\\begin{array}{lcl} u_{\\phantom{\\, t}}^{ \\, t } & = & 1 \\\\ u_{\\phantom{\\, x}}^{ \\, x } & = & \\beta\\left(t, x, y, z\\right) \\end{array}$$"
      ],
      "text/plain": [
       "u^t = 1 \n",
       "u^x = betax(t, x, y, z) "
      ]
     },
     "execution_count": 26,
     "metadata": {},
     "output_type": "execute_result"
    }
   ],
   "source": [
    "u = M.vector_field('u')\n",
    "u[0] = 1\n",
    "u[1] = betax\n",
    "\n",
    "print(u)\n",
    "print(u.tensor_type())\n",
    "u.display_comp()"
   ]
  },
  {
   "cell_type": "code",
   "execution_count": 27,
   "metadata": {},
   "outputs": [
    {
     "name": "stdout",
     "output_type": "stream",
     "text": [
      "1-form u on the 4-dimensional Lorentzian manifold M\n",
      "(0, 1)\n",
      "1-form u on the 4-dimensional Lorentzian manifold M\n",
      "(0, 1)\n"
     ]
    },
    {
     "data": {
      "text/html": [
       "<html><script type=\"math/tex; mode=display\">\\newcommand{\\Bold}[1]{\\mathbf{#1}}\\begin{array}{lcl} u_{ \\, t }^{ \\phantom{\\, t} } & = & -1 \\end{array}</script></html>"
      ],
      "text/latex": [
       "$$\\newcommand{\\Bold}[1]{\\mathbf{#1}}\\begin{array}{lcl} u_{ \\, t }^{ \\phantom{\\, t} } & = & -1 \\end{array}$$"
      ],
      "text/plain": [
       "u_t = -1 "
      ]
     },
     "execution_count": 27,
     "metadata": {},
     "output_type": "execute_result"
    },
    {
     "data": {
      "text/html": [
       "<html><script type=\"math/tex; mode=display\">\\newcommand{\\Bold}[1]{\\mathbf{#1}}\\begin{array}{lcl} u_{ \\, t }^{ \\phantom{\\, t} } & = & -1 \\end{array}</script></html>"
      ],
      "text/latex": [
       "$$\\newcommand{\\Bold}[1]{\\mathbf{#1}}\\begin{array}{lcl} u_{ \\, t }^{ \\phantom{\\, t} } & = & -1 \\end{array}$$"
      ],
      "text/plain": [
       "u_t = -1 "
      ]
     },
     "execution_count": 27,
     "metadata": {},
     "output_type": "execute_result"
    }
   ],
   "source": [
    "u_form = u.down(g)\n",
    "u_form.set_name('u')\n",
    "print(u_form)\n",
    "print(u_form.tensor_type())\n",
    "u_form.display_comp()"
   ]
  },
  {
   "cell_type": "markdown",
   "metadata": {},
   "source": [
    "# 3. Energy momentum tensor"
   ]
  },
  {
   "cell_type": "code",
   "execution_count": 28,
   "metadata": {},
   "outputs": [
    {
     "name": "stdout",
     "output_type": "stream",
     "text": [
      "Field of symmetric bilinear forms T on the 4-dimensional Lorentzian manifold M\n",
      "(0, 2)\n",
      "Field of symmetric bilinear forms T on the 4-dimensional Lorentzian manifold M\n",
      "(0, 2)\n"
     ]
    },
    {
     "data": {
      "text/html": [
       "<html><script type=\"math/tex; mode=display\">\\newcommand{\\Bold}[1]{\\mathbf{#1}}\\begin{array}{lcl} T_{ \\, t \\, t }^{ \\phantom{\\, t}\\phantom{\\, t} } & = & \\mu\\left(t, x, y, z\\right) \\end{array}</script></html>"
      ],
      "text/latex": [
       "$$\\newcommand{\\Bold}[1]{\\mathbf{#1}}\\begin{array}{lcl} T_{ \\, t \\, t }^{ \\phantom{\\, t}\\phantom{\\, t} } & = & \\mu\\left(t, x, y, z\\right) \\end{array}$$"
      ],
      "text/plain": [
       "T_tt = mu(t, x, y, z) "
      ]
     },
     "execution_count": 28,
     "metadata": {},
     "output_type": "execute_result"
    },
    {
     "data": {
      "text/html": [
       "<html><script type=\"math/tex; mode=display\">\\newcommand{\\Bold}[1]{\\mathbf{#1}}\\begin{array}{lcl} T_{ \\, t \\, t }^{ \\phantom{\\, t}\\phantom{\\, t} } & = & \\mu\\left(t, x, y, z\\right) \\end{array}</script></html>"
      ],
      "text/latex": [
       "$$\\newcommand{\\Bold}[1]{\\mathbf{#1}}\\begin{array}{lcl} T_{ \\, t \\, t }^{ \\phantom{\\, t}\\phantom{\\, t} } & = & \\mu\\left(t, x, y, z\\right) \\end{array}$$"
      ],
      "text/plain": [
       "T_tt = mu(t, x, y, z) "
      ]
     },
     "execution_count": 28,
     "metadata": {},
     "output_type": "execute_result"
    }
   ],
   "source": [
    "t_dust = M.tensor_field(0,2, name='T');\n",
    "\n",
    "t_dust = mu*(u_form * u_form)\n",
    "\n",
    "t_dust.set_name('T')\n",
    "print(t_dust)\n",
    "print(t_dust.tensor_type())\n",
    "t_dust.display_comp()"
   ]
  },
  {
   "cell_type": "markdown",
   "metadata": {},
   "source": [
    "# 4. Einstein tensor contraction\n",
    "\n",
    "## 4.1. Contracting Einstein tensor with 4-velocity\n",
    "\n",
    "\\begin{equation}\n",
    "G_{\\mu \\nu} \\, u^{\\mu} u^\\nu\n",
    "\\end{equation}"
   ]
  },
  {
   "cell_type": "code",
   "execution_count": 29,
   "metadata": {},
   "outputs": [
    {
     "name": "stdout",
     "output_type": "stream",
     "text": [
      "Scalar field on the 4-dimensional Lorentzian manifold M\n",
      "(0, 0)\n",
      "Scalar field on the 4-dimensional Lorentzian manifold M\n",
      "(0, 0)\n"
     ]
    },
    {
     "data": {
      "text/html": [
       "<html><script type=\"math/tex; mode=display\">\\newcommand{\\Bold}[1]{\\mathbf{#1}}\\begin{array}{llcl} & M & \\longrightarrow & \\mathbb{R} \\\\ & \\left(t, x, y, z\\right) & \\longmapsto & -\\frac{1}{4} \\, \\left(\\frac{\\partial\\,\\beta}{\\partial y}\\right)^{2} - \\frac{1}{4} \\, \\left(\\frac{\\partial\\,\\beta}{\\partial z}\\right)^{2} + {\\Lambda} \\end{array}</script></html>"
      ],
      "text/latex": [
       "$$\\newcommand{\\Bold}[1]{\\mathbf{#1}}\\begin{array}{llcl} & M & \\longrightarrow & \\mathbb{R} \\\\ & \\left(t, x, y, z\\right) & \\longmapsto & -\\frac{1}{4} \\, \\left(\\frac{\\partial\\,\\beta}{\\partial y}\\right)^{2} - \\frac{1}{4} \\, \\left(\\frac{\\partial\\,\\beta}{\\partial z}\\right)^{2} + {\\Lambda} \\end{array}$$"
      ],
      "text/plain": [
       "M --> R\n",
       "(t, x, y, z) |--> -1/4*(d(betax)/dy)^2 - 1/4*(d(betax)/dz)^2 + cosmo"
      ]
     },
     "execution_count": 29,
     "metadata": {},
     "output_type": "execute_result"
    },
    {
     "data": {
      "text/html": [
       "<html><script type=\"math/tex; mode=display\">\\newcommand{\\Bold}[1]{\\mathbf{#1}}\\begin{array}{llcl} & M & \\longrightarrow & \\mathbb{R} \\\\ & \\left(t, x, y, z\\right) & \\longmapsto & -\\frac{1}{4} \\, \\left(\\frac{\\partial\\,\\beta}{\\partial y}\\right)^{2} - \\frac{1}{4} \\, \\left(\\frac{\\partial\\,\\beta}{\\partial z}\\right)^{2} + {\\Lambda} \\end{array}</script></html>"
      ],
      "text/latex": [
       "$$\\newcommand{\\Bold}[1]{\\mathbf{#1}}\\begin{array}{llcl} & M & \\longrightarrow & \\mathbb{R} \\\\ & \\left(t, x, y, z\\right) & \\longmapsto & -\\frac{1}{4} \\, \\left(\\frac{\\partial\\,\\beta}{\\partial y}\\right)^{2} - \\frac{1}{4} \\, \\left(\\frac{\\partial\\,\\beta}{\\partial z}\\right)^{2} + {\\Lambda} \\end{array}$$"
      ],
      "text/plain": [
       "M --> R\n",
       "(t, x, y, z) |--> -1/4*(d(betax)/dy)^2 - 1/4*(d(betax)/dz)^2 + cosmo"
      ]
     },
     "execution_count": 29,
     "metadata": {},
     "output_type": "execute_result"
    }
   ],
   "source": [
    "Gc1 = G.contract(0, u)\n",
    "Gc2 = Gc1.contract(1, u)\n",
    "print(Gc2)\n",
    "print(Gc2.tensor_type())\n",
    "Gc2.display()"
   ]
  },
  {
   "cell_type": "markdown",
   "metadata": {},
   "source": [
    "## 4.2. Crosscheck\n",
    "\n",
    "Checking if the Einstein contraction with the 4-velocity is really the same as the algebric expression below\n",
    "\n",
    "\\begin{equation}\n",
    "G_{\\mu \\nu} \\, u^{\\mu} u^\\nu = G_{00} + 2 \\, \\beta \\, G_{01} + \\beta^2 \\, G_{11}.\n",
    "\\end{equation}"
   ]
  },
  {
   "cell_type": "code",
   "execution_count": 30,
   "metadata": {},
   "outputs": [
    {
     "data": {
      "text/html": [
       "<html><script type=\"math/tex; mode=display\">\\newcommand{\\Bold}[1]{\\mathbf{#1}}-\\frac{1}{4} \\, \\left(\\frac{\\partial\\,\\beta}{\\partial y}\\right)^{2} - \\frac{1}{4} \\, \\left(\\frac{\\partial\\,\\beta}{\\partial z}\\right)^{2} + {\\Lambda}</script></html>"
      ],
      "text/latex": [
       "$$\\newcommand{\\Bold}[1]{\\mathbf{#1}}-\\frac{1}{4} \\, \\left(\\frac{\\partial\\,\\beta}{\\partial y}\\right)^{2} - \\frac{1}{4} \\, \\left(\\frac{\\partial\\,\\beta}{\\partial z}\\right)^{2} + {\\Lambda}$$"
      ],
      "text/plain": [
       "-1/4*(d(betax)/dy)^2 - 1/4*(d(betax)/dz)^2 + cosmo"
      ]
     },
     "execution_count": 30,
     "metadata": {},
     "output_type": "execute_result"
    },
    {
     "data": {
      "text/html": [
       "<html><script type=\"math/tex; mode=display\">\\newcommand{\\Bold}[1]{\\mathbf{#1}}-\\frac{1}{4} \\, \\left(\\frac{\\partial\\,\\beta}{\\partial y}\\right)^{2} - \\frac{1}{4} \\, \\left(\\frac{\\partial\\,\\beta}{\\partial z}\\right)^{2} + {\\Lambda}</script></html>"
      ],
      "text/latex": [
       "$$\\newcommand{\\Bold}[1]{\\mathbf{#1}}-\\frac{1}{4} \\, \\left(\\frac{\\partial\\,\\beta}{\\partial y}\\right)^{2} - \\frac{1}{4} \\, \\left(\\frac{\\partial\\,\\beta}{\\partial z}\\right)^{2} + {\\Lambda}$$"
      ],
      "text/plain": [
       "-1/4*(d(betax)/dy)^2 - 1/4*(d(betax)/dz)^2 + cosmo"
      ]
     },
     "execution_count": 30,
     "metadata": {},
     "output_type": "execute_result"
    }
   ],
   "source": [
    "G[0,0] + 2*betax*G[0,1] + betax^2*G[1,1]"
   ]
  },
  {
   "cell_type": "markdown",
   "metadata": {},
   "source": [
    "## 4.3. Expression from Einstein equations"
   ]
  },
  {
   "cell_type": "code",
   "execution_count": 31,
   "metadata": {},
   "outputs": [
    {
     "data": {
      "text/html": [
       "<html><script type=\"math/tex; mode=display\">\\newcommand{\\Bold}[1]{\\mathbf{#1}}\\frac{4}{3} \\, {\\Lambda}</script></html>"
      ],
      "text/latex": [
       "$$\\newcommand{\\Bold}[1]{\\mathbf{#1}}\\frac{4}{3} \\, {\\Lambda}$$"
      ],
      "text/plain": [
       "4/3*cosmo"
      ]
     },
     "execution_count": 31,
     "metadata": {},
     "output_type": "execute_result"
    },
    {
     "data": {
      "text/html": [
       "<html><script type=\"math/tex; mode=display\">\\newcommand{\\Bold}[1]{\\mathbf{#1}}\\frac{4}{3} \\, {\\Lambda}</script></html>"
      ],
      "text/latex": [
       "$$\\newcommand{\\Bold}[1]{\\mathbf{#1}}\\frac{4}{3} \\, {\\Lambda}$$"
      ],
      "text/plain": [
       "4/3*cosmo"
      ]
     },
     "execution_count": 31,
     "metadata": {},
     "output_type": "execute_result"
    }
   ],
   "source": [
    "G[0,0] + 2*betax*G[0,1] + (betax^2-1/3)*G[1,1]"
   ]
  },
  {
   "cell_type": "markdown",
   "metadata": {},
   "source": [
    "## 4.4. Divergence of energy momentum tensor"
   ]
  },
  {
   "cell_type": "code",
   "execution_count": 32,
   "metadata": {},
   "outputs": [
    {
     "name": "stdout",
     "output_type": "stream",
     "text": [
      "(0, 2)\n",
      "(0, 2)\n"
     ]
    },
    {
     "data": {
      "text/html": [
       "<html><script type=\"math/tex; mode=display\">\\newcommand{\\Bold}[1]{\\mathbf{#1}}\\begin{array}{lcl} div_{ \\, t }^{ \\phantom{\\, t} } & = & -\\mu\\left(t, x, y, z\\right) \\frac{\\partial\\,\\beta}{\\partial x} - \\beta\\left(t, x, y, z\\right) \\frac{\\partial\\,\\mu}{\\partial x} - \\frac{\\partial\\,\\mu}{\\partial t} \\end{array}</script></html>"
      ],
      "text/latex": [
       "$$\\newcommand{\\Bold}[1]{\\mathbf{#1}}\\begin{array}{lcl} div_{ \\, t }^{ \\phantom{\\, t} } & = & -\\mu\\left(t, x, y, z\\right) \\frac{\\partial\\,\\beta}{\\partial x} - \\beta\\left(t, x, y, z\\right) \\frac{\\partial\\,\\mu}{\\partial x} - \\frac{\\partial\\,\\mu}{\\partial t} \\end{array}$$"
      ],
      "text/plain": [
       "div_t = -mu(t, x, y, z)*d(betax)/dx - betax(t, x, y, z)*d(mu)/dx - d(mu)/dt "
      ]
     },
     "execution_count": 32,
     "metadata": {},
     "output_type": "execute_result"
    },
    {
     "data": {
      "text/html": [
       "<html><script type=\"math/tex; mode=display\">\\newcommand{\\Bold}[1]{\\mathbf{#1}}\\begin{array}{lcl} div_{ \\, t }^{ \\phantom{\\, t} } & = & -\\mu\\left(t, x, y, z\\right) \\frac{\\partial\\,\\beta}{\\partial x} - \\beta\\left(t, x, y, z\\right) \\frac{\\partial\\,\\mu}{\\partial x} - \\frac{\\partial\\,\\mu}{\\partial t} \\end{array}</script></html>"
      ],
      "text/latex": [
       "$$\\newcommand{\\Bold}[1]{\\mathbf{#1}}\\begin{array}{lcl} div_{ \\, t }^{ \\phantom{\\, t} } & = & -\\mu\\left(t, x, y, z\\right) \\frac{\\partial\\,\\beta}{\\partial x} - \\beta\\left(t, x, y, z\\right) \\frac{\\partial\\,\\mu}{\\partial x} - \\frac{\\partial\\,\\mu}{\\partial t} \\end{array}$$"
      ],
      "text/plain": [
       "div_t = -mu(t, x, y, z)*d(betax)/dx - betax(t, x, y, z)*d(mu)/dx - d(mu)/dt "
      ]
     },
     "execution_count": 32,
     "metadata": {},
     "output_type": "execute_result"
    }
   ],
   "source": [
    "s = t_dust.div()\n",
    "s.set_name('div')\n",
    "print(t_dust.tensor_type())\n",
    "s.display_comp()"
   ]
  },
  {
   "cell_type": "markdown",
   "metadata": {},
   "source": [
    "# Extrinsic curvature tensor"
   ]
  },
  {
   "cell_type": "code",
   "execution_count": 33,
   "metadata": {},
   "outputs": [
    {
     "data": {
      "text/html": [
       "<html><script type=\"math/tex; mode=display\">\\newcommand{\\Bold}[1]{\\mathbf{#1}}K = 0</script></html>"
      ],
      "text/latex": [
       "$$\\newcommand{\\Bold}[1]{\\mathbf{#1}}K = 0$$"
      ],
      "text/plain": [
       "K = 0"
      ]
     },
     "execution_count": 33,
     "metadata": {},
     "output_type": "execute_result"
    },
    {
     "data": {
      "text/html": [
       "<html><script type=\"math/tex; mode=display\">\\newcommand{\\Bold}[1]{\\mathbf{#1}}K = 0</script></html>"
      ],
      "text/latex": [
       "$$\\newcommand{\\Bold}[1]{\\mathbf{#1}}K = 0$$"
      ],
      "text/plain": [
       "K = 0"
      ]
     },
     "execution_count": 33,
     "metadata": {},
     "output_type": "execute_result"
    }
   ],
   "source": [
    "gam = Sig.metric('gamma')\n",
    "gam[1,1] = g[1,1]\n",
    "gam[2,2] = g[2,2]\n",
    "gam[3,3] = g[3,3]\n",
    "normal = Sig.vector_field(1,0,0, name = 'normal', latex_name=r'n') \n",
    "K = gam.lie_derivative(normal) \n",
    "K.set_name('K')\n",
    "K.display()"
   ]
  },
  {
   "cell_type": "markdown",
   "metadata": {},
   "source": [
    "# 5. Energy Conditions"
   ]
  },
  {
   "cell_type": "markdown",
   "metadata": {},
   "source": [
    "## 5.1. Auxiliar calculations\n",
    "\n",
    "We calculated the expression $t_{\\mu\\nu} = u_\\mu u _\\nu$ as auxilar calculation for the contraction of the energy momentum tensor $T^{\\mu \\nu} u_\\mu u _\\nu$."
   ]
  },
  {
   "cell_type": "code",
   "execution_count": 34,
   "metadata": {},
   "outputs": [
    {
     "name": "stdout",
     "output_type": "stream",
     "text": [
      "Scalar field on the 4-dimensional Lorentzian manifold M\n",
      "Scalar field on the 4-dimensional Lorentzian manifold M\n"
     ]
    },
    {
     "data": {
      "text/html": [
       "<html><script type=\"math/tex; mode=display\">\\newcommand{\\Bold}[1]{\\mathbf{#1}}\\begin{array}{llcl} & M & \\longrightarrow & \\mathbb{R} \\\\ & \\left(t, x, y, z\\right) & \\longmapsto & -\\frac{1}{4} \\, \\left(\\frac{\\partial\\,\\beta}{\\partial y}\\right)^{2} - \\frac{1}{4} \\, \\left(\\frac{\\partial\\,\\beta}{\\partial z}\\right)^{2} + {\\Lambda} \\end{array}</script></html>"
      ],
      "text/latex": [
       "$$\\newcommand{\\Bold}[1]{\\mathbf{#1}}\\begin{array}{llcl} & M & \\longrightarrow & \\mathbb{R} \\\\ & \\left(t, x, y, z\\right) & \\longmapsto & -\\frac{1}{4} \\, \\left(\\frac{\\partial\\,\\beta}{\\partial y}\\right)^{2} - \\frac{1}{4} \\, \\left(\\frac{\\partial\\,\\beta}{\\partial z}\\right)^{2} + {\\Lambda} \\end{array}$$"
      ],
      "text/plain": [
       "M --> R\n",
       "(t, x, y, z) |--> -1/4*(d(betax)/dy)^2 - 1/4*(d(betax)/dz)^2 + cosmo"
      ]
     },
     "execution_count": 34,
     "metadata": {},
     "output_type": "execute_result"
    },
    {
     "data": {
      "text/html": [
       "<html><script type=\"math/tex; mode=display\">\\newcommand{\\Bold}[1]{\\mathbf{#1}}\\begin{array}{llcl} & M & \\longrightarrow & \\mathbb{R} \\\\ & \\left(t, x, y, z\\right) & \\longmapsto & -\\frac{1}{4} \\, \\left(\\frac{\\partial\\,\\beta}{\\partial y}\\right)^{2} - \\frac{1}{4} \\, \\left(\\frac{\\partial\\,\\beta}{\\partial z}\\right)^{2} + {\\Lambda} \\end{array}</script></html>"
      ],
      "text/latex": [
       "$$\\newcommand{\\Bold}[1]{\\mathbf{#1}}\\begin{array}{llcl} & M & \\longrightarrow & \\mathbb{R} \\\\ & \\left(t, x, y, z\\right) & \\longmapsto & -\\frac{1}{4} \\, \\left(\\frac{\\partial\\,\\beta}{\\partial y}\\right)^{2} - \\frac{1}{4} \\, \\left(\\frac{\\partial\\,\\beta}{\\partial z}\\right)^{2} + {\\Lambda} \\end{array}$$"
      ],
      "text/plain": [
       "M --> R\n",
       "(t, x, y, z) |--> -1/4*(d(betax)/dy)^2 - 1/4*(d(betax)/dz)^2 + cosmo"
      ]
     },
     "execution_count": 34,
     "metadata": {},
     "output_type": "execute_result"
    }
   ],
   "source": [
    "t1 = u*u\n",
    "\n",
    "# contracting the tensor G with t1 as another check.\n",
    "t2 = G.contract(0,1, t1,0,1)\n",
    "\n",
    "# t2 is a scalar field on M.\n",
    "print(t2)\n",
    "\n",
    "# display t2\n",
    "t2.display()"
   ]
  },
  {
   "cell_type": "markdown",
   "metadata": {},
   "source": [
    "## 5.1. Weak Energy Condition\n",
    "\n",
    "For this case the EMT at each point of the spacetime must obey the\n",
    "inequality\n",
    "\\begin{equation}\n",
    "T_{\\alpha \\sigma} \\, u^\\alpha u^\\sigma \\geq 0,    \n",
    "\\end{equation}\n",
    "for any timelike vector $\\textbf{u} \\, (u_\\alpha u^\\alpha < 0)$ and \n",
    "any null zero vector $\\textbf{k} \\, (k_\\alpha k^\\alpha = 0)$. For an\n",
    "observer with unit tangent vector $\\textbf{v}$ at a certain point of\n",
    "the spacetime, the local energy density measured by any observer is\n",
    "non-negative."
   ]
  },
  {
   "cell_type": "code",
   "execution_count": 35,
   "metadata": {},
   "outputs": [
    {
     "name": "stdout",
     "output_type": "stream",
     "text": [
      "Scalar field on the 4-dimensional Lorentzian manifold M\n",
      "Scalar field on the 4-dimensional Lorentzian manifold M\n"
     ]
    },
    {
     "data": {
      "text/html": [
       "<html><script type=\"math/tex; mode=display\">\\newcommand{\\Bold}[1]{\\mathbf{#1}}\\begin{array}{llcl} & M & \\longrightarrow & \\mathbb{R} \\\\ & \\left(t, x, y, z\\right) & \\longmapsto & \\mu\\left(t, x, y, z\\right) \\end{array}</script></html>"
      ],
      "text/latex": [
       "$$\\newcommand{\\Bold}[1]{\\mathbf{#1}}\\begin{array}{llcl} & M & \\longrightarrow & \\mathbb{R} \\\\ & \\left(t, x, y, z\\right) & \\longmapsto & \\mu\\left(t, x, y, z\\right) \\end{array}$$"
      ],
      "text/plain": [
       "M --> R\n",
       "(t, x, y, z) |--> mu(t, x, y, z)"
      ]
     },
     "execution_count": 35,
     "metadata": {},
     "output_type": "execute_result"
    },
    {
     "data": {
      "text/html": [
       "<html><script type=\"math/tex; mode=display\">\\newcommand{\\Bold}[1]{\\mathbf{#1}}\\begin{array}{llcl} & M & \\longrightarrow & \\mathbb{R} \\\\ & \\left(t, x, y, z\\right) & \\longmapsto & \\mu\\left(t, x, y, z\\right) \\end{array}</script></html>"
      ],
      "text/latex": [
       "$$\\newcommand{\\Bold}[1]{\\mathbf{#1}}\\begin{array}{llcl} & M & \\longrightarrow & \\mathbb{R} \\\\ & \\left(t, x, y, z\\right) & \\longmapsto & \\mu\\left(t, x, y, z\\right) \\end{array}$$"
      ],
      "text/plain": [
       "M --> R\n",
       "(t, x, y, z) |--> mu(t, x, y, z)"
      ]
     },
     "execution_count": 35,
     "metadata": {},
     "output_type": "execute_result"
    }
   ],
   "source": [
    "# Weak Energy Condition\n",
    "# t1 = u*u\n",
    "\n",
    "t3 = mu*(u_form * u_form)\n",
    "\n",
    "# calculating the wec\n",
    "wec = t3.contract(0,1, t1,0,1)\n",
    "\n",
    "print(wec)\n",
    "wec.display()"
   ]
  },
  {
   "cell_type": "markdown",
   "metadata": {},
   "source": [
    "## 5.2 Dominant Energy Condition\n",
    "\n",
    "For every timelike vector $u_a$, the following inequality must be\n",
    "satisfied\n",
    "\n",
    "\\begin{equation}\n",
    "T^{\\alpha \\beta} \\, u_\\alpha u_\\beta \\geq 0, \\quad \\text{and} \\quad \n",
    "F^\\alpha  F_\\alpha \\leq 0, \n",
    "\\end{equation}\n",
    "\n",
    "where $F^\\alpha = T^{\\alpha \\beta} u_\\beta$ is a non-spacelike \n",
    "vector. We can understand that this condition means that, for any \n",
    "observer, the local energy density appears to be non-negative and \n",
    "the local energy flow vector is non-spacelike. In any orthonormal \n",
    "basis, the energy dominates the other components of the EMT, \n",
    "\n",
    "\\begin{equation}\n",
    "T^{00} \\geq |T^{ab}|, \\ \\text{for each} \\ a, b.\n",
    "\\end{equation}"
   ]
  },
  {
   "cell_type": "code",
   "execution_count": 36,
   "metadata": {},
   "outputs": [
    {
     "name": "stdout",
     "output_type": "stream",
     "text": [
      "Scalar field on the 4-dimensional Lorentzian manifold M\n",
      "Scalar field on the 4-dimensional Lorentzian manifold M\n"
     ]
    },
    {
     "data": {
      "text/html": [
       "<html><script type=\"math/tex; mode=display\">\\newcommand{\\Bold}[1]{\\mathbf{#1}}\\begin{array}{llcl} & M & \\longrightarrow & \\mathbb{R} \\\\ & \\left(t, x, y, z\\right) & \\longmapsto & -\\mu\\left(t, x, y, z\\right)^{2} \\end{array}</script></html>"
      ],
      "text/latex": [
       "$$\\newcommand{\\Bold}[1]{\\mathbf{#1}}\\begin{array}{llcl} & M & \\longrightarrow & \\mathbb{R} \\\\ & \\left(t, x, y, z\\right) & \\longmapsto & -\\mu\\left(t, x, y, z\\right)^{2} \\end{array}$$"
      ],
      "text/plain": [
       "M --> R\n",
       "(t, x, y, z) |--> -mu(t, x, y, z)^2"
      ]
     },
     "execution_count": 36,
     "metadata": {},
     "output_type": "execute_result"
    },
    {
     "data": {
      "text/html": [
       "<html><script type=\"math/tex; mode=display\">\\newcommand{\\Bold}[1]{\\mathbf{#1}}\\begin{array}{llcl} & M & \\longrightarrow & \\mathbb{R} \\\\ & \\left(t, x, y, z\\right) & \\longmapsto & -\\mu\\left(t, x, y, z\\right)^{2} \\end{array}</script></html>"
      ],
      "text/latex": [
       "$$\\newcommand{\\Bold}[1]{\\mathbf{#1}}\\begin{array}{llcl} & M & \\longrightarrow & \\mathbb{R} \\\\ & \\left(t, x, y, z\\right) & \\longmapsto & -\\mu\\left(t, x, y, z\\right)^{2} \\end{array}$$"
      ],
      "text/plain": [
       "M --> R\n",
       "(t, x, y, z) |--> -mu(t, x, y, z)^2"
      ]
     },
     "execution_count": 36,
     "metadata": {},
     "output_type": "execute_result"
    }
   ],
   "source": [
    "# t3 = mu*(u_form * u_form)\n",
    "# u_form is a (0,1) tensor\n",
    "# u is a (1,0) tensor\n",
    "\n",
    "# auxiliary calculation\n",
    "t4 = mu*(u * u)\n",
    "\n",
    "# Calculating the contraction for the tensor t5 (F^a)\n",
    "F1 = t4.contract(0,u_form)\n",
    "\n",
    "# Calculating the contraction for the tensor t3 (F_a)\n",
    "F2 = t3. contract(0,u)\n",
    "\n",
    "F1.display()\n",
    "F2.display()\n",
    "\n",
    "# auxiliary calculation for the dec\n",
    "dec = F1.contract(0,F2)\n",
    "\n",
    "print(dec)\n",
    "dec.display() # it is satisfied as long as F^a F_a \\leq 0"
   ]
  },
  {
   "cell_type": "markdown",
   "metadata": {},
   "source": [
    "## 5.3 Second condition for DEC\n",
    "\n",
    "Calculating the condition $T^{\\alpha \\beta} \\, u_\\alpha u_\\beta \\geq 0$."
   ]
  },
  {
   "cell_type": "code",
   "execution_count": 37,
   "metadata": {},
   "outputs": [
    {
     "data": {
      "text/html": [
       "<html><script type=\"math/tex; mode=display\">\\newcommand{\\Bold}[1]{\\mathbf{#1}}\\begin{array}{llcl} & M & \\longrightarrow & \\mathbb{R} \\\\ & \\left(t, x, y, z\\right) & \\longmapsto & \\mu\\left(t, x, y, z\\right) \\end{array}</script></html>"
      ],
      "text/latex": [
       "$$\\newcommand{\\Bold}[1]{\\mathbf{#1}}\\begin{array}{llcl} & M & \\longrightarrow & \\mathbb{R} \\\\ & \\left(t, x, y, z\\right) & \\longmapsto & \\mu\\left(t, x, y, z\\right) \\end{array}$$"
      ],
      "text/plain": [
       "M --> R\n",
       "(t, x, y, z) |--> mu(t, x, y, z)"
      ]
     },
     "execution_count": 37,
     "metadata": {},
     "output_type": "execute_result"
    },
    {
     "data": {
      "text/html": [
       "<html><script type=\"math/tex; mode=display\">\\newcommand{\\Bold}[1]{\\mathbf{#1}}\\begin{array}{llcl} & M & \\longrightarrow & \\mathbb{R} \\\\ & \\left(t, x, y, z\\right) & \\longmapsto & \\mu\\left(t, x, y, z\\right) \\end{array}</script></html>"
      ],
      "text/latex": [
       "$$\\newcommand{\\Bold}[1]{\\mathbf{#1}}\\begin{array}{llcl} & M & \\longrightarrow & \\mathbb{R} \\\\ & \\left(t, x, y, z\\right) & \\longmapsto & \\mu\\left(t, x, y, z\\right) \\end{array}$$"
      ],
      "text/plain": [
       "M --> R\n",
       "(t, x, y, z) |--> mu(t, x, y, z)"
      ]
     },
     "execution_count": 37,
     "metadata": {},
     "output_type": "execute_result"
    }
   ],
   "source": [
    "# u is (1,0)\n",
    "# u_form is (0,1)\n",
    "# t1 = u*u\n",
    "# t2 = G.contract(0,1, t1,0,1)\n",
    "# t3 = mu*(u_form * u_form)\n",
    "# t4 = mu*(u * u)\n",
    "# t_dust = mu*(u_form * u_form)\n",
    "\n",
    "dec2 = t4.contract(0,1, u_form*u_form,0,1)\n",
    "dec2.display()"
   ]
  },
  {
   "cell_type": "markdown",
   "metadata": {},
   "source": [
    "## 5.3. Strong Energy Condition\n",
    "\n",
    "This case means the following inequality\n",
    "\\begin{equation}\n",
    "\\left(T_{\\alpha \\beta} - \\frac{1}{2}T \\, g_{\\alpha \\beta} \\right) \n",
    "u^\\alpha u^\\beta \\geq 0\n",
    "\\label{SEC}\n",
    "\\end{equation}\n",
    "for any timelike vector $u$. This is a stronger requirement than \n",
    "the WEC and only makes sense in the framework of general relativity,\n",
    "since it takes into account the Einstein's equations. This condition\n",
    "implies that gravity is always attractive. To calculate the SEC one\n",
    "must start with the scalars $T$ and $g_{\\alpha \\beta} u^\\alpha u^\\beta$."
   ]
  },
  {
   "cell_type": "code",
   "execution_count": 38,
   "metadata": {},
   "outputs": [
    {
     "data": {
      "text/html": [
       "<html><script type=\"math/tex; mode=display\">\\newcommand{\\Bold}[1]{\\mathbf{#1}}\\begin{array}{llcl} & M & \\longrightarrow & \\mathbb{R} \\\\ & \\left(t, x, y, z\\right) & \\longmapsto & \\frac{1}{2} \\, \\mu\\left(t, x, y, z\\right) \\end{array}</script></html>"
      ],
      "text/latex": [
       "$$\\newcommand{\\Bold}[1]{\\mathbf{#1}}\\begin{array}{llcl} & M & \\longrightarrow & \\mathbb{R} \\\\ & \\left(t, x, y, z\\right) & \\longmapsto & \\frac{1}{2} \\, \\mu\\left(t, x, y, z\\right) \\end{array}$$"
      ],
      "text/plain": [
       "M --> R\n",
       "(t, x, y, z) |--> 1/2*mu(t, x, y, z)"
      ]
     },
     "execution_count": 38,
     "metadata": {},
     "output_type": "execute_result"
    },
    {
     "data": {
      "text/html": [
       "<html><script type=\"math/tex; mode=display\">\\newcommand{\\Bold}[1]{\\mathbf{#1}}\\begin{array}{llcl} & M & \\longrightarrow & \\mathbb{R} \\\\ & \\left(t, x, y, z\\right) & \\longmapsto & \\frac{1}{2} \\, \\mu\\left(t, x, y, z\\right) \\end{array}</script></html>"
      ],
      "text/latex": [
       "$$\\newcommand{\\Bold}[1]{\\mathbf{#1}}\\begin{array}{llcl} & M & \\longrightarrow & \\mathbb{R} \\\\ & \\left(t, x, y, z\\right) & \\longmapsto & \\frac{1}{2} \\, \\mu\\left(t, x, y, z\\right) \\end{array}$$"
      ],
      "text/plain": [
       "M --> R\n",
       "(t, x, y, z) |--> 1/2*mu(t, x, y, z)"
      ]
     },
     "execution_count": 38,
     "metadata": {},
     "output_type": "execute_result"
    }
   ],
   "source": [
    "# Strong Energy Conditions\n",
    "\n",
    "# u is (1,0)\n",
    "# u_form is (0,1)\n",
    "# t1 = u*u\n",
    "# t2 = G.contract(0,1, t1,0,1)\n",
    "# t3 = mu*(u_form * u_form)\n",
    "# t4 = mu*(u * u)\n",
    "# t_dust = mu*(u_form * u_form)\n",
    "\n",
    "# T = \n",
    "t_scalar = t_dust.contract(0,1, gg,0,1)\n",
    "\n",
    "# t5 is the tensor T_{ab} - T g_{ab}/2\n",
    "t5 = (t_dust - t_scalar*g/2)\n",
    "t5.set_name('T')\n",
    "\n",
    "sec = t5.contract(0,1,t1,0,1)\n",
    "sec.display()"
   ]
  },
  {
   "cell_type": "code",
   "execution_count": 39,
   "metadata": {},
   "outputs": [
    {
     "data": {
      "text/html": [
       "<html><script type=\"math/tex; mode=display\">\\newcommand{\\Bold}[1]{\\mathbf{#1}}\\begin{array}{lcl} T_{ \\, t \\, t }^{ \\phantom{\\, t}\\phantom{\\, t} } & = & \\frac{1}{2} \\, {\\left(\\beta\\left(t, x, y, z\\right)^{2} + 1\\right)} \\mu\\left(t, x, y, z\\right) \\\\ T_{ \\, t \\, x }^{ \\phantom{\\, t}\\phantom{\\, x} } & = & -\\frac{1}{2} \\, \\beta\\left(t, x, y, z\\right) \\mu\\left(t, x, y, z\\right) \\\\ T_{ \\, x \\, t }^{ \\phantom{\\, x}\\phantom{\\, t} } & = & -\\frac{1}{2} \\, \\beta\\left(t, x, y, z\\right) \\mu\\left(t, x, y, z\\right) \\\\ T_{ \\, x \\, x }^{ \\phantom{\\, x}\\phantom{\\, x} } & = & \\frac{1}{2} \\, \\mu\\left(t, x, y, z\\right) \\\\ T_{ \\, y \\, y }^{ \\phantom{\\, y}\\phantom{\\, y} } & = & \\frac{1}{2} \\, \\mu\\left(t, x, y, z\\right) \\\\ T_{ \\, z \\, z }^{ \\phantom{\\, z}\\phantom{\\, z} } & = & \\frac{1}{2} \\, \\mu\\left(t, x, y, z\\right) \\end{array}</script></html>"
      ],
      "text/latex": [
       "$$\\newcommand{\\Bold}[1]{\\mathbf{#1}}\\begin{array}{lcl} T_{ \\, t \\, t }^{ \\phantom{\\, t}\\phantom{\\, t} } & = & \\frac{1}{2} \\, {\\left(\\beta\\left(t, x, y, z\\right)^{2} + 1\\right)} \\mu\\left(t, x, y, z\\right) \\\\ T_{ \\, t \\, x }^{ \\phantom{\\, t}\\phantom{\\, x} } & = & -\\frac{1}{2} \\, \\beta\\left(t, x, y, z\\right) \\mu\\left(t, x, y, z\\right) \\\\ T_{ \\, x \\, t }^{ \\phantom{\\, x}\\phantom{\\, t} } & = & -\\frac{1}{2} \\, \\beta\\left(t, x, y, z\\right) \\mu\\left(t, x, y, z\\right) \\\\ T_{ \\, x \\, x }^{ \\phantom{\\, x}\\phantom{\\, x} } & = & \\frac{1}{2} \\, \\mu\\left(t, x, y, z\\right) \\\\ T_{ \\, y \\, y }^{ \\phantom{\\, y}\\phantom{\\, y} } & = & \\frac{1}{2} \\, \\mu\\left(t, x, y, z\\right) \\\\ T_{ \\, z \\, z }^{ \\phantom{\\, z}\\phantom{\\, z} } & = & \\frac{1}{2} \\, \\mu\\left(t, x, y, z\\right) \\end{array}$$"
      ],
      "text/plain": [
       "T_tt = 1/2*(betax(t, x, y, z)^2 + 1)*mu(t, x, y, z) \n",
       "T_tx = -1/2*betax(t, x, y, z)*mu(t, x, y, z) \n",
       "T_xt = -1/2*betax(t, x, y, z)*mu(t, x, y, z) \n",
       "T_xx = 1/2*mu(t, x, y, z) \n",
       "T_yy = 1/2*mu(t, x, y, z) \n",
       "T_zz = 1/2*mu(t, x, y, z) "
      ]
     },
     "execution_count": 39,
     "metadata": {},
     "output_type": "execute_result"
    },
    {
     "data": {
      "text/html": [
       "<html><script type=\"math/tex; mode=display\">\\newcommand{\\Bold}[1]{\\mathbf{#1}}\\begin{array}{lcl} T_{ \\, t \\, t }^{ \\phantom{\\, t}\\phantom{\\, t} } & = & \\frac{1}{2} \\, {\\left(\\beta\\left(t, x, y, z\\right)^{2} + 1\\right)} \\mu\\left(t, x, y, z\\right) \\\\ T_{ \\, t \\, x }^{ \\phantom{\\, t}\\phantom{\\, x} } & = & -\\frac{1}{2} \\, \\beta\\left(t, x, y, z\\right) \\mu\\left(t, x, y, z\\right) \\\\ T_{ \\, x \\, t }^{ \\phantom{\\, x}\\phantom{\\, t} } & = & -\\frac{1}{2} \\, \\beta\\left(t, x, y, z\\right) \\mu\\left(t, x, y, z\\right) \\\\ T_{ \\, x \\, x }^{ \\phantom{\\, x}\\phantom{\\, x} } & = & \\frac{1}{2} \\, \\mu\\left(t, x, y, z\\right) \\\\ T_{ \\, y \\, y }^{ \\phantom{\\, y}\\phantom{\\, y} } & = & \\frac{1}{2} \\, \\mu\\left(t, x, y, z\\right) \\\\ T_{ \\, z \\, z }^{ \\phantom{\\, z}\\phantom{\\, z} } & = & \\frac{1}{2} \\, \\mu\\left(t, x, y, z\\right) \\end{array}</script></html>"
      ],
      "text/latex": [
       "$$\\newcommand{\\Bold}[1]{\\mathbf{#1}}\\begin{array}{lcl} T_{ \\, t \\, t }^{ \\phantom{\\, t}\\phantom{\\, t} } & = & \\frac{1}{2} \\, {\\left(\\beta\\left(t, x, y, z\\right)^{2} + 1\\right)} \\mu\\left(t, x, y, z\\right) \\\\ T_{ \\, t \\, x }^{ \\phantom{\\, t}\\phantom{\\, x} } & = & -\\frac{1}{2} \\, \\beta\\left(t, x, y, z\\right) \\mu\\left(t, x, y, z\\right) \\\\ T_{ \\, x \\, t }^{ \\phantom{\\, x}\\phantom{\\, t} } & = & -\\frac{1}{2} \\, \\beta\\left(t, x, y, z\\right) \\mu\\left(t, x, y, z\\right) \\\\ T_{ \\, x \\, x }^{ \\phantom{\\, x}\\phantom{\\, x} } & = & \\frac{1}{2} \\, \\mu\\left(t, x, y, z\\right) \\\\ T_{ \\, y \\, y }^{ \\phantom{\\, y}\\phantom{\\, y} } & = & \\frac{1}{2} \\, \\mu\\left(t, x, y, z\\right) \\\\ T_{ \\, z \\, z }^{ \\phantom{\\, z}\\phantom{\\, z} } & = & \\frac{1}{2} \\, \\mu\\left(t, x, y, z\\right) \\end{array}$$"
      ],
      "text/plain": [
       "T_tt = 1/2*(betax(t, x, y, z)^2 + 1)*mu(t, x, y, z) \n",
       "T_tx = -1/2*betax(t, x, y, z)*mu(t, x, y, z) \n",
       "T_xt = -1/2*betax(t, x, y, z)*mu(t, x, y, z) \n",
       "T_xx = 1/2*mu(t, x, y, z) \n",
       "T_yy = 1/2*mu(t, x, y, z) \n",
       "T_zz = 1/2*mu(t, x, y, z) "
      ]
     },
     "execution_count": 39,
     "metadata": {},
     "output_type": "execute_result"
    }
   ],
   "source": [
    "t5.display_comp()"
   ]
  },
  {
   "cell_type": "code",
   "execution_count": 40,
   "metadata": {},
   "outputs": [
    {
     "name": "stdout",
     "output_type": "stream",
     "text": [
      "Scalar field on the 4-dimensional Lorentzian manifold M\n"
     ]
    },
    {
     "data": {
      "text/html": [
       "<html><script type=\"math/tex; mode=display\">\\newcommand{\\Bold}[1]{\\mathbf{#1}}\\begin{array}{llcl} & M & \\longrightarrow & \\mathbb{R} \\\\ & \\left(t, x, y, z\\right) & \\longmapsto & -\\mu\\left(t, x, y, z\\right) \\end{array}</script></html>"
      ],
      "text/latex": [
       "$$\\newcommand{\\Bold}[1]{\\mathbf{#1}}\\begin{array}{llcl} & M & \\longrightarrow & \\mathbb{R} \\\\ & \\left(t, x, y, z\\right) & \\longmapsto & -\\mu\\left(t, x, y, z\\right) \\end{array}$$"
      ],
      "text/plain": [
       "M --> R\n",
       "(t, x, y, z) |--> -mu(t, x, y, z)"
      ]
     },
     "execution_count": 40,
     "metadata": {},
     "output_type": "execute_result"
    },
    {
     "name": "stdout",
     "output_type": "stream",
     "text": [
      "Scalar field on the 4-dimensional Lorentzian manifold M\n"
     ]
    },
    {
     "data": {
      "text/html": [
       "<html><script type=\"math/tex; mode=display\">\\newcommand{\\Bold}[1]{\\mathbf{#1}}\\begin{array}{llcl} & M & \\longrightarrow & \\mathbb{R} \\\\ & \\left(t, x, y, z\\right) & \\longmapsto & -\\mu\\left(t, x, y, z\\right) \\end{array}</script></html>"
      ],
      "text/latex": [
       "$$\\newcommand{\\Bold}[1]{\\mathbf{#1}}\\begin{array}{llcl} & M & \\longrightarrow & \\mathbb{R} \\\\ & \\left(t, x, y, z\\right) & \\longmapsto & -\\mu\\left(t, x, y, z\\right) \\end{array}$$"
      ],
      "text/plain": [
       "M --> R\n",
       "(t, x, y, z) |--> -mu(t, x, y, z)"
      ]
     },
     "execution_count": 40,
     "metadata": {},
     "output_type": "execute_result"
    }
   ],
   "source": [
    "print(t_scalar)\n",
    "t_scalar.display()"
   ]
  },
  {
   "cell_type": "markdown",
   "metadata": {},
   "source": [
    "## 5.3. Null Energy Condition\n",
    "\n",
    "These are satisfied in the limit of null observers. For the null vector\n",
    "$\\textbf{k}$, the EMT satisfies\n",
    "\n",
    "\\begin{equation}\n",
    "T_{\\alpha \\sigma} \\, k^\\alpha k^\\sigma \\geq 0, \\ \\text{for any null vector} \n",
    "\\ k^\\alpha.\n",
    "\\end{equation}\n",
    "\n",
    "Let us now suppose the following null vector $k^\\alpha$,\n",
    "\n",
    "\\begin{equation}\n",
    "k^\\alpha = (a,b,0,0),    \n",
    "\\end{equation}\n",
    "\n",
    "and the covector $k_\\alpha$ is given by the following expression\n",
    "\n",
    "\\begin{equation}\n",
    "k_\\alpha  = g_{\\alpha \\sigma}k^\\sigma = (a \\beta^2 - b \\beta - a, \\, a - b \\beta, \\, 0, \\,0).  \n",
    "\\end{equation}\n",
    "\n",
    "The relation between $a$ and $b$ can be obtained by imposing the condition of orthogonality between the two 4-vectors, which means $k_\\alpha k^\\alpha = 0$ given by\n",
    "\n",
    "\\begin{equation}\n",
    "a^2  \\beta^2 - 2 a b \\beta - a^2 + b^2 = 0.\n",
    "\\end{equation}\n",
    "\n",
    "Solving the above expression for $a$ as a quadratic equation gives\n",
    "\n",
    "\\begin{equation}\n",
    "a = \\frac{b}{\\beta + 1} \\ \\ , \\ \\ a = \\frac{b}{\\beta - 1}.\n",
    "\\end{equation}"
   ]
  },
  {
   "cell_type": "code",
   "execution_count": 41,
   "metadata": {},
   "outputs": [
    {
     "data": {
      "text/html": [
       "<html><script type=\"math/tex; mode=display\">\\newcommand{\\Bold}[1]{\\mathbf{#1}}\\begin{array}{llcl} & M & \\longrightarrow & \\mathbb{R} \\\\ & \\left(t, x, y, z\\right) & \\longmapsto & {k_0}^{2} \\mu\\left(t, x, y, z\\right) \\end{array}</script></html>"
      ],
      "text/latex": [
       "$$\\newcommand{\\Bold}[1]{\\mathbf{#1}}\\begin{array}{llcl} & M & \\longrightarrow & \\mathbb{R} \\\\ & \\left(t, x, y, z\\right) & \\longmapsto & {k_0}^{2} \\mu\\left(t, x, y, z\\right) \\end{array}$$"
      ],
      "text/plain": [
       "M --> R\n",
       "(t, x, y, z) |--> k0^2*mu(t, x, y, z)"
      ]
     },
     "execution_count": 41,
     "metadata": {},
     "output_type": "execute_result"
    },
    {
     "data": {
      "text/html": [
       "<html><script type=\"math/tex; mode=display\">\\newcommand{\\Bold}[1]{\\mathbf{#1}}\\begin{array}{llcl} & M & \\longrightarrow & \\mathbb{R} \\\\ & \\left(t, x, y, z\\right) & \\longmapsto & {k_0}^{2} \\mu\\left(t, x, y, z\\right) \\end{array}</script></html>"
      ],
      "text/latex": [
       "$$\\newcommand{\\Bold}[1]{\\mathbf{#1}}\\begin{array}{llcl} & M & \\longrightarrow & \\mathbb{R} \\\\ & \\left(t, x, y, z\\right) & \\longmapsto & {k_0}^{2} \\mu\\left(t, x, y, z\\right) \\end{array}$$"
      ],
      "text/plain": [
       "M --> R\n",
       "(t, x, y, z) |--> k0^2*mu(t, x, y, z)"
      ]
     },
     "execution_count": 41,
     "metadata": {},
     "output_type": "execute_result"
    }
   ],
   "source": [
    "# Null Energy Condition\n",
    "\n",
    "# t1 = u*u\n",
    "# t2 = G.contract(0,1, t1,0,1)\n",
    "# t3 = mu*(u_form * u_form)\n",
    "# t4 = mu*(u * u)\n",
    "# t_dust = mu*(u_form * u_form)\n",
    "# k0 and k1 are components of the vector field k\n",
    "\n",
    "k0 = var('k0',latex_name=\"k_0\")\n",
    "k1 = var('k1',latex_name=\"k_1\")\n",
    "\n",
    "# k is a vector field\n",
    "k = M.vector_field('k')\n",
    "k[0] = k0\n",
    "k[1] = k1\n",
    "\n",
    "# kcon is a covariant vector or a 1-form\n",
    "kcon = k.down(g)\n",
    "kcon.set_name('k')\n",
    "\n",
    "# kkcon is a scalar field on M\n",
    "kkcon = k.contract(0,kcon)\n",
    "kkcon.display()\n",
    "\n",
    "#\n",
    "t6 = k * k\n",
    "\n",
    "nec = t3.contract(0,1,t6,0,1)\n",
    "nec.display()"
   ]
  },
  {
   "cell_type": "markdown",
   "metadata": {},
   "source": [
    "## Defining the (contravariant) 4-vector k^j = (a,b,0,0)"
   ]
  },
  {
   "cell_type": "code",
   "execution_count": 42,
   "metadata": {},
   "outputs": [
    {
     "name": "stdout",
     "output_type": "stream",
     "text": [
      "Vector field k on the 4-dimensional Lorentzian manifold M\n",
      "(1, 0)\n"
     ]
    },
    {
     "data": {
      "text/html": [
       "<html><script type=\"math/tex; mode=display\">\\newcommand{\\Bold}[1]{\\mathbf{#1}}\\begin{array}{lcl} k_{\\phantom{\\, t}}^{ \\, t } & = & {k_0} \\\\ k_{\\phantom{\\, x}}^{ \\, x } & = & {k_1} \\end{array}</script></html>"
      ],
      "text/latex": [
       "$$\\newcommand{\\Bold}[1]{\\mathbf{#1}}\\begin{array}{lcl} k_{\\phantom{\\, t}}^{ \\, t } & = & {k_0} \\\\ k_{\\phantom{\\, x}}^{ \\, x } & = & {k_1} \\end{array}$$"
      ],
      "text/plain": [
       "k^t = k0 \n",
       "k^x = k1 "
      ]
     },
     "execution_count": 42,
     "metadata": {},
     "output_type": "execute_result"
    },
    {
     "name": "stdout",
     "output_type": "stream",
     "text": [
      "Vector field k on the 4-dimensional Lorentzian manifold M\n",
      "(1, 0)\n"
     ]
    },
    {
     "data": {
      "text/html": [
       "<html><script type=\"math/tex; mode=display\">\\newcommand{\\Bold}[1]{\\mathbf{#1}}\\begin{array}{lcl} k_{\\phantom{\\, t}}^{ \\, t } & = & {k_0} \\\\ k_{\\phantom{\\, x}}^{ \\, x } & = & {k_1} \\end{array}</script></html>"
      ],
      "text/latex": [
       "$$\\newcommand{\\Bold}[1]{\\mathbf{#1}}\\begin{array}{lcl} k_{\\phantom{\\, t}}^{ \\, t } & = & {k_0} \\\\ k_{\\phantom{\\, x}}^{ \\, x } & = & {k_1} \\end{array}$$"
      ],
      "text/plain": [
       "k^t = k0 \n",
       "k^x = k1 "
      ]
     },
     "execution_count": 42,
     "metadata": {},
     "output_type": "execute_result"
    }
   ],
   "source": [
    "print(k)\n",
    "print(k.tensor_type())\n",
    "k.display_comp()"
   ]
  },
  {
   "cell_type": "markdown",
   "metadata": {},
   "source": [
    "## Calculating the covector (1-form) k_j"
   ]
  },
  {
   "cell_type": "code",
   "execution_count": 43,
   "metadata": {},
   "outputs": [
    {
     "name": "stdout",
     "output_type": "stream",
     "text": [
      "1-form k on the 4-dimensional Lorentzian manifold M\n",
      "(0, 1)\n"
     ]
    },
    {
     "data": {
      "text/html": [
       "<html><script type=\"math/tex; mode=display\">\\newcommand{\\Bold}[1]{\\mathbf{#1}}\\begin{array}{lcl} k_{ \\, t }^{ \\phantom{\\, t} } & = & {k_0} \\beta\\left(t, x, y, z\\right)^{2} - {k_1} \\beta\\left(t, x, y, z\\right) - {k_0} \\\\ k_{ \\, x }^{ \\phantom{\\, x} } & = & -{k_0} \\beta\\left(t, x, y, z\\right) + {k_1} \\end{array}</script></html>"
      ],
      "text/latex": [
       "$$\\newcommand{\\Bold}[1]{\\mathbf{#1}}\\begin{array}{lcl} k_{ \\, t }^{ \\phantom{\\, t} } & = & {k_0} \\beta\\left(t, x, y, z\\right)^{2} - {k_1} \\beta\\left(t, x, y, z\\right) - {k_0} \\\\ k_{ \\, x }^{ \\phantom{\\, x} } & = & -{k_0} \\beta\\left(t, x, y, z\\right) + {k_1} \\end{array}$$"
      ],
      "text/plain": [
       "k_t = k0*betax(t, x, y, z)^2 - k1*betax(t, x, y, z) - k0 \n",
       "k_x = -k0*betax(t, x, y, z) + k1 "
      ]
     },
     "execution_count": 43,
     "metadata": {},
     "output_type": "execute_result"
    },
    {
     "name": "stdout",
     "output_type": "stream",
     "text": [
      "1-form k on the 4-dimensional Lorentzian manifold M\n",
      "(0, 1)\n"
     ]
    },
    {
     "data": {
      "text/html": [
       "<html><script type=\"math/tex; mode=display\">\\newcommand{\\Bold}[1]{\\mathbf{#1}}\\begin{array}{lcl} k_{ \\, t }^{ \\phantom{\\, t} } & = & {k_0} \\beta\\left(t, x, y, z\\right)^{2} - {k_1} \\beta\\left(t, x, y, z\\right) - {k_0} \\\\ k_{ \\, x }^{ \\phantom{\\, x} } & = & -{k_0} \\beta\\left(t, x, y, z\\right) + {k_1} \\end{array}</script></html>"
      ],
      "text/latex": [
       "$$\\newcommand{\\Bold}[1]{\\mathbf{#1}}\\begin{array}{lcl} k_{ \\, t }^{ \\phantom{\\, t} } & = & {k_0} \\beta\\left(t, x, y, z\\right)^{2} - {k_1} \\beta\\left(t, x, y, z\\right) - {k_0} \\\\ k_{ \\, x }^{ \\phantom{\\, x} } & = & -{k_0} \\beta\\left(t, x, y, z\\right) + {k_1} \\end{array}$$"
      ],
      "text/plain": [
       "k_t = k0*betax(t, x, y, z)^2 - k1*betax(t, x, y, z) - k0 \n",
       "k_x = -k0*betax(t, x, y, z) + k1 "
      ]
     },
     "execution_count": 43,
     "metadata": {},
     "output_type": "execute_result"
    }
   ],
   "source": [
    "print(kcon)\n",
    "print(kcon.tensor_type())\n",
    "kcon.display_comp()"
   ]
  },
  {
   "cell_type": "markdown",
   "metadata": {},
   "source": [
    "## Calculating the scalar k^a k_a "
   ]
  },
  {
   "cell_type": "code",
   "execution_count": 44,
   "metadata": {},
   "outputs": [
    {
     "name": "stdout",
     "output_type": "stream",
     "text": [
      "Scalar field on the 4-dimensional Lorentzian manifold M\n"
     ]
    },
    {
     "data": {
      "text/html": [
       "<html><script type=\"math/tex; mode=display\">\\newcommand{\\Bold}[1]{\\mathbf{#1}}\\begin{array}{llcl} & M & \\longrightarrow & \\mathbb{R} \\\\ & \\left(t, x, y, z\\right) & \\longmapsto & {k_0}^{2} \\beta\\left(t, x, y, z\\right)^{2} - 2 \\, {k_0} {k_1} \\beta\\left(t, x, y, z\\right) - {k_0}^{2} + {k_1}^{2} \\end{array}</script></html>"
      ],
      "text/latex": [
       "$$\\newcommand{\\Bold}[1]{\\mathbf{#1}}\\begin{array}{llcl} & M & \\longrightarrow & \\mathbb{R} \\\\ & \\left(t, x, y, z\\right) & \\longmapsto & {k_0}^{2} \\beta\\left(t, x, y, z\\right)^{2} - 2 \\, {k_0} {k_1} \\beta\\left(t, x, y, z\\right) - {k_0}^{2} + {k_1}^{2} \\end{array}$$"
      ],
      "text/plain": [
       "M --> R\n",
       "(t, x, y, z) |--> k0^2*betax(t, x, y, z)^2 - 2*k0*k1*betax(t, x, y, z) - k0^2 + k1^2"
      ]
     },
     "execution_count": 44,
     "metadata": {},
     "output_type": "execute_result"
    },
    {
     "name": "stdout",
     "output_type": "stream",
     "text": [
      "Scalar field on the 4-dimensional Lorentzian manifold M\n"
     ]
    },
    {
     "data": {
      "text/html": [
       "<html><script type=\"math/tex; mode=display\">\\newcommand{\\Bold}[1]{\\mathbf{#1}}\\begin{array}{llcl} & M & \\longrightarrow & \\mathbb{R} \\\\ & \\left(t, x, y, z\\right) & \\longmapsto & {k_0}^{2} \\beta\\left(t, x, y, z\\right)^{2} - 2 \\, {k_0} {k_1} \\beta\\left(t, x, y, z\\right) - {k_0}^{2} + {k_1}^{2} \\end{array}</script></html>"
      ],
      "text/latex": [
       "$$\\newcommand{\\Bold}[1]{\\mathbf{#1}}\\begin{array}{llcl} & M & \\longrightarrow & \\mathbb{R} \\\\ & \\left(t, x, y, z\\right) & \\longmapsto & {k_0}^{2} \\beta\\left(t, x, y, z\\right)^{2} - 2 \\, {k_0} {k_1} \\beta\\left(t, x, y, z\\right) - {k_0}^{2} + {k_1}^{2} \\end{array}$$"
      ],
      "text/plain": [
       "M --> R\n",
       "(t, x, y, z) |--> k0^2*betax(t, x, y, z)^2 - 2*k0*k1*betax(t, x, y, z) - k0^2 + k1^2"
      ]
     },
     "execution_count": 44,
     "metadata": {},
     "output_type": "execute_result"
    }
   ],
   "source": [
    "print(kkcon)\n",
    "kkcon.display()"
   ]
  },
  {
   "cell_type": "markdown",
   "metadata": {},
   "source": [
    "## Solving the equation k^a k_a = 0"
   ]
  },
  {
   "cell_type": "code",
   "execution_count": 45,
   "metadata": {},
   "outputs": [
    {
     "data": {
      "text/html": [
       "<html><script type=\"math/tex; mode=display\">\\newcommand{\\Bold}[1]{\\mathbf{#1}}{k_0}^{2} \\beta\\left(t, x, y, z\\right)^{2} - 2 \\, {k_0} {k_1} \\beta\\left(t, x, y, z\\right) - {k_0}^{2} + {k_1}^{2}</script></html>"
      ],
      "text/latex": [
       "$$\\newcommand{\\Bold}[1]{\\mathbf{#1}}{k_0}^{2} \\beta\\left(t, x, y, z\\right)^{2} - 2 \\, {k_0} {k_1} \\beta\\left(t, x, y, z\\right) - {k_0}^{2} + {k_1}^{2}$$"
      ],
      "text/plain": [
       "k0^2*betax(t, x, y, z)^2 - 2*k0*k1*betax(t, x, y, z) - k0^2 + k1^2"
      ]
     },
     "execution_count": 45,
     "metadata": {},
     "output_type": "execute_result"
    },
    {
     "data": {
      "text/html": [
       "<html><script type=\"math/tex; mode=display\">\\newcommand{\\Bold}[1]{\\mathbf{#1}}{k_0}^{2} \\beta\\left(t, x, y, z\\right)^{2} - 2 \\, {k_0} {k_1} \\beta\\left(t, x, y, z\\right) - {k_0}^{2} + {k_1}^{2}</script></html>"
      ],
      "text/latex": [
       "$$\\newcommand{\\Bold}[1]{\\mathbf{#1}}{k_0}^{2} \\beta\\left(t, x, y, z\\right)^{2} - 2 \\, {k_0} {k_1} \\beta\\left(t, x, y, z\\right) - {k_0}^{2} + {k_1}^{2}$$"
      ],
      "text/plain": [
       "k0^2*betax(t, x, y, z)^2 - 2*k0*k1*betax(t, x, y, z) - k0^2 + k1^2"
      ]
     },
     "execution_count": 45,
     "metadata": {},
     "output_type": "execute_result"
    }
   ],
   "source": [
    "qe = k0^2 * betax^2 - 2 * k0 * k1 * betax - k0^2 + k1^2\n",
    "qe"
   ]
  },
  {
   "cell_type": "code",
   "execution_count": 46,
   "metadata": {},
   "outputs": [
    {
     "data": {
      "text/html": [
       "<html><script type=\"math/tex; mode=display\">\\newcommand{\\Bold}[1]{\\mathbf{#1}}\\left[{k_0} = \\frac{{k_1}}{\\beta\\left(t, x, y, z\\right) + 1}, {k_0} = \\frac{{k_1}}{\\beta\\left(t, x, y, z\\right) - 1}\\right]</script></html>"
      ],
      "text/latex": [
       "$$\\newcommand{\\Bold}[1]{\\mathbf{#1}}\\left[{k_0} = \\frac{{k_1}}{\\beta\\left(t, x, y, z\\right) + 1}, {k_0} = \\frac{{k_1}}{\\beta\\left(t, x, y, z\\right) - 1}\\right]$$"
      ],
      "text/plain": [
       "[k0 == k1/(betax(t, x, y, z) + 1), k0 == k1/(betax(t, x, y, z) - 1)]"
      ]
     },
     "execution_count": 46,
     "metadata": {},
     "output_type": "execute_result"
    },
    {
     "data": {
      "text/html": [
       "<html><script type=\"math/tex; mode=display\">\\newcommand{\\Bold}[1]{\\mathbf{#1}}\\left[{k_0} = \\frac{{k_1}}{\\beta\\left(t, x, y, z\\right) + 1}, {k_0} = \\frac{{k_1}}{\\beta\\left(t, x, y, z\\right) - 1}\\right]</script></html>"
      ],
      "text/latex": [
       "$$\\newcommand{\\Bold}[1]{\\mathbf{#1}}\\left[{k_0} = \\frac{{k_1}}{\\beta\\left(t, x, y, z\\right) + 1}, {k_0} = \\frac{{k_1}}{\\beta\\left(t, x, y, z\\right) - 1}\\right]$$"
      ],
      "text/plain": [
       "[k0 == k1/(betax(t, x, y, z) + 1), k0 == k1/(betax(t, x, y, z) - 1)]"
      ]
     },
     "execution_count": 46,
     "metadata": {},
     "output_type": "execute_result"
    }
   ],
   "source": [
    "solve(qe, k0)"
   ]
  }
 ],
 "metadata": {
  "kernelspec": {
   "display_name": "SageMath 9.3",
   "language": "sage",
   "name": "sagemath"
  },
  "language_info": {
   "codemirror_mode": {
    "name": "ipython",
    "version": 3
   },
   "file_extension": ".py",
   "mimetype": "text/x-python",
   "name": "python",
   "nbconvert_exporter": "python",
   "pygments_lexer": "ipython3",
   "version": "3.7.10"
  }
 },
 "nbformat": 4,
 "nbformat_minor": 2
}
